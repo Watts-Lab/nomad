{
 "cells": [
  {
   "cell_type": "markdown",
   "id": "cecfa9f6-22ca-4c1c-8c54-d543a75196ad",
   "metadata": {},
   "source": [
    "# Example notebook to load and filter a raw data in S3"
   ]
  },
  {
   "cell_type": "code",
   "execution_count": 1,
   "id": "9ccfde12-7ddf-4ae4-85cb-e0189191685f",
   "metadata": {},
   "outputs": [],
   "source": [
    "import sys\n",
    "import os"
   ]
  },
  {
   "cell_type": "code",
   "execution_count": 2,
   "id": "f81124a6-3455-48e4-9870-0bcf024a61a7",
   "metadata": {},
   "outputs": [],
   "source": [
    "sys.path.insert(0, os.path.abspath(os.path.join(os.getcwd(), \"..\")))"
   ]
  },
  {
   "cell_type": "code",
   "execution_count": 3,
   "id": "f63a9184-59d6-4250-9d79-ce1b9d85ef65",
   "metadata": {},
   "outputs": [],
   "source": [
    "import pandas as pd\n",
    "import matplotlib.pyplot as plt\n",
    "import core.daphmeIO as loader\n",
    "import core.filters as filters"
   ]
  },
  {
   "cell_type": "markdown",
   "id": "c18f5221-5029-4197-baf4-bd8c240a8358",
   "metadata": {},
   "source": [
    "We load a sample of Gravy trajectory data for the Philadelphia area"
   ]
  },
  {
   "cell_type": "code",
   "execution_count": 4,
   "id": "0e0fd823-e7df-4305-931b-96d9dbabb422",
   "metadata": {},
   "outputs": [],
   "source": [
    "filepath = \"s3://phl-pings/gravy_clean/date=2019-11-01/\"\n",
    "filepath = '../data/sample3/'\n",
    "part_path = '../data/sample3/date=2024-01-07/aad4a23f7a90441aa0f55f06e5e4313d-0.parquet'\n",
    "\n",
    "traj_cols =  {\"user_id\":\"uid\",\n",
    "              \"latitude\":\"latitude\",\n",
    "              \"longitude\":\"longitude\",\n",
    "              \"datetime\":\"datetime\",\n",
    "              \"timestamp\":\"timestamp\"}"
   ]
  },
  {
   "cell_type": "markdown",
   "id": "80266a08-4e86-4ad5-ba75-6d49dcfb871d",
   "metadata": {},
   "source": [
    "### Get a sample of users"
   ]
  },
  {
   "cell_type": "code",
   "execution_count": 5,
   "id": "fd5b47a6-50be-437f-8dca-7530a23e48fe",
   "metadata": {},
   "outputs": [],
   "source": [
    "u_sample = loader.sample_users(part_path, format='parquet', frac_users=0.15, user_id='uid')"
   ]
  },
  {
   "cell_type": "markdown",
   "id": "1efcc208-017f-4b63-9d53-3c8d228303c1",
   "metadata": {},
   "source": [
    "### Load data for users in u_sample for 3 days"
   ]
  },
  {
   "cell_type": "code",
   "execution_count": 6,
   "id": "56798ae1-8c01-4e9d-b3fa-ecdbbf275307",
   "metadata": {},
   "outputs": [],
   "source": [
    "filepath = ['../data/sample3/date=2024-01-05/',\n",
    "            '../data/sample3/date=2024-01-06/',\n",
    "            '../data/sample3/date=2024-01-07/']\n",
    "data = loader.sample_from_file(filepath, users=u_sample, format='parquet', user_id = 'uid')"
   ]
  },
  {
   "cell_type": "markdown",
   "id": "6075b21d-345b-49a0-aa65-aa8c3a92b6e4",
   "metadata": {},
   "source": [
    "### Project coordinates to Web Mercator"
   ]
  },
  {
   "cell_type": "code",
   "execution_count": 7,
   "id": "be353786-e402-4140-9f17-b3eb2d7ec8c2",
   "metadata": {},
   "outputs": [],
   "source": [
    "data = filters.to_projection(data, latitude='latitude', longitude='longitude')"
   ]
  },
  {
   "cell_type": "markdown",
   "id": "0659a86f-1079-4503-989d-3ecc63cf8d4d",
   "metadata": {},
   "source": [
    "### Compute the q-statistic for the users in this sample"
   ]
  },
  {
   "cell_type": "code",
   "execution_count": 8,
   "id": "421a61b2-03d4-4773-99e3-6eb81632ac58",
   "metadata": {},
   "outputs": [],
   "source": [
    "q_stats = filters.q_stats(data, user_id='uid', timestamp='timestamp')"
   ]
  },
  {
   "cell_type": "code",
   "execution_count": 9,
   "id": "e3cdf555-412d-4de6-ac04-2c6434aa80b0",
   "metadata": {},
   "outputs": [
    {
     "data": {
      "image/png": "[encoded data removed]",
      "text/plain": [
       "<Figure size 400x300 with 1 Axes>"
      ]
     },
     "metadata": {},
     "output_type": "display_data"
    }
   ],
   "source": [
    "# Plotting the histogram\n",
    "\n",
    "plt.figure(figsize=(4, 3))\n",
    "plt.hist(q_stats['q_stat'], bins=20, edgecolor='black')\n",
    "plt.xlabel('Q Statistic')\n",
    "plt.ylabel('Frequency')\n",
    "plt.grid(axis='y', linestyle='--', alpha=0.7)\n",
    "plt.tight_layout()\n",
    "\n",
    "plt.show()"
   ]
  },
  {
   "cell_type": "code",
   "execution_count": null,
   "id": "c04072bd-1c03-4f2a-9a5a-dab376090165",
   "metadata": {},
   "outputs": [],
   "source": []
  }
 ],
 "metadata": {
  "kernelspec": {
   "display_name": "Python 3 (ipykernel)",
   "language": "python",
   "name": "python3"
  },
  "language_info": {
   "codemirror_mode": {
    "name": "ipython",
    "version": 3
   },
   "file_extension": ".py",
   "mimetype": "text/x-python",
   "name": "python",
   "nbconvert_exporter": "python",
   "pygments_lexer": "ipython3",
   "version": "3.12.3"
  }
 },
 "nbformat": 4,
 "nbformat_minor": 5
}

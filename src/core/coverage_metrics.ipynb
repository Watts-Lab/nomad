{
 "cells": [
  {
   "cell_type": "code",
   "execution_count": null,
   "id": "9a6cc023",
   "metadata": {
    "tags": []
   },
   "outputs": [],
   "source": [
    "import sys\n",
    "import os\n",
    "import warnings\n",
    "sys.path.insert(0, os.path.abspath(os.path.join(os.getcwd(), \"..\")))\n",
    "\n",
    "import pandas as pd\n",
    "import numpy as np\n",
    "from datetime import datetime, date, timedelta\n",
    "import matplotlib.pyplot as plt\n",
    "import matplotlib.dates as mdates\n",
    "import datetime\n",
    "\n",
    "import pyarrow as pa\n",
    "import pyarrow.parquet as pq\n",
    "from pyarrow import dataset as ds\n",
    "import s3fs\n",
    "s3 = s3fs.S3FileSystem()"
   ]
  },
  {
   "cell_type": "code",
   "execution_count": null,
   "id": "98fac2a4-f113-4881-bb50-4bd53ef7c55f",
   "metadata": {
    "tags": []
   },
   "outputs": [],
   "source": [
    "import geopandas as gpd\n",
    "from shapely import Polygon"
   ]
  },
  {
   "cell_type": "markdown",
   "id": "a8412676",
   "metadata": {},
   "source": [
    "## Load data/sample3"
   ]
  },
  {
   "cell_type": "code",
   "execution_count": null,
   "id": "b794c3ef",
   "metadata": {
    "tags": []
   },
   "outputs": [],
   "source": [
    "traj_cols = {'user_id':'uid',\n",
    "             'latitude':'latitude',\n",
    "             'longitude':'longitude',\n",
    "             'time':'timestamp'}\n",
    "\n",
    "path = '../data/sample3'\n",
    "single_user = False\n",
    "file_format = \"csv\"\n",
    "partitioning= \"hive\""
   ]
  },
  {
   "cell_type": "code",
   "execution_count": null,
   "id": "311df099",
   "metadata": {
    "tags": []
   },
   "outputs": [],
   "source": [
    "dataset = ds.dataset(path, format=\"parquet\", partitioning=\"hive\")\n",
    "df = dataset.to_table().to_pandas()\n",
    "df "
   ]
  },
  {
   "cell_type": "code",
   "execution_count": null,
   "id": "acf35b7c-5194-483d-9b4e-37299226cb43",
   "metadata": {
    "tags": []
   },
   "outputs": [],
   "source": [
    "# Calculate bounds from the latitude and longitude of the points\n",
    "min_lat = df['latitude'].min()\n",
    "max_lat = df['latitude'].max()\n",
    "min_lon = df['longitude'].min()\n",
    "max_lon = df['longitude'].max()\n",
    "\n",
    "# Define the center of the star and its size based on the bounds\n",
    "center_lat = (min_lat + max_lat) / 2\n",
    "center_lon = (min_lon + max_lon) / 2\n",
    "size = min(max_lat - min_lat, max_lon - min_lon) / 1.5  # Size of the star\n",
    "\n",
    "# Define the points for a 5-point star\n",
    "points = []\n",
    "for i in range(5):\n",
    "    # Outer points\n",
    "    outer_angle = i * 144 * (np.pi / 180)  # 144 degrees in radians\n",
    "    outer_x = center_lon + size * 0.5 * np.cos(outer_angle)\n",
    "    outer_y = center_lat + size * 0.5 * np.sin(outer_angle)\n",
    "    points.append((outer_x, outer_y))\n",
    "    \n",
    "    # Inner points\n",
    "    inner_angle = (i * 144 + 72) * (np.pi / 180)  # 72 degrees for inner points\n",
    "    inner_x = center_lon + size * 0.25 * np.cos(inner_angle)\n",
    "    inner_y = center_lat + size * 0.25 * np.sin(inner_angle)\n",
    "    points.append((inner_x, inner_y))\n",
    "\n",
    "# Create a Shapely polygon for the star\n",
    "star_polygon = Polygon(points)\n",
    "\n",
    "star_polygon  # Display the star polygon object"
   ]
  },
  {
   "cell_type": "code",
   "execution_count": null,
   "id": "c7641d5a-6060-4d6a-8623-97bab1a773a2",
   "metadata": {
    "tags": []
   },
   "outputs": [],
   "source": [
    "plt.figure(figsize=(10, 6))\n",
    "for uid, group in df.groupby('uid'):\n",
    "    plt.scatter(group['longitude'], group['latitude'], label=uid)\n",
    "\n",
    "# Extracting the x and y coordinates from the star polygon for plotting\n",
    "x, y = star_polygon.exterior.xy\n",
    "\n",
    "# Plotting the star polygon\n",
    "plt.fill(x, y, alpha=0.5, fc='orange', ec='black', label='Star Polygon')\n",
    "    \n",
    "plt.title('Geographical Points Plot')\n",
    "plt.xlabel('Longitude')\n",
    "plt.ylabel('Latitude')\n",
    "plt.grid()\n",
    "plt.show()"
   ]
  },
  {
   "cell_type": "code",
   "execution_count": null,
   "id": "d5bb6a4b-b95f-44e5-85b1-fcf60601b96d",
   "metadata": {
    "tags": []
   },
   "outputs": [],
   "source": [
    "polygon = star_polygon\n",
    "min_x, min_y, max_x, max_y = polygon.bounds"
   ]
  },
  {
   "cell_type": "code",
   "execution_count": null,
   "id": "82d0387d-0b31-411c-ab9b-de4abf545ce3",
   "metadata": {
    "tags": []
   },
   "outputs": [],
   "source": [
    "filtered_df = filter_to_box(df, star_polygon, latitude='latitude', longitude='longitude')"
   ]
  },
  {
   "cell_type": "code",
   "execution_count": null,
   "id": "eac30298-eed5-48a4-b3df-be54d0ec46a2",
   "metadata": {
    "tags": []
   },
   "outputs": [],
   "source": [
    "plt.figure(figsize=(10, 6))\n",
    "for uid, group in filtered_df.groupby('uid'):\n",
    "    plt.scatter(group['longitude'], group['latitude'], label=uid)\n",
    "\n",
    "# Extracting the x and y coordinates from the star polygon for plotting\n",
    "x, y = star_polygon.exterior.xy\n",
    "\n",
    "# Plotting the star polygon\n",
    "plt.fill(x, y, alpha=0.5, fc='orange', ec='black', label='Star Polygon')\n",
    "    \n",
    "plt.title('Geographical Points Plot')\n",
    "plt.xlabel('Longitude')\n",
    "plt.ylabel('Latitude')\n",
    "plt.grid()\n",
    "plt.show()"
   ]
  },
  {
   "cell_type": "code",
   "execution_count": null,
   "id": "7214137e-664d-4c00-82b1-13b01ca2cf10",
   "metadata": {
    "tags": []
   },
   "outputs": [],
   "source": [
    "# box filter: pass polygon, schema/var names, handle projections\n",
    "\n",
    "def filter_to_box(df, polygon, latitude, longitude):\n",
    "    '''\n",
    "    Filters a DataFrame to keep only the points that lie within the bounds of a specified polygon.\n",
    "\n",
    "    Parameters\n",
    "    ----------\n",
    "    df : pd.DataFrame\n",
    "        A DataFrame containing at least the specified `latitude` and `longitude` columns with\n",
    "        the coordinates of the points to be filtered.\n",
    "\n",
    "    polygon : shapely.geometry.Polygon\n",
    "        A Shapely polygon object defining the area within which the points should be retained.\n",
    "\n",
    "    latitude : str\n",
    "        The name of the column containing the latitude coordinates in `df`.\n",
    "\n",
    "    longitude : str\n",
    "        The name of the column containing the longitude coordinates in `df`.\n",
    "\n",
    "    Returns\n",
    "    -------\n",
    "    pd.DataFrame\n",
    "        A filtered DataFrame containing only the points within the bounds of the specified polygon.\n",
    "    '''\n",
    "    min_x, min_y, max_x, max_y = polygon.bounds\n",
    "    \n",
    "    return df[(df[latitude].between(min_y, max_y)) & (df[longitude].between(min_x, max_x))]"
   ]
  },
  {
   "cell_type": "code",
   "execution_count": null,
   "id": "a6f5fcbc-80b2-484b-a58c-8e8222006acd",
   "metadata": {
    "tags": []
   },
   "outputs": [],
   "source": [
    "def to_projection(df,\n",
    "                   latitude,\n",
    "                   longitude,\n",
    "                   from_crs=\"EPSG:4326\",\n",
    "                   to_crs=\"EPSG:3857\",\n",
    "                   spark_session=None):\n",
    "    \n",
    "    proj_cols = _to_projection(df['latitude'],\n",
    "                               df['longitude'],\n",
    "                              from_crs,\n",
    "                              to_crs)\n",
    "    \n",
    "    df['x'] = proj_cols.x\n",
    "    df['y'] = proj_cols.y\n",
    "    \n",
    "    return df\n",
    "\n",
    "def _to_projection(lat_col,\n",
    "                   long_col,\n",
    "                   from_crs,\n",
    "                   to_crs):\n",
    "    '''\n",
    "    Parameters\n",
    "    ----------\n",
    "    lat_col, lon_col : Pandas Series\n",
    "        The columns containing the latitude and longitude of the\n",
    "        points in `df`.\n",
    "    from_crs, to_crs : str, optional\n",
    "        The codes of the original and target projections to use.\n",
    "        If `to_crs` is None no reprojection is done.\n",
    "        \n",
    "    Returns\n",
    "    -------\n",
    "    df : pd.DataFrame or gpd.GeoDataFrame\n",
    "        If `return_gdf` the df ported to a geodataframe in the `to_crs` projection.\n",
    "        Otherwise, the original data frame with two additional columns named `lat_col + '_proj'`\n",
    "        and `lon_col + '_proj'` containing the original coordinates projected to\n",
    "        `to_crs`.\n",
    "    '''\n",
    "    gdf = gpd.GeoSeries( gpd.points_from_xy(long_col, lat_col),\n",
    "                           crs=from_crs)\n",
    "    projected = gdf.to_crs(to_crs)\n",
    "    output = pd.DataFrame({'x': projected.x, 'y': projected.y})\n",
    "    \n",
    "    return output"
   ]
  },
  {
   "cell_type": "code",
   "execution_count": null,
   "id": "f45440eb-992b-4d74-a253-03c017621ef2",
   "metadata": {
    "tags": []
   },
   "outputs": [],
   "source": [
    "to_projection(df, \"latitude\", \"longitude\")"
   ]
  },
  {
   "cell_type": "code",
   "execution_count": null,
   "id": "62a93b5c-7e8c-45c8-852c-6e9a5ca9366a",
   "metadata": {
    "tags": []
   },
   "outputs": [],
   "source": [
    "geopandas"
   ]
  },
  {
   "cell_type": "code",
   "execution_count": null,
   "id": "0517be96-0b0e-4d6b-8e6c-f71667e03aee",
   "metadata": {
    "tags": []
   },
   "outputs": [],
   "source": [
    "p_test = shapely.Point(*(sample_data.iloc[0][['x','y']]/(100*60*60)).astype(float).to_dict().values())"
   ]
  },
  {
   "cell_type": "code",
   "execution_count": null,
   "id": "2fae75a0-306f-4c69-a8d7-f1a4ed5a117d",
   "metadata": {
    "tags": []
   },
   "outputs": [],
   "source": [
    "zip_locs.contains(p_test)"
   ]
  },
  {
   "cell_type": "markdown",
   "id": "01f5a856",
   "metadata": {},
   "source": [
    "## Subset data to sample of users"
   ]
  },
  {
   "cell_type": "code",
   "execution_count": null,
   "id": "26943b1e",
   "metadata": {
    "tags": []
   },
   "outputs": [],
   "source": [
    "# persist\n",
    "#sample_data = pd.concat(output_data, ignore_index=True)\n",
    "#pq.write_table(table, f's3://robustness-project/data_sample_40k.parquet', filesystem=s3)"
   ]
  },
  {
   "cell_type": "markdown",
   "id": "53707956",
   "metadata": {
    "tags": []
   },
   "source": [
    "# Incompleteness metrics"
   ]
  },
  {
   "cell_type": "code",
   "execution_count": null,
   "id": "c57f0d7f-5faf-4b86-af97-480a80b33025",
   "metadata": {
    "tags": []
   },
   "outputs": [],
   "source": [
    "sample_data"
   ]
  },
  {
   "cell_type": "markdown",
   "id": "f9d3c6eb",
   "metadata": {},
   "source": [
    "## Barcode plots for different users"
   ]
  },
  {
   "cell_type": "code",
   "execution_count": null,
   "id": "b428c851-fe82-4d98-958c-58ab018ae7aa",
   "metadata": {
    "tags": []
   },
   "outputs": [],
   "source": [
    "sample_data"
   ]
  },
  {
   "cell_type": "code",
   "execution_count": null,
   "id": "9a560481",
   "metadata": {
    "tags": []
   },
   "outputs": [],
   "source": [
    "print(len(sample_data))\n",
    "print(len(sample_data.drop_duplicates(['identifier', 'date_hour'])))"
   ]
  },
  {
   "cell_type": "code",
   "execution_count": null,
   "id": "886e52ba",
   "metadata": {
    "tags": []
   },
   "outputs": [],
   "source": [
    "# Plot barcodes\n",
    "week1 = ('2019-10-08', '2019-10-15')\n",
    "week2 = ('2019-10-15', '2019-10-22')\n",
    "week3 = ('2019-10-22', '2019-10-29')\n",
    "week4 = ('2019-10-29', '2019-11-05')"
   ]
  },
  {
   "cell_type": "code",
   "execution_count": null,
   "id": "20549b6a",
   "metadata": {
    "tags": []
   },
   "outputs": [],
   "source": [
    "#select a user with 20 hours in a whole month\n",
    "hour_counts = sample_data.groupby(['identifier']).date_hour.count()"
   ]
  },
  {
   "cell_type": "code",
   "execution_count": null,
   "id": "47e05ded",
   "metadata": {
    "tags": []
   },
   "outputs": [],
   "source": [
    "user1 = hour_counts.loc[(hour_counts>100)&(hour_counts<600)].index[-1]\n",
    "user2 = hour_counts.loc[(hour_counts>100)&(hour_counts<900)].index[0]\n",
    "user3 = hour_counts.loc[(hour_counts>100)&(hour_counts<1000)].index[2]\n",
    "hour_counts[[user1,user2,user3]]"
   ]
  },
  {
   "cell_type": "code",
   "execution_count": null,
   "id": "bb5e4961",
   "metadata": {
    "tags": []
   },
   "outputs": [],
   "source": [
    "def plot_user_timeframe(sample_data, user, start, end, ax=None):\n",
    "    # If no Axes is passed in, create one\n",
    "    if ax is None:\n",
    "        fig, ax = plt.subplots(figsize=(10, 1))  # Aspect ratio 10:1\n",
    "\n",
    "    df = sample_data.loc[(sample_data['identifier'] == user) & \n",
    "                         (sample_data['local_timestamp'] > start) & \n",
    "                         (sample_data['local_timestamp'] < end)].copy()\n",
    "    df['day_of_week'] = df['local_timestamp'].dt.dayofweek + df['local_timestamp'].dt.hour / 24.0 + df['local_timestamp'].dt.minute / 1440.0\n",
    "    #plotting\n",
    "    ax.hlines(1, 0, 6, color='gray', linewidth=2)\n",
    "    ax.vlines(df['day_of_week'], 0.95, 1.05, color='gray', linewidth=5, alpha=0.08)\n",
    "    ax.vlines(df['day_of_week'], 0.95, 1.05, color='gray', linewidth=10, alpha=0.08)\n",
    "    ax.vlines(df['day_of_week'], 0.95, 1.05, color='black', linewidth=0.5)\n",
    "    # Set x-axis details\n",
    "    ax.set_xlim(0, 6)\n",
    "    ax.set_xticks(range(7))\n",
    "    ax.set_xticklabels(['Mon', 'Tue', 'Wed', 'Thu', 'Fri', 'Sat', 'Sun'])\n",
    "    #ax.xaxis.set_label_coords(0.5, -0.5)\n",
    "    #y-axis\n",
    "    ax.yaxis.set_visible(False)\n",
    "    [spine.set_visible(False) for spine in ax.spines.values()]    \n",
    "    # Title with number of records\n",
    "    ax.set_title(f\"User {user[-4:]}, N={len(df)}, week={start}\", fontsize=10, pad=10)\n",
    "    return ax"
   ]
  },
  {
   "cell_type": "code",
   "execution_count": null,
   "id": "cb0496e9",
   "metadata": {
    "tags": []
   },
   "outputs": [],
   "source": [
    "fig, axs = plt.subplots(3, 1, figsize=(10, 3.6))  # for 2 plots, one above the other\n",
    "plot_user_timeframe(sample_data, user1, week1[0], week1[1], ax=axs[0])\n",
    "plot_user_timeframe(sample_data, user1, week2[0], week2[1], ax=axs[1])\n",
    "plot_user_timeframe(sample_data, user1, week3[0], week3[1], ax=axs[2])\n",
    "\n",
    "fig.subplots_adjust(hspace=2.0, wspace=0.4, top=1.8, bottom=1.0, left=0.1, right=0.9)\n",
    "#plt.savefig('user1.png')\n",
    "plt.show()"
   ]
  },
  {
   "cell_type": "code",
   "execution_count": null,
   "id": "f2d83a41",
   "metadata": {
    "tags": []
   },
   "outputs": [],
   "source": [
    "fig, axs = plt.subplots(3, 1, figsize=(10, 3.6))  # for 2 plots, one above the other\n",
    "plot_user_timeframe(sample_data, user2, week1[0], week1[1], ax=axs[0])\n",
    "plot_user_timeframe(sample_data, user2, week2[0], week2[1], ax=axs[1])\n",
    "plot_user_timeframe(sample_data, user2, week3[0], week3[1], ax=axs[2])\n",
    "\n",
    "fig.subplots_adjust(hspace=2.0, wspace=0.4, top=1.8, bottom=1.0, left=0.1, right=0.9)\n",
    "#fig.savefig('./user2.png')\n",
    "plt.show()"
   ]
  },
  {
   "cell_type": "code",
   "execution_count": null,
   "id": "d01d3828",
   "metadata": {
    "tags": []
   },
   "outputs": [],
   "source": [
    "fig, axs = plt.subplots(3, 1, figsize=(10, 3.6))  # for 2 plots, one above the other\n",
    "plot_user_timeframe(sample_data, user3, week1[0], week1[1], ax=axs[0])\n",
    "plot_user_timeframe(sample_data, user3, week2[0], week2[1], ax=axs[1])\n",
    "plot_user_timeframe(sample_data, user3, week3[0], week3[1], ax=axs[2])\n",
    "\n",
    "fig.subplots_adjust(hspace=2.0, wspace=0.4, top=1.8, bottom=1.0, left=0.1, right=0.9)\n",
    "#fig.savefig('./user3.png')\n",
    "plt.show()"
   ]
  },
  {
   "cell_type": "markdown",
   "id": "ff28a505",
   "metadata": {},
   "source": [
    "## q score for each week"
   ]
  },
  {
   "cell_type": "code",
   "execution_count": null,
   "id": "7a19b173",
   "metadata": {
    "tags": []
   },
   "outputs": [],
   "source": [
    "start, end = week1\n",
    "\n",
    "window = sample_data.loc[(sample_data['local_timestamp'] > start) & \n",
    "                         (sample_data['local_timestamp'] < end)].drop_duplicates(['identifier', 'date_hour'])\n",
    "user_hours = window.groupby(['identifier']).date_hour.count()"
   ]
  },
  {
   "cell_type": "code",
   "execution_count": null,
   "id": "d37a2084",
   "metadata": {
    "tags": []
   },
   "outputs": [],
   "source": [
    "user_hours[(user_hours>=3)]"
   ]
  },
  {
   "cell_type": "code",
   "execution_count": null,
   "id": "2854e38e",
   "metadata": {
    "tags": []
   },
   "outputs": [],
   "source": [
    "plt.figure(figsize=(10, 6))\n",
    "plt.hist(user_hours[(user_hours>=3)], bins=range(3, 56), edgecolor='black')  # 168 bins\n",
    "plt.title(f'Active hours between {start} and {end}', fontsize=14)  # Incorporate start and end into the title\n",
    "plt.xlabel('Hours', fontsize=15)  # Increase font size for x-axis label\n",
    "plt.ylabel('Number of Users', fontsize=15)  # Increase font size for y-axis label\n",
    "plt.grid(axis='y', alpha=0.75)\n",
    "\n",
    "# Save the figure\n",
    "#plt.savefig('./histogram.png')\n",
    "\n",
    "# Show the plot\n",
    "plt.show()"
   ]
  },
  {
   "cell_type": "code",
   "execution_count": null,
   "id": "09e4cbaa",
   "metadata": {
    "tags": []
   },
   "outputs": [],
   "source": [
    "normalized_hours = user_hours[(user_hours>=3)] / 168\n",
    "\n",
    "# Create the density plot\n",
    "plt.figure(figsize=(10, 6))\n",
    "sns.kdeplot(normalized_hours, shade=True, color=\"blue\", linewidth=1.5)\n",
    "\n",
    "# Calculate and plot the median line within the specified range\n",
    "median_value = normalized_hours.median()\n",
    "plt.axvline(median_value, color='black', linestyle='dashed', linewidth=1)\n",
    "\n",
    "\n",
    "\n",
    "# Set title and labels with increased font size\n",
    "plt.title(f'Active hours between {start} and {end}', fontsize=14)\n",
    "plt.xlabel('q score', fontsize=16)\n",
    "plt.ylabel('Density', fontsize=16)\n",
    "\n",
    "# Limit the range of x-axis to be between 0 and 0.4\n",
    "plt.xlim(0, 0.5)\n",
    "\n",
    "# Save the figure\n",
    "#plt.savefig('normalized_hours_density.png')\n",
    "\n",
    "# Show the plot\n",
    "plt.show()"
   ]
  },
  {
   "cell_type": "code",
   "execution_count": null,
   "id": "466c9979",
   "metadata": {},
   "outputs": [],
   "source": []
  }
 ],
 "metadata": {
  "kernelspec": {
   "display_name": "conda_python3",
   "language": "python",
   "name": "conda_python3"
  },
  "language_info": {
   "codemirror_mode": {
    "name": "ipython",
    "version": 3
   },
   "file_extension": ".py",
   "mimetype": "text/x-python",
   "name": "python",
   "nbconvert_exporter": "python",
   "pygments_lexer": "ipython3",
   "version": "3.10.15"
  }
 },
 "nbformat": 4,
 "nbformat_minor": 5
}

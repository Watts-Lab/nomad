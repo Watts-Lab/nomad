{
 "cells": [
  {
   "cell_type": "code",
   "execution_count": 2,
   "metadata": {
    "tags": []
   },
   "outputs": [],
   "source": [
    "import sys\n",
    "import os\n",
    "import warnings\n",
    "import pandas as pd\n",
    "sys.path.insert(0, os.path.abspath(os.path.join(os.getcwd(), \"..\")))"
   ]
  },
  {
   "cell_type": "code",
   "execution_count": 3,
   "metadata": {
    "tags": []
   },
   "outputs": [],
   "source": [
    "import pytest\n",
    "import pyarrow.parquet as pq\n",
    "import pyarrow.fs as fs\n",
    "import pyarrow.compute as pc\n",
    "import pyarrow.dataset as ds\n",
    "import s3fs as fs3\n",
    "import pyarrow as pa"
   ]
  },
  {
   "cell_type": "code",
   "execution_count": 7,
   "metadata": {
    "tags": []
   },
   "outputs": [],
   "source": [
    "import daphmeIO\n",
    "import constants\n",
    "import filters"
   ]
  },
  {
   "cell_type": "markdown",
   "metadata": {},
   "source": [
    "# Test formats and folder structures"
   ]
  },
  {
   "cell_type": "markdown",
   "metadata": {},
   "source": [
    "## Generate test dataset"
   ]
  },
  {
   "cell_type": "markdown",
   "metadata": {
    "tags": []
   },
   "source": [
    "## Import partitioned dataset (data 3)"
   ]
  },
  {
   "cell_type": "code",
   "execution_count": 4,
   "metadata": {
    "tags": []
   },
   "outputs": [
    {
     "data": {
      "text/plain": [
       "Index(['uid', 'timestamp', 'latitude', 'longitude'], dtype='object')"
      ]
     },
     "execution_count": 4,
     "metadata": {},
     "output_type": "execute_result"
    }
   ],
   "source": [
    "column_names = pd.read_csv('../../data/sample2/sample2.csv', nrows=0).columns\n",
    "column_names"
   ]
  },
  {
   "cell_type": "code",
   "execution_count": null,
   "metadata": {
    "tags": []
   },
   "outputs": [],
   "source": [
    "dataset = ds.dataset(path, format=\"parquet\", partitioning=\"hive\")\n",
    "df = dataset.to_table().to_pandas()\n",
    "df "
   ]
  },
  {
   "cell_type": "markdown",
   "metadata": {},
   "source": [
    "## Functions that check integrity"
   ]
  },
  {
   "cell_type": "code",
   "execution_count": 5,
   "metadata": {},
   "outputs": [],
   "source": [
    "path = '../../data/sample4/'\n",
    "\n",
    "traj_cols = {'user_id':'user_id', 'latitude':'dev_lat', 'longitude':'dev_lon', 'datetime':'local_datetime'}\n",
    "\n",
    "df = daphmeIO.from_file(path, traj_cols=traj_cols, format='csv')"
   ]
  },
  {
   "cell_type": "code",
   "execution_count": 11,
   "metadata": {},
   "outputs": [],
   "source": [
    "df = filters.to_projection(df, latitude='dev_lat', longitude='dev_lon')"
   ]
  },
  {
   "cell_type": "code",
   "execution_count": 24,
   "metadata": {},
   "outputs": [],
   "source": [
    "df['timestamp'] = df.local_datetime.astype(int) // 10**9"
   ]
  },
  {
   "cell_type": "code",
   "execution_count": 25,
   "metadata": {},
   "outputs": [
    {
     "data": {
      "text/html": [
       "<div>\n",
       "<style scoped>\n",
       "    .dataframe tbody tr th:only-of-type {\n",
       "        vertical-align: middle;\n",
       "    }\n",
       "\n",
       "    .dataframe tbody tr th {\n",
       "        vertical-align: top;\n",
       "    }\n",
       "\n",
       "    .dataframe thead th {\n",
       "        text-align: right;\n",
       "    }\n",
       "</style>\n",
       "<table border=\"1\" class=\"dataframe\">\n",
       "  <thead>\n",
       "    <tr style=\"text-align: right;\">\n",
       "      <th></th>\n",
       "      <th>user_id</th>\n",
       "      <th>dev_lat</th>\n",
       "      <th>dev_lon</th>\n",
       "      <th>local_datetime</th>\n",
       "      <th>x</th>\n",
       "      <th>y</th>\n",
       "      <th>timestamp</th>\n",
       "    </tr>\n",
       "  </thead>\n",
       "  <tbody>\n",
       "    <tr>\n",
       "      <th>0</th>\n",
       "      <td>wizardly_joliot</td>\n",
       "      <td>38.321711</td>\n",
       "      <td>-36.667334</td>\n",
       "      <td>2024-01-01 14:29:00</td>\n",
       "      <td>-4.081789e+06</td>\n",
       "      <td>4.624973e+06</td>\n",
       "      <td>1704119340</td>\n",
       "    </tr>\n",
       "    <tr>\n",
       "      <th>1</th>\n",
       "      <td>wizardly_joliot</td>\n",
       "      <td>38.321676</td>\n",
       "      <td>-36.667365</td>\n",
       "      <td>2024-01-01 14:35:00</td>\n",
       "      <td>-4.081792e+06</td>\n",
       "      <td>4.624968e+06</td>\n",
       "      <td>1704119700</td>\n",
       "    </tr>\n",
       "    <tr>\n",
       "      <th>2</th>\n",
       "      <td>wonderful_swirles</td>\n",
       "      <td>38.321017</td>\n",
       "      <td>-36.667869</td>\n",
       "      <td>2024-01-01 15:06:00</td>\n",
       "      <td>-4.081849e+06</td>\n",
       "      <td>4.624874e+06</td>\n",
       "      <td>1704121560</td>\n",
       "    </tr>\n",
       "    <tr>\n",
       "      <th>3</th>\n",
       "      <td>youthful_galileo</td>\n",
       "      <td>38.321625</td>\n",
       "      <td>-36.666612</td>\n",
       "      <td>2024-01-01 08:47:00</td>\n",
       "      <td>-4.081709e+06</td>\n",
       "      <td>4.624961e+06</td>\n",
       "      <td>1704098820</td>\n",
       "    </tr>\n",
       "    <tr>\n",
       "      <th>4</th>\n",
       "      <td>youthful_galileo</td>\n",
       "      <td>38.321681</td>\n",
       "      <td>-36.666841</td>\n",
       "      <td>2024-01-01 09:59:00</td>\n",
       "      <td>-4.081734e+06</td>\n",
       "      <td>4.624969e+06</td>\n",
       "      <td>1704103140</td>\n",
       "    </tr>\n",
       "    <tr>\n",
       "      <th>...</th>\n",
       "      <td>...</td>\n",
       "      <td>...</td>\n",
       "      <td>...</td>\n",
       "      <td>...</td>\n",
       "      <td>...</td>\n",
       "      <td>...</td>\n",
       "      <td>...</td>\n",
       "    </tr>\n",
       "    <tr>\n",
       "      <th>25830</th>\n",
       "      <td>angry_spence</td>\n",
       "      <td>38.320399</td>\n",
       "      <td>-36.667438</td>\n",
       "      <td>2024-01-15 07:23:00</td>\n",
       "      <td>-4.081801e+06</td>\n",
       "      <td>4.624787e+06</td>\n",
       "      <td>1705303380</td>\n",
       "    </tr>\n",
       "    <tr>\n",
       "      <th>25831</th>\n",
       "      <td>angry_spence</td>\n",
       "      <td>38.320413</td>\n",
       "      <td>-36.667469</td>\n",
       "      <td>2024-01-15 07:29:00</td>\n",
       "      <td>-4.081804e+06</td>\n",
       "      <td>4.624789e+06</td>\n",
       "      <td>1705303740</td>\n",
       "    </tr>\n",
       "    <tr>\n",
       "      <th>25832</th>\n",
       "      <td>angry_spence</td>\n",
       "      <td>38.320384</td>\n",
       "      <td>-36.667455</td>\n",
       "      <td>2024-01-15 07:33:00</td>\n",
       "      <td>-4.081802e+06</td>\n",
       "      <td>4.624785e+06</td>\n",
       "      <td>1705303980</td>\n",
       "    </tr>\n",
       "    <tr>\n",
       "      <th>25833</th>\n",
       "      <td>angry_spence</td>\n",
       "      <td>38.320349</td>\n",
       "      <td>-36.667473</td>\n",
       "      <td>2024-01-15 07:39:00</td>\n",
       "      <td>-4.081804e+06</td>\n",
       "      <td>4.624780e+06</td>\n",
       "      <td>1705304340</td>\n",
       "    </tr>\n",
       "    <tr>\n",
       "      <th>25834</th>\n",
       "      <td>angry_spence</td>\n",
       "      <td>38.320947</td>\n",
       "      <td>-36.667530</td>\n",
       "      <td>2024-01-15 07:50:00</td>\n",
       "      <td>-4.081811e+06</td>\n",
       "      <td>4.624865e+06</td>\n",
       "      <td>1705305000</td>\n",
       "    </tr>\n",
       "  </tbody>\n",
       "</table>\n",
       "<p>25835 rows × 7 columns</p>\n",
       "</div>"
      ],
      "text/plain": [
       "                 user_id    dev_lat    dev_lon      local_datetime  \\\n",
       "0        wizardly_joliot  38.321711 -36.667334 2024-01-01 14:29:00   \n",
       "1        wizardly_joliot  38.321676 -36.667365 2024-01-01 14:35:00   \n",
       "2      wonderful_swirles  38.321017 -36.667869 2024-01-01 15:06:00   \n",
       "3       youthful_galileo  38.321625 -36.666612 2024-01-01 08:47:00   \n",
       "4       youthful_galileo  38.321681 -36.666841 2024-01-01 09:59:00   \n",
       "...                  ...        ...        ...                 ...   \n",
       "25830       angry_spence  38.320399 -36.667438 2024-01-15 07:23:00   \n",
       "25831       angry_spence  38.320413 -36.667469 2024-01-15 07:29:00   \n",
       "25832       angry_spence  38.320384 -36.667455 2024-01-15 07:33:00   \n",
       "25833       angry_spence  38.320349 -36.667473 2024-01-15 07:39:00   \n",
       "25834       angry_spence  38.320947 -36.667530 2024-01-15 07:50:00   \n",
       "\n",
       "                  x             y   timestamp  \n",
       "0     -4.081789e+06  4.624973e+06  1704119340  \n",
       "1     -4.081792e+06  4.624968e+06  1704119700  \n",
       "2     -4.081849e+06  4.624874e+06  1704121560  \n",
       "3     -4.081709e+06  4.624961e+06  1704098820  \n",
       "4     -4.081734e+06  4.624969e+06  1704103140  \n",
       "...             ...           ...         ...  \n",
       "25830 -4.081801e+06  4.624787e+06  1705303380  \n",
       "25831 -4.081804e+06  4.624789e+06  1705303740  \n",
       "25832 -4.081802e+06  4.624785e+06  1705303980  \n",
       "25833 -4.081804e+06  4.624780e+06  1705304340  \n",
       "25834 -4.081811e+06  4.624865e+06  1705305000  \n",
       "\n",
       "[25835 rows x 7 columns]"
      ]
     },
     "execution_count": 25,
     "metadata": {},
     "output_type": "execute_result"
    }
   ],
   "source": [
    "df"
   ]
  },
  {
   "cell_type": "code",
   "execution_count": null,
   "metadata": {},
   "outputs": [],
   "source": [
    "u_sample = sample_users(path, format='parquet', frac_users=0.1, user_id='uid')"
   ]
  },
  {
   "cell_type": "code",
   "execution_count": null,
   "metadata": {},
   "outputs": [],
   "source": [
    "sample_from_file(path, users = u_sample, format='parquet', user_id='uid')"
   ]
  },
  {
   "cell_type": "code",
   "execution_count": null,
   "metadata": {
    "tags": []
   },
   "outputs": [],
   "source": [
    "data = pd.DataFrame([[1, 39.984094, 116.319236, '2008-10-23 13:53:05'],\n",
    " [1, 39.984198, 116.319322, '2008-10-23 13:53:06'],\n",
    " [1, 39.984224, 116.319402, '2008-10-23 13:53:11'],\n",
    " [1, 39.984211, 116.319389, '2008-10-23 13:53:16']], columns = ['uid', 'latitude', 'longitude', 'time'])"
   ]
  },
  {
   "cell_type": "code",
   "execution_count": null,
   "metadata": {
    "tags": []
   },
   "outputs": [],
   "source": [
    "traj_cols = {'user_id':'uid',\n",
    "         'latitude':'latitude',\n",
    "         'longitude':'longitude',\n",
    "            'datetime':'time'}\n",
    "df = from_object(data, traj_cols)"
   ]
  }
 ],
 "metadata": {
  "kernelspec": {
   "display_name": "Python 3.10 (daphme)",
   "language": "python",
   "name": "daphme"
  },
  "language_info": {
   "codemirror_mode": {
    "name": "ipython",
    "version": 3
   },
   "file_extension": ".py",
   "mimetype": "text/x-python",
   "name": "python",
   "nbconvert_exporter": "python",
   "pygments_lexer": "ipython3",
   "version": "3.10.0"
  }
 },
 "nbformat": 4,
 "nbformat_minor": 4
}

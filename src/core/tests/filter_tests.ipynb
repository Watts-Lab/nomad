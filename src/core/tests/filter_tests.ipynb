{
 "cells": [
  {
   "cell_type": "code",
   "execution_count": 7,
   "id": "e221df1c-108c-45bc-990c-abe482fdcf92",
   "metadata": {
    "tags": []
   },
   "outputs": [],
   "source": [
    "import sys\n",
    "import os\n",
    "import warnings\n",
    "import pandas as pd\n",
    "sys.path.insert(0, os.path.abspath(os.path.join(os.getcwd(), \"..\")))\n",
    "sys.path.insert(0, os.path.abspath(os.path.join(os.getcwd(), \"../tests\")))"
   ]
  },
  {
   "cell_type": "code",
   "execution_count": 10,
   "id": "f4ab405a-7c6d-4f7a-a5f9-8ecbca30ecb1",
   "metadata": {
    "tags": []
   },
   "outputs": [],
   "source": [
    "import pytest\n",
    "import pyarrow.parquet as pq\n",
    "import pyarrow.fs as fs\n",
    "import pyarrow.dataset as ds\n",
    "import s3fs as fs3\n",
    "import pyarrow as pa\n",
    "from shapely.geometry import Polygon"
   ]
  },
  {
   "cell_type": "code",
   "execution_count": 13,
   "id": "99623d0d-25b8-4b46-80ad-c6b7e2dbafa8",
   "metadata": {
    "tags": []
   },
   "outputs": [],
   "source": [
    "import filters\n",
    "import constants"
   ]
  },
  {
   "cell_type": "code",
   "execution_count": 22,
   "id": "a70efa5e-d327-4378-ae73-5e9000671854",
   "metadata": {
    "tags": []
   },
   "outputs": [
    {
     "name": "stdout",
     "output_type": "stream",
     "text": [
      "\u001b[1m============================= test session starts ==============================\u001b[0m\n",
      "platform darwin -- Python 3.9.6, pytest-8.3.3, pluggy-1.5.0\n",
      "rootdir: /Users/thomasli/Library/CloudStorage/OneDrive-PennO365/5 CSS/nomad/src/core\n",
      "configfile: pyproject.toml\n",
      "collected 10 items                                                             \u001b[0m\n",
      "\n",
      "filter_tests.py \u001b[32m.\u001b[0m\u001b[32m.\u001b[0m\u001b[32m.\u001b[0m\u001b[32m.\u001b[0m\u001b[32m.\u001b[0m\u001b[32m.\u001b[0m\u001b[32m.\u001b[0m\u001b[32m.\u001b[0m\u001b[32m.\u001b[0m\u001b[32m.\u001b[0m\u001b[33m                                               [100%]\u001b[0m\n",
      "\n",
      "\u001b[33m=============================== warnings summary ===============================\u001b[0m\n",
      "tests/filter_tests.py::test_filtered_users_basic\n",
      "tests/filter_tests.py::test_filtered_users_timeframe\n",
      "tests/filter_tests.py::test_filtered_users_no_users\n",
      "  /Users/thomasli/Library/CloudStorage/OneDrive-PennO365/5 CSS/nomad/src/core/filters.py:292: SettingWithCopyWarning: \n",
      "  A value is trying to be set on a copy of a slice from a DataFrame.\n",
      "  Try using .loc[row_indexer,col_indexer] = value instead\n",
      "  \n",
      "  See the caveats in the documentation: https://pandas.pydata.org/pandas-docs/stable/user_guide/indexing.html#returning-a-view-versus-a-copy\n",
      "    df['in_geo'] = df.apply(lambda row: _point_in_polygon(row[latitude_col], row[longitude_col]), axis=1)\n",
      "\n",
      "tests/filter_tests.py::test_filtered_users_basic\n",
      "tests/filter_tests.py::test_filtered_users_timeframe\n",
      "tests/filter_tests.py::test_filtered_users_no_users\n",
      "  /Users/thomasli/Library/CloudStorage/OneDrive-PennO365/5 CSS/nomad/src/core/filters.py:265: SettingWithCopyWarning: \n",
      "  A value is trying to be set on a copy of a slice from a DataFrame.\n",
      "  Try using .loc[row_indexer,col_indexer] = value instead\n",
      "  \n",
      "  See the caveats in the documentation: https://pandas.pydata.org/pandas-docs/stable/user_guide/indexing.html#returning-a-view-versus-a-copy\n",
      "    df_filtered['date'] = df_filtered[timestamp_col].dt.date\n",
      "\n",
      "-- Docs: https://docs.pytest.org/en/stable/how-to/capture-warnings.html\n",
      "\u001b[33m======================== \u001b[32m10 passed\u001b[0m, \u001b[33m\u001b[1m6 warnings\u001b[0m\u001b[33m in 0.36s\u001b[0m\u001b[33m ========================\u001b[0m\n"
     ]
    }
   ],
   "source": [
    "!pytest filter_tests.py"
   ]
  },
  {
   "cell_type": "code",
   "execution_count": null,
   "id": "6d52bda2-5a6b-45a0-93b4-3245872e7809",
   "metadata": {},
   "outputs": [],
   "source": []
  }
 ],
 "metadata": {
  "kernelspec": {
   "display_name": "Python 3",
   "language": "python",
   "name": "python3"
  },
  "language_info": {
   "codemirror_mode": {
    "name": "ipython",
    "version": 3
   },
   "file_extension": ".py",
   "mimetype": "text/x-python",
   "name": "python",
   "nbconvert_exporter": "python",
   "pygments_lexer": "ipython3",
   "version": "3.9.6"
  }
 },
 "nbformat": 4,
 "nbformat_minor": 5
}

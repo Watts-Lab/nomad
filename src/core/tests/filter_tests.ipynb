{
 "cells": [
  {
   "cell_type": "code",
   "execution_count": 1,
   "id": "e221df1c-108c-45bc-990c-abe482fdcf92",
   "metadata": {
    "tags": []
   },
   "outputs": [],
   "source": [
    "import sys\n",
    "import os\n",
    "import warnings\n",
    "import pandas as pd\n",
    "sys.path.insert(0, os.path.abspath(os.path.join(os.getcwd(), \"..\")))\n",
    "sys.path.insert(0, os.path.abspath(os.path.join(os.getcwd(), \"../tests\")))"
   ]
  },
  {
   "cell_type": "code",
   "execution_count": 2,
   "id": "f4ab405a-7c6d-4f7a-a5f9-8ecbca30ecb1",
   "metadata": {
    "tags": []
   },
   "outputs": [],
   "source": [
    "import pytest\n",
    "import pyarrow.parquet as pq\n",
    "import pyarrow.fs as fs\n",
    "import pyarrow.dataset as ds\n",
    "import s3fs as fs3\n",
    "import pyarrow as pa\n",
    "from shapely.geometry import Polygon"
   ]
  },
  {
   "cell_type": "code",
   "execution_count": 6,
   "id": "99623d0d-25b8-4b46-80ad-c6b7e2dbafa8",
   "metadata": {
    "tags": []
   },
   "outputs": [],
   "source": [
    "from filters import to_projection, filter_to_polygon, _in_geo\n",
    "import constants"
   ]
  },
  {
   "cell_type": "code",
   "execution_count": 13,
   "id": "a70efa5e-d327-4378-ae73-5e9000671854",
   "metadata": {
    "tags": []
   },
   "outputs": [
    {
     "name": "stdout",
     "output_type": "stream",
     "text": [
      "\u001b[1m============================= test session starts ==============================\u001b[0m\n",
      "platform darwin -- Python 3.9.6, pytest-8.3.3, pluggy-1.5.0\n",
      "rootdir: /Users/thomasli/Library/CloudStorage/OneDrive-PennO365/5 CSS/nomad/src/core\n",
      "configfile: pyproject.toml\n",
      "collected 20 items                                                             \u001b[0m\u001b[1m\n",
      "\n",
      "filter_tests.py \u001b[32m.\u001b[0m\u001b[32m.\u001b[0m\u001b[32m.\u001b[0m\u001b[32m.\u001b[0m\u001b[32m.\u001b[0m\u001b[32m.\u001b[0m\u001b[32m.\u001b[0m\u001b[32m.\u001b[0m\u001b[32m.\u001b[0m\u001b[32m.\u001b[0m\u001b[32m.\u001b[0m\u001b[32m.\u001b[0m\u001b[32m.\u001b[0m\u001b[32m.\u001b[0m\u001b[32m.\u001b[0m\u001b[32m.\u001b[0m\u001b[32m.\u001b[0m\u001b[32m.\u001b[0m\u001b[32m.\u001b[0m\u001b[32m.\u001b[0m\u001b[33m                                     [100%]\u001b[0m\n",
      "\n",
      "\u001b[33m=============================== warnings summary ===============================\u001b[0m\n",
      "tests/filter_tests.py::test_filter_to_polygon_within_time_frame\n",
      "tests/filter_tests.py::test_filter_to_polygon_within_time_frame_multi_user\n",
      "tests/filter_tests.py::test_filter_to_polygon_outside_time_frame_multi_user\n",
      "  /Users/thomasli/Library/CloudStorage/OneDrive-PennO365/5 CSS/nomad/src/core/filters.py:240: SettingWithCopyWarning: \n",
      "  A value is trying to be set on a copy of a slice from a DataFrame.\n",
      "  Try using .loc[row_indexer,col_indexer] = value instead\n",
      "  \n",
      "  See the caveats in the documentation: https://pandas.pydata.org/pandas-docs/stable/user_guide/indexing.html#returning-a-view-versus-a-copy\n",
      "    df_filtered[timestamp_col] = pd.to_datetime(df_filtered[timestamp_col])\n",
      "\n",
      "-- Docs: https://docs.pytest.org/en/stable/how-to/capture-warnings.html\n",
      "\u001b[33m======================== \u001b[32m20 passed\u001b[0m, \u001b[33m\u001b[1m3 warnings\u001b[0m\u001b[33m in 0.58s\u001b[0m\u001b[33m ========================\u001b[0m\n"
     ]
    }
   ],
   "source": [
    "!pytest filter_tests.py"
   ]
  },
  {
   "cell_type": "code",
   "execution_count": null,
   "id": "d9dcc371",
   "metadata": {},
   "outputs": [],
   "source": []
  }
 ],
 "metadata": {
  "kernelspec": {
   "display_name": "Python 3",
   "language": "python",
   "name": "python3"
  },
  "language_info": {
   "codemirror_mode": {
    "name": "ipython",
    "version": 3
   },
   "file_extension": ".py",
   "mimetype": "text/x-python",
   "name": "python",
   "nbconvert_exporter": "python",
   "pygments_lexer": "ipython3",
   "version": "3.9.6"
  }
 },
 "nbformat": 4,
 "nbformat_minor": 5
}

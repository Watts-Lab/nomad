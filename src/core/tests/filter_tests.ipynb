{
 "cells": [
  {
   "cell_type": "code",
   "execution_count": null,
   "id": "b820bf76-6b6a-422e-ab2e-f5e37a756105",
   "metadata": {
    "tags": []
   },
   "outputs": [],
   "source": [
    "# !pip install shapely geopandas"
   ]
  },
  {
   "cell_type": "code",
   "execution_count": null,
   "id": "e221df1c-108c-45bc-990c-abe482fdcf92",
   "metadata": {
    "tags": []
   },
   "outputs": [],
   "source": [
    "import sys\n",
    "import os\n",
    "import warnings\n",
    "import pandas as pd\n",
    "sys.path.insert(0, os.path.abspath(os.path.join(os.getcwd(), \"..\")))\n",
    "sys.path.insert(0, os.path.abspath(os.path.join(os.getcwd(), \"../tests\")))"
   ]
  },
  {
   "cell_type": "code",
   "execution_count": null,
   "id": "f4ab405a-7c6d-4f7a-a5f9-8ecbca30ecb1",
   "metadata": {
    "tags": []
   },
   "outputs": [],
   "source": [
    "import pytest\n",
    "import pyarrow.parquet as pq\n",
    "import pyarrow.fs as fs\n",
    "import pyarrow.dataset as ds\n",
    "import s3fs as fs3\n",
    "import pyarrow as pa\n",
    "from shapely.geometry import Polygon"
   ]
  },
  {
   "cell_type": "code",
   "execution_count": null,
   "id": "99623d0d-25b8-4b46-80ad-c6b7e2dbafa8",
   "metadata": {
    "tags": []
   },
   "outputs": [],
   "source": [
    "import filters\n",
    "import constants"
   ]
  },
  {
   "cell_type": "code",
   "execution_count": null,
   "id": "a70efa5e-d327-4378-ae73-5e9000671854",
   "metadata": {
    "tags": []
   },
   "outputs": [],
   "source": [
    "!pytest filter_tests.py"
   ]
  },
  {
   "cell_type": "code",
   "execution_count": null,
   "id": "6d52bda2-5a6b-45a0-93b4-3245872e7809",
   "metadata": {},
   "outputs": [],
   "source": []
  }
 ],
 "metadata": {
  "kernelspec": {
   "display_name": "conda_python3",
   "language": "python",
   "name": "conda_python3"
  },
  "language_info": {
   "codemirror_mode": {
    "name": "ipython",
    "version": 3
   },
   "file_extension": ".py",
   "mimetype": "text/x-python",
   "name": "python",
   "nbconvert_exporter": "python",
   "pygments_lexer": "ipython3",
   "version": "3.10.15"
  }
 },
 "nbformat": 4,
 "nbformat_minor": 5
}

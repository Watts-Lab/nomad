{
 "cells": [
  {
   "cell_type": "code",
   "execution_count": 6,
   "id": "0bd1aa0e-4463-4bbd-99a6-bcd772ba3a41",
   "metadata": {},
   "outputs": [],
   "source": [
    "%load_ext autoreload"
   ]
  },
  {
   "cell_type": "code",
   "execution_count": 7,
   "id": "244ec2f6-4b7a-4364-9dc9-178324e9a04c",
   "metadata": {},
   "outputs": [],
   "source": [
    "%autoreload 2"
   ]
  },
  {
   "cell_type": "code",
   "execution_count": 4,
   "id": "205cbc38-4e11-4579-9adf-8dc3b1e202ba",
   "metadata": {},
   "outputs": [],
   "source": [
    "import pyspark as psk\n",
    "from pyspark.sql import SparkSession\n",
    "import pandas as pd\n"
   ]
  },
  {
   "cell_type": "code",
   "execution_count": 8,
   "id": "131e029f-5d49-4596-8f88-4a41062eda0a",
   "metadata": {},
   "outputs": [],
   "source": [
    "from nomad.daphmeIO import _is_traj_df_spark"
   ]
  },
  {
   "cell_type": "code",
   "execution_count": 9,
   "id": "135f70c3-92f4-47ed-a379-81ea7a3017da",
   "metadata": {},
   "outputs": [
    {
     "name": "stdout",
     "output_type": "stream",
     "text": [
      "+---+\n",
      "| id|\n",
      "+---+\n",
      "|  0|\n",
      "|  1|\n",
      "|  2|\n",
      "|  3|\n",
      "|  4|\n",
      "|  5|\n",
      "|  6|\n",
      "|  7|\n",
      "|  8|\n",
      "|  9|\n",
      "+---+\n",
      "\n"
     ]
    }
   ],
   "source": [
    "spark = SparkSession.builder \\\n",
    "    .master(\"local[12]\") \\\n",
    "    .appName(\"Tests\") \\\n",
    "    .config(\"spark.driver.memory\", \"8g\") \\\n",
    "    .config(\"spark.executor.memory\", \"8g\") \\\n",
    "    .config(\"spark.hadoop.fs.s3a.aws.credentials.provider\", \n",
    "            \"com.amazonaws.auth.DefaultAWSCredentialsProviderChain\") \\\n",
    "    .config(\"spark.jars.packages\", \n",
    "            \"org.apache.hadoop:hadoop-aws:3.3.4,com.amazonaws:aws-java-sdk-bundle:1.12.262\") \\\n",
    "    .getOrCreate()"
   ]
  },
  {
   "cell_type": "code",
   "execution_count": 10,
   "id": "ee1fa18f-dde4-4c3e-9649-2970b4130c88",
   "metadata": {},
   "outputs": [],
   "source": [
    "traj_cols = {'user_id': 'uid',\n",
    "             'latitude': 'latitude',\n",
    "             'longitude': 'longitude',\n",
    "             'timestamp': 'timestamp'}"
   ]
  },
  {
   "cell_type": "code",
   "execution_count": 11,
   "id": "6252e73e-5dc7-494d-acc6-89603b047a0b",
   "metadata": {},
   "outputs": [
    {
     "name": "stdout",
     "output_type": "stream",
     "text": [
      "+--------------------+----------+------------------+-------------------+---------------+\n",
      "|                 uid| timestamp|          latitude|          longitude|timezone_offset|\n",
      "+--------------------+----------+------------------+-------------------+---------------+\n",
      "|dazzling_friendly...|1705165320|  38.3217495027236| -36.66645623726486|          -3600|\n",
      "|dazzling_friendly...|1705165380| 38.32171358576374|-36.666469104355116|          -3600|\n",
      "|dazzling_friendly...|1705166640|38.321709902716684|-36.666493842217406|          -3600|\n",
      "|dazzling_friendly...|1705166700| 38.32166160047268| -36.66641416123398|          -3600|\n",
      "|dazzling_friendly...|1705167420| 38.32161312650487|-36.666508981783856|          -3600|\n",
      "|dazzling_friendly...|1705167660| 38.32182592672064|  -36.6663535995203|          -3600|\n",
      "|dazzling_friendly...|1705167780| 38.32171345553894| -36.66645434557337|          -3600|\n",
      "|dazzling_friendly...|1705168020|38.321888231640166| -36.66651289047773|          -3600|\n",
      "|dazzling_friendly...|1705168380|   38.321688052624| -36.66651417888988|          -3600|\n",
      "|dazzling_friendly...|1705168500|38.321727507490245|-36.666416413081485|          -3600|\n",
      "+--------------------+----------+------------------+-------------------+---------------+\n",
      "only showing top 10 rows\n",
      "\n"
     ]
    }
   ],
   "source": [
    "df = spark.read.parquet(\"s3a://catalog-csslab/garden-city-45k/device-level/admin_1_id=GC/admin_2_id=GC.CD/event_start_date_utc=2024-01-13/\")\n",
    "df.show(10)"
   ]
  },
  {
   "cell_type": "code",
   "execution_count": 27,
   "id": "85652d9f-0704-4f32-97fd-0459c4f0ba63",
   "metadata": {},
   "outputs": [
    {
     "data": {
      "text/plain": [
       "10"
      ]
     },
     "execution_count": 27,
     "metadata": {},
     "output_type": "execute_result"
    }
   ],
   "source": [
    "first_timestamp = df.select('timestamp').take(1)\n",
    "len(str(first_timestamp[0]['timestamp']))"
   ]
  },
  {
   "cell_type": "code",
   "execution_count": 19,
   "id": "1c349077-cb53-4019-8942-e3533fa7797c",
   "metadata": {},
   "outputs": [
    {
     "data": {
      "text/plain": [
       "True"
      ]
     },
     "execution_count": 19,
     "metadata": {},
     "output_type": "execute_result"
    }
   ],
   "source": [
    "_is_traj_df_spark(df)"
   ]
  },
  {
   "cell_type": "code",
   "execution_count": null,
   "id": "71c1eab1-b005-450b-bfec-ccfba6c6f451",
   "metadata": {},
   "outputs": [],
   "source": []
  },
  {
   "cell_type": "code",
   "execution_count": 15,
   "id": "fc07b185-f46d-4b48-8b42-042f397a680b",
   "metadata": {},
   "outputs": [],
   "source": [
    "pd_df = pd.read_csv('./daphme/nomad/data/gc_sample.csv')"
   ]
  },
  {
   "cell_type": "code",
   "execution_count": 28,
   "id": "671c8d86-36d3-4814-8594-7288e3dcd2c9",
   "metadata": {},
   "outputs": [
    {
     "data": {
      "text/plain": [
       "False"
      ]
     },
     "execution_count": 28,
     "metadata": {},
     "output_type": "execute_result"
    }
   ],
   "source": [
    "(isinstance(pd_df, psk.sql.dataframe.DataFrame))"
   ]
  },
  {
   "cell_type": "code",
   "execution_count": 19,
   "id": "f51f2b47-5179-4abd-9c1b-1721ad7b9970",
   "metadata": {},
   "outputs": [
    {
     "name": "stdout",
     "output_type": "stream",
     "text": [
      "+---------------+----------+-----------------+-------------------+\n",
      "|            uid| timestamp|         latitude|          longitude|\n",
      "+---------------+----------+-----------------+-------------------+\n",
      "|wizardly_joliot|1704119340| 38.3217114212002|  -36.6673339303945|\n",
      "|wizardly_joliot|1704119700|38.32167577212169| -36.66736487400436|\n",
      "|wizardly_joliot|1704155880|38.32095880607729|-36.666748241131394|\n",
      "|wizardly_joliot|1704156000|38.32093630091352| -36.66673870270966|\n",
      "|wizardly_joliot|1704156840|38.32092370280456|  -36.6667470974188|\n",
      "|wizardly_joliot|1704157860|38.32099369377554|  -36.6667731493393|\n",
      "|wizardly_joliot|1704157920|38.32096445136562| -36.66676255801932|\n",
      "|wizardly_joliot|1704158820|38.32092139039607| -36.66674990860071|\n",
      "|wizardly_joliot|1704161280|38.32097084909334| -36.66680909863967|\n",
      "|wizardly_joliot|1704183120|38.32175777610523| -36.66643421364937|\n",
      "|wizardly_joliot|1704184320|38.32162577076888| -36.66641575510961|\n",
      "|wizardly_joliot|1704185400|38.32168492217367| -36.66645400646099|\n",
      "|wizardly_joliot|1704185940| 38.3216828628888| -36.66647275355716|\n",
      "|wizardly_joliot|1704186000|38.32171779748945| -36.66644876975103|\n",
      "|wizardly_joliot|1704186300|38.32175399623248| -36.66643290795198|\n",
      "|wizardly_joliot|1704206340|  38.320050505806| -36.66786900271648|\n",
      "|wizardly_joliot|1704206640|38.32001567401693| -36.66786696873788|\n",
      "|wizardly_joliot|1704208140| 38.3218018622548| -36.66642973257608|\n",
      "|wizardly_joliot|1704208380|38.32182125285691| -36.66644608975595|\n",
      "|wizardly_joliot|1704208560|38.32180327777673| -36.66642264974269|\n",
      "+---------------+----------+-----------------+-------------------+\n",
      "only showing top 20 rows\n",
      "\n"
     ]
    }
   ],
   "source": [
    "# Create a spark dataframe from pandas\n",
    "spark.createDataFrame(pd_df).show()"
   ]
  },
  {
   "cell_type": "code",
   "execution_count": 28,
   "id": "1fcbb638-6b36-47dc-8bff-0d9b474899e5",
   "metadata": {},
   "outputs": [],
   "source": [
    "spark.stop()"
   ]
  },
  {
   "cell_type": "code",
   "execution_count": null,
   "id": "3498f234-9a1a-43ae-b2ec-2ea44048b61c",
   "metadata": {},
   "outputs": [],
   "source": []
  },
  {
   "cell_type": "code",
   "execution_count": null,
   "id": "1384eadd-d64a-48de-b8e1-2d664233c73c",
   "metadata": {},
   "outputs": [],
   "source": []
  }
 ],
 "metadata": {
  "kernelspec": {
   "display_name": "Python (PySpark)",
   "language": "python",
   "name": "pyspark_env"
  },
  "language_info": {
   "codemirror_mode": {
    "name": "ipython",
    "version": 3
   },
   "file_extension": ".py",
   "mimetype": "text/x-python",
   "name": "python",
   "nbconvert_exporter": "python",
   "pygments_lexer": "ipython3",
   "version": "3.10.0"
  }
 },
 "nbformat": 4,
 "nbformat_minor": 5
}

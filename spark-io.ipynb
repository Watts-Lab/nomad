{
 "cells": [
  {
   "cell_type": "code",
   "execution_count": null,
   "id": "0bd1aa0e-4463-4bbd-99a6-bcd772ba3a41",
   "metadata": {},
   "outputs": [],
   "source": [
    "%load_ext autoreload"
   ]
  },
  {
   "cell_type": "code",
   "execution_count": null,
   "id": "244ec2f6-4b7a-4364-9dc9-178324e9a04c",
   "metadata": {},
   "outputs": [],
   "source": [
    "%autoreload 2"
   ]
  },
  {
   "cell_type": "code",
   "execution_count": null,
   "id": "0e7d93a0-2efc-423f-a13a-7a5e92d004b0",
   "metadata": {},
   "outputs": [],
   "source": [
    "import sys\n",
    "import pandas as pd\n",
    "\n",
    "# Define a trace function that logs calls in any file path containing \"pandas\"\n",
    "def trace_calls(frame, event, arg):\n",
    "    if event != 'call':\n",
    "        return\n",
    "    code = frame.f_code\n",
    "    func_name = code.co_name\n",
    "    filename = code.co_filename\n",
    "    # Filter to only show calls from files that include 'pandas' in their path\n",
    "    if 'pandas' in filename:\n",
    "        print(f'Call: {func_name} in {filename}:{code.co_firstlineno}')\n",
    "    return trace_calls\n",
    "\n",
    "# Sample data: a mix of timezone-aware and naive datetime strings\n",
    "data = [\n",
    "    '2021-01-01 00:00:00+00:00',  # UTC\n",
    "    '2021-01-01 01:00:00-05:00',  # Eastern Standard Time (UTC-5)\n",
    "    '2021-01-02 00:00:00+02:00',  # UTC+2\n",
    "    '2021-01-03 12:00:00'         # Naive\n",
    "]\n",
    "\n",
    "s = pd.Series(data)\n",
    "\n",
    "# Set the trace function to capture pandas calls\n",
    "sys.settrace(trace_calls)\n",
    "\n",
    "# Call to_datetime, which will trigger many internal pandas calls\n",
    "result = pd.to_datetime(s, format='mixed')\n",
    "\n",
    "# Disable tracing\n",
    "sys.settrace(None)\n",
    "\n",
    "print(\"\\nResult:\")\n",
    "print(result)"
   ]
  },
  {
   "cell_type": "code",
   "execution_count": null,
   "id": "205cbc38-4e11-4579-9adf-8dc3b1e202ba",
   "metadata": {},
   "outputs": [],
   "source": [
    "import pyspark as psk\n",
    "from pyspark.sql import SparkSession\n",
    "import pandas as pd"
   ]
  },
  {
   "cell_type": "code",
   "execution_count": null,
   "id": "131e029f-5d49-4596-8f88-4a41062eda0a",
   "metadata": {},
   "outputs": [],
   "source": [
    "from nomad.daphmeIO import _naive_to_localized_str, _unix_to_localized_str"
   ]
  },
  {
   "cell_type": "code",
   "execution_count": null,
   "id": "135f70c3-92f4-47ed-a379-81ea7a3017da",
   "metadata": {},
   "outputs": [],
   "source": [
    "spark = SparkSession.builder \\\n",
    "    .master(\"local[4]\") \\\n",
    "    .appName(\"Tests\") \\\n",
    "    .config(\"spark.driver.memory\", \"3g\") \\\n",
    "    .config(\"spark.executor.memory\", \"3g\") \\\n",
    "    .config(\"spark.hadoop.fs.s3a.aws.credentials.provider\", \n",
    "            \"com.amazonaws.auth.DefaultAWSCredentialsProviderChain\") \\\n",
    "    .config(\"spark.jars.packages\", \n",
    "            \"org.apache.hadoop:hadoop-aws:3.3.4,com.amazonaws:aws-java-sdk-bundle:1.12.262\") \\\n",
    "    .getOrCreate()"
   ]
  },
  {
   "cell_type": "code",
   "execution_count": null,
   "id": "ee1fa18f-dde4-4c3e-9649-2970b4130c88",
   "metadata": {},
   "outputs": [],
   "source": [
    "traj_cols = {'user_id': 'uid',\n",
    "             'latitude': 'latitude',\n",
    "             'longitude': 'longitude',\n",
    "             'timestamp': 'timestamp'}"
   ]
  },
  {
   "cell_type": "code",
   "execution_count": null,
   "id": "07ae45da-29eb-48a5-840a-102c2b4c16f2",
   "metadata": {},
   "outputs": [],
   "source": [
    "dataset_path = \"s3://catalog-csslab/garden-city-45k/device-level/admin_1_id=GC/admin_2_id=GC.CD/event_start_date_utc=2024-01-13/\""
   ]
  },
  {
   "cell_type": "markdown",
   "id": "3fc4bc7c-e178-4e70-80df-fae23aecef95",
   "metadata": {},
   "source": [
    "# Read in pandas, create zoned datetime string"
   ]
  },
  {
   "cell_type": "code",
   "execution_count": null,
   "id": "c0b543ba-8273-4280-8284-7e225ae33104",
   "metadata": {},
   "outputs": [],
   "source": [
    "df = from_file(dataset_path, format=\"parquet\", traj_cols=traj_cols)"
   ]
  },
  {
   "cell_type": "code",
   "execution_count": null,
   "id": "aeca1aa3-aacd-470d-8d7c-d6ac1a27cd2d",
   "metadata": {},
   "outputs": [],
   "source": [
    "# We artificially change the offset of some rows to 0\n",
    "df.loc[df.index[:50000],'timezone_offset'] = 0\n",
    "df.loc[df.index[-50000:], 'timezone_offset'] = 3600"
   ]
  },
  {
   "cell_type": "code",
   "execution_count": null,
   "id": "e8478d98-648b-4ecd-859c-cf6e0ef89d1c",
   "metadata": {},
   "outputs": [],
   "source": [
    "%%time\n",
    "df['local_datetime'] = _unix_to_localized_str(df.timestamp, df.timezone_offset)"
   ]
  },
  {
   "cell_type": "markdown",
   "id": "1ab703d1-ea2f-4f65-b408-a5738b6591a4",
   "metadata": {},
   "source": [
    "## Parse with naive + offset option"
   ]
  },
  {
   "cell_type": "code",
   "execution_count": null,
   "id": "fd8c25af-0198-454b-a4fd-9f6603b5fd3f",
   "metadata": {},
   "outputs": [],
   "source": [
    "%%time\n",
    "pd.to_datetime(df.local_datetime, utc=True)"
   ]
  },
  {
   "cell_type": "code",
   "execution_count": null,
   "id": "31615d94-673e-4e40-bb2e-06b075e652c7",
   "metadata": {},
   "outputs": [],
   "source": [
    "%%time\n",
    "pd.to_datetime(pd.to_datetime(df.local_datetime, utc=False))"
   ]
  },
  {
   "cell_type": "code",
   "execution_count": null,
   "id": "095734b2-e195-4495-ad09-9e611c778cad",
   "metadata": {},
   "outputs": [],
   "source": [
    "%%time \n",
    "_naive_to_localized_str(df.local_datetime, df.timezone_offset)"
   ]
  },
  {
   "cell_type": "code",
   "execution_count": null,
   "id": "3f18e338-21cf-4a42-8b93-bca384209ea0",
   "metadata": {},
   "outputs": [],
   "source": [
    "%%time\n",
    "localize_from_offset(df.local_datetime, df.timezone_offset)"
   ]
  },
  {
   "cell_type": "markdown",
   "id": "1c52cce3-3870-403c-a6f9-c203d80fbf3a",
   "metadata": {},
   "source": [
    "## Convert to Spark\n",
    "\n",
    "what happens with datetime format vs string format? what happens to the schema in general? Develop the from_object spark version"
   ]
  },
  {
   "cell_type": "code",
   "execution_count": null,
   "id": "6252e73e-5dc7-494d-acc6-89603b047a0b",
   "metadata": {},
   "outputs": [],
   "source": [
    "df = spark.read.parquet(dataset_path)"
   ]
  },
  {
   "cell_type": "code",
   "execution_count": null,
   "id": "8432605b-24b6-41e7-9140-f4e26dd950a3",
   "metadata": {},
   "outputs": [],
   "source": []
  },
  {
   "cell_type": "code",
   "execution_count": null,
   "id": "841da04a-6e40-4138-9cb4-1e0abf9e61e5",
   "metadata": {},
   "outputs": [],
   "source": []
  },
  {
   "cell_type": "code",
   "execution_count": null,
   "id": "85652d9f-0704-4f32-97fd-0459c4f0ba63",
   "metadata": {},
   "outputs": [],
   "source": [
    "first_timestamp = df.select('timestamp').take(1)\n",
    "len(str(first_timestamp[0]['timestamp']))"
   ]
  },
  {
   "cell_type": "code",
   "execution_count": null,
   "id": "1c349077-cb53-4019-8942-e3533fa7797c",
   "metadata": {},
   "outputs": [],
   "source": [
    "_is_traj_df_spark(df)"
   ]
  },
  {
   "cell_type": "code",
   "execution_count": null,
   "id": "71c1eab1-b005-450b-bfec-ccfba6c6f451",
   "metadata": {},
   "outputs": [],
   "source": []
  },
  {
   "cell_type": "code",
   "execution_count": null,
   "id": "fc07b185-f46d-4b48-8b42-042f397a680b",
   "metadata": {},
   "outputs": [],
   "source": [
    "pd_df = pd.read_csv('./daphme/nomad/data/gc_sample.csv')"
   ]
  },
  {
   "cell_type": "code",
   "execution_count": null,
   "id": "671c8d86-36d3-4814-8594-7288e3dcd2c9",
   "metadata": {},
   "outputs": [],
   "source": [
    "(isinstance(pd_df, psk.sql.dataframe.DataFrame))"
   ]
  },
  {
   "cell_type": "code",
   "execution_count": null,
   "id": "f51f2b47-5179-4abd-9c1b-1721ad7b9970",
   "metadata": {},
   "outputs": [],
   "source": [
    "# Create a spark dataframe from pandas\n",
    "spark.createDataFrame(pd_df).show()"
   ]
  },
  {
   "cell_type": "code",
   "execution_count": null,
   "id": "1fcbb638-6b36-47dc-8bff-0d9b474899e5",
   "metadata": {},
   "outputs": [],
   "source": [
    "spark.stop()"
   ]
  },
  {
   "cell_type": "code",
   "execution_count": null,
   "id": "3498f234-9a1a-43ae-b2ec-2ea44048b61c",
   "metadata": {},
   "outputs": [],
   "source": []
  },
  {
   "cell_type": "code",
   "execution_count": null,
   "id": "1384eadd-d64a-48de-b8e1-2d664233c73c",
   "metadata": {},
   "outputs": [],
   "source": []
  }
 ],
 "metadata": {
  "kernelspec": {
   "display_name": "Python (PySpark)",
   "language": "python",
   "name": "pyspark-kernel"
  },
  "language_info": {
   "codemirror_mode": {
    "name": "ipython",
    "version": 3
   },
   "file_extension": ".py",
   "mimetype": "text/x-python",
   "name": "python",
   "nbconvert_exporter": "python",
   "pygments_lexer": "ipython3",
   "version": "3.12.3"
  }
 },
 "nbformat": 4,
 "nbformat_minor": 5
}

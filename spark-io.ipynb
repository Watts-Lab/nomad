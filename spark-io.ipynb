{
 "cells": [
  {
   "cell_type": "code",
   "execution_count": 1,
   "id": "0bd1aa0e-4463-4bbd-99a6-bcd772ba3a41",
   "metadata": {},
   "outputs": [],
   "source": [
    "%load_ext autoreload"
   ]
  },
  {
   "cell_type": "code",
   "execution_count": 2,
   "id": "244ec2f6-4b7a-4364-9dc9-178324e9a04c",
   "metadata": {},
   "outputs": [],
   "source": [
    "%autoreload 2"
   ]
  },
  {
   "cell_type": "code",
   "execution_count": 2,
   "id": "0e7d93a0-2efc-423f-a13a-7a5e92d004b0",
   "metadata": {},
   "outputs": [
    {
     "name": "stdout",
     "output_type": "stream",
     "text": [
      "Call: __init__ in C:\\Users\\pacob\\Documents\\nomad-pyspark\\Lib\\site-packages\\pandas\\core\\series.py:389\n",
      "Call: maybe_extract_name in C:\\Users\\pacob\\Documents\\nomad-pyspark\\Lib\\site-packages\\pandas\\core\\indexes\\base.py:7688\n",
      "Call: _instancecheck in C:\\Users\\pacob\\Documents\\nomad-pyspark\\Lib\\site-packages\\pandas\\core\\dtypes\\generic.py:42\n",
      "Call: _check in C:\\Users\\pacob\\Documents\\nomad-pyspark\\Lib\\site-packages\\pandas\\core\\dtypes\\generic.py:37\n",
      "Call: is_hashable in C:\\Users\\pacob\\Documents\\nomad-pyspark\\Lib\\site-packages\\pandas\\core\\dtypes\\inference.py:334\n",
      "Call: maybe_iterable_to_list in C:\\Users\\pacob\\Documents\\nomad-pyspark\\Lib\\site-packages\\pandas\\core\\common.py:301\n",
      "Call: default_index in C:\\Users\\pacob\\Documents\\nomad-pyspark\\Lib\\site-packages\\pandas\\core\\indexes\\api.py:386\n",
      "Call: _simple_new in C:\\Users\\pacob\\Documents\\nomad-pyspark\\Lib\\site-packages\\pandas\\core\\indexes\\range.py:201\n",
      "Call: _reset_identity in C:\\Users\\pacob\\Documents\\nomad-pyspark\\Lib\\site-packages\\pandas\\core\\indexes\\base.py:831\n",
      "Call: sanitize_array in C:\\Users\\pacob\\Documents\\nomad-pyspark\\Lib\\site-packages\\pandas\\core\\construction.py:517\n",
      "Call: _instancecheck in C:\\Users\\pacob\\Documents\\nomad-pyspark\\Lib\\site-packages\\pandas\\core\\dtypes\\generic.py:42\n",
      "Call: _check in C:\\Users\\pacob\\Documents\\nomad-pyspark\\Lib\\site-packages\\pandas\\core\\dtypes\\generic.py:37\n",
      "Call: extract_array in C:\\Users\\pacob\\Documents\\nomad-pyspark\\Lib\\site-packages\\pandas\\core\\construction.py:416\n",
      "Call: _instancecheck in C:\\Users\\pacob\\Documents\\nomad-pyspark\\Lib\\site-packages\\pandas\\core\\dtypes\\generic.py:42\n",
      "Call: _check in C:\\Users\\pacob\\Documents\\nomad-pyspark\\Lib\\site-packages\\pandas\\core\\dtypes\\generic.py:37\n",
      "Call: _sanitize_non_ordered in C:\\Users\\pacob\\Documents\\nomad-pyspark\\Lib\\site-packages\\pandas\\core\\construction.py:688\n",
      "Call: maybe_convert_platform in C:\\Users\\pacob\\Documents\\nomad-pyspark\\Lib\\site-packages\\pandas\\core\\dtypes\\cast.py:123\n",
      "Call: construct_1d_object_array_from_listlike in C:\\Users\\pacob\\Documents\\nomad-pyspark\\Lib\\site-packages\\pandas\\core\\dtypes\\cast.py:1579\n",
      "Call: maybe_infer_to_datetimelike in C:\\Users\\pacob\\Documents\\nomad-pyspark\\Lib\\site-packages\\pandas\\core\\dtypes\\cast.py:1156\n",
      "Call: using_pyarrow_string_dtype in C:\\Users\\pacob\\Documents\\nomad-pyspark\\Lib\\site-packages\\pandas\\_config\\__init__.py:55\n",
      "Call: _sanitize_ndim in C:\\Users\\pacob\\Documents\\nomad-pyspark\\Lib\\site-packages\\pandas\\core\\construction.py:696\n",
      "Call: _maybe_repeat in C:\\Users\\pacob\\Documents\\nomad-pyspark\\Lib\\site-packages\\pandas\\core\\construction.py:758\n",
      "Call: _sanitize_str_dtypes in C:\\Users\\pacob\\Documents\\nomad-pyspark\\Lib\\site-packages\\pandas\\core\\construction.py:735\n",
      "Call: _get_option in C:\\Users\\pacob\\Documents\\nomad-pyspark\\Lib\\site-packages\\pandas\\_config\\config.py:145\n",
      "Call: _get_single_key in C:\\Users\\pacob\\Documents\\nomad-pyspark\\Lib\\site-packages\\pandas\\_config\\config.py:127\n",
      "Call: _select_options in C:\\Users\\pacob\\Documents\\nomad-pyspark\\Lib\\site-packages\\pandas\\_config\\config.py:617\n",
      "Call: _translate_key in C:\\Users\\pacob\\Documents\\nomad-pyspark\\Lib\\site-packages\\pandas\\_config\\config.py:676\n",
      "Call: _get_deprecated_option in C:\\Users\\pacob\\Documents\\nomad-pyspark\\Lib\\site-packages\\pandas\\_config\\config.py:649\n",
      "Call: _get_root in C:\\Users\\pacob\\Documents\\nomad-pyspark\\Lib\\site-packages\\pandas\\_config\\config.py:635\n",
      "Call: from_array in C:\\Users\\pacob\\Documents\\nomad-pyspark\\Lib\\site-packages\\pandas\\core\\internals\\managers.py:1863\n",
      "Call: maybe_coerce_values in C:\\Users\\pacob\\Documents\\nomad-pyspark\\Lib\\site-packages\\pandas\\core\\internals\\blocks.py:2645\n",
      "Call: ensure_wrapped_if_datetimelike in C:\\Users\\pacob\\Documents\\nomad-pyspark\\Lib\\site-packages\\pandas\\core\\construction.py:481\n",
      "Call: __len__ in C:\\Users\\pacob\\Documents\\nomad-pyspark\\Lib\\site-packages\\pandas\\core\\indexes\\range.py:999\n",
      "Call: new_block in C:\\Users\\pacob\\Documents\\nomad-pyspark\\Lib\\site-packages\\pandas\\core\\internals\\blocks.py:2716\n",
      "Call: get_block_type in C:\\Users\\pacob\\Documents\\nomad-pyspark\\Lib\\site-packages\\pandas\\core\\internals\\blocks.py:2674\n",
      "Call: __init__ in C:\\Users\\pacob\\Documents\\nomad-pyspark\\Lib\\site-packages\\pandas\\core\\internals\\managers.py:1837\n",
      "Call: __init__ in C:\\Users\\pacob\\Documents\\nomad-pyspark\\Lib\\site-packages\\pandas\\core\\generic.py:278\n",
      "Call: __init__ in C:\\Users\\pacob\\Documents\\nomad-pyspark\\Lib\\site-packages\\pandas\\core\\flags.py:51\n",
      "Call: __setattr__ in C:\\Users\\pacob\\Documents\\nomad-pyspark\\Lib\\site-packages\\pandas\\core\\generic.py:6301\n",
      "Call: name in C:\\Users\\pacob\\Documents\\nomad-pyspark\\Lib\\site-packages\\pandas\\core\\series.py:734\n",
      "Call: __getattr__ in C:\\Users\\pacob\\Documents\\nomad-pyspark\\Lib\\site-packages\\pandas\\core\\generic.py:6284\n",
      "Call: name in C:\\Users\\pacob\\Documents\\nomad-pyspark\\Lib\\site-packages\\pandas\\core\\series.py:784\n",
      "Call: validate_all_hashable in C:\\Users\\pacob\\Documents\\nomad-pyspark\\Lib\\site-packages\\pandas\\core\\dtypes\\common.py:1571\n",
      "Call: <genexpr> in C:\\Users\\pacob\\Documents\\nomad-pyspark\\Lib\\site-packages\\pandas\\core\\dtypes\\common.py:1590\n",
      "Call: is_hashable in C:\\Users\\pacob\\Documents\\nomad-pyspark\\Lib\\site-packages\\pandas\\core\\dtypes\\inference.py:334\n",
      "Call: <genexpr> in C:\\Users\\pacob\\Documents\\nomad-pyspark\\Lib\\site-packages\\pandas\\core\\dtypes\\common.py:1590\n",
      "Call: _set_axis in C:\\Users\\pacob\\Documents\\nomad-pyspark\\Lib\\site-packages\\pandas\\core\\generic.py:807\n",
      "Call: ensure_index in C:\\Users\\pacob\\Documents\\nomad-pyspark\\Lib\\site-packages\\pandas\\core\\indexes\\base.py:7593\n",
      "Call: set_axis in C:\\Users\\pacob\\Documents\\nomad-pyspark\\Lib\\site-packages\\pandas\\core\\internals\\managers.py:236\n",
      "Call: _validate_set_axis in C:\\Users\\pacob\\Documents\\nomad-pyspark\\Lib\\site-packages\\pandas\\core\\internals\\base.py:86\n",
      "Call: __len__ in C:\\Users\\pacob\\Documents\\nomad-pyspark\\Lib\\site-packages\\pandas\\core\\indexes\\range.py:999\n",
      "Call: __len__ in C:\\Users\\pacob\\Documents\\nomad-pyspark\\Lib\\site-packages\\pandas\\core\\indexes\\range.py:999\n",
      "Call: _clear_item_cache in C:\\Users\\pacob\\Documents\\nomad-pyspark\\Lib\\site-packages\\pandas\\core\\series.py:1480\n",
      "Call: to_datetime in C:\\Users\\pacob\\Documents\\nomad-pyspark\\Lib\\site-packages\\pandas\\core\\tools\\datetimes.py:673\n",
      "Call: _instancecheck in C:\\Users\\pacob\\Documents\\nomad-pyspark\\Lib\\site-packages\\pandas\\core\\dtypes\\generic.py:42\n",
      "Call: _check in C:\\Users\\pacob\\Documents\\nomad-pyspark\\Lib\\site-packages\\pandas\\core\\dtypes\\generic.py:37\n",
      "Call: _maybe_cache in C:\\Users\\pacob\\Documents\\nomad-pyspark\\Lib\\site-packages\\pandas\\core\\tools\\datetimes.py:209\n",
      "Call: __init__ in C:\\Users\\pacob\\Documents\\nomad-pyspark\\Lib\\site-packages\\pandas\\core\\series.py:389\n",
      "Call: maybe_extract_name in C:\\Users\\pacob\\Documents\\nomad-pyspark\\Lib\\site-packages\\pandas\\core\\indexes\\base.py:7688\n",
      "Call: _instancecheck in C:\\Users\\pacob\\Documents\\nomad-pyspark\\Lib\\site-packages\\pandas\\core\\dtypes\\generic.py:42\n",
      "Call: _check in C:\\Users\\pacob\\Documents\\nomad-pyspark\\Lib\\site-packages\\pandas\\core\\dtypes\\generic.py:37\n",
      "Call: is_hashable in C:\\Users\\pacob\\Documents\\nomad-pyspark\\Lib\\site-packages\\pandas\\core\\dtypes\\inference.py:334\n",
      "Call: _validate_dtype in C:\\Users\\pacob\\Documents\\nomad-pyspark\\Lib\\site-packages\\pandas\\core\\generic.py:511\n",
      "Call: pandas_dtype in C:\\Users\\pacob\\Documents\\nomad-pyspark\\Lib\\site-packages\\pandas\\core\\dtypes\\common.py:1596\n",
      "Call: find in C:\\Users\\pacob\\Documents\\nomad-pyspark\\Lib\\site-packages\\pandas\\core\\dtypes\\base.py:549\n",
      "Call: is_hashable in C:\\Users\\pacob\\Documents\\nomad-pyspark\\Lib\\site-packages\\pandas\\core\\dtypes\\inference.py:334\n",
      "Call: default_index in C:\\Users\\pacob\\Documents\\nomad-pyspark\\Lib\\site-packages\\pandas\\core\\indexes\\api.py:386\n",
      "Call: _simple_new in C:\\Users\\pacob\\Documents\\nomad-pyspark\\Lib\\site-packages\\pandas\\core\\indexes\\range.py:201\n",
      "Call: _reset_identity in C:\\Users\\pacob\\Documents\\nomad-pyspark\\Lib\\site-packages\\pandas\\core\\indexes\\base.py:831\n",
      "Call: __len__ in C:\\Users\\pacob\\Documents\\nomad-pyspark\\Lib\\site-packages\\pandas\\core\\indexes\\range.py:999\n",
      "Call: pandas_dtype in C:\\Users\\pacob\\Documents\\nomad-pyspark\\Lib\\site-packages\\pandas\\core\\dtypes\\common.py:1596\n",
      "Call: na_value_for_dtype in C:\\Users\\pacob\\Documents\\nomad-pyspark\\Lib\\site-packages\\pandas\\core\\dtypes\\missing.py:673\n",
      "Call: maybe_iterable_to_list in C:\\Users\\pacob\\Documents\\nomad-pyspark\\Lib\\site-packages\\pandas\\core\\common.py:301\n",
      "Call: sanitize_array in C:\\Users\\pacob\\Documents\\nomad-pyspark\\Lib\\site-packages\\pandas\\core\\construction.py:517\n",
      "Call: _instancecheck in C:\\Users\\pacob\\Documents\\nomad-pyspark\\Lib\\site-packages\\pandas\\core\\dtypes\\generic.py:42\n",
      "Call: _check in C:\\Users\\pacob\\Documents\\nomad-pyspark\\Lib\\site-packages\\pandas\\core\\dtypes\\generic.py:37\n",
      "Call: extract_array in C:\\Users\\pacob\\Documents\\nomad-pyspark\\Lib\\site-packages\\pandas\\core\\construction.py:416\n",
      "Call: __len__ in C:\\Users\\pacob\\Documents\\nomad-pyspark\\Lib\\site-packages\\pandas\\core\\indexes\\range.py:999\n",
      "Call: construct_1d_arraylike_from_scalar in C:\\Users\\pacob\\Documents\\nomad-pyspark\\Lib\\site-packages\\pandas\\core\\dtypes\\cast.py:1518\n",
      "Call: _get_option in C:\\Users\\pacob\\Documents\\nomad-pyspark\\Lib\\site-packages\\pandas\\_config\\config.py:145\n",
      "Call: _get_single_key in C:\\Users\\pacob\\Documents\\nomad-pyspark\\Lib\\site-packages\\pandas\\_config\\config.py:127\n",
      "Call: _select_options in C:\\Users\\pacob\\Documents\\nomad-pyspark\\Lib\\site-packages\\pandas\\_config\\config.py:617\n",
      "Call: _translate_key in C:\\Users\\pacob\\Documents\\nomad-pyspark\\Lib\\site-packages\\pandas\\_config\\config.py:676\n",
      "Call: _get_deprecated_option in C:\\Users\\pacob\\Documents\\nomad-pyspark\\Lib\\site-packages\\pandas\\_config\\config.py:649\n",
      "Call: _get_root in C:\\Users\\pacob\\Documents\\nomad-pyspark\\Lib\\site-packages\\pandas\\_config\\config.py:635\n",
      "Call: from_array in C:\\Users\\pacob\\Documents\\nomad-pyspark\\Lib\\site-packages\\pandas\\core\\internals\\managers.py:1863\n",
      "Call: maybe_coerce_values in C:\\Users\\pacob\\Documents\\nomad-pyspark\\Lib\\site-packages\\pandas\\core\\internals\\blocks.py:2645\n",
      "Call: ensure_wrapped_if_datetimelike in C:\\Users\\pacob\\Documents\\nomad-pyspark\\Lib\\site-packages\\pandas\\core\\construction.py:481\n",
      "Call: __len__ in C:\\Users\\pacob\\Documents\\nomad-pyspark\\Lib\\site-packages\\pandas\\core\\indexes\\range.py:999\n",
      "Call: new_block in C:\\Users\\pacob\\Documents\\nomad-pyspark\\Lib\\site-packages\\pandas\\core\\internals\\blocks.py:2716\n",
      "Call: get_block_type in C:\\Users\\pacob\\Documents\\nomad-pyspark\\Lib\\site-packages\\pandas\\core\\internals\\blocks.py:2674\n",
      "Call: __init__ in C:\\Users\\pacob\\Documents\\nomad-pyspark\\Lib\\site-packages\\pandas\\core\\internals\\managers.py:1837\n",
      "Call: __init__ in C:\\Users\\pacob\\Documents\\nomad-pyspark\\Lib\\site-packages\\pandas\\core\\generic.py:278\n",
      "Call: __init__ in C:\\Users\\pacob\\Documents\\nomad-pyspark\\Lib\\site-packages\\pandas\\core\\flags.py:51\n",
      "Call: __setattr__ in C:\\Users\\pacob\\Documents\\nomad-pyspark\\Lib\\site-packages\\pandas\\core\\generic.py:6301\n",
      "Call: name in C:\\Users\\pacob\\Documents\\nomad-pyspark\\Lib\\site-packages\\pandas\\core\\series.py:734\n",
      "Call: __getattr__ in C:\\Users\\pacob\\Documents\\nomad-pyspark\\Lib\\site-packages\\pandas\\core\\generic.py:6284\n",
      "Call: name in C:\\Users\\pacob\\Documents\\nomad-pyspark\\Lib\\site-packages\\pandas\\core\\series.py:784\n",
      "Call: validate_all_hashable in C:\\Users\\pacob\\Documents\\nomad-pyspark\\Lib\\site-packages\\pandas\\core\\dtypes\\common.py:1571\n",
      "Call: <genexpr> in C:\\Users\\pacob\\Documents\\nomad-pyspark\\Lib\\site-packages\\pandas\\core\\dtypes\\common.py:1590\n",
      "Call: is_hashable in C:\\Users\\pacob\\Documents\\nomad-pyspark\\Lib\\site-packages\\pandas\\core\\dtypes\\inference.py:334\n",
      "Call: <genexpr> in C:\\Users\\pacob\\Documents\\nomad-pyspark\\Lib\\site-packages\\pandas\\core\\dtypes\\common.py:1590\n",
      "Call: _set_axis in C:\\Users\\pacob\\Documents\\nomad-pyspark\\Lib\\site-packages\\pandas\\core\\generic.py:807\n",
      "Call: ensure_index in C:\\Users\\pacob\\Documents\\nomad-pyspark\\Lib\\site-packages\\pandas\\core\\indexes\\base.py:7593\n",
      "Call: set_axis in C:\\Users\\pacob\\Documents\\nomad-pyspark\\Lib\\site-packages\\pandas\\core\\internals\\managers.py:236\n",
      "Call: _validate_set_axis in C:\\Users\\pacob\\Documents\\nomad-pyspark\\Lib\\site-packages\\pandas\\core\\internals\\base.py:86\n",
      "Call: __len__ in C:\\Users\\pacob\\Documents\\nomad-pyspark\\Lib\\site-packages\\pandas\\core\\indexes\\range.py:999\n",
      "Call: __len__ in C:\\Users\\pacob\\Documents\\nomad-pyspark\\Lib\\site-packages\\pandas\\core\\indexes\\range.py:999\n",
      "Call: _clear_item_cache in C:\\Users\\pacob\\Documents\\nomad-pyspark\\Lib\\site-packages\\pandas\\core\\series.py:1480\n",
      "Call: should_cache in C:\\Users\\pacob\\Documents\\nomad-pyspark\\Lib\\site-packages\\pandas\\core\\tools\\datetimes.py:149\n",
      "Call: __len__ in C:\\Users\\pacob\\Documents\\nomad-pyspark\\Lib\\site-packages\\pandas\\core\\series.py:914\n",
      "Call: __len__ in C:\\Users\\pacob\\Documents\\nomad-pyspark\\Lib\\site-packages\\pandas\\core\\internals\\base.py:74\n",
      "Call: items in C:\\Users\\pacob\\Documents\\nomad-pyspark\\Lib\\site-packages\\pandas\\core\\internals\\managers.py:246\n",
      "Call: __len__ in C:\\Users\\pacob\\Documents\\nomad-pyspark\\Lib\\site-packages\\pandas\\core\\indexes\\range.py:999\n",
      "Call: empty in C:\\Users\\pacob\\Documents\\nomad-pyspark\\Lib\\site-packages\\pandas\\core\\base.py:675\n",
      "Call: size in C:\\Users\\pacob\\Documents\\nomad-pyspark\\Lib\\site-packages\\pandas\\core\\base.py:448\n",
      "Call: _values in C:\\Users\\pacob\\Documents\\nomad-pyspark\\Lib\\site-packages\\pandas\\core\\series.py:831\n",
      "Call: internal_values in C:\\Users\\pacob\\Documents\\nomad-pyspark\\Lib\\site-packages\\pandas\\core\\internals\\managers.py:2004\n",
      "Call: _block in C:\\Users\\pacob\\Documents\\nomad-pyspark\\Lib\\site-packages\\pandas\\core\\internals\\managers.py:1940\n",
      "Call: _values in C:\\Users\\pacob\\Documents\\nomad-pyspark\\Lib\\site-packages\\pandas\\core\\series.py:831\n",
      "Call: internal_values in C:\\Users\\pacob\\Documents\\nomad-pyspark\\Lib\\site-packages\\pandas\\core\\internals\\managers.py:2004\n",
      "Call: _block in C:\\Users\\pacob\\Documents\\nomad-pyspark\\Lib\\site-packages\\pandas\\core\\internals\\managers.py:1940\n",
      "Call: _convert_listlike_datetimes in C:\\Users\\pacob\\Documents\\nomad-pyspark\\Lib\\site-packages\\pandas\\core\\tools\\datetimes.py:314\n",
      "Call: maybe_convert_dtype in C:\\Users\\pacob\\Documents\\nomad-pyspark\\Lib\\site-packages\\pandas\\core\\arrays\\datetimes.py:2428\n",
      "Call: is_float_dtype in C:\\Users\\pacob\\Documents\\nomad-pyspark\\Lib\\site-packages\\pandas\\core\\dtypes\\common.py:1163\n",
      "Call: classes in C:\\Users\\pacob\\Documents\\nomad-pyspark\\Lib\\site-packages\\pandas\\core\\dtypes\\common.py:121\n",
      "Call: _is_dtype_type in C:\\Users\\pacob\\Documents\\nomad-pyspark\\Lib\\site-packages\\pandas\\core\\dtypes\\common.py:1434\n",
      "Call: <lambda> in C:\\Users\\pacob\\Documents\\nomad-pyspark\\Lib\\site-packages\\pandas\\core\\dtypes\\common.py:123\n",
      "Call: _is_dtype in C:\\Users\\pacob\\Documents\\nomad-pyspark\\Lib\\site-packages\\pandas\\core\\dtypes\\common.py:1375\n",
      "Call: _get_dtype in C:\\Users\\pacob\\Documents\\nomad-pyspark\\Lib\\site-packages\\pandas\\core\\dtypes\\common.py:1399\n",
      "Call: <lambda> in C:\\Users\\pacob\\Documents\\nomad-pyspark\\Lib\\site-packages\\pandas\\core\\dtypes\\common.py:1194\n",
      "Call: is_bool_dtype in C:\\Users\\pacob\\Documents\\nomad-pyspark\\Lib\\site-packages\\pandas\\core\\dtypes\\common.py:1198\n",
      "Call: _get_dtype in C:\\Users\\pacob\\Documents\\nomad-pyspark\\Lib\\site-packages\\pandas\\core\\dtypes\\common.py:1399\n",
      "Call: _instancecheck in C:\\Users\\pacob\\Documents\\nomad-pyspark\\Lib\\site-packages\\pandas\\core\\dtypes\\generic.py:42\n",
      "Call: _check in C:\\Users\\pacob\\Documents\\nomad-pyspark\\Lib\\site-packages\\pandas\\core\\dtypes\\generic.py:37\n",
      "Call: objects_to_datetime64 in C:\\Users\\pacob\\Documents\\nomad-pyspark\\Lib\\site-packages\\pandas\\core\\arrays\\datetimes.py:2354\n",
      "Call: find_stack_level in C:\\Users\\pacob\\Documents\\nomad-pyspark\\Lib\\site-packages\\pandas\\util\\_exceptions.py:34\n",
      "Call: _box_as_indexlike in C:\\Users\\pacob\\Documents\\nomad-pyspark\\Lib\\site-packages\\pandas\\core\\tools\\datetimes.py:259\n",
      "Call: __new__ in C:\\Users\\pacob\\Documents\\nomad-pyspark\\Lib\\site-packages\\pandas\\core\\indexes\\base.py:475\n",
      "Call: maybe_extract_name in C:\\Users\\pacob\\Documents\\nomad-pyspark\\Lib\\site-packages\\pandas\\core\\indexes\\base.py:7688\n",
      "Call: _instancecheck in C:\\Users\\pacob\\Documents\\nomad-pyspark\\Lib\\site-packages\\pandas\\core\\dtypes\\generic.py:42\n",
      "Call: _check in C:\\Users\\pacob\\Documents\\nomad-pyspark\\Lib\\site-packages\\pandas\\core\\dtypes\\generic.py:37\n",
      "Call: is_hashable in C:\\Users\\pacob\\Documents\\nomad-pyspark\\Lib\\site-packages\\pandas\\core\\dtypes\\inference.py:334\n",
      "Call: pandas_dtype in C:\\Users\\pacob\\Documents\\nomad-pyspark\\Lib\\site-packages\\pandas\\core\\dtypes\\common.py:1596\n",
      "Call: _instancecheck in C:\\Users\\pacob\\Documents\\nomad-pyspark\\Lib\\site-packages\\pandas\\core\\dtypes\\generic.py:42\n",
      "Call: _check in C:\\Users\\pacob\\Documents\\nomad-pyspark\\Lib\\site-packages\\pandas\\core\\dtypes\\generic.py:37\n",
      "Call: _instancecheck in C:\\Users\\pacob\\Documents\\nomad-pyspark\\Lib\\site-packages\\pandas\\core\\dtypes\\generic.py:42\n",
      "Call: _check in C:\\Users\\pacob\\Documents\\nomad-pyspark\\Lib\\site-packages\\pandas\\core\\dtypes\\generic.py:37\n",
      "Call: is_ea_or_datetimelike_dtype in C:\\Users\\pacob\\Documents\\nomad-pyspark\\Lib\\site-packages\\pandas\\core\\dtypes\\common.py:1331\n",
      "Call: is_ea_or_datetimelike_dtype in C:\\Users\\pacob\\Documents\\nomad-pyspark\\Lib\\site-packages\\pandas\\core\\dtypes\\common.py:1331\n",
      "Call: _instancecheck in C:\\Users\\pacob\\Documents\\nomad-pyspark\\Lib\\site-packages\\pandas\\core\\dtypes\\generic.py:42\n",
      "Call: _check in C:\\Users\\pacob\\Documents\\nomad-pyspark\\Lib\\site-packages\\pandas\\core\\dtypes\\generic.py:37\n",
      "Call: asarray_tuplesafe in C:\\Users\\pacob\\Documents\\nomad-pyspark\\Lib\\site-packages\\pandas\\core\\common.py:231\n",
      "Call: _instancecheck in C:\\Users\\pacob\\Documents\\nomad-pyspark\\Lib\\site-packages\\pandas\\core\\dtypes\\generic.py:42\n",
      "Call: _check in C:\\Users\\pacob\\Documents\\nomad-pyspark\\Lib\\site-packages\\pandas\\core\\dtypes\\generic.py:37\n",
      "Call: _instancecheck in C:\\Users\\pacob\\Documents\\nomad-pyspark\\Lib\\site-packages\\pandas\\core\\dtypes\\generic.py:42\n",
      "Call: _check in C:\\Users\\pacob\\Documents\\nomad-pyspark\\Lib\\site-packages\\pandas\\core\\dtypes\\generic.py:37\n",
      "Call: sanitize_array in C:\\Users\\pacob\\Documents\\nomad-pyspark\\Lib\\site-packages\\pandas\\core\\construction.py:517\n",
      "Call: _instancecheck in C:\\Users\\pacob\\Documents\\nomad-pyspark\\Lib\\site-packages\\pandas\\core\\dtypes\\generic.py:42\n",
      "Call: _check in C:\\Users\\pacob\\Documents\\nomad-pyspark\\Lib\\site-packages\\pandas\\core\\dtypes\\generic.py:37\n",
      "Call: extract_array in C:\\Users\\pacob\\Documents\\nomad-pyspark\\Lib\\site-packages\\pandas\\core\\construction.py:416\n",
      "Call: _instancecheck in C:\\Users\\pacob\\Documents\\nomad-pyspark\\Lib\\site-packages\\pandas\\core\\dtypes\\generic.py:42\n",
      "Call: _check in C:\\Users\\pacob\\Documents\\nomad-pyspark\\Lib\\site-packages\\pandas\\core\\dtypes\\generic.py:37\n",
      "Call: _try_cast in C:\\Users\\pacob\\Documents\\nomad-pyspark\\Lib\\site-packages\\pandas\\core\\construction.py:769\n",
      "Call: ensure_wrapped_if_datetimelike in C:\\Users\\pacob\\Documents\\nomad-pyspark\\Lib\\site-packages\\pandas\\core\\construction.py:481\n",
      "Call: _sanitize_ndim in C:\\Users\\pacob\\Documents\\nomad-pyspark\\Lib\\site-packages\\pandas\\core\\construction.py:696\n",
      "Call: _maybe_repeat in C:\\Users\\pacob\\Documents\\nomad-pyspark\\Lib\\site-packages\\pandas\\core\\construction.py:758\n",
      "Call: _sanitize_str_dtypes in C:\\Users\\pacob\\Documents\\nomad-pyspark\\Lib\\site-packages\\pandas\\core\\construction.py:735\n",
      "Call: ensure_wrapped_if_datetimelike in C:\\Users\\pacob\\Documents\\nomad-pyspark\\Lib\\site-packages\\pandas\\core\\construction.py:481\n",
      "Call: _dtype_to_subclass in C:\\Users\\pacob\\Documents\\nomad-pyspark\\Lib\\site-packages\\pandas\\core\\indexes\\base.py:609\n",
      "Call: _ensure_array in C:\\Users\\pacob\\Documents\\nomad-pyspark\\Lib\\site-packages\\pandas\\core\\indexes\\base.py:591\n",
      "Call: _simple_new in C:\\Users\\pacob\\Documents\\nomad-pyspark\\Lib\\site-packages\\pandas\\core\\indexes\\base.py:649\n",
      "Call: _reset_identity in C:\\Users\\pacob\\Documents\\nomad-pyspark\\Lib\\site-packages\\pandas\\core\\indexes\\base.py:831\n",
      "Call: _constructor in C:\\Users\\pacob\\Documents\\nomad-pyspark\\Lib\\site-packages\\pandas\\core\\series.py:660\n",
      "Call: name in C:\\Users\\pacob\\Documents\\nomad-pyspark\\Lib\\site-packages\\pandas\\core\\series.py:734\n",
      "Call: __init__ in C:\\Users\\pacob\\Documents\\nomad-pyspark\\Lib\\site-packages\\pandas\\core\\series.py:389\n",
      "Call: dtype in C:\\Users\\pacob\\Documents\\nomad-pyspark\\Lib\\site-packages\\pandas\\core\\indexes\\base.py:974\n",
      "Call: maybe_extract_name in C:\\Users\\pacob\\Documents\\nomad-pyspark\\Lib\\site-packages\\pandas\\core\\indexes\\base.py:7688\n",
      "Call: name in C:\\Users\\pacob\\Documents\\nomad-pyspark\\Lib\\site-packages\\pandas\\core\\indexes\\base.py:1671\n",
      "Call: is_hashable in C:\\Users\\pacob\\Documents\\nomad-pyspark\\Lib\\site-packages\\pandas\\core\\dtypes\\inference.py:334\n",
      "Call: ensure_index in C:\\Users\\pacob\\Documents\\nomad-pyspark\\Lib\\site-packages\\pandas\\core\\indexes\\base.py:7593\n",
      "Call: using_copy_on_write in C:\\Users\\pacob\\Documents\\nomad-pyspark\\Lib\\site-packages\\pandas\\_config\\__init__.py:34\n",
      "Call: _values in C:\\Users\\pacob\\Documents\\nomad-pyspark\\Lib\\site-packages\\pandas\\core\\indexes\\base.py:5144\n",
      "Call: require_length_match in C:\\Users\\pacob\\Documents\\nomad-pyspark\\Lib\\site-packages\\pandas\\core\\common.py:568\n",
      "Call: __len__ in C:\\Users\\pacob\\Documents\\nomad-pyspark\\Lib\\site-packages\\pandas\\core\\indexes\\range.py:999\n",
      "Call: sanitize_array in C:\\Users\\pacob\\Documents\\nomad-pyspark\\Lib\\site-packages\\pandas\\core\\construction.py:517\n",
      "Call: _instancecheck in C:\\Users\\pacob\\Documents\\nomad-pyspark\\Lib\\site-packages\\pandas\\core\\dtypes\\generic.py:42\n",
      "Call: _check in C:\\Users\\pacob\\Documents\\nomad-pyspark\\Lib\\site-packages\\pandas\\core\\dtypes\\generic.py:37\n",
      "Call: extract_array in C:\\Users\\pacob\\Documents\\nomad-pyspark\\Lib\\site-packages\\pandas\\core\\construction.py:416\n",
      "Call: _instancecheck in C:\\Users\\pacob\\Documents\\nomad-pyspark\\Lib\\site-packages\\pandas\\core\\dtypes\\generic.py:42\n",
      "Call: _check in C:\\Users\\pacob\\Documents\\nomad-pyspark\\Lib\\site-packages\\pandas\\core\\dtypes\\generic.py:37\n",
      "Call: maybe_infer_to_datetimelike in C:\\Users\\pacob\\Documents\\nomad-pyspark\\Lib\\site-packages\\pandas\\core\\dtypes\\cast.py:1156\n",
      "Call: _sanitize_ndim in C:\\Users\\pacob\\Documents\\nomad-pyspark\\Lib\\site-packages\\pandas\\core\\construction.py:696\n",
      "Call: _maybe_repeat in C:\\Users\\pacob\\Documents\\nomad-pyspark\\Lib\\site-packages\\pandas\\core\\construction.py:758\n",
      "Call: _sanitize_str_dtypes in C:\\Users\\pacob\\Documents\\nomad-pyspark\\Lib\\site-packages\\pandas\\core\\construction.py:735\n",
      "Call: _get_option in C:\\Users\\pacob\\Documents\\nomad-pyspark\\Lib\\site-packages\\pandas\\_config\\config.py:145\n",
      "Call: _get_single_key in C:\\Users\\pacob\\Documents\\nomad-pyspark\\Lib\\site-packages\\pandas\\_config\\config.py:127\n",
      "Call: _select_options in C:\\Users\\pacob\\Documents\\nomad-pyspark\\Lib\\site-packages\\pandas\\_config\\config.py:617\n",
      "Call: _translate_key in C:\\Users\\pacob\\Documents\\nomad-pyspark\\Lib\\site-packages\\pandas\\_config\\config.py:676\n",
      "Call: _get_deprecated_option in C:\\Users\\pacob\\Documents\\nomad-pyspark\\Lib\\site-packages\\pandas\\_config\\config.py:649\n",
      "Call: _get_root in C:\\Users\\pacob\\Documents\\nomad-pyspark\\Lib\\site-packages\\pandas\\_config\\config.py:635\n",
      "Call: from_array in C:\\Users\\pacob\\Documents\\nomad-pyspark\\Lib\\site-packages\\pandas\\core\\internals\\managers.py:1863\n",
      "Call: maybe_coerce_values in C:\\Users\\pacob\\Documents\\nomad-pyspark\\Lib\\site-packages\\pandas\\core\\internals\\blocks.py:2645\n",
      "Call: ensure_wrapped_if_datetimelike in C:\\Users\\pacob\\Documents\\nomad-pyspark\\Lib\\site-packages\\pandas\\core\\construction.py:481\n",
      "Call: __len__ in C:\\Users\\pacob\\Documents\\nomad-pyspark\\Lib\\site-packages\\pandas\\core\\indexes\\range.py:999\n",
      "Call: new_block in C:\\Users\\pacob\\Documents\\nomad-pyspark\\Lib\\site-packages\\pandas\\core\\internals\\blocks.py:2716\n",
      "Call: get_block_type in C:\\Users\\pacob\\Documents\\nomad-pyspark\\Lib\\site-packages\\pandas\\core\\internals\\blocks.py:2674\n",
      "Call: __init__ in C:\\Users\\pacob\\Documents\\nomad-pyspark\\Lib\\site-packages\\pandas\\core\\internals\\managers.py:1837\n",
      "Call: __init__ in C:\\Users\\pacob\\Documents\\nomad-pyspark\\Lib\\site-packages\\pandas\\core\\generic.py:278\n",
      "Call: __init__ in C:\\Users\\pacob\\Documents\\nomad-pyspark\\Lib\\site-packages\\pandas\\core\\flags.py:51\n",
      "Call: __setattr__ in C:\\Users\\pacob\\Documents\\nomad-pyspark\\Lib\\site-packages\\pandas\\core\\generic.py:6301\n",
      "Call: name in C:\\Users\\pacob\\Documents\\nomad-pyspark\\Lib\\site-packages\\pandas\\core\\series.py:734\n",
      "Call: __getattr__ in C:\\Users\\pacob\\Documents\\nomad-pyspark\\Lib\\site-packages\\pandas\\core\\generic.py:6284\n",
      "Call: name in C:\\Users\\pacob\\Documents\\nomad-pyspark\\Lib\\site-packages\\pandas\\core\\series.py:784\n",
      "Call: validate_all_hashable in C:\\Users\\pacob\\Documents\\nomad-pyspark\\Lib\\site-packages\\pandas\\core\\dtypes\\common.py:1571\n",
      "Call: <genexpr> in C:\\Users\\pacob\\Documents\\nomad-pyspark\\Lib\\site-packages\\pandas\\core\\dtypes\\common.py:1590\n",
      "Call: is_hashable in C:\\Users\\pacob\\Documents\\nomad-pyspark\\Lib\\site-packages\\pandas\\core\\dtypes\\inference.py:334\n",
      "Call: <genexpr> in C:\\Users\\pacob\\Documents\\nomad-pyspark\\Lib\\site-packages\\pandas\\core\\dtypes\\common.py:1590\n",
      "Call: _set_axis in C:\\Users\\pacob\\Documents\\nomad-pyspark\\Lib\\site-packages\\pandas\\core\\generic.py:807\n",
      "Call: ensure_index in C:\\Users\\pacob\\Documents\\nomad-pyspark\\Lib\\site-packages\\pandas\\core\\indexes\\base.py:7593\n",
      "Call: set_axis in C:\\Users\\pacob\\Documents\\nomad-pyspark\\Lib\\site-packages\\pandas\\core\\internals\\managers.py:236\n",
      "Call: _validate_set_axis in C:\\Users\\pacob\\Documents\\nomad-pyspark\\Lib\\site-packages\\pandas\\core\\internals\\base.py:86\n",
      "Call: __len__ in C:\\Users\\pacob\\Documents\\nomad-pyspark\\Lib\\site-packages\\pandas\\core\\indexes\\range.py:999\n",
      "Call: __len__ in C:\\Users\\pacob\\Documents\\nomad-pyspark\\Lib\\site-packages\\pandas\\core\\indexes\\range.py:999\n",
      "Call: _clear_item_cache in C:\\Users\\pacob\\Documents\\nomad-pyspark\\Lib\\site-packages\\pandas\\core\\series.py:1480\n",
      "Call: dtype in C:\\Users\\pacob\\Documents\\nomad-pyspark\\Lib\\site-packages\\pandas\\core\\series.py:707\n",
      "Call: dtype in C:\\Users\\pacob\\Documents\\nomad-pyspark\\Lib\\site-packages\\pandas\\core\\internals\\managers.py:1993\n",
      "Call: _block in C:\\Users\\pacob\\Documents\\nomad-pyspark\\Lib\\site-packages\\pandas\\core\\internals\\managers.py:1940\n",
      "Call: dtype in C:\\Users\\pacob\\Documents\\nomad-pyspark\\Lib\\site-packages\\pandas\\core\\internals\\blocks.py:718\n",
      "\n",
      "Result:\n",
      "0    2021-01-01 00:00:00+00:00\n",
      "1    2021-01-01 01:00:00-05:00\n",
      "2    2021-01-02 00:00:00+02:00\n",
      "3          2021-01-03 12:00:00\n",
      "dtype: object\n"
     ]
    },
    {
     "name": "stderr",
     "output_type": "stream",
     "text": [
      "C:\\Users\\pacob\\AppData\\Local\\Temp\\ipykernel_6864\\243067817.py:30: FutureWarning: In a future version of pandas, parsing datetimes with mixed time zones will raise an error unless `utc=True`. Please specify `utc=True` to opt in to the new behaviour and silence this warning. To create a `Series` with mixed offsets and `object` dtype, please use `apply` and `datetime.datetime.strptime`\n",
      "  result = pd.to_datetime(s, format='mixed')\n"
     ]
    }
   ],
   "source": [
    "import sys\n",
    "import pandas as pd\n",
    "\n",
    "# Define a trace function that logs calls in any file path containing \"pandas\"\n",
    "def trace_calls(frame, event, arg):\n",
    "    if event != 'call':\n",
    "        return\n",
    "    code = frame.f_code\n",
    "    func_name = code.co_name\n",
    "    filename = code.co_filename\n",
    "    # Filter to only show calls from files that include 'pandas' in their path\n",
    "    if 'pandas' in filename:\n",
    "        print(f'Call: {func_name} in {filename}:{code.co_firstlineno}')\n",
    "    return trace_calls\n",
    "\n",
    "# Sample data: a mix of timezone-aware and naive datetime strings\n",
    "data = [\n",
    "    '2021-01-01 00:00:00+00:00',  # UTC\n",
    "    '2021-01-01 01:00:00-05:00',  # Eastern Standard Time (UTC-5)\n",
    "    '2021-01-02 00:00:00+02:00',  # UTC+2\n",
    "    '2021-01-03 12:00:00'         # Naive\n",
    "]\n",
    "\n",
    "s = pd.Series(data)\n",
    "\n",
    "# Set the trace function to capture pandas calls\n",
    "sys.settrace(trace_calls)\n",
    "\n",
    "# Call to_datetime, which will trigger many internal pandas calls\n",
    "result = pd.to_datetime(s, format='mixed')\n",
    "\n",
    "# Disable tracing\n",
    "sys.settrace(None)\n",
    "\n",
    "print(\"\\nResult:\")\n",
    "print(result)"
   ]
  },
  {
   "cell_type": "code",
   "execution_count": 3,
   "id": "205cbc38-4e11-4579-9adf-8dc3b1e202ba",
   "metadata": {},
   "outputs": [],
   "source": [
    "import pyspark as psk\n",
    "from pyspark.sql import SparkSession\n",
    "import pandas as pd"
   ]
  },
  {
   "cell_type": "code",
   "execution_count": 14,
   "id": "131e029f-5d49-4596-8f88-4a41062eda0a",
   "metadata": {},
   "outputs": [],
   "source": [
    "from nomad.daphmeIO import _naive_to_localized_str, _unix_to_localized_str"
   ]
  },
  {
   "cell_type": "code",
   "execution_count": 5,
   "id": "135f70c3-92f4-47ed-a379-81ea7a3017da",
   "metadata": {},
   "outputs": [],
   "source": [
    "spark = SparkSession.builder \\\n",
    "    .master(\"local[4]\") \\\n",
    "    .appName(\"Tests\") \\\n",
    "    .config(\"spark.driver.memory\", \"3g\") \\\n",
    "    .config(\"spark.executor.memory\", \"3g\") \\\n",
    "    .config(\"spark.hadoop.fs.s3a.aws.credentials.provider\", \n",
    "            \"com.amazonaws.auth.DefaultAWSCredentialsProviderChain\") \\\n",
    "    .config(\"spark.jars.packages\", \n",
    "            \"org.apache.hadoop:hadoop-aws:3.3.4,com.amazonaws:aws-java-sdk-bundle:1.12.262\") \\\n",
    "    .getOrCreate()"
   ]
  },
  {
   "cell_type": "code",
   "execution_count": 6,
   "id": "ee1fa18f-dde4-4c3e-9649-2970b4130c88",
   "metadata": {},
   "outputs": [],
   "source": [
    "traj_cols = {'user_id': 'uid',\n",
    "             'latitude': 'latitude',\n",
    "             'longitude': 'longitude',\n",
    "             'timestamp': 'timestamp'}"
   ]
  },
  {
   "cell_type": "code",
   "execution_count": 7,
   "id": "07ae45da-29eb-48a5-840a-102c2b4c16f2",
   "metadata": {},
   "outputs": [],
   "source": [
    "dataset_path = \"s3://catalog-csslab/garden-city-45k/device-level/admin_1_id=GC/admin_2_id=GC.CD/event_start_date_utc=2024-01-13/\""
   ]
  },
  {
   "cell_type": "markdown",
   "id": "3fc4bc7c-e178-4e70-80df-fae23aecef95",
   "metadata": {},
   "source": [
    "# Read in pandas, create zoned datetime string"
   ]
  },
  {
   "cell_type": "code",
   "execution_count": 8,
   "id": "c0b543ba-8273-4280-8284-7e225ae33104",
   "metadata": {},
   "outputs": [],
   "source": [
    "df = from_file(dataset_path, format=\"parquet\", traj_cols=traj_cols)"
   ]
  },
  {
   "cell_type": "code",
   "execution_count": 9,
   "id": "aeca1aa3-aacd-470d-8d7c-d6ac1a27cd2d",
   "metadata": {},
   "outputs": [],
   "source": [
    "# We artificially change the offset of some rows to 0\n",
    "df.loc[df.index[:50000],'timezone_offset'] = 0\n",
    "df.loc[df.index[-50000:], 'timezone_offset'] = 3600"
   ]
  },
  {
   "cell_type": "code",
   "execution_count": 16,
   "id": "e8478d98-648b-4ecd-859c-cf6e0ef89d1c",
   "metadata": {},
   "outputs": [
    {
     "name": "stdout",
     "output_type": "stream",
     "text": [
      "CPU times: total: 1.3 s\n",
      "Wall time: 1.31 s\n"
     ]
    }
   ],
   "source": [
    "%%time\n",
    "df['local_datetime'] = _unix_to_localized_str(df.timestamp, df.timezone_offset)"
   ]
  },
  {
   "cell_type": "markdown",
   "id": "1ab703d1-ea2f-4f65-b408-a5738b6591a4",
   "metadata": {},
   "source": [
    "## Parse with naive + offset option"
   ]
  },
  {
   "cell_type": "code",
   "execution_count": 20,
   "id": "fd8c25af-0198-454b-a4fd-9f6603b5fd3f",
   "metadata": {},
   "outputs": [
    {
     "name": "stdout",
     "output_type": "stream",
     "text": [
      "CPU times: total: 4.38 s\n",
      "Wall time: 4.39 s\n"
     ]
    },
    {
     "data": {
      "text/plain": [
       "0        2024-01-13 01:41:00+00:00\n",
       "1        2024-01-13 01:43:00+00:00\n",
       "2        2024-01-13 01:44:00+00:00\n",
       "3        2024-01-13 13:24:00+00:00\n",
       "4        2024-01-13 13:25:00+00:00\n",
       "                    ...           \n",
       "818396   2024-01-13 03:54:00+00:00\n",
       "818397   2024-01-13 04:10:00+00:00\n",
       "818398   2024-01-13 04:22:00+00:00\n",
       "818399   2024-01-13 04:26:00+00:00\n",
       "818400   2024-01-13 04:30:00+00:00\n",
       "Name: local_datetime, Length: 818401, dtype: datetime64[ns, UTC]"
      ]
     },
     "execution_count": 20,
     "metadata": {},
     "output_type": "execute_result"
    }
   ],
   "source": [
    "%%time\n",
    "pd.to_datetime(df.local_datetime, utc=True)"
   ]
  },
  {
   "cell_type": "code",
   "execution_count": 22,
   "id": "31615d94-673e-4e40-bb2e-06b075e652c7",
   "metadata": {},
   "outputs": [
    {
     "name": "stderr",
     "output_type": "stream",
     "text": [
      "<timed eval>:1: FutureWarning: In a future version of pandas, parsing datetimes with mixed time zones will raise an error unless `utc=True`. Please specify `utc=True` to opt in to the new behaviour and silence this warning. To create a `Series` with mixed offsets and `object` dtype, please use `apply` and `datetime.datetime.strptime`\n"
     ]
    },
    {
     "ename": "ValueError",
     "evalue": "Tz-aware datetime.datetime cannot be converted to datetime64 unless utc=True, at position 50000",
     "output_type": "error",
     "traceback": [
      "\u001b[1;31m---------------------------------------------------------------------------\u001b[0m",
      "\u001b[1;31mValueError\u001b[0m                                Traceback (most recent call last)",
      "File \u001b[1;32m<timed eval>:1\u001b[0m\n",
      "File \u001b[1;32m~\\Documents\\nomad-pyspark\\Lib\\site-packages\\pandas\\core\\tools\\datetimes.py:1067\u001b[0m, in \u001b[0;36mto_datetime\u001b[1;34m(arg, errors, dayfirst, yearfirst, utc, format, exact, unit, infer_datetime_format, origin, cache)\u001b[0m\n\u001b[0;32m   1065\u001b[0m         result \u001b[38;5;241m=\u001b[39m arg\u001b[38;5;241m.\u001b[39mmap(cache_array)\n\u001b[0;32m   1066\u001b[0m     \u001b[38;5;28;01melse\u001b[39;00m:\n\u001b[1;32m-> 1067\u001b[0m         values \u001b[38;5;241m=\u001b[39m \u001b[43mconvert_listlike\u001b[49m\u001b[43m(\u001b[49m\u001b[43marg\u001b[49m\u001b[38;5;241;43m.\u001b[39;49m\u001b[43m_values\u001b[49m\u001b[43m,\u001b[49m\u001b[43m \u001b[49m\u001b[38;5;28;43mformat\u001b[39;49m\u001b[43m)\u001b[49m\n\u001b[0;32m   1068\u001b[0m         result \u001b[38;5;241m=\u001b[39m arg\u001b[38;5;241m.\u001b[39m_constructor(values, index\u001b[38;5;241m=\u001b[39marg\u001b[38;5;241m.\u001b[39mindex, name\u001b[38;5;241m=\u001b[39marg\u001b[38;5;241m.\u001b[39mname)\n\u001b[0;32m   1069\u001b[0m \u001b[38;5;28;01melif\u001b[39;00m \u001b[38;5;28misinstance\u001b[39m(arg, (ABCDataFrame, abc\u001b[38;5;241m.\u001b[39mMutableMapping)):\n",
      "File \u001b[1;32m~\\Documents\\nomad-pyspark\\Lib\\site-packages\\pandas\\core\\tools\\datetimes.py:435\u001b[0m, in \u001b[0;36m_convert_listlike_datetimes\u001b[1;34m(arg, format, name, utc, unit, errors, dayfirst, yearfirst, exact)\u001b[0m\n\u001b[0;32m    432\u001b[0m \u001b[38;5;28;01mif\u001b[39;00m \u001b[38;5;28mformat\u001b[39m \u001b[38;5;129;01mis\u001b[39;00m \u001b[38;5;129;01mnot\u001b[39;00m \u001b[38;5;28;01mNone\u001b[39;00m \u001b[38;5;129;01mand\u001b[39;00m \u001b[38;5;28mformat\u001b[39m \u001b[38;5;241m!=\u001b[39m \u001b[38;5;124m\"\u001b[39m\u001b[38;5;124mmixed\u001b[39m\u001b[38;5;124m\"\u001b[39m:\n\u001b[0;32m    433\u001b[0m     \u001b[38;5;28;01mreturn\u001b[39;00m _array_strptime_with_fallback(arg, name, utc, \u001b[38;5;28mformat\u001b[39m, exact, errors)\n\u001b[1;32m--> 435\u001b[0m result, tz_parsed \u001b[38;5;241m=\u001b[39m \u001b[43mobjects_to_datetime64\u001b[49m\u001b[43m(\u001b[49m\n\u001b[0;32m    436\u001b[0m \u001b[43m    \u001b[49m\u001b[43marg\u001b[49m\u001b[43m,\u001b[49m\n\u001b[0;32m    437\u001b[0m \u001b[43m    \u001b[49m\u001b[43mdayfirst\u001b[49m\u001b[38;5;241;43m=\u001b[39;49m\u001b[43mdayfirst\u001b[49m\u001b[43m,\u001b[49m\n\u001b[0;32m    438\u001b[0m \u001b[43m    \u001b[49m\u001b[43myearfirst\u001b[49m\u001b[38;5;241;43m=\u001b[39;49m\u001b[43myearfirst\u001b[49m\u001b[43m,\u001b[49m\n\u001b[0;32m    439\u001b[0m \u001b[43m    \u001b[49m\u001b[43mutc\u001b[49m\u001b[38;5;241;43m=\u001b[39;49m\u001b[43mutc\u001b[49m\u001b[43m,\u001b[49m\n\u001b[0;32m    440\u001b[0m \u001b[43m    \u001b[49m\u001b[43merrors\u001b[49m\u001b[38;5;241;43m=\u001b[39;49m\u001b[43merrors\u001b[49m\u001b[43m,\u001b[49m\n\u001b[0;32m    441\u001b[0m \u001b[43m    \u001b[49m\u001b[43mallow_object\u001b[49m\u001b[38;5;241;43m=\u001b[39;49m\u001b[38;5;28;43;01mTrue\u001b[39;49;00m\u001b[43m,\u001b[49m\n\u001b[0;32m    442\u001b[0m \u001b[43m\u001b[49m\u001b[43m)\u001b[49m\n\u001b[0;32m    444\u001b[0m \u001b[38;5;28;01mif\u001b[39;00m tz_parsed \u001b[38;5;129;01mis\u001b[39;00m \u001b[38;5;129;01mnot\u001b[39;00m \u001b[38;5;28;01mNone\u001b[39;00m:\n\u001b[0;32m    445\u001b[0m     \u001b[38;5;66;03m# We can take a shortcut since the datetime64 numpy array\u001b[39;00m\n\u001b[0;32m    446\u001b[0m     \u001b[38;5;66;03m# is in UTC\u001b[39;00m\n\u001b[0;32m    447\u001b[0m     out_unit \u001b[38;5;241m=\u001b[39m np\u001b[38;5;241m.\u001b[39mdatetime_data(result\u001b[38;5;241m.\u001b[39mdtype)[\u001b[38;5;241m0\u001b[39m]\n",
      "File \u001b[1;32m~\\Documents\\nomad-pyspark\\Lib\\site-packages\\pandas\\core\\arrays\\datetimes.py:2398\u001b[0m, in \u001b[0;36mobjects_to_datetime64\u001b[1;34m(data, dayfirst, yearfirst, utc, errors, allow_object, out_unit)\u001b[0m\n\u001b[0;32m   2395\u001b[0m \u001b[38;5;66;03m# if str-dtype, convert\u001b[39;00m\n\u001b[0;32m   2396\u001b[0m data \u001b[38;5;241m=\u001b[39m np\u001b[38;5;241m.\u001b[39masarray(data, dtype\u001b[38;5;241m=\u001b[39mnp\u001b[38;5;241m.\u001b[39mobject_)\n\u001b[1;32m-> 2398\u001b[0m result, tz_parsed \u001b[38;5;241m=\u001b[39m \u001b[43mtslib\u001b[49m\u001b[38;5;241;43m.\u001b[39;49m\u001b[43marray_to_datetime\u001b[49m\u001b[43m(\u001b[49m\n\u001b[0;32m   2399\u001b[0m \u001b[43m    \u001b[49m\u001b[43mdata\u001b[49m\u001b[43m,\u001b[49m\n\u001b[0;32m   2400\u001b[0m \u001b[43m    \u001b[49m\u001b[43merrors\u001b[49m\u001b[38;5;241;43m=\u001b[39;49m\u001b[43merrors\u001b[49m\u001b[43m,\u001b[49m\n\u001b[0;32m   2401\u001b[0m \u001b[43m    \u001b[49m\u001b[43mutc\u001b[49m\u001b[38;5;241;43m=\u001b[39;49m\u001b[43mutc\u001b[49m\u001b[43m,\u001b[49m\n\u001b[0;32m   2402\u001b[0m \u001b[43m    \u001b[49m\u001b[43mdayfirst\u001b[49m\u001b[38;5;241;43m=\u001b[39;49m\u001b[43mdayfirst\u001b[49m\u001b[43m,\u001b[49m\n\u001b[0;32m   2403\u001b[0m \u001b[43m    \u001b[49m\u001b[43myearfirst\u001b[49m\u001b[38;5;241;43m=\u001b[39;49m\u001b[43myearfirst\u001b[49m\u001b[43m,\u001b[49m\n\u001b[0;32m   2404\u001b[0m \u001b[43m    \u001b[49m\u001b[43mcreso\u001b[49m\u001b[38;5;241;43m=\u001b[39;49m\u001b[43mabbrev_to_npy_unit\u001b[49m\u001b[43m(\u001b[49m\u001b[43mout_unit\u001b[49m\u001b[43m)\u001b[49m\u001b[43m,\u001b[49m\n\u001b[0;32m   2405\u001b[0m \u001b[43m\u001b[49m\u001b[43m)\u001b[49m\n\u001b[0;32m   2407\u001b[0m \u001b[38;5;28;01mif\u001b[39;00m tz_parsed \u001b[38;5;129;01mis\u001b[39;00m \u001b[38;5;129;01mnot\u001b[39;00m \u001b[38;5;28;01mNone\u001b[39;00m:\n\u001b[0;32m   2408\u001b[0m     \u001b[38;5;66;03m# We can take a shortcut since the datetime64 numpy array\u001b[39;00m\n\u001b[0;32m   2409\u001b[0m     \u001b[38;5;66;03m#  is in UTC\u001b[39;00m\n\u001b[0;32m   2410\u001b[0m     \u001b[38;5;28;01mreturn\u001b[39;00m result, tz_parsed\n",
      "File \u001b[1;32mtslib.pyx:414\u001b[0m, in \u001b[0;36mpandas._libs.tslib.array_to_datetime\u001b[1;34m()\u001b[0m\n",
      "File \u001b[1;32mtslib.pyx:596\u001b[0m, in \u001b[0;36mpandas._libs.tslib.array_to_datetime\u001b[1;34m()\u001b[0m\n",
      "File \u001b[1;32mtslib.pyx:504\u001b[0m, in \u001b[0;36mpandas._libs.tslib.array_to_datetime\u001b[1;34m()\u001b[0m\n",
      "File \u001b[1;32mstrptime.pyx:285\u001b[0m, in \u001b[0;36mpandas._libs.tslibs.strptime.DatetimeParseState.process_datetime\u001b[1;34m()\u001b[0m\n",
      "\u001b[1;31mValueError\u001b[0m: Tz-aware datetime.datetime cannot be converted to datetime64 unless utc=True, at position 50000"
     ]
    }
   ],
   "source": [
    "%%time\n",
    "pd.to_datetime(pd.to_datetime(df.local_datetime, utc=False))"
   ]
  },
  {
   "cell_type": "code",
   "execution_count": null,
   "id": "095734b2-e195-4495-ad09-9e611c778cad",
   "metadata": {},
   "outputs": [],
   "source": [
    "%%time \n",
    "_naive_to_localized_str(df.local_datetime, df.timezone_offset)"
   ]
  },
  {
   "cell_type": "code",
   "execution_count": null,
   "id": "3f18e338-21cf-4a42-8b93-bca384209ea0",
   "metadata": {},
   "outputs": [],
   "source": [
    "%%time\n",
    "localize_from_offset(df.local_datetime, df.timezone_offset)"
   ]
  },
  {
   "cell_type": "markdown",
   "id": "1c52cce3-3870-403c-a6f9-c203d80fbf3a",
   "metadata": {},
   "source": [
    "## Convert to Spark\n",
    "\n",
    "what happens with datetime format vs string format? what happens to the schema in general? Develop the from_object spark version"
   ]
  },
  {
   "cell_type": "code",
   "execution_count": null,
   "id": "6252e73e-5dc7-494d-acc6-89603b047a0b",
   "metadata": {},
   "outputs": [],
   "source": [
    "df = spark.read.parquet(dataset_path)"
   ]
  },
  {
   "cell_type": "code",
   "execution_count": null,
   "id": "8432605b-24b6-41e7-9140-f4e26dd950a3",
   "metadata": {},
   "outputs": [],
   "source": []
  },
  {
   "cell_type": "code",
   "execution_count": null,
   "id": "841da04a-6e40-4138-9cb4-1e0abf9e61e5",
   "metadata": {},
   "outputs": [],
   "source": []
  },
  {
   "cell_type": "code",
   "execution_count": null,
   "id": "85652d9f-0704-4f32-97fd-0459c4f0ba63",
   "metadata": {},
   "outputs": [],
   "source": [
    "first_timestamp = df.select('timestamp').take(1)\n",
    "len(str(first_timestamp[0]['timestamp']))"
   ]
  },
  {
   "cell_type": "code",
   "execution_count": null,
   "id": "1c349077-cb53-4019-8942-e3533fa7797c",
   "metadata": {},
   "outputs": [],
   "source": [
    "_is_traj_df_spark(df)"
   ]
  },
  {
   "cell_type": "code",
   "execution_count": null,
   "id": "71c1eab1-b005-450b-bfec-ccfba6c6f451",
   "metadata": {},
   "outputs": [],
   "source": []
  },
  {
   "cell_type": "code",
   "execution_count": null,
   "id": "fc07b185-f46d-4b48-8b42-042f397a680b",
   "metadata": {},
   "outputs": [],
   "source": [
    "pd_df = pd.read_csv('./daphme/nomad/data/gc_sample.csv')"
   ]
  },
  {
   "cell_type": "code",
   "execution_count": null,
   "id": "671c8d86-36d3-4814-8594-7288e3dcd2c9",
   "metadata": {},
   "outputs": [],
   "source": [
    "(isinstance(pd_df, psk.sql.dataframe.DataFrame))"
   ]
  },
  {
   "cell_type": "code",
   "execution_count": null,
   "id": "f51f2b47-5179-4abd-9c1b-1721ad7b9970",
   "metadata": {},
   "outputs": [],
   "source": [
    "# Create a spark dataframe from pandas\n",
    "spark.createDataFrame(pd_df).show()"
   ]
  },
  {
   "cell_type": "code",
   "execution_count": null,
   "id": "1fcbb638-6b36-47dc-8bff-0d9b474899e5",
   "metadata": {},
   "outputs": [],
   "source": [
    "spark.stop()"
   ]
  },
  {
   "cell_type": "code",
   "execution_count": null,
   "id": "3498f234-9a1a-43ae-b2ec-2ea44048b61c",
   "metadata": {},
   "outputs": [],
   "source": []
  },
  {
   "cell_type": "code",
   "execution_count": null,
   "id": "1384eadd-d64a-48de-b8e1-2d664233c73c",
   "metadata": {},
   "outputs": [],
   "source": []
  }
 ],
 "metadata": {
  "kernelspec": {
   "display_name": "Python (PySpark)",
   "language": "python",
   "name": "pyspark-kernel"
  },
  "language_info": {
   "codemirror_mode": {
    "name": "ipython",
    "version": 3
   },
   "file_extension": ".py",
   "mimetype": "text/x-python",
   "name": "python",
   "nbconvert_exporter": "python",
   "pygments_lexer": "ipython3",
   "version": "3.12.3"
  }
 },
 "nbformat": 4,
 "nbformat_minor": 5
}

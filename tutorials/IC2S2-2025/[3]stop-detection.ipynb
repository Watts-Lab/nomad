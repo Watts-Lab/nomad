{
 "cells": [
  {
   "cell_type": "markdown",
   "id": "d0f6a437-fe6f-422f-903e-35fee48a5eeb",
   "metadata": {},
   "source": [
    "# **Tutorial 3: Stop detection in trajectories**"
   ]
  },
  {
   "cell_type": "markdown",
   "id": "0318baed-0d36-45ba-95ba-cd00731b4de8",
   "metadata": {},
   "source": [
    "In this notebook we will explore some stop detection algorithms implemented in `nomad`. We will learn the differences between stop detection and traditional clustering algorithms, and the types of errors we need to watch out for. "
   ]
  },
  {
   "cell_type": "markdown",
   "id": "72788383-95b6-4147-9ca1-7efaf59202dd",
   "metadata": {},
   "source": [
    "## Introduction"
   ]
  },
  {
   "cell_type": "markdown",
   "id": "2531f9bd-7243-4c3f-a5af-481600efe0f3",
   "metadata": {},
   "source": [
    "## Load data "
   ]
  },
  {
   "cell_type": "markdown",
   "id": "9777b795-37c1-414d-bb8c-0d5eeee87543",
   "metadata": {},
   "source": [
    "Let's use the same 3 week sample of data as in the previous notebook. Initially we will focus on data from a user in just one day, which we can filter at read time. "
   ]
  },
  {
   "cell_type": "code",
   "execution_count": null,
   "id": "fb190bef-d668-490e-809b-de42196b5850",
   "metadata": {},
   "outputs": [],
   "source": [
    "import nomad.io.base as loader\n",
    "import geopandas as gpd\n",
    "from shapely.geometry import Polygon, box, Point\n",
    "\n",
    "\n",
    "city = gpd.read_file(\"garden_city.geojson\").to_crs('EPSG:3857')\n",
    "outer_box = box(*city.total_bounds).buffer(15, join_style='mitre')\n",
    "\n",
    "filepath_root = 'gc_data_long/'\n",
    "tc = {\n",
    "    \"user_id\": \"gc_identifier\",\n",
    "    \"timestamp\": \"unix_ts\",\n",
    "    \"x\": \"dev_x\",\n",
    "    \"y\": \"dev_y\",\n",
    "    \"ha\":\"ha\",\n",
    "    \"date\":\"date\"}\n",
    "\n",
    "users = ['admiring_brattain']\n",
    "traj = loader.sample_from_file(filepath_root, format='parquet', users=users, filters = ('date','==', '2024-01-01'), traj_cols=tc)"
   ]
  },
  {
   "cell_type": "markdown",
   "id": "7ada9de5-9d39-4c69-bcad-f346730ce22d",
   "metadata": {},
   "source": [
    "Understanding the time component of the trajectory is important since the notion of a \"stop\" or a \"visit\" requires finding pings that indicate **stationary behavior**. Naturally this depends on the **pings being spatially close to one another, but also in the same period of time**. Let's try to visualize this temporal component on the map. "
   ]
  },
  {
   "cell_type": "code",
   "execution_count": null,
   "id": "6c5bb8ec-fb50-466d-8d46-3b903949337d",
   "metadata": {},
   "outputs": [],
   "source": [
    "%matplotlib inline\n",
    "import matplotlib.pyplot as plt\n",
    "import matplotlib.animation as animation\n",
    "import shapely.plotting as shp_plt\n",
    "from IPython.display import HTML\n",
    "\n",
    "# small utility\n",
    "from nomad.stop_detection.viz import adjust_zoom, plot_stops_barcode, plot_pings, plot_stops, plot_time_barcode"
   ]
  },
  {
   "cell_type": "code",
   "execution_count": null,
   "id": "a6724c20-f45b-4c2d-be1e-3a03a473a84e",
   "metadata": {},
   "outputs": [],
   "source": [
    "fig, (ax_map, ax_barcode) = plt.subplots(2, 1, figsize=(6,6.5), gridspec_kw={'height_ratios':[10,1]})\n",
    "\n",
    "# Map\n",
    "shp_plt.plot_polygon(outer_box, ax=ax_map, add_points=False, color='#0e0e0e')\n",
    "city.plot(ax=ax_map, column='type', edgecolor='black', linewidth=0.75, cmap='Accent')\n",
    "ax_map.scatter(traj['dev_x'], traj['dev_y'], s=10, color='darkblue', alpha=0.75)\n",
    "adjust_zoom(traj['dev_x'], traj['dev_y'], buffer=0.8, ax=ax_map)\n",
    "ax_map.set_axis_off()\n",
    "\n",
    "plot_time_barcode(traj['unix_ts'], ax_barcode)\n",
    "\n",
    "plt.tight_layout(pad=0.1)\n",
    "plt.show()"
   ]
  },
  {
   "cell_type": "markdown",
   "id": "3b7f9753-08ec-403b-9fb2-39a55460eb8a",
   "metadata": {},
   "source": [
    "We can see that the pings are very dense for this user and correspond (apparently) to **4 visits to close by locations**. We would like to have a clustering algorithm that can recover:\n",
    "1. **Where** those stops took place (with a centroid for example)\n",
    "2. **When** the stop started, and how long it lasted\n",
    "\n",
    "<small>*Expand the cell bellow to see a small animation for the image above!"
   ]
  },
  {
   "cell_type": "code",
   "execution_count": null,
   "id": "0f81cd87-c05b-4a30-b7f3-23f5ab689def",
   "metadata": {},
   "outputs": [],
   "source": [
    "fig, (ax_map, ax_barcode) = plt.subplots(2, 1, figsize=(6,6.5), gridspec_kw={'height_ratios':[10,1]})\n",
    "\n",
    "# Map base\n",
    "shp_plt.plot_polygon(outer_box, ax=ax_map, add_points=False, color='#0e0e0e')\n",
    "city.plot(ax=ax_map, column='type', edgecolor='black', linewidth=0.75, cmap='Accent')\n",
    "adjust_zoom(traj['dev_x'], traj['dev_y'], buffer=0.8, ax=ax_map)\n",
    "ax_map.set_axis_off()\n",
    "points = ax_map.scatter(traj['dev_x'], traj['dev_y'], s=10, color='darkblue', alpha=0.0)\n",
    "current = ax_map.scatter([traj['dev_x'].iloc[0]], [traj['dev_y'].iloc[0]], s=50, color='red', alpha=1.0)\n",
    "\n",
    "def animate(i):\n",
    "    points.set_alpha([1.0 if j < i else 0.0 for j in range(len(traj))])\n",
    "    current.set_offsets([[traj['dev_x'].iloc[i], traj['dev_y'].iloc[i]]])\n",
    "    ax_barcode.cla()  # Clear barcode axis\n",
    "    plot_time_barcode(traj['unix_ts'], ax_barcode, current_idx=i)  # Your function, highlights current in red\n",
    "    return points, current\n",
    "\n",
    "ani = animation.FuncAnimation(fig, animate, frames=len(traj), interval=120, blit=False)\n",
    "plt.tight_layout(pad=0.1)\n",
    "\n",
    "html = ani.to_html5_video() # capture the animation\n",
    "plt.close(fig)\n",
    "# finally display the video\n",
    "HTML(html)"
   ]
  },
  {
   "cell_type": "markdown",
   "id": "e84c3433-35c3-4c7f-b6a8-0f81cbfb2fad",
   "metadata": {},
   "source": [
    "## A few concepts"
   ]
  },
  {
   "cell_type": "markdown",
   "id": "5090435d-6c14-4a22-b9cd-4bbd576e4c99",
   "metadata": {},
   "source": [
    "\n",
    "**Fig 1. True stops for \"admiring_brattain\"** <<< wrong trajectory. Please replace.\n",
    "    \n",
    "![title](figures/explainer.png)\n"
   ]
  },
  {
   "cell_type": "markdown",
   "id": "66c452e9-d32d-4388-86bb-1eeef4c42c83",
   "metadata": {},
   "source": [
    "<div style=\"font-size: 18px;\">\n",
    "    \n",
    "| Term                          | Definition                                                                                                          |\n",
    "|-------------------------------|---------------------------------------------------------------------------------------------------------------------|\n",
    "| True stop                     | Part of a trajectory with stationary behavior.                                                                      |\n",
    "| Detected stop                 | Pings clustered by a stop-detection algorithm.                                                                      |\n",
    "| Missing stop                  | A true stop not detected by the algorithm.                                                                          |\n",
    "| Split stop                    | A true stop with separate parts correctly detected.                                                                 |\n",
    "| Merged stop                   | A true stop partly detected as a wrong location.                                                                    |\n",
    "| Invalid stop set              | A group of stops with overlapping time intervals.                                                                   |\n",
    "| Sequential stop detection     | Traverses pings chronologically, forming stops by greedily assimilating points until a condition is met .           |\n",
    "| Density-based stop detection  | Builds a spatial reachability graph and groups points into stops based on density (e.g., DBSCAN/HDBSCAN).           |\n",
    "| $\\Delta_{\\texttt{max}}$       | Max diameter allowed for a detected stop in sequential clustering.                                                  |\n",
    "| $\\epsilon$                    | Max distance between neighboring pings in density-based clustering.                                                 |\n",
    "| `max_gap`                     | Max possible time gap between neighboring pings.                                                                    |\n",
    "| `min_pts`                     | Min neighbors for a ping to be `dense` (core) in density-based clustering.                                          |\n",
    "</div>"
   ]
  },
  {
   "cell_type": "markdown",
   "id": "8198be43-9fe4-41a5-b447-452331c413a2",
   "metadata": {},
   "source": [
    "## Stop detection algorithms"
   ]
  },
  {
   "cell_type": "code",
   "execution_count": null,
   "id": "9e1b64f0-e62c-45f6-983b-e1fd56f3f6d0",
   "metadata": {},
   "outputs": [],
   "source": [
    "import nomad.stop_detection.dbscan as DBSCAN\n",
    "import nomad.stop_detection.lachesis as LACHESIS\n",
    "import nomad.stop_detection.grid_based as GRID_BASED\n",
    "import nomad.filters as filters"
   ]
  },
  {
   "cell_type": "markdown",
   "id": "3bb39def-756f-4573-9e6d-5401662a9e3c",
   "metadata": {},
   "source": [
    "### Sequential stop detection"
   ]
  },
  {
   "cell_type": "markdown",
   "id": "4046dd82-7fde-4c8e-99ca-cf1ad530269d",
   "metadata": {},
   "source": [
    "The first stop detection algorithm implemented in ```nomad``` is a sequential algorithm insipired by the one in _Project Lachesis: Parsing and Modeling Location Histories_ (Hariharan & Toyama). This algorithm for extracting stays is dependent on two parameters: the roaming distance and the stay duration. \n",
    "\n",
    "dur_min\n",
    "* `delta_roam` is the Roaming distance ($\\Delta_{\\texttt{max}}$) represents the maximum distance an object can move away from a point location and still be considered to be staying at that location.\n",
    "* `dur_min` is a minimum stop duration below which we consider the stop to be (potentially) spurious\n",
    "* ```dt_max```: Maximum time gap permitted between consecutive pings in a stay in minutes (dt_max should be greater than dur_min).\n",
    "\n",
    "The algorithm identifies stops as contiguous sequences of pings that have a diameter less than `delta_roam` for at least the duration of the stop duration."
   ]
  },
  {
   "cell_type": "code",
   "execution_count": null,
   "id": "0be623a7-4490-42cd-9817-e8fd62ea05e1",
   "metadata": {},
   "outputs": [],
   "source": [
    "LACHESIS.lachesis(traj, delta_roam=20, dt_max = 60, dur_min=5, traj_cols=tc) # Try passing keep_col_names = False"
   ]
  },
  {
   "cell_type": "markdown",
   "id": "0235d164-8c86-49cd-88cc-17b8dc60b1c9",
   "metadata": {},
   "source": [
    "Optionally, we can get some useful statistics about each stop with the argument `complete_output`"
   ]
  },
  {
   "cell_type": "code",
   "execution_count": null,
   "id": "5437d3e4-7c4d-4275-a841-440c1ba4c7a1",
   "metadata": {},
   "outputs": [],
   "source": [
    "stops = LACHESIS.lachesis(traj, delta_roam=20, dt_max = 60, dur_min=5, complete_output=True, keep_col_names=True, traj_cols=tc)\n",
    "stops"
   ]
  },
  {
   "cell_type": "markdown",
   "id": "ed96a9ec-abaa-4ce8-98f0-fcccf67ff85e",
   "metadata": {},
   "source": [
    "The diameter column can give us a notion of the extent of the stop. Larger stops reveal less precise information and could be evidence of **merging** two true stops. We can visualize them as circles with radius `stops['diameter']/2`"
   ]
  },
  {
   "cell_type": "code",
   "execution_count": null,
   "id": "f9103659-d7fc-4863-9ace-bba61c9f5bdf",
   "metadata": {},
   "outputs": [],
   "source": [
    "fig, (ax_map, ax_barcode) = plt.subplots(2, 1, figsize=(6,6.5),\n",
    "                                         gridspec_kw={'height_ratios':[10,1]})\n",
    "\n",
    "shp_plt.plot_polygon(outer_box, ax=ax_map, add_points=False, color='#0e0e0e')\n",
    "city.plot(ax=ax_map, edgecolor='white', linewidth=1, color='#2c353c')\n",
    "\n",
    "plot_stops(stops, ax=ax_map, cmap='Reds', x='dev_x', y='dev_y')\n",
    "plot_pings(traj, ax=ax_map, radius=1, point_color='black', cmap='twilight', traj_cols=tc)\n",
    "\n",
    "adjust_zoom(stops['dev_x'], stops['dev_y'], buffer=1.4, ax=ax_map)\n",
    "ax_map.set_axis_off()\n",
    "\n",
    "plot_time_barcode(traj[tc['timestamp']], ax=ax_barcode, set_xlim=True)\n",
    "plot_stops_barcode(stops, ax=ax_barcode, cmap='Reds', set_xlim=False, x='x', y='y', timestamp='unix_ts')\n",
    "\n",
    "plt.tight_layout(pad=0.1)\n",
    "plt.show()"
   ]
  },
  {
   "cell_type": "markdown",
   "id": "7ad901e7-cd33-4460-b32a-6d1f67537626",
   "metadata": {},
   "source": [
    "### Flexibility in input formats \n",
    "\n",
    "The stop detection algorithms implemented in `nomad` support different combinations of input formats that are common in commercial datasets, detecting default names when possible\n",
    "- timestamps in `datetime64[ns, tz]` or as unix seconds in integers\n",
    "- geographic coordinates (`lon`, `lat`) which use the Haversine distance or projected coordinates (`x`, `y`) using meters and euclidean distance.\n",
    "- Alternatively, if locations are only given through a spatial index like H3 or geohash, there is a grid_based clustering algorithm requiring no coordinates. \n",
    "\n",
    "The algorithms work with the same call, provided there is at least a pair of coordinates (or a location/spatial index) as well as at least a temporal column."
   ]
  },
  {
   "cell_type": "code",
   "execution_count": null,
   "id": "f5c31d4a-3e45-468c-900b-3594796b21e4",
   "metadata": {},
   "outputs": [],
   "source": [
    "import numpy as np\n",
    "import pandas as pd\n",
    "pd.set_option(\"mode.copy_on_write\", True)\n",
    "import h3\n",
    "\n",
    "traj[['longitude','latitude']] = np.column_stack(\n",
    "    filters.to_projection(traj, x='dev_x', y='dev_y', data_crs='EPSG:3857', crs_to='EPSG:4326')\n",
    ")\n",
    "\n",
    "traj['zoned_datetime'] = pd.to_datetime(traj['unix_ts'], unit='s', utc=True).dt.tz_convert('Etc/GMT-1')\n",
    "\n",
    "traj['h3_cell'] = traj.apply(\n",
    "    lambda row: h3.latlng_to_cell(lat=row['latitude'], lng=row['longitude'], res=11),\n",
    "    axis=1)\n",
    "\n",
    "\n",
    "# Alternate datasets \n",
    "traj_geog = traj[['latitude', 'longitude', 'zoned_datetime']]\n",
    "traj_h3 = traj[['gc_identifier', 'unix_ts', 'h3_cell']]\n",
    "\n",
    "# Very similar call\n",
    "stops_lac =  LACHESIS.lachesis(traj_geog, delta_roam=25, dt_max = 45, dur_min=3, complete_output=True, latitude='latitude', longitude='longitude', datetime='zoned_datetime')\n",
    "traj_geog['cluster'] = LACHESIS.lachesis_labels(traj_geog, delta_roam=25, dt_max = 45, dur_min=3, latitude='latitude', longitude='longitude', datetime='zoned_datetime')\n",
    "\n",
    "stops_h3 = GRID_BASED.grid_based(traj_h3, time_thresh=180, dur_min=3, complete_output=True, timestamp='unix_ts', location_id='h3_cell')\n",
    "traj_h3['cluster'] = GRID_BASED.grid_based_labels(traj_h3, time_thresh=180, dur_min=3, timestamp='unix_ts', location_id='h3_cell')"
   ]
  },
  {
   "cell_type": "code",
   "execution_count": null,
   "id": "ca27ff9d-40f5-44b8-9b39-ce15cb30dc22",
   "metadata": {},
   "outputs": [],
   "source": [
    "traj_h3=traj[['gc_identifier','dev_x','dev_y', 'unix_ts', 'h3_cell']]\n",
    "\n",
    "fig, (ax_map, ax_barcode) = plt.subplots(2, 1, figsize=(6,6.5),\n",
    "                                         gridspec_kw={'height_ratios':[10,1]})\n",
    "\n",
    "shp_plt.plot_polygon(outer_box, ax=ax_map, add_points=False, color='#0e0e0e')\n",
    "city.plot(ax=ax_map, edgecolor='white', linewidth=1, color='#2c353c')\n",
    "\n",
    "plot_stops(stops_h3, ax=ax_map, cmap='rainbow', location_id='h3_cell', crs='EPSG:3857')\n",
    "plot_pings(traj_h3, ax=ax_map, radius=1, point_color='black', cmap='twilight', traj_cols=tc)\n",
    "\n",
    "adjust_zoom(stops['dev_x'], stops['dev_y'], buffer=3, ax=ax_map)\n",
    "ax_map.set_axis_off()\n",
    "\n",
    "plot_time_barcode(traj_h3[tc['timestamp']], ax=ax_barcode, set_xlim=True)\n",
    "plot_stops_barcode(stops_h3, ax=ax_barcode, cmap='viridis', set_xlim=False, timestamp='unix_ts')\n",
    "\n",
    "fig.suptitle(\"Stops detected from just H3_cells and unix timestamps\")\n",
    "plt.tight_layout(pad=0.1)\n",
    "plt.show()"
   ]
  },
  {
   "cell_type": "markdown",
   "id": "49d1e07e-2fac-423c-8b98-f76dc71ac34b",
   "metadata": {},
   "source": [
    "**Fig 2. Possible problems when applying stop detection to be aware of. How to parameterize optimally?**\n",
    "    \n",
    "![title](figures/stop-detection-problems.png)"
   ]
  },
  {
   "cell_type": "markdown",
   "id": "bbb8a063-d60e-494b-a7f7-d6c5acd94c4f",
   "metadata": {},
   "source": [
    "### Density based stop detection (Temporal DBSCAN)"
   ]
  },
  {
   "cell_type": "markdown",
   "id": "2083c282-fb27-4958-bd69-306e714ccd93",
   "metadata": {},
   "source": [
    "The second stop detection algorithm implemented in ```nomad``` is a time-augmented density-based algorithm, Temporal DBSCAN. This algorithm for clustering user pings combines temporal and spatial dimensions, relying on three key parameters: the time threshold, the distance threshold, and the minimum number of points.\n",
    "\n",
    "* The time threshold defines the maximum time difference (in minutes) between two consecutive pings for them to be considered neighbors within the same cluster.\n",
    "* The distance threshold specifies the maximum spatial distance (in meters) between two pings for them to be considered neighbors.\n",
    "* The minimum points parameter sets the minimum number of points required for a dense region to form a cluster.\n",
    "\n",
    "If a region contains fewer than minimum number of points required, it is treated as noise. The algorithm identifies clusters by grouping contiguous pings that meet both the temporal and spatial criteria, while also ensuring that each cluster has enough density to be considered valid. Our implementation of Temporal DBSCAN recursively processes the clusters obtained from DBSCAN to address the issue of some clusters overlapping in time."
   ]
  },
  {
   "cell_type": "markdown",
   "id": "32eade27-4a20-4bde-8a2b-040a12a0ff07",
   "metadata": {},
   "source": [
    "This algorithm has the following parameters, which determine the size of the resulting stops:\n",
    "* ```time_thresh```: Time threshold in minutes for identifying neighbors.\n",
    "* ```dist_thresh```: Distance threshold in meters for identifying neighbors.\n",
    "* ```min_pts```: Minimum number of points required to form a dense region (core point)."
   ]
  },
  {
   "cell_type": "code",
   "execution_count": null,
   "id": "305a6c7e-10c1-4c3f-a5d8-14d792f9c6bf",
   "metadata": {},
   "outputs": [],
   "source": [
    "TIME_THRESH = 100\n",
    "DIST_THRESH = 40\n",
    "MIN_PTS = 10"
   ]
  },
  {
   "cell_type": "markdown",
   "id": "9647a8cc-66a0-48f4-8d80-5815de683f0f",
   "metadata": {},
   "source": [
    "Similarly to Lachesis, the Temporal DBSCAN algorithm can output a complete table of attributes for identified stops, including the start time, end time, the medoid coordinates, duration, number of pings in the stop, and diameter."
   ]
  },
  {
   "cell_type": "code",
   "execution_count": null,
   "id": "7d4dffd7-58fb-42c7-9027-f6e4dcf7e052",
   "metadata": {
    "scrolled": true
   },
   "outputs": [],
   "source": [
    "%%time\n",
    "DBSCAN.temporal_dbscan(user_sample,\n",
    "                       time_thresh=TIME_THRESH,\n",
    "                       dist_thresh=DIST_THRESH,\n",
    "                       min_pts=MIN_PTS,\n",
    "                       traj_cols=traj_cols,\n",
    "                       complete_output=True,\n",
    "                       datetime='local_datetime',\n",
    "                       latitude='latitude',\n",
    "                       longitude='longitude').head()"
   ]
  },
  {
   "cell_type": "markdown",
   "id": "a0b461be-8fc6-410c-b379-926cc7a90799",
   "metadata": {},
   "source": [
    "The additional argument ```complete_output``` can also be passed to only output the stop start time, duration, and medoid coordinates."
   ]
  },
  {
   "cell_type": "code",
   "execution_count": null,
   "id": "b0cb23c6-719a-4c15-aad6-6f3436106d29",
   "metadata": {
    "scrolled": true
   },
   "outputs": [],
   "source": [
    "%%time\n",
    "DBSCAN.temporal_dbscan(user_sample,\n",
    "                       time_thresh=TIME_THRESH,\n",
    "                       dist_thresh=DIST_THRESH,\n",
    "                       min_pts=MIN_PTS,\n",
    "                       traj_cols=traj_cols,\n",
    "                       complete_output=False,\n",
    "                       datetime='local_datetime',\n",
    "                       latitude='latitude',\n",
    "                       longitude='longitude').head()"
   ]
  },
  {
   "cell_type": "markdown",
   "id": "1e971e56-46ab-427d-a4f6-a119d4773368",
   "metadata": {},
   "source": [
    "We can also get the final cluster and core labels for each of the pings."
   ]
  },
  {
   "cell_type": "code",
   "execution_count": null,
   "id": "8686f955-16d6-4773-98bc-2927e5aac717",
   "metadata": {
    "scrolled": true
   },
   "outputs": [],
   "source": [
    "%%time\n",
    "sample_labels_dbscan = DBSCAN._temporal_dbscan_labels(user_sample,\n",
    "                                                      time_thresh=TIME_THRESH,\n",
    "                                                      dist_thresh=DIST_THRESH,\n",
    "                                                      min_pts=MIN_PTS,\n",
    "                                                      traj_cols=traj_cols,\n",
    "                                                      datetime='local_datetime',\n",
    "                                                      latitude='latitude',\n",
    "                                                      longitude='longitude')\n",
    "\n",
    "sample_labels_dbscan.sample(5)"
   ]
  },
  {
   "cell_type": "markdown",
   "id": "5706889e-3ade-4a31-ab2b-c201d86cd2c2",
   "metadata": {},
   "source": [
    "The Temporal DBSCAN algorithm also handles data that comes with different formats for spatial and temporal variables."
   ]
  },
  {
   "cell_type": "code",
   "execution_count": null,
   "id": "f88f983b-69d3-4c40-ab35-6846b7578121",
   "metadata": {
    "scrolled": true
   },
   "outputs": [],
   "source": [
    "%%time\n",
    "# Temporal DBSCAN with x, y, and timestamp\n",
    "DBSCAN.temporal_dbscan(user_sample,\n",
    "                       time_thresh=TIME_THRESH,\n",
    "                       dist_thresh=DIST_THRESH,\n",
    "                       min_pts=MIN_PTS,\n",
    "                       traj_cols=traj_cols,\n",
    "                       complete_output=True,\n",
    "                       timestamp='timestamp',\n",
    "                       x='x',\n",
    "                       y='y').head()"
   ]
  },
  {
   "cell_type": "markdown",
   "id": "c369f74c-75c4-4599-ae95-91e92d2cdbf4",
   "metadata": {},
   "source": [
    "We can also visualize the identified stops within the city detected by DBSCAN for the sample user. Again, pings of the same color represent pings belonging to the same cluster/stop and pings in grey are noise."
   ]
  }
 ],
 "metadata": {
  "kernelspec": {
   "display_name": "Python 3.10 (daphme)",
   "language": "python",
   "name": "daphme"
  },
  "language_info": {
   "codemirror_mode": {
    "name": "ipython",
    "version": 3
   },
   "file_extension": ".py",
   "mimetype": "text/x-python",
   "name": "python",
   "nbconvert_exporter": "python",
   "pygments_lexer": "ipython3",
   "version": "3.10.0"
  }
 },
 "nbformat": 4,
 "nbformat_minor": 5
}

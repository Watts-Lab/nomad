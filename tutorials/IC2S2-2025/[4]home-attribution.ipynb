{
 "cells": [
  {
   "cell_type": "markdown",
   "id": "6ce9e55e-043d-458f-8f42-b4d0f1cb9417",
   "metadata": {
    "id": "6ce9e55e-043d-458f-8f42-b4d0f1cb9417"
   },
   "source": [
    "# **Tutorial 4: Attributing visits and detecting homes**\n",
    "\n",
    "In this notebook we will explore how to attribute stops to building geometries in two ways, and use the output to detect user homes and workplaces.\n",
    "\n",
    "### Download the data\n",
    "Download the file [IC2S2-2025.zip](https://drive.google.com/file/d/1wk3nrNsmAiBoTtWznHjjjPkmWAZfxk0P/view?usp=drive_link) and extract it to this folder to obtain the sample trajectory data used in this tutorial."
   ]
  },
  {
   "cell_type": "code",
   "execution_count": 1,
   "id": "8361a5da",
   "metadata": {
    "executionInfo": {
     "elapsed": 3952,
     "status": "ok",
     "timestamp": 1753087477837,
     "user": {
      "displayName": "Thomas Li",
      "userId": "03526318197962168317"
     },
     "user_tz": -120
    },
    "id": "8361a5da"
   },
   "outputs": [
    {
     "ename": "ModuleNotFoundError",
     "evalue": "No module named 'nomad'",
     "output_type": "error",
     "traceback": [
      "\u001b[1;31m---------------------------------------------------------------------------\u001b[0m",
      "\u001b[1;31mModuleNotFoundError\u001b[0m                       Traceback (most recent call last)",
      "Cell \u001b[1;32mIn[1], line 5\u001b[0m\n\u001b[0;32m      2\u001b[0m \u001b[38;5;28;01mfrom\u001b[39;00m \u001b[38;5;21;01mshapely\u001b[39;00m\u001b[38;5;21;01m.\u001b[39;00m\u001b[38;5;21;01mgeometry\u001b[39;00m \u001b[38;5;28;01mimport\u001b[39;00m Polygon, box, Point\n\u001b[0;32m      3\u001b[0m \u001b[38;5;28;01mimport\u001b[39;00m \u001b[38;5;21;01mmatplotlib\u001b[39;00m\u001b[38;5;21;01m.\u001b[39;00m\u001b[38;5;21;01mpyplot\u001b[39;00m \u001b[38;5;28;01mas\u001b[39;00m \u001b[38;5;21;01mplt\u001b[39;00m\n\u001b[1;32m----> 5\u001b[0m \u001b[38;5;28;01mimport\u001b[39;00m \u001b[38;5;21;01mnomad\u001b[39;00m\u001b[38;5;21;01m.\u001b[39;00m\u001b[38;5;21;01mio\u001b[39;00m\u001b[38;5;21;01m.\u001b[39;00m\u001b[38;5;21;01mbase\u001b[39;00m \u001b[38;5;28;01mas\u001b[39;00m \u001b[38;5;21;01mloader\u001b[39;00m\n\u001b[0;32m      6\u001b[0m \u001b[38;5;28;01mfrom\u001b[39;00m \u001b[38;5;21;01mnomad\u001b[39;00m \u001b[38;5;28;01mimport\u001b[39;00m filters\n\u001b[0;32m      7\u001b[0m \u001b[38;5;28;01mfrom\u001b[39;00m \u001b[38;5;21;01mnomad\u001b[39;00m\u001b[38;5;21;01m.\u001b[39;00m\u001b[38;5;21;01mstop_detection\u001b[39;00m\u001b[38;5;21;01m.\u001b[39;00m\u001b[38;5;21;01mviz\u001b[39;00m \u001b[38;5;28;01mimport\u001b[39;00m plot_pings\n",
      "\u001b[1;31mModuleNotFoundError\u001b[0m: No module named 'nomad'"
     ]
    }
   ],
   "source": [
    "import geopandas as gpd\n",
    "from shapely.geometry import Polygon, box, Point\n",
    "import matplotlib.pyplot as plt\n",
    "\n",
    "import nomad.io.base as loader\n",
    "from nomad import filters\n",
    "from nomad.stop_detection.viz import plot_pings"
   ]
  },
  {
   "cell_type": "code",
   "execution_count": null,
   "id": "eba6bc5d",
   "metadata": {
    "colab": {
     "base_uri": "https://localhost:8080/",
     "height": 565
    },
    "executionInfo": {
     "elapsed": 1989,
     "status": "ok",
     "timestamp": 1753087479816,
     "user": {
      "displayName": "Thomas Li",
      "userId": "03526318197962168317"
     },
     "user_tz": -120
    },
    "id": "eba6bc5d",
    "outputId": "66eee929-3728-4a31-ac6d-60c72e8babc9"
   },
   "outputs": [],
   "source": [
    "poi_table = gpd.read_file('garden_city.gpkg').set_index('building_id')\n",
    "\n",
    "city_bounds = box(*poi_table.total_bounds)\n",
    "color_map = {\"home\":\"#86ceeb\", \"park\":\"#90ee90\", \"retail\":\"#d3d3d3\", \"work\":\"#c9a0dc\"}\n",
    "\n",
    "tc = {\"user_id\": \"gc_identifier\",\"timestamp\": \"unix_ts\",\"x\":\"dev_x\", \"y\":\"dev_y\"}\n",
    "\n",
    "traj = loader.sample_from_file('gc_data_long/',\n",
    "                               format='parquet',\n",
    "                               users=['confident_aryabhata'],\n",
    "                               within=city_bounds, # spatial filters\n",
    "                               filters=[(\"ha\", \"<\", 30), (\"date\", \"<\", '2024-01-04')], # regular filters\n",
    "                               data_crs=\"EPSG:3857\",\n",
    "                               traj_cols=tc)\n",
    "\n",
    "fix, ax = plt.subplots(figsize=(5,5))\n",
    "\n",
    "ax.set_axis_off()\n",
    "poi_table.plot(ax=ax, color=poi_table[\"type\"].map(color_map), edgecolor=\"black\")\n",
    "\n",
    "plot_pings(traj, ax=ax, point_color='black',\n",
    "           radius=\"ha\", circle_alpha=0.06, circle_color=\"red\", # for horizontal accuracy\n",
    "           s=5, alpha=0.4, # for pings\n",
    "           traj_cols=tc)\n",
    "\n",
    "[plt.plot([],[], marker=\"s\", ls=\"\", color=color_map[t], label=t) for t in color_map]\n",
    "ax.legend(loc=\"upper center\", ncol=4, fontsize=10, framealpha=1)\n",
    "\n",
    "plt.tight_layout()\n",
    "plt.title(\"Homes and workplaces are in the \\n inner two rings, can we detect them?\")\n",
    "plt.show()"
   ]
  },
  {
   "cell_type": "code",
   "execution_count": null,
   "id": "2ac7b602-ad59-448c-aff9-371418ed3ef7",
   "metadata": {
    "executionInfo": {
     "elapsed": 2,
     "status": "ok",
     "timestamp": 1753087479830,
     "user": {
      "displayName": "Thomas Li",
      "userId": "03526318197962168317"
     },
     "user_tz": -120
    },
    "id": "2ac7b602-ad59-448c-aff9-371418ed3ef7"
   },
   "outputs": [],
   "source": [
    "import numpy as np\n",
    "from nomad import filters\n",
    "\n",
    "\n",
    "stops = loader.sample_from_file(\"gc_data_stops/\",\n",
    "                                format='parquet',\n",
    "                                users=['confident_aryabhata'], # <<<< single user\n",
    "                                user_id=\"gc_identifier\")\n",
    "\n",
    "stops['datetime'] = filters.to_zoned_datetime(stops['start_timestamp'], stops['tz_offset'])\n",
    "stops_sample = stops.query(\"'2024-01-05T00-0400' <= datetime <='2024-01-07T00-0400'\")"
   ]
  },
  {
   "cell_type": "markdown",
   "id": "290cd8dd-5aab-4763-9d33-8aa5896a0583",
   "metadata": {
    "id": "290cd8dd-5aab-4763-9d33-8aa5896a0583"
   },
   "source": [
    "## Attribute visits from centroid of stops"
   ]
  },
  {
   "cell_type": "code",
   "execution_count": null,
   "id": "05dfd6cf-e53f-4ff7-b18b-de12909a0937",
   "metadata": {
    "colab": {
     "base_uri": "https://localhost:8080/",
     "height": 642
    },
    "executionInfo": {
     "elapsed": 8,
     "status": "ok",
     "timestamp": 1753087479839,
     "user": {
      "displayName": "Thomas Li",
      "userId": "03526318197962168317"
     },
     "user_tz": -120
    },
    "id": "05dfd6cf-e53f-4ff7-b18b-de12909a0937",
    "outputId": "7fd014a3-32c5-4c4b-e83e-fc7eeb2a70b9"
   },
   "outputs": [],
   "source": [
    "import nomad.visit_attribution.visit_attribution as visits\n",
    "\n",
    "stops[\"location_id\"] = visits.point_in_polygon(\n",
    "                         data=stops,\n",
    "                         poi_table=poi_table,\n",
    "                         max_distance=15,  # TRY max_distance = 0\n",
    "                         x='x',\n",
    "                         y='y',\n",
    "                         method='centroid',\n",
    "                         data_crs='EPSG:3857')\n",
    "\n",
    "stops.location_id.value_counts().head(15)"
   ]
  },
  {
   "cell_type": "markdown",
   "id": "c2c9f055-c42a-494f-9cb7-8e0126b7c47c",
   "metadata": {
    "id": "c2c9f055-c42a-494f-9cb7-8e0126b7c47c"
   },
   "source": [
    "In the presence of **noise**, it is possible that pings for a single stop are scattered, and maybe are **split between several buildings**. `nomad.visit_attribution` implements the method `majority`, with more robustness to such cases, in which the location assigned to a stop is the **\"majority vote\" of the pings making up the stop**. For this we need the raw data with cluster labels."
   ]
  },
  {
   "cell_type": "code",
   "execution_count": null,
   "id": "8994c241-4945-4905-9ab8-4f2561c95ba7",
   "metadata": {
    "colab": {
     "base_uri": "https://localhost:8080/",
     "height": 642
    },
    "executionInfo": {
     "elapsed": 1264,
     "status": "ok",
     "timestamp": 1753087481103,
     "user": {
      "displayName": "Thomas Li",
      "userId": "03526318197962168317"
     },
     "user_tz": -120
    },
    "id": "8994c241-4945-4905-9ab8-4f2561c95ba7",
    "outputId": "4ae63037-7bfa-40ee-d9c2-9275f646f19e"
   },
   "outputs": [],
   "source": [
    "import nomad.stop_detection.lachesis as LACHESIS\n",
    "from nomad.stop_detection.utils import summarize_stop\n",
    "\n",
    "tc = {\"user_id\": \"gc_identifier\", \"timestamp\": \"unix_ts\", \"x\": \"dev_x\", \"y\": \"dev_y\", \"ha\":\"ha\", \"date\":\"date\"}\n",
    "\n",
    "traj = loader.sample_from_file(\"gc_data_long/\", format='parquet', users=['confident_aryabhata'], traj_cols=tc)\n",
    "traj[\"cluster\"] = LACHESIS.lachesis_labels(traj, delta_roam=30, dt_max=240, complete_output=True, traj_cols=tc)\n",
    "\n",
    "traj[\"location_id\"] = visits.point_in_polygon(\n",
    "                         data=traj,\n",
    "                         poi_table=poi_table,\n",
    "                         max_distance=15,  # try switching to max_distance = 0\n",
    "                         x='dev_x',\n",
    "                         y='dev_y',\n",
    "                         method='majority',\n",
    "                         data_crs='EPSG:3857')\n",
    "\n",
    "stops_maj = traj[traj.cluster!=-1].groupby('cluster', as_index=False).apply(lambda df: summarize_stop(\n",
    "                                                                                df,\n",
    "                                                                                complete_output=True,\n",
    "                                                                                keep_col_names=False,\n",
    "                                                                                passthrough_cols=['location_id', 'gc_identifier'],\n",
    "                                                                                traj_cols=tc), include_groups=False\n",
    "                                                                            )\n",
    "\n",
    "stops_maj.location_id.value_counts().head(15)"
   ]
  },
  {
   "cell_type": "markdown",
   "id": "3e7544e5-07aa-4f73-8b71-22978d48bd20",
   "metadata": {
    "id": "3e7544e5-07aa-4f73-8b71-22978d48bd20"
   },
   "source": [
    "## Detecting homes from a stop table with locations"
   ]
  },
  {
   "cell_type": "code",
   "execution_count": null,
   "id": "9e92b136-93de-4d9c-a03e-8432ce5e0dc4",
   "metadata": {
    "colab": {
     "base_uri": "https://localhost:8080/"
    },
    "executionInfo": {
     "elapsed": 4651,
     "status": "ok",
     "timestamp": 1753087485746,
     "user": {
      "displayName": "Thomas Li",
      "userId": "03526318197962168317"
     },
     "user_tz": -120
    },
    "id": "9e92b136-93de-4d9c-a03e-8432ce5e0dc4",
    "outputId": "ef6f0149-27e8-4275-ace1-1e7f6096c6b0"
   },
   "outputs": [],
   "source": [
    "stops = loader.from_file(\"gc_data_stops/\", format='parquet', user_id=\"gc_identifier\")\n",
    "stops['datetime'] = filters.to_zoned_datetime(stops['start_timestamp'], stops['tz_offset'])\n",
    "\n",
    "stops[\"location_id\"] = visits.point_in_polygon(\n",
    "                         data=stops,\n",
    "                         poi_table=poi_table,\n",
    "                         max_distance=10,\n",
    "                         x='x',\n",
    "                         y='y',\n",
    "                         method='centroid',\n",
    "                         data_crs='EPSG:3857')"
   ]
  },
  {
   "cell_type": "markdown",
   "id": "095e1ac0-6bf1-46b9-9f92-86ff33f6b6cf",
   "metadata": {
    "id": "095e1ac0-6bf1-46b9-9f92-86ff33f6b6cf"
   },
   "source": [
    "Let's plot the most visited locations, normalizing by time visited (keep in mind some stops are split!)"
   ]
  },
  {
   "cell_type": "code",
   "execution_count": null,
   "id": "8a7285a8-a58b-4b31-8aba-e4bf6f96ed18",
   "metadata": {
    "colab": {
     "base_uri": "https://localhost:8080/",
     "height": 384
    },
    "executionInfo": {
     "elapsed": 757,
     "status": "ok",
     "timestamp": 1753087486499,
     "user": {
      "displayName": "Thomas Li",
      "userId": "03526318197962168317"
     },
     "user_tz": -120
    },
    "id": "8a7285a8-a58b-4b31-8aba-e4bf6f96ed18",
    "outputId": "90201b2e-f008-48ef-f9c1-6123c4df4a80"
   },
   "outputs": [],
   "source": [
    "import matplotlib.pyplot as plt\n",
    "\n",
    "poi_table['total_visit_time_hrs'] = stops.groupby(\"location_id\").agg({\"duration\":\"sum\"})//60\n",
    "\n",
    "fig, ax1 = plt.subplots(figsize=(5,5))\n",
    "ax1.set_axis_off()\n",
    "\n",
    "poi_table.plot(ax=ax1, column='total_visit_time_hrs', cmap='Reds', edgecolor='black', linewidth=0.75, legend=True, legend_kwds={'shrink': 0.75})\n",
    "plt.title(\"Total visit time (h) by building\")\n",
    "plt.show()"
   ]
  },
  {
   "cell_type": "markdown",
   "id": "5ee937be-57d4-4174-b7ed-4eb33edee71f",
   "metadata": {
    "id": "5ee937be-57d4-4174-b7ed-4eb33edee71f"
   },
   "source": [
    "### Homes ~ **most recurrent night time location** (don't use unix!)"
   ]
  },
  {
   "cell_type": "code",
   "execution_count": null,
   "id": "6bd25f64-fea6-442a-9e25-da643a070b24",
   "metadata": {
    "executionInfo": {
     "elapsed": 3395,
     "status": "ok",
     "timestamp": 1753087489904,
     "user": {
      "displayName": "Thomas Li",
      "userId": "03526318197962168317"
     },
     "user_tz": -120
    },
    "id": "6bd25f64-fea6-442a-9e25-da643a070b24"
   },
   "outputs": [],
   "source": [
    "stops['start_datetime'] = filters.to_zoned_datetime(stops['start_timestamp'], stops['tz_offset'])\n",
    "stops['end_datetime'] = filters.to_zoned_datetime(stops['end_timestamp'], stops['tz_offset'])\n",
    "stops.drop(['start_timestamp', 'end_timestamp'], axis=1, inplace=True)"
   ]
  },
  {
   "cell_type": "code",
   "execution_count": null,
   "id": "bae1917e-f1bd-4c16-a88a-dc204c045b63",
   "metadata": {
    "colab": {
     "base_uri": "https://localhost:8080/",
     "height": 459
    },
    "executionInfo": {
     "elapsed": 24597,
     "status": "ok",
     "timestamp": 1753087514506,
     "user": {
      "displayName": "Thomas Li",
      "userId": "03526318197962168317"
     },
     "user_tz": -120
    },
    "id": "bae1917e-f1bd-4c16-a88a-dc204c045b63",
    "outputId": "c1821595-10f5-4e15-f31f-e7b8a8fa2c52"
   },
   "outputs": [],
   "source": [
    "%%time\n",
    "import nomad.visit_attribution.home_attribution as homes\n",
    "from datetime import date\n",
    "\n",
    "cand_homes = homes.compute_candidate_homes(stops,\n",
    "                                           datetime=\"datetime\",\n",
    "                                           location_id=\"location_id\",\n",
    "                                           user_id=\"gc_identifier\",\n",
    "                                           dawn_hour=6,\n",
    "                                           dusk_hour=19\n",
    "                                           )\n",
    "cand_homes"
   ]
  },
  {
   "cell_type": "markdown",
   "id": "12421f2e-b389-4f3d-821a-71eafc5f0a65",
   "metadata": {
    "id": "12421f2e-b389-4f3d-821a-71eafc5f0a65"
   },
   "source": [
    "A simple query can now find candidate locations satisfying:\n",
    "- `num_nights >= min_days`\n",
    "- `num_weeks >= min_weeks`\n",
    "- break ties using the total dwell at night (`total_duration`)"
   ]
  },
  {
   "cell_type": "code",
   "execution_count": null,
   "id": "e3da8863-9e6c-493f-89f2-6abaebd72989",
   "metadata": {
    "colab": {
     "base_uri": "https://localhost:8080/",
     "height": 424
    },
    "executionInfo": {
     "elapsed": 14,
     "status": "ok",
     "timestamp": 1753087514521,
     "user": {
      "displayName": "Thomas Li",
      "userId": "03526318197962168317"
     },
     "user_tz": -120
    },
    "id": "e3da8863-9e6c-493f-89f2-6abaebd72989",
    "outputId": "953963f9-1062-4f4f-d0aa-374ad37bc171"
   },
   "outputs": [],
   "source": [
    "last_date = date(year=2024, month=1, day=21) # needed for rolling home computations\n",
    "home_table = homes.select_home(cand_homes, min_days=4, min_weeks=2, last_date=last_date, user_id='gc_identifier')\n",
    "home_table"
   ]
  },
  {
   "cell_type": "code",
   "execution_count": null,
   "id": "aaf49e0d-abb1-44fb-9a88-e2dca1e5a2f0",
   "metadata": {
    "colab": {
     "base_uri": "https://localhost:8080/"
    },
    "executionInfo": {
     "elapsed": 4,
     "status": "ok",
     "timestamp": 1753087514526,
     "user": {
      "displayName": "Thomas Li",
      "userId": "03526318197962168317"
     },
     "user_tz": -120
    },
    "id": "aaf49e0d-abb1-44fb-9a88-e2dca1e5a2f0",
    "outputId": "b6ba6351-8598-492d-9927-f6b9126dbd3d"
   },
   "outputs": [],
   "source": [
    "print(f\"{100*len(home_table)/len(stops.gc_identifier.unique()):.2f}% of users have a detected home\")\n",
    "print(f\"{100*(home_table.location_id.str[0] == 'h').sum()/len(stops.gc_identifier.unique()):.2f}% of users have a home of type 'home'\")"
   ]
  },
  {
   "cell_type": "markdown",
   "id": "287bfe2c-d085-4de2-9411-0f96422acaef",
   "metadata": {
    "id": "287bfe2c-d085-4de2-9411-0f96422acaef"
   },
   "source": [
    "## Work locations and OD matrix"
   ]
  },
  {
   "cell_type": "code",
   "execution_count": null,
   "id": "e1bfe9de-ea50-4a65-ba2c-117e362ce03b",
   "metadata": {
    "colab": {
     "base_uri": "https://localhost:8080/"
    },
    "executionInfo": {
     "elapsed": 15298,
     "status": "ok",
     "timestamp": 1753087529824,
     "user": {
      "displayName": "Thomas Li",
      "userId": "03526318197962168317"
     },
     "user_tz": -120
    },
    "id": "e1bfe9de-ea50-4a65-ba2c-117e362ce03b",
    "outputId": "22b35607-98ba-4e2f-b3d4-ef9cd5d9551d"
   },
   "outputs": [],
   "source": [
    "cand_works = homes.compute_candidate_workplaces(stops,\n",
    "                                               datetime=\"datetime\",\n",
    "                                               location_id=\"location_id\",\n",
    "                                               user_id=\"gc_identifier\",\n",
    "                                               work_start_hour=8,\n",
    "                                               work_end_hour=18,\n",
    "                                               include_weekends=False)\n",
    "\n",
    "work_table = homes.select_workplace(cand_works, last_date=last_date, min_days=3,min_weeks=2, user_id='gc_identifier')\n",
    "\n",
    "print(f\"{100*len(work_table)/len(stops.gc_identifier.unique()):.2f}% of users have a detected workplace\")\n",
    "print(f\"{100*(work_table.location_id.str[0] == 'w').sum()/len(stops.gc_identifier.unique()):.2f}% of users have a workplace of type 'work'.\")"
   ]
  },
  {
   "cell_type": "markdown",
   "id": "612a3f74-40f8-494b-a340-4043770b7e5f",
   "metadata": {
    "id": "612a3f74-40f8-494b-a340-4043770b7e5f"
   },
   "source": [
    "## Visualization of network from home to work using pydeck"
   ]
  },
  {
   "cell_type": "code",
   "execution_count": null,
   "id": "24c1880b-8b92-4a56-8852-e6f5948701e9",
   "metadata": {
    "executionInfo": {
     "elapsed": 13,
     "status": "ok",
     "timestamp": 1753087529851,
     "user": {
      "displayName": "Thomas Li",
      "userId": "03526318197962168317"
     },
     "user_tz": -120
    },
    "id": "24c1880b-8b92-4a56-8852-e6f5948701e9"
   },
   "outputs": [],
   "source": [
    "import pandas as pd\n",
    "\n",
    "origin = home_table.set_index('gc_identifier').location_id\n",
    "origin.name = \"origin\"\n",
    "\n",
    "destination = work_table.set_index('gc_identifier').location_id\n",
    "destination.name = \"destination\"\n",
    "\n",
    "od = (pd.DataFrame([origin,destination]).T).dropna()\n",
    "od = od.groupby(by=['origin', 'destination']).size().reset_index(name='count')"
   ]
  },
  {
   "cell_type": "code",
   "execution_count": null,
   "id": "d2c941e6-0d20-428d-a1e0-b46fb24dc05f",
   "metadata": {
    "colab": {
     "base_uri": "https://localhost:8080/",
     "height": 500
    },
    "executionInfo": {
     "elapsed": 745,
     "status": "ok",
     "timestamp": 1753087602896,
     "user": {
      "displayName": "Thomas Li",
      "userId": "03526318197962168317"
     },
     "user_tz": -120
    },
    "id": "d2c941e6-0d20-428d-a1e0-b46fb24dc05f",
    "outputId": "6019faa2-64ea-46d6-b087-dda93cbc941e"
   },
   "outputs": [],
   "source": [
    "from nomad.visit_attribution.viz import plot_od_map\n",
    "\n",
    "# a little background\n",
    "outer_box = box(*poi_table.total_bounds).buffer(15, join_style='mitre')\n",
    "outer_box = outer_box.difference(poi_table.geometry.union_all())\n",
    "\n",
    "background = poi_table.copy()\n",
    "background['color'] = '#adadad'\n",
    "background = pd.concat([background, gpd.GeoDataFrame({'geometry':outer_box, 'color':'#616161'}, index=['outline'], crs=\"EPSG:3857\")])\n",
    "\n",
    "plot_od_map(od_df=od,\n",
    "   region_gdf=poi_table,\n",
    "   origin_col=\"origin\",\n",
    "   dest_col=\"destination\",\n",
    "   weight_col=\"count\",\n",
    "   edge_alpha=0.8,\n",
    "   edge_cmap=\"Reds\", # try Reds, viridis, plasma\n",
    "   w_min=3, # try 1 or 3\n",
    "   background_gdf=background)"
   ]
  }
 ],
 "metadata": {
  "colab": {
   "provenance": []
  },
  "kernelspec": {
   "display_name": "Python 3 (ipykernel)",
   "language": "python",
   "name": "python3"
  },
  "language_info": {
   "codemirror_mode": {
    "name": "ipython",
    "version": 3
   },
   "file_extension": ".py",
   "mimetype": "text/x-python",
   "name": "python",
   "nbconvert_exporter": "python",
   "pygments_lexer": "ipython3",
   "version": "3.12.3"
  }
 },
 "nbformat": 4,
 "nbformat_minor": 5
}

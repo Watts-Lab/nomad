{
 "cells": [
  {
   "cell_type": "code",
   "execution_count": null,
   "id": "e6fd5cdb-2f87-4b30-99f9-21dda2ff3ac7",
   "metadata": {},
   "outputs": [],
   "source": [
    "!pip install -q git+https://github.com/Watts-Lab/nomad.git@IC2S2-tutorial\n",
    "\n",
    "import gdown\n",
    "gdown.cached_download(\n",
    "    \"https://drive.google.com/uc?id=1wk3nrNsmAiBoTtWznHjjjPkmWAZfxk0P\",\n",
    "    path=\"IC2S2_2025.zip\",\n",
    "    quiet=False,\n",
    "    postprocess=gdown.extractall,  # auto-unzip\n",
    ")"
   ]
  },
  {
   "cell_type": "markdown",
   "id": "460ff464-7812-41fb-bc5b-bc4f24e16499",
   "metadata": {},
   "source": [
    "# **Tutorial 1: Loading and Sampling Trajectory Data**\n",
    "\n",
    "## Getting started\n",
    "\n",
    "Real-world mobility files vary widely in structure and formatting:\n",
    "- e.g. **Timestamps** may be **UNIX** integers or **ISO-formatted strings**\n",
    "- May have **timezones**, e.g. -05:00, Z, (GMT+01), -3600\n",
    "- Coordinates might be **projected** or **geographical**\n",
    "- Files may be a flat **CSV**, or **partitioned Parquets**, local or **in S3**.\n",
    "\n",
    "`nomad.io` is here to help."
   ]
  },
  {
   "cell_type": "code",
   "execution_count": null,
   "id": "ca448248-3077-4e67-ad81-6d1ba1b170db",
   "metadata": {},
   "outputs": [],
   "source": [
    "from nomad.io import base as loader"
   ]
  },
  {
   "cell_type": "markdown",
   "id": "c9672ed9-5e8d-4cb3-86fd-a25f12e88bae",
   "metadata": {},
   "source": [
    "## Inspecting schemas"
   ]
  },
  {
   "cell_type": "code",
   "execution_count": null,
   "id": "9f4d2a70-4f52-44e9-8e8f-106426addea2",
   "metadata": {},
   "outputs": [],
   "source": [
    "print(loader.table_columns(\"gc_data.csv\", format=\"csv\"))\n",
    "print(loader.table_columns(\"gc_data/\", format=\"csv\"))"
   ]
  },
  {
   "cell_type": "markdown",
   "id": "c78e81f2-bcf3-4cc5-8c26-b6111484df73",
   "metadata": {},
   "source": [
    "## **Typical processing**. an example with `pandas`, `geopandas`\n",
    "\n",
    "Perform preliminary analysis of the data in (`gc-data.csv`).\n",
    "- **Load** trajectory and geometry data.\n",
    "- **Plot the data of a user** \n",
    "- Create **a heatmap** of ping **hotspots**.\n",
    "- Analyze **gaps** in the user's signals."
   ]
  },
  {
   "cell_type": "code",
   "execution_count": null,
   "id": "904bf840-4253-41e3-a1d3-d54874072613",
   "metadata": {},
   "outputs": [],
   "source": [
    "import pandas as pd\n",
    "import geopandas as gpd\n",
    "\n",
    "df = pd.read_csv(\"gc_data.csv\")\n",
    "city = gpd.read_file(\"garden_city.geojson\")\n",
    "\n",
    "df.head()"
   ]
  },
  {
   "cell_type": "code",
   "execution_count": null,
   "id": "5c85efaa-9010-49a2-b502-bdd0c35896ba",
   "metadata": {},
   "outputs": [],
   "source": [
    "import matplotlib.pyplot as plt\n",
    "\n",
    "user = df['identifier'].iloc[0]\n",
    "date = '2024-01-04'\n",
    "\n",
    "user_df = df.loc[(df['identifier'] == user) & (df['date'] == date)]\n",
    "\n",
    "\n",
    "fig, ax1 = plt.subplots(figsize=(4,4))\n",
    "ax1.set_axis_off()\n",
    "\n",
    "city.plot(ax=ax1, column='type', edgecolor='black', linewidth=0.75, cmap='Set3')\n",
    "ax1.scatter(user_df['device_lon'], user_df['device_lat'], s=6, alpha=0.75, color='black')\n",
    "plt.title(f\"Trajectory for {user} on {date}\")\n",
    "\n",
    "plt.tight_layout()\n",
    "plt.show()"
   ]
  },
  {
   "cell_type": "code",
   "execution_count": null,
   "id": "5363ef05-24a2-4c8d-8c38-840e36f76b9a",
   "metadata": {},
   "outputs": [],
   "source": [
    "import h3\n",
    "from shapely import Polygon\n",
    "\n",
    "# GOTCHA 1: (lat, lon) or (lon, lat)\n",
    "def h3_cell_to_polygon(cell):\n",
    "    coords = h3.cell_to_boundary(cell)\n",
    "    lat, lon = zip(*coords)\n",
    "    return Polygon(zip(lon, lat))\n",
    "\n",
    "# Cell for each row\n",
    "def row_to_h3_cell(row, res):\n",
    "    return h3.latlng_to_cell(lat=row['device_lat'], lng=row['device_lon'], res=res)\n",
    "\n",
    "df['cell'] = df.apply(row_to_h3_cell, res=12, axis=1)\n",
    "\n",
    "pings_per_cell = df.groupby('cell').agg(pings=('unix_timestamp', 'count')).reset_index()\n",
    "cell_geometries = pings_per_cell['cell'].apply(h3_cell_to_polygon)\n",
    "\n",
    "h3_gdf = gpd.GeoDataFrame(pings_per_cell, geometry=cell_geometries)\n",
    "h3_gdf = h3_gdf.loc[h3_gdf.pings>1200] # Try 800\n",
    "\n",
    "fig, ax2 = plt.subplots(figsize=(5,4))\n",
    "city.plot(ax=ax2, column='type', edgecolor='black', linewidth=0.75, cmap='Set3') \n",
    "h3_gdf.plot(column=h3_gdf.pings, cmap='Reds', alpha=0.75, ax=ax2, legend=True, legend_kwds={'shrink': 0.5}) # try cmap='inferno' or 'plasma'\n",
    "ax2.set_axis_off()\n",
    "plt.title(\"Heatmap of pings by H3 cell (12)\")\n",
    "plt.show()"
   ]
  },
  {
   "cell_type": "code",
   "execution_count": null,
   "id": "f4f136dd-de20-4190-b96c-943c7b193463",
   "metadata": {},
   "outputs": [],
   "source": [
    "def get_max_gap_minutes(times):\n",
    "    shifted_times = times.shift(1, fill_value=0) # shift gives previous value\n",
    "    gaps = (times.iloc[1:] - shifted_times.iloc[1:])//60 # gaps in minutes\n",
    "    return gaps.max()\n",
    "\n",
    "max_gap = df.groupby('identifier')['unix_timestamp'].apply(get_max_gap_minutes)\n",
    "\n",
    "fig, ax3 = plt.subplots(figsize=(4,3))\n",
    "max_gap.hist(ax=ax3, bins=24, color='#8dd3c7')\n",
    "ax3.set_xlabel('minutes')\n",
    "ax3.set_title('max temporal gap per user')\n",
    "plt.show()"
   ]
  },
  {
   "cell_type": "markdown",
   "id": "71f802bd-950f-4c64-a309-766590d7e4e9",
   "metadata": {},
   "source": [
    "## `nomad.io` — facilitates type casting and default names\n",
    "\n",
    "`nomad.io.base.from_file` is basically a `pandas` / `pyarrow` wrapper, trying to simplify the formatting of canonical variables\n",
    "\n",
    "- dates and datetimes in **ISO format** are cast to `pandas.datetime64`\n",
    "- **unix timestamps** are cast to integers and **reformatted to seconds**.\n",
    "- **user identifiers** are cast to strings\n",
    "- **partition folders** can be read as columns (Hive)"
   ]
  },
  {
   "cell_type": "code",
   "execution_count": null,
   "id": "341ed5b6-b375-4069-9a51-0f6d6ef069e9",
   "metadata": {},
   "outputs": [],
   "source": [
    "from nomad.constants import DEFAULT_SCHEMA\n",
    "print(\"Canonical column names in nomad\")\n",
    "DEFAULT_SCHEMA"
   ]
  },
  {
   "cell_type": "markdown",
   "id": "03b7bf33-48a1-4d75-bd95-ae05fb7f9357",
   "metadata": {},
   "source": [
    "Don't read partitioned data with a for loop! `nomad`'s `from_file` wraps `PyArrow`'s file readers maintaning the same signature. "
   ]
  },
  {
   "cell_type": "code",
   "execution_count": null,
   "id": "eacf535a-b1f7-41e2-993c-56c40c768b32",
   "metadata": {
    "jupyter": {
     "source_hidden": true
    }
   },
   "outputs": [],
   "source": [
    "## SKIP THIS CELL ##\n",
    "\n",
    "# For the single csv dataset\n",
    "traj_cols = {\"user_id\": \"identifier\",\n",
    "             \"timestamp\": \"unix_timestamp\",\n",
    "             \"latitude\": \"device_lat\",\n",
    "             \"longitude\": \"device_lon\",\n",
    "             \"datetime\": \"local_datetime\",\n",
    "             \"date\": \"date\"}\n",
    "file_path = \"gc_data.csv\"\n",
    "\n",
    "df = loader.from_file(file_path, format=\"csv\", traj_cols=traj_cols)\n",
    "# check data types\n",
    "print(df.dtypes)"
   ]
  },
  {
   "cell_type": "code",
   "execution_count": null,
   "id": "b33de9d2-ee49-46ac-96a1-56784674d40c",
   "metadata": {},
   "outputs": [],
   "source": [
    "# For the partitioned dataset\n",
    "traj_cols = {\"user_id\": \"user_id\",\n",
    "             \"timestamp\": \"timestamp\",\n",
    "             \"latitude\": \"latitude\",\n",
    "             \"longitude\": \"longitude\",\n",
    "             \"datetime\": \"datetime\",\n",
    "             \"date\": \"date\"}\n",
    "\n",
    "file_path = \"gc_data/\" # partitioned\n",
    "\n",
    "\n",
    "df = loader.from_file(file_path, format=\"csv\", traj_cols=traj_cols, parse_dates=True)\n",
    "print(df.dtypes)"
   ]
  },
  {
   "cell_type": "code",
   "execution_count": null,
   "id": "61d82bfd-b126-4346-81f7-e0b738ccfe21",
   "metadata": {},
   "outputs": [],
   "source": [
    "## Compute all three statistics as before\n",
    "from nomad.filters import to_tessellation\n",
    "\n",
    "user_df = loader.sample_from_file(\n",
    "    file_path, format=\"csv\", users=[\"cocky_stallman\"],\n",
    "    filters=(\"date\", \"==\", \"2024-01-04\"), traj_cols=traj_cols) # filter on read\n",
    "\n",
    "# Pings per cell geodataframe \n",
    "df[\"cell\"] = to_tessellation(df, index=\"h3\", res=12, traj_cols=traj_cols)\n",
    "\n",
    "pings_per_cell = df.groupby('cell').agg(pings=(traj_cols['timestamp'], 'count')).reset_index()\n",
    "h3_gdf = gpd.GeoDataFrame(pings_per_cell, geometry=pings_per_cell['cell'].apply(h3_cell_to_polygon))\n",
    "h3_gdf = h3_gdf.loc[h3_gdf.pings>1000]\n",
    "\n",
    "# Maximum gap for each user\n",
    "max_gap = df.groupby(traj_cols['user_id'])[traj_cols['timestamp']].apply(get_max_gap_minutes)"
   ]
  },
  {
   "cell_type": "code",
   "execution_count": null,
   "id": "6c3b55ae-51cf-4e89-bf53-918ee80b735c",
   "metadata": {},
   "outputs": [],
   "source": [
    "from nomad.stop_detection.viz import plot_pings\n",
    "## Plotting\n",
    "fig, (ax1, ax2, ax3) = plt.subplots(figsize=(14,4), ncols=3, width_ratios=[4.5, 7, 4.5])\n",
    "\n",
    "# trajectory of a single user\n",
    "city.plot(ax=ax1, column='type', edgecolor='black', linewidth=0.75, cmap='Set3')\n",
    "plot_pings(user_df, ax=ax1, point_color='black', radius='ha', s=6, alpha=0.4, traj_cols=traj_cols)\n",
    "ax1.set_axis_off()\n",
    "# heatmap\n",
    "city.plot(ax=ax2, column='type', edgecolor='black', linewidth=0.75, cmap='Set3')\n",
    "h3_gdf.plot(column=h3_gdf.pings, cmap='Reds', alpha=0.75, ax=ax2, legend=True, legend_kwds={'shrink': 0.5})\n",
    "ax2.set_axis_off()\n",
    "# gaps\n",
    "max_gap.hist(ax=ax3, bins=24, color='#8dd3c7')\n",
    "ax3.set_xlabel('minutes')\n",
    "ax3.set_title('max temporal gap per user')\n",
    "\n",
    "plt.show()"
   ]
  },
  {
   "cell_type": "markdown",
   "id": "b4514fdd-d74a-4c69-bb68-73a091292d52",
   "metadata": {},
   "source": [
    "Now, go back to (hidden) [cell 7](#hidden-cell) and try simply changing the file path and column name mapping (traj_cols). The rest of the code works the same. "
   ]
  },
  {
   "cell_type": "markdown",
   "id": "9cbfe5f4-c481-4816-8136-bca26e48cf3c",
   "metadata": {},
   "source": [
    "## Prototype on a small sample of users/records"
   ]
  },
  {
   "cell_type": "code",
   "execution_count": null,
   "id": "f53e5ecd-ced0-4b7e-9a25-59d09bd4087b",
   "metadata": {
    "scrolled": true
   },
   "outputs": [],
   "source": [
    "file_path = \"gc_data/\" # has default names\n",
    "fmt = \"csv\"\n",
    "\n",
    "# full data\n",
    "df = loader.from_file(file_path, format=fmt)\n",
    "\n",
    "# sample users\n",
    "users = loader.sample_users(file_path, format=fmt, size=12, seed=314) # change if user_id has other name\n",
    "print(users)\n",
    "# sample data, pass users\n",
    "sample_df = loader.sample_from_file(file_path, users=users, format=fmt, frac_records=0.30, seed=314)\n",
    "\n",
    "## Sample users directly\n",
    "#sample_df = loader.sample_from_file(file_path, format=fmt, frac_records=0.30, frac_users=0.12, seed=314)"
   ]
  },
  {
   "cell_type": "code",
   "execution_count": null,
   "id": "96a12bd8-7345-47f5-8c32-46247a48a30c",
   "metadata": {
    "scrolled": true
   },
   "outputs": [],
   "source": [
    "loader.to_file(sample_df, \"/tmp/nomad_sample2/\", format=fmt, partition_by=[\"date\"], existing_data_behavior='overwrite_or_ignore')\n",
    "data_sample = loader.from_file(\"/tmp/nomad_sample2/\", format=fmt)"
   ]
  },
  {
   "cell_type": "code",
   "execution_count": null,
   "id": "0fd42c69-c932-428e-ab9c-30b46a1aecf0",
   "metadata": {},
   "outputs": [],
   "source": [
    "print(\"- Value counts for sample of data:\\n\")\n",
    "print(data_sample.user_id.value_counts())\n",
    "print(\"\\n---------------------------------\\n\")\n",
    "print(\"- Value counts for original data:\\n\")\n",
    "print(df.user_id.value_counts())"
   ]
  }
 ],
 "metadata": {
  "kernelspec": {
   "display_name": "Python 3 (ipykernel)",
   "language": "python",
   "name": "python3"
  },
  "language_info": {
   "codemirror_mode": {
    "name": "ipython",
    "version": 3
   },
   "file_extension": ".py",
   "mimetype": "text/x-python",
   "name": "python",
   "nbconvert_exporter": "python",
   "pygments_lexer": "ipython3",
   "version": "3.12.3"
  },
  "nbdime-conflicts": {
   "local_diff": [
    {
     "diff": [
      {
       "diff": [
        {
         "key": 0,
         "op": "addrange",
         "valuelist": [
          "conda_py_310_env"
         ]
        },
        {
         "key": 0,
         "length": 1,
         "op": "removerange"
        }
       ],
       "key": "display_name",
       "op": "patch"
      },
      {
       "diff": [
        {
         "key": 0,
         "op": "addrange",
         "valuelist": [
          "conda_py_310_env"
         ]
        },
        {
         "key": 0,
         "length": 1,
         "op": "removerange"
        }
       ],
       "key": "name",
       "op": "patch"
      }
     ],
     "key": "kernelspec",
     "op": "patch"
    },
    {
     "diff": [
      {
       "diff": [
        {
         "diff": [
          {
           "key": 5,
           "op": "addrange",
           "valuelist": "6"
          },
          {
           "key": 5,
           "length": 2,
           "op": "removerange"
          }
         ],
         "key": 0,
         "op": "patch"
        }
       ],
       "key": "version",
       "op": "patch"
      }
     ],
     "key": "language_info",
     "op": "patch"
    }
   ],
   "remote_diff": [
    {
     "diff": [
      {
       "diff": [
        {
         "key": 0,
         "op": "addrange",
         "valuelist": [
          "Python 3 (ipykernel)"
         ]
        },
        {
         "key": 0,
         "length": 1,
         "op": "removerange"
        }
       ],
       "key": "display_name",
       "op": "patch"
      },
      {
       "diff": [
        {
         "key": 0,
         "op": "addrange",
         "valuelist": [
          "python3"
         ]
        },
        {
         "key": 0,
         "length": 1,
         "op": "removerange"
        }
       ],
       "key": "name",
       "op": "patch"
      }
     ],
     "key": "kernelspec",
     "op": "patch"
    },
    {
     "diff": [
      {
       "diff": [
        {
         "key": 0,
         "length": 1,
         "op": "removerange"
        }
       ],
       "key": "version",
       "op": "patch"
      }
     ],
     "key": "language_info",
     "op": "patch"
    }
   ]
  }
 },
 "nbformat": 4,
 "nbformat_minor": 5
}

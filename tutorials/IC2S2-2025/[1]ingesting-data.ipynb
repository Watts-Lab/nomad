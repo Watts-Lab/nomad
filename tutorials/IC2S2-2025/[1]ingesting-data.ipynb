{
 "cells": [
  {
   "cell_type": "markdown",
   "id": "460ff464-7812-41fb-bc5b-bc4f24e16499",
   "metadata": {
    "id": "460ff464-7812-41fb-bc5b-bc4f24e16499"
   },
   "source": [
    "# **Tutorial 1: Loading and Sampling Trajectory Data**\n",
    "\n",
    "## Getting started\n",
    "\n",
    "Real-world mobility files vary widely in structure and formatting:\n",
    "- e.g. **Timestamps** may be **UNIX** integers or **ISO-formatted strings**\n",
    "- May have **timezones**, e.g. -05:00, Z, (GMT+01), -3600\n",
    "- Coordinates might be **projected** or **geographical**\n",
    "- Files may be a flat **CSV**, or **partitioned Parquets**, local or **in S3**.\n",
    "\n",
    "`nomad.io` is here to help."
   ]
  },
  {
   "cell_type": "markdown",
   "id": "e86742fb-14ff-4dc0-99c5-fa477ad8573b",
   "metadata": {
    "colab": {
     "base_uri": "https://localhost:8080/",
     "height": 591
    },
    "executionInfo": {
     "elapsed": 40418,
     "status": "ok",
     "timestamp": 1753081984229,
     "user": {
      "displayName": "Thomas Li",
      "userId": "03526318197962168317"
     },
     "user_tz": -120
    },
    "id": "e6fd5cdb-2f87-4b30-99f9-21dda2ff3ac7",
    "outputId": "cda87798-53c0-44ca-e630-6900eea0397f"
   },
   "source": [
    "### Download the data\n",
    "Download the file [IC2S2-2025.zip](https://drive.google.com/file/d/1wk3nrNsmAiBoTtWznHjjjPkmWAZfxk0P/view?usp=drive_link) and extract it to this folder to obtain the sample trajectory data used in this tutorial."
   ]
  },
  {
   "cell_type": "code",
   "execution_count": 1,
   "id": "ca448248-3077-4e67-ad81-6d1ba1b170db",
   "metadata": {
    "executionInfo": {
     "elapsed": 3404,
     "status": "ok",
     "timestamp": 1753083319439,
     "user": {
      "displayName": "Thomas Li",
      "userId": "03526318197962168317"
     },
     "user_tz": -120
    },
    "id": "ca448248-3077-4e67-ad81-6d1ba1b170db"
   },
   "outputs": [],
   "source": [
    "from nomad.io import base as loader"
   ]
  },
  {
   "cell_type": "markdown",
   "id": "c9672ed9-5e8d-4cb3-86fd-a25f12e88bae",
   "metadata": {
    "id": "c9672ed9-5e8d-4cb3-86fd-a25f12e88bae"
   },
   "source": [
    "## Inspecting schemas"
   ]
  },
  {
   "cell_type": "code",
   "execution_count": 2,
   "id": "9f4d2a70-4f52-44e9-8e8f-106426addea2",
   "metadata": {
    "colab": {
     "base_uri": "https://localhost:8080/"
    },
    "executionInfo": {
     "elapsed": 6,
     "status": "ok",
     "timestamp": 1753083319460,
     "user": {
      "displayName": "Thomas Li",
      "userId": "03526318197962168317"
     },
     "user_tz": -120
    },
    "id": "9f4d2a70-4f52-44e9-8e8f-106426addea2",
    "outputId": "4c5815a6-712c-409b-8cbb-5463680bc6c3"
   },
   "outputs": [
    {
     "name": "stdout",
     "output_type": "stream",
     "text": [
      "Index(['identifier', 'device_lon', 'device_lat', 'unix_timestamp',\n",
      "       'local_datetime', 'date', 'ha'],\n",
      "      dtype='object')\n",
      "Index(['user_id', 'longitude', 'latitude', 'timestamp', 'datetime', 'ha',\n",
      "       'date'],\n",
      "      dtype='object')\n"
     ]
    }
   ],
   "source": [
    "print(loader.table_columns(\"gc_data.csv\", format=\"csv\"))\n",
    "print(loader.table_columns(\"gc_data/\", format=\"csv\"))"
   ]
  },
  {
   "cell_type": "markdown",
   "id": "c78e81f2-bcf3-4cc5-8c26-b6111484df73",
   "metadata": {
    "id": "c78e81f2-bcf3-4cc5-8c26-b6111484df73"
   },
   "source": [
    "## **Typical processing**. an example with `pandas`, `geopandas`\n",
    "\n",
    "Perform preliminary analysis of the data in (`gc-data.csv`).\n",
    "- **Load** trajectory and geometry data.\n",
    "- **Plot the data of a user**\n",
    "- Create **a heatmap** of ping **hotspots**.\n",
    "- Analyze **gaps** in the user's signals."
   ]
  },
  {
   "cell_type": "code",
   "execution_count": 3,
   "id": "904bf840-4253-41e3-a1d3-d54874072613",
   "metadata": {
    "colab": {
     "base_uri": "https://localhost:8080/",
     "height": 206
    },
    "executionInfo": {
     "elapsed": 849,
     "status": "ok",
     "timestamp": 1753083322765,
     "user": {
      "displayName": "Thomas Li",
      "userId": "03526318197962168317"
     },
     "user_tz": -120
    },
    "id": "904bf840-4253-41e3-a1d3-d54874072613",
    "outputId": "9dd16f0f-7e96-4aaa-ade3-c431698bafbc"
   },
   "outputs": [
    {
     "data": {
      "text/html": [
       "<div>\n",
       "<style scoped>\n",
       "    .dataframe tbody tr th:only-of-type {\n",
       "        vertical-align: middle;\n",
       "    }\n",
       "\n",
       "    .dataframe tbody tr th {\n",
       "        vertical-align: top;\n",
       "    }\n",
       "\n",
       "    .dataframe thead th {\n",
       "        text-align: right;\n",
       "    }\n",
       "</style>\n",
       "<table border=\"1\" class=\"dataframe\">\n",
       "  <thead>\n",
       "    <tr style=\"text-align: right;\">\n",
       "      <th></th>\n",
       "      <th>identifier</th>\n",
       "      <th>device_lon</th>\n",
       "      <th>device_lat</th>\n",
       "      <th>unix_timestamp</th>\n",
       "      <th>local_datetime</th>\n",
       "      <th>date</th>\n",
       "      <th>ha</th>\n",
       "    </tr>\n",
       "  </thead>\n",
       "  <tbody>\n",
       "    <tr>\n",
       "      <th>0</th>\n",
       "      <td>cocky_stallman</td>\n",
       "      <td>-38.318802</td>\n",
       "      <td>36.669894</td>\n",
       "      <td>1704114435</td>\n",
       "      <td>2024-01-01 09:07:15-04:00</td>\n",
       "      <td>2024-01-01</td>\n",
       "      <td>8.492856</td>\n",
       "    </tr>\n",
       "    <tr>\n",
       "      <th>1</th>\n",
       "      <td>cocky_stallman</td>\n",
       "      <td>-38.318765</td>\n",
       "      <td>36.669905</td>\n",
       "      <td>1704114753</td>\n",
       "      <td>2024-01-01 09:12:33-04:00</td>\n",
       "      <td>2024-01-01</td>\n",
       "      <td>11.336772</td>\n",
       "    </tr>\n",
       "    <tr>\n",
       "      <th>2</th>\n",
       "      <td>cocky_stallman</td>\n",
       "      <td>-38.318627</td>\n",
       "      <td>36.669856</td>\n",
       "      <td>1704114792</td>\n",
       "      <td>2024-01-01 09:13:12-04:00</td>\n",
       "      <td>2024-01-01</td>\n",
       "      <td>18.436612</td>\n",
       "    </tr>\n",
       "    <tr>\n",
       "      <th>3</th>\n",
       "      <td>cocky_stallman</td>\n",
       "      <td>-38.318661</td>\n",
       "      <td>36.669920</td>\n",
       "      <td>1704114989</td>\n",
       "      <td>2024-01-01 09:16:29-04:00</td>\n",
       "      <td>2024-01-01</td>\n",
       "      <td>27.370737</td>\n",
       "    </tr>\n",
       "    <tr>\n",
       "      <th>4</th>\n",
       "      <td>cocky_stallman</td>\n",
       "      <td>-38.318602</td>\n",
       "      <td>36.669823</td>\n",
       "      <td>1704115195</td>\n",
       "      <td>2024-01-01 09:19:55-04:00</td>\n",
       "      <td>2024-01-01</td>\n",
       "      <td>12.506606</td>\n",
       "    </tr>\n",
       "  </tbody>\n",
       "</table>\n",
       "</div>"
      ],
      "text/plain": [
       "       identifier  device_lon  device_lat  unix_timestamp  \\\n",
       "0  cocky_stallman  -38.318802   36.669894      1704114435   \n",
       "1  cocky_stallman  -38.318765   36.669905      1704114753   \n",
       "2  cocky_stallman  -38.318627   36.669856      1704114792   \n",
       "3  cocky_stallman  -38.318661   36.669920      1704114989   \n",
       "4  cocky_stallman  -38.318602   36.669823      1704115195   \n",
       "\n",
       "              local_datetime        date         ha  \n",
       "0  2024-01-01 09:07:15-04:00  2024-01-01   8.492856  \n",
       "1  2024-01-01 09:12:33-04:00  2024-01-01  11.336772  \n",
       "2  2024-01-01 09:13:12-04:00  2024-01-01  18.436612  \n",
       "3  2024-01-01 09:16:29-04:00  2024-01-01  27.370737  \n",
       "4  2024-01-01 09:19:55-04:00  2024-01-01  12.506606  "
      ]
     },
     "execution_count": 3,
     "metadata": {},
     "output_type": "execute_result"
    }
   ],
   "source": [
    "import pandas as pd\n",
    "import geopandas as gpd\n",
    "\n",
    "df = pd.read_csv(\"gc_data.csv\")\n",
    "city = gpd.read_file(\"garden_city.geojson\")\n",
    "\n",
    "df.head()"
   ]
  },
  {
   "cell_type": "code",
   "execution_count": 4,
   "id": "5c85efaa-9010-49a2-b502-bdd0c35896ba",
   "metadata": {
    "id": "5c85efaa-9010-49a2-b502-bdd0c35896ba"
   },
   "outputs": [
    {
     "data": {
      "image/png": "[encoded data removed]",
      "text/plain": [
       "<Figure size 400x400 with 1 Axes>"
      ]
     },
     "metadata": {},
     "output_type": "display_data"
    }
   ],
   "source": [
    "import matplotlib.pyplot as plt\n",
    "\n",
    "user = df['identifier'].iloc[0]\n",
    "date = '2024-01-04'\n",
    "\n",
    "user_df = df.loc[(df['identifier'] == user) & (df['date'] == date)]\n",
    "\n",
    "\n",
    "fig, ax1 = plt.subplots(figsize=(4,4))\n",
    "ax1.set_axis_off()\n",
    "\n",
    "city.plot(ax=ax1, column='type', edgecolor='black', linewidth=0.75, cmap='Set3')\n",
    "ax1.scatter(user_df['device_lon'], user_df['device_lat'], s=6, alpha=0.75, color='black')\n",
    "plt.title(f\"Trajectory for {user} on {date}\")\n",
    "\n",
    "plt.tight_layout()\n",
    "plt.show()"
   ]
  },
  {
   "cell_type": "code",
   "execution_count": 5,
   "id": "5363ef05-24a2-4c8d-8c38-840e36f76b9a",
   "metadata": {
    "id": "5363ef05-24a2-4c8d-8c38-840e36f76b9a"
   },
   "outputs": [
    {
     "data": {
      "image/png": "[encoded data removed]",
      "text/plain": [
       "<Figure size 500x400 with 2 Axes>"
      ]
     },
     "metadata": {},
     "output_type": "display_data"
    }
   ],
   "source": [
    "import h3\n",
    "from shapely import Polygon\n",
    "\n",
    "# GOTCHA 1: (lat, lon) or (lon, lat)\n",
    "def h3_cell_to_polygon(cell):\n",
    "    coords = h3.cell_to_boundary(cell)\n",
    "    lat, lon = zip(*coords)\n",
    "    return Polygon(zip(lon, lat))\n",
    "\n",
    "# Cell for each row\n",
    "def row_to_h3_cell(row, res):\n",
    "    return h3.latlng_to_cell(lat=row['device_lat'], lng=row['device_lon'], res=res)\n",
    "\n",
    "df['cell'] = df.apply(row_to_h3_cell, res=12, axis=1)\n",
    "\n",
    "pings_per_cell = df.groupby('cell').agg(pings=('unix_timestamp', 'count')).reset_index()\n",
    "cell_geometries = pings_per_cell['cell'].apply(h3_cell_to_polygon)\n",
    "\n",
    "h3_gdf = gpd.GeoDataFrame(pings_per_cell, geometry=cell_geometries)\n",
    "h3_gdf = h3_gdf.loc[h3_gdf.pings>1200] # Try 800\n",
    "\n",
    "fig, ax2 = plt.subplots(figsize=(5,4))\n",
    "city.plot(ax=ax2, column='type', edgecolor='black', linewidth=0.75, cmap='Set3')\n",
    "h3_gdf.plot(column=h3_gdf.pings, cmap='Reds', alpha=0.75, ax=ax2, legend=True, legend_kwds={'shrink': 0.5}) # try cmap='inferno' or 'plasma'\n",
    "ax2.set_axis_off()\n",
    "plt.title(\"Heatmap of pings by H3 cell (12)\")\n",
    "plt.show()"
   ]
  },
  {
   "cell_type": "code",
   "execution_count": 6,
   "id": "f4f136dd-de20-4190-b96c-943c7b193463",
   "metadata": {
    "id": "f4f136dd-de20-4190-b96c-943c7b193463"
   },
   "outputs": [
    {
     "data": {
      "image/png": "[encoded data removed]",
      "text/plain": [
       "<Figure size 400x300 with 1 Axes>"
      ]
     },
     "metadata": {},
     "output_type": "display_data"
    }
   ],
   "source": [
    "def get_max_gap_minutes(times):\n",
    "    shifted_times = times.shift(1, fill_value=0) # shift gives previous value\n",
    "    gaps = (times.iloc[1:] - shifted_times.iloc[1:])//60 # gaps in minutes\n",
    "    return gaps.max()\n",
    "\n",
    "max_gap = df.groupby('identifier')['unix_timestamp'].apply(get_max_gap_minutes)\n",
    "\n",
    "fig, ax3 = plt.subplots(figsize=(4,3))\n",
    "max_gap.hist(ax=ax3, bins=24, color='#8dd3c7')\n",
    "ax3.set_xlabel('minutes')\n",
    "ax3.set_title('max temporal gap per user')\n",
    "plt.show()"
   ]
  },
  {
   "cell_type": "markdown",
   "id": "71f802bd-950f-4c64-a309-766590d7e4e9",
   "metadata": {
    "id": "71f802bd-950f-4c64-a309-766590d7e4e9"
   },
   "source": [
    "## `nomad.io` — facilitates type casting and default names\n",
    "\n",
    "`nomad.io.base.from_file` is basically a `pandas` / `pyarrow` wrapper, trying to simplify the formatting of canonical variables\n",
    "\n",
    "- dates and datetimes in **ISO format** are cast to `pandas.datetime64`\n",
    "- **unix timestamps** are cast to integers and **reformatted to seconds**.\n",
    "- **user identifiers** are cast to strings\n",
    "- **partition folders** can be read as columns (Hive)"
   ]
  },
  {
   "cell_type": "code",
   "execution_count": 7,
   "id": "341ed5b6-b375-4069-9a51-0f6d6ef069e9",
   "metadata": {
    "id": "341ed5b6-b375-4069-9a51-0f6d6ef069e9"
   },
   "outputs": [
    {
     "name": "stdout",
     "output_type": "stream",
     "text": [
      "Canonical column names in nomad\n"
     ]
    },
    {
     "data": {
      "text/plain": [
       "{'user_id': 'user_id',\n",
       " 'latitude': 'latitude',\n",
       " 'longitude': 'longitude',\n",
       " 'datetime': 'datetime',\n",
       " 'start_datetime': 'start_datetime',\n",
       " 'end_datetime': 'end_datetime',\n",
       " 'start_timestamp': 'start_timestamp',\n",
       " 'end_timestamp': 'end_timestamp',\n",
       " 'timestamp': 'timestamp',\n",
       " 'date': 'date',\n",
       " 'utc_date': 'date',\n",
       " 'x': 'x',\n",
       " 'y': 'y',\n",
       " 'geohash': 'geohash',\n",
       " 'tz_offset': 'tz_offset',\n",
       " 'duration': 'duration',\n",
       " 'ha': 'ha',\n",
       " 'h3_cell': 'h3_cell',\n",
       " 'location_id': 'location_id'}"
      ]
     },
     "execution_count": 7,
     "metadata": {},
     "output_type": "execute_result"
    }
   ],
   "source": [
    "from nomad.constants import DEFAULT_SCHEMA\n",
    "print(\"Canonical column names in nomad\")\n",
    "DEFAULT_SCHEMA"
   ]
  },
  {
   "cell_type": "markdown",
   "id": "03b7bf33-48a1-4d75-bd95-ae05fb7f9357",
   "metadata": {
    "id": "03b7bf33-48a1-4d75-bd95-ae05fb7f9357"
   },
   "source": [
    "Don't read partitioned data with a for loop! `nomad`'s `from_file` wraps `PyArrow`'s file readers maintaning the same signature."
   ]
  },
  {
   "cell_type": "code",
   "execution_count": 8,
   "id": "eacf535a-b1f7-41e2-993c-56c40c768b32",
   "metadata": {
    "id": "eacf535a-b1f7-41e2-993c-56c40c768b32",
    "jupyter": {
     "source_hidden": true
    }
   },
   "outputs": [
    {
     "name": "stdout",
     "output_type": "stream",
     "text": [
      "identifier                object\n",
      "device_lon               float64\n",
      "device_lat               float64\n",
      "unix_timestamp             Int64\n",
      "local_datetime    datetime64[ns]\n",
      "date                      object\n",
      "ha                       float64\n",
      "tz_offset                  Int64\n",
      "dtype: object\n"
     ]
    }
   ],
   "source": [
    "## SKIP THIS CELL ##\n",
    "\n",
    "# For the single csv dataset\n",
    "traj_cols = {\"user_id\": \"identifier\",\n",
    "             \"timestamp\": \"unix_timestamp\",\n",
    "             \"latitude\": \"device_lat\",\n",
    "             \"longitude\": \"device_lon\",\n",
    "             \"datetime\": \"local_datetime\",\n",
    "             \"date\": \"date\"}\n",
    "file_path = \"gc_data.csv\"\n",
    "\n",
    "df = loader.from_file(file_path, format=\"csv\", traj_cols=traj_cols)\n",
    "# check data types\n",
    "print(df.dtypes)"
   ]
  },
  {
   "cell_type": "code",
   "execution_count": 9,
   "id": "b33de9d2-ee49-46ac-96a1-56784674d40c",
   "metadata": {
    "id": "b33de9d2-ee49-46ac-96a1-56784674d40c"
   },
   "outputs": [
    {
     "name": "stdout",
     "output_type": "stream",
     "text": [
      "user_id              object\n",
      "longitude           float64\n",
      "latitude            float64\n",
      "timestamp             Int64\n",
      "datetime     datetime64[ns]\n",
      "ha                  float64\n",
      "date                 object\n",
      "tz_offset             Int64\n",
      "dtype: object\n"
     ]
    }
   ],
   "source": [
    "# For the partitioned dataset\n",
    "traj_cols = {\"user_id\": \"user_id\",\n",
    "             \"timestamp\": \"timestamp\",\n",
    "             \"latitude\": \"latitude\",\n",
    "             \"longitude\": \"longitude\",\n",
    "             \"datetime\": \"datetime\",\n",
    "             \"date\": \"date\"}\n",
    "\n",
    "file_path = \"gc_data/\" # partitioned\n",
    "\n",
    "\n",
    "df = loader.from_file(file_path, format=\"csv\", traj_cols=traj_cols, parse_dates=True)\n",
    "print(df.dtypes)"
   ]
  },
  {
   "cell_type": "code",
   "execution_count": 10,
   "id": "61d82bfd-b126-4346-81f7-e0b738ccfe21",
   "metadata": {
    "id": "61d82bfd-b126-4346-81f7-e0b738ccfe21"
   },
   "outputs": [],
   "source": [
    "## Compute all three statistics as before\n",
    "from nomad.filters import to_tessellation\n",
    "\n",
    "user_df = loader.sample_from_file(\n",
    "    file_path, format=\"csv\", users=[\"cocky_stallman\"],\n",
    "    filters=(\"date\", \"==\", \"2024-01-04\"), traj_cols=traj_cols) # filter on read\n",
    "\n",
    "# Pings per cell geodataframe\n",
    "df[\"cell\"] = to_tessellation(df, index=\"h3\", res=12, traj_cols=traj_cols)\n",
    "\n",
    "pings_per_cell = df.groupby('cell').agg(pings=(traj_cols['timestamp'], 'count')).reset_index()\n",
    "h3_gdf = gpd.GeoDataFrame(pings_per_cell, geometry=pings_per_cell['cell'].apply(h3_cell_to_polygon))\n",
    "h3_gdf = h3_gdf.loc[h3_gdf.pings>1000]\n",
    "\n",
    "# Maximum gap for each user\n",
    "max_gap = df.groupby(traj_cols['user_id'])[traj_cols['timestamp']].apply(get_max_gap_minutes)"
   ]
  },
  {
   "cell_type": "code",
   "execution_count": 11,
   "id": "6c3b55ae-51cf-4e89-bf53-918ee80b735c",
   "metadata": {
    "id": "6c3b55ae-51cf-4e89-bf53-918ee80b735c"
   },
   "outputs": [
    {
     "data": {
      "image/png": "[encoded data removed]",
      "text/plain": [
       "<Figure size 1400x400 with 4 Axes>"
      ]
     },
     "metadata": {},
     "output_type": "display_data"
    }
   ],
   "source": [
    "from nomad.stop_detection.viz import plot_pings\n",
    "## Plotting\n",
    "fig, (ax1, ax2, ax3) = plt.subplots(figsize=(14,4), ncols=3, width_ratios=[4.5, 7, 4.5])\n",
    "\n",
    "# trajectory of a single user\n",
    "city.plot(ax=ax1, column='type', edgecolor='black', linewidth=0.75, cmap='Set3')\n",
    "plot_pings(user_df, ax=ax1, point_color='black', radius='ha', s=6, alpha=0.4, traj_cols=traj_cols)\n",
    "ax1.set_axis_off()\n",
    "# heatmap\n",
    "city.plot(ax=ax2, column='type', edgecolor='black', linewidth=0.75, cmap='Set3')\n",
    "h3_gdf.plot(column=h3_gdf.pings, cmap='Reds', alpha=0.75, ax=ax2, legend=True, legend_kwds={'shrink': 0.5})\n",
    "ax2.set_axis_off()\n",
    "# gaps\n",
    "max_gap.hist(ax=ax3, bins=24, color='#8dd3c7')\n",
    "ax3.set_xlabel('minutes')\n",
    "ax3.set_title('max temporal gap per user')\n",
    "\n",
    "plt.show()"
   ]
  },
  {
   "cell_type": "markdown",
   "id": "b4514fdd-d74a-4c69-bb68-73a091292d52",
   "metadata": {
    "id": "b4514fdd-d74a-4c69-bb68-73a091292d52"
   },
   "source": [
    "Now, go back to (hidden) [cell 7](#hidden-cell) and try simply changing the file path and column name mapping (traj_cols). The rest of the code works the same."
   ]
  },
  {
   "cell_type": "markdown",
   "id": "9cbfe5f4-c481-4816-8136-bca26e48cf3c",
   "metadata": {
    "id": "9cbfe5f4-c481-4816-8136-bca26e48cf3c"
   },
   "source": [
    "## Prototype on a small sample of users/records"
   ]
  },
  {
   "cell_type": "code",
   "execution_count": 12,
   "id": "f53e5ecd-ced0-4b7e-9a25-59d09bd4087b",
   "metadata": {
    "id": "f53e5ecd-ced0-4b7e-9a25-59d09bd4087b",
    "scrolled": true
   },
   "outputs": [
    {
     "name": "stdout",
     "output_type": "stream",
     "text": [
      "83          upbeat_boyd\n",
      "24       competent_cori\n",
      "92       goofy_shockley\n",
      "95         lucid_bartik\n",
      "13         pensive_saha\n",
      "52         happy_panini\n",
      "23          brave_euler\n",
      "15            sad_hugle\n",
      "12    optimistic_agnesi\n",
      "20    youthful_meninsky\n",
      "25        dazzling_bose\n",
      "64       youthful_mayer\n",
      "dtype: object\n"
     ]
    }
   ],
   "source": [
    "file_path = \"gc_data/\" # has default names\n",
    "fmt = \"csv\"\n",
    "\n",
    "# full data\n",
    "df = loader.from_file(file_path, format=fmt)\n",
    "\n",
    "# sample users\n",
    "users = loader.sample_users(file_path, format=fmt, size=12, seed=314) # change if user_id has other name\n",
    "print(users)\n",
    "# sample data, pass users\n",
    "sample_df = loader.sample_from_file(file_path, users=users, format=fmt, frac_records=0.30, seed=314)\n",
    "\n",
    "## Sample users directly\n",
    "#sample_df = loader.sample_from_file(file_path, format=fmt, frac_records=0.30, frac_users=0.12, seed=314)"
   ]
  },
  {
   "cell_type": "code",
   "execution_count": 13,
   "id": "96a12bd8-7345-47f5-8c32-46247a48a30c",
   "metadata": {
    "id": "96a12bd8-7345-47f5-8c32-46247a48a30c",
    "scrolled": true
   },
   "outputs": [
    {
     "name": "stderr",
     "output_type": "stream",
     "text": [
      "C:\\Users\\pacob\\Desktop\\Brain\\Code Development\\virtual-environments\\nomad-venv\\Lib\\site-packages\\nomad\\io\\base.py:560: UserWarning: The 'datetime' column has timezone-naive records consider localizing or using unix timestamps.\n",
      "  warnings.warn(f\"The '{col}' column has timezone-naive records consider localizing or using unix timestamps.\")\n"
     ]
    }
   ],
   "source": [
    "loader.to_file(sample_df, \"/tmp/nomad_sample2/\", format=fmt, partition_by=[\"date\"], existing_data_behavior='overwrite_or_ignore')\n",
    "data_sample = loader.from_file(\"/tmp/nomad_sample2/\", format=fmt)"
   ]
  },
  {
   "cell_type": "code",
   "execution_count": 14,
   "id": "0fd42c69-c932-428e-ab9c-30b46a1aecf0",
   "metadata": {
    "id": "0fd42c69-c932-428e-ab9c-30b46a1aecf0"
   },
   "outputs": [
    {
     "name": "stdout",
     "output_type": "stream",
     "text": [
      "- Value counts for sample of data:\n",
      "\n",
      "user_id\n",
      "dazzling_bose        851\n",
      "sad_hugle            846\n",
      "youthful_mayer       822\n",
      "lucid_bartik         761\n",
      "competent_cori       512\n",
      "happy_panini         488\n",
      "goofy_shockley       326\n",
      "pensive_saha         223\n",
      "optimistic_agnesi    168\n",
      "brave_euler          164\n",
      "youthful_meninsky    137\n",
      "upbeat_boyd           89\n",
      "Name: count, dtype: int64\n",
      "\n",
      "---------------------------------\n",
      "\n",
      "- Value counts for original data:\n",
      "\n",
      "user_id\n",
      "vigilant_mendeleev        6015\n",
      "optimistic_curran         5881\n",
      "cocky_stallman            3722\n",
      "practical_jepsen          3488\n",
      "adoring_khorana           2949\n",
      "                          ... \n",
      "friendly_blackwell         310\n",
      "nifty_almeida              291\n",
      "gallant_jones              290\n",
      "inspiring_visvesvaraya     289\n",
      "determined_allen           221\n",
      "Name: count, Length: 100, dtype: int64\n"
     ]
    }
   ],
   "source": [
    "print(\"- Value counts for sample of data:\\n\")\n",
    "print(data_sample.user_id.value_counts())\n",
    "print(\"\\n---------------------------------\\n\")\n",
    "print(\"- Value counts for original data:\\n\")\n",
    "print(df.user_id.value_counts())"
   ]
  }
 ],
 "metadata": {
  "colab": {
   "provenance": []
  },
  "kernelspec": {
   "display_name": "Python 313 (nomad-venv)",
   "language": "python",
   "name": "nomad-venv"
  },
  "language_info": {
   "codemirror_mode": {
    "name": "ipython",
    "version": 3
   },
   "file_extension": ".py",
   "mimetype": "text/x-python",
   "name": "python",
   "nbconvert_exporter": "python",
   "pygments_lexer": "ipython3",
   "version": "3.13.6"
  },
  "nbdime-conflicts": {
   "local_diff": [
    {
     "diff": [
      {
       "diff": [
        {
         "key": 0,
         "op": "addrange",
         "valuelist": [
          "conda_py_310_env"
         ]
        },
        {
         "key": 0,
         "length": 1,
         "op": "removerange"
        }
       ],
       "key": "display_name",
       "op": "patch"
      },
      {
       "diff": [
        {
         "key": 0,
         "op": "addrange",
         "valuelist": [
          "conda_py_310_env"
         ]
        },
        {
         "key": 0,
         "length": 1,
         "op": "removerange"
        }
       ],
       "key": "name",
       "op": "patch"
      }
     ],
     "key": "kernelspec",
     "op": "patch"
    },
    {
     "diff": [
      {
       "diff": [
        {
         "diff": [
          {
           "key": 5,
           "op": "addrange",
           "valuelist": "6"
          },
          {
           "key": 5,
           "length": 2,
           "op": "removerange"
          }
         ],
         "key": 0,
         "op": "patch"
        }
       ],
       "key": "version",
       "op": "patch"
      }
     ],
     "key": "language_info",
     "op": "patch"
    }
   ],
   "remote_diff": [
    {
     "diff": [
      {
       "diff": [
        {
         "key": 0,
         "op": "addrange",
         "valuelist": [
          "Python 3 (ipykernel)"
         ]
        },
        {
         "key": 0,
         "length": 1,
         "op": "removerange"
        }
       ],
       "key": "display_name",
       "op": "patch"
      },
      {
       "diff": [
        {
         "key": 0,
         "op": "addrange",
         "valuelist": [
          "python3"
         ]
        },
        {
         "key": 0,
         "length": 1,
         "op": "removerange"
        }
       ],
       "key": "name",
       "op": "patch"
      }
     ],
     "key": "kernelspec",
     "op": "patch"
    },
    {
     "diff": [
      {
       "diff": [
        {
         "key": 0,
         "length": 1,
         "op": "removerange"
        }
       ],
       "key": "version",
       "op": "patch"
      }
     ],
     "key": "language_info",
     "op": "patch"
    }
   ]
  }
 },
 "nbformat": 4,
 "nbformat_minor": 5
}

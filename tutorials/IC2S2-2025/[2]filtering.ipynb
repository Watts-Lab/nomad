{
 "cells": [
  {
   "cell_type": "markdown",
   "metadata": {},
   "source": [
    "# Tutorial 2: Filtering and Pre-Processing\n",
    "\n",
    "This notebook shows how to pre-process and filter trajectory dataframes using `nomad`. The `nomad` library currently provides functions for coordinate-system projection, and spatial, temporal, and quantity filtering."
   ]
  },
  {
   "cell_type": "code",
   "execution_count": 1,
   "metadata": {},
   "outputs": [],
   "source": [
    "import pandas as pd\n",
    "import numpy as np\n",
    "import matplotlib.pyplot as plt\n",
    "from shapely.geometry import Polygon\n",
    "from datetime import datetime\n",
    "import matplotlib.patches as patches\n",
    "from pyproj import Transformer\n",
    "\n",
    "import nomad.io.base as loader\n",
    "import nomad.filters as filters\n",
    "from nomad.filters import to_projection, filter_users\n",
    "import nomad.city_gen as cg"
   ]
  },
  {
   "cell_type": "markdown",
   "metadata": {},
   "source": [
    "### Load Data\n",
    "\n",
    "For the following examples, we load test data from `nomad`."
   ]
  },
  {
   "cell_type": "code",
   "execution_count": 2,
   "metadata": {},
   "outputs": [
    {
     "data": {
      "text/html": [
       "<div>\n",
       "<style scoped>\n",
       "    .dataframe tbody tr th:only-of-type {\n",
       "        vertical-align: middle;\n",
       "    }\n",
       "\n",
       "    .dataframe tbody tr th {\n",
       "        vertical-align: top;\n",
       "    }\n",
       "\n",
       "    .dataframe thead th {\n",
       "        text-align: right;\n",
       "    }\n",
       "</style>\n",
       "<table border=\"1\" class=\"dataframe\">\n",
       "  <thead>\n",
       "    <tr style=\"text-align: right;\">\n",
       "      <th></th>\n",
       "      <th>uid</th>\n",
       "      <th>timestamp</th>\n",
       "      <th>tz_offset</th>\n",
       "      <th>longitude</th>\n",
       "      <th>latitude</th>\n",
       "    </tr>\n",
       "  </thead>\n",
       "  <tbody>\n",
       "    <tr>\n",
       "      <th>0</th>\n",
       "      <td>wizardly_joliot</td>\n",
       "      <td>1704120060</td>\n",
       "      <td>-18000</td>\n",
       "      <td>38.321669</td>\n",
       "      <td>-36.667588</td>\n",
       "    </tr>\n",
       "    <tr>\n",
       "      <th>1</th>\n",
       "      <td>wizardly_joliot</td>\n",
       "      <td>1704122760</td>\n",
       "      <td>-18000</td>\n",
       "      <td>38.321849</td>\n",
       "      <td>-36.667467</td>\n",
       "    </tr>\n",
       "    <tr>\n",
       "      <th>2</th>\n",
       "      <td>wizardly_joliot</td>\n",
       "      <td>1704124380</td>\n",
       "      <td>-18000</td>\n",
       "      <td>38.321752</td>\n",
       "      <td>-36.667464</td>\n",
       "    </tr>\n",
       "    <tr>\n",
       "      <th>3</th>\n",
       "      <td>wizardly_joliot</td>\n",
       "      <td>1704137280</td>\n",
       "      <td>-18000</td>\n",
       "      <td>38.321629</td>\n",
       "      <td>-36.667374</td>\n",
       "    </tr>\n",
       "    <tr>\n",
       "      <th>4</th>\n",
       "      <td>wizardly_joliot</td>\n",
       "      <td>1704138780</td>\n",
       "      <td>-18000</td>\n",
       "      <td>38.321636</td>\n",
       "      <td>-36.667238</td>\n",
       "    </tr>\n",
       "    <tr>\n",
       "      <th>5</th>\n",
       "      <td>wizardly_joliot</td>\n",
       "      <td>1704139740</td>\n",
       "      <td>-18000</td>\n",
       "      <td>38.321654</td>\n",
       "      <td>-36.667281</td>\n",
       "    </tr>\n",
       "    <tr>\n",
       "      <th>6</th>\n",
       "      <td>wizardly_joliot</td>\n",
       "      <td>1704140340</td>\n",
       "      <td>-18000</td>\n",
       "      <td>38.321641</td>\n",
       "      <td>-36.667338</td>\n",
       "    </tr>\n",
       "    <tr>\n",
       "      <th>7</th>\n",
       "      <td>wizardly_joliot</td>\n",
       "      <td>1704143280</td>\n",
       "      <td>-18000</td>\n",
       "      <td>38.321589</td>\n",
       "      <td>-36.667410</td>\n",
       "    </tr>\n",
       "    <tr>\n",
       "      <th>8</th>\n",
       "      <td>wizardly_joliot</td>\n",
       "      <td>1704143400</td>\n",
       "      <td>-18000</td>\n",
       "      <td>38.321687</td>\n",
       "      <td>-36.667524</td>\n",
       "    </tr>\n",
       "    <tr>\n",
       "      <th>9</th>\n",
       "      <td>wizardly_joliot</td>\n",
       "      <td>1704143580</td>\n",
       "      <td>-18000</td>\n",
       "      <td>38.321703</td>\n",
       "      <td>-36.667460</td>\n",
       "    </tr>\n",
       "  </tbody>\n",
       "</table>\n",
       "</div>"
      ],
      "text/plain": [
       "               uid   timestamp  tz_offset  longitude   latitude\n",
       "0  wizardly_joliot  1704120060     -18000  38.321669 -36.667588\n",
       "1  wizardly_joliot  1704122760     -18000  38.321849 -36.667467\n",
       "2  wizardly_joliot  1704124380     -18000  38.321752 -36.667464\n",
       "3  wizardly_joliot  1704137280     -18000  38.321629 -36.667374\n",
       "4  wizardly_joliot  1704138780     -18000  38.321636 -36.667238\n",
       "5  wizardly_joliot  1704139740     -18000  38.321654 -36.667281\n",
       "6  wizardly_joliot  1704140340     -18000  38.321641 -36.667338\n",
       "7  wizardly_joliot  1704143280     -18000  38.321589 -36.667410\n",
       "8  wizardly_joliot  1704143400     -18000  38.321687 -36.667524\n",
       "9  wizardly_joliot  1704143580     -18000  38.321703 -36.667460"
      ]
     },
     "execution_count": 2,
     "metadata": {},
     "output_type": "execute_result"
    }
   ],
   "source": [
    "raw_traj = loader.from_file('../nomad/data/gc_sample.csv', format='csv')\n",
    "raw_traj.head(10)"
   ]
  },
  {
   "cell_type": "markdown",
   "metadata": {},
   "source": [
    "### Project between coordinate systems\n",
    "\n",
    "Many geospatial datasets come in spherical coordiantes latitude/longitude (EPSG:4326). However, spatial analyses---like joins of points in polygons, computing buffers, or clustering pings---might benefit from computing euclidean distances. Thus projected planar coordinates (like EPSG:3857) are commonly used. Nomad's `to_projection` method creates new columns `x` and `y` with projected coordinates in any coordinate reference system (CRS) recognized by PyProj. \n"
   ]
  },
  {
   "cell_type": "code",
   "execution_count": 3,
   "metadata": {},
   "outputs": [],
   "source": [
    "# Project to EPSG:3857 (Web Mercator)\n",
    "projected_x, projected_y = to_projection(traj=raw_traj,\n",
    "                                         input_crs=\"EPSG:4326\",\n",
    "                                         output_crs=\"EPSG:3857\",\n",
    "                                         longitude=\"longitude\",\n",
    "                                         latitude=\"latitude\")\n",
    "\n",
    "traj = raw_traj.copy()\n",
    "traj['x'] = projected_x\n",
    "traj['y'] = projected_y"
   ]
  },
  {
   "cell_type": "markdown",
   "metadata": {},
   "source": [
    "The following code visualizes the trajectory. We transform the coordinates in the sample data back to the Garden City coordinates (in a 22x22 box) so that we can visualize the city buildings alongside the blocks. The red box depicts the area we will filter to."
   ]
  },
  {
   "cell_type": "code",
   "execution_count": 4,
   "metadata": {},
   "outputs": [
    {
     "data": {
      "image/png": "[encoded data removed]",
      "text/plain": [
       "<Figure size 600x600 with 1 Axes>"
      ]
     },
     "metadata": {},
     "output_type": "display_data"
    }
   ],
   "source": [
    "plot_df = traj[traj['uid'] == \"agitated_chebyshev\"].copy()\n",
    "transformer = Transformer.from_crs(\"EPSG:4326\", \"EPSG:3857\", always_xy=True)\n",
    "plot_df['x'], plot_df['y'] = transformer.transform(plot_df['longitude'].values, plot_df['latitude'].values)\n",
    "plot_df['x'] = (plot_df['x'] - 4265699)/15\n",
    "plot_df['y'] = (plot_df['y'] + 4392976)/15\n",
    "\n",
    "fig, ax = plt.subplots(figsize=(6, 6))\n",
    "plt.box(on=False)\n",
    "\n",
    "# Plotting Pings\n",
    "ax.scatter(x=plot_df['x'], \n",
    "           y=plot_df['y'],\n",
    "           s=6,\n",
    "           color='black',\n",
    "           alpha=1,\n",
    "           zorder=2)\n",
    "\n",
    "# Plotting Garden City Map\n",
    "city = cg.load('garden-city.pkl')\n",
    "city.plot_city(ax, doors=True, address=False)\n",
    "\n",
    "polygon_coords = [\n",
    "    (12.5, 12.5), \n",
    "    (12.5, 6.5), \n",
    "    (18.5, 6.5), \n",
    "    (18.5, 12.5)\n",
    "]\n",
    "polygon = Polygon(polygon_coords)\n",
    "\n",
    "polygon_patch = patches.Polygon(polygon.exterior.coords, closed=True, edgecolor='red', facecolor='none', linewidth=2, label=\"Polygon\")\n",
    "plt.gca().add_patch(polygon_patch)\n",
    "\n",
    "ax.set_yticklabels([])\n",
    "ax.set_xticklabels([])\n",
    "ax.set_xticks([])\n",
    "ax.set_yticks([])\n",
    "\n",
    "plt.tight_layout()\n",
    "plt.show()"
   ]
  },
  {
   "cell_type": "markdown",
   "metadata": {},
   "source": [
    "### Filter to a specified geometry\n",
    "\n",
    "We often need to filter down the dataset to the most relevant records. This involves filtering along three key dimensions:\n",
    "- Spatial Filtering: Keep only users with pings that fall within a specific geographic region (e.g., Philadelphia). Use the `polygon` argument.\n",
    "- Temporal Filtering: Restrict data to a time window of interest (e.g., January). Use the `start_time` and `end_time` arguments. If \n",
    "- Quantity-Based Filtering: Keep only users with sufficient activity as measured by a minimum number of pings. Use the `min_active_days` and `min_pings_per_day` arguments.\n",
    "\n",
    "If the aforementioned arguments are not specified, the default arguments ensure that the respective filtering is not performed. E.g., `polygon` defaults to `None`, and so no spatial filtering is performed.\n",
    "\n",
    "These filtering functions help clean and prepare your dataset for downstream analysis by focusing only on users who are present, active, and engaged in the geographic area and timeframe you care about."
   ]
  },
  {
   "cell_type": "code",
   "execution_count": 5,
   "metadata": {},
   "outputs": [
    {
     "name": "stdout",
     "output_type": "stream",
     "text": [
      "Number of pings before filtering: 26977\n",
      "Number of unique users before filtering: 100\n",
      "Number of pings after filtering: 15912\n",
      "Number of unique users after filtering: 35\n"
     ]
    }
   ],
   "source": [
    "polygon_coords = [\n",
    "    (4265886.5, -4392788.5), \n",
    "    (4265886.5, -4392878.5), \n",
    "    (4265976.5, -4392878.5), \n",
    "    (4265976.5, -4392788.5)\n",
    "]\n",
    "polygon = Polygon(polygon_coords)\n",
    "\n",
    "n0 = len(traj)\n",
    "uq0 = traj['uid'].unique()\n",
    "\n",
    "filtered_traj = filter_users(traj=traj, \n",
    "                             start_time=\"2024-01-01 00:00:00\",\n",
    "                             end_time=\"2024-01-31 23:59:00\",\n",
    "                             polygon=polygon,\n",
    "                             min_active_days=2,\n",
    "                             min_pings_per_day=10,\n",
    "                             user_id='uid',\n",
    "                             x='x',\n",
    "                             y='y')\n",
    "\n",
    "n1 = len(filtered_traj)\n",
    "uq1 = filtered_traj['uid'].unique()\n",
    "print(f\"Number of pings before filtering: {n0}\")\n",
    "print(f\"Number of unique users before filtering: {len(uq0)}\")\n",
    "print(f\"Number of pings after filtering: {n1}\")\n",
    "print(f\"Number of unique users after filtering: {len(uq1)}\")\n"
   ]
  }
 ],
 "metadata": {
  "kernelspec": {
   "display_name": "Python 3 (ipykernel)",
   "language": "python",
   "name": "python3"
  },
  "language_info": {
   "codemirror_mode": {
    "name": "ipython",
    "version": 3
   },
   "file_extension": ".py",
   "mimetype": "text/x-python",
   "name": "python",
   "nbconvert_exporter": "python",
   "pygments_lexer": "ipython3",
   "version": "3.12.3"
  }
 },
 "nbformat": 4,
 "nbformat_minor": 4
}

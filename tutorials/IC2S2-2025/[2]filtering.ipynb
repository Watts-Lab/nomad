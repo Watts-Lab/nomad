{
 "cells": [
  {
   "cell_type": "markdown",
   "metadata": {},
   "source": [
    "# **Tutorial 2: Filtering and Common Transformations**\n",
    "\n",
    "In this part, we will learn how to implement basic 'cleaning' and spatio-temporal transformations of the data which are common in an analysis pipeline. We will also cover a few \"gotcha\"s to keep an eye out for. Furthermore, we show some good practices for 'cleaning' the data from unreliable users and/or pings. \n",
    "\n",
    "## Introduction\n",
    "\n",
    "Researchers often filter geospatial datasets to focus on users or trajectories that meet specific criteria—such as sufficient activity, coverage within a particular timeframe, or presence within defined geographic areas. For example, a study might analyze “users with at least 14 days of activity in January who visited Central Park.” Beyond identifying qualifying users, researchers often need to retrieve these users’ complete trajectories across a wider region to study questions like “Where else do Central Park visitors travel from or to around the world?”\n",
    "\n",
    "Obviously, this reduces the scope of the analysis and makes the sample small and oftentimes manageable without the need for a cluster. However, to get that sample it might be necessary to implement some filtering at read time. \n",
    "\n",
    "Building such filters typically involves handling polygon operations, coordinate system transformations, and reconciling inconsistent formats from various data sources.\n",
    "\n",
    "Below we show a two step process:\n",
    "\n",
    "1.\tSelect users that meet specified geographical and temporal conditions.  \n",
    "2.\tExtract the complete trajectories from those users"
   ]
  },
  {
   "cell_type": "markdown",
   "metadata": {},
   "source": [
    "## Load Data\n",
    "\n",
    "For this example, we will use a third dataset different than the one used in part 1, which has more users and, occasionally, denser signals. "
   ]
  },
  {
   "cell_type": "code",
   "execution_count": null,
   "metadata": {},
   "outputs": [],
   "source": [
    "import nomad.io.base as loader\n",
    "\n",
    "filepath_root = 'gc_data_long/'\n",
    "tc = {\n",
    "    \"user_id\": \"gc_identifier\",\n",
    "    \"timestamp\": \"unix_ts\",\n",
    "    \"x\": \"dev_x\",\n",
    "    \"y\": \"dev_y\",\n",
    "    \"ha\":\"ha\",\n",
    "    \"date\":\"date\"}\n",
    "\n",
    "traj = loader.from_file(filepath_root, format='parquet', traj_cols=tc)\n",
    "traj.head()"
   ]
  },
  {
   "cell_type": "markdown",
   "metadata": {},
   "source": [
    "## Ping Frequency"
   ]
  },
  {
   "cell_type": "code",
   "execution_count": null,
   "metadata": {},
   "outputs": [],
   "source": [
    "# We can investigate the frequency of these GPS signals, which can be very sparse\n",
    "total_pings = traj.groupby(tc['user_id']).size()\n",
    "total_hours = (traj[tc['timestamp']].max() - traj[tc['timestamp']].min())//3600"
   ]
  },
  {
   "cell_type": "code",
   "execution_count": null,
   "metadata": {},
   "outputs": [],
   "source": [
    "import matplotlib.pyplot as plt\n",
    "import matplotlib.dates as mdates\n",
    "import pandas as pd\n",
    "pd.set_option(\"mode.copy_on_write\", True)\n",
    "pd.plotting.register_matplotlib_converters()\n",
    "\n",
    "fig, (ax1, ax2) = plt.subplots(figsize=(10,3), ncols=2, sharey=True)\n",
    "\n",
    "total_pings.hist(ax=ax1, bins= [500*b for b in range(17)])\n",
    "ax1.set_xlabel('total pings')\n",
    "\n",
    "# x-axis restricted to bins\n",
    "(total_pings/total_hours).hist(ax=ax2, bins= [0.25*b for b in range(40)])\n",
    "ax2.set_xlabel('ping frequency (records/hour)')\n",
    "\n",
    "plt.show()"
   ]
  },
  {
   "cell_type": "markdown",
   "metadata": {},
   "source": [
    "We note **heterogeneity in the ping frequencies** and the volume of data. However, we musn't assume that *more records* = *more complete signals*. The data is often collected in short bursts, so, there might be users with fewer pings but **more evenly distributed** over the study period (we call this **\"higher coverage\"**). Furthermore, many pings might have such **high levels of GPS error** (horizontal accuracy), that they shouldn't even be considered in the analysis. Let's filter out innacurate pings and *downsample to a minute resolution*"
   ]
  },
  {
   "cell_type": "code",
   "execution_count": null,
   "metadata": {},
   "outputs": [],
   "source": [
    "from nomad import filters\n",
    "\n",
    "# Remove horizontal accuracy over 50m\n",
    "traj_ds = traj.loc[traj[tc['ha']] < 50]\n",
    "print(f\"{((traj[tc['ha']]>50).mean()*100).round(3)}% pings have 'ha' > 50m\")\n",
    "# Downsampling pings to once per minute\n",
    "num_mins=5 # Try 5\n",
    "traj_ds = filters.downsample(traj_ds, periods=num_mins, verbose=True, traj_cols=tc)"
   ]
  },
  {
   "cell_type": "code",
   "execution_count": null,
   "metadata": {},
   "outputs": [],
   "source": [
    "total_pings_filtered = traj_ds.groupby(tc['user_id']).size()\n",
    "\n",
    "fig, (ax1, ax2) = plt.subplots(figsize=(10,3), ncols=2, sharey=True)\n",
    "\n",
    "total_pings.hist(ax=ax1, bins= [500*b for b in range(17)], alpha=0.5, label='raw')\n",
    "total_pings_filtered.hist(ax=ax1, bins= [500*b for b in range(17)], color='darkorange', alpha=0.5, label='filtered')\n",
    "ax1.legend()\n",
    "ax1.set_xlabel('total pings')\n",
    "\n",
    "(total_pings/total_hours).hist(ax=ax2, bins= [0.25*b for b in range(30)], alpha=0.5, label='raw')\n",
    "(total_pings_filtered/total_hours).hist(ax=ax2, bins= [0.25*b for b in range(30)], color='darkorange', alpha=0.5, label='filtered')\n",
    "ax2.set_xlabel('ping frequency (records/hour)')\n",
    "ax2.legend()\n",
    "\n",
    "plt.show()"
   ]
  },
  {
   "cell_type": "markdown",
   "metadata": {},
   "source": [
    "`nomad`'s `filters.downsample` method automatically takes care of grouping by user if the name of a user id column is passed (in this case via `traj_cols`), but it would also work for a single trajectory or on a `pandas.datetime64` datetime column if available."
   ]
  },
  {
   "cell_type": "markdown",
   "metadata": {},
   "source": [
    "## Spatial filters and Projections\n",
    "\n",
    "Suppose we are interested in an analysis of users who visited a park during multiple days, e.g. **3 days**, of January 2024. In particular, we might want to know which other locations these users tend to visit to try and get some insights. Naturally, we do this through a spatial join of each user's coordinates with the polygon that represents the park. Here are some possible immediate challenges that could make an analysis `ad-hoc`\n",
    "\n",
    "- The polygon could be in **spherical coordinates** (also called **geographic coordinates**) and the data in **projected coordinates**. For example, in `(longitude, latitude)` coordinates with `crs='EPSG:4326'`, while the data has ``` (x, y)``` coordinates from the Web Mercator crs (`'EPSG:3857'`).\n",
    "\n",
    "- The polygon could be represented as a Well-Known-Text string (`wkt`), `shapely` polygon (or multipolygon), or a `Geopandas.GeoSeries`\n",
    "\n",
    "We can get a `shapely.Polygon` representing the park querying from the file `garden_city.geojson` but, for the sake of completeness, we will assume that the polygon is given by a `wkt`. `geopandas` and `shapely` already wrap easy to use methods for spatial joins."
   ]
  },
  {
   "cell_type": "markdown",
   "metadata": {},
   "source": [
    "Add an image of web mercator crs vs geographical coordinates crs"
   ]
  },
  {
   "cell_type": "markdown",
   "metadata": {},
   "source": [
    "### Load the geometry data"
   ]
  },
  {
   "cell_type": "code",
   "execution_count": null,
   "metadata": {},
   "outputs": [],
   "source": [
    "import geopandas as gpd\n",
    "import pyproj # for coordinate reprojection\n",
    "from shapely.geometry import Polygon, box\n",
    "\n",
    "city = gpd.read_file(\"garden_city.geojson\").set_index('building_id')\n",
    "outer_box = box(*city.total_bounds).buffer(0.00015, join_style='mitre') # \"background\" box\n",
    "# poly = city.geometry.loc['p-x13-y11'] #uncomment for comparing\n",
    "\n",
    "poly_wkt = 'POLYGON ((-38.31767437672955 36.66929877196072, -38.31767437672955 36.66973109167419,'\\\n",
    "                     '-38.31821336590002 36.66973109167419, -38.31821336590002 36.66929877196072,'\\\n",
    "                     '-38.31767437672955 36.66929877196072))'\n",
    "poly = gpd.GeoSeries.from_wkt([poly_wkt])[0]"
   ]
  },
  {
   "cell_type": "markdown",
   "metadata": {},
   "source": [
    "### Check if a user has pings inside the park \n",
    "\n",
    "We start by analyzing the data from a single user. Checking which pings fall inside a given polygon is trivial with `geopandas.GeoDataFrame.within`. However, the polygon and the passed pings must have the same CRS. Reprojection is also quite simple if we cast our dataset as a `GeoDataFrame`. "
   ]
  },
  {
   "cell_type": "code",
   "execution_count": null,
   "metadata": {},
   "outputs": [],
   "source": [
    "user_df = traj.loc[(traj[tc['user_id']] == 'heuristic_lamport')] # try 'gifted_galileo'\n",
    "# Cast to GeoDataFrame and reproject (easy)\n",
    "user_df = gpd.GeoDataFrame(user_df,\n",
    "                           geometry=gpd.points_from_xy(user_df['dev_x'], user_df['dev_y']),\n",
    "                           crs='EPSG:3857').to_crs('EPSG:4326')\n",
    "\n",
    "user_df['in_park'] = user_df.within(poly)\n",
    "user_df = user_df[user_df.within(outer_box)] # For plotting purposes"
   ]
  },
  {
   "cell_type": "code",
   "execution_count": null,
   "metadata": {},
   "outputs": [],
   "source": [
    "import shapely.plotting as shp_plt\n",
    "# for pretty plot\n",
    "fig, ax = plt.subplots(figsize=(6, 6))\n",
    "ax.set_axis_off()\n",
    "\n",
    "shp_plt.plot_polygon(outer_box, ax=ax, add_points=False, color='#0e0e0e')\n",
    "city.plot(ax=ax, edgecolor='white', color='#2c353c')\n",
    "shp_plt.plot_polygon(poly, ax=ax, add_points=False, color='#0fad5a', alpha=0.5)\n",
    "user_df.plot(ax=ax, column='in_park', marker='o', markersize=12, alpha=(0.4+user_df.in_park*0.6), cmap='Reds') # Try cmap='inferno'\n",
    "ax.set_title(\"Pings inside 'p-x13-y11' (single user)\")\n",
    "\n",
    "plt.show()"
   ]
  },
  {
   "cell_type": "markdown",
   "metadata": {},
   "source": [
    "### Qualification constraints: minimum pings and minimum active days"
   ]
  },
  {
   "cell_type": "markdown",
   "metadata": {},
   "source": [
    "Trajectories are **noisy**, so some of the pings falling within the park might actually come from commuting or visiting buildings in the vicinity. To get *bona-fide* park visitors in the final analysis we need to address this possibiility. Because of sparsity and burstiness, a **simple ping count could be misleading** and not indicative of actual **dwelling** or **stopping** at the location. Let's remove some of the spurious visits by downsampling the pings in the park to **every 20 minutes**. We formulate the new definition for our sample:\n",
    "\n",
    "**Park Visitors** = users with at least **2 pings** in the park, separated by at least **20 minutes**, in each of, **at least 5 days**. \n",
    "\n",
    "\n",
    "<small>\n",
    "*Properly detecting stops requires some form of clustering in space and time and is explained in the [stop-detection notebook](./[3]stop-detection.ipynb).\n",
    "</small>"
   ]
  },
  {
   "cell_type": "code",
   "execution_count": null,
   "metadata": {},
   "outputs": [],
   "source": [
    "park_pings = user_df.query('in_park == True').groupby('date').size()\n",
    "park_pings_filtered = filters.downsample(user_df.query('in_park == True'), periods=20, freq='min', **tc).groupby('date').size()\n",
    "\n",
    "fig, (ax1, ax2) = plt.subplots(figsize=(8,3), nrows=2, sharey=True)\n",
    "\n",
    "ax1.set_title(\"pings in park\")\n",
    "ax1.bar(x=park_pings.index, height=park_pings)\n",
    "\n",
    "ax2.set_title(\"pings in park (downsampled 20m)\")\n",
    "ax2.bar(x=park_pings_filtered.index, height=park_pings_filtered, color='darkgreen')\n",
    "\n",
    "[ax.axhline(y=2, linewidth=1, color='r', linestyle='--') for ax in (ax1, ax2)]\n",
    "\n",
    "plt.tight_layout()\n",
    "plt.show()"
   ]
  },
  {
   "cell_type": "markdown",
   "metadata": {},
   "source": [
    "Does our sample user make the cut?"
   ]
  },
  {
   "cell_type": "markdown",
   "metadata": {},
   "source": [
    "### Qualification constraints: signal completeness (q)\n",
    "\n",
    "If the data for a user is highly incomplete, then results might not be reliable due to *incompleteness bias*. Imagine trying to analyze whether visitors to the park tend to come back the next day, but one of your 'visitors' only has data every 5 days. We quantify the *completeness* of a user with a statistic, $q$, corresponding to the percentage of 'time buckets' with any pings given by some resolution (e.g. hours or days). Let's compute it for our sample.\n",
    "\n",
    "Note that:\n",
    "- $q$ is the average of the hourly \"coverage mask\" of a user.\n",
    "- On the other hand, from the *coverage matrix* of all users, we could get the users active each hour (HAU), day (DAU) or monthly (MAU)"
   ]
  },
  {
   "cell_type": "code",
   "execution_count": null,
   "metadata": {},
   "outputs": [],
   "source": [
    "Q = filters.coverage_matrix(traj, periods=1, freq='h', traj_cols=tc, start='2024-01-01', end='2024-01-22', str_from_time=True)\n",
    "completeness_hourly = Q.mean(1)\n",
    "\n",
    "fig, ax = plt.subplots(figsize=(24, 4))\n",
    "\n",
    "Q = Q.iloc[completeness_hourly.argsort(-1)]\n",
    "Q.columns = pd.to_datetime(Q.columns)\n",
    "\n",
    "ax.pcolormesh(Q.columns, range(len(Q)), Q.values,               # plot matrix\n",
    "               cmap='Blues', shading='auto')\n",
    "\n",
    "ax.set_yticks([])\n",
    "ax.set_ylabel('User')\n",
    "ax.set_title('Activity each hour (coverage matrix)')\n",
    "\n",
    "plt.show()"
   ]
  },
  {
   "cell_type": "markdown",
   "metadata": {},
   "source": [
    "Alternatively, we can see this matrix aggregated to a higher resolution with a convenient wrapper `filters.completeness`"
   ]
  },
  {
   "cell_type": "code",
   "execution_count": null,
   "metadata": {},
   "outputs": [],
   "source": [
    "Q = filters.completeness(traj, periods=1, freq='h', agg_freq='d', traj_cols=tc)\n",
    "\n",
    "Q = Q.iloc[completeness_hourly.argsort(-1)]\n",
    "Q.columns = pd.to_datetime(Q.columns)\n",
    "\n",
    "fig, ax = plt.subplots(figsize=(8, 4))\n",
    "pcm = ax.pcolormesh(Q.columns, range(len(Q)), Q.values,               # plot matrix\n",
    "               cmap='Blues', shading='auto')\n",
    "ax.set_yticks([])\n",
    "ax.set_ylabel('User')\n",
    "ax.set_title('hourly coverage (aggregated daily)')\n",
    "\n",
    "cbar = fig.colorbar(pcm, ax=ax, orientation='vertical', label='q')\n",
    "\n",
    "plt.show()"
   ]
  },
  {
   "cell_type": "code",
   "execution_count": null,
   "metadata": {},
   "outputs": [],
   "source": [
    "# Let's use one of nomad's wrappers to compute this completeness at different resolutions\n",
    "q_15m = filters.completeness(traj, periods=15, freq='min', traj_cols=tc)\n",
    "q_hourly = filters.completeness(traj, periods=1, freq='h', traj_cols=tc)\n",
    "q_daily = filters.completeness(traj, periods=1, freq='d', traj_cols=tc)\n",
    "\n",
    "# we visualize them as side by side histograms\n",
    "fig, (ax1, ax2, ax3) = plt.subplots(1, 3, sharey=True, figsize=(10, 2))\n",
    "\n",
    "ax1.hist(q_15m, bins=20)\n",
    "ax1.set_title('Completeness (15 min)')\n",
    "ax1.set_ylabel('Number of users')\n",
    "\n",
    "\n",
    "ax2.hist(q_hourly, bins=20)\n",
    "ax2.set_title('Completeness (Hourly)')\n",
    "\n",
    "ax3.hist(q_daily, bins=20)\n",
    "ax3.set_title('Completeness (Daily)')\n",
    "\n",
    "[ax.grid() for ax in (ax1, ax2, ax3)]\n",
    "plt.show()"
   ]
  },
  {
   "cell_type": "markdown",
   "metadata": {},
   "source": [
    "It seems like users have excellent daily completeness, but several hour gaps. Let's keep only users that have `q_hourly>0.4`"
   ]
  },
  {
   "cell_type": "markdown",
   "metadata": {},
   "source": [
    "## Putting it all together\n",
    "\n",
    "Let's implement, from scratch, the filtering and cleaning that will define our sample of users in our analysis of parks in a few steps that chain `nomad.filters` methods with groupbys"
   ]
  },
  {
   "cell_type": "code",
   "execution_count": null,
   "metadata": {
    "lines_to_next_cell": 2
   },
   "outputs": [],
   "source": [
    "# ingest\n",
    "tc = {\"user_id\": \"gc_identifier\", \"timestamp\": \"unix_ts\", \"x\": \"dev_x\", \"y\": \"dev_y\", \"ha\":\"ha\", \"date\":\"date\"}\n",
    "traj = loader.from_file('gc_data_long/', format='parquet', traj_cols=tc)\n",
    "\n",
    "# let's rename the columns to get default names\n",
    "tc_reverse = {v:k for k,v in tc.items()}\n",
    "traj.rename(columns=tc_reverse, inplace=True)"
   ]
  },
  {
   "cell_type": "code",
   "execution_count": null,
   "metadata": {},
   "outputs": [],
   "source": [
    "poly_wkt = 'POLYGON ((-38.31767437672955 36.66929877196072, -38.31767437672955 36.66973109167419,'\\\n",
    "                     '-38.31821336590002 36.66973109167419, -38.31821336590002 36.66929877196072,'\\\n",
    "                     '-38.31767437672955 36.66929877196072))'\n",
    "\n",
    "# Visitors to the park\n",
    "traj_clean = filters.downsample(traj.query('ha < 50'), periods=1, freq='min')\n",
    "\n",
    "# at least 2 pings 20 minutes apart each day of at least 5 days\n",
    "pings_in_poly = filters.within(traj_clean, within=poly_wkt, x='x', y='y', data_crs='EPSG:3857', poly_crs='EPSG:4326')\n",
    "\n",
    "days_w_2_pings = (\n",
    "    filters.downsample(pings_in_poly, periods=20, freq='min')\n",
    "    .groupby(['user_id', 'date']).size().reset_index(name='pings')  # <<< count pings per userxdate\n",
    "    .query('pings >= 2') # <<< filter\n",
    ")\n",
    "\n",
    "park_visitors = days_w_2_pings.groupby('user_id').size().loc[lambda s: s >= 5].index # <<< park visitors\n",
    "\n",
    "# completeness > 0.4\n",
    "user_sample = filters.completeness(traj_clean.query('user_id in @park_visitors'), periods=1, freq='h').loc[lambda s: s>0.4].index"
   ]
  },
  {
   "cell_type": "markdown",
   "metadata": {},
   "source": [
    "## Which locations do these users visit?\n",
    "\n",
    "Let's use some stop detection to find the locations with the most user-minutes. We will dive deeper into how stop detection works in the next module, for now we just call the `nomad.stop_detection.grid_based` method."
   ]
  },
  {
   "cell_type": "code",
   "execution_count": null,
   "metadata": {},
   "outputs": [],
   "source": [
    "%%time \n",
    "import nomad.visit_attribution as visits\n",
    "import nomad.stop_detection.grid_based as stop_detection\n",
    "\n",
    "data_sample = traj_clean.query('user_id in @user_sample')\n",
    "data_sample['location_id'] = visits.poi_map( data_sample, poi_table=city, data_crs='EPSG:3857', x='x', y='y')\n",
    "\n",
    "stops = stop_detection.grid_based_per_user(data_sample, time_thresh=120, dur_min=5, x='x', y='y', location_id='location_id')"
   ]
  },
  {
   "cell_type": "code",
   "execution_count": null,
   "metadata": {},
   "outputs": [],
   "source": [
    "city['total_mins'] = stops.groupby('location_id').duration.sum()\n",
    "top_pois = city.total_mins.nlargest(12).iloc[1:].index  #  exclude the park"
   ]
  },
  {
   "cell_type": "code",
   "execution_count": null,
   "metadata": {},
   "outputs": [],
   "source": [
    "fig, ax = plt.subplots(figsize=(6, 6))\n",
    "ax.set_axis_off()\n",
    "\n",
    "shp_plt.plot_polygon(outer_box, ax=ax, add_points=False, color='#0e0e0e')\n",
    "city.plot(ax=ax, edgecolor='white', color='#2c353c')\n",
    "city.loc[top_pois].plot(ax=ax, edgecolor='black', column='total_mins', cmap='Reds',  legend=True, legend_kwds={'shrink': 0.75, 'label':'user x mins'})\n",
    "\n",
    "ax.set_title(\"Top POIs visited by park visitors in January 2024\")\n",
    "plt.show()"
   ]
  },
  {
   "cell_type": "markdown",
   "metadata": {},
   "source": [
    "## Applying filters on read\n",
    "\n",
    "If your dataset is too large. Loading it all in memory to then apply the filters can be intractable at worst, unnecessary at best. Nomad implements the filters used here as pyarrow and pyspark predicates that can be evaluated when reading each part of a partitioned dataset. "
   ]
  },
  {
   "cell_type": "code",
   "execution_count": null,
   "metadata": {},
   "outputs": [],
   "source": [
    "from datetime import datetime\n",
    "\n",
    "ic2s2 = datetime(2025, 7, 21)\n",
    "\n",
    "if datetime.today() < ic2s2:\n",
    "    print(\"coming soon before the tutorial!\")\n",
    "else:\n",
    "    quit() # and go home"
   ]
  }
 ],
 "metadata": {
  "jupytext": {
   "formats": "ipynb,py:percent"
  },
  "kernelspec": {
   "display_name": "Python 3.10 (daphme)",
   "language": "python",
   "name": "daphme"
  },
  "language_info": {
   "codemirror_mode": {
    "name": "ipython",
    "version": 3
   },
   "file_extension": ".py",
   "mimetype": "text/x-python",
   "name": "python",
   "nbconvert_exporter": "python",
   "pygments_lexer": "ipython3",
   "version": "3.10.0"
  }
 },
 "nbformat": 4,
 "nbformat_minor": 4
}

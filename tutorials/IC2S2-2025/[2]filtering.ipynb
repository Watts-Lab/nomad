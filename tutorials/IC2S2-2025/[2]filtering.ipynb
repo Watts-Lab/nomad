{
 "cells": [
  {
   "cell_type": "markdown",
   "metadata": {},
   "source": [
    "# **Tutorial 2: Filtering and Common Transformations**\n",
    "\n",
    "In this part, we will learn how to implement basic 'cleaning' and spatio-temporal transformations of the data which are common in an analysis pipeline. We will also cover a few \"gotcha\"s to keep an eye out for. Furthermore, we show some good practices for 'cleaning' the data from unreliable users and/or pings. \n",
    "\n",
    "## Introduction\n",
    "\n",
    "Researchers often filter geospatial datasets to focus on users or trajectories that meet specific criteria—such as sufficient activity, coverage within a particular timeframe, or presence within defined geographic areas. For example, a study might analyze “users with at least 14 days of activity in January who visited Central Park.” Beyond identifying qualifying users, researchers often need to retrieve these users’ complete trajectories across a wider region to study questions like “Where else do Central Park visitors travel from or to around the world?”\n",
    "\n",
    "Obviously, this reduces the scope of the analysis and makes the sample small and oftentimes manageable without the need for a cluster. However, to get that sample it might be necessary to implement some filtering at read time. \n",
    "\n",
    "Building such filters typically involves handling polygon operations, coordinate system transformations, and reconciling inconsistent formats from various data sources.\n",
    "\n",
    "Below we show a two step process:\n",
    "\n",
    "1.\tSelect users that meet specified geographical and temporal conditions.  \n",
    "2.\tExtract the complete trajectories from those users"
   ]
  },
  {
   "cell_type": "markdown",
   "metadata": {},
   "source": [
    "## Load Data\n",
    "\n",
    "For this example, we will use a third dataset different than the one used in part 1, which has more users and, occasionally, denser signals. "
   ]
  },
  {
   "cell_type": "code",
   "execution_count": 1,
   "metadata": {},
   "outputs": [
    {
     "data": {
      "text/html": [
       "<div>\n",
       "<style scoped>\n",
       "    .dataframe tbody tr th:only-of-type {\n",
       "        vertical-align: middle;\n",
       "    }\n",
       "\n",
       "    .dataframe tbody tr th {\n",
       "        vertical-align: top;\n",
       "    }\n",
       "\n",
       "    .dataframe thead th {\n",
       "        text-align: right;\n",
       "    }\n",
       "</style>\n",
       "<table border=\"1\" class=\"dataframe\">\n",
       "  <thead>\n",
       "    <tr style=\"text-align: right;\">\n",
       "      <th></th>\n",
       "      <th>gc_identifier</th>\n",
       "      <th>dev_x</th>\n",
       "      <th>dev_y</th>\n",
       "      <th>unix_ts</th>\n",
       "      <th>ha</th>\n",
       "      <th>date</th>\n",
       "    </tr>\n",
       "  </thead>\n",
       "  <tbody>\n",
       "    <tr>\n",
       "      <th>0</th>\n",
       "      <td>admiring_brattain</td>\n",
       "      <td>-4.265481e+06</td>\n",
       "      <td>4.393146e+06</td>\n",
       "      <td>1704106881</td>\n",
       "      <td>10.702426</td>\n",
       "      <td>2024-01-01</td>\n",
       "    </tr>\n",
       "    <tr>\n",
       "      <th>1</th>\n",
       "      <td>admiring_brattain</td>\n",
       "      <td>-4.265533e+06</td>\n",
       "      <td>4.393159e+06</td>\n",
       "      <td>1704107003</td>\n",
       "      <td>19.015804</td>\n",
       "      <td>2024-01-01</td>\n",
       "    </tr>\n",
       "    <tr>\n",
       "      <th>2</th>\n",
       "      <td>admiring_brattain</td>\n",
       "      <td>-4.265477e+06</td>\n",
       "      <td>4.393185e+06</td>\n",
       "      <td>1704107072</td>\n",
       "      <td>24.851835</td>\n",
       "      <td>2024-01-01</td>\n",
       "    </tr>\n",
       "    <tr>\n",
       "      <th>3</th>\n",
       "      <td>admiring_brattain</td>\n",
       "      <td>-4.265490e+06</td>\n",
       "      <td>4.393156e+06</td>\n",
       "      <td>1704107268</td>\n",
       "      <td>10.181171</td>\n",
       "      <td>2024-01-01</td>\n",
       "    </tr>\n",
       "    <tr>\n",
       "      <th>4</th>\n",
       "      <td>admiring_brattain</td>\n",
       "      <td>-4.265491e+06</td>\n",
       "      <td>4.393147e+06</td>\n",
       "      <td>1704107349</td>\n",
       "      <td>11.100491</td>\n",
       "      <td>2024-01-01</td>\n",
       "    </tr>\n",
       "  </tbody>\n",
       "</table>\n",
       "</div>"
      ],
      "text/plain": [
       "       gc_identifier         dev_x         dev_y     unix_ts         ha  \\\n",
       "0  admiring_brattain -4.265481e+06  4.393146e+06  1704106881  10.702426   \n",
       "1  admiring_brattain -4.265533e+06  4.393159e+06  1704107003  19.015804   \n",
       "2  admiring_brattain -4.265477e+06  4.393185e+06  1704107072  24.851835   \n",
       "3  admiring_brattain -4.265490e+06  4.393156e+06  1704107268  10.181171   \n",
       "4  admiring_brattain -4.265491e+06  4.393147e+06  1704107349  11.100491   \n",
       "\n",
       "         date  \n",
       "0  2024-01-01  \n",
       "1  2024-01-01  \n",
       "2  2024-01-01  \n",
       "3  2024-01-01  \n",
       "4  2024-01-01  "
      ]
     },
     "execution_count": 1,
     "metadata": {},
     "output_type": "execute_result"
    }
   ],
   "source": [
    "import nomad.io.base as loader\n",
    "\n",
    "filepath_root = 'gc_data_long/'\n",
    "tc = {\n",
    "    \"user_id\": \"gc_identifier\",\n",
    "    \"timestamp\": \"unix_ts\",\n",
    "    \"x\": \"dev_x\",\n",
    "    \"y\": \"dev_y\",\n",
    "    \"ha\":\"ha\"}\n",
    "\n",
    "traj = loader.from_file(filepath_root, format='parquet', traj_cols=tc)\n",
    "traj.head()"
   ]
  },
  {
   "cell_type": "markdown",
   "metadata": {},
   "source": [
    "## Ping Frequency"
   ]
  },
  {
   "cell_type": "code",
   "execution_count": 16,
   "metadata": {},
   "outputs": [
    {
     "data": {
      "image/png": "[encoded data removed]",
      "text/plain": [
       "<Figure size 1000x300 with 2 Axes>"
      ]
     },
     "metadata": {},
     "output_type": "display_data"
    }
   ],
   "source": [
    "# We can investigate the frequency of these GPS signals, which can be very sparse\n",
    "import matplotlib.pyplot as plt\n",
    "\n",
    "total_pings = traj.groupby(tc['user_id']).size()\n",
    "total_hours = (traj[tc['timestamp']].max() - traj[tc['timestamp']].min())//3600\n",
    "\n",
    "fig, (ax1, ax2) = plt.subplots(figsize=(10,3), ncols=2, sharey=True)\n",
    "\n",
    "total_pings.hist(ax=ax1, bins= [500*b for b in range(17)])\n",
    "ax1.set_xlabel('total pings')\n",
    "\n",
    "# x-axis restricted to bins\n",
    "(total_pings/total_hours).hist(ax=ax2, bins= [0.25*b for b in range(40)])\n",
    "ax2.set_xlabel('ping frequency (records/hour)')\n",
    "\n",
    "plt.show()"
   ]
  },
  {
   "cell_type": "markdown",
   "metadata": {},
   "source": [
    "We note **heterogeneity in the ping frequencies** and the volume of data. However, a common gotcha in this type of analysis is to assume that *more records* = *more complete signals*. Due to how the data is collected---often in short bursts---there are users with fewer pings but **more evenly distributed** over the study period. Furthermore, many pings might have such high levels of error, that they shouldn't even be considered in the analysis. Some minimal cleaning already changes the picture. "
   ]
  },
  {
   "cell_type": "code",
   "execution_count": 20,
   "metadata": {},
   "outputs": [
    {
     "name": "stdout",
     "output_type": "stream",
     "text": [
      "1.705% pings have 'ha' > 50m\n",
      "13.436% of records had (per user) 1-minute duplicates (or ha>50)\n"
     ]
    }
   ],
   "source": [
    "from nomad import filters\n",
    "\n",
    "# Remove horizontal accuracy over 50m\n",
    "traj_ds = traj.loc[traj[tc['ha']] < 50]\n",
    "print(f\"{((traj[tc['ha']]>50).mean()*100).round(3)}% pings have 'ha' > 50m\")\n",
    "# Downsampling pings to once per minute\n",
    "time_res_mins=1 # Try 5\n",
    "traj_ds = filters.downsample(traj_ds, minutes=time_res_mins, traj_cols=tc)\n",
    "\n",
    "print(f\"{100 - 100* len(traj_ds)/len(traj):.3f}% of records had (per user) {time_res_mins}-minute duplicates (or ha>50)\")"
   ]
  },
  {
   "cell_type": "code",
   "execution_count": 27,
   "metadata": {},
   "outputs": [
    {
     "data": {
      "image/png": "[encoded data removed]",
      "text/plain": [
       "<Figure size 1000x300 with 2 Axes>"
      ]
     },
     "metadata": {},
     "output_type": "display_data"
    }
   ],
   "source": [
    "total_pings_filtered = traj_ds.groupby(tc['user_id']).size()\n",
    "\n",
    "fig, (ax1, ax2) = plt.subplots(figsize=(10,3), ncols=2, sharey=True)\n",
    "\n",
    "total_pings.hist(ax=ax1, bins= [500*b for b in range(17)], alpha=0.5, label='raw')\n",
    "total_pings_filtered.hist(ax=ax1, bins= [500*b for b in range(17)], color='darkorange', alpha=0.5, label='filtered')\n",
    "ax1.legend()\n",
    "ax1.set_xlabel('total pings')\n",
    "\n",
    "(total_pings/total_hours).hist(ax=ax2, bins= [0.25*b for b in range(30)], alpha=0.5, label='raw')\n",
    "(total_pings_filtered/total_hours).hist(ax=ax2, bins= [0.25*b for b in range(30)], color='darkorange', alpha=0.5, label='filtered')\n",
    "ax2.set_xlabel('ping frequency (records/hour)')\n",
    "ax2.legend()\n",
    "\n",
    "plt.show()"
   ]
  },
  {
   "cell_type": "markdown",
   "metadata": {},
   "source": [
    "`nomad`'s `filters.downsample` method automatically takes care of grouping by user if the name of a user id column is passed (in this case via `traj_cols`), but it would also work for a single trajectory or on a `pandas.datetime64` datetime column if available."
   ]
  },
  {
   "cell_type": "code",
   "execution_count": 1,
   "metadata": {},
   "outputs": [],
   "source": [
    "import pandas as pd\n",
    "import numpy as np\n",
    "\n",
    "from shapely.geometry import Polygon\n",
    "from datetime import datetime\n",
    "import matplotlib.patches as patches\n",
    "\n",
    "from nomad.filters import to_projection, filter_users, q_filter"
   ]
  },
  {
   "cell_type": "markdown",
   "metadata": {},
   "source": [
    "## Spatial filters \n",
    "\n",
    "Suppose we are interested in an analysis of users who visited a park during multiple days of January 2024. In particular, we might want to know which other locations these users tend to visit to try and get some insights. Naturally, we do this through a spatial join of each user's coordinates with the polygon that represents the park. Here are some possible immediate challenges that could make an analysis `ad-hoc`\n",
    "\n",
    "- The polygon could be in **spherical coordinates** (also called **geographic coordinates**) and the data in **projected coordinates**. For example, in `(longitude, latitude)` coordinates with `crs=EPSG4360`, while the data has ``` (x, y)``` coordinates from the Web Mercator crs (`EPSG:3857`).\n",
    "\n",
    "- The polygon could be represented as a Well-Known-Text string (`wkt`), `shapely` polygon (or multipolygon), or a `Geopandas.GeoSeries`\n",
    "\n",
    "We can get a `shapely.Polygon` representing the park querying from the file `garden_city.geojson` but, for the sake of completeness, we will assume that the polygon is given by a `wkt`"
   ]
  },
  {
   "cell_type": "code",
   "execution_count": 71,
   "metadata": {},
   "outputs": [],
   "source": [
    "import geopandas as gpd\n",
    "import pyproj # for coordinate reprojection\n",
    "from shapely.geometry import Polygon, box\n",
    "import shapely.plotting as shp_plt\n",
    "\n",
    "city = gpd.read_file(\"garden_city.geojson\").set_index('building_id')\n",
    "poly = city.geometry.loc['p-x13-y11']\n",
    "\n",
    "poly_wkt = 'POLYGON ((-38.31767437672955 36.66929877196072, -38.31767437672955 36.66973109167419,'\\\n",
    "                     '-38.31821336590002 36.66973109167419, -38.31821336590002 36.66929877196072,'\\\n",
    "                     '-38.31767437672955 36.66929877196072))'"
   ]
  },
  {
   "cell_type": "code",
   "execution_count": 96,
   "metadata": {},
   "outputs": [
    {
     "data": {
      "image/png": "[encoded data removed]",
      "text/plain": [
       "<Figure size 600x600 with 1 Axes>"
      ]
     },
     "metadata": {},
     "output_type": "display_data"
    }
   ],
   "source": [
    "# for pretty plot\n",
    "fig, ax = plt.subplots(figsize=(6, 6))\n",
    "ax.set_axis_off()\n",
    "\n",
    "outer_box = box(*city.total_bounds).buffer(0.00015, join_style='mitre')\n",
    "shp_plt.plot_polygon(outer_box, ax=ax, add_points=False, color='#0e0e0e')\n",
    "city.plot(ax=ax, edgecolor='white', color='#2c353c')\n",
    "shp_plt.plot_polygon(poly, ax=ax, add_points=False, edgecolor='#0fad5a', facecolor='none')\n",
    "\n",
    "plt.show()"
   ]
  },
  {
   "cell_type": "code",
   "execution_count": 79,
   "metadata": {},
   "outputs": [
    {
     "data": {
      "text/plain": [
       "(array('d', [-38.316596398388604, -38.319291344240966, -38.319291344240966, -38.316596398388604, -38.316596398388604]),\n",
       " array('d', [36.6684341252476, 36.6684341252476, 36.67059572381487, 36.67059572381487, 36.6684341252476]))"
      ]
     },
     "execution_count": 79,
     "metadata": {},
     "output_type": "execute_result"
    }
   ],
   "source": [
    "outer_box.exterior.coords.xy"
   ]
  },
  {
   "cell_type": "code",
   "execution_count": null,
   "metadata": {},
   "outputs": [
    {
     "data": {
      "image/png": "[encoded data removed]",
      "text/plain": [
       "<Figure size 800x800 with 1 Axes>"
      ]
     },
     "metadata": {},
     "output_type": "display_data"
    }
   ],
   "source": [
    "\n",
    "\n",
    "fig, ax = plt.subplots(figsize=(8, 8))\n",
    "plt.box(on=False)\n",
    "\n",
    "# Load the GeoJSON file of the city map and plot\n",
    "gdf = gpd.read_file('garden_city.geojson')\n",
    "gdf.plot(ax=ax, color='lightblue', edgecolor='black', zorder=1)\n",
    "\n",
    "# Plot the trajectory pings\n",
    "plot_df = traj[traj['uid'] == \"fervent_knuth\"].copy()\n",
    "ax.scatter(x=plot_df['longitude'], \n",
    "           y=plot_df['latitude'],\n",
    "           s=6,\n",
    "           color='black',\n",
    "           alpha=1,\n",
    "           zorder=2)\n",
    "\n",
    "# Define the polygon coordinates for the park area\n",
    "polygon_coords = [\n",
    "    (-38.317674376729549, 36.669298771960719), \n",
    "    (-38.317674376729549, 36.669731091674187), \n",
    "    (-38.318213365900021, 36.669731091674187), \n",
    "    (-38.318213365900021, 36.669298771960719)\n",
    "]\n",
    "polygon = Polygon(polygon_coords)\n",
    "polygon_patch = patches.Polygon(polygon.exterior.coords, \n",
    "                                closed=True, \n",
    "                                edgecolor='green', \n",
    "                                facecolor='green', \n",
    "                                alpha=0.35, \n",
    "                                linewidth=2, \n",
    "                                label=\"Polygon\")\n",
    "plt.gca().add_patch(polygon_patch)\n",
    "\n",
    "plt.tight_layout()\n",
    "plt.show()"
   ]
  },
  {
   "cell_type": "markdown",
   "metadata": {},
   "source": [
    "## Coordinate system projection\n",
    "\n",
    "The first step after loading the dataset is to ensure the dataset is in the expected coordinate system.\n",
    "\n",
    "Many geospatial datasets come in spherical coordiantes latitude/longitude (EPSG:4326). However, spatial analyses---like joins of points in polygons, computing buffers, or clustering pings---might benefit from computing euclidean distances. Thus projected planar coordinates (like EPSG:3857) are commonly used. Nomad's `to_projection` method creates new columns `x` and `y` with projected coordinates in any coordinate reference system (CRS) recognized by PyProj. "
   ]
  },
  {
   "cell_type": "code",
   "execution_count": 4,
   "metadata": {},
   "outputs": [
    {
     "data": {
      "text/html": [
       "<div>\n",
       "<style scoped>\n",
       "    .dataframe tbody tr th:only-of-type {\n",
       "        vertical-align: middle;\n",
       "    }\n",
       "\n",
       "    .dataframe tbody tr th {\n",
       "        vertical-align: top;\n",
       "    }\n",
       "\n",
       "    .dataframe thead th {\n",
       "        text-align: right;\n",
       "    }\n",
       "</style>\n",
       "<table border=\"1\" class=\"dataframe\">\n",
       "  <thead>\n",
       "    <tr style=\"text-align: right;\">\n",
       "      <th></th>\n",
       "      <th>uid</th>\n",
       "      <th>timestamp</th>\n",
       "      <th>longitude</th>\n",
       "      <th>latitude</th>\n",
       "      <th>datetime</th>\n",
       "      <th>ha</th>\n",
       "      <th>date</th>\n",
       "      <th>tz_offset</th>\n",
       "      <th>x</th>\n",
       "      <th>y</th>\n",
       "    </tr>\n",
       "  </thead>\n",
       "  <tbody>\n",
       "    <tr>\n",
       "      <th>0</th>\n",
       "      <td>fervent_knuth</td>\n",
       "      <td>1704107522</td>\n",
       "      <td>-38.317331</td>\n",
       "      <td>36.669819</td>\n",
       "      <td>2024-01-01 07:12:02</td>\n",
       "      <td>20.079080</td>\n",
       "      <td>2024-01-01</td>\n",
       "      <td>-14400</td>\n",
       "      <td>-4.265466e+06</td>\n",
       "      <td>4.393183e+06</td>\n",
       "    </tr>\n",
       "    <tr>\n",
       "      <th>1</th>\n",
       "      <td>fervent_knuth</td>\n",
       "      <td>1704108613</td>\n",
       "      <td>-38.317394</td>\n",
       "      <td>36.669747</td>\n",
       "      <td>2024-01-01 07:30:13</td>\n",
       "      <td>19.085910</td>\n",
       "      <td>2024-01-01</td>\n",
       "      <td>-14400</td>\n",
       "      <td>-4.265473e+06</td>\n",
       "      <td>4.393173e+06</td>\n",
       "    </tr>\n",
       "    <tr>\n",
       "      <th>2</th>\n",
       "      <td>fervent_knuth</td>\n",
       "      <td>1704109838</td>\n",
       "      <td>-38.317479</td>\n",
       "      <td>36.669865</td>\n",
       "      <td>2024-01-01 07:50:38</td>\n",
       "      <td>13.173027</td>\n",
       "      <td>2024-01-01</td>\n",
       "      <td>-14400</td>\n",
       "      <td>-4.265482e+06</td>\n",
       "      <td>4.393190e+06</td>\n",
       "    </tr>\n",
       "    <tr>\n",
       "      <th>3</th>\n",
       "      <td>fervent_knuth</td>\n",
       "      <td>1704110272</td>\n",
       "      <td>-38.317346</td>\n",
       "      <td>36.669794</td>\n",
       "      <td>2024-01-01 07:57:52</td>\n",
       "      <td>9.367617</td>\n",
       "      <td>2024-01-01</td>\n",
       "      <td>-14400</td>\n",
       "      <td>-4.265467e+06</td>\n",
       "      <td>4.393180e+06</td>\n",
       "    </tr>\n",
       "    <tr>\n",
       "      <th>4</th>\n",
       "      <td>fervent_knuth</td>\n",
       "      <td>1704110645</td>\n",
       "      <td>-38.317207</td>\n",
       "      <td>36.670156</td>\n",
       "      <td>2024-01-01 08:04:05</td>\n",
       "      <td>10.999287</td>\n",
       "      <td>2024-01-01</td>\n",
       "      <td>-14400</td>\n",
       "      <td>-4.265452e+06</td>\n",
       "      <td>4.393230e+06</td>\n",
       "    </tr>\n",
       "    <tr>\n",
       "      <th>5</th>\n",
       "      <td>fervent_knuth</td>\n",
       "      <td>1704149735</td>\n",
       "      <td>-38.317458</td>\n",
       "      <td>36.669780</td>\n",
       "      <td>2024-01-01 18:55:35</td>\n",
       "      <td>10.286091</td>\n",
       "      <td>2024-01-01</td>\n",
       "      <td>-14400</td>\n",
       "      <td>-4.265480e+06</td>\n",
       "      <td>4.393178e+06</td>\n",
       "    </tr>\n",
       "    <tr>\n",
       "      <th>6</th>\n",
       "      <td>fervent_knuth</td>\n",
       "      <td>1704154040</td>\n",
       "      <td>-38.317577</td>\n",
       "      <td>36.669823</td>\n",
       "      <td>2024-01-01 20:07:20</td>\n",
       "      <td>8.146017</td>\n",
       "      <td>2024-01-01</td>\n",
       "      <td>-14400</td>\n",
       "      <td>-4.265493e+06</td>\n",
       "      <td>4.393184e+06</td>\n",
       "    </tr>\n",
       "    <tr>\n",
       "      <th>7</th>\n",
       "      <td>fervent_knuth</td>\n",
       "      <td>1704155088</td>\n",
       "      <td>-38.317494</td>\n",
       "      <td>36.669850</td>\n",
       "      <td>2024-01-01 20:24:48</td>\n",
       "      <td>11.449836</td>\n",
       "      <td>2024-01-01</td>\n",
       "      <td>-14400</td>\n",
       "      <td>-4.265484e+06</td>\n",
       "      <td>4.393187e+06</td>\n",
       "    </tr>\n",
       "    <tr>\n",
       "      <th>8</th>\n",
       "      <td>fervent_knuth</td>\n",
       "      <td>1704164362</td>\n",
       "      <td>-38.317490</td>\n",
       "      <td>36.669617</td>\n",
       "      <td>2024-01-01 22:59:22</td>\n",
       "      <td>14.431841</td>\n",
       "      <td>2024-01-01</td>\n",
       "      <td>-14400</td>\n",
       "      <td>-4.265484e+06</td>\n",
       "      <td>4.393155e+06</td>\n",
       "    </tr>\n",
       "    <tr>\n",
       "      <th>9</th>\n",
       "      <td>frosty_neumann</td>\n",
       "      <td>1704118728</td>\n",
       "      <td>-38.317645</td>\n",
       "      <td>36.669408</td>\n",
       "      <td>2024-01-01 10:18:48</td>\n",
       "      <td>41.010484</td>\n",
       "      <td>2024-01-01</td>\n",
       "      <td>-14400</td>\n",
       "      <td>-4.265501e+06</td>\n",
       "      <td>4.393126e+06</td>\n",
       "    </tr>\n",
       "  </tbody>\n",
       "</table>\n",
       "</div>"
      ],
      "text/plain": [
       "              uid   timestamp  longitude   latitude            datetime  \\\n",
       "0   fervent_knuth  1704107522 -38.317331  36.669819 2024-01-01 07:12:02   \n",
       "1   fervent_knuth  1704108613 -38.317394  36.669747 2024-01-01 07:30:13   \n",
       "2   fervent_knuth  1704109838 -38.317479  36.669865 2024-01-01 07:50:38   \n",
       "3   fervent_knuth  1704110272 -38.317346  36.669794 2024-01-01 07:57:52   \n",
       "4   fervent_knuth  1704110645 -38.317207  36.670156 2024-01-01 08:04:05   \n",
       "5   fervent_knuth  1704149735 -38.317458  36.669780 2024-01-01 18:55:35   \n",
       "6   fervent_knuth  1704154040 -38.317577  36.669823 2024-01-01 20:07:20   \n",
       "7   fervent_knuth  1704155088 -38.317494  36.669850 2024-01-01 20:24:48   \n",
       "8   fervent_knuth  1704164362 -38.317490  36.669617 2024-01-01 22:59:22   \n",
       "9  frosty_neumann  1704118728 -38.317645  36.669408 2024-01-01 10:18:48   \n",
       "\n",
       "          ha        date  tz_offset             x             y  \n",
       "0  20.079080  2024-01-01     -14400 -4.265466e+06  4.393183e+06  \n",
       "1  19.085910  2024-01-01     -14400 -4.265473e+06  4.393173e+06  \n",
       "2  13.173027  2024-01-01     -14400 -4.265482e+06  4.393190e+06  \n",
       "3   9.367617  2024-01-01     -14400 -4.265467e+06  4.393180e+06  \n",
       "4  10.999287  2024-01-01     -14400 -4.265452e+06  4.393230e+06  \n",
       "5  10.286091  2024-01-01     -14400 -4.265480e+06  4.393178e+06  \n",
       "6   8.146017  2024-01-01     -14400 -4.265493e+06  4.393184e+06  \n",
       "7  11.449836  2024-01-01     -14400 -4.265484e+06  4.393187e+06  \n",
       "8  14.431841  2024-01-01     -14400 -4.265484e+06  4.393155e+06  \n",
       "9  41.010484  2024-01-01     -14400 -4.265501e+06  4.393126e+06  "
      ]
     },
     "execution_count": 4,
     "metadata": {},
     "output_type": "execute_result"
    }
   ],
   "source": [
    "# Project to EPSG:3857 (Web Mercator)\n",
    "projected_x, projected_y = to_projection(traj=traj,\n",
    "                                         input_crs=\"EPSG:4326\",\n",
    "                                         output_crs=\"EPSG:3857\",\n",
    "                                         longitude=\"longitude\",\n",
    "                                         latitude=\"latitude\")\n",
    "\n",
    "traj['x'] = projected_x\n",
    "traj['y'] = projected_y\n",
    "\n",
    "traj.head(10)"
   ]
  },
  {
   "cell_type": "markdown",
   "metadata": {},
   "source": [
    "## Apply desired filters\n",
    "\n",
    "Our library currently allows for three common forms of filtering:\n",
    "- **Temporal Filtering**: Restrict data to a time window of interest (e.g., January). Use the `start_time` and `end_time` arguments. If \n",
    "- **Quantity-Based Filtering**: Keep only users with sufficient activity as measured by a minimum number of pings. Use the `min_active_days` and `min_pings_per_day` arguments.\n",
    "- **Spatial Filtering**: Keep only users with pings that fall within a specific geographic region (e.g., Philadelphia). Use the `polygon` argument.\n",
    "\n",
    "If the aforementioned arguments are not specified, the default arguments ensure that the respective filtering is not performed. I.e., `polygon` defaults to `None`, and so no spatial filtering is performed."
   ]
  },
  {
   "cell_type": "code",
   "execution_count": 5,
   "metadata": {},
   "outputs": [
    {
     "name": "stdout",
     "output_type": "stream",
     "text": [
      "Number of pings before filtering: 404448\n",
      "Number of unique users before filtering: 200\n",
      "Number of pings after filtering: 32874\n",
      "Number of unique users after filtering: 36\n"
     ]
    }
   ],
   "source": [
    "# Define the polygon for the park area (in projected coordinates)\n",
    "polygon_coords = [\n",
    "    (-4265504, 4393111), \n",
    "    (-4265504, 4393171), \n",
    "    (-4265564, 4393171), \n",
    "    (-4265564, 4393111)\n",
    "]\n",
    "polygon = Polygon(polygon_coords)\n",
    "\n",
    "n0 = len(traj)\n",
    "uq0 = traj['uid'].unique()\n",
    "\n",
    "filtered_traj = filter_users(traj=traj, \n",
    "                             start_time=pd.Timestamp(\"2024-01-01 00:00:00\", tz='America/New_York'),\n",
    "                             end_time=pd.Timestamp(\"2024-01-07 23:59:00\", tz='America/New_York'),\n",
    "                             polygon=polygon,\n",
    "                             min_active_days=2,\n",
    "                             min_pings_per_day=10,\n",
    "                             user_id='uid',\n",
    "                             x='x',\n",
    "                             y='y')\n",
    "\n",
    "n1 = len(filtered_traj)\n",
    "uq1 = filtered_traj['uid'].unique()\n",
    "print(f\"Number of pings before filtering: {n0}\")\n",
    "print(f\"Number of unique users before filtering: {len(uq0)}\")\n",
    "print(f\"Number of pings after filtering: {n1}\")\n",
    "print(f\"Number of unique users after filtering: {len(uq1)}\")\n"
   ]
  },
  {
   "cell_type": "markdown",
   "metadata": {},
   "source": [
    "### Visualize completeness and filter by completeness metric"
   ]
  },
  {
   "cell_type": "markdown",
   "metadata": {},
   "source": [
    "And here, a discussion on how we want to discard users that have too incomplete a signal to be used. E.g. Q < 80% . "
   ]
  },
  {
   "cell_type": "code",
   "execution_count": null,
   "metadata": {},
   "outputs": [],
   "source": [
    "#  _generate_Q_matrix(df, traj_cols={'datetime':'event_zoned_datetime', 'user_id':'cuebiq_id'})\n",
    "# num_days = 42\n",
    "\n",
    "# q_hourly = Q.mean(axis=0)*100\n",
    "# q_daily = ((Q>0.0).sum(axis=0)/num_days)*100\n",
    "\n",
    "# # assume Q is your DataFrame and q_daily is the Series of mean completeness per user\n",
    "# sorted_cols = q_daily.sort_values(ascending=False).index\n",
    "# Qs = Q[sorted_cols]\n",
    "# binary = Qs.gt(0).astype(int)\n",
    "# cmap = plt.cm.Blues\n",
    "\n",
    "# fig, axes = plt.subplots(\n",
    "#     2, 2,\n",
    "#     figsize=(8, 8),\n",
    "#     gridspec_kw={'height_ratios': [1, 2.5]},\n",
    "#     sharey='row'\n",
    "# )\n",
    "\n",
    "# # marginal histograms\n",
    "# axes[0,0].hist(q_daily, bins=46)\n",
    "# axes[0,0].set_xlabel('% days with data')\n",
    "\n",
    "# axes[0,1].hist(q_hourly, bins=46)\n",
    "# axes[0,1].set_xlabel('% hours with data')\n",
    "\n",
    "# for ax, data in zip([axes[0,1], axes[0,0]], (q_hourly, q_daily)):\n",
    "#     ax.axvline(np.median(data), linestyle='--', color='red', lw=1)\n",
    "# # binary heatmap\n",
    "# sns.heatmap(\n",
    "#     binary.T,\n",
    "#     ax=axes[1,0],\n",
    "#     cmap=cmap,\n",
    "#     vmin=0, vmax=1,\n",
    "#     cbar=False,\n",
    "#     xticklabels=False,\n",
    "#     yticklabels=False\n",
    "# )\n",
    "# axes[1,0].set_ylabel('User')\n",
    "\n",
    "# # continuous heatmap\n",
    "# sns.heatmap(\n",
    "#     Qs.T,\n",
    "#     ax=axes[1, 1],\n",
    "#     cmap=cmap,\n",
    "#     vmin=0, vmax=1,\n",
    "#     cbar_kws={'label': 'Completeness'},\n",
    "#     xticklabels=False,\n",
    "#     yticklabels=False\n",
    "# )\n",
    "# axes[1,1].set_ylabel('')\n",
    "\n",
    "# # set date ticks on bottom row\n",
    "# dates = pd.to_datetime(Qs.index)\n",
    "# tick_locs = np.linspace(0, len(dates) - 1, 6, dtype=int)\n",
    "# tick_lbls = dates.strftime('%m-%d')[tick_locs]\n",
    "# for ax in [axes[1,0], axes[1,1]]:\n",
    "#     ax.set_xticks(tick_locs)\n",
    "#     ax.set_xticklabels(tick_lbls, rotation=45, ha='right')\n",
    "\n",
    "# #plt.tight_layout()\n",
    "# plt.show()"
   ]
  },
  {
   "cell_type": "markdown",
   "metadata": {},
   "source": [
    "The following code constructs a daily $Q$ matrix, which represents the completeness of user activity for each day. $q$ represents the proportion of hours in a day during which a specific user has recorded activity. A sliding window of 3 days is then applied to compute a mean completeness metric for each date in the sliding window."
   ]
  },
  {
   "cell_type": "code",
   "execution_count": null,
   "metadata": {},
   "outputs": [],
   "source": [
    "# Construct daily Q matrix\n",
    "Q = filters._generate_Q_matrix(traj, tc)\n",
    "Q\n",
    "\n",
    "# no need for sliding window\n",
    "# visualize (1) distribution of q=0, (2) barcode 0/1 for each hour for each user plt.imshow"
   ]
  },
  {
   "cell_type": "code",
   "execution_count": null,
   "metadata": {},
   "outputs": [],
   "source": [
    "sliding_window = 3  # in days\n",
    "SW_dates = Q.index[:-sliding_window]  # dates involved in the sliding window computation\n",
    "Q_window = pd.DataFrame(\n",
    "    [filters._compute_mean_q(Q, date, sliding_window) for date in SW_dates],\n",
    "    index=SW_dates\n",
    "    )\n",
    "\n",
    "Q_window.head(5)"
   ]
  },
  {
   "cell_type": "markdown",
   "metadata": {},
   "source": [
    "We now visualize the number of complete users in each day for different values of completeness ($\\bar{q} = 1-\\epsilon$)."
   ]
  },
  {
   "cell_type": "code",
   "execution_count": null,
   "metadata": {},
   "outputs": [],
   "source": [
    "LIST_eps = [0.3,0.5]\n",
    "Colors_eps = ['red', 'blue']\n",
    "X = range(len(SW_dates))\n",
    "\n",
    "DICT_legend= {'classes': [int(e*100) for e in LIST_eps], \n",
    "              'colors': Colors_eps, \n",
    "              'loc': 'lower right', \n",
    "              'fontsize':10,\n",
    "              'title': '$\\\\epsilon \\\\quad (\\\\%)$', \n",
    "              'title_fontsize':10}\n",
    "\n",
    "DICT_ticks = {'t': X, \n",
    "              'tl': SW_dates, \n",
    "              'rot': 90, \n",
    "              'size':10}\n",
    "\n",
    "DICT_label_titles = {'xlabel': 'Date', \n",
    "                     'ylabel': 'Count of complete users', \n",
    "                     'title': f'Daily time-series of complete users \\n over {sliding_window} days sliding window with $\\\\epsilon$ tolerance', \n",
    "                     'label_size': 15, \n",
    "                     'title_size': 15}\n",
    "\n",
    "fig, ax = plt.subplots(figsize = (15,5))\n",
    "\n",
    "for eps,color in zip(LIST_eps, Colors_eps):\n",
    "    #Counts of complete users for each date - based on eps tolerance\n",
    "    I_complete_eps = (Q_window > (1-eps)).sum(axis=1)\n",
    "    ax.plot(X, I_complete_eps.values, color = color, label = eps)\n",
    "\n",
    "filters._ax_visual_legend(ax, DICT_legend)\n",
    "filters._ax_visual_ticklabel(ax, DICT_ticks, axis = 'x')\n",
    "filters._ax_visual_labeltitles(ax, DICT_label_titles)"
   ]
  },
  {
   "cell_type": "markdown",
   "metadata": {},
   "source": [
    "We can use $q$ to filter users by completeness, retaining only the users who exhibit a mean completeness of over `qbar` in the sample."
   ]
  },
  {
   "cell_type": "code",
   "execution_count": null,
   "metadata": {},
   "outputs": [],
   "source": [
    "n0 = len(traj)\n",
    "uq0 = traj['uid'].unique()\n",
    "\n",
    "complete_users = q_filter(traj=traj,\n",
    "                          qbar=0.7,\n",
    "                          sliding_window=3,\n",
    "                          traj_cols=tc)\n",
    "filtered_traj_q = traj[traj['uid'].isin(complete_users)]\n",
    "\n",
    "n1 = len(filtered_traj_q)\n",
    "uq1 = filtered_traj_q['uid'].unique()\n",
    "\n",
    "print(f\"Number of pings before filtering: {n0}\")\n",
    "print(f\"Number of unique users before filtering: {len(uq0)}\")\n",
    "print(f\"Number of pings after filtering: {n1}\")\n",
    "print(f\"Number of unique users after filtering: {len(uq1)}\")"
   ]
  },
  {
   "cell_type": "markdown",
   "metadata": {},
   "source": [
    "## Applying filters on read\n",
    "\n",
    "If your dataset is too large. Loading it all in memory to then apply the filters can be intractable. Nomad implements these functionalities to filter in this way on read..."
   ]
  },
  {
   "cell_type": "code",
   "execution_count": null,
   "metadata": {},
   "outputs": [],
   "source": []
  }
 ],
 "metadata": {
  "kernelspec": {
   "display_name": "Python 3 (ipykernel)",
   "language": "python",
   "name": "python3"
  },
  "language_info": {
   "codemirror_mode": {
    "name": "ipython",
    "version": 3
   },
   "file_extension": ".py",
   "mimetype": "text/x-python",
   "name": "python",
   "nbconvert_exporter": "python",
   "pygments_lexer": "ipython3",
   "version": "3.10.0"
  }
 },
 "nbformat": 4,
 "nbformat_minor": 4
}

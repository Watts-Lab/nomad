{
 "cells": [
  {
   "cell_type": "markdown",
   "id": "3dce96c8",
   "metadata": {},
   "source": [
    "# Tutorial 1: Reading partitioned data and loading a sample"
   ]
  },
  {
   "cell_type": "code",
   "execution_count": 1,
   "id": "5b92f25a",
   "metadata": {
    "tags": []
   },
   "outputs": [],
   "source": [
    "import sys\n",
    "import os"
   ]
  },
  {
   "cell_type": "code",
   "execution_count": 2,
   "id": "c5a2aec6",
   "metadata": {
    "tags": []
   },
   "outputs": [],
   "source": [
    "sys.path.insert(0, os.path.abspath(os.path.join(os.getcwd(), \"...\")))\n",
    "sys.path.insert(0, os.path.abspath(os.path.join(os.getcwd(), \"..\")))"
   ]
  },
  {
   "cell_type": "code",
   "execution_count": 3,
   "id": "97e5559b",
   "metadata": {
    "tags": []
   },
   "outputs": [],
   "source": [
    "import pandas as pd\n",
    "import matplotlib.pyplot as plt\n",
    "import core.daphmeIO as loader\n",
    "import core.filters as filters"
   ]
  },
  {
   "cell_type": "markdown",
   "id": "42d86549",
   "metadata": {},
   "source": [
    "We load a sample of Gravy trajectory data for the Philadelphia area"
   ]
  },
  {
   "cell_type": "code",
   "execution_count": 17,
   "id": "5b21b84c",
   "metadata": {
    "tags": []
   },
   "outputs": [],
   "source": [
    "# part_path = '../data/sample3/date=2024-01-07/aad4a23f7a90441aa0f55f06e5e4313d-0.parquet'\n",
    "# part_path = \"s3://phl-pings/gravy_clean/date=2019-11-01/part-00007-a7eb387d-1b0c-4aa7-b6a1-47023f1940bd.c000.snappy.parquet\"\n",
    "part_path = \"s3://synthetic-raw-data/agents-*/sparse_trajectories.parquet/\"\n",
    "\n",
    "traj_cols =  {\"user_id\":\"identifier\",\n",
    "              \"x\":\"x\",\n",
    "              \"y\":\"y\",\n",
    "              \"datetime\":\"local_timestamp\"}"
   ]
  },
  {
   "cell_type": "markdown",
   "id": "f791d2b6",
   "metadata": {},
   "source": [
    "### Get a sample of users"
   ]
  },
  {
   "cell_type": "code",
   "execution_count": null,
   "id": "cc616658",
   "metadata": {
    "tags": []
   },
   "outputs": [],
   "source": [
    "u_sample = loader.sample_users(\"s3://synthetic-raw-data/agents-*/sparse_trajectories.parquet/\", format='parquet', frac_users=0.2, user_id='identifier')"
   ]
  },
  {
   "cell_type": "code",
   "execution_count": 11,
   "id": "7cd86dad-31c5-4ace-ac30-c7bb650fb1d2",
   "metadata": {},
   "outputs": [
    {
     "data": {
      "text/plain": [
       "32      95d1d4b8-c2f8-3de3-855f-1fb3f8b2f7d1\n",
       "577     afde08d5-012c-3e88-ad8c-3a966ee5f730\n",
       "415     5d7c5f71-e137-3e1a-890a-e79259a8851c\n",
       "685     7e4c7c31-f344-434e-b0d0-f2ad922b01df\n",
       "713     a24b62e2-84aa-3340-a61b-65979918a20e\n",
       "                        ...                 \n",
       "1533    76c7a082-fa60-3d52-a4be-10233b4ba0ef\n",
       "1218    e6e00d07-02e1-3b18-87bc-a6aa8ebac5b9\n",
       "492     225c9971-7a56-3847-a5af-05e4d3f5beba\n",
       "1027    1a238312-7472-3c55-b451-c50825ef0063\n",
       "792     fc1c2734-535d-3f84-a53a-2dfc614b66b9\n",
       "Length: 308, dtype: object"
      ]
     },
     "execution_count": 11,
     "metadata": {},
     "output_type": "execute_result"
    }
   ],
   "source": [
    "u_sample"
   ]
  },
  {
   "cell_type": "markdown",
   "id": "e8d2b2b0",
   "metadata": {},
   "source": [
    "### Load data for users in u_sample for 3 days"
   ]
  },
  {
   "cell_type": "code",
   "execution_count": 12,
   "id": "f3048fc0",
   "metadata": {
    "tags": []
   },
   "outputs": [],
   "source": [
    "filepath = ['s3://phl-pings/gravy_clean/date=2019-11-01/',\n",
    "            's3://phl-pings/gravy_clean/date=2019-11-02/',\n",
    "            's3://phl-pings/gravy_clean/date=2019-11-03/',\n",
    "            's3://phl-pings/gravy_clean/date=2019-11-04/',\n",
    "            's3://phl-pings/gravy_clean/date=2019-11-05/',\n",
    "            's3://phl-pings/gravy_clean/date=2019-11-06/']\n",
    "\n",
    "data = loader.sample_from_file(part_path, users=u_sample, format='parquet', traj_cols=traj_cols, user_id = 'identifier')"
   ]
  },
  {
   "cell_type": "code",
   "execution_count": 13,
   "id": "22771feb-476e-45a7-8e6c-4f1902682c93",
   "metadata": {},
   "outputs": [
    {
     "data": {
      "text/html": [
       "<div>\n",
       "<style scoped>\n",
       "    .dataframe tbody tr th:only-of-type {\n",
       "        vertical-align: middle;\n",
       "    }\n",
       "\n",
       "    .dataframe tbody tr th {\n",
       "        vertical-align: top;\n",
       "    }\n",
       "\n",
       "    .dataframe thead th {\n",
       "        text-align: right;\n",
       "    }\n",
       "</style>\n",
       "<table border=\"1\" class=\"dataframe\">\n",
       "  <thead>\n",
       "    <tr style=\"text-align: right;\">\n",
       "      <th></th>\n",
       "      <th>identifier</th>\n",
       "      <th>local_timestamp</th>\n",
       "      <th>mercator_coord</th>\n",
       "      <th>x</th>\n",
       "      <th>y</th>\n",
       "      <th>in_geo</th>\n",
       "      <th>date_hour</th>\n",
       "      <th>day_of_week</th>\n",
       "      <th>date</th>\n",
       "    </tr>\n",
       "  </thead>\n",
       "  <tbody>\n",
       "    <tr>\n",
       "      <th>0</th>\n",
       "      <td>7f567d20-a527-3b75-b8d5-123415a52dcd</td>\n",
       "      <td>2019-11-01 08:51:10</td>\n",
       "      <td>b'\\x12\\x00\\x00\\x00\\x01\\x00\\x00\\x00\\xc5\\xc6\\x14...</td>\n",
       "      <td>-8.382574e+06</td>\n",
       "      <td>4.856299e+06</td>\n",
       "      <td>False</td>\n",
       "      <td>2019-11-01 08</td>\n",
       "      <td>6</td>\n",
       "      <td>2019-11-01</td>\n",
       "    </tr>\n",
       "    <tr>\n",
       "      <th>1</th>\n",
       "      <td>7f567d20-a527-3b75-b8d5-123415a52dcd</td>\n",
       "      <td>2019-11-01 08:51:10</td>\n",
       "      <td>b'\\x12\\x00\\x00\\x00\\x01\\x00\\x00\\x00\\xc5\\xc6\\x14...</td>\n",
       "      <td>-8.382574e+06</td>\n",
       "      <td>4.856299e+06</td>\n",
       "      <td>False</td>\n",
       "      <td>2019-11-01 08</td>\n",
       "      <td>6</td>\n",
       "      <td>2019-11-01</td>\n",
       "    </tr>\n",
       "    <tr>\n",
       "      <th>2</th>\n",
       "      <td>a7f7846d-4ca7-457b-9aba-7a95f47dcf86</td>\n",
       "      <td>2019-11-01 00:59:27</td>\n",
       "      <td>b'\\x12\\x00\\x00\\x00\\x01\\x00\\x00\\x00\\'&gt;\\xf7\\xff\"...</td>\n",
       "      <td>-8.337548e+06</td>\n",
       "      <td>4.868362e+06</td>\n",
       "      <td>False</td>\n",
       "      <td>2019-11-01 00</td>\n",
       "      <td>6</td>\n",
       "      <td>2019-11-01</td>\n",
       "    </tr>\n",
       "    <tr>\n",
       "      <th>3</th>\n",
       "      <td>a7f7846d-4ca7-457b-9aba-7a95f47dcf86</td>\n",
       "      <td>2019-11-01 03:47:42</td>\n",
       "      <td>b'\\x12\\x00\\x00\\x00\\x01\\x00\\x00\\x00\\'&gt;\\xf7\\xff\"...</td>\n",
       "      <td>-8.337548e+06</td>\n",
       "      <td>4.868362e+06</td>\n",
       "      <td>False</td>\n",
       "      <td>2019-11-01 03</td>\n",
       "      <td>6</td>\n",
       "      <td>2019-11-01</td>\n",
       "    </tr>\n",
       "    <tr>\n",
       "      <th>4</th>\n",
       "      <td>a7f7846d-4ca7-457b-9aba-7a95f47dcf86</td>\n",
       "      <td>2019-11-01 09:29:26</td>\n",
       "      <td>b'\\x12\\x00\\x00\\x00\\x01\\x00\\x00\\x00\\xac\\xd6\\x95...</td>\n",
       "      <td>-8.313929e+06</td>\n",
       "      <td>4.902924e+06</td>\n",
       "      <td>False</td>\n",
       "      <td>2019-11-01 09</td>\n",
       "      <td>6</td>\n",
       "      <td>2019-11-01</td>\n",
       "    </tr>\n",
       "    <tr>\n",
       "      <th>...</th>\n",
       "      <td>...</td>\n",
       "      <td>...</td>\n",
       "      <td>...</td>\n",
       "      <td>...</td>\n",
       "      <td>...</td>\n",
       "      <td>...</td>\n",
       "      <td>...</td>\n",
       "      <td>...</td>\n",
       "      <td>...</td>\n",
       "    </tr>\n",
       "    <tr>\n",
       "      <th>15098</th>\n",
       "      <td>750d04af-8c86-3621-84f4-5f823ee22383</td>\n",
       "      <td>2019-11-01 03:43:41</td>\n",
       "      <td>b'\\x12\\x00\\x00\\x00\\x01\\x00\\x00\\x00\\xca@\\xd9\"\\x...</td>\n",
       "      <td>-8.359505e+06</td>\n",
       "      <td>4.867844e+06</td>\n",
       "      <td>True</td>\n",
       "      <td>2019-11-01 03</td>\n",
       "      <td>6</td>\n",
       "      <td>2019-11-01</td>\n",
       "    </tr>\n",
       "    <tr>\n",
       "      <th>15099</th>\n",
       "      <td>750d04af-8c86-3621-84f4-5f823ee22383</td>\n",
       "      <td>2019-11-01 20:23:50</td>\n",
       "      <td>b\"\\x12\\x00\\x00\\x00\\x01\\x00\\x00\\x00R\\x17\\xf5'\\x...</td>\n",
       "      <td>-8.369757e+06</td>\n",
       "      <td>4.854935e+06</td>\n",
       "      <td>True</td>\n",
       "      <td>2019-11-01 20</td>\n",
       "      <td>6</td>\n",
       "      <td>2019-11-01</td>\n",
       "    </tr>\n",
       "    <tr>\n",
       "      <th>15100</th>\n",
       "      <td>76c7a082-fa60-3d52-a4be-10233b4ba0ef</td>\n",
       "      <td>2019-11-01 05:00:43</td>\n",
       "      <td>b'\\x12\\x00\\x00\\x00\\x01\\x00\\x00\\x009\\xc4!1\\xe2\\...</td>\n",
       "      <td>-8.358793e+06</td>\n",
       "      <td>4.868443e+06</td>\n",
       "      <td>True</td>\n",
       "      <td>2019-11-01 05</td>\n",
       "      <td>6</td>\n",
       "      <td>2019-11-01</td>\n",
       "    </tr>\n",
       "    <tr>\n",
       "      <th>15101</th>\n",
       "      <td>76c7a082-fa60-3d52-a4be-10233b4ba0ef</td>\n",
       "      <td>2019-11-01 23:59:08</td>\n",
       "      <td>b'\\x12\\x00\\x00\\x00\\x01\\x00\\x00\\x009\\xc4!1\\xe2\\...</td>\n",
       "      <td>-8.358793e+06</td>\n",
       "      <td>4.868443e+06</td>\n",
       "      <td>True</td>\n",
       "      <td>2019-11-01 23</td>\n",
       "      <td>6</td>\n",
       "      <td>2019-11-01</td>\n",
       "    </tr>\n",
       "    <tr>\n",
       "      <th>15102</th>\n",
       "      <td>77466d4b-ea3b-3d5a-b875-4f9f270a9c1a</td>\n",
       "      <td>2019-11-01 00:46:43</td>\n",
       "      <td>b'\\x12\\x00\\x00\\x00\\x01\\x00\\x00\\x00\\xfa\\x04k\\x0...</td>\n",
       "      <td>-8.367196e+06</td>\n",
       "      <td>4.859016e+06</td>\n",
       "      <td>True</td>\n",
       "      <td>2019-11-01 00</td>\n",
       "      <td>6</td>\n",
       "      <td>2019-11-01</td>\n",
       "    </tr>\n",
       "  </tbody>\n",
       "</table>\n",
       "<p>15103 rows × 9 columns</p>\n",
       "</div>"
      ],
      "text/plain": [
       "                                 identifier     local_timestamp  \\\n",
       "0      7f567d20-a527-3b75-b8d5-123415a52dcd 2019-11-01 08:51:10   \n",
       "1      7f567d20-a527-3b75-b8d5-123415a52dcd 2019-11-01 08:51:10   \n",
       "2      a7f7846d-4ca7-457b-9aba-7a95f47dcf86 2019-11-01 00:59:27   \n",
       "3      a7f7846d-4ca7-457b-9aba-7a95f47dcf86 2019-11-01 03:47:42   \n",
       "4      a7f7846d-4ca7-457b-9aba-7a95f47dcf86 2019-11-01 09:29:26   \n",
       "...                                     ...                 ...   \n",
       "15098  750d04af-8c86-3621-84f4-5f823ee22383 2019-11-01 03:43:41   \n",
       "15099  750d04af-8c86-3621-84f4-5f823ee22383 2019-11-01 20:23:50   \n",
       "15100  76c7a082-fa60-3d52-a4be-10233b4ba0ef 2019-11-01 05:00:43   \n",
       "15101  76c7a082-fa60-3d52-a4be-10233b4ba0ef 2019-11-01 23:59:08   \n",
       "15102  77466d4b-ea3b-3d5a-b875-4f9f270a9c1a 2019-11-01 00:46:43   \n",
       "\n",
       "                                          mercator_coord             x  \\\n",
       "0      b'\\x12\\x00\\x00\\x00\\x01\\x00\\x00\\x00\\xc5\\xc6\\x14... -8.382574e+06   \n",
       "1      b'\\x12\\x00\\x00\\x00\\x01\\x00\\x00\\x00\\xc5\\xc6\\x14... -8.382574e+06   \n",
       "2      b'\\x12\\x00\\x00\\x00\\x01\\x00\\x00\\x00\\'>\\xf7\\xff\"... -8.337548e+06   \n",
       "3      b'\\x12\\x00\\x00\\x00\\x01\\x00\\x00\\x00\\'>\\xf7\\xff\"... -8.337548e+06   \n",
       "4      b'\\x12\\x00\\x00\\x00\\x01\\x00\\x00\\x00\\xac\\xd6\\x95... -8.313929e+06   \n",
       "...                                                  ...           ...   \n",
       "15098  b'\\x12\\x00\\x00\\x00\\x01\\x00\\x00\\x00\\xca@\\xd9\"\\x... -8.359505e+06   \n",
       "15099  b\"\\x12\\x00\\x00\\x00\\x01\\x00\\x00\\x00R\\x17\\xf5'\\x... -8.369757e+06   \n",
       "15100  b'\\x12\\x00\\x00\\x00\\x01\\x00\\x00\\x009\\xc4!1\\xe2\\... -8.358793e+06   \n",
       "15101  b'\\x12\\x00\\x00\\x00\\x01\\x00\\x00\\x009\\xc4!1\\xe2\\... -8.358793e+06   \n",
       "15102  b'\\x12\\x00\\x00\\x00\\x01\\x00\\x00\\x00\\xfa\\x04k\\x0... -8.367196e+06   \n",
       "\n",
       "                  y  in_geo      date_hour  day_of_week        date  \n",
       "0      4.856299e+06   False  2019-11-01 08            6  2019-11-01  \n",
       "1      4.856299e+06   False  2019-11-01 08            6  2019-11-01  \n",
       "2      4.868362e+06   False  2019-11-01 00            6  2019-11-01  \n",
       "3      4.868362e+06   False  2019-11-01 03            6  2019-11-01  \n",
       "4      4.902924e+06   False  2019-11-01 09            6  2019-11-01  \n",
       "...             ...     ...            ...          ...         ...  \n",
       "15098  4.867844e+06    True  2019-11-01 03            6  2019-11-01  \n",
       "15099  4.854935e+06    True  2019-11-01 20            6  2019-11-01  \n",
       "15100  4.868443e+06    True  2019-11-01 05            6  2019-11-01  \n",
       "15101  4.868443e+06    True  2019-11-01 23            6  2019-11-01  \n",
       "15102  4.859016e+06    True  2019-11-01 00            6  2019-11-01  \n",
       "\n",
       "[15103 rows x 9 columns]"
      ]
     },
     "execution_count": 13,
     "metadata": {},
     "output_type": "execute_result"
    }
   ],
   "source": [
    "data"
   ]
  },
  {
   "cell_type": "code",
   "execution_count": 14,
   "id": "47d40c7d",
   "metadata": {
    "tags": []
   },
   "outputs": [],
   "source": [
    "data['timestamp'] = data[traj_cols['datetime']].astype(int) // 10**9"
   ]
  },
  {
   "cell_type": "markdown",
   "id": "066f35fd",
   "metadata": {},
   "source": [
    "### Project coordinates to Web Mercator"
   ]
  },
  {
   "cell_type": "code",
   "execution_count": null,
   "id": "4bda4b3a",
   "metadata": {
    "tags": []
   },
   "outputs": [],
   "source": [
    "data = filters.to_projection(data, x='x', y='y')"
   ]
  },
  {
   "cell_type": "markdown",
   "id": "3effec07",
   "metadata": {},
   "source": [
    "### Compute the q-statistic for the users in this sample"
   ]
  },
  {
   "cell_type": "code",
   "execution_count": null,
   "id": "2a8cd8a3",
   "metadata": {
    "tags": []
   },
   "outputs": [],
   "source": [
    "import pandas as pd\n",
    "import geopandas as gpd\n",
    "from shapely.geometry import Polygon, Point\n",
    "\n",
    "from pyspark.sql import SparkSession\n",
    "from pyspark.sql import SQLContext\n",
    "from pyspark.sql import functions as F\n",
    "from pyspark.sql.types import StructType, StructField, StringType, IntegerType, LongType, DoubleType\n",
    "\n",
    "\n",
    "# user can pass latitude and longitude as kwargs, user can pass x and y, OR traj_cols (prioritizing latitude, longitude). \n",
    "def to_projection(df: pd.DataFrame,\n",
    "                  latitude: str,\n",
    "                  longitude: str,\n",
    "                  from_crs: str = \"EPSG:4326\",\n",
    "                  to_crs: str = \"EPSG:3857\",\n",
    "                  spark_session: SparkSession = None):\n",
    "    \"\"\"\n",
    "    Projects latitude and longitude columns from one CRS to another.\n",
    "\n",
    "    Parameters\n",
    "    ----------\n",
    "    df : pd.DataFrame\n",
    "        Input DataFrame containing latitude and longitude columns.\n",
    "    latitude : str\n",
    "        Name of the latitude column.\n",
    "    longitude : str\n",
    "        Name of the longitude column.\n",
    "    from_crs : str, optional\n",
    "        EPSG code for the original CRS (default is \"EPSG:4326\").\n",
    "    to_crs : str, optional\n",
    "        EPSG code for the target CRS (default is \"EPSG:3857\").\n",
    "\n",
    "    Returns\n",
    "    -------\n",
    "    pd.DataFrame\n",
    "        DataFrame with new 'x' and 'y' columns representing projected coordinates.\n",
    "    \"\"\"\n",
    "    if spark_session:\n",
    "        pass\n",
    "\n",
    "    else:\n",
    "        if latitude not in df.columns or longitude not in df.columns:\n",
    "            raise ValueError(f\"Latitude or longitude columns '{latitude}', '{longitude}' not found in DataFrame.\")\n",
    "\n",
    "        proj_cols = _to_projection(df[latitude],\n",
    "                                   df[longitude],\n",
    "                                   from_crs,\n",
    "                                   to_crs)\n",
    "\n",
    "        df['x'] = proj_cols['x']\n",
    "        df['y'] = proj_cols['y']\n",
    "\n",
    "    return df\n",
    "\n",
    "\n",
    "def _to_projection(lat_col,\n",
    "                   long_col,\n",
    "                   from_crs: str,\n",
    "                   to_crs: str):\n",
    "    \"\"\"\n",
    "    Helper function to project latitude/longitude columns to a new CRS.\n",
    "    \"\"\"\n",
    "    gdf = gpd.GeoSeries(gpd.points_from_xy(long_col, lat_col),\n",
    "                        crs=from_crs)\n",
    "    projected = gdf.to_crs(to_crs)\n",
    "    output = pd.DataFrame({'x': projected.x, 'y': projected.y})\n",
    "\n",
    "    return output\n",
    "\n",
    "\n",
    "def filter_to_box(df: pd.DataFrame,\n",
    "                  latitude: str,\n",
    "                  longitude: str,\n",
    "                  polygon: Polygon,\n",
    "                  spark_session: SparkSession = None):\n",
    "    '''\n",
    "    Filters DataFrame to keep points within a specified polygon's bounds.\n",
    "\n",
    "    Parameters\n",
    "    ----------\n",
    "    df : pd.DataFrame\n",
    "        Input DataFrame with latitude and longitude columns.\n",
    "    polygon : shapely.geometry.Polygon\n",
    "        Polygon defining the area to retain points within.\n",
    "    latitude : str\n",
    "        Name of the latitude column.\n",
    "    longitude : str\n",
    "        Name of the longitude column.\n",
    "\n",
    "    Returns\n",
    "    -------\n",
    "    pd.DataFrame\n",
    "        Filtered DataFrame with points inside the polygon's bounds.\n",
    "    '''\n",
    "    if spark_session:\n",
    "        pass\n",
    "\n",
    "    else:\n",
    "        if not isinstance(polygon, Polygon):\n",
    "            raise TypeError(\"Polygon parameter must be a Shapely Polygon object.\")\n",
    "\n",
    "        if latitude not in df.columns or longitude not in df.columns:\n",
    "            raise ValueError(f\"Latitude or longitude columns '{latitude}', '{longitude}' not found in DataFrame.\")\n",
    "\n",
    "        min_x, min_y, max_x, max_y = polygon.bounds\n",
    "\n",
    "        # TO DO: handle different column names and/or defaults as in daphmeIO. i.e. traj_cols as parameter\n",
    "\n",
    "        return df[(df[longitude].between(min_y, max_y)) & (df[latitude].between(min_x, max_x))]\n",
    "\n",
    "\n",
    "def _filter_to_box_spark(df: pd.DataFrame,\n",
    "                         bounding_wkt: str,\n",
    "                         spark: SparkSession,\n",
    "                         longitude_col: str,\n",
    "                         latitude_col: str,\n",
    "                         id_col: str):\n",
    "    \"\"\"Filters a DataFrame based on whether geographical points\n",
    "    (defined by longitude and latitude) fall within a specified geometry.\n",
    "\n",
    "    Parameters\n",
    "    ----------\n",
    "    df : DataFrame\n",
    "        The Spark DataFrame to be filtered. It should contain columns\n",
    "        corresponding to longitude and latitude values, as well as an id column.\n",
    "\n",
    "    bounding_wkt : str\n",
    "        The Well-Known Text (WKT) string representing the bounding geometry\n",
    "        within which points are tested for inclusion. The WKT should define\n",
    "        a polygon in the EPSG:4326 coordinate reference system.\n",
    "\n",
    "    spark : SparkSession\n",
    "        The active SparkSession instance used to execute Spark operations.\n",
    "\n",
    "    longitude_col : str, default \"longitude\"\n",
    "        The name of the column in 'df' containing longitude values. Longitude\n",
    "        values should be in the EPSG:4326 coordinate reference system.\n",
    "\n",
    "    latitude_col : str, default \"latitude\"\n",
    "        The name of the column in 'df' containing latitude values. Latitude\n",
    "        values should be in the EPSG:4326 coordinate reference system.\n",
    "\n",
    "    id_col : str, default \"id\"\n",
    "        The name of the column in 'df' containing user IDs.\n",
    "\n",
    "    Returns\n",
    "    ----------\n",
    "    DataFrame\n",
    "        A new Spark DataFrame filtered to include only rows where the point\n",
    "        (longitude, latitude) falls within the specified geometric boundary\n",
    "        defined by 'bounding_wkt'. This DataFrame includes all original columns\n",
    "        from 'df' and an additional column 'in_geo' that is true if the point\n",
    "        falls within the specified geometric boundary and false otherwise.\n",
    "    \"\"\"\n",
    "\n",
    "    df = df.withColumn(\"coordinate\", F.expr(f\"ST_MakePoint({longitude_col}, {latitude_col})\"))\n",
    "    df.createOrReplaceTempView(\"temp_df\")\n",
    "\n",
    "    query = f\"\"\"\n",
    "        WITH temp_df AS (\n",
    "            SELECT *,\n",
    "                   ST_Contains(ST_GeomFromWKT('{bounding_wkt}'), coordinate) AS in_geo\n",
    "            FROM temp_df\n",
    "        ),\n",
    "\n",
    "        UniqueIDs AS (\n",
    "            SELECT DISTINCT {id_col} \n",
    "            FROM temp_df\n",
    "            WHERE in_geo\n",
    "        )\n",
    "\n",
    "        SELECT t.*\n",
    "        FROM temp_df t\n",
    "        WHERE t.{id_col} IN (SELECT {id_col} FROM UniqueIDs)\n",
    "        \"\"\"\n",
    "\n",
    "    return spark.sql(query)\n",
    "\n",
    "\n",
    "def coarse_filter(df: pd.DataFrame):\n",
    "    pass\n",
    "\n",
    "\n",
    "def _filtered_users(df: pd.DataFrame,\n",
    "                    k: int,\n",
    "                    T0: str,\n",
    "                    T1: str,\n",
    "                    polygon: Polygon,\n",
    "                    user_col: str,\n",
    "                    timestamp_col: str,\n",
    "                    latitude_col: str,\n",
    "                    longitude_col: str) -> pd.DataFrame:\n",
    "    \"\"\"\n",
    "    Subsets to users who have at least k distinct days with pings in the polygon \n",
    "    within the timeframe T0 to T1.\n",
    "\n",
    "    Parameters\n",
    "    ----------\n",
    "    df : pd.DataFrame\n",
    "        The input DataFrame containing user data with latitude, longitude, and timestamp.\n",
    "    k : int\n",
    "        Minimum number of distinct days with pings inside the polygon for the user to be retained.\n",
    "    T0 : str\n",
    "        Start of the timeframe (as a string, or datetime).\n",
    "    T1 : str\n",
    "        End of the timeframe (as a string, or datetime).\n",
    "    polygon : Polygon\n",
    "        The polygon to check whether pings are inside.\n",
    "    user_col : str\n",
    "        Name of the column containing user identifiers.\n",
    "    timestamp_col : str\n",
    "        Name of the column containing timestamps (as strings or datetime).\n",
    "    latitude : str\n",
    "        Name of the column containing latitude values.\n",
    "    longitude : str\n",
    "        Name of the column containing longitude values.\n",
    "\n",
    "    Returns\n",
    "    -------\n",
    "    pd.Series\n",
    "        A Series containing the user IDs for users who have at \n",
    "        least k distinct days with pings inside the polygon.\n",
    "    \"\"\"\n",
    "    df[timestamp_col] = pd.to_datetime(df[timestamp_col])\n",
    "    df_filtered = df[(df[timestamp_col] >= T0) & (df[timestamp_col] <= T1)]\n",
    "    df_filtered = _in_geo(df_filtered, latitude_col, longitude_col, polygon)\n",
    "    df_filtered['date'] = df_filtered[timestamp_col].dt.date\n",
    "\n",
    "    filtered_users = (\n",
    "        df_filtered[df_filtered['in_geo'] == 1]\n",
    "        .groupby(user_col)['date']\n",
    "        .nunique()\n",
    "        .reset_index()\n",
    "    )\n",
    "\n",
    "    filtered_users = filtered_users[filtered_users['date'] >= k][user_col]\n",
    "\n",
    "    return filtered_users\n",
    "\n",
    "\n",
    "def _in_geo(df: pd.DataFrame,\n",
    "            latitude_col: str,\n",
    "            longitude_col: str,\n",
    "            polygon: Polygon) -> pd.DataFrame:\n",
    "    \"\"\"\n",
    "    Adds a new column to the DataFrame indicating whether points are \n",
    "    inside the polygon (1) or not (0).\n",
    "    \"\"\"\n",
    "\n",
    "    def _point_in_polygon(lat, lon):\n",
    "        point = Point(lat, lon)\n",
    "        return 1 if polygon.contains(point) else 0\n",
    "\n",
    "    df['in_geo'] = df.apply(lambda row: _point_in_polygon(row[latitude_col], row[longitude_col]), axis=1)\n",
    "\n",
    "    return df\n",
    "\n",
    "\n",
    "def q_filter(df: pd.DataFrame,\n",
    "             qbar: float,\n",
    "             user_col: str,\n",
    "             timestamp_col: str):\n",
    "    \"\"\"\n",
    "    Computes the q statistic for each user as the proportion of unique hours with pings \n",
    "    over the total observed hours (last hour - first hour) and filters users where q > qbar.\n",
    "\n",
    "    Parameters\n",
    "    ----------\n",
    "    df : pd.DataFrame\n",
    "        A DataFrame containing user IDs and timestamps.\n",
    "    user_col : str\n",
    "        The name of the column containing user IDs.\n",
    "    timestamp_col : str\n",
    "        The name of the column containing timestamps.\n",
    "    qbar : float\n",
    "        The threshold q value; users with q > qbar will be retained.\n",
    "\n",
    "    Returns\n",
    "    -------\n",
    "    pd.Series\n",
    "        A Series containing the user IDs for users whose q_stat > qbar.\n",
    "    \"\"\"\n",
    "    df[timestamp_col] = pd.to_datetime(df[timestamp_col])\n",
    "\n",
    "    user_q_stats = df.groupby(user_col).apply(\n",
    "        lambda group: _compute_q_stat(group, timestamp_col)\n",
    "    ).reset_index(name='q_stat')\n",
    "\n",
    "    # Filter users where q > qbar\n",
    "    filtered_users = user_q_stats[user_q_stats['q_stat'] > qbar][user_col]\n",
    "\n",
    "    return filtered_users\n",
    "\n",
    "def q_stats(df: pd.DataFrame, user_id: str, timestamp: str):\n",
    "    \"\"\"\n",
    "    Computes the q statistic for each user as the proportion of unique hours with pings \n",
    "    over the total observed hours (last hour - first hour).\n",
    "\n",
    "    Parameters\n",
    "    ----------\n",
    "    df : pd.DataFrame\n",
    "        A DataFrame containing user IDs and timestamps.\n",
    "    user_id : str\n",
    "        The name of the column containing user IDs.\n",
    "    timestamp_col : str\n",
    "        The name of the column containing timestamps.\n",
    "\n",
    "    Returns\n",
    "    -------\n",
    "    pd.DataFrame\n",
    "        A DataFrame containing each user and their respective q_stat.\n",
    "    \"\"\"\n",
    "    datetime = pd.to_datetime(df[timestamp])\n",
    "\n",
    "    q_stats = df.groupby(user_id).apply(\n",
    "        lambda group: _compute_q_stat(group, datetime)\n",
    "    ).reset_index(name='q_stat')\n",
    "\n",
    "    return q_stats\n",
    "\n",
    "\n",
    "def _compute_q_stat(user, datetime):\n",
    "    date_hour = datetime.dt.to_period('h')\n",
    "    unique_hours = date_hour.nunique()\n",
    "\n",
    "    # Calculate total observed hours (difference between last and first hour)\n",
    "    first_hour = date_hour.min()\n",
    "    last_hour = date_hour.max()\n",
    "    # maybe it should be + 1 hour\n",
    "    total_hours = (last_hour - first_hour).total_seconds() / 3600\n",
    "\n",
    "    # Compute q as the proportion of unique hours to total hours\n",
    "    q_stat = unique_hours / total_hours if total_hours > 0 else 0\n",
    "    if q_stat>1:\n",
    "        pdb.set_trace()\n",
    "    return q_stat"
   ]
  },
  {
   "cell_type": "code",
   "execution_count": null,
   "id": "352dae5c",
   "metadata": {
    "tags": []
   },
   "outputs": [],
   "source": [
    "q = q_stats(data, user_id= traj_cols['user_id'], timestamp= traj_cols['timestamp'])"
   ]
  },
  {
   "cell_type": "code",
   "execution_count": null,
   "id": "13e1382e",
   "metadata": {
    "tags": []
   },
   "outputs": [],
   "source": [
    "# Plotting the histogram\n",
    "\n",
    "plt.figure(figsize=(4, 3))\n",
    "plt.hist(q_stats['q_stat'], bins=20, edgecolor='black')\n",
    "plt.xlabel('Q Statistic')\n",
    "plt.ylabel('Frequency')\n",
    "plt.grid(axis='y', linestyle='--', alpha=0.7)\n",
    "plt.tight_layout()\n",
    "\n",
    "plt.show()"
   ]
  }
 ],
 "metadata": {
  "kernelspec": {
   "display_name": "Python 3 (ipykernel)",
   "language": "python",
   "name": "python3"
  },
  "language_info": {
   "codemirror_mode": {
    "name": "ipython",
    "version": 3
   },
   "file_extension": ".py",
   "mimetype": "text/x-python",
   "name": "python",
   "nbconvert_exporter": "python",
   "pygments_lexer": "ipython3",
   "version": "3.13.0"
  },
  "nbdime-conflicts": {
   "local_diff": [
    {
     "diff": [
      {
       "diff": [
        {
         "key": 0,
         "op": "addrange",
         "valuelist": [
          "conda_py_310_env"
         ]
        },
        {
         "key": 0,
         "length": 1,
         "op": "removerange"
        }
       ],
       "key": "display_name",
       "op": "patch"
      },
      {
       "diff": [
        {
         "key": 0,
         "op": "addrange",
         "valuelist": [
          "conda_py_310_env"
         ]
        },
        {
         "key": 0,
         "length": 1,
         "op": "removerange"
        }
       ],
       "key": "name",
       "op": "patch"
      }
     ],
     "key": "kernelspec",
     "op": "patch"
    },
    {
     "diff": [
      {
       "diff": [
        {
         "diff": [
          {
           "key": 5,
           "op": "addrange",
           "valuelist": "6"
          },
          {
           "key": 5,
           "length": 2,
           "op": "removerange"
          }
         ],
         "key": 0,
         "op": "patch"
        }
       ],
       "key": "version",
       "op": "patch"
      }
     ],
     "key": "language_info",
     "op": "patch"
    }
   ],
   "remote_diff": [
    {
     "diff": [
      {
       "diff": [
        {
         "key": 0,
         "op": "addrange",
         "valuelist": [
          "Python 3 (ipykernel)"
         ]
        },
        {
         "key": 0,
         "length": 1,
         "op": "removerange"
        }
       ],
       "key": "display_name",
       "op": "patch"
      },
      {
       "diff": [
        {
         "key": 0,
         "op": "addrange",
         "valuelist": [
          "python3"
         ]
        },
        {
         "key": 0,
         "length": 1,
         "op": "removerange"
        }
       ],
       "key": "name",
       "op": "patch"
      }
     ],
     "key": "kernelspec",
     "op": "patch"
    },
    {
     "diff": [
      {
       "diff": [
        {
         "key": 0,
         "length": 1,
         "op": "removerange"
        }
       ],
       "key": "version",
       "op": "patch"
      }
     ],
     "key": "language_info",
     "op": "patch"
    }
   ]
  }
 },
 "nbformat": 4,
 "nbformat_minor": 5
}

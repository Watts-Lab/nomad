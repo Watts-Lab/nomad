{
 "cells": [
  {
   "cell_type": "markdown",
   "id": "d0f6a437-fe6f-422f-903e-35fee48a5eeb",
   "metadata": {},
   "source": [
    "# Tutorial 2: Stop detection in trajectories"
   ]
  },
  {
   "cell_type": "markdown",
   "id": "0318baed-0d36-45ba-95ba-cd00731b4de8",
   "metadata": {},
   "source": [
    "This notebook shows how to process device-level trajectory data, in different formats, to detect stops using ```nomad```. Stop detection is an important step in pre-processing trajectory data and in making sense of trajectories by grouping together pings that reflect stationary behavior. The output of stop-detection algorithms is commonly a \"stop table\", indicating when a stop started, its duration, and a pair of coordinates that approximates the location of the group of pings (typically the centroid). Alternatively, ```nomad``` allows users to retrieve a cluster label for each ping (useful for plotting, for example)."
   ]
  },
  {
   "cell_type": "code",
   "execution_count": 1,
   "id": "a7aee58a-fe67-42fe-89fa-68e7f9535e1a",
   "metadata": {},
   "outputs": [],
   "source": [
    "import pandas as pd\n",
    "import numpy as np\n",
    "import geopandas as gpd\n",
    "import matplotlib.pyplot as plt\n",
    "import matplotlib.colors as mcolors"
   ]
  },
  {
   "cell_type": "code",
   "execution_count": 2,
   "id": "9e1b64f0-e62c-45f6-983b-e1fd56f3f6d0",
   "metadata": {},
   "outputs": [],
   "source": [
    "import nomad.io.base as loader\n",
    "import nomad.constants as constants\n",
    "import nomad.stop_detection.ta_dbscan as DBSCAN\n",
    "import nomad.stop_detection.lachesis as Lachesis\n",
    "import nomad.filters as filters\n",
    "import nomad.city_gen as cg"
   ]
  },
  {
   "cell_type": "markdown",
   "id": "2531f9bd-7243-4c3f-a5af-481600efe0f3",
   "metadata": {},
   "source": [
    "## Load data sample"
   ]
  },
  {
   "cell_type": "markdown",
   "id": "9777b795-37c1-414d-bb8c-0d5eeee87543",
   "metadata": {},
   "source": [
    "For these examples we load some test data from ```nomad``` which has the following trajectory columns. Defining this dictionary beforehands makes the handling of parameters more concise and helps the algorithms know which columns to use. "
   ]
  },
  {
   "cell_type": "code",
   "execution_count": 3,
   "id": "fb190bef-d668-490e-809b-de42196b5850",
   "metadata": {},
   "outputs": [],
   "source": [
    "traj_cols = {'user_id':'uid',\n",
    "             'datetime':'local_datetime',\n",
    "             'latitude':'latitude',\n",
    "             'longitude':'longitude'}\n",
    "\n",
    "data = loader.from_file(\"../nomad/data/gc_sample.csv\")"
   ]
  },
  {
   "cell_type": "code",
   "execution_count": 4,
   "id": "a6724c20-f45b-4c2d-be1e-3a03a473a84e",
   "metadata": {},
   "outputs": [
    {
     "data": {
      "text/html": [
       "<div>\n",
       "<style scoped>\n",
       "    .dataframe tbody tr th:only-of-type {\n",
       "        vertical-align: middle;\n",
       "    }\n",
       "\n",
       "    .dataframe tbody tr th {\n",
       "        vertical-align: top;\n",
       "    }\n",
       "\n",
       "    .dataframe thead th {\n",
       "        text-align: right;\n",
       "    }\n",
       "</style>\n",
       "<table border=\"1\" class=\"dataframe\">\n",
       "  <thead>\n",
       "    <tr style=\"text-align: right;\">\n",
       "      <th></th>\n",
       "      <th>uid</th>\n",
       "      <th>timestamp</th>\n",
       "      <th>tz_offset</th>\n",
       "      <th>longitude</th>\n",
       "      <th>latitude</th>\n",
       "    </tr>\n",
       "  </thead>\n",
       "  <tbody>\n",
       "    <tr>\n",
       "      <th>0</th>\n",
       "      <td>wizardly_joliot</td>\n",
       "      <td>1704120060</td>\n",
       "      <td>-18000</td>\n",
       "      <td>38.321669</td>\n",
       "      <td>-36.667588</td>\n",
       "    </tr>\n",
       "    <tr>\n",
       "      <th>1</th>\n",
       "      <td>wizardly_joliot</td>\n",
       "      <td>1704122760</td>\n",
       "      <td>-18000</td>\n",
       "      <td>38.321849</td>\n",
       "      <td>-36.667467</td>\n",
       "    </tr>\n",
       "    <tr>\n",
       "      <th>2</th>\n",
       "      <td>wizardly_joliot</td>\n",
       "      <td>1704124380</td>\n",
       "      <td>-18000</td>\n",
       "      <td>38.321752</td>\n",
       "      <td>-36.667464</td>\n",
       "    </tr>\n",
       "    <tr>\n",
       "      <th>3</th>\n",
       "      <td>wizardly_joliot</td>\n",
       "      <td>1704137280</td>\n",
       "      <td>-18000</td>\n",
       "      <td>38.321629</td>\n",
       "      <td>-36.667374</td>\n",
       "    </tr>\n",
       "    <tr>\n",
       "      <th>4</th>\n",
       "      <td>wizardly_joliot</td>\n",
       "      <td>1704138780</td>\n",
       "      <td>-18000</td>\n",
       "      <td>38.321636</td>\n",
       "      <td>-36.667238</td>\n",
       "    </tr>\n",
       "  </tbody>\n",
       "</table>\n",
       "</div>"
      ],
      "text/plain": [
       "               uid   timestamp  tz_offset  longitude   latitude\n",
       "0  wizardly_joliot  1704120060     -18000  38.321669 -36.667588\n",
       "1  wizardly_joliot  1704122760     -18000  38.321849 -36.667467\n",
       "2  wizardly_joliot  1704124380     -18000  38.321752 -36.667464\n",
       "3  wizardly_joliot  1704137280     -18000  38.321629 -36.667374\n",
       "4  wizardly_joliot  1704138780     -18000  38.321636 -36.667238"
      ]
     },
     "execution_count": 4,
     "metadata": {},
     "output_type": "execute_result"
    }
   ],
   "source": [
    "data.head()"
   ]
  },
  {
   "cell_type": "markdown",
   "id": "66c452e9-d32d-4388-86bb-1eeef4c42c83",
   "metadata": {},
   "source": [
    "This synthetic data has records for 100 users for a 1 week period, with spherical coordinates (lat, lon) and datetime format for the time component of each ping. "
   ]
  },
  {
   "cell_type": "markdown",
   "id": "e962ae81-874a-4b54-8574-d782148aa345",
   "metadata": {},
   "source": [
    "### Additional columns \n",
    "\n",
    "Nomad allows a degree of flexibility on the input trajectory data used for stop detection (and other algorithms), including common cases like datetime64[ns] formats for the time variable, ISO8601 string formats, or a pandas series with pandas.Timestamp objects. Similarly, it is often the case (and it can speed up stop-detection algorithms) that trajectory data has non-spherical coordinates with units in meters. These are useful for local analyses so that Euclidean distance can be used. \n",
    "\n",
    "To demonstrate this flexibility, we create some of these columns with alternative formats. "
   ]
  },
  {
   "cell_type": "code",
   "execution_count": 5,
   "id": "52019eb1-f51a-45e2-b453-1170fc968a9e",
   "metadata": {},
   "outputs": [
    {
     "data": {
      "text/html": [
       "<div>\n",
       "<style scoped>\n",
       "    .dataframe tbody tr th:only-of-type {\n",
       "        vertical-align: middle;\n",
       "    }\n",
       "\n",
       "    .dataframe tbody tr th {\n",
       "        vertical-align: top;\n",
       "    }\n",
       "\n",
       "    .dataframe thead th {\n",
       "        text-align: right;\n",
       "    }\n",
       "</style>\n",
       "<table border=\"1\" class=\"dataframe\">\n",
       "  <thead>\n",
       "    <tr style=\"text-align: right;\">\n",
       "      <th></th>\n",
       "      <th>uid</th>\n",
       "      <th>timestamp</th>\n",
       "      <th>tz_offset</th>\n",
       "      <th>longitude</th>\n",
       "      <th>latitude</th>\n",
       "      <th>local_datetime</th>\n",
       "      <th>x</th>\n",
       "      <th>y</th>\n",
       "    </tr>\n",
       "  </thead>\n",
       "  <tbody>\n",
       "    <tr>\n",
       "      <th>24660</th>\n",
       "      <td>practical_bardeen</td>\n",
       "      <td>1704241620</td>\n",
       "      <td>3600</td>\n",
       "      <td>38.320422</td>\n",
       "      <td>-36.666813</td>\n",
       "      <td>2024-01-03 00:27:00+00:00</td>\n",
       "      <td>4.265810e+06</td>\n",
       "      <td>-4.392766e+06</td>\n",
       "    </tr>\n",
       "    <tr>\n",
       "      <th>8703</th>\n",
       "      <td>gracious_babbage</td>\n",
       "      <td>1704681420</td>\n",
       "      <td>0</td>\n",
       "      <td>38.320747</td>\n",
       "      <td>-36.667509</td>\n",
       "      <td>2024-01-08 02:37:00+00:00</td>\n",
       "      <td>4.265846e+06</td>\n",
       "      <td>-4.392863e+06</td>\n",
       "    </tr>\n",
       "    <tr>\n",
       "      <th>16614</th>\n",
       "      <td>zen_colden</td>\n",
       "      <td>1705103160</td>\n",
       "      <td>0</td>\n",
       "      <td>38.320385</td>\n",
       "      <td>-36.666226</td>\n",
       "      <td>2024-01-12 23:46:00+00:00</td>\n",
       "      <td>4.265806e+06</td>\n",
       "      <td>-4.392685e+06</td>\n",
       "    </tr>\n",
       "    <tr>\n",
       "      <th>8818</th>\n",
       "      <td>gracious_babbage</td>\n",
       "      <td>1704879420</td>\n",
       "      <td>0</td>\n",
       "      <td>38.321362</td>\n",
       "      <td>-36.666894</td>\n",
       "      <td>2024-01-10 09:37:00+00:00</td>\n",
       "      <td>4.265914e+06</td>\n",
       "      <td>-4.392777e+06</td>\n",
       "    </tr>\n",
       "    <tr>\n",
       "      <th>16077</th>\n",
       "      <td>trusting_zhukovsky</td>\n",
       "      <td>1705027560</td>\n",
       "      <td>0</td>\n",
       "      <td>38.320360</td>\n",
       "      <td>-36.667376</td>\n",
       "      <td>2024-01-12 02:46:00+00:00</td>\n",
       "      <td>4.265803e+06</td>\n",
       "      <td>-4.392844e+06</td>\n",
       "    </tr>\n",
       "  </tbody>\n",
       "</table>\n",
       "</div>"
      ],
      "text/plain": [
       "                      uid   timestamp  tz_offset  longitude   latitude  \\\n",
       "24660   practical_bardeen  1704241620       3600  38.320422 -36.666813   \n",
       "8703     gracious_babbage  1704681420          0  38.320747 -36.667509   \n",
       "16614          zen_colden  1705103160          0  38.320385 -36.666226   \n",
       "8818     gracious_babbage  1704879420          0  38.321362 -36.666894   \n",
       "16077  trusting_zhukovsky  1705027560          0  38.320360 -36.667376   \n",
       "\n",
       "                 local_datetime             x             y  \n",
       "24660 2024-01-03 00:27:00+00:00  4.265810e+06 -4.392766e+06  \n",
       "8703  2024-01-08 02:37:00+00:00  4.265846e+06 -4.392863e+06  \n",
       "16614 2024-01-12 23:46:00+00:00  4.265806e+06 -4.392685e+06  \n",
       "8818  2024-01-10 09:37:00+00:00  4.265914e+06 -4.392777e+06  \n",
       "16077 2024-01-12 02:46:00+00:00  4.265803e+06 -4.392844e+06  "
      ]
     },
     "execution_count": 5,
     "metadata": {},
     "output_type": "execute_result"
    }
   ],
   "source": [
    "# We create a time offset column with different UTC offsets (in seconds)\n",
    "data['tz_offset'] = 0\n",
    "data.loc[data.index[:5000],'tz_offset'] = -7200\n",
    "data.loc[data.index[-5000:], 'tz_offset'] = 3600\n",
    "\n",
    "# create datetime column as a string\n",
    "data['local_datetime'] = loader._unix_offset_to_str(data.timestamp, data.tz_offset)\n",
    "data['local_datetime'] = pd.to_datetime(data['local_datetime'], utc=True)\n",
    "\n",
    "# create x, y columns in web mercator\n",
    "gdf = gpd.GeoSeries(gpd.points_from_xy(data.longitude, data.latitude),\n",
    "                        crs=\"EPSG:4326\")\n",
    "projected = gdf.to_crs(\"EPSG:3857\")\n",
    "data['x'] = projected.x\n",
    "data['y'] = projected.y\n",
    "\n",
    "data.sample(5)"
   ]
  },
  {
   "cell_type": "markdown",
   "id": "8198be43-9fe4-41a5-b447-452331c413a2",
   "metadata": {},
   "source": [
    "## Stop detection algorithms"
   ]
  },
  {
   "cell_type": "markdown",
   "id": "e8652b4d-ab9a-485b-898f-c52601051329",
   "metadata": {},
   "source": [
    "The stop detection algorithms in ```nomad``` are applied to each user's trajectories separately. Thus, we demonstrate first by sampling a single user's data."
   ]
  },
  {
   "cell_type": "code",
   "execution_count": 6,
   "id": "a9e4e7f2-b9b5-4af9-b2e5-bc38e46a90b6",
   "metadata": {},
   "outputs": [
    {
     "data": {
      "text/html": [
       "<div>\n",
       "<style scoped>\n",
       "    .dataframe tbody tr th:only-of-type {\n",
       "        vertical-align: middle;\n",
       "    }\n",
       "\n",
       "    .dataframe tbody tr th {\n",
       "        vertical-align: top;\n",
       "    }\n",
       "\n",
       "    .dataframe thead th {\n",
       "        text-align: right;\n",
       "    }\n",
       "</style>\n",
       "<table border=\"1\" class=\"dataframe\">\n",
       "  <thead>\n",
       "    <tr style=\"text-align: right;\">\n",
       "      <th></th>\n",
       "      <th>uid</th>\n",
       "      <th>timestamp</th>\n",
       "      <th>tz_offset</th>\n",
       "      <th>longitude</th>\n",
       "      <th>latitude</th>\n",
       "      <th>local_datetime</th>\n",
       "      <th>x</th>\n",
       "      <th>y</th>\n",
       "    </tr>\n",
       "  </thead>\n",
       "  <tbody>\n",
       "    <tr>\n",
       "      <th>26671</th>\n",
       "      <td>angry_spence</td>\n",
       "      <td>1704134400</td>\n",
       "      <td>3600</td>\n",
       "      <td>38.319689</td>\n",
       "      <td>-36.666519</td>\n",
       "      <td>2024-01-01 18:40:00+00:00</td>\n",
       "      <td>4.265728e+06</td>\n",
       "      <td>-4.392725e+06</td>\n",
       "    </tr>\n",
       "    <tr>\n",
       "      <th>26672</th>\n",
       "      <td>angry_spence</td>\n",
       "      <td>1704134940</td>\n",
       "      <td>3600</td>\n",
       "      <td>38.320818</td>\n",
       "      <td>-36.666667</td>\n",
       "      <td>2024-01-01 18:49:00+00:00</td>\n",
       "      <td>4.265854e+06</td>\n",
       "      <td>-4.392746e+06</td>\n",
       "    </tr>\n",
       "    <tr>\n",
       "      <th>26673</th>\n",
       "      <td>angry_spence</td>\n",
       "      <td>1704135120</td>\n",
       "      <td>3600</td>\n",
       "      <td>38.321011</td>\n",
       "      <td>-36.667160</td>\n",
       "      <td>2024-01-01 18:52:00+00:00</td>\n",
       "      <td>4.265875e+06</td>\n",
       "      <td>-4.392814e+06</td>\n",
       "    </tr>\n",
       "    <tr>\n",
       "      <th>26674</th>\n",
       "      <td>angry_spence</td>\n",
       "      <td>1704135240</td>\n",
       "      <td>3600</td>\n",
       "      <td>38.320896</td>\n",
       "      <td>-36.667068</td>\n",
       "      <td>2024-01-01 18:54:00+00:00</td>\n",
       "      <td>4.265863e+06</td>\n",
       "      <td>-4.392801e+06</td>\n",
       "    </tr>\n",
       "    <tr>\n",
       "      <th>26675</th>\n",
       "      <td>angry_spence</td>\n",
       "      <td>1704136680</td>\n",
       "      <td>3600</td>\n",
       "      <td>38.320032</td>\n",
       "      <td>-36.666490</td>\n",
       "      <td>2024-01-01 19:18:00+00:00</td>\n",
       "      <td>4.265766e+06</td>\n",
       "      <td>-4.392721e+06</td>\n",
       "    </tr>\n",
       "  </tbody>\n",
       "</table>\n",
       "</div>"
      ],
      "text/plain": [
       "                uid   timestamp  tz_offset  longitude   latitude  \\\n",
       "26671  angry_spence  1704134400       3600  38.319689 -36.666519   \n",
       "26672  angry_spence  1704134940       3600  38.320818 -36.666667   \n",
       "26673  angry_spence  1704135120       3600  38.321011 -36.667160   \n",
       "26674  angry_spence  1704135240       3600  38.320896 -36.667068   \n",
       "26675  angry_spence  1704136680       3600  38.320032 -36.666490   \n",
       "\n",
       "                 local_datetime             x             y  \n",
       "26671 2024-01-01 18:40:00+00:00  4.265728e+06 -4.392725e+06  \n",
       "26672 2024-01-01 18:49:00+00:00  4.265854e+06 -4.392746e+06  \n",
       "26673 2024-01-01 18:52:00+00:00  4.265875e+06 -4.392814e+06  \n",
       "26674 2024-01-01 18:54:00+00:00  4.265863e+06 -4.392801e+06  \n",
       "26675 2024-01-01 19:18:00+00:00  4.265766e+06 -4.392721e+06  "
      ]
     },
     "execution_count": 6,
     "metadata": {},
     "output_type": "execute_result"
    }
   ],
   "source": [
    "user_sample = data.loc[data.uid == \"angry_spence\"]\n",
    "user_sample.head()"
   ]
  },
  {
   "cell_type": "markdown",
   "id": "7fe083e7-a972-439c-8c66-054c2e8974a9",
   "metadata": {},
   "source": [
    "For this user, the trajectory data has 1696 rows (pings) and covers a period of 15 days (start date: 2024-01-01, end date: 2024-01-15). We can visualize this trajectory below:"
   ]
  },
  {
   "cell_type": "code",
   "execution_count": 7,
   "id": "1e9b1bc6-def6-4dbe-8d47-3be72ff4ab1f",
   "metadata": {},
   "outputs": [
    {
     "data": {
      "image/png": "[encoded data removed]",
      "text/plain": [
       "<Figure size 600x600 with 1 Axes>"
      ]
     },
     "metadata": {},
     "output_type": "display_data"
    }
   ],
   "source": [
    "%matplotlib inline\n",
    "\n",
    "plot_df = user_sample.copy()\n",
    "#transformer = Transformer.from_crs(\"EPSG:4326\", \"EPSG:3857\", always_xy=True)\n",
    "#plot_df['x'], plot_df['y'] = transformer.transform(plot_df['latitude'].values, plot_df['longitude'].values)\n",
    "plot_df['x'] = (plot_df['x'] - 4265699)/15\n",
    "plot_df['y'] = (plot_df['y'] + 4392976)/15\n",
    "\n",
    "fig, ax = plt.subplots(figsize=(6, 6))\n",
    "plt.box(on=False)\n",
    "\n",
    "# Plotting Pings\n",
    "ax.scatter(x=plot_df['x'], \n",
    "           y=plot_df['y'],\n",
    "           s=6,\n",
    "           color='black',\n",
    "           alpha=1,\n",
    "           zorder=2)\n",
    "\n",
    "# Plotting Garden City Map\n",
    "city = cg.load('garden-city.pkl')\n",
    "city.plot_city(ax, doors=True, address=False)\n",
    "\n",
    "ax.set_yticklabels([])\n",
    "ax.set_xticklabels([])\n",
    "ax.set_xticks([])\n",
    "ax.set_yticks([])\n",
    "\n",
    "plt.tight_layout()\n",
    "plt.show()"
   ]
  },
  {
   "cell_type": "markdown",
   "id": "3bb39def-756f-4573-9e6d-5401662a9e3c",
   "metadata": {},
   "source": [
    "### Sequential stop detection"
   ]
  },
  {
   "cell_type": "markdown",
   "id": "4046dd82-7fde-4c8e-99ca-cf1ad530269d",
   "metadata": {},
   "source": [
    "The first stop detection algorithm implemented in ```nomad``` is a sequential algorithm insipired by the one in _Project Lachesis: Parsing and Modeling Location Histories_ (Hariharan & Toyama). This algorithm for extracting stays is dependent on two parameters: the roaming distance and the stay duration. \n",
    "\n",
    "* Roaming distance represents the maximum distance an object can move away from a point location and still be considered to be staying at that location.\n",
    "* Stop duration is the minimum amount of time an object must spend within the roaming distance of a location to qualify as a stop.\n",
    "\n",
    "The algorithm identifies stops as contiguous sequences of pings that stay within the roaming distance for at least the duration of the stop duration."
   ]
  },
  {
   "cell_type": "markdown",
   "id": "2f79a496-c726-48e0-8c2b-904fc45e7861",
   "metadata": {},
   "source": [
    "<div style=\"text-align: center;\">\n",
    "    <img src=\"lachesis_algo.png\" alt=\"Lachesis Algorithm\" title=\"Lachesis Algorithm\" width=\"500\">\n",
    "</div>"
   ]
  },
  {
   "cell_type": "markdown",
   "id": "61b5657f-2de6-45eb-9d29-486fd3104091",
   "metadata": {},
   "source": [
    "This algorithm has the following parameters, which determine the size of the resulting stops:\n",
    "* ```dur_min```: Minimum duration for a stay in minutes.\n",
    "* ```dt_max```: Maximum time gap permitted between consecutive pings in a stay in minutes (dt_max should be greater than dur_min).\n",
    "* ```delta_roam```: Maximum roaming distance for a stay in meters."
   ]
  },
  {
   "cell_type": "code",
   "execution_count": 8,
   "id": "0be623a7-4490-42cd-9817-e8fd62ea05e1",
   "metadata": {},
   "outputs": [],
   "source": [
    "DUR_MIN = 60\n",
    "DT_MAX = 120\n",
    "DELTA_ROAM = 50"
   ]
  },
  {
   "cell_type": "markdown",
   "id": "0235d164-8c86-49cd-88cc-17b8dc60b1c9",
   "metadata": {},
   "source": [
    "The Lachesis algorithm can output a complete table of attributes for identified stops, including the start time, end time, the medoid coordinates, duration, number of pings in the stop, and diameter."
   ]
  },
  {
   "cell_type": "code",
   "execution_count": 25,
   "id": "5d5054f0-efa5-416e-bcda-2f5c589dbbcf",
   "metadata": {
    "scrolled": true
   },
   "outputs": [
    {
     "data": {
      "text/html": [
       "<div>\n",
       "<style scoped>\n",
       "    .dataframe tbody tr th:only-of-type {\n",
       "        vertical-align: middle;\n",
       "    }\n",
       "\n",
       "    .dataframe tbody tr th {\n",
       "        vertical-align: top;\n",
       "    }\n",
       "\n",
       "    .dataframe thead th {\n",
       "        text-align: right;\n",
       "    }\n",
       "</style>\n",
       "<table border=\"1\" class=\"dataframe\">\n",
       "  <thead>\n",
       "    <tr style=\"text-align: right;\">\n",
       "      <th></th>\n",
       "      <th>start_datetime</th>\n",
       "      <th>end_datetime</th>\n",
       "      <th>duration</th>\n",
       "      <th>longitude</th>\n",
       "      <th>latitude</th>\n",
       "      <th>diameter</th>\n",
       "      <th>n_pings</th>\n",
       "      <th>max_gap</th>\n",
       "    </tr>\n",
       "  </thead>\n",
       "  <tbody>\n",
       "    <tr>\n",
       "      <th>0</th>\n",
       "      <td>2024-01-02 20:51:00+00:00</td>\n",
       "      <td>2024-01-02 22:47:00+00:00</td>\n",
       "      <td>116</td>\n",
       "      <td>38.321558</td>\n",
       "      <td>-36.667720</td>\n",
       "      <td>37.554505</td>\n",
       "      <td>16</td>\n",
       "      <td>22</td>\n",
       "    </tr>\n",
       "    <tr>\n",
       "      <th>1</th>\n",
       "      <td>2024-01-03 19:28:00+00:00</td>\n",
       "      <td>2024-01-03 21:53:00+00:00</td>\n",
       "      <td>145</td>\n",
       "      <td>38.320041</td>\n",
       "      <td>-36.667232</td>\n",
       "      <td>28.341571</td>\n",
       "      <td>9</td>\n",
       "      <td>36</td>\n",
       "    </tr>\n",
       "    <tr>\n",
       "      <th>2</th>\n",
       "      <td>2024-01-04 02:28:00+00:00</td>\n",
       "      <td>2024-01-04 05:42:00+00:00</td>\n",
       "      <td>194</td>\n",
       "      <td>38.320556</td>\n",
       "      <td>-36.666760</td>\n",
       "      <td>22.762917</td>\n",
       "      <td>10</td>\n",
       "      <td>62</td>\n",
       "    </tr>\n",
       "    <tr>\n",
       "      <th>3</th>\n",
       "      <td>2024-01-04 09:03:00+00:00</td>\n",
       "      <td>2024-01-04 11:21:00+00:00</td>\n",
       "      <td>138</td>\n",
       "      <td>38.321323</td>\n",
       "      <td>-36.667497</td>\n",
       "      <td>23.390699</td>\n",
       "      <td>6</td>\n",
       "      <td>46</td>\n",
       "    </tr>\n",
       "    <tr>\n",
       "      <th>4</th>\n",
       "      <td>2024-01-07 03:03:00+00:00</td>\n",
       "      <td>2024-01-07 04:35:00+00:00</td>\n",
       "      <td>92</td>\n",
       "      <td>38.321410</td>\n",
       "      <td>-36.666945</td>\n",
       "      <td>19.843035</td>\n",
       "      <td>10</td>\n",
       "      <td>25</td>\n",
       "    </tr>\n",
       "  </tbody>\n",
       "</table>\n",
       "</div>"
      ],
      "text/plain": [
       "             start_datetime              end_datetime  duration  longitude  \\\n",
       "0 2024-01-02 20:51:00+00:00 2024-01-02 22:47:00+00:00       116  38.321558   \n",
       "1 2024-01-03 19:28:00+00:00 2024-01-03 21:53:00+00:00       145  38.320041   \n",
       "2 2024-01-04 02:28:00+00:00 2024-01-04 05:42:00+00:00       194  38.320556   \n",
       "3 2024-01-04 09:03:00+00:00 2024-01-04 11:21:00+00:00       138  38.321323   \n",
       "4 2024-01-07 03:03:00+00:00 2024-01-07 04:35:00+00:00        92  38.321410   \n",
       "\n",
       "    latitude   diameter  n_pings  max_gap  \n",
       "0 -36.667720  37.554505       16       22  \n",
       "1 -36.667232  28.341571        9       36  \n",
       "2 -36.666760  22.762917       10       62  \n",
       "3 -36.667497  23.390699        6       46  \n",
       "4 -36.666945  19.843035       10       25  "
      ]
     },
     "metadata": {},
     "output_type": "display_data"
    },
    {
     "name": "stdout",
     "output_type": "stream",
     "text": [
      "Columns: ['start_datetime', 'end_datetime', 'duration', 'longitude', 'latitude', 'diameter', 'n_pings', 'max_gap']\n"
     ]
    }
   ],
   "source": [
    "# %%time\n",
    "lachesis_stop_df = Lachesis.lachesis(traj=user_sample,\n",
    "                                     dur_min=DUR_MIN,\n",
    "                                     dt_max=DT_MAX,\n",
    "                                     delta_roam=DELTA_ROAM,\n",
    "                                     traj_cols=traj_cols,\n",
    "                                     complete_output=True,\n",
    "                                     keep_col_names = False,\n",
    "                                     datetime='local_datetime',\n",
    "                                     latitude= 'latitude',\n",
    "                                     longitude='longitude')\n",
    "\n",
    "display(lachesis_stop_df.head())\n",
    "print(\"Columns:\", list(lachesis_stop_df.columns))"
   ]
  },
  {
   "cell_type": "markdown",
   "id": "b233242a-cb65-4765-ac9f-c27c926f08b5",
   "metadata": {},
   "source": [
    "An additional argument, ```complete_output```, can be passed to only output the stop start time, duration, and medoid coordinates."
   ]
  },
  {
   "cell_type": "code",
   "execution_count": 18,
   "id": "fe9e6bf7-cbf1-45a4-8a0e-57f7ea49a881",
   "metadata": {
    "scrolled": true
   },
   "outputs": [
    {
     "name": "stdout",
     "output_type": "stream",
     "text": [
      "CPU times: user 28.9 ms, sys: 736 μs, total: 29.6 ms\n",
      "Wall time: 29.9 ms\n"
     ]
    },
    {
     "data": {
      "text/html": [
       "<div>\n",
       "<style scoped>\n",
       "    .dataframe tbody tr th:only-of-type {\n",
       "        vertical-align: middle;\n",
       "    }\n",
       "\n",
       "    .dataframe tbody tr th {\n",
       "        vertical-align: top;\n",
       "    }\n",
       "\n",
       "    .dataframe thead th {\n",
       "        text-align: right;\n",
       "    }\n",
       "</style>\n",
       "<table border=\"1\" class=\"dataframe\">\n",
       "  <thead>\n",
       "    <tr style=\"text-align: right;\">\n",
       "      <th></th>\n",
       "      <th>start_datetime</th>\n",
       "      <th>duration</th>\n",
       "      <th>longitude</th>\n",
       "      <th>latitude</th>\n",
       "    </tr>\n",
       "  </thead>\n",
       "  <tbody>\n",
       "    <tr>\n",
       "      <th>0</th>\n",
       "      <td>2024-01-02 20:51:00+00:00</td>\n",
       "      <td>116</td>\n",
       "      <td>38.321558</td>\n",
       "      <td>-36.667720</td>\n",
       "    </tr>\n",
       "    <tr>\n",
       "      <th>1</th>\n",
       "      <td>2024-01-03 19:28:00+00:00</td>\n",
       "      <td>145</td>\n",
       "      <td>38.320041</td>\n",
       "      <td>-36.667232</td>\n",
       "    </tr>\n",
       "    <tr>\n",
       "      <th>2</th>\n",
       "      <td>2024-01-04 02:28:00+00:00</td>\n",
       "      <td>194</td>\n",
       "      <td>38.320556</td>\n",
       "      <td>-36.666760</td>\n",
       "    </tr>\n",
       "    <tr>\n",
       "      <th>3</th>\n",
       "      <td>2024-01-04 09:03:00+00:00</td>\n",
       "      <td>138</td>\n",
       "      <td>38.321323</td>\n",
       "      <td>-36.667497</td>\n",
       "    </tr>\n",
       "    <tr>\n",
       "      <th>4</th>\n",
       "      <td>2024-01-07 03:03:00+00:00</td>\n",
       "      <td>92</td>\n",
       "      <td>38.321410</td>\n",
       "      <td>-36.666945</td>\n",
       "    </tr>\n",
       "  </tbody>\n",
       "</table>\n",
       "</div>"
      ],
      "text/plain": [
       "             start_datetime  duration  longitude   latitude\n",
       "0 2024-01-02 20:51:00+00:00       116  38.321558 -36.667720\n",
       "1 2024-01-03 19:28:00+00:00       145  38.320041 -36.667232\n",
       "2 2024-01-04 02:28:00+00:00       194  38.320556 -36.666760\n",
       "3 2024-01-04 09:03:00+00:00       138  38.321323 -36.667497\n",
       "4 2024-01-07 03:03:00+00:00        92  38.321410 -36.666945"
      ]
     },
     "execution_count": 18,
     "metadata": {},
     "output_type": "execute_result"
    }
   ],
   "source": [
    "%%time\n",
    "Lachesis.lachesis(traj=user_sample,\n",
    "                  dur_min=DUR_MIN,\n",
    "                  dt_max=DT_MAX,\n",
    "                  delta_roam=DELTA_ROAM,\n",
    "                  traj_cols=traj_cols,\n",
    "                  complete_output=False,\n",
    "                  keep_col_names = False,\n",
    "                  datetime='local_datetime',\n",
    "                  latitude='latitude',\n",
    "                  longitude='longitude').head()"
   ]
  },
  {
   "cell_type": "markdown",
   "id": "7ad901e7-cd33-4460-b32a-6d1f67537626",
   "metadata": {},
   "source": [
    "We can also get the final cluster label for each of the pings, including those who were identified as noise."
   ]
  },
  {
   "cell_type": "code",
   "execution_count": 19,
   "id": "f5c31d4a-3e45-468c-900b-3594796b21e4",
   "metadata": {},
   "outputs": [
    {
     "name": "stdout",
     "output_type": "stream",
     "text": [
      "CPU times: user 22.8 ms, sys: 2.33 ms, total: 25.2 ms\n",
      "Wall time: 26.3 ms\n"
     ]
    },
    {
     "data": {
      "text/plain": [
       "local_datetime\n",
       "2024-01-13 18:27:00+00:00    -1\n",
       "2024-01-07 18:53:00+00:00    -1\n",
       "2024-01-14 02:43:00+00:00    15\n",
       "2024-01-08 20:06:00+00:00     8\n",
       "2024-01-13 16:41:00+00:00    -1\n",
       "dtype: int64"
      ]
     },
     "execution_count": 19,
     "metadata": {},
     "output_type": "execute_result"
    }
   ],
   "source": [
    "%%time\n",
    "sample_labels_lach = Lachesis._lachesis_labels(traj=user_sample,\n",
    "                                               dur_min=DUR_MIN,\n",
    "                                               dt_max=DT_MAX,\n",
    "                                               delta_roam=DELTA_ROAM,\n",
    "                                               traj_cols=traj_cols,\n",
    "                                               datetime='local_datetime')\n",
    "sample_labels_lach.sample(n=5)"
   ]
  },
  {
   "cell_type": "markdown",
   "id": "ebc275a5-c83d-46b9-945e-63fd50de52c5",
   "metadata": {},
   "source": [
    "The data could also come with different formats for spatial and temporal variables, the algorithm can handle those situations as well."
   ]
  },
  {
   "cell_type": "code",
   "execution_count": 20,
   "id": "6823225a-fac5-4c58-befb-cea99dec4b73",
   "metadata": {},
   "outputs": [
    {
     "name": "stdout",
     "output_type": "stream",
     "text": [
      "CPU times: user 17.1 ms, sys: 1.51 ms, total: 18.6 ms\n",
      "Wall time: 18 ms\n"
     ]
    },
    {
     "data": {
      "text/html": [
       "<div>\n",
       "<style scoped>\n",
       "    .dataframe tbody tr th:only-of-type {\n",
       "        vertical-align: middle;\n",
       "    }\n",
       "\n",
       "    .dataframe tbody tr th {\n",
       "        vertical-align: top;\n",
       "    }\n",
       "\n",
       "    .dataframe thead th {\n",
       "        text-align: right;\n",
       "    }\n",
       "</style>\n",
       "<table border=\"1\" class=\"dataframe\">\n",
       "  <thead>\n",
       "    <tr style=\"text-align: right;\">\n",
       "      <th></th>\n",
       "      <th>start_timestamp</th>\n",
       "      <th>duration</th>\n",
       "      <th>x</th>\n",
       "      <th>y</th>\n",
       "    </tr>\n",
       "  </thead>\n",
       "  <tbody>\n",
       "    <tr>\n",
       "      <th>0</th>\n",
       "      <td>1704228660</td>\n",
       "      <td>116</td>\n",
       "      <td>4.265936e+06</td>\n",
       "      <td>-4.392892e+06</td>\n",
       "    </tr>\n",
       "    <tr>\n",
       "      <th>1</th>\n",
       "      <td>1704310080</td>\n",
       "      <td>145</td>\n",
       "      <td>4.265767e+06</td>\n",
       "      <td>-4.392824e+06</td>\n",
       "    </tr>\n",
       "    <tr>\n",
       "      <th>2</th>\n",
       "      <td>1704335280</td>\n",
       "      <td>194</td>\n",
       "      <td>4.265825e+06</td>\n",
       "      <td>-4.392759e+06</td>\n",
       "    </tr>\n",
       "    <tr>\n",
       "      <th>3</th>\n",
       "      <td>1704358980</td>\n",
       "      <td>138</td>\n",
       "      <td>4.265910e+06</td>\n",
       "      <td>-4.392861e+06</td>\n",
       "    </tr>\n",
       "    <tr>\n",
       "      <th>4</th>\n",
       "      <td>1704596580</td>\n",
       "      <td>92</td>\n",
       "      <td>4.265920e+06</td>\n",
       "      <td>-4.392784e+06</td>\n",
       "    </tr>\n",
       "  </tbody>\n",
       "</table>\n",
       "</div>"
      ],
      "text/plain": [
       "   start_timestamp  duration             x             y\n",
       "0       1704228660       116  4.265936e+06 -4.392892e+06\n",
       "1       1704310080       145  4.265767e+06 -4.392824e+06\n",
       "2       1704335280       194  4.265825e+06 -4.392759e+06\n",
       "3       1704358980       138  4.265910e+06 -4.392861e+06\n",
       "4       1704596580        92  4.265920e+06 -4.392784e+06"
      ]
     },
     "execution_count": 20,
     "metadata": {},
     "output_type": "execute_result"
    }
   ],
   "source": [
    "%%time\n",
    "# Lachesis with x, y, and timestamp\n",
    "Lachesis.lachesis(traj=user_sample,\n",
    "                  dur_min=DUR_MIN,\n",
    "                  dt_max=DT_MAX,\n",
    "                  delta_roam=DELTA_ROAM,\n",
    "                  traj_cols=traj_cols,\n",
    "                  complete_output=False,\n",
    "                  timestamp='timestamp',\n",
    "                  x='x',\n",
    "                  y='y').head()"
   ]
  },
  {
   "cell_type": "markdown",
   "id": "ea525c90-ce03-4cd7-8a5e-613629d5e570",
   "metadata": {},
   "source": [
    "Applying these stop detection algorithms to multiple users is straightforward with pandas' ```groupby``` and ```apply``` methods:"
   ]
  },
  {
   "cell_type": "code",
   "execution_count": 21,
   "id": "815dbef2-f007-4045-980e-73579abd4d56",
   "metadata": {},
   "outputs": [
    {
     "data": {
      "text/html": [
       "<div>\n",
       "<style scoped>\n",
       "    .dataframe tbody tr th:only-of-type {\n",
       "        vertical-align: middle;\n",
       "    }\n",
       "\n",
       "    .dataframe tbody tr th {\n",
       "        vertical-align: top;\n",
       "    }\n",
       "\n",
       "    .dataframe thead th {\n",
       "        text-align: right;\n",
       "    }\n",
       "</style>\n",
       "<table border=\"1\" class=\"dataframe\">\n",
       "  <thead>\n",
       "    <tr style=\"text-align: right;\">\n",
       "      <th></th>\n",
       "      <th>uid</th>\n",
       "      <th>timestamp</th>\n",
       "      <th>tz_offset</th>\n",
       "      <th>longitude</th>\n",
       "      <th>latitude</th>\n",
       "      <th>local_datetime</th>\n",
       "      <th>x</th>\n",
       "      <th>y</th>\n",
       "    </tr>\n",
       "  </thead>\n",
       "  <tbody>\n",
       "    <tr>\n",
       "      <th>14887</th>\n",
       "      <td>relaxed_colden</td>\n",
       "      <td>1705220820</td>\n",
       "      <td>0</td>\n",
       "      <td>38.321002</td>\n",
       "      <td>-36.666751</td>\n",
       "      <td>2024-01-14 08:27:00+00:00</td>\n",
       "      <td>4.265874e+06</td>\n",
       "      <td>-4.392757e+06</td>\n",
       "    </tr>\n",
       "    <tr>\n",
       "      <th>6249</th>\n",
       "      <td>dazzling_bassi</td>\n",
       "      <td>1705153200</td>\n",
       "      <td>0</td>\n",
       "      <td>38.321932</td>\n",
       "      <td>-36.668109</td>\n",
       "      <td>2024-01-13 13:40:00+00:00</td>\n",
       "      <td>4.265978e+06</td>\n",
       "      <td>-4.392946e+06</td>\n",
       "    </tr>\n",
       "    <tr>\n",
       "      <th>15687</th>\n",
       "      <td>stoic_almeida</td>\n",
       "      <td>1704731340</td>\n",
       "      <td>0</td>\n",
       "      <td>38.321792</td>\n",
       "      <td>-36.666799</td>\n",
       "      <td>2024-01-08 16:29:00+00:00</td>\n",
       "      <td>4.265962e+06</td>\n",
       "      <td>-4.392764e+06</td>\n",
       "    </tr>\n",
       "    <tr>\n",
       "      <th>14877</th>\n",
       "      <td>relaxed_colden</td>\n",
       "      <td>1705216260</td>\n",
       "      <td>0</td>\n",
       "      <td>38.320931</td>\n",
       "      <td>-36.666796</td>\n",
       "      <td>2024-01-14 07:11:00+00:00</td>\n",
       "      <td>4.265866e+06</td>\n",
       "      <td>-4.392764e+06</td>\n",
       "    </tr>\n",
       "    <tr>\n",
       "      <th>14827</th>\n",
       "      <td>relaxed_colden</td>\n",
       "      <td>1704939300</td>\n",
       "      <td>0</td>\n",
       "      <td>38.321025</td>\n",
       "      <td>-36.666786</td>\n",
       "      <td>2024-01-11 02:15:00+00:00</td>\n",
       "      <td>4.265877e+06</td>\n",
       "      <td>-4.392762e+06</td>\n",
       "    </tr>\n",
       "    <tr>\n",
       "      <th>5982</th>\n",
       "      <td>dazzling_bassi</td>\n",
       "      <td>1704256260</td>\n",
       "      <td>0</td>\n",
       "      <td>38.321097</td>\n",
       "      <td>-36.667567</td>\n",
       "      <td>2024-01-03 04:31:00+00:00</td>\n",
       "      <td>4.265885e+06</td>\n",
       "      <td>-4.392871e+06</td>\n",
       "    </tr>\n",
       "    <tr>\n",
       "      <th>14898</th>\n",
       "      <td>relaxed_colden</td>\n",
       "      <td>1705256220</td>\n",
       "      <td>0</td>\n",
       "      <td>38.322208</td>\n",
       "      <td>-36.667518</td>\n",
       "      <td>2024-01-14 18:17:00+00:00</td>\n",
       "      <td>4.266009e+06</td>\n",
       "      <td>-4.392864e+06</td>\n",
       "    </tr>\n",
       "    <tr>\n",
       "      <th>14714</th>\n",
       "      <td>relaxed_colden</td>\n",
       "      <td>1704400920</td>\n",
       "      <td>0</td>\n",
       "      <td>38.321363</td>\n",
       "      <td>-36.667651</td>\n",
       "      <td>2024-01-04 20:42:00+00:00</td>\n",
       "      <td>4.265915e+06</td>\n",
       "      <td>-4.392882e+06</td>\n",
       "    </tr>\n",
       "    <tr>\n",
       "      <th>6123</th>\n",
       "      <td>dazzling_bassi</td>\n",
       "      <td>1704839760</td>\n",
       "      <td>0</td>\n",
       "      <td>38.320608</td>\n",
       "      <td>-36.666499</td>\n",
       "      <td>2024-01-09 22:36:00+00:00</td>\n",
       "      <td>4.265831e+06</td>\n",
       "      <td>-4.392722e+06</td>\n",
       "    </tr>\n",
       "    <tr>\n",
       "      <th>14767</th>\n",
       "      <td>relaxed_colden</td>\n",
       "      <td>1704694560</td>\n",
       "      <td>0</td>\n",
       "      <td>38.320610</td>\n",
       "      <td>-36.666789</td>\n",
       "      <td>2024-01-08 06:16:00+00:00</td>\n",
       "      <td>4.265831e+06</td>\n",
       "      <td>-4.392763e+06</td>\n",
       "    </tr>\n",
       "  </tbody>\n",
       "</table>\n",
       "</div>"
      ],
      "text/plain": [
       "                  uid   timestamp  tz_offset  longitude   latitude  \\\n",
       "14887  relaxed_colden  1705220820          0  38.321002 -36.666751   \n",
       "6249   dazzling_bassi  1705153200          0  38.321932 -36.668109   \n",
       "15687   stoic_almeida  1704731340          0  38.321792 -36.666799   \n",
       "14877  relaxed_colden  1705216260          0  38.320931 -36.666796   \n",
       "14827  relaxed_colden  1704939300          0  38.321025 -36.666786   \n",
       "5982   dazzling_bassi  1704256260          0  38.321097 -36.667567   \n",
       "14898  relaxed_colden  1705256220          0  38.322208 -36.667518   \n",
       "14714  relaxed_colden  1704400920          0  38.321363 -36.667651   \n",
       "6123   dazzling_bassi  1704839760          0  38.320608 -36.666499   \n",
       "14767  relaxed_colden  1704694560          0  38.320610 -36.666789   \n",
       "\n",
       "                 local_datetime             x             y  \n",
       "14887 2024-01-14 08:27:00+00:00  4.265874e+06 -4.392757e+06  \n",
       "6249  2024-01-13 13:40:00+00:00  4.265978e+06 -4.392946e+06  \n",
       "15687 2024-01-08 16:29:00+00:00  4.265962e+06 -4.392764e+06  \n",
       "14877 2024-01-14 07:11:00+00:00  4.265866e+06 -4.392764e+06  \n",
       "14827 2024-01-11 02:15:00+00:00  4.265877e+06 -4.392762e+06  \n",
       "5982  2024-01-03 04:31:00+00:00  4.265885e+06 -4.392871e+06  \n",
       "14898 2024-01-14 18:17:00+00:00  4.266009e+06 -4.392864e+06  \n",
       "14714 2024-01-04 20:42:00+00:00  4.265915e+06 -4.392882e+06  \n",
       "6123  2024-01-09 22:36:00+00:00  4.265831e+06 -4.392722e+06  \n",
       "14767 2024-01-08 06:16:00+00:00  4.265831e+06 -4.392763e+06  "
      ]
     },
     "execution_count": 21,
     "metadata": {},
     "output_type": "execute_result"
    }
   ],
   "source": [
    "mult_users = data.loc[data.uid.isin([\"angry_spence\", \"stoic_almeida\", \"relaxed_colden\", \"dazzling_bassi\"])]\n",
    "mult_users.sample(10)"
   ]
  },
  {
   "cell_type": "code",
   "execution_count": 22,
   "id": "7008bfe5-0aeb-4d4f-a4cb-5264429f2c41",
   "metadata": {},
   "outputs": [
    {
     "name": "stdout",
     "output_type": "stream",
     "text": [
      "CPU times: user 43.9 ms, sys: 3.82 ms, total: 47.7 ms\n",
      "Wall time: 48 ms\n"
     ]
    },
    {
     "name": "stderr",
     "output_type": "stream",
     "text": [
      "/Users/andresmondragon/nomad/nomad/io/base.py:55: UserWarning: Trajectory column 'uid' specified for 'user_id' not found in DataFrame.\n",
      "  warnings.warn(f\"Trajectory column '{value}' specified for '{key}' not found in DataFrame.\")\n",
      "/Users/andresmondragon/nomad/nomad/io/base.py:55: UserWarning: Trajectory column 'uid' specified for 'user_id' not found in DataFrame.\n",
      "  warnings.warn(f\"Trajectory column '{value}' specified for '{key}' not found in DataFrame.\")\n",
      "/Users/andresmondragon/nomad/nomad/io/base.py:55: UserWarning: Trajectory column 'uid' specified for 'user_id' not found in DataFrame.\n",
      "  warnings.warn(f\"Trajectory column '{value}' specified for '{key}' not found in DataFrame.\")\n",
      "/Users/andresmondragon/nomad/nomad/io/base.py:55: UserWarning: Trajectory column 'uid' specified for 'user_id' not found in DataFrame.\n",
      "  warnings.warn(f\"Trajectory column '{value}' specified for '{key}' not found in DataFrame.\")\n"
     ]
    },
    {
     "data": {
      "text/html": [
       "<div>\n",
       "<style scoped>\n",
       "    .dataframe tbody tr th:only-of-type {\n",
       "        vertical-align: middle;\n",
       "    }\n",
       "\n",
       "    .dataframe tbody tr th {\n",
       "        vertical-align: top;\n",
       "    }\n",
       "\n",
       "    .dataframe thead th {\n",
       "        text-align: right;\n",
       "    }\n",
       "</style>\n",
       "<table border=\"1\" class=\"dataframe\">\n",
       "  <thead>\n",
       "    <tr style=\"text-align: right;\">\n",
       "      <th></th>\n",
       "      <th></th>\n",
       "      <th>start_timestamp</th>\n",
       "      <th>duration</th>\n",
       "      <th>x</th>\n",
       "      <th>y</th>\n",
       "    </tr>\n",
       "    <tr>\n",
       "      <th>uid</th>\n",
       "      <th></th>\n",
       "      <th></th>\n",
       "      <th></th>\n",
       "      <th></th>\n",
       "      <th></th>\n",
       "    </tr>\n",
       "  </thead>\n",
       "  <tbody>\n",
       "    <tr>\n",
       "      <th rowspan=\"5\" valign=\"top\">angry_spence</th>\n",
       "      <th>0</th>\n",
       "      <td>1704228660</td>\n",
       "      <td>116</td>\n",
       "      <td>4.265936e+06</td>\n",
       "      <td>-4.392892e+06</td>\n",
       "    </tr>\n",
       "    <tr>\n",
       "      <th>1</th>\n",
       "      <td>1704310080</td>\n",
       "      <td>145</td>\n",
       "      <td>4.265767e+06</td>\n",
       "      <td>-4.392824e+06</td>\n",
       "    </tr>\n",
       "    <tr>\n",
       "      <th>2</th>\n",
       "      <td>1704335280</td>\n",
       "      <td>194</td>\n",
       "      <td>4.265825e+06</td>\n",
       "      <td>-4.392759e+06</td>\n",
       "    </tr>\n",
       "    <tr>\n",
       "      <th>3</th>\n",
       "      <td>1704358980</td>\n",
       "      <td>138</td>\n",
       "      <td>4.265910e+06</td>\n",
       "      <td>-4.392861e+06</td>\n",
       "    </tr>\n",
       "    <tr>\n",
       "      <th>4</th>\n",
       "      <td>1704596580</td>\n",
       "      <td>92</td>\n",
       "      <td>4.265920e+06</td>\n",
       "      <td>-4.392784e+06</td>\n",
       "    </tr>\n",
       "    <tr>\n",
       "      <th>...</th>\n",
       "      <th>...</th>\n",
       "      <td>...</td>\n",
       "      <td>...</td>\n",
       "      <td>...</td>\n",
       "      <td>...</td>\n",
       "    </tr>\n",
       "    <tr>\n",
       "      <th rowspan=\"5\" valign=\"top\">stoic_almeida</th>\n",
       "      <th>18</th>\n",
       "      <td>1705136640</td>\n",
       "      <td>71</td>\n",
       "      <td>4.265900e+06</td>\n",
       "      <td>-4.392751e+06</td>\n",
       "    </tr>\n",
       "    <tr>\n",
       "      <th>19</th>\n",
       "      <td>1705217940</td>\n",
       "      <td>87</td>\n",
       "      <td>4.265913e+06</td>\n",
       "      <td>-4.392847e+06</td>\n",
       "    </tr>\n",
       "    <tr>\n",
       "      <th>20</th>\n",
       "      <td>1705238400</td>\n",
       "      <td>67</td>\n",
       "      <td>4.265964e+06</td>\n",
       "      <td>-4.392844e+06</td>\n",
       "    </tr>\n",
       "    <tr>\n",
       "      <th>21</th>\n",
       "      <td>1705282140</td>\n",
       "      <td>138</td>\n",
       "      <td>4.265916e+06</td>\n",
       "      <td>-4.392851e+06</td>\n",
       "    </tr>\n",
       "    <tr>\n",
       "      <th>22</th>\n",
       "      <td>1705316820</td>\n",
       "      <td>112</td>\n",
       "      <td>4.265916e+06</td>\n",
       "      <td>-4.392853e+06</td>\n",
       "    </tr>\n",
       "  </tbody>\n",
       "</table>\n",
       "<p>76 rows × 4 columns</p>\n",
       "</div>"
      ],
      "text/plain": [
       "                  start_timestamp  duration             x             y\n",
       "uid                                                                    \n",
       "angry_spence  0        1704228660       116  4.265936e+06 -4.392892e+06\n",
       "              1        1704310080       145  4.265767e+06 -4.392824e+06\n",
       "              2        1704335280       194  4.265825e+06 -4.392759e+06\n",
       "              3        1704358980       138  4.265910e+06 -4.392861e+06\n",
       "              4        1704596580        92  4.265920e+06 -4.392784e+06\n",
       "...                           ...       ...           ...           ...\n",
       "stoic_almeida 18       1705136640        71  4.265900e+06 -4.392751e+06\n",
       "              19       1705217940        87  4.265913e+06 -4.392847e+06\n",
       "              20       1705238400        67  4.265964e+06 -4.392844e+06\n",
       "              21       1705282140       138  4.265916e+06 -4.392851e+06\n",
       "              22       1705316820       112  4.265916e+06 -4.392853e+06\n",
       "\n",
       "[76 rows x 4 columns]"
      ]
     },
     "execution_count": 22,
     "metadata": {},
     "output_type": "execute_result"
    }
   ],
   "source": [
    "%%time\n",
    "mult_users.groupby(['uid']).apply(lambda x: Lachesis.lachesis(x.reset_index(),\n",
    "                                                                  dur_min=DUR_MIN,\n",
    "                                                                  dt_max=DT_MAX,\n",
    "                                                                  delta_roam=DELTA_ROAM,\n",
    "                                                                  traj_cols=traj_cols,\n",
    "                                                                  complete_output=False),include_groups=False)"
   ]
  },
  {
   "cell_type": "markdown",
   "id": "c2962690-1761-4d44-bb5e-01e8c9f1666b",
   "metadata": {},
   "source": [
    "We can visualize the identified stops within the city detected by Lachesis for the sample user. Where pings of the same color represent pings belonging to the same cluster/stop and pings in grey are noise."
   ]
  },
  {
   "cell_type": "markdown",
   "id": "df1708be",
   "metadata": {},
   "source": [
    "We can visualize the identified stops within the city detected by Lachesis for the sample user. Where pings of the same color represent pings belonging to the same cluster/stop and pings in grey are noise."
   ]
  },
  {
   "cell_type": "code",
   "execution_count": 23,
   "id": "c1fb281b-63f5-47bf-a3d9-b37da420bad3",
   "metadata": {},
   "outputs": [
    {
     "data": {
      "image/png": "[encoded data removed]",
      "text/plain": [
       "<Figure size 600x600 with 1 Axes>"
      ]
     },
     "metadata": {},
     "output_type": "display_data"
    }
   ],
   "source": [
    "%matplotlib inline\n",
    "\n",
    "# Merging sample data with labels\n",
    "merged_data_lach = user_sample.merge(sample_labels_lach.to_frame(name='cluster'), left_on='local_datetime', right_index=True)\n",
    "#transformer = Transformer.from_crs(\"EPSG:4326\", \"EPSG:3857\", always_xy=True)\n",
    "#merged_data_lach['x'], merged_data_lach['y'] = transformer.transform(merged_data_lach['latitude'].values, merged_data_lach['longitude'].values)\n",
    "merged_data_lach['x'] = (merged_data_lach['x'] - 4265699)/15\n",
    "merged_data_lach['y'] = (merged_data_lach['y'] + 4392976)/15\n",
    "\n",
    "fig, ax = plt.subplots(figsize=(6, 6))\n",
    "plt.box(on=False)\n",
    "\n",
    "# Plotting Garden City Map\n",
    "city = cg.load('garden-city.pkl')\n",
    "city.plot_city(ax, doors=True, address=False)\n",
    "\n",
    "# Getting colors for clusters\n",
    "unique_clusters = np.sort(merged_data_lach['cluster'].unique())\n",
    "cluster_mapping = {cluster: i for i, cluster in enumerate(unique_clusters)}\n",
    "mapped_clusters = merged_data_lach['cluster'].map(cluster_mapping).to_numpy()\n",
    "cmap_base = plt.get_cmap('turbo', len(unique_clusters) - (1 if -1 in unique_clusters else 0))\n",
    "colors = ['gray'] + list(cmap_base.colors)\n",
    "extended_cmap = mcolors.ListedColormap(colors)\n",
    "\n",
    "# Plotting Pings\n",
    "ax.scatter(merged_data_lach['x'], \n",
    "           merged_data_lach['y'], \n",
    "           c=mapped_clusters, \n",
    "           cmap=extended_cmap, \n",
    "           s=6,\n",
    "           alpha=1,\n",
    "           zorder=2)\n",
    "\n",
    "ax.set_yticklabels([])\n",
    "ax.set_xticklabels([])\n",
    "ax.set_title(\"Lachesis Stops for Sample User\")\n",
    "ax.set_xticks([])\n",
    "ax.set_yticks([])\n",
    "\n",
    "# plt.savefig('gc_empty.png')\n",
    "plt.show()"
   ]
  },
  {
   "cell_type": "markdown",
   "id": "bbb8a063-d60e-494b-a7f7-d6c5acd94c4f",
   "metadata": {},
   "source": [
    "### Density based stop detection (Temporal DBSCAN)"
   ]
  },
  {
   "cell_type": "markdown",
   "id": "2083c282-fb27-4958-bd69-306e714ccd93",
   "metadata": {},
   "source": [
    "The second stop detection algorithm implemented in ```nomad``` is a time-augmented density-based algorithm, Temporal DBSCAN. This algorithm for clustering user pings combines temporal and spatial dimensions, relying on three key parameters: the time threshold, the distance threshold, and the minimum number of points.\n",
    "\n",
    "* The time threshold defines the maximum time difference (in minutes) between two consecutive pings for them to be considered neighbors within the same cluster.\n",
    "* The distance threshold specifies the maximum spatial distance (in meters) between two pings for them to be considered neighbors.\n",
    "* The minimum points parameter sets the minimum number of points required for a dense region to form a cluster.\n",
    "\n",
    "If a region contains fewer than minimum number of points required, it is treated as noise. The algorithm identifies clusters by grouping contiguous pings that meet both the temporal and spatial criteria, while also ensuring that each cluster has enough density to be considered valid. Our implementation of Temporal DBSCAN recursively processes the clusters obtained from DBSCAN to address the issue of some clusters overlapping in time."
   ]
  },
  {
   "cell_type": "markdown",
   "id": "432f989f-4889-4e0a-91de-eeac7e0af2f5",
   "metadata": {},
   "source": [
    "<div style=\"text-align: center;\">\n",
    "    <img src=\"dbscan_algo.png\" alt=\"DBSCAN Algorithm\" title=\"DBSCAN Algorithm\" width=\"500\">\n",
    "</div>"
   ]
  },
  {
   "cell_type": "markdown",
   "id": "32eade27-4a20-4bde-8a2b-040a12a0ff07",
   "metadata": {},
   "source": [
    "This algorithm has the following parameters, which determine the size of the resulting stops:\n",
    "* ```time_thresh```: Time threshold in minutes for identifying neighbors.\n",
    "* ```dist_thresh```: Distance threshold in meters for identifying neighbors.\n",
    "* ```min_pts```: Minimum number of points required to form a dense region (core point)."
   ]
  },
  {
   "cell_type": "code",
   "execution_count": null,
   "id": "305a6c7e-10c1-4c3f-a5d8-14d792f9c6bf",
   "metadata": {},
   "outputs": [],
   "source": [
    "TIME_THRESH = 100\n",
    "DIST_THRESH = 40\n",
    "MIN_PTS = 10"
   ]
  },
  {
   "cell_type": "markdown",
   "id": "9647a8cc-66a0-48f4-8d80-5815de683f0f",
   "metadata": {},
   "source": [
    "Similarly to Lachesis, the Temporal DBSCAN algorithm can output a complete table of attributes for identified stops, including the start time, end time, the medoid coordinates, duration, number of pings in the stop, and diameter."
   ]
  },
  {
   "cell_type": "code",
   "execution_count": null,
   "id": "7d4dffd7-58fb-42c7-9027-f6e4dcf7e052",
   "metadata": {
    "scrolled": true
   },
   "outputs": [],
   "source": [
    "%%time\n",
    "DBSCAN.temporal_dbscan(user_sample,\n",
    "                       time_thresh=TIME_THRESH,\n",
    "                       dist_thresh=DIST_THRESH,\n",
    "                       min_pts=MIN_PTS,\n",
    "                       traj_cols=traj_cols,\n",
    "                       complete_output=True,\n",
    "                       datetime='local_datetime',\n",
    "                       latitude='latitude',\n",
    "                       longitude='longitude').head()"
   ]
  },
  {
   "cell_type": "markdown",
   "id": "a0b461be-8fc6-410c-b379-926cc7a90799",
   "metadata": {},
   "source": [
    "The additional argument ```complete_output``` can also be passed to only output the stop start time, duration, and medoid coordinates."
   ]
  },
  {
   "cell_type": "code",
   "execution_count": null,
   "id": "b0cb23c6-719a-4c15-aad6-6f3436106d29",
   "metadata": {
    "scrolled": true
   },
   "outputs": [],
   "source": [
    "%%time\n",
    "DBSCAN.temporal_dbscan(user_sample,\n",
    "                       time_thresh=TIME_THRESH,\n",
    "                       dist_thresh=DIST_THRESH,\n",
    "                       min_pts=MIN_PTS,\n",
    "                       traj_cols=traj_cols,\n",
    "                       complete_output=False,\n",
    "                       datetime='local_datetime',\n",
    "                       latitude='latitude',\n",
    "                       longitude='longitude').head()"
   ]
  },
  {
   "cell_type": "markdown",
   "id": "1e971e56-46ab-427d-a4f6-a119d4773368",
   "metadata": {},
   "source": [
    "We can also get the final cluster and core labels for each of the pings."
   ]
  },
  {
   "cell_type": "code",
   "execution_count": null,
   "id": "8686f955-16d6-4773-98bc-2927e5aac717",
   "metadata": {
    "scrolled": true
   },
   "outputs": [],
   "source": [
    "%%time\n",
    "sample_labels_dbscan = DBSCAN._temporal_dbscan_labels(user_sample,\n",
    "                                                      time_thresh=TIME_THRESH,\n",
    "                                                      dist_thresh=DIST_THRESH,\n",
    "                                                      min_pts=MIN_PTS,\n",
    "                                                      traj_cols=traj_cols,\n",
    "                                                      datetime='local_datetime',\n",
    "                                                      latitude='latitude',\n",
    "                                                      longitude='longitude')\n",
    "\n",
    "sample_labels_dbscan.sample(5)"
   ]
  },
  {
   "cell_type": "markdown",
   "id": "5706889e-3ade-4a31-ab2b-c201d86cd2c2",
   "metadata": {},
   "source": [
    "The Temporal DBSCAN algorithm also handles data that comes with different formats for spatial and temporal variables."
   ]
  },
  {
   "cell_type": "code",
   "execution_count": null,
   "id": "f88f983b-69d3-4c40-ab35-6846b7578121",
   "metadata": {
    "scrolled": true
   },
   "outputs": [],
   "source": [
    "%%time\n",
    "# Temporal DBSCAN with x, y, and timestamp\n",
    "DBSCAN.temporal_dbscan(user_sample,\n",
    "                       time_thresh=TIME_THRESH,\n",
    "                       dist_thresh=DIST_THRESH,\n",
    "                       min_pts=MIN_PTS,\n",
    "                       traj_cols=traj_cols,\n",
    "                       complete_output=True,\n",
    "                       timestamp='timestamp',\n",
    "                       x='x',\n",
    "                       y='y').head()"
   ]
  },
  {
   "cell_type": "markdown",
   "id": "c369f74c-75c4-4599-ae95-91e92d2cdbf4",
   "metadata": {},
   "source": [
    "We can also visualize the identified stops within the city detected by DBSCAN for the sample user. Again, pings of the same color represent pings belonging to the same cluster/stop and pings in grey are noise."
   ]
  },
  {
   "cell_type": "code",
   "execution_count": null,
   "id": "cd3e2d56-4f33-4f76-a2c1-10fc15aebeec",
   "metadata": {},
   "outputs": [],
   "source": [
    "%matplotlib inline\n",
    "\n",
    "# Merging sample data with labels\n",
    "merged_data_dbscan = user_sample.merge(sample_labels_dbscan[['cluster']], left_on='local_datetime', right_index=True)\n",
    "#transformer = Transformer.from_crs(\"EPSG:4326\", \"EPSG:3857\", always_xy=True)\n",
    "#merged_data_dbscan['x'], merged_data_dbscan['y'] = transformer.transform(merged_data_dbscan['latitude'].values, merged_data_dbscan['longitude'].values)\n",
    "merged_data_dbscan['x'] = (merged_data_dbscan['x'] - 4265699)/15\n",
    "merged_data_dbscan['y'] = (merged_data_dbscan['y'] + 4392976)/15\n",
    "\n",
    "fig, ax = plt.subplots(figsize=(6, 6))\n",
    "plt.box(on=False)\n",
    "\n",
    "# Plotting Garden City Map\n",
    "city = cg.load('garden-city.pkl')\n",
    "city.plot_city(ax, doors=True, address=False)\n",
    "\n",
    "# Getting colors for clusters\n",
    "unique_clusters = sorted(merged_data_dbscan['cluster'].unique())\n",
    "cluster_mapping = {cluster: i for i, cluster in enumerate(unique_clusters)}\n",
    "mapped_clusters = merged_data_dbscan['cluster'].map(cluster_mapping).to_numpy()\n",
    "cmap_base = plt.get_cmap('turbo', len(unique_clusters) - (1 if -1 in unique_clusters else 0))\n",
    "colors = ['gray'] + list(cmap_base.colors)\n",
    "extended_cmap = mcolors.ListedColormap(colors)\n",
    "\n",
    "# Plotting Pings\n",
    "ax.scatter(merged_data_dbscan['x'], \n",
    "           merged_data_dbscan['y'], \n",
    "           c=mapped_clusters, \n",
    "           cmap=extended_cmap, \n",
    "           s=6,\n",
    "           alpha=1,\n",
    "           zorder=2)\n",
    "\n",
    "ax.set_yticklabels([])\n",
    "ax.set_xticklabels([])\n",
    "ax.set_title(\"DBSCAN Stops for Sample User\")\n",
    "ax.set_xticks([])\n",
    "ax.set_yticks([])\n",
    "\n",
    "# plt.savefig('gc_empty.png')\n",
    "plt.show()"
   ]
  }
 ],
 "metadata": {
  "kernelspec": {
   "display_name": "nomad_env",
   "language": "python",
   "name": "python3"
  },
  "language_info": {
   "codemirror_mode": {
    "name": "ipython",
    "version": 3
   },
   "file_extension": ".py",
   "mimetype": "text/x-python",
   "name": "python",
   "nbconvert_exporter": "python",
   "pygments_lexer": "ipython3",
   "version": "3.10.0"
  }
 },
 "nbformat": 4,
 "nbformat_minor": 5
}

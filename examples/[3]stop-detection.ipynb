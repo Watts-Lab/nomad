{
 "cells": [
  {
   "cell_type": "markdown",
   "id": "d0f6a437-fe6f-422f-903e-35fee48a5eeb",
   "metadata": {},
   "source": [
    "# Tutorial 2: Stop detection in trajectories"
   ]
  },
  {
   "cell_type": "markdown",
   "id": "0318baed-0d36-45ba-95ba-cd00731b4de8",
   "metadata": {},
   "source": [
    "This notebook shows how to process device-level trajectory data, in different formats, to detect stops using ```nomad```. Stop detection is an important step in\n",
    "pre-processing trajectory data and in making sense of trajectories by grouping together pings that reflect stationary behavior. The output of stop-detection algorithms is commonly a \"stop table\", indicating when a stop started, its duration, and a pair of coordinates that approximates the location of the group of pings (typically the centroid). Alternatively, ```nomad``` allows users to retrieve a cluster label for each ping (useful for plotting, for example)."
   ]
  },
  {
   "cell_type": "code",
   "execution_count": null,
   "id": "a7aee58a-fe67-42fe-89fa-68e7f9535e1a",
   "metadata": {},
   "outputs": [],
   "source": [
    "import pandas as pd\n",
    "import numpy as np\n",
    "from datetime import timedelta\n",
    "import pygeohash as gh\n",
    "import geopandas as gpd\n",
    "from matplotlib import cm\n",
    "import matplotlib.pyplot as plt\n",
    "import matplotlib.colors as mcolors\n",
    "from pyproj import Transformer"
   ]
  },
  {
   "cell_type": "code",
   "execution_count": null,
   "id": "9e1b64f0-e62c-45f6-983b-e1fd56f3f6d0",
   "metadata": {},
   "outputs": [],
   "source": [
    "import nomad.io.base as loader\n",
    "import nomad.constants as constants\n",
    "import nomad.stop_detection.ta_dbscan as DBSCAN\n",
    "import nomad.stop_detection.lachesis as Lachesis\n",
    "import nomad.filters as filters\n",
    "import nomad.city_gen as cg"
   ]
  },
  {
   "cell_type": "markdown",
   "id": "2531f9bd-7243-4c3f-a5af-481600efe0f3",
   "metadata": {},
   "source": [
    "## Load data sample"
   ]
  },
  {
   "cell_type": "markdown",
   "id": "9777b795-37c1-414d-bb8c-0d5eeee87543",
   "metadata": {},
   "source": [
    "For these examples we load some test data from ```nomad``` which has the following trajectory columns. Defining this dictionary beforehands makes the handling of parameters more concise and helps the algorithms know which columns to use. "
   ]
  },
  {
   "cell_type": "code",
   "execution_count": null,
   "id": "fb190bef-d668-490e-809b-de42196b5850",
   "metadata": {},
   "outputs": [],
   "source": [
    "traj_cols = {'user_id':'uid',\n",
    "             'datetime':'local_datetime',\n",
    "             'latitude':'latitude',\n",
    "             'longitude':'longitude'}\n",
    "\n",
    "data = loader.from_file(\"../nomad/data/gc_sample.csv\")"
   ]
  },
  {
   "cell_type": "code",
   "execution_count": null,
   "id": "a6724c20-f45b-4c2d-be1e-3a03a473a84e",
   "metadata": {},
   "outputs": [],
   "source": [
    "data.head()"
   ]
  },
  {
   "cell_type": "markdown",
   "id": "66c452e9-d32d-4388-86bb-1eeef4c42c83",
   "metadata": {},
   "source": [
    "This synthetic data has records for 100 users for a 1 week period, with spherical coordinates (lat, lon) and datetime format for the time component of each ping. "
   ]
  },
  {
   "cell_type": "markdown",
   "id": "e962ae81-874a-4b54-8574-d782148aa345",
   "metadata": {},
   "source": [
    "### Additional columns \n",
    "\n",
    "Nomad allows a degree of flexibility on the input trajectory data used for stop detection (and other algorithms), including common cases like datetime64[ns] formats for the time variable, ISO8601 string formats, or a pandas series with pandas.Timestamp objects. Similarly, it is often the case (and it can speed up stop-detection algorithms) that trajectory data has non-spherical coordinates with units in meters. These are useful for local analyses so that Euclidean distance can be used. \n",
    "\n",
    "To demonstrate this flexibility, we create some of these columns with alternative formats. "
   ]
  },
  {
   "cell_type": "code",
   "execution_count": null,
   "id": "52019eb1-f51a-45e2-b453-1170fc968a9e",
   "metadata": {},
   "outputs": [],
   "source": [
    "# We create a time offset column with different UTC offsets (in seconds)\n",
    "data['tz_offset'] = 0\n",
    "data.loc[data.index[:5000],'tz_offset'] = -7200\n",
    "data.loc[data.index[-5000:], 'tz_offset'] = 3600\n",
    "\n",
    "# create datetime column as a string\n",
    "data['local_datetime'] = loader._unix_offset_to_str(data.timestamp, data.tz_offset)\n",
    "data['local_datetime'] = pd.to_datetime(data['local_datetime'], utc=True)\n",
    "\n",
    "# create x, y columns in web mercator\n",
    "gdf = gpd.GeoSeries(gpd.points_from_xy(data.longitude, data.latitude),\n",
    "                        crs=\"EPSG:4326\")\n",
    "projected = gdf.to_crs(\"EPSG:3857\")\n",
    "data['x'] = projected.x\n",
    "data['y'] = projected.y\n",
    "\n",
    "data.sample(5)"
   ]
  },
  {
   "cell_type": "markdown",
   "id": "8198be43-9fe4-41a5-b447-452331c413a2",
   "metadata": {},
   "source": [
    "## Stop detection algorithms"
   ]
  },
  {
   "cell_type": "markdown",
   "id": "e8652b4d-ab9a-485b-898f-c52601051329",
   "metadata": {},
   "source": [
    "The stop detection algorithms in ```nomad``` are applied to each user's trajectories separately. Thus, we demonstrate first by sampling a single user's data."
   ]
  },
  {
   "cell_type": "code",
   "execution_count": null,
   "id": "a9e4e7f2-b9b5-4af9-b2e5-bc38e46a90b6",
   "metadata": {},
   "outputs": [],
   "source": [
    "user_sample = data.loc[data.uid == \"angry_spence\"]\n",
    "user_sample.head()"
   ]
  },
  {
   "cell_type": "markdown",
   "id": "7fe083e7-a972-439c-8c66-054c2e8974a9",
   "metadata": {},
   "source": [
    "For this user, the trajectory data has 1696 rows (pings) and covers a period of 15 days (start date: 2024-01-01, end date: 2024-01-15). We can visualize this trajectory below:"
   ]
  },
  {
   "cell_type": "code",
   "execution_count": null,
   "id": "1e9b1bc6-def6-4dbe-8d47-3be72ff4ab1f",
   "metadata": {},
   "outputs": [],
   "source": [
    "%matplotlib inline\n",
    "\n",
    "plot_df = user_sample.copy()\n",
    "#transformer = Transformer.from_crs(\"EPSG:4326\", \"EPSG:3857\", always_xy=True)\n",
    "#plot_df['x'], plot_df['y'] = transformer.transform(plot_df['latitude'].values, plot_df['longitude'].values)\n",
    "plot_df['x'] = (plot_df['x'] - 4265699)/15\n",
    "plot_df['y'] = (plot_df['y'] + 4392976)/15\n",
    "\n",
    "fig, ax = plt.subplots(figsize=(6, 6))\n",
    "plt.box(on=False)\n",
    "\n",
    "# Plotting Pings\n",
    "ax.scatter(x=plot_df['x'], \n",
    "           y=plot_df['y'],\n",
    "           s=6,\n",
    "           color='black',\n",
    "           alpha=1,\n",
    "           zorder=2)\n",
    "\n",
    "# Plotting Garden City Map\n",
    "city = cg.load('garden-city.pkl')\n",
    "city.plot_city(ax, doors=True, address=False)\n",
    "\n",
    "ax.set_yticklabels([])\n",
    "ax.set_xticklabels([])\n",
    "ax.set_xticks([])\n",
    "ax.set_yticks([])\n",
    "\n",
    "plt.tight_layout()\n",
    "plt.show()"
   ]
  },
  {
   "cell_type": "markdown",
   "id": "3bb39def-756f-4573-9e6d-5401662a9e3c",
   "metadata": {},
   "source": [
    "### Sequential stop detection"
   ]
  },
  {
   "cell_type": "markdown",
   "id": "4046dd82-7fde-4c8e-99ca-cf1ad530269d",
   "metadata": {},
   "source": [
    "The first stop detection algorithm implemented in ```nomad``` is a sequential algorithm insipired by the one in _Project Lachesis: Parsing and Modeling Location Histories_ (Hariharan & Toyama). This algorithm for extracting stays is dependent on two parameters: the roaming distance and the stay duration. \n",
    "\n",
    "* Roaming distance represents the maximum distance an object can move away from a point location and still be considered to be staying at that location.\n",
    "* Stop duration is the minimum amount of time an object must spend within the roaming distance of a location to qualify as a stop.\n",
    "\n",
    "The algorithm identifies stops as contiguous sequences of pings that stay within the roaming distance for at least the duration of the stop duration."
   ]
  },
  {
   "cell_type": "markdown",
   "id": "2f79a496-c726-48e0-8c2b-904fc45e7861",
   "metadata": {},
   "source": [
    "<div style=\"text-align: center;\">\n",
    "    <img src=\"lachesis_algo.png\" alt=\"Lachesis Algorithm\" title=\"Lachesis Algorithm\" width=\"500\">\n",
    "</div>"
   ]
  },
  {
   "cell_type": "markdown",
   "id": "61b5657f-2de6-45eb-9d29-486fd3104091",
   "metadata": {},
   "source": [
    "This algorithm has the following parameters, which determine the size of the resulting stops:\n",
    "* ```dur_min```: Minimum duration for a stay in minutes.\n",
    "* ```dt_max```: Maximum time gap permitted between consecutive pings in a stay in minutes (dt_max should be greater than dur_min).\n",
    "* ```delta_roam```: Maximum roaming distance for a stay in meters."
   ]
  },
  {
   "cell_type": "code",
   "execution_count": null,
   "id": "0be623a7-4490-42cd-9817-e8fd62ea05e1",
   "metadata": {},
   "outputs": [],
   "source": [
    "DUR_MIN = 60\n",
    "DT_MAX = 120\n",
    "DELTA_ROAM = 50"
   ]
  },
  {
   "cell_type": "markdown",
   "id": "0235d164-8c86-49cd-88cc-17b8dc60b1c9",
   "metadata": {},
   "source": [
    "The Lachesis algorithm can output a complete table of attributes for identified stops, including the start time, end time, the medoid coordinates, duration, number of pings in the stop, and diameter."
   ]
  },
  {
   "cell_type": "code",
   "execution_count": null,
   "id": "5d5054f0-efa5-416e-bcda-2f5c589dbbcf",
   "metadata": {
    "scrolled": true
   },
   "outputs": [],
   "source": [
    "%%time\n",
    "lachesis_stop_df = Lachesis.lachesis(traj=user_sample,\n",
    "                                     dur_min=DUR_MIN,\n",
    "                                     dt_max=DT_MAX,\n",
    "                                     delta_roam=DELTA_ROAM,\n",
    "                                     traj_cols=traj_cols,\n",
    "                                     complete_output=True,\n",
    "                                     keep_col_names = False,\n",
    "                                     datetime='local_datetime',\n",
    "                                     latitude= 'latitude',\n",
    "                                     longitude='longitude')\n",
    "\n",
    "lachesis_stop_df.head()"
   ]
  },
  {
   "cell_type": "code",
   "execution_count": null,
   "id": "f9103659-d7fc-4863-9ace-bba61c9f5bdf",
   "metadata": {},
   "outputs": [],
   "source": [
    "lachesis_stop_df.columns"
   ]
  },
  {
   "cell_type": "markdown",
   "id": "b233242a-cb65-4765-ac9f-c27c926f08b5",
   "metadata": {},
   "source": [
    "An additional argument, ```complete_output```, can be passed to only output the stop start time, duration, and medoid coordinates."
   ]
  },
  {
   "cell_type": "code",
   "execution_count": null,
   "id": "fe9e6bf7-cbf1-45a4-8a0e-57f7ea49a881",
   "metadata": {
    "scrolled": true
   },
   "outputs": [],
   "source": [
    "%%time\n",
    "Lachesis.lachesis(traj=user_sample,\n",
    "                  dur_min=DUR_MIN,\n",
    "                  dt_max=DT_MAX,\n",
    "                  delta_roam=DELTA_ROAM,\n",
    "                  traj_cols=traj_cols,\n",
    "                  complete_output=False,\n",
    "                  keep_col_names = False,\n",
    "                  datetime='local_datetime',\n",
    "                  latitude='latitude',\n",
    "                  longitude='longitude').head()"
   ]
  },
  {
   "cell_type": "markdown",
   "id": "7ad901e7-cd33-4460-b32a-6d1f67537626",
   "metadata": {},
   "source": [
    "We can also get the final cluster label for each of the pings, including those who were identified as noise."
   ]
  },
  {
   "cell_type": "code",
   "execution_count": null,
   "id": "f5c31d4a-3e45-468c-900b-3594796b21e4",
   "metadata": {},
   "outputs": [],
   "source": [
    "%%time\n",
    "sample_labels_lach = Lachesis._lachesis_labels(traj=user_sample,\n",
    "                                               dur_min=DUR_MIN,\n",
    "                                               dt_max=DT_MAX,\n",
    "                                               delta_roam=DELTA_ROAM,\n",
    "                                               traj_cols=traj_cols,\n",
    "                                               datetime='local_datetime')\n",
    "sample_labels_lach.sample(n=5)"
   ]
  },
  {
   "cell_type": "markdown",
   "id": "ebc275a5-c83d-46b9-945e-63fd50de52c5",
   "metadata": {},
   "source": [
    "The data could also come with different formats for spatial and temporal variables, the algorithm can handle those situations as well."
   ]
  },
  {
   "cell_type": "code",
   "execution_count": null,
   "id": "6823225a-fac5-4c58-befb-cea99dec4b73",
   "metadata": {},
   "outputs": [],
   "source": [
    "%%time\n",
    "# Lachesis with x, y, and timestamp\n",
    "Lachesis.lachesis(traj=user_sample,\n",
    "                  dur_min=DUR_MIN,\n",
    "                  dt_max=DT_MAX,\n",
    "                  delta_roam=DELTA_ROAM,\n",
    "                  traj_cols=traj_cols,\n",
    "                  complete_output=False,\n",
    "                  timestamp='timestamp',\n",
    "                  x='x',\n",
    "                  y='y').head()"
   ]
  },
  {
   "cell_type": "markdown",
   "id": "ea525c90-ce03-4cd7-8a5e-613629d5e570",
   "metadata": {},
   "source": [
    "Applying these stop detection algorithms to multiple users is straightforward with pandas' ```groupby``` and ```apply``` methods:"
   ]
  },
  {
   "cell_type": "code",
   "execution_count": null,
   "id": "815dbef2-f007-4045-980e-73579abd4d56",
   "metadata": {},
   "outputs": [],
   "source": [
    "mult_users = data.loc[data.uid.isin([\"angry_spence\", \"stoic_almeida\", \"relaxed_colden\", \"dazzling_bassi\"])]\n",
    "mult_users.sample(10)"
   ]
  },
  {
   "cell_type": "code",
   "execution_count": null,
   "id": "7008bfe5-0aeb-4d4f-a4cb-5264429f2c41",
   "metadata": {},
   "outputs": [],
   "source": [
    "%%time\n",
    "mult_users.groupby(['uid']).apply(lambda x: Lachesis.lachesis(x.reset_index(),\n",
    "                                                                  dur_min=DUR_MIN,\n",
    "                                                                  dt_max=DT_MAX,\n",
    "                                                                  delta_roam=DELTA_ROAM,\n",
    "                                                                  traj_cols=traj_cols,\n",
    "                                                                  complete_output=False),include_groups=False)"
   ]
  },
  {
   "cell_type": "markdown",
   "id": "c2962690-1761-4d44-bb5e-01e8c9f1666b",
   "metadata": {},
   "source": [
    "We can visualize the identified stops within the city detected by Lachesis for the sample user. Where pings of the same color represent pings belonging to the same cluster/stop and pings in grey are noise."
   ]
  },
  {
   "cell_type": "markdown",
   "id": "df1708be",
   "metadata": {},
   "source": [
    "We can visualize the identified stops within the city detected by Lachesis for the sample user. Where pings of the same color represent pings belonging to the same cluster/stop and pings in grey are noise."
   ]
  },
  {
   "cell_type": "code",
   "execution_count": null,
   "id": "c1fb281b-63f5-47bf-a3d9-b37da420bad3",
   "metadata": {},
   "outputs": [],
   "source": [
    "%matplotlib inline\n",
    "\n",
    "# Merging sample data with labels\n",
    "merged_data_lach = user_sample.merge(sample_labels_lach.to_frame(name='cluster'), left_on='local_datetime', right_index=True)\n",
    "#transformer = Transformer.from_crs(\"EPSG:4326\", \"EPSG:3857\", always_xy=True)\n",
    "#merged_data_lach['x'], merged_data_lach['y'] = transformer.transform(merged_data_lach['latitude'].values, merged_data_lach['longitude'].values)\n",
    "merged_data_lach['x'] = (merged_data_lach['x'] - 4265699)/15\n",
    "merged_data_lach['y'] = (merged_data_lach['y'] + 4392976)/15\n",
    "\n",
    "fig, ax = plt.subplots(figsize=(6, 6))\n",
    "plt.box(on=False)\n",
    "\n",
    "# Plotting Garden City Map\n",
    "city = cg.load('garden-city.pkl')\n",
    "city.plot_city(ax, doors=True, address=False)\n",
    "\n",
    "# Getting colors for clusters\n",
    "unique_clusters = np.sort(merged_data_lach['cluster'].unique())\n",
    "cluster_mapping = {cluster: i for i, cluster in enumerate(unique_clusters)}\n",
    "mapped_clusters = merged_data_lach['cluster'].map(cluster_mapping).to_numpy()\n",
    "cmap_base = plt.get_cmap('turbo', len(unique_clusters) - (1 if -1 in unique_clusters else 0))\n",
    "colors = ['gray'] + list(cmap_base.colors)\n",
    "extended_cmap = mcolors.ListedColormap(colors)\n",
    "\n",
    "# Plotting Pings\n",
    "ax.scatter(merged_data_lach['x'], \n",
    "           merged_data_lach['y'], \n",
    "           c=mapped_clusters, \n",
    "           cmap=extended_cmap, \n",
    "           s=6,\n",
    "           alpha=1,\n",
    "           zorder=2)\n",
    "\n",
    "ax.set_yticklabels([])\n",
    "ax.set_xticklabels([])\n",
    "ax.set_title(\"Lachesis Stops for Sample User\")\n",
    "ax.set_xticks([])\n",
    "ax.set_yticks([])\n",
    "\n",
    "# plt.savefig('gc_empty.png')\n",
    "plt.show()"
   ]
  },
  {
   "cell_type": "markdown",
   "id": "bbb8a063-d60e-494b-a7f7-d6c5acd94c4f",
   "metadata": {},
   "source": [
    "### Density based stop detection (Temporal DBSCAN)"
   ]
  },
  {
   "cell_type": "markdown",
   "id": "2083c282-fb27-4958-bd69-306e714ccd93",
   "metadata": {},
   "source": [
    "The second stop detection algorithm implemented in ```nomad``` is a time-augmented density-based algorithm, Temporal DBSCAN. This algorithm for clustering user pings combines temporal and spatial dimensions, relying on three key parameters: the time threshold, the distance threshold, and the minimum number of points.\n",
    "\n",
    "* The time threshold defines the maximum time difference (in minutes) between two consecutive pings for them to be considered neighbors within the same cluster.\n",
    "* The distance threshold specifies the maximum spatial distance (in meters) between two pings for them to be considered neighbors.\n",
    "* The minimum points parameter sets the minimum number of points required for a dense region to form a cluster.\n",
    "\n",
    "If a region contains fewer than minimum number of points required, it is treated as noise. The algorithm identifies clusters by grouping contiguous pings that meet both the temporal and spatial criteria, while also ensuring that each cluster has enough density to be considered valid. Our implementation of Temporal DBSCAN recursively processes the clusters obtained from DBSCAN to address the issue of some clusters overlapping in time."
   ]
  },
  {
   "cell_type": "markdown",
   "id": "432f989f-4889-4e0a-91de-eeac7e0af2f5",
   "metadata": {},
   "source": [
    "<div style=\"text-align: center;\">\n",
    "    <img src=\"dbscan_algo.png\" alt=\"DBSCAN Algorithm\" title=\"DBSCAN Algorithm\" width=\"500\">\n",
    "</div>"
   ]
  },
  {
   "cell_type": "markdown",
   "id": "32eade27-4a20-4bde-8a2b-040a12a0ff07",
   "metadata": {},
   "source": [
    "This algorithm has the following parameters, which determine the size of the resulting stops:\n",
    "* ```time_thresh```: Time threshold in minutes for identifying neighbors.\n",
    "* ```dist_thresh```: Distance threshold in meters for identifying neighbors.\n",
    "* ```min_pts```: Minimum number of points required to form a dense region (core point)."
   ]
  },
  {
   "cell_type": "code",
   "execution_count": null,
   "id": "305a6c7e-10c1-4c3f-a5d8-14d792f9c6bf",
   "metadata": {},
   "outputs": [],
   "source": [
    "TIME_THRESH = 100\n",
    "DIST_THRESH = 40\n",
    "MIN_PTS = 10"
   ]
  },
  {
   "cell_type": "markdown",
   "id": "9647a8cc-66a0-48f4-8d80-5815de683f0f",
   "metadata": {},
   "source": [
    "Similarly to Lachesis, the Temporal DBSCAN algorithm can output a complete table of attributes for identified stops, including the start time, end time, the medoid coordinates, duration, number of pings in the stop, and diameter."
   ]
  },
  {
   "cell_type": "code",
   "execution_count": null,
   "id": "7d4dffd7-58fb-42c7-9027-f6e4dcf7e052",
   "metadata": {
    "scrolled": true
   },
   "outputs": [],
   "source": [
    "%%time\n",
    "DBSCAN.temporal_dbscan(user_sample,\n",
    "                       time_thresh=TIME_THRESH,\n",
    "                       dist_thresh=DIST_THRESH,\n",
    "                       min_pts=MIN_PTS,\n",
    "                       traj_cols=traj_cols,\n",
    "                       complete_output=True,\n",
    "                       datetime='local_datetime',\n",
    "                       latitude='latitude',\n",
    "                       longitude='longitude').head()"
   ]
  },
  {
   "cell_type": "markdown",
   "id": "a0b461be-8fc6-410c-b379-926cc7a90799",
   "metadata": {},
   "source": [
    "The additional argument ```complete_output``` can also be passed to only output the stop start time, duration, and medoid coordinates."
   ]
  },
  {
   "cell_type": "code",
   "execution_count": null,
   "id": "b0cb23c6-719a-4c15-aad6-6f3436106d29",
   "metadata": {
    "scrolled": true
   },
   "outputs": [],
   "source": [
    "%%time\n",
    "DBSCAN.temporal_dbscan(user_sample,\n",
    "                       time_thresh=TIME_THRESH,\n",
    "                       dist_thresh=DIST_THRESH,\n",
    "                       min_pts=MIN_PTS,\n",
    "                       traj_cols=traj_cols,\n",
    "                       complete_output=False,\n",
    "                       datetime='local_datetime',\n",
    "                       latitude='latitude',\n",
    "                       longitude='longitude').head()"
   ]
  },
  {
   "cell_type": "markdown",
   "id": "1e971e56-46ab-427d-a4f6-a119d4773368",
   "metadata": {},
   "source": [
    "We can also get the final cluster and core labels for each of the pings."
   ]
  },
  {
   "cell_type": "code",
   "execution_count": null,
   "id": "8686f955-16d6-4773-98bc-2927e5aac717",
   "metadata": {
    "scrolled": true
   },
   "outputs": [],
   "source": [
    "%%time\n",
    "sample_labels_dbscan = DBSCAN._temporal_dbscan_labels(user_sample,\n",
    "                                                      time_thresh=TIME_THRESH,\n",
    "                                                      dist_thresh=DIST_THRESH,\n",
    "                                                      min_pts=MIN_PTS,\n",
    "                                                      traj_cols=traj_cols,\n",
    "                                                      datetime='local_datetime',\n",
    "                                                      latitude='latitude',\n",
    "                                                      longitude='longitude')\n",
    "\n",
    "sample_labels_dbscan.sample(5)"
   ]
  },
  {
   "cell_type": "markdown",
   "id": "5706889e-3ade-4a31-ab2b-c201d86cd2c2",
   "metadata": {},
   "source": [
    "The Temporal DBSCAN algorithm also handles data that comes with different formats for spatial and temporal variables."
   ]
  },
  {
   "cell_type": "code",
   "execution_count": null,
   "id": "f88f983b-69d3-4c40-ab35-6846b7578121",
   "metadata": {
    "scrolled": true
   },
   "outputs": [],
   "source": [
    "%%time\n",
    "# Temporal DBSCAN with x, y, and timestamp\n",
    "DBSCAN.temporal_dbscan(user_sample,\n",
    "                       time_thresh=TIME_THRESH,\n",
    "                       dist_thresh=DIST_THRESH,\n",
    "                       min_pts=MIN_PTS,\n",
    "                       traj_cols=traj_cols,\n",
    "                       complete_output=True,\n",
    "                       timestamp='timestamp',\n",
    "                       x='x',\n",
    "                       y='y').head()"
   ]
  },
  {
   "cell_type": "markdown",
   "id": "c369f74c-75c4-4599-ae95-91e92d2cdbf4",
   "metadata": {},
   "source": [
    "We can also visualize the identified stops within the city detected by DBSCAN for the sample user. Again, pings of the same color represent pings belonging to the same cluster/stop and pings in grey are noise."
   ]
  },
  {
   "cell_type": "code",
   "execution_count": null,
   "id": "cd3e2d56-4f33-4f76-a2c1-10fc15aebeec",
   "metadata": {},
   "outputs": [],
   "source": [
    "%matplotlib inline\n",
    "\n",
    "# Merging sample data with labels\n",
    "merged_data_dbscan = user_sample.merge(sample_labels_dbscan[['cluster']], left_on='local_datetime', right_index=True)\n",
    "#transformer = Transformer.from_crs(\"EPSG:4326\", \"EPSG:3857\", always_xy=True)\n",
    "#merged_data_dbscan['x'], merged_data_dbscan['y'] = transformer.transform(merged_data_dbscan['latitude'].values, merged_data_dbscan['longitude'].values)\n",
    "merged_data_dbscan['x'] = (merged_data_dbscan['x'] - 4265699)/15\n",
    "merged_data_dbscan['y'] = (merged_data_dbscan['y'] + 4392976)/15\n",
    "\n",
    "fig, ax = plt.subplots(figsize=(6, 6))\n",
    "plt.box(on=False)\n",
    "\n",
    "# Plotting Garden City Map\n",
    "city = cg.load('garden-city.pkl')\n",
    "city.plot_city(ax, doors=True, address=False)\n",
    "\n",
    "# Getting colors for clusters\n",
    "unique_clusters = sorted(merged_data_dbscan['cluster'].unique())\n",
    "cluster_mapping = {cluster: i for i, cluster in enumerate(unique_clusters)}\n",
    "mapped_clusters = merged_data_dbscan['cluster'].map(cluster_mapping).to_numpy()\n",
    "cmap_base = plt.get_cmap('turbo', len(unique_clusters) - (1 if -1 in unique_clusters else 0))\n",
    "colors = ['gray'] + list(cmap_base.colors)\n",
    "extended_cmap = mcolors.ListedColormap(colors)\n",
    "\n",
    "# Plotting Pings\n",
    "ax.scatter(merged_data_dbscan['x'], \n",
    "           merged_data_dbscan['y'], \n",
    "           c=mapped_clusters, \n",
    "           cmap=extended_cmap, \n",
    "           s=6,\n",
    "           alpha=1,\n",
    "           zorder=2)\n",
    "\n",
    "ax.set_yticklabels([])\n",
    "ax.set_xticklabels([])\n",
    "ax.set_title(\"DBSCAN Stops for Sample User\")\n",
    "ax.set_xticks([])\n",
    "ax.set_yticks([])\n",
    "\n",
    "# plt.savefig('gc_empty.png')\n",
    "plt.show()"
   ]
  }
 ],
 "metadata": {
  "kernelspec": {
   "display_name": "Python 3 (ipykernel)",
   "language": "python",
   "name": "python3"
  },
  "language_info": {
   "codemirror_mode": {
    "name": "ipython",
    "version": 3
   },
   "file_extension": ".py",
   "mimetype": "text/x-python",
   "name": "python",
   "nbconvert_exporter": "python",
   "pygments_lexer": "ipython3",
   "version": "3.12.3"
  }
 },
 "nbformat": 4,
 "nbformat_minor": 5
}

{
 "cells": [
  {
   "cell_type": "markdown",
   "id": "f2202904",
   "metadata": {},
   "source": [
    "# Tutorial 2: Stop detection in trajectories"
   ]
  },
  {
   "cell_type": "markdown",
   "id": "6b6bfaef",
   "metadata": {},
   "source": [
    "This notebook shows how to process device-level trajectory data, in different formats, to detect stops using ```nomad```. Stop detection is an important step in\n",
    "pre-processing trajectory data and in making sense of trajectories by grouping together pings that reflect stationary behavior. The output of stop-detection algorithms is commonly a \"stop table\", indicating when a stop started, its duration, and a pair of coordinates that approximates the location of the group of pings (typically the centroid). Alternatively, ```nomad``` allows users to retrieve a cluster label for each ping (useful for plotting, for example)."
   ]
  },
  {
   "cell_type": "code",
   "execution_count": null,
   "id": "ea431d2a",
   "metadata": {},
   "outputs": [],
   "source": [
    "import pandas as pd\n",
    "import numpy as np\n",
    "from datetime import timedelta\n",
    "import pygeohash as gh\n",
    "import geopandas as gpd\n",
    "from matplotlib import cm\n",
    "import matplotlib.pyplot as plt\n",
    "import matplotlib.colors as mcolors\n",
    "from pyproj import Transformer"
   ]
  },
  {
   "cell_type": "code",
   "execution_count": null,
   "id": "38427c9e",
   "metadata": {},
   "outputs": [],
   "source": [
    "import nomad.io.base as loader\n",
    "import nomad.constants as constants\n",
    "import nomad.stop_detection.ta_dbscan as DBSCAN\n",
    "import nomad.stop_detection.lachesis as Lachesis\n",
    "import nomad.filters as filters\n",
    "import nomad.city_gen as cg"
   ]
  },
  {
   "cell_type": "markdown",
   "id": "c96d0003",
   "metadata": {},
   "source": [
    "## Load data sample"
   ]
  },
  {
   "cell_type": "markdown",
   "id": "6b6aae3a",
   "metadata": {},
   "source": [
    "For these examples we load some test data from ```nomad``` which has the following trajectory columns. Defining this dictionary beforehands makes the handling of parameters more concise and helps the algorithms know which columns to use. "
   ]
  },
  {
   "cell_type": "code",
   "execution_count": null,
   "id": "1917ff53",
   "metadata": {},
   "outputs": [],
   "source": [
    "traj_cols = {'user_id':'uid',\n",
    "             'datetime':'local_datetime',\n",
    "             'latitude':'latitude',\n",
    "             'longitude':'longitude'}\n",
    "\n",
    "data = loader.from_file(\"../nomad/data/gc_sample.csv\")"
   ]
  },
  {
   "cell_type": "code",
   "execution_count": null,
   "id": "b0b66ff1",
   "metadata": {},
   "outputs": [],
   "source": [
    "data.head()"
   ]
  },
  {
   "cell_type": "markdown",
   "id": "8b4f4ca1",
   "metadata": {},
   "source": [
    "This synthetic data has records for 100 users for a 1 week period, with spherical coordinates (lat, lon) and datetime format for the time component of each ping. "
   ]
  },
  {
   "cell_type": "markdown",
   "id": "07213017",
   "metadata": {},
   "source": [
    "### Additional columns \n",
    "\n",
    "Nomad allows a degree of flexibility on the input trajectory data used for stop detection (and other algorithms), including common cases like datetime64[ns] formats for the time variable, ISO8601 string formats, or a pandas series with pandas.Timestamp objects. Similarly, it is often the case (and it can speed up stop-detection algorithms) that trajectory data has non-spherical coordinates with units in meters. These are useful for local analyses so that Euclidean distance can be used. \n",
    "\n",
    "To demonstrate this flexibility, we create some of these columns with alternative formats. "
   ]
  },
  {
   "cell_type": "code",
   "execution_count": null,
   "id": "cd9fe19a",
   "metadata": {},
   "outputs": [],
   "source": [
    "# We create a time offset column with different UTC offsets (in seconds)\n",
    "data['tz_offset'] = 0\n",
    "data.loc[data.index[:5000],'tz_offset'] = -7200\n",
    "data.loc[data.index[-5000:], 'tz_offset'] = 3600\n",
    "\n",
    "# create datetime column as a string\n",
    "data['local_datetime'] = loader._unix_offset_to_str(data.timestamp, data.tz_offset)\n",
    "data['local_datetime'] = pd.to_datetime(data['local_datetime'], utc=True)\n",
    "\n",
    "# create x, y columns in web mercator\n",
    "gdf = gpd.GeoSeries(gpd.points_from_xy(data.longitude, data.latitude),\n",
    "                        crs=\"EPSG:4326\")\n",
    "projected = gdf.to_crs(\"EPSG:3857\")\n",
    "data['x'] = projected.x\n",
    "data['y'] = projected.y\n",
    "\n",
    "data.sample(5)"
   ]
  },
  {
   "cell_type": "markdown",
   "id": "fcad962c",
   "metadata": {},
   "source": [
    "## Stop detection algorithms"
   ]
  },
  {
   "cell_type": "markdown",
   "id": "a7c74f1f",
   "metadata": {},
   "source": [
    "The stop detection algorithms in ```nomad``` are applied to each user's trajectories separately. Thus, we demonstrate first by sampling a single user's data."
   ]
  },
  {
   "cell_type": "code",
   "execution_count": null,
   "id": "369127db",
   "metadata": {},
   "outputs": [],
   "source": [
    "user_sample = data.loc[data.uid == \"angry_spence\"]\n",
    "user_sample.head()"
   ]
  },
  {
   "cell_type": "markdown",
   "id": "b3773f31",
   "metadata": {},
   "source": [
    "For this user, the trajectory data has 1696 rows (pings) and covers a period of 15 days (start date: 2024-01-01, end date: 2024-01-15). We can visualize this trajectory below:"
   ]
  },
  {
   "cell_type": "code",
   "execution_count": null,
   "id": "49044f51",
   "metadata": {},
   "outputs": [],
   "source": [
    "%matplotlib inline\n",
    "\n",
    "plot_df = user_sample.copy()\n",
    "#transformer = Transformer.from_crs(\"EPSG:4326\", \"EPSG:3857\", always_xy=True)\n",
    "#plot_df['x'], plot_df['y'] = transformer.transform(plot_df['latitude'].values, plot_df['longitude'].values)\n",
    "plot_df['x'] = (plot_df['x'] - 4265699)/15\n",
    "plot_df['y'] = (plot_df['y'] + 4392976)/15\n",
    "\n",
    "fig, ax = plt.subplots(figsize=(6, 6))\n",
    "plt.box(on=False)\n",
    "\n",
    "# Plotting Pings\n",
    "ax.scatter(x=plot_df['x'], \n",
    "           y=plot_df['y'],\n",
    "           s=6,\n",
    "           color='black',\n",
    "           alpha=1,\n",
    "           zorder=2)\n",
    "\n",
    "# Plotting Garden City Map\n",
    "city = cg.load('garden-city.pkl')\n",
    "city.plot_city(ax, doors=True, address=False)\n",
    "\n",
    "ax.set_yticklabels([])\n",
    "ax.set_xticklabels([])\n",
    "ax.set_xticks([])\n",
    "ax.set_yticks([])\n",
    "\n",
    "plt.tight_layout()\n",
    "plt.show()"
   ]
  },
  {
   "cell_type": "markdown",
   "id": "6dfe0d1e",
   "metadata": {},
   "source": [
    "### Sequential stop detection"
   ]
  },
  {
   "cell_type": "markdown",
   "id": "c40c8037",
   "metadata": {},
   "source": [
    "The first stop detection algorithm implemented in ```nomad``` is a sequential algorithm insipired by the one in _Project Lachesis: Parsing and Modeling Location Histories_ (Hariharan & Toyama). This algorithm for extracting stays is dependent on two parameters: the roaming distance and the stay duration. \n",
    "\n",
    "* Roaming distance represents the maximum distance an object can move away from a point location and still be considered to be staying at that location.\n",
    "* Stop duration is the minimum amount of time an object must spend within the roaming distance of a location to qualify as a stop.\n",
    "\n",
    "The algorithm identifies stops as contiguous sequences of pings that stay within the roaming distance for at least the duration of the stop duration."
   ]
  },
  {
   "cell_type": "markdown",
   "id": "c6da7521",
   "metadata": {},
   "source": [
    "<div style=\"text-align: center;\">\n",
    "    <img src=\"lachesis_algo.png\" alt=\"Lachesis Algorithm\" title=\"Lachesis Algorithm\" width=\"500\">\n",
    "</div>"
   ]
  },
  {
   "cell_type": "markdown",
   "id": "73478b1f",
   "metadata": {},
   "source": [
    "This algorithm has the following parameters, which determine the size of the resulting stops:\n",
    "* ```dur_min```: Minimum duration for a stay in minutes.\n",
    "* ```dt_max```: Maximum time gap permitted between consecutive pings in a stay in minutes (dt_max should be greater than dur_min).\n",
    "* ```delta_roam```: Maximum roaming distance for a stay in meters."
   ]
  },
  {
   "cell_type": "code",
   "execution_count": null,
   "id": "9ba72fa8",
   "metadata": {},
   "outputs": [],
   "source": [
    "DUR_MIN = 60\n",
    "DT_MAX = 120\n",
    "DELTA_ROAM = 50"
   ]
  },
  {
   "cell_type": "markdown",
   "id": "ffbdbd87",
   "metadata": {},
   "source": [
    "The Lachesis algorithm can output a complete table of attributes for identified stops, including the start time, end time, the medoid coordinates, duration, number of pings in the stop, and diameter."
   ]
  },
  {
   "cell_type": "code",
   "execution_count": null,
   "id": "19e802f6",
   "metadata": {
    "scrolled": true
   },
   "outputs": [],
   "source": [
    "%%time\n",
    "lachesis_stop_df = Lachesis.lachesis(traj=user_sample,\n",
    "                                     dur_min=DUR_MIN,\n",
    "                                     dt_max=DT_MAX,\n",
    "                                     delta_roam=DELTA_ROAM,\n",
    "                                     traj_cols=traj_cols,\n",
    "                                     complete_output=True,\n",
    "                                     keep_col_names = False,\n",
    "                                     datetime='local_datetime',\n",
    "                                     latitude= 'latitude',\n",
    "                                     longitude='longitude')\n",
    "\n",
    "lachesis_stop_df.head()"
   ]
  },
  {
   "cell_type": "code",
   "execution_count": null,
   "id": "0621a456",
   "metadata": {},
   "outputs": [],
   "source": [
    "lachesis_stop_df.columns"
   ]
  },
  {
   "cell_type": "markdown",
   "id": "a4c9270d",
   "metadata": {},
   "source": [
    "An additional argument, ```complete_output```, can be passed to only output the stop start time, duration, and medoid coordinates."
   ]
  },
  {
   "cell_type": "code",
   "execution_count": null,
   "id": "9612457b",
   "metadata": {
    "scrolled": true
   },
   "outputs": [],
   "source": [
    "%%time\n",
    "Lachesis.lachesis(traj=user_sample,\n",
    "                  dur_min=DUR_MIN,\n",
    "                  dt_max=DT_MAX,\n",
    "                  delta_roam=DELTA_ROAM,\n",
    "                  traj_cols=traj_cols,\n",
    "                  complete_output=False,\n",
    "                  keep_col_names = False,\n",
    "                  datetime='local_datetime',\n",
    "                  latitude='latitude',\n",
    "                  longitude='longitude').head()"
   ]
  },
  {
   "cell_type": "markdown",
   "id": "970dc94f",
   "metadata": {},
   "source": [
    "We can also get the final cluster label for each of the pings, including those who were identified as noise."
   ]
  },
  {
   "cell_type": "code",
   "execution_count": null,
   "id": "95f4f7f9",
   "metadata": {},
   "outputs": [],
   "source": [
    "%%time\n",
    "sample_labels_lach = Lachesis._lachesis_labels(traj=user_sample,\n",
    "                                               dur_min=DUR_MIN,\n",
    "                                               dt_max=DT_MAX,\n",
    "                                               delta_roam=DELTA_ROAM,\n",
    "                                               traj_cols=traj_cols,\n",
    "                                               datetime='local_datetime')\n",
    "sample_labels_lach.sample(n=5)"
   ]
  },
  {
   "cell_type": "markdown",
   "id": "70ac4b2e",
   "metadata": {},
   "source": [
    "The data could also come with different formats for spatial and temporal variables, the algorithm can handle those situations as well."
   ]
  },
  {
   "cell_type": "code",
   "execution_count": null,
   "id": "2422b279",
   "metadata": {},
   "outputs": [],
   "source": [
    "%%time\n",
    "# Lachesis with x, y, and timestamp\n",
    "Lachesis.lachesis(traj=user_sample,\n",
    "                  dur_min=DUR_MIN,\n",
    "                  dt_max=DT_MAX,\n",
    "                  delta_roam=DELTA_ROAM,\n",
    "                  traj_cols=traj_cols,\n",
    "                  complete_output=False,\n",
    "                  timestamp='timestamp',\n",
    "                  x='x',\n",
    "                  y='y').head()"
   ]
  },
  {
   "cell_type": "markdown",
   "id": "bd2b5cc6",
   "metadata": {},
   "source": [
    "Applying these stop detection algorithms to multiple users is straightforward with pandas' ```groupby``` and ```apply``` methods:"
   ]
  },
  {
   "cell_type": "code",
   "execution_count": null,
   "id": "f527c51b",
   "metadata": {},
   "outputs": [],
   "source": [
    "mult_users = data.loc[data.uid.isin([\"angry_spence\", \"stoic_almeida\", \"relaxed_colden\", \"dazzling_bassi\"])]\n",
    "mult_users.sample(10)"
   ]
  },
  {
   "cell_type": "code",
   "execution_count": null,
   "id": "e60615e1",
   "metadata": {},
   "outputs": [],
   "source": [
    "%%time\n",
    "mult_users.groupby(['uid']).apply(lambda x: Lachesis.lachesis(x.reset_index(),\n",
    "                                                                  dur_min=DUR_MIN,\n",
    "                                                                  dt_max=DT_MAX,\n",
    "                                                                  delta_roam=DELTA_ROAM,\n",
    "                                                                  traj_cols=traj_cols,\n",
    "                                                                  complete_output=False),include_groups=False)"
   ]
  },
  {
   "cell_type": "markdown",
   "id": "c0e69b3a",
   "metadata": {},
   "source": [
    "We can visualize the identified stops within the city detected by Lachesis for the sample user. Where pings of the same color represent pings belonging to the same cluster/stop and pings in grey are noise."
   ]
  },
  {
   "cell_type": "markdown",
   "id": "ebabedcd",
   "metadata": {},
   "source": [
    "We can visualize the identified stops within the city detected by Lachesis for the sample user. Where pings of the same color represent pings belonging to the same cluster/stop and pings in grey are noise."
   ]
  },
  {
   "cell_type": "code",
   "execution_count": null,
   "id": "8b96dcfc",
   "metadata": {},
   "outputs": [],
   "source": [
    "%matplotlib inline\n",
    "\n",
    "# Merging sample data with labels\n",
    "merged_data_lach = user_sample.merge(sample_labels_lach.to_frame(name='cluster'), left_on='local_datetime', right_index=True)\n",
    "merged_data_lach['x'] = (merged_data_lach['x'] - 4265699)/15\n",
    "merged_data_lach['y'] = (merged_data_lach['y'] + 4392976)/15\n",
    "\n",
    "fig, ax = plt.subplots(figsize=(6, 6))\n",
    "plt.box(on=False)\n",
    "\n",
    "# Plotting Garden City Map\n",
    "city = cg.load('garden-city.pkl')\n",
    "city.plot_city(ax, doors=True, address=False)\n",
    "\n",
    "# Getting colors for clusters\n",
    "unique_clusters = np.sort(merged_data_lach['cluster'].unique())\n",
    "cluster_mapping = {cluster: i for i, cluster in enumerate(unique_clusters)}\n",
    "mapped_clusters = merged_data_lach['cluster'].map(cluster_mapping).to_numpy()\n",
    "cmap_base = plt.get_cmap('turbo', len(unique_clusters) - (1 if -1 in unique_clusters else 0))\n",
    "colors = ['gray'] + list(cmap_base.colors)\n",
    "extended_cmap = mcolors.ListedColormap(colors)\n",
    "\n",
    "# Plotting Pings\n",
    "ax.scatter(merged_data_lach['x'], \n",
    "           merged_data_lach['y'], \n",
    "           c=mapped_clusters, \n",
    "           cmap=extended_cmap, \n",
    "           s=6,\n",
    "           alpha=1,\n",
    "           zorder=2)\n",
    "\n",
    "ax.set_yticklabels([])\n",
    "ax.set_xticklabels([])\n",
    "ax.set_title(\"Lachesis Stops for Sample User\")\n",
    "ax.set_xticks([])\n",
    "ax.set_yticks([])\n",
    "\n",
    "# plt.savefig('gc_empty.png')\n",
    "plt.show()"
   ]
  },
  {
   "cell_type": "markdown",
   "id": "fe8e7284",
   "metadata": {},
   "source": [
    "### Density based stop detection (Temporal DBSCAN)"
   ]
  },
  {
   "cell_type": "markdown",
   "id": "2408714b",
   "metadata": {},
   "source": [
    "The second stop detection algorithm implemented in ```nomad``` is a time-augmented density-based algorithm, Temporal DBSCAN. This algorithm for clustering user pings combines temporal and spatial dimensions, relying on three key parameters: the time threshold, the distance threshold, and the minimum number of points.\n",
    "\n",
    "* The time threshold defines the maximum time difference (in minutes) between two consecutive pings for them to be considered neighbors within the same cluster.\n",
    "* The distance threshold specifies the maximum spatial distance (in meters) between two pings for them to be considered neighbors.\n",
    "* The minimum points parameter sets the minimum number of points required for a dense region to form a cluster.\n",
    "\n",
    "If a region contains fewer than minimum number of points required, it is treated as noise. The algorithm identifies clusters by grouping contiguous pings that meet both the temporal and spatial criteria, while also ensuring that each cluster has enough density to be considered valid. Our implementation of Temporal DBSCAN recursively processes the clusters obtained from DBSCAN to address the issue of some clusters overlapping in time."
   ]
  },
  {
   "cell_type": "markdown",
   "id": "8cb51861",
   "metadata": {},
   "source": [
    "<div style=\"text-align: center;\">\n",
    "    <img src=\"dbscan_algo.png\" alt=\"DBSCAN Algorithm\" title=\"DBSCAN Algorithm\" width=\"500\">\n",
    "</div>"
   ]
  },
  {
   "cell_type": "markdown",
   "id": "d0b4422d",
   "metadata": {},
   "source": [
    "This algorithm has the following parameters, which determine the size of the resulting stops:\n",
    "* ```time_thresh```: Time threshold in minutes for identifying neighbors.\n",
    "* ```dist_thresh```: Distance threshold in meters for identifying neighbors.\n",
    "* ```min_pts```: Minimum number of points required to form a dense region (core point)."
   ]
  },
  {
   "cell_type": "code",
   "execution_count": null,
   "id": "a46f83bd",
   "metadata": {},
   "outputs": [],
   "source": [
    "TIME_THRESH = 100\n",
    "DIST_THRESH = 40\n",
    "MIN_PTS = 10"
   ]
  },
  {
   "cell_type": "markdown",
   "id": "f8568999",
   "metadata": {},
   "source": [
    "Similarly to Lachesis, the Temporal DBSCAN algorithm can output a complete table of attributes for identified stops, including the start time, end time, the medoid coordinates, duration, number of pings in the stop, and diameter."
   ]
  },
  {
   "cell_type": "code",
   "execution_count": null,
   "id": "52e5b09f",
   "metadata": {
    "scrolled": true
   },
   "outputs": [],
   "source": [
    "%%time\n",
    "DBSCAN.temporal_dbscan(user_sample,\n",
    "                       time_thresh=TIME_THRESH,\n",
    "                       dist_thresh=DIST_THRESH,\n",
    "                       min_pts=MIN_PTS,\n",
    "                       traj_cols=traj_cols,\n",
    "                       complete_output=True,\n",
    "                       datetime='local_datetime',\n",
    "                       latitude='latitude',\n",
    "                       longitude='longitude').head()"
   ]
  },
  {
   "cell_type": "markdown",
   "id": "d1fee8a3",
   "metadata": {},
   "source": [
    "The additional argument ```complete_output``` can also be passed to only output the stop start time, duration, and medoid coordinates."
   ]
  },
  {
   "cell_type": "code",
   "execution_count": null,
   "id": "20473980",
   "metadata": {
    "scrolled": true
   },
   "outputs": [],
   "source": [
    "%%time\n",
    "DBSCAN.temporal_dbscan(user_sample,\n",
    "                       time_thresh=TIME_THRESH,\n",
    "                       dist_thresh=DIST_THRESH,\n",
    "                       min_pts=MIN_PTS,\n",
    "                       traj_cols=traj_cols,\n",
    "                       complete_output=False,\n",
    "                       datetime='local_datetime',\n",
    "                       latitude='latitude',\n",
    "                       longitude='longitude').head()"
   ]
  },
  {
   "cell_type": "markdown",
   "id": "927733f0",
   "metadata": {},
   "source": [
    "We can also get the final cluster and core labels for each of the pings."
   ]
  },
  {
   "cell_type": "code",
   "execution_count": null,
   "id": "b9114cba",
   "metadata": {
    "scrolled": true
   },
   "outputs": [],
   "source": [
    "%%time\n",
    "sample_labels_dbscan = DBSCAN._temporal_dbscan_labels(user_sample,\n",
    "                                                      time_thresh=TIME_THRESH,\n",
    "                                                      dist_thresh=DIST_THRESH,\n",
    "                                                      min_pts=MIN_PTS,\n",
    "                                                      traj_cols=traj_cols,\n",
    "                                                      datetime='local_datetime',\n",
    "                                                      latitude='latitude',\n",
    "                                                      longitude='longitude')\n",
    "\n",
    "sample_labels_dbscan.sample(5)"
   ]
  },
  {
   "cell_type": "markdown",
   "id": "ff37c7c6",
   "metadata": {},
   "source": [
    "The Temporal DBSCAN algorithm also handles data that comes with different formats for spatial and temporal variables."
   ]
  },
  {
   "cell_type": "code",
   "execution_count": null,
   "id": "8415be00",
   "metadata": {
    "scrolled": true
   },
   "outputs": [],
   "source": [
    "%%time\n",
    "# Temporal DBSCAN with x, y, and timestamp\n",
    "DBSCAN.temporal_dbscan(user_sample,\n",
    "                       time_thresh=TIME_THRESH,\n",
    "                       dist_thresh=DIST_THRESH,\n",
    "                       min_pts=MIN_PTS,\n",
    "                       traj_cols=traj_cols,\n",
    "                       complete_output=True,\n",
    "                       timestamp='timestamp',\n",
    "                       x='x',\n",
    "                       y='y').head()"
   ]
  },
  {
   "cell_type": "markdown",
   "id": "8491669b",
   "metadata": {},
   "source": [
    "We can also visualize the identified stops within the city detected by DBSCAN for the sample user. Again, pings of the same color represent pings belonging to the same cluster/stop and pings in grey are noise."
   ]
  },
  {
   "cell_type": "code",
   "execution_count": null,
   "id": "abedf232",
   "metadata": {},
   "outputs": [],
   "source": [
    "%matplotlib inline\n",
    "\n",
    "# Merging sample data with labels\n",
    "merged_data_dbscan = user_sample.merge(sample_labels_dbscan[['cluster']], left_on='local_datetime', right_index=True)\n",
    "merged_data_dbscan['x'] = (merged_data_dbscan['x'] - 4265699)/15\n",
    "merged_data_dbscan['y'] = (merged_data_dbscan['y'] + 4392976)/15\n",
    "\n",
    "fig, ax = plt.subplots(figsize=(6, 6))\n",
    "plt.box(on=False)\n",
    "\n",
    "# Plotting Garden City Map\n",
    "city = cg.load('garden-city.pkl')\n",
    "city.plot_city(ax, doors=True, address=False)\n",
    "\n",
    "# Getting colors for clusters\n",
    "unique_clusters = sorted(merged_data_dbscan['cluster'].unique())\n",
    "cluster_mapping = {cluster: i for i, cluster in enumerate(unique_clusters)}\n",
    "mapped_clusters = merged_data_dbscan['cluster'].map(cluster_mapping).to_numpy()\n",
    "cmap_base = plt.get_cmap('turbo', len(unique_clusters) - (1 if -1 in unique_clusters else 0))\n",
    "colors = ['gray'] + list(cmap_base.colors)\n",
    "extended_cmap = mcolors.ListedColormap(colors)\n",
    "\n",
    "# Plotting Pings\n",
    "ax.scatter(merged_data_dbscan['x'], \n",
    "           merged_data_dbscan['y'], \n",
    "           c=mapped_clusters, \n",
    "           cmap=extended_cmap, \n",
    "           s=6,\n",
    "           alpha=1,\n",
    "           zorder=2)\n",
    "\n",
    "ax.set_yticklabels([])\n",
    "ax.set_xticklabels([])\n",
    "ax.set_title(\"DBSCAN Stops for Sample User\")\n",
    "ax.set_xticks([])\n",
    "ax.set_yticks([])\n",
    "\n",
    "# plt.savefig('gc_empty.png')\n",
    "plt.show()"
   ]
  }
 ],
 "metadata": {
  "kernelspec": {
   "display_name": "Python 3 (ipykernel)",
   "language": "python",
   "name": "python3"
  },
  "language_info": {
   "codemirror_mode": {
    "name": "ipython",
    "version": 3
   },
   "file_extension": ".py",
   "mimetype": "text/x-python",
   "name": "python",
   "nbconvert_exporter": "python",
   "pygments_lexer": "ipython3",
   "version": "3.12.3"
  }
 },
 "nbformat": 4,
 "nbformat_minor": 5
}

{
 "cells": [
  {
   "cell_type": "markdown",
   "id": "d0f6a437-fe6f-422f-903e-35fee48a5eeb",
   "metadata": {},
   "source": [
    "# Tutorial 2: Stop detection in trajectories"
   ]
  },
  {
   "cell_type": "markdown",
   "id": "0318baed-0d36-45ba-95ba-cd00731b4de8",
   "metadata": {},
   "source": [
    "This notebook shows how to process device-level trajectory data, in different formats, to detect stops using ```nomad```. Stop detection is an important step in\n",
    "pre-processing trajectory data and in making sense of trajectories by grouping together pings that reflect stationary behavior. The output of stop-detection algorithms is commonly a \"stop table\", indicating when a stop started, its duration, and a pair of coordinates that approximates the location of the group of pings (typically the centroid). Alternatively, ```nomad``` allows users to retrieve a cluster label for each ping (useful for plotting, for example)"
   ]
  },
  {
   "cell_type": "code",
   "execution_count": 1,
   "id": "9e1b64f0-e62c-45f6-983b-e1fd56f3f6d0",
   "metadata": {},
   "outputs": [],
   "source": [
    "import importlib\n",
    "import pandas as pd\n",
    "import matplotlib.pyplot as plt\n",
    "import nomad.filters as filters\n",
    "import nomad.daphmeIO as loader\n",
    "import nomad.constants as constants\n",
    "import nomad.stop_detection.ta_dbscan as DBSCAN\n",
    "import nomad.stop_detection.lachesis as Lachesis"
   ]
  },
  {
   "cell_type": "code",
   "execution_count": 2,
   "id": "a7aee58a-fe67-42fe-89fa-68e7f9535e1a",
   "metadata": {},
   "outputs": [],
   "source": [
    "import pandas as pd\n",
    "from scipy.spatial.distance import pdist, cdist\n",
    "import numpy as np\n",
    "import math\n",
    "import datetime as dt\n",
    "from datetime import timedelta\n",
    "import matplotlib.pyplot as plt\n",
    "import itertools\n",
    "from collections import defaultdict\n",
    "import sys\n",
    "import os\n",
    "import pdb"
   ]
  },
  {
   "cell_type": "markdown",
   "id": "2531f9bd-7243-4c3f-a5af-481600efe0f3",
   "metadata": {},
   "source": [
    "## Load data sample"
   ]
  },
  {
   "cell_type": "markdown",
   "id": "9777b795-37c1-414d-bb8c-0d5eeee87543",
   "metadata": {},
   "source": [
    "For these examples we load some test data from ```nomad``` which has the following trajectory columns (notice that ```traj_cols``` maps the data's column names to default names used by ```nomad```)"
   ]
  },
  {
   "cell_type": "code",
   "execution_count": 3,
   "id": "fb190bef-d668-490e-809b-de42196b5850",
   "metadata": {},
   "outputs": [],
   "source": [
    "traj_cols = {'user_id':'user_id',\n",
    "             'latitude':'dev_lat',\n",
    "             'longitude':'dev_lon',\n",
    "             'datetime':'local_datetime'}"
   ]
  },
  {
   "cell_type": "code",
   "execution_count": 4,
   "id": "c1e40c8b-8d13-4da2-add4-b37612af97f4",
   "metadata": {},
   "outputs": [],
   "source": [
    "path = '../data/sample4/'\n",
    "data = loader.from_file(path, traj_cols=traj_cols, format='csv')"
   ]
  },
  {
   "cell_type": "markdown",
   "id": "66c452e9-d32d-4388-86bb-1eeef4c42c83",
   "metadata": {},
   "source": [
    "This synthetic data has records for 100 users for a 1 week period, with spherical coordinates (lat, lon) and datetime format for the time component of each ping. "
   ]
  },
  {
   "cell_type": "code",
   "execution_count": 5,
   "id": "36d1bf28-244f-4111-bf21-efc06c744164",
   "metadata": {},
   "outputs": [
    {
     "data": {
      "text/html": [
       "<div>\n",
       "<style scoped>\n",
       "    .dataframe tbody tr th:only-of-type {\n",
       "        vertical-align: middle;\n",
       "    }\n",
       "\n",
       "    .dataframe tbody tr th {\n",
       "        vertical-align: top;\n",
       "    }\n",
       "\n",
       "    .dataframe thead th {\n",
       "        text-align: right;\n",
       "    }\n",
       "</style>\n",
       "<table border=\"1\" class=\"dataframe\">\n",
       "  <thead>\n",
       "    <tr style=\"text-align: right;\">\n",
       "      <th></th>\n",
       "      <th>user_id</th>\n",
       "      <th>dev_lat</th>\n",
       "      <th>dev_lon</th>\n",
       "      <th>local_datetime</th>\n",
       "    </tr>\n",
       "  </thead>\n",
       "  <tbody>\n",
       "    <tr>\n",
       "      <th>0</th>\n",
       "      <td>wizardly_joliot</td>\n",
       "      <td>38.321711</td>\n",
       "      <td>-36.667334</td>\n",
       "      <td>2024-01-01 14:29:00</td>\n",
       "    </tr>\n",
       "    <tr>\n",
       "      <th>1</th>\n",
       "      <td>wizardly_joliot</td>\n",
       "      <td>38.321676</td>\n",
       "      <td>-36.667365</td>\n",
       "      <td>2024-01-01 14:35:00</td>\n",
       "    </tr>\n",
       "    <tr>\n",
       "      <th>2</th>\n",
       "      <td>wonderful_swirles</td>\n",
       "      <td>38.321017</td>\n",
       "      <td>-36.667869</td>\n",
       "      <td>2024-01-01 15:06:00</td>\n",
       "    </tr>\n",
       "    <tr>\n",
       "      <th>3</th>\n",
       "      <td>youthful_galileo</td>\n",
       "      <td>38.321625</td>\n",
       "      <td>-36.666612</td>\n",
       "      <td>2024-01-01 08:47:00</td>\n",
       "    </tr>\n",
       "    <tr>\n",
       "      <th>4</th>\n",
       "      <td>youthful_galileo</td>\n",
       "      <td>38.321681</td>\n",
       "      <td>-36.666841</td>\n",
       "      <td>2024-01-01 09:59:00</td>\n",
       "    </tr>\n",
       "  </tbody>\n",
       "</table>\n",
       "</div>"
      ],
      "text/plain": [
       "             user_id    dev_lat    dev_lon      local_datetime\n",
       "0    wizardly_joliot  38.321711 -36.667334 2024-01-01 14:29:00\n",
       "1    wizardly_joliot  38.321676 -36.667365 2024-01-01 14:35:00\n",
       "2  wonderful_swirles  38.321017 -36.667869 2024-01-01 15:06:00\n",
       "3   youthful_galileo  38.321625 -36.666612 2024-01-01 08:47:00\n",
       "4   youthful_galileo  38.321681 -36.666841 2024-01-01 09:59:00"
      ]
     },
     "execution_count": 5,
     "metadata": {},
     "output_type": "execute_result"
    }
   ],
   "source": [
    "data.head()"
   ]
  },
  {
   "cell_type": "markdown",
   "id": "8198be43-9fe4-41a5-b447-452331c413a2",
   "metadata": {},
   "source": [
    "## Stop detection algorithms"
   ]
  },
  {
   "cell_type": "markdown",
   "id": "e8652b4d-ab9a-485b-898f-c52601051329",
   "metadata": {},
   "source": [
    "The stop detection algorithms in ```nomad``` are applied to each user's trajectories separately. Thus, we demonstrate first by sampling a single user's data."
   ]
  },
  {
   "cell_type": "code",
   "execution_count": 6,
   "id": "a9e4e7f2-b9b5-4af9-b2e5-bc38e46a90b6",
   "metadata": {},
   "outputs": [],
   "source": [
    "user_sample = data.loc[data.user_id == \"angry_spence\"]"
   ]
  },
  {
   "cell_type": "code",
   "execution_count": 7,
   "id": "3f186420-9ae7-4021-9135-01b16e830f4f",
   "metadata": {},
   "outputs": [
    {
     "data": {
      "text/html": [
       "<div>\n",
       "<style scoped>\n",
       "    .dataframe tbody tr th:only-of-type {\n",
       "        vertical-align: middle;\n",
       "    }\n",
       "\n",
       "    .dataframe tbody tr th {\n",
       "        vertical-align: top;\n",
       "    }\n",
       "\n",
       "    .dataframe thead th {\n",
       "        text-align: right;\n",
       "    }\n",
       "</style>\n",
       "<table border=\"1\" class=\"dataframe\">\n",
       "  <thead>\n",
       "    <tr style=\"text-align: right;\">\n",
       "      <th></th>\n",
       "      <th>user_id</th>\n",
       "      <th>dev_lat</th>\n",
       "      <th>dev_lon</th>\n",
       "      <th>local_datetime</th>\n",
       "    </tr>\n",
       "  </thead>\n",
       "  <tbody>\n",
       "    <tr>\n",
       "      <th>991</th>\n",
       "      <td>angry_spence</td>\n",
       "      <td>38.320990</td>\n",
       "      <td>-36.666555</td>\n",
       "      <td>2024-01-01 10:21:00</td>\n",
       "    </tr>\n",
       "    <tr>\n",
       "      <th>992</th>\n",
       "      <td>angry_spence</td>\n",
       "      <td>38.320962</td>\n",
       "      <td>-36.666504</td>\n",
       "      <td>2024-01-01 10:27:00</td>\n",
       "    </tr>\n",
       "    <tr>\n",
       "      <th>993</th>\n",
       "      <td>angry_spence</td>\n",
       "      <td>38.320955</td>\n",
       "      <td>-36.666495</td>\n",
       "      <td>2024-01-01 10:29:00</td>\n",
       "    </tr>\n",
       "    <tr>\n",
       "      <th>994</th>\n",
       "      <td>angry_spence</td>\n",
       "      <td>38.320947</td>\n",
       "      <td>-36.666521</td>\n",
       "      <td>2024-01-01 10:39:00</td>\n",
       "    </tr>\n",
       "    <tr>\n",
       "      <th>995</th>\n",
       "      <td>angry_spence</td>\n",
       "      <td>38.320955</td>\n",
       "      <td>-36.666527</td>\n",
       "      <td>2024-01-01 10:42:00</td>\n",
       "    </tr>\n",
       "  </tbody>\n",
       "</table>\n",
       "</div>"
      ],
      "text/plain": [
       "          user_id    dev_lat    dev_lon      local_datetime\n",
       "991  angry_spence  38.320990 -36.666555 2024-01-01 10:21:00\n",
       "992  angry_spence  38.320962 -36.666504 2024-01-01 10:27:00\n",
       "993  angry_spence  38.320955 -36.666495 2024-01-01 10:29:00\n",
       "994  angry_spence  38.320947 -36.666521 2024-01-01 10:39:00\n",
       "995  angry_spence  38.320955 -36.666527 2024-01-01 10:42:00"
      ]
     },
     "execution_count": 7,
     "metadata": {},
     "output_type": "execute_result"
    }
   ],
   "source": [
    "user_sample.head()"
   ]
  },
  {
   "cell_type": "markdown",
   "id": "7fe083e7-a972-439c-8c66-054c2e8974a9",
   "metadata": {},
   "source": [
    "For this user, the trajectory data has 1696 rows (pings) and covers a period of 15 days (start date: 2024-01-01, end date: 2024-01-15). We can visualize the trajectory for one day below: "
   ]
  },
  {
   "cell_type": "code",
   "execution_count": 8,
   "id": "1e9b1bc6-def6-4dbe-8d47-3be72ff4ab1f",
   "metadata": {},
   "outputs": [],
   "source": [
    "plot_data = user_sample[user_sample['local_datetime'].dt.date == pd.to_datetime('2024-01-01').date()]\n",
    "\n",
    "fig, ax = plt.subplots(figsize=(9, 5))\n",
    "\n",
    "ax.scatter(x=plot_data['dev_lon'], \n",
    "           y=plot_data['dev_lat'],\n",
    "           s=6,\n",
    "           color='black',\n",
    "           alpha=1,\n",
    "           zorder=2)\n",
    "\n",
    "ax.plot(plot_data['dev_lon'],\n",
    "        plot_data['dev_lat'],\n",
    "        linewidth=1, color='blue', alpha=0.2)\n",
    "\n",
    "ax.set_yticklabels([])\n",
    "ax.set_xticklabels([])\n",
    "ax.set_xticks([])\n",
    "ax.set_yticks([])\n",
    "\n",
    "plt.tight_layout()\n",
    "plt.show()"
   ]
  },
  {
   "cell_type": "markdown",
   "id": "3bb39def-756f-4573-9e6d-5401662a9e3c",
   "metadata": {},
   "source": [
    "### Sequential stop detection (Lachesis)"
   ]
  },
  {
   "cell_type": "markdown",
   "id": "4046dd82-7fde-4c8e-99ca-cf1ad530269d",
   "metadata": {},
   "source": [
    "The first stop detection algorithm implemented in ```nomad``` is a sequential algorithm described in \"Project Lachesis: Parsing and Modeling Location Histories\". This algorithm for extracting stays is dependent on two parameters: the roaming distance and the stay duration. Roaming distance represents the maximum distance an object can move away from a point location and still be considered to be staying at that location. Stay duration is the minimum amount of time an object must spend within the roaming distance of a location to qualify as a stay. The algorithm identifies contiguous sequences of raw location data points that stay within the roaming distance for at least the duration of the stay duration"
   ]
  },
  {
   "cell_type": "markdown",
   "id": "61b5657f-2de6-45eb-9d29-486fd3104091",
   "metadata": {},
   "source": [
    "This algorithm has the following parameters, which determine the size of the resulting stops:\n",
    "* ```dur_min```: Minimum duration for a stay in minutes.\n",
    "* ```dt_max```: Maximum time gap permitted between consecutive pings in a stay in minutes (dt_max should be greater than dur_min).\n",
    "* ```delta_roam```: Maximum roaming distance for a stay in meters."
   ]
  },
  {
   "cell_type": "code",
   "execution_count": 9,
   "id": "0be623a7-4490-42cd-9817-e8fd62ea05e1",
   "metadata": {},
   "outputs": [],
   "source": [
    "DUR_MIN = 60\n",
    "DT_MAX = 120\n",
    "DELTA_ROAM = 50"
   ]
  },
  {
   "cell_type": "markdown",
   "id": "0235d164-8c86-49cd-88cc-17b8dc60b1c9",
   "metadata": {},
   "source": [
    "The Lachesis algorithm can output a complete table of attributes for identified stops, including the start time, end time, the medoid coordinates, duration, number of pings in the stop, and diameter."
   ]
  },
  {
   "cell_type": "code",
   "execution_count": 10,
   "id": "5d5054f0-efa5-416e-bcda-2f5c589dbbcf",
   "metadata": {
    "scrolled": true
   },
   "outputs": [
    {
     "name": "stdout",
     "output_type": "stream",
     "text": [
      "CPU times: user 287 ms, sys: 6.74 ms, total: 294 ms\n",
      "Wall time: 293 ms\n"
     ]
    },
    {
     "data": {
      "text/html": [
       "<div>\n",
       "<style scoped>\n",
       "    .dataframe tbody tr th:only-of-type {\n",
       "        vertical-align: middle;\n",
       "    }\n",
       "\n",
       "    .dataframe tbody tr th {\n",
       "        vertical-align: top;\n",
       "    }\n",
       "\n",
       "    .dataframe thead th {\n",
       "        text-align: right;\n",
       "    }\n",
       "</style>\n",
       "<table border=\"1\" class=\"dataframe\">\n",
       "  <thead>\n",
       "    <tr style=\"text-align: right;\">\n",
       "      <th></th>\n",
       "      <th>start_time</th>\n",
       "      <th>end_time</th>\n",
       "      <th>dev_lon</th>\n",
       "      <th>dev_lat</th>\n",
       "      <th>diameter</th>\n",
       "      <th>n_pings</th>\n",
       "      <th>duration</th>\n",
       "    </tr>\n",
       "  </thead>\n",
       "  <tbody>\n",
       "    <tr>\n",
       "      <th>0</th>\n",
       "      <td>2024-01-01 15:04:00</td>\n",
       "      <td>2024-01-01 16:16:00</td>\n",
       "      <td>-36.66647</td>\n",
       "      <td>38.320064</td>\n",
       "      <td>14.691535</td>\n",
       "      <td>14</td>\n",
       "      <td>72.0</td>\n",
       "    </tr>\n",
       "    <tr>\n",
       "      <th>1</th>\n",
       "      <td>2024-01-01 18:17:00</td>\n",
       "      <td>2024-01-01 20:58:00</td>\n",
       "      <td>-36.667398</td>\n",
       "      <td>38.320415</td>\n",
       "      <td>12.974932</td>\n",
       "      <td>19</td>\n",
       "      <td>161.0</td>\n",
       "    </tr>\n",
       "    <tr>\n",
       "      <th>2</th>\n",
       "      <td>2024-01-01 21:15:00</td>\n",
       "      <td>2024-01-02 01:10:00</td>\n",
       "      <td>-36.667525</td>\n",
       "      <td>38.321253</td>\n",
       "      <td>13.946715</td>\n",
       "      <td>32</td>\n",
       "      <td>235.0</td>\n",
       "    </tr>\n",
       "    <tr>\n",
       "      <th>3</th>\n",
       "      <td>2024-01-02 05:54:00</td>\n",
       "      <td>2024-01-02 08:01:00</td>\n",
       "      <td>-36.667489</td>\n",
       "      <td>38.321273</td>\n",
       "      <td>31.46013</td>\n",
       "      <td>17</td>\n",
       "      <td>127.0</td>\n",
       "    </tr>\n",
       "    <tr>\n",
       "      <th>4</th>\n",
       "      <td>2024-01-02 08:40:00</td>\n",
       "      <td>2024-01-02 11:59:00</td>\n",
       "      <td>-36.667721</td>\n",
       "      <td>38.320554</td>\n",
       "      <td>20.736412</td>\n",
       "      <td>39</td>\n",
       "      <td>199.0</td>\n",
       "    </tr>\n",
       "  </tbody>\n",
       "</table>\n",
       "</div>"
      ],
      "text/plain": [
       "           start_time            end_time    dev_lon    dev_lat   diameter  \\\n",
       "0 2024-01-01 15:04:00 2024-01-01 16:16:00  -36.66647  38.320064  14.691535   \n",
       "1 2024-01-01 18:17:00 2024-01-01 20:58:00 -36.667398  38.320415  12.974932   \n",
       "2 2024-01-01 21:15:00 2024-01-02 01:10:00 -36.667525  38.321253  13.946715   \n",
       "3 2024-01-02 05:54:00 2024-01-02 08:01:00 -36.667489  38.321273   31.46013   \n",
       "4 2024-01-02 08:40:00 2024-01-02 11:59:00 -36.667721  38.320554  20.736412   \n",
       "\n",
       "  n_pings  duration  \n",
       "0      14      72.0  \n",
       "1      19     161.0  \n",
       "2      32     235.0  \n",
       "3      17     127.0  \n",
       "4      39     199.0  "
      ]
     },
     "execution_count": 10,
     "metadata": {},
     "output_type": "execute_result"
    }
   ],
   "source": [
    "%%time\n",
    "Lachesis.lachesis(traj=user_sample, dur_min=DUR_MIN, dt_max=DT_MAX, delta_roam=DELTA_ROAM, traj_cols=traj_cols, complete_output=True).head()"
   ]
  },
  {
   "cell_type": "markdown",
   "id": "b233242a-cb65-4765-ac9f-c27c926f08b5",
   "metadata": {},
   "source": [
    "An additional argument, ```complete_output```, can be passed to only output the stop start time, duration, and medoid coordinates."
   ]
  },
  {
   "cell_type": "code",
   "execution_count": 11,
   "id": "fe9e6bf7-cbf1-45a4-8a0e-57f7ea49a881",
   "metadata": {
    "scrolled": true
   },
   "outputs": [
    {
     "name": "stdout",
     "output_type": "stream",
     "text": [
      "CPU times: user 252 ms, sys: 4.57 ms, total: 257 ms\n",
      "Wall time: 255 ms\n"
     ]
    },
    {
     "data": {
      "text/html": [
       "<div>\n",
       "<style scoped>\n",
       "    .dataframe tbody tr th:only-of-type {\n",
       "        vertical-align: middle;\n",
       "    }\n",
       "\n",
       "    .dataframe tbody tr th {\n",
       "        vertical-align: top;\n",
       "    }\n",
       "\n",
       "    .dataframe thead th {\n",
       "        text-align: right;\n",
       "    }\n",
       "</style>\n",
       "<table border=\"1\" class=\"dataframe\">\n",
       "  <thead>\n",
       "    <tr style=\"text-align: right;\">\n",
       "      <th></th>\n",
       "      <th>start_time</th>\n",
       "      <th>duration</th>\n",
       "      <th>dev_lon</th>\n",
       "      <th>dev_lat</th>\n",
       "    </tr>\n",
       "  </thead>\n",
       "  <tbody>\n",
       "    <tr>\n",
       "      <th>0</th>\n",
       "      <td>2024-01-01 15:04:00</td>\n",
       "      <td>72.0</td>\n",
       "      <td>-36.66647</td>\n",
       "      <td>38.320064</td>\n",
       "    </tr>\n",
       "    <tr>\n",
       "      <th>1</th>\n",
       "      <td>2024-01-01 18:17:00</td>\n",
       "      <td>161.0</td>\n",
       "      <td>-36.667398</td>\n",
       "      <td>38.320415</td>\n",
       "    </tr>\n",
       "    <tr>\n",
       "      <th>2</th>\n",
       "      <td>2024-01-01 21:15:00</td>\n",
       "      <td>235.0</td>\n",
       "      <td>-36.667525</td>\n",
       "      <td>38.321253</td>\n",
       "    </tr>\n",
       "    <tr>\n",
       "      <th>3</th>\n",
       "      <td>2024-01-02 05:54:00</td>\n",
       "      <td>127.0</td>\n",
       "      <td>-36.667489</td>\n",
       "      <td>38.321273</td>\n",
       "    </tr>\n",
       "    <tr>\n",
       "      <th>4</th>\n",
       "      <td>2024-01-02 08:40:00</td>\n",
       "      <td>199.0</td>\n",
       "      <td>-36.667721</td>\n",
       "      <td>38.320554</td>\n",
       "    </tr>\n",
       "  </tbody>\n",
       "</table>\n",
       "</div>"
      ],
      "text/plain": [
       "           start_time  duration    dev_lon    dev_lat\n",
       "0 2024-01-01 15:04:00      72.0  -36.66647  38.320064\n",
       "1 2024-01-01 18:17:00     161.0 -36.667398  38.320415\n",
       "2 2024-01-01 21:15:00     235.0 -36.667525  38.321253\n",
       "3 2024-01-02 05:54:00     127.0 -36.667489  38.321273\n",
       "4 2024-01-02 08:40:00     199.0 -36.667721  38.320554"
      ]
     },
     "execution_count": 11,
     "metadata": {},
     "output_type": "execute_result"
    }
   ],
   "source": [
    "%%time\n",
    "Lachesis.lachesis(traj=user_sample, dur_min=DUR_MIN, dt_max=DT_MAX, delta_roam=DELTA_ROAM, traj_cols=traj_cols, complete_output=False).head()"
   ]
  },
  {
   "cell_type": "markdown",
   "id": "7ad901e7-cd33-4460-b32a-6d1f67537626",
   "metadata": {},
   "source": [
    "We can also get the final cluster label for each of the pings, including those who were identified as noise."
   ]
  },
  {
   "cell_type": "code",
   "execution_count": 12,
   "id": "f5c31d4a-3e45-468c-900b-3594796b21e4",
   "metadata": {},
   "outputs": [
    {
     "name": "stdout",
     "output_type": "stream",
     "text": [
      "CPU times: user 265 ms, sys: 5.24 ms, total: 270 ms\n",
      "Wall time: 267 ms\n"
     ]
    },
    {
     "data": {
      "text/html": [
       "<div>\n",
       "<style scoped>\n",
       "    .dataframe tbody tr th:only-of-type {\n",
       "        vertical-align: middle;\n",
       "    }\n",
       "\n",
       "    .dataframe tbody tr th {\n",
       "        vertical-align: top;\n",
       "    }\n",
       "\n",
       "    .dataframe thead th {\n",
       "        text-align: right;\n",
       "    }\n",
       "</style>\n",
       "<table border=\"1\" class=\"dataframe\">\n",
       "  <thead>\n",
       "    <tr style=\"text-align: right;\">\n",
       "      <th></th>\n",
       "      <th>cluster</th>\n",
       "    </tr>\n",
       "  </thead>\n",
       "  <tbody>\n",
       "    <tr>\n",
       "      <th>2024-01-01 10:21:00</th>\n",
       "      <td>-1</td>\n",
       "    </tr>\n",
       "    <tr>\n",
       "      <th>2024-01-01 10:27:00</th>\n",
       "      <td>-1</td>\n",
       "    </tr>\n",
       "    <tr>\n",
       "      <th>2024-01-01 10:29:00</th>\n",
       "      <td>-1</td>\n",
       "    </tr>\n",
       "    <tr>\n",
       "      <th>2024-01-01 10:39:00</th>\n",
       "      <td>-1</td>\n",
       "    </tr>\n",
       "    <tr>\n",
       "      <th>2024-01-01 10:42:00</th>\n",
       "      <td>-1</td>\n",
       "    </tr>\n",
       "  </tbody>\n",
       "</table>\n",
       "</div>"
      ],
      "text/plain": [
       "                     cluster\n",
       "2024-01-01 10:21:00       -1\n",
       "2024-01-01 10:27:00       -1\n",
       "2024-01-01 10:29:00       -1\n",
       "2024-01-01 10:39:00       -1\n",
       "2024-01-01 10:42:00       -1"
      ]
     },
     "execution_count": 12,
     "metadata": {},
     "output_type": "execute_result"
    }
   ],
   "source": [
    "%%time\n",
    "Lachesis._lachesis_labels(traj=user_sample, dur_min=DUR_MIN, dt_max=DT_MAX, delta_roam=DELTA_ROAM, traj_cols=traj_cols).head()"
   ]
  },
  {
   "cell_type": "markdown",
   "id": "ebc275a5-c83d-46b9-945e-63fd50de52c5",
   "metadata": {},
   "source": [
    "The data could also come with different formats for spatial and temporal variables, the algorithm can handle those situations as well."
   ]
  },
  {
   "cell_type": "code",
   "execution_count": 13,
   "id": "6823225a-fac5-4c58-befb-cea99dec4b73",
   "metadata": {},
   "outputs": [
    {
     "name": "stdout",
     "output_type": "stream",
     "text": [
      "CPU times: user 94.8 ms, sys: 5.52 ms, total: 100 ms\n",
      "Wall time: 106 ms\n"
     ]
    },
    {
     "data": {
      "text/html": [
       "<div>\n",
       "<style scoped>\n",
       "    .dataframe tbody tr th:only-of-type {\n",
       "        vertical-align: middle;\n",
       "    }\n",
       "\n",
       "    .dataframe tbody tr th {\n",
       "        vertical-align: top;\n",
       "    }\n",
       "\n",
       "    .dataframe thead th {\n",
       "        text-align: right;\n",
       "    }\n",
       "</style>\n",
       "<table border=\"1\" class=\"dataframe\">\n",
       "  <thead>\n",
       "    <tr style=\"text-align: right;\">\n",
       "      <th></th>\n",
       "      <th>start_time</th>\n",
       "      <th>duration</th>\n",
       "      <th>x</th>\n",
       "      <th>y</th>\n",
       "    </tr>\n",
       "  </thead>\n",
       "  <tbody>\n",
       "    <tr>\n",
       "      <th>0</th>\n",
       "      <td>1.704121e+09</td>\n",
       "      <td>72.0</td>\n",
       "      <td>-4.081693e+06</td>\n",
       "      <td>4.624739e+06</td>\n",
       "    </tr>\n",
       "    <tr>\n",
       "      <th>1</th>\n",
       "      <td>1.704133e+09</td>\n",
       "      <td>161.0</td>\n",
       "      <td>-4.081796e+06</td>\n",
       "      <td>4.624789e+06</td>\n",
       "    </tr>\n",
       "    <tr>\n",
       "      <th>2</th>\n",
       "      <td>1.704144e+09</td>\n",
       "      <td>235.0</td>\n",
       "      <td>-4.081810e+06</td>\n",
       "      <td>4.624908e+06</td>\n",
       "    </tr>\n",
       "    <tr>\n",
       "      <th>3</th>\n",
       "      <td>1.704175e+09</td>\n",
       "      <td>127.0</td>\n",
       "      <td>-4.081806e+06</td>\n",
       "      <td>4.624911e+06</td>\n",
       "    </tr>\n",
       "    <tr>\n",
       "      <th>4</th>\n",
       "      <td>1.704185e+09</td>\n",
       "      <td>199.0</td>\n",
       "      <td>-4.081832e+06</td>\n",
       "      <td>4.624809e+06</td>\n",
       "    </tr>\n",
       "  </tbody>\n",
       "</table>\n",
       "</div>"
      ],
      "text/plain": [
       "     start_time  duration             x             y\n",
       "0  1.704121e+09      72.0 -4.081693e+06  4.624739e+06\n",
       "1  1.704133e+09     161.0 -4.081796e+06  4.624789e+06\n",
       "2  1.704144e+09     235.0 -4.081810e+06  4.624908e+06\n",
       "3  1.704175e+09     127.0 -4.081806e+06  4.624911e+06\n",
       "4  1.704185e+09     199.0 -4.081832e+06  4.624809e+06"
      ]
     },
     "execution_count": 13,
     "metadata": {},
     "output_type": "execute_result"
    }
   ],
   "source": [
    "%%time\n",
    "# x, y, timestamp (unix time)\n",
    "traj_cols_x_y_timestamp = {'user_id':'user_id',\n",
    "                          'x':'x',\n",
    "                          'y':'y',\n",
    "                          'timestamp':'unix_time'}\n",
    "\n",
    "user_sample_x_y_timestamp = user_sample.copy()\n",
    "user_sample_x_y_timestamp = filters.to_projection(user_sample_x_y_timestamp, longitude='dev_lon', latitude='dev_lat')\n",
    "user_sample_x_y_timestamp['unix_time'] = user_sample_x_y_timestamp['local_datetime'].astype('int64') // 10**9\n",
    "\n",
    "# Lachesis with x, y, and timestamp (unix time)\n",
    "Lachesis.lachesis(user_sample_x_y_timestamp, DUR_MIN, DT_MAX, DELTA_ROAM, traj_cols=traj_cols_x_y_timestamp, complete_output=False).head()"
   ]
  },
  {
   "cell_type": "markdown",
   "id": "bbb8a063-d60e-494b-a7f7-d6c5acd94c4f",
   "metadata": {},
   "source": [
    "### Density based stop detection (Temporal DBSCAN)"
   ]
  },
  {
   "cell_type": "markdown",
   "id": "2083c282-fb27-4958-bd69-306e714ccd93",
   "metadata": {},
   "source": [
    "The second stop detection algorithm implemented in ```nomad``` is a density-based algorithm with time-constraints, Temporal DBSCAN. \n",
    "\n",
    "This algorithm for clustering user pings combines temporal and spatial dimensions, relying on three key parameters: the time threshold, the distance threshold, and the minimum number of points. The time threshold defines the maximum time difference (in minutes) between two consecutive pings for them to be considered neighbors within the same cluster. The distance threshold specifies the maximum spatial distance (in meters) between two pings for them to be considered neighbors. The minimum points parameter sets the minimum number of points required for a dense region to form a cluster. If a region contains fewer than minimum number of points required, it is treated as noise. The algorithm identifies clusters by grouping contiguous pings that meet both the temporal and spatial criteria, while also ensuring that each cluster has enough density to be considered valid."
   ]
  },
  {
   "cell_type": "markdown",
   "id": "32eade27-4a20-4bde-8a2b-040a12a0ff07",
   "metadata": {},
   "source": [
    "This algorithm has the following parameters, which determine the size of the resulting stops:\n",
    "* ```time_thresh```: Time threshold in minutes for identifying neighbors.\n",
    "* ```dist_thresh```: Distance threshold in meters for identifying neighbors.\n",
    "* ```min_pts```: Minimum number of points required to form a dense region (core point)."
   ]
  },
  {
   "cell_type": "code",
   "execution_count": 14,
   "id": "305a6c7e-10c1-4c3f-a5d8-14d792f9c6bf",
   "metadata": {},
   "outputs": [],
   "source": [
    "TIME_THRESH = 100\n",
    "DIST_THRESH = 40\n",
    "MIN_PTS = 10"
   ]
  },
  {
   "cell_type": "markdown",
   "id": "9647a8cc-66a0-48f4-8d80-5815de683f0f",
   "metadata": {},
   "source": [
    "Similarly to Lachesis, the Temporal DBSCAN algorithm can output a complete table of attributes for identified stops, including the start time, end time, the medoid coordinates, duration, number of pings in the stop, and diameter."
   ]
  },
  {
   "cell_type": "code",
   "execution_count": 15,
   "id": "7d4dffd7-58fb-42c7-9027-f6e4dcf7e052",
   "metadata": {
    "scrolled": true
   },
   "outputs": [
    {
     "name": "stdout",
     "output_type": "stream",
     "text": [
      "CPU times: user 13.5 s, sys: 645 ms, total: 14.2 s\n",
      "Wall time: 14.5 s\n"
     ]
    },
    {
     "data": {
      "text/html": [
       "<div>\n",
       "<style scoped>\n",
       "    .dataframe tbody tr th:only-of-type {\n",
       "        vertical-align: middle;\n",
       "    }\n",
       "\n",
       "    .dataframe tbody tr th {\n",
       "        vertical-align: top;\n",
       "    }\n",
       "\n",
       "    .dataframe thead th {\n",
       "        text-align: right;\n",
       "    }\n",
       "</style>\n",
       "<table border=\"1\" class=\"dataframe\">\n",
       "  <thead>\n",
       "    <tr style=\"text-align: right;\">\n",
       "      <th></th>\n",
       "      <th>start_time</th>\n",
       "      <th>end_time</th>\n",
       "      <th>dev_lon</th>\n",
       "      <th>dev_lat</th>\n",
       "      <th>diameter</th>\n",
       "      <th>n_pings</th>\n",
       "      <th>duration</th>\n",
       "    </tr>\n",
       "    <tr>\n",
       "      <th>cluster</th>\n",
       "      <th></th>\n",
       "      <th></th>\n",
       "      <th></th>\n",
       "      <th></th>\n",
       "      <th></th>\n",
       "      <th></th>\n",
       "      <th></th>\n",
       "    </tr>\n",
       "  </thead>\n",
       "  <tbody>\n",
       "    <tr>\n",
       "      <th>0</th>\n",
       "      <td>2024-01-04 16:02:00</td>\n",
       "      <td>2024-01-04 16:45:00</td>\n",
       "      <td>-0.639973</td>\n",
       "      <td>0.668841</td>\n",
       "      <td>11.374422</td>\n",
       "      <td>14</td>\n",
       "      <td>43.0</td>\n",
       "    </tr>\n",
       "    <tr>\n",
       "      <th>1</th>\n",
       "      <td>2024-01-14 19:45:00</td>\n",
       "      <td>2024-01-15 07:39:00</td>\n",
       "      <td>-0.639968</td>\n",
       "      <td>0.668818</td>\n",
       "      <td>22.775558</td>\n",
       "      <td>87</td>\n",
       "      <td>714.0</td>\n",
       "    </tr>\n",
       "    <tr>\n",
       "      <th>2</th>\n",
       "      <td>2024-01-14 14:10:00</td>\n",
       "      <td>2024-01-14 15:39:00</td>\n",
       "      <td>-0.639963</td>\n",
       "      <td>0.668810</td>\n",
       "      <td>14.062991</td>\n",
       "      <td>13</td>\n",
       "      <td>89.0</td>\n",
       "    </tr>\n",
       "    <tr>\n",
       "      <th>3</th>\n",
       "      <td>2024-01-14 01:45:00</td>\n",
       "      <td>2024-01-14 07:52:00</td>\n",
       "      <td>-0.639956</td>\n",
       "      <td>0.668827</td>\n",
       "      <td>13.814779</td>\n",
       "      <td>57</td>\n",
       "      <td>367.0</td>\n",
       "    </tr>\n",
       "    <tr>\n",
       "      <th>4</th>\n",
       "      <td>2024-01-13 13:53:00</td>\n",
       "      <td>2024-01-13 16:45:00</td>\n",
       "      <td>-0.639952</td>\n",
       "      <td>0.668824</td>\n",
       "      <td>61.588256</td>\n",
       "      <td>18</td>\n",
       "      <td>172.0</td>\n",
       "    </tr>\n",
       "  </tbody>\n",
       "</table>\n",
       "</div>"
      ],
      "text/plain": [
       "                 start_time            end_time   dev_lon   dev_lat  \\\n",
       "cluster                                                               \n",
       "0       2024-01-04 16:02:00 2024-01-04 16:45:00 -0.639973  0.668841   \n",
       "1       2024-01-14 19:45:00 2024-01-15 07:39:00 -0.639968  0.668818   \n",
       "2       2024-01-14 14:10:00 2024-01-14 15:39:00 -0.639963  0.668810   \n",
       "3       2024-01-14 01:45:00 2024-01-14 07:52:00 -0.639956  0.668827   \n",
       "4       2024-01-13 13:53:00 2024-01-13 16:45:00 -0.639952  0.668824   \n",
       "\n",
       "          diameter  n_pings  duration  \n",
       "cluster                                \n",
       "0        11.374422       14      43.0  \n",
       "1        22.775558       87     714.0  \n",
       "2        14.062991       13      89.0  \n",
       "3        13.814779       57     367.0  \n",
       "4        61.588256       18     172.0  "
      ]
     },
     "execution_count": 15,
     "metadata": {},
     "output_type": "execute_result"
    }
   ],
   "source": [
    "%%time\n",
    "DBSCAN.temporal_dbscan(user_sample, TIME_THRESH, DIST_THRESH, MIN_PTS, traj_cols=traj_cols, complete_output=True).head()"
   ]
  },
  {
   "cell_type": "markdown",
   "id": "a0b461be-8fc6-410c-b379-926cc7a90799",
   "metadata": {},
   "source": [
    "The additional argument ```complete_output``` can also be passed to only output the stop start time, duration, and medoid coordinates."
   ]
  },
  {
   "cell_type": "code",
   "execution_count": 16,
   "id": "b0cb23c6-719a-4c15-aad6-6f3436106d29",
   "metadata": {
    "scrolled": true
   },
   "outputs": [
    {
     "name": "stdout",
     "output_type": "stream",
     "text": [
      "CPU times: user 13.2 s, sys: 445 ms, total: 13.6 s\n",
      "Wall time: 13.6 s\n"
     ]
    },
    {
     "data": {
      "text/html": [
       "<div>\n",
       "<style scoped>\n",
       "    .dataframe tbody tr th:only-of-type {\n",
       "        vertical-align: middle;\n",
       "    }\n",
       "\n",
       "    .dataframe tbody tr th {\n",
       "        vertical-align: top;\n",
       "    }\n",
       "\n",
       "    .dataframe thead th {\n",
       "        text-align: right;\n",
       "    }\n",
       "</style>\n",
       "<table border=\"1\" class=\"dataframe\">\n",
       "  <thead>\n",
       "    <tr style=\"text-align: right;\">\n",
       "      <th></th>\n",
       "      <th>start_time</th>\n",
       "      <th>duration</th>\n",
       "      <th>dev_lon</th>\n",
       "      <th>dev_lat</th>\n",
       "    </tr>\n",
       "    <tr>\n",
       "      <th>cluster</th>\n",
       "      <th></th>\n",
       "      <th></th>\n",
       "      <th></th>\n",
       "      <th></th>\n",
       "    </tr>\n",
       "  </thead>\n",
       "  <tbody>\n",
       "    <tr>\n",
       "      <th>0</th>\n",
       "      <td>2024-01-04 16:02:00</td>\n",
       "      <td>43.0</td>\n",
       "      <td>-0.639973</td>\n",
       "      <td>0.668841</td>\n",
       "    </tr>\n",
       "    <tr>\n",
       "      <th>1</th>\n",
       "      <td>2024-01-14 19:45:00</td>\n",
       "      <td>714.0</td>\n",
       "      <td>-0.639968</td>\n",
       "      <td>0.668818</td>\n",
       "    </tr>\n",
       "    <tr>\n",
       "      <th>2</th>\n",
       "      <td>2024-01-14 14:10:00</td>\n",
       "      <td>89.0</td>\n",
       "      <td>-0.639963</td>\n",
       "      <td>0.668810</td>\n",
       "    </tr>\n",
       "    <tr>\n",
       "      <th>3</th>\n",
       "      <td>2024-01-14 01:45:00</td>\n",
       "      <td>367.0</td>\n",
       "      <td>-0.639956</td>\n",
       "      <td>0.668827</td>\n",
       "    </tr>\n",
       "    <tr>\n",
       "      <th>4</th>\n",
       "      <td>2024-01-13 13:53:00</td>\n",
       "      <td>172.0</td>\n",
       "      <td>-0.639952</td>\n",
       "      <td>0.668824</td>\n",
       "    </tr>\n",
       "  </tbody>\n",
       "</table>\n",
       "</div>"
      ],
      "text/plain": [
       "                 start_time  duration   dev_lon   dev_lat\n",
       "cluster                                                  \n",
       "0       2024-01-04 16:02:00      43.0 -0.639973  0.668841\n",
       "1       2024-01-14 19:45:00     714.0 -0.639968  0.668818\n",
       "2       2024-01-14 14:10:00      89.0 -0.639963  0.668810\n",
       "3       2024-01-14 01:45:00     367.0 -0.639956  0.668827\n",
       "4       2024-01-13 13:53:00     172.0 -0.639952  0.668824"
      ]
     },
     "execution_count": 16,
     "metadata": {},
     "output_type": "execute_result"
    }
   ],
   "source": [
    "%%time\n",
    "DBSCAN.temporal_dbscan(user_sample, TIME_THRESH, DIST_THRESH, MIN_PTS, traj_cols=traj_cols, complete_output=False).head()"
   ]
  },
  {
   "cell_type": "markdown",
   "id": "1e971e56-46ab-427d-a4f6-a119d4773368",
   "metadata": {},
   "source": [
    "We can also get the final cluster and core labels for each of the pings."
   ]
  },
  {
   "cell_type": "code",
   "execution_count": 17,
   "id": "8686f955-16d6-4773-98bc-2927e5aac717",
   "metadata": {
    "scrolled": true
   },
   "outputs": [
    {
     "name": "stdout",
     "output_type": "stream",
     "text": [
      "CPU times: user 13 s, sys: 450 ms, total: 13.4 s\n",
      "Wall time: 13.4 s\n"
     ]
    },
    {
     "data": {
      "text/html": [
       "<div>\n",
       "<style scoped>\n",
       "    .dataframe tbody tr th:only-of-type {\n",
       "        vertical-align: middle;\n",
       "    }\n",
       "\n",
       "    .dataframe tbody tr th {\n",
       "        vertical-align: top;\n",
       "    }\n",
       "\n",
       "    .dataframe thead th {\n",
       "        text-align: right;\n",
       "    }\n",
       "</style>\n",
       "<table border=\"1\" class=\"dataframe\">\n",
       "  <thead>\n",
       "    <tr style=\"text-align: right;\">\n",
       "      <th></th>\n",
       "      <th>cluster</th>\n",
       "      <th>core</th>\n",
       "    </tr>\n",
       "  </thead>\n",
       "  <tbody>\n",
       "    <tr>\n",
       "      <th>2024-01-01 10:21:00</th>\n",
       "      <td>-1</td>\n",
       "      <td>-1</td>\n",
       "    </tr>\n",
       "    <tr>\n",
       "      <th>2024-01-01 10:27:00</th>\n",
       "      <td>-1</td>\n",
       "      <td>-1</td>\n",
       "    </tr>\n",
       "    <tr>\n",
       "      <th>2024-01-01 10:29:00</th>\n",
       "      <td>-1</td>\n",
       "      <td>-1</td>\n",
       "    </tr>\n",
       "    <tr>\n",
       "      <th>2024-01-01 10:39:00</th>\n",
       "      <td>-1</td>\n",
       "      <td>-1</td>\n",
       "    </tr>\n",
       "    <tr>\n",
       "      <th>2024-01-01 10:42:00</th>\n",
       "      <td>-1</td>\n",
       "      <td>-1</td>\n",
       "    </tr>\n",
       "  </tbody>\n",
       "</table>\n",
       "</div>"
      ],
      "text/plain": [
       "                     cluster  core\n",
       "2024-01-01 10:21:00       -1    -1\n",
       "2024-01-01 10:27:00       -1    -1\n",
       "2024-01-01 10:29:00       -1    -1\n",
       "2024-01-01 10:39:00       -1    -1\n",
       "2024-01-01 10:42:00       -1    -1"
      ]
     },
     "execution_count": 17,
     "metadata": {},
     "output_type": "execute_result"
    }
   ],
   "source": [
    "%%time\n",
    "DBSCAN._temporal_dbscan_labels(user_sample, TIME_THRESH, DIST_THRESH, MIN_PTS, traj_cols=traj_cols).head()"
   ]
  },
  {
   "cell_type": "markdown",
   "id": "5706889e-3ade-4a31-ab2b-c201d86cd2c2",
   "metadata": {},
   "source": [
    "The Temporal DBSCAN algorithm also handles data that comes with different formats for spatial and temporal variables."
   ]
  },
  {
   "cell_type": "code",
   "execution_count": 18,
   "id": "f88f983b-69d3-4c40-ab35-6846b7578121",
   "metadata": {
    "scrolled": true
   },
   "outputs": [
    {
     "name": "stdout",
     "output_type": "stream",
     "text": [
      "CPU times: user 3.42 s, sys: 418 ms, total: 3.83 s\n",
      "Wall time: 3.84 s\n"
     ]
    },
    {
     "data": {
      "text/html": [
       "<div>\n",
       "<style scoped>\n",
       "    .dataframe tbody tr th:only-of-type {\n",
       "        vertical-align: middle;\n",
       "    }\n",
       "\n",
       "    .dataframe tbody tr th {\n",
       "        vertical-align: top;\n",
       "    }\n",
       "\n",
       "    .dataframe thead th {\n",
       "        text-align: right;\n",
       "    }\n",
       "</style>\n",
       "<table border=\"1\" class=\"dataframe\">\n",
       "  <thead>\n",
       "    <tr style=\"text-align: right;\">\n",
       "      <th></th>\n",
       "      <th>start_time</th>\n",
       "      <th>duration</th>\n",
       "      <th>x</th>\n",
       "      <th>y</th>\n",
       "    </tr>\n",
       "    <tr>\n",
       "      <th>cluster</th>\n",
       "      <th></th>\n",
       "      <th></th>\n",
       "      <th></th>\n",
       "      <th></th>\n",
       "    </tr>\n",
       "  </thead>\n",
       "  <tbody>\n",
       "    <tr>\n",
       "      <th>0</th>\n",
       "      <td>1.704384e+09</td>\n",
       "      <td>43.0</td>\n",
       "      <td>-4.081836e+06</td>\n",
       "      <td>4.624984e+06</td>\n",
       "    </tr>\n",
       "    <tr>\n",
       "      <th>1</th>\n",
       "      <td>1.705262e+09</td>\n",
       "      <td>714.0</td>\n",
       "      <td>-4.081802e+06</td>\n",
       "      <td>4.624791e+06</td>\n",
       "    </tr>\n",
       "    <tr>\n",
       "      <th>2</th>\n",
       "      <td>1.705241e+09</td>\n",
       "      <td>89.0</td>\n",
       "      <td>-4.081771e+06</td>\n",
       "      <td>4.624728e+06</td>\n",
       "    </tr>\n",
       "    <tr>\n",
       "      <th>3</th>\n",
       "      <td>1.705197e+09</td>\n",
       "      <td>367.0</td>\n",
       "      <td>-4.081725e+06</td>\n",
       "      <td>4.624865e+06</td>\n",
       "    </tr>\n",
       "    <tr>\n",
       "      <th>4</th>\n",
       "      <td>1.705158e+09</td>\n",
       "      <td>99.0</td>\n",
       "      <td>-4.081703e+06</td>\n",
       "      <td>4.624845e+06</td>\n",
       "    </tr>\n",
       "  </tbody>\n",
       "</table>\n",
       "</div>"
      ],
      "text/plain": [
       "           start_time  duration             x             y\n",
       "cluster                                                    \n",
       "0        1.704384e+09      43.0 -4.081836e+06  4.624984e+06\n",
       "1        1.705262e+09     714.0 -4.081802e+06  4.624791e+06\n",
       "2        1.705241e+09      89.0 -4.081771e+06  4.624728e+06\n",
       "3        1.705197e+09     367.0 -4.081725e+06  4.624865e+06\n",
       "4        1.705158e+09      99.0 -4.081703e+06  4.624845e+06"
      ]
     },
     "execution_count": 18,
     "metadata": {},
     "output_type": "execute_result"
    }
   ],
   "source": [
    "%%time\n",
    "DBSCAN.temporal_dbscan(user_sample_x_y_timestamp, TIME_THRESH, DIST_THRESH, MIN_PTS, traj_cols=traj_cols_x_y_timestamp, complete_output=False).head()"
   ]
  }
 ],
 "metadata": {
  "kernelspec": {
   "display_name": "Python (nomad_env)",
   "language": "python",
   "name": "nomad_env"
  },
  "language_info": {
   "codemirror_mode": {
    "name": "ipython",
    "version": 3
   },
   "file_extension": ".py",
   "mimetype": "text/x-python",
   "name": "python",
   "nbconvert_exporter": "python",
   "pygments_lexer": "ipython3",
   "version": "3.13.0"
  }
 },
 "nbformat": 4,
 "nbformat_minor": 5
}

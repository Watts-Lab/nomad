{
 "cells": [
  {
   "cell_type": "markdown",
   "id": "d0f6a437-fe6f-422f-903e-35fee48a5eeb",
   "metadata": {},
   "source": [
    "# Tutorial 2: Stop detection in trajectories"
   ]
  },
  {
   "cell_type": "markdown",
   "id": "0318baed-0d36-45ba-95ba-cd00731b4de8",
   "metadata": {},
   "source": [
    "This notebook shows how to process device-level trajectory data, in different formats, to detect stops using ```nomad```. Stop detection is an important step in\n",
    "pre-processing trajectory data and in making sense of trajectories by grouping together pings that reflect stationary behavior. The output of stop-detection algorithms is commonly a \"stop table\", indicating when a stop started, its duration, and a pair of coordinates that approximates the location of the group of pings (typically the centroid). Alternatively, ```nomad``` allows users to retrieve a cluster label for each ping (useful for plotting, for example)"
   ]
  },
  {
   "cell_type": "code",
   "execution_count": null,
   "id": "9e1b64f0-e62c-45f6-983b-e1fd56f3f6d0",
   "metadata": {},
   "outputs": [],
   "source": [
    "import importlib\n",
    "import pandas as pd\n",
    "import matplotlib.pyplot as plt\n",
    "import nomad.filters as filters\n",
    "import nomad.daphmeIO as loader\n",
    "import nomad.constants as constants\n",
    "from nomad.stop_detection import ta_dbscan\n",
    "from nomad.stop_detection import lachesis"
   ]
  },
  {
   "cell_type": "code",
   "execution_count": null,
   "id": "a7aee58a-fe67-42fe-89fa-68e7f9535e1a",
   "metadata": {},
   "outputs": [],
   "source": [
    "import pandas as pd\n",
    "from scipy.spatial.distance import pdist, cdist\n",
    "import numpy as np\n",
    "import math\n",
    "import datetime as dt\n",
    "from datetime import timedelta\n",
    "import matplotlib.pyplot as plt\n",
    "import itertools\n",
    "from collections import defaultdict\n",
    "import sys\n",
    "import os\n",
    "import pdb"
   ]
  },
  {
   "cell_type": "markdown",
   "id": "2531f9bd-7243-4c3f-a5af-481600efe0f3",
   "metadata": {},
   "source": [
    "## Load data sample"
   ]
  },
  {
   "cell_type": "markdown",
   "id": "9777b795-37c1-414d-bb8c-0d5eeee87543",
   "metadata": {},
   "source": [
    "For these examples we load some test data from ```nomad``` which has the following trajectory columns (notice that ```traj_cols``` maps the data's column names to default names used by ```nomad```)"
   ]
  },
  {
   "cell_type": "code",
   "execution_count": null,
   "id": "fb190bef-d668-490e-809b-de42196b5850",
   "metadata": {},
   "outputs": [],
   "source": [
    "traj_cols = {'user_id':'user_id',\n",
    "             'latitude':'dev_lat',\n",
    "             'longitude':'dev_lon',\n",
    "             'datetime':'local_datetime'}"
   ]
  },
  {
   "cell_type": "code",
   "execution_count": null,
   "id": "c1e40c8b-8d13-4da2-add4-b37612af97f4",
   "metadata": {},
   "outputs": [],
   "source": [
    "path = '../data/sample4/'\n",
    "data = loader.from_file(path, traj_cols=traj_cols, format='csv')"
   ]
  },
  {
   "cell_type": "markdown",
   "id": "66c452e9-d32d-4388-86bb-1eeef4c42c83",
   "metadata": {},
   "source": [
    "This synthetic data has records for 100 users for a 1 week period, with spherical coordinates (lat, lon) and datetime format for the time component of each ping. "
   ]
  },
  {
   "cell_type": "code",
   "execution_count": null,
   "id": "36d1bf28-244f-4111-bf21-efc06c744164",
   "metadata": {},
   "outputs": [],
   "source": [
    "data.head()"
   ]
  },
  {
   "cell_type": "markdown",
   "id": "8198be43-9fe4-41a5-b447-452331c413a2",
   "metadata": {},
   "source": [
    "## Stop detection algorithms"
   ]
  },
  {
   "cell_type": "markdown",
   "id": "e8652b4d-ab9a-485b-898f-c52601051329",
   "metadata": {},
   "source": [
    "The stop detection algorithms in ```nomad``` are applied to each user's trajectories separately. Thus, we demonstrate first by sampling a single user's data."
   ]
  },
  {
   "cell_type": "code",
   "execution_count": null,
   "id": "a9e4e7f2-b9b5-4af9-b2e5-bc38e46a90b6",
   "metadata": {},
   "outputs": [],
   "source": [
    "user_sample = data.loc[data.user_id == \"angry_spence\"]"
   ]
  },
  {
   "cell_type": "code",
   "execution_count": null,
   "id": "3f186420-9ae7-4021-9135-01b16e830f4f",
   "metadata": {},
   "outputs": [],
   "source": [
    "user_sample.head()"
   ]
  },
  {
   "cell_type": "markdown",
   "id": "7fe083e7-a972-439c-8c66-054c2e8974a9",
   "metadata": {},
   "source": [
    "For this user, the trajectory data has 1696 rows (pings) and covers a period of 15 days (start date: 2024-01-01, end date: 2024-01-15). We can visualize the trajectory for one day below: "
   ]
  },
  {
   "cell_type": "code",
   "execution_count": null,
   "id": "1e9b1bc6-def6-4dbe-8d47-3be72ff4ab1f",
   "metadata": {},
   "outputs": [],
   "source": [
    "plot_data = user_sample[user_sample['local_datetime'].dt.date == pd.to_datetime('2024-01-01').date()]\n",
    "\n",
    "fig, ax = plt.subplots(figsize=(9, 5))\n",
    "\n",
    "ax.scatter(x=plot_data['dev_lon'], \n",
    "           y=plot_data['dev_lat'],\n",
    "           s=6,\n",
    "           color='black',\n",
    "           alpha=1,\n",
    "           zorder=2)\n",
    "\n",
    "ax.plot(plot_data['dev_lon'],\n",
    "        plot_data['dev_lat'],\n",
    "        linewidth=1, color='blue', alpha=0.2)\n",
    "\n",
    "ax.set_yticklabels([])\n",
    "ax.set_xticklabels([])\n",
    "ax.set_xticks([])\n",
    "ax.set_yticks([])\n",
    "\n",
    "plt.tight_layout()\n",
    "plt.show()"
   ]
  },
  {
   "cell_type": "markdown",
   "id": "3bb39def-756f-4573-9e6d-5401662a9e3c",
   "metadata": {},
   "source": [
    "### Sequential stop detection (Lachesis)"
   ]
  },
  {
   "cell_type": "markdown",
   "id": "4046dd82-7fde-4c8e-99ca-cf1ad530269d",
   "metadata": {},
   "source": [
    "The first stop detection algorithm implemented in ```nomad``` is a sequential algorithm described in \"Project Lachesis: Parsing and Modeling Location Histories\". This algorithm for extracting stays is dependent on two parameters: the roaming distance and the stay duration. Roaming distance represents the maximum distance an object can move away from a point location and still be considered to be staying at that location. Stay duration is the minimum amount of time an object must spend within the roaming distance of a location to qualify as a stay. The algorithm identifies contiguous sequences of raw location data points that stay within the roaming distance for at least the duration of the stay duration"
   ]
  },
  {
   "cell_type": "markdown",
   "id": "61b5657f-2de6-45eb-9d29-486fd3104091",
   "metadata": {},
   "source": [
    "This algorithm has the following parameters, which determine the size of the resulting stops:\n",
    "* ```dur_min```: Minimum duration for a stay in minutes.\n",
    "* ```dt_max```: Maximum time gap permitted between consecutive pings in a stay in minutes (dt_max should be greater than dur_min).\n",
    "* ```delta_roam```: Maximum roaming distance for a stay in meters."
   ]
  },
  {
   "cell_type": "code",
   "execution_count": null,
   "id": "0be623a7-4490-42cd-9817-e8fd62ea05e1",
   "metadata": {},
   "outputs": [],
   "source": [
    "DUR_MIN = 60\n",
    "DT_MAX = 120\n",
    "DELTA_ROAM = 50"
   ]
  },
  {
   "cell_type": "markdown",
   "id": "0235d164-8c86-49cd-88cc-17b8dc60b1c9",
   "metadata": {},
   "source": [
    "The Lachesis algorithm can output a complete table of attributes for identified stops, including the start time, end time, the medoid coordinates, duration, number of pings in the stop, and diameter."
   ]
  },
  {
   "cell_type": "code",
   "execution_count": null,
   "id": "5d5054f0-efa5-416e-bcda-2f5c589dbbcf",
   "metadata": {
    "scrolled": true
   },
   "outputs": [],
   "source": [
    "%%time\n",
    "Lachesis.lachesis(traj=user_sample, dur_min=DUR_MIN, dt_max=DT_MAX, delta_roam=DELTA_ROAM, traj_cols=traj_cols, complete_output=True).head()"
   ]
  },
  {
   "cell_type": "markdown",
   "id": "b233242a-cb65-4765-ac9f-c27c926f08b5",
   "metadata": {},
   "source": [
    "An additional argument, ```complete_output```, can be passed to only output the stop start time, duration, and medoid coordinates."
   ]
  },
  {
   "cell_type": "code",
   "execution_count": null,
   "id": "fe9e6bf7-cbf1-45a4-8a0e-57f7ea49a881",
   "metadata": {
    "scrolled": true
   },
   "outputs": [],
   "source": [
    "%%time\n",
    "Lachesis.lachesis(traj=user_sample, dur_min=DUR_MIN, dt_max=DT_MAX, delta_roam=DELTA_ROAM, traj_cols=traj_cols, complete_output=False).head()"
   ]
  },
  {
   "cell_type": "markdown",
   "id": "7ad901e7-cd33-4460-b32a-6d1f67537626",
   "metadata": {},
   "source": [
    "We can also get the final cluster label for each of the pings, including those who were identified as noise."
   ]
  },
  {
   "cell_type": "code",
   "execution_count": null,
   "id": "f5c31d4a-3e45-468c-900b-3594796b21e4",
   "metadata": {},
   "outputs": [],
   "source": [
    "%%time\n",
    "Lachesis._lachesis_labels(traj=user_sample, dur_min=DUR_MIN, dt_max=DT_MAX, delta_roam=DELTA_ROAM, traj_cols=traj_cols).head()"
   ]
  },
  {
   "cell_type": "markdown",
   "id": "ebc275a5-c83d-46b9-945e-63fd50de52c5",
   "metadata": {},
   "source": [
    "The data could also come with different formats for spatial and temporal variables, the algorithm can handle those situations as well."
   ]
  },
  {
   "cell_type": "code",
   "execution_count": null,
   "id": "6823225a-fac5-4c58-befb-cea99dec4b73",
   "metadata": {},
   "outputs": [],
   "source": [
    "%%time\n",
    "# x, y, timestamp (unix time)\n",
    "traj_cols_x_y_timestamp = {'user_id':'user_id',\n",
    "                          'x':'x',\n",
    "                          'y':'y',\n",
    "                          'timestamp':'unix_time'}\n",
    "\n",
    "user_sample_x_y_timestamp = user_sample.copy()\n",
    "user_sample_x_y_timestamp = filters.to_projection(user_sample_x_y_timestamp, longitude='dev_lon', latitude='dev_lat')\n",
    "user_sample_x_y_timestamp['unix_time'] = user_sample_x_y_timestamp['local_datetime'].astype('int64') // 10**9\n",
    "\n",
    "# Lachesis with x, y, and timestamp (unix time)\n",
    "Lachesis.lachesis(user_sample_x_y_timestamp, DUR_MIN, DT_MAX, DELTA_ROAM, traj_cols=traj_cols_x_y_timestamp, complete_output=False).head()"
   ]
  },
  {
   "cell_type": "markdown",
   "id": "bbb8a063-d60e-494b-a7f7-d6c5acd94c4f",
   "metadata": {},
   "source": [
    "### Density based stop detection (Temporal DBSCAN)"
   ]
  },
  {
   "cell_type": "markdown",
   "id": "2083c282-fb27-4958-bd69-306e714ccd93",
   "metadata": {},
   "source": [
    "The second stop detection algorithm implemented in ```nomad``` is a density-based algorithm with time-constraints, Temporal DBSCAN. \n",
    "\n",
    "This algorithm for clustering user pings combines temporal and spatial dimensions, relying on three key parameters: the time threshold, the distance threshold, and the minimum number of points. The time threshold defines the maximum time difference (in minutes) between two consecutive pings for them to be considered neighbors within the same cluster. The distance threshold specifies the maximum spatial distance (in meters) between two pings for them to be considered neighbors. The minimum points parameter sets the minimum number of points required for a dense region to form a cluster. If a region contains fewer than minimum number of points required, it is treated as noise. The algorithm identifies clusters by grouping contiguous pings that meet both the temporal and spatial criteria, while also ensuring that each cluster has enough density to be considered valid."
   ]
  },
  {
   "cell_type": "markdown",
   "id": "32eade27-4a20-4bde-8a2b-040a12a0ff07",
   "metadata": {},
   "source": [
    "This algorithm has the following parameters, which determine the size of the resulting stops:\n",
    "* ```time_thresh```: Time threshold in minutes for identifying neighbors.\n",
    "* ```dist_thresh```: Distance threshold in meters for identifying neighbors.\n",
    "* ```min_pts```: Minimum number of points required to form a dense region (core point)."
   ]
  },
  {
   "cell_type": "code",
   "execution_count": null,
   "id": "305a6c7e-10c1-4c3f-a5d8-14d792f9c6bf",
   "metadata": {},
   "outputs": [],
   "source": [
    "TIME_THRESH = 100\n",
    "DIST_THRESH = 40\n",
    "MIN_PTS = 10"
   ]
  },
  {
   "cell_type": "markdown",
   "id": "9647a8cc-66a0-48f4-8d80-5815de683f0f",
   "metadata": {},
   "source": [
    "Similarly to Lachesis, the Temporal DBSCAN algorithm can output a complete table of attributes for identified stops, including the start time, end time, the medoid coordinates, duration, number of pings in the stop, and diameter."
   ]
  },
  {
   "cell_type": "code",
   "execution_count": null,
   "id": "7d4dffd7-58fb-42c7-9027-f6e4dcf7e052",
   "metadata": {
    "scrolled": true
   },
   "outputs": [],
   "source": [
    "%%time\n",
    "DBSCAN.temporal_dbscan(user_sample, TIME_THRESH, DIST_THRESH, MIN_PTS, traj_cols=traj_cols, complete_output=True).head()"
   ]
  },
  {
   "cell_type": "markdown",
   "id": "a0b461be-8fc6-410c-b379-926cc7a90799",
   "metadata": {},
   "source": [
    "The additional argument ```complete_output``` can also be passed to only output the stop start time, duration, and medoid coordinates."
   ]
  },
  {
   "cell_type": "code",
   "execution_count": null,
   "id": "b0cb23c6-719a-4c15-aad6-6f3436106d29",
   "metadata": {
    "scrolled": true
   },
   "outputs": [],
   "source": [
    "%%time\n",
    "DBSCAN.temporal_dbscan(user_sample, TIME_THRESH, DIST_THRESH, MIN_PTS, traj_cols=traj_cols, complete_output=False).head()"
   ]
  },
  {
   "cell_type": "markdown",
   "id": "1e971e56-46ab-427d-a4f6-a119d4773368",
   "metadata": {},
   "source": [
    "We can also get the final cluster and core labels for each of the pings."
   ]
  },
  {
   "cell_type": "code",
   "execution_count": null,
   "id": "8686f955-16d6-4773-98bc-2927e5aac717",
   "metadata": {
    "scrolled": true
   },
   "outputs": [],
   "source": [
    "%%time\n",
    "DBSCAN._temporal_dbscan_labels(user_sample, TIME_THRESH, DIST_THRESH, MIN_PTS, traj_cols=traj_cols).head()"
   ]
  },
  {
   "cell_type": "markdown",
   "id": "5706889e-3ade-4a31-ab2b-c201d86cd2c2",
   "metadata": {},
   "source": [
    "The Temporal DBSCAN algorithm also handles data that comes with different formats for spatial and temporal variables."
   ]
  },
  {
   "cell_type": "code",
   "execution_count": null,
   "id": "f88f983b-69d3-4c40-ab35-6846b7578121",
   "metadata": {
    "scrolled": true
   },
   "outputs": [],
   "source": [
    "%%time\n",
    "DBSCAN.temporal_dbscan(user_sample_x_y_timestamp, TIME_THRESH, DIST_THRESH, MIN_PTS, traj_cols=traj_cols_x_y_timestamp, complete_output=False).head()"
   ]
  }
 ],
 "metadata": {
  "kernelspec": {
   "display_name": "Python (nomad_env)",
   "language": "python",
   "name": "nomad_env"
  },
  "language_info": {
   "codemirror_mode": {
    "name": "ipython",
    "version": 3
   },
   "file_extension": ".py",
   "mimetype": "text/x-python",
   "name": "python",
   "nbconvert_exporter": "python",
   "pygments_lexer": "ipython3",
   "version": "3.10.0"
  }
 },
 "nbformat": 4,
 "nbformat_minor": 5
}

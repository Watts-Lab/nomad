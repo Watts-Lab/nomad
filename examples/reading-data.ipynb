{
 "cells": [
  {
   "cell_type": "markdown",
   "id": "33e74357-703f-4a47-b365-74e6beac612b",
   "metadata": {},
   "source": [
    "# Tutorial 1: Loading and Sampling Trajectory Data\n",
    "\n",
    "This notebook shows how to load, validate, and optionally sample trajectory data using nomad's I/O module. The goal of this module is to reduce friction when working with real-world mobility data: inconsistent column names, different file formats, partitioned directories, mixed timezones, and massive datasets that must be sampled efficiently.\n",
    "\n",
    "These are common challenges when dealing with commercial or open GPS data. Files may come in different formats (CSV or Parquet), or in partitioned directories organized by date. Timestamps may be stored as integers or ISO strings, sometimes with timezones, sometimes without, and sometimes mixed. Latitude and longitude might be called `lat`/`lon` in one dataset, and `latitude`/`longitude` in another, or the data might have other coordinate projections altogether. \n",
    "\n",
    "Nomad's I/O functions give users a consistent interface for reading this data, without having to worry about these low-level details. Let's start by verifying the schemas of the data we will use, which come in two different formats—CSV and Parquet with hive-style partitioning. This can be achieved with nomad helper function `table_columns` from the `io` module.\n"
   ]
  },
  {
   "cell_type": "code",
   "execution_count": 13,
   "id": "9f4d2a70-4f52-44e9-8e8f-106426addea2",
   "metadata": {
    "scrolled": true
   },
   "outputs": [
    {
     "name": "stdout",
     "output_type": "stream",
     "text": [
      "Index(['identifier', 'unix_timestamp', 'device_lat', 'device_lon', 'date',\n",
      "       'offset_seconds', 'local_datetime'],\n",
      "      dtype='object')\n",
      "Index(['user_id', 'timestamp', 'latitude', 'longitude', 'tz_offset',\n",
      "       'datetime', 'date'],\n",
      "      dtype='object')\n"
     ]
    }
   ],
   "source": [
    "from nomad.io import base as loader\n",
    "\n",
    "print(loader.table_columns(\"gc-data.csv\", format=\"csv\"))\n",
    "print(loader.table_columns(\"gc-data/\", format=\"parquet\"))"
   ]
  },
  {
   "cell_type": "markdown",
   "id": "20e43946-4af5-4cfe-8b33-21aa16a5cbd0",
   "metadata": {},
   "source": [
    "explain how nomad can address different challenges in the data ingestion process:\n",
    "1) the data can be partitioned, complicating things for users most familiar with pandas, a simple wrapper function from_file simplifies things, same function for simple csvs or partitioned data\n",
    "2) column names and formats might vary from dataset to dataset, but spatial analysis functions require spatial and temporal columns, sometimes the time is expected as a unix timestamp, sometimes as a datetime with the local timezone. Similarly, an algorithm might require the latitude and longitude. Users always have the alternative of renaming the data so that those column names match the defaults of those functions, or they can input the right column names (or pass the relevant columns) on functions that have such flexibility. Nothing wrong with that. However, it could be preferrable to not alter the data permanently for analysis, specially if one will perform some filtering or produce a derivative dataset that is expected to be joined later on with the original data. Passing the correct column names every time to processing functions can be burdensome and verbose, and makes code less reusable when applied to a dataset with different column names. nomad addresses this by using an auxiliary dictionary of column names which other processing methods can use to find the appropriate columns. This is somewhat equivalent to passing the column names as keyword arguments, but functions also have a fallback to default column names for certain expected columns (like latitude, longitude, user_id, timestamp, etc).\n",
    "3) We can demonstrate the flexibiilty that this auxiliary dictionary offers, by loading some device-level data fond in `gc-data.csv`. Beyond being a wrapper for the pandas or pyarrow reader functions, the `io` reader method, `from_file`, also ensures the trajectory columns (coordinates and time columns) are cast to the correct data types, issues warnings when unix timestamps are not in seconds, and raises errors when the data seems to lack spatial or temporal columns that will likely be required in downstream processing. This can be evidenced by comparing the output of simply using `pandas.read_csv` with that of `from_file`, where we see that the right columns have been cast to the right data types:\n",
    "\n",
    "4) Of particular importance is the standardized handling of datetime strings in iso8601 formats. These can be timezone naive, have timezone information, and even have mixed timezones. For instance, when a trajectory spans multiple regions, or when there are daylight savings changes. nomad tries to simplify the parsing of dates in such cases, with three cases: [code explaining]\n",
    "\n",
    "5) This last case is important because distributed algorithms relying on Spark do not store timezone information in the timestamp format. This presents a challenge in which analysis related to local datetime is required, but this information is lost. Switching to utc time is always an option which makes naive datetimes comparable, but it makes analysis of day-time, night-time behaviors more complicated when there are mixed timezones. A standard way to deal with timezone data is to strip the timezone information from timestamps and represent it in a separate column as the offset from UTC time in seconds. Thus, for compatibility with Spark workflows, setting `mixed_timezone_behavior = \"naive\"` will create a `tz_offset` column (when one does not already exist).\n",
    "\n",
    "6) The flexibility provided by nomad to easily switch between small analyses using a small example of data, which could be stored in a .csv file, for testing code, and then using the same (or similar functions) to scale up in a distributed environment, facilitates a common (and recommended) workflow in which users can easily read data from some users from a large dataset and use standard pandas functionalities, benchmark their code, etc, and then scale up using more resources once they are certain their code is in good shape. This can easily be done with io methods like `sample_users`, `sample_from_file` (which may optionally take a sample of users drawn from somewhere else). This is shown as follows:\n",
    "\n",
    "7) Finally, a user might want to persist such a sample with care for the data types and, perhaps, recovering the date string format with timezone, which is possible even when this information was saved in the tz_offset column. Notice that this writer function can also seamlessly switch between csv and parquet formats, leveraging pyarrow and pandas. FOr example: "
   ]
  },
  {
   "cell_type": "code",
   "execution_count": null,
   "id": "a788f2ac-4b4d-4ba4-b888-0928ce9ff373",
   "metadata": {},
   "outputs": [],
   "source": [
    "from nomad.io import base as loader\n",
    "import matplotlib.pyplot as plt"
   ]
  },
  {
   "cell_type": "markdown",
   "id": "b9cb3d0b-adf8-4eea-843f-bbab401e14da",
   "metadata": {},
   "source": [
    "Nomad's data loader combines convenient loader functions from ```Pandas``` and ```Pyarrow``` that parse through partitioned folder structures to return a pandas dataframe. "
   ]
  },
  {
   "cell_type": "code",
   "execution_count": null,
   "id": "565115f0-1e3c-4b34-8eca-3abeb1695f5c",
   "metadata": {
    "scrolled": true
   },
   "outputs": [],
   "source": [
    "df = loader.from_file('gc-sample-data/', format='parquet')\n",
    "df"
   ]
  },
  {
   "cell_type": "code",
   "execution_count": null,
   "id": "3a5c8b82-7662-40fe-827d-c8afec1d4cd7",
   "metadata": {},
   "outputs": [],
   "source": [
    "# Plot the trajectory of a single user in a day\n",
    "user_traj = df.loc[(df.uid == \"youthful_galileo\")&(df.date=='2024-01-15')]\n",
    "\n",
    "user_traj.plot('longitude',\n",
    "               'latitude',\n",
    "               marker='o',\n",
    "               xlabel='Longitude',\n",
    "               ylabel='Latitude',\n",
    "               xticks=[],\n",
    "               yticks=[],\n",
    "               title= 'Sample Trajectory for a random user on \"2024-01-15\"')"
   ]
  },
  {
   "cell_type": "code",
   "execution_count": null,
   "id": "5b21b84c",
   "metadata": {
    "tags": []
   },
   "outputs": [],
   "source": [
    "part_path = \"s3://synthetic-raw-data/agents-*/sparse_trajectories.parquet/\"\n",
    "\n",
    "traj_cols =  {\"user_id\":\"identifier\",\n",
    "              \"x\":\"x\",\n",
    "              \"y\":\"y\",\n",
    "              \"datetime\":\"local_timestamp\"}"
   ]
  },
  {
   "cell_type": "markdown",
   "id": "f791d2b6",
   "metadata": {},
   "source": [
    "### Get a sample of users"
   ]
  },
  {
   "cell_type": "code",
   "execution_count": null,
   "id": "cc616658",
   "metadata": {
    "tags": []
   },
   "outputs": [],
   "source": [
    "u_sample = loader.sample_users(\"s3://synthetic-raw-data/agents-*/sparse_trajectories.parquet/\", format='parquet', frac_users=0.2, user_id='identifier')"
   ]
  },
  {
   "cell_type": "code",
   "execution_count": null,
   "id": "7cd86dad-31c5-4ace-ac30-c7bb650fb1d2",
   "metadata": {},
   "outputs": [],
   "source": [
    "u_sample"
   ]
  },
  {
   "cell_type": "markdown",
   "id": "e8d2b2b0",
   "metadata": {},
   "source": [
    "### Load data for users in u_sample for 3 days"
   ]
  },
  {
   "cell_type": "code",
   "execution_count": null,
   "id": "f3048fc0",
   "metadata": {
    "tags": []
   },
   "outputs": [],
   "source": [
    "filepath = ['s3://phl-pings/gravy_clean/date=2019-11-01/',\n",
    "            's3://phl-pings/gravy_clean/date=2019-11-02/',\n",
    "            's3://phl-pings/gravy_clean/date=2019-11-03/',\n",
    "            's3://phl-pings/gravy_clean/date=2019-11-04/',\n",
    "            's3://phl-pings/gravy_clean/date=2019-11-05/',\n",
    "            's3://phl-pings/gravy_clean/date=2019-11-06/']\n",
    "\n",
    "data = loader.sample_from_file(part_path, users=u_sample, format='parquet', traj_cols=traj_cols, user_id = 'identifier')"
   ]
  },
  {
   "cell_type": "code",
   "execution_count": null,
   "id": "22771feb-476e-45a7-8e6c-4f1902682c93",
   "metadata": {},
   "outputs": [],
   "source": [
    "data"
   ]
  },
  {
   "cell_type": "code",
   "execution_count": null,
   "id": "47d40c7d",
   "metadata": {
    "tags": []
   },
   "outputs": [],
   "source": [
    "data['timestamp'] = data[traj_cols['datetime']].astype(int) // 10**9"
   ]
  }
 ],
 "metadata": {
  "kernelspec": {
   "display_name": "Python 3 (ipykernel)",
   "language": "python",
   "name": "python3"
  },
  "language_info": {
   "codemirror_mode": {
    "name": "ipython",
    "version": 3
   },
   "file_extension": ".py",
   "mimetype": "text/x-python",
   "name": "python",
   "nbconvert_exporter": "python",
   "pygments_lexer": "ipython3",
   "version": "3.12.3"
  },
  "nbdime-conflicts": {
   "local_diff": [
    {
     "diff": [
      {
       "diff": [
        {
         "key": 0,
         "op": "addrange",
         "valuelist": [
          "conda_py_310_env"
         ]
        },
        {
         "key": 0,
         "length": 1,
         "op": "removerange"
        }
       ],
       "key": "display_name",
       "op": "patch"
      },
      {
       "diff": [
        {
         "key": 0,
         "op": "addrange",
         "valuelist": [
          "conda_py_310_env"
         ]
        },
        {
         "key": 0,
         "length": 1,
         "op": "removerange"
        }
       ],
       "key": "name",
       "op": "patch"
      }
     ],
     "key": "kernelspec",
     "op": "patch"
    },
    {
     "diff": [
      {
       "diff": [
        {
         "diff": [
          {
           "key": 5,
           "op": "addrange",
           "valuelist": "6"
          },
          {
           "key": 5,
           "length": 2,
           "op": "removerange"
          }
         ],
         "key": 0,
         "op": "patch"
        }
       ],
       "key": "version",
       "op": "patch"
      }
     ],
     "key": "language_info",
     "op": "patch"
    }
   ],
   "remote_diff": [
    {
     "diff": [
      {
       "diff": [
        {
         "key": 0,
         "op": "addrange",
         "valuelist": [
          "Python 3 (ipykernel)"
         ]
        },
        {
         "key": 0,
         "length": 1,
         "op": "removerange"
        }
       ],
       "key": "display_name",
       "op": "patch"
      },
      {
       "diff": [
        {
         "key": 0,
         "op": "addrange",
         "valuelist": [
          "python3"
         ]
        },
        {
         "key": 0,
         "length": 1,
         "op": "removerange"
        }
       ],
       "key": "name",
       "op": "patch"
      }
     ],
     "key": "kernelspec",
     "op": "patch"
    },
    {
     "diff": [
      {
       "diff": [
        {
         "key": 0,
         "length": 1,
         "op": "removerange"
        }
       ],
       "key": "version",
       "op": "patch"
      }
     ],
     "key": "language_info",
     "op": "patch"
    }
   ]
  }
 },
 "nbformat": 4,
 "nbformat_minor": 5
}

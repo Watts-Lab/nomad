{
 "cells": [
  {
   "cell_type": "markdown",
   "id": "3a9578c2-6554-4320-8415-7b1e90f167ac",
   "metadata": {},
   "source": [
    "# Garden city: A synthetic dataset and sandbox environment for analysis of pre-processing algorithms for GPS human mobility data"
   ]
  },
  {
   "cell_type": "code",
   "execution_count": 4,
   "id": "1b438d4d",
   "metadata": {},
   "outputs": [
    {
     "name": "stdout",
     "output_type": "stream",
     "text": [
      "Collecting git+https://github.com/Watts-Lab/nomad.git@bucephalus\n",
      "  Cloning https://github.com/Watts-Lab/nomad.git (to revision bucephalus) to /private/var/folders/9v/zcb15thj2wb7b8tn11chj_cw0000gn/T/pip-req-build-z5g5xz42\n",
      "  Running command git clone --filter=blob:none --quiet https://github.com/Watts-Lab/nomad.git /private/var/folders/9v/zcb15thj2wb7b8tn11chj_cw0000gn/T/pip-req-build-z5g5xz42\n",
      "  Running command git checkout -b bucephalus --track origin/bucephalus\n",
      "  Switched to a new branch 'bucephalus'\n",
      "  branch 'bucephalus' set up to track 'origin/bucephalus'.\n",
      "  Resolved https://github.com/Watts-Lab/nomad.git to commit eb2c6247b5995a20a3f567d41e51ded184b76355\n",
      "  Installing build dependencies ... \u001b[?25ldone\n",
      "\u001b[?25h  Getting requirements to build wheel ... \u001b[?25ldone\n",
      "\u001b[?25h  Preparing metadata (pyproject.toml) ... \u001b[?25ldone\n",
      "\u001b[?25hRequirement already satisfied: pandas in /Library/Frameworks/Python.framework/Versions/3.13/lib/python3.13/site-packages (from nomad==0.0.1) (2.2.3)\n",
      "Requirement already satisfied: numpy in /Library/Frameworks/Python.framework/Versions/3.13/lib/python3.13/site-packages (from nomad==0.0.1) (2.1.3)\n",
      "Requirement already satisfied: datetime in /Library/Frameworks/Python.framework/Versions/3.13/lib/python3.13/site-packages (from nomad==0.0.1) (5.5)\n",
      "Requirement already satisfied: pyspark in /Library/Frameworks/Python.framework/Versions/3.13/lib/python3.13/site-packages (from nomad==0.0.1) (3.5.3)\n",
      "Requirement already satisfied: shapely in /Library/Frameworks/Python.framework/Versions/3.13/lib/python3.13/site-packages (from nomad==0.0.1) (2.0.6)\n",
      "Requirement already satisfied: matplotlib in /Library/Frameworks/Python.framework/Versions/3.13/lib/python3.13/site-packages (from nomad==0.0.1) (3.9.2)\n",
      "Requirement already satisfied: networkx in /Library/Frameworks/Python.framework/Versions/3.13/lib/python3.13/site-packages (from nomad==0.0.1) (3.4.2)\n",
      "Requirement already satisfied: nx_parallel in /Library/Frameworks/Python.framework/Versions/3.13/lib/python3.13/site-packages (from nomad==0.0.1) (0.3)\n",
      "Requirement already satisfied: zope.interface in /Library/Frameworks/Python.framework/Versions/3.13/lib/python3.13/site-packages (from datetime->nomad==0.0.1) (7.1.1)\n",
      "Requirement already satisfied: pytz in /Library/Frameworks/Python.framework/Versions/3.13/lib/python3.13/site-packages (from datetime->nomad==0.0.1) (2024.2)\n",
      "Requirement already satisfied: contourpy>=1.0.1 in /Library/Frameworks/Python.framework/Versions/3.13/lib/python3.13/site-packages (from matplotlib->nomad==0.0.1) (1.3.0)\n",
      "Requirement already satisfied: cycler>=0.10 in /Library/Frameworks/Python.framework/Versions/3.13/lib/python3.13/site-packages (from matplotlib->nomad==0.0.1) (0.12.1)\n",
      "Requirement already satisfied: fonttools>=4.22.0 in /Library/Frameworks/Python.framework/Versions/3.13/lib/python3.13/site-packages (from matplotlib->nomad==0.0.1) (4.54.1)\n",
      "Requirement already satisfied: kiwisolver>=1.3.1 in /Library/Frameworks/Python.framework/Versions/3.13/lib/python3.13/site-packages (from matplotlib->nomad==0.0.1) (1.4.7)\n",
      "Requirement already satisfied: packaging>=20.0 in /Users/thomasli/Library/Python/3.13/lib/python/site-packages (from matplotlib->nomad==0.0.1) (24.2)\n",
      "Requirement already satisfied: pillow>=8 in /Library/Frameworks/Python.framework/Versions/3.13/lib/python3.13/site-packages (from matplotlib->nomad==0.0.1) (11.0.0)\n",
      "Requirement already satisfied: pyparsing>=2.3.1 in /Library/Frameworks/Python.framework/Versions/3.13/lib/python3.13/site-packages (from matplotlib->nomad==0.0.1) (3.2.0)\n",
      "Requirement already satisfied: python-dateutil>=2.7 in /Users/thomasli/Library/Python/3.13/lib/python/site-packages (from matplotlib->nomad==0.0.1) (2.9.0.post0)\n",
      "Requirement already satisfied: joblib>=1.4.2 in /Library/Frameworks/Python.framework/Versions/3.13/lib/python3.13/site-packages (from nx_parallel->nomad==0.0.1) (1.4.2)\n",
      "Requirement already satisfied: tzdata>=2022.7 in /Library/Frameworks/Python.framework/Versions/3.13/lib/python3.13/site-packages (from pandas->nomad==0.0.1) (2024.2)\n",
      "Requirement already satisfied: py4j==0.10.9.7 in /Library/Frameworks/Python.framework/Versions/3.13/lib/python3.13/site-packages (from pyspark->nomad==0.0.1) (0.10.9.7)\n",
      "Requirement already satisfied: six>=1.5 in /Users/thomasli/Library/Python/3.13/lib/python/site-packages (from python-dateutil>=2.7->matplotlib->nomad==0.0.1) (1.16.0)\n",
      "Requirement already satisfied: setuptools in /Library/Frameworks/Python.framework/Versions/3.13/lib/python3.13/site-packages (from zope.interface->datetime->nomad==0.0.1) (75.6.0)\n",
      "Building wheels for collected packages: nomad\n",
      "  Building wheel for nomad (pyproject.toml) ... \u001b[?25ldone\n",
      "\u001b[?25h  Created wheel for nomad: filename=nomad-0.0.1-py3-none-any.whl size=21597 sha256=3861abd59e02691dfe85972674ae1de92753f664147e1d8af6b24e990a56fca4\n",
      "  Stored in directory: /private/var/folders/9v/zcb15thj2wb7b8tn11chj_cw0000gn/T/pip-ephem-wheel-cache-4b8ankt5/wheels/92/8c/18/2b060697cf4676f87c4e165113a358d54988eeab581e3e44ef\n",
      "Successfully built nomad\n",
      "Installing collected packages: nomad\n",
      "Successfully installed nomad-0.0.1\n",
      "Note: you may need to restart the kernel to use updated packages.\n"
     ]
    }
   ],
   "source": [
    "%pip install git+https://github.com/Watts-Lab/nomad.git@bucephalus"
   ]
  },
  {
   "cell_type": "code",
   "execution_count": null,
   "id": "20c2bbc9",
   "metadata": {
    "tags": []
   },
   "outputs": [
    {
     "ename": "ModuleNotFoundError",
     "evalue": "No module named 'city_gen'",
     "output_type": "error",
     "traceback": [
      "\u001b[0;31m---------------------------------------------------------------------------\u001b[0m",
      "\u001b[0;31mModuleNotFoundError\u001b[0m                       Traceback (most recent call last)",
      "Cell \u001b[0;32mIn[5], line 18\u001b[0m\n\u001b[1;32m     15\u001b[0m \u001b[38;5;28;01mfrom\u001b[39;00m \u001b[38;5;21;01mshapely\u001b[39;00m\u001b[38;5;21;01m.\u001b[39;00m\u001b[38;5;21;01mgeometry\u001b[39;00m \u001b[38;5;28;01mimport\u001b[39;00m box\n\u001b[1;32m     16\u001b[0m \u001b[38;5;28;01mfrom\u001b[39;00m \u001b[38;5;21;01mpprint\u001b[39;00m \u001b[38;5;28;01mimport\u001b[39;00m pprint\n\u001b[0;32m---> 18\u001b[0m \u001b[38;5;28;01mfrom\u001b[39;00m \u001b[38;5;21;01mnomad\u001b[39;00m \u001b[38;5;28;01mimport\u001b[39;00m city_gen \u001b[38;5;28;01mas\u001b[39;00m cg\n\u001b[1;32m     19\u001b[0m \u001b[38;5;28;01mfrom\u001b[39;00m \u001b[38;5;21;01mcity_gen\u001b[39;00m \u001b[38;5;28;01mimport\u001b[39;00m City, Building, Street\n\u001b[1;32m     20\u001b[0m \u001b[38;5;28;01mimport\u001b[39;00m \u001b[38;5;21;01mtraj_gen\u001b[39;00m \u001b[38;5;28;01mas\u001b[39;00m \u001b[38;5;21;01mtg\u001b[39;00m\n",
      "File \u001b[0;32m/Library/Frameworks/Python.framework/Versions/3.13/lib/python3.13/site-packages/nomad/__init__.py:4\u001b[0m\n\u001b[1;32m      2\u001b[0m \u001b[38;5;28;01mimport\u001b[39;00m \u001b[38;5;21;01mnomad\u001b[39;00m\u001b[38;5;21;01m.\u001b[39;00m\u001b[38;5;21;01mconstants\u001b[39;00m\n\u001b[1;32m      3\u001b[0m \u001b[38;5;28;01mimport\u001b[39;00m \u001b[38;5;21;01mnomad\u001b[39;00m\u001b[38;5;21;01m.\u001b[39;00m\u001b[38;5;21;01mcity_gen\u001b[39;00m\n\u001b[0;32m----> 4\u001b[0m \u001b[38;5;28;01mimport\u001b[39;00m \u001b[38;5;21;01mnomad\u001b[39;00m\u001b[38;5;21;01m.\u001b[39;00m\u001b[38;5;21;01mtraj_gen\u001b[39;00m\n\u001b[1;32m      5\u001b[0m \u001b[38;5;28;01mimport\u001b[39;00m \u001b[38;5;21;01mnomad\u001b[39;00m\u001b[38;5;21;01m.\u001b[39;00m\u001b[38;5;21;01mio\u001b[39;00m\n\u001b[1;32m      6\u001b[0m \u001b[38;5;28;01mimport\u001b[39;00m \u001b[38;5;21;01mnomad\u001b[39;00m\u001b[38;5;21;01m.\u001b[39;00m\u001b[38;5;21;01mstop_detection\u001b[39;00m\n",
      "File \u001b[0;32m/Library/Frameworks/Python.framework/Versions/3.13/lib/python3.13/site-packages/nomad/traj_gen.py:11\u001b[0m\n\u001b[1;32m      8\u001b[0m \u001b[38;5;28;01mimport\u001b[39;00m \u001b[38;5;21;01mfunkybob\u001b[39;00m\n\u001b[1;32m      9\u001b[0m \u001b[38;5;28;01mimport\u001b[39;00m \u001b[38;5;21;01ms3fs\u001b[39;00m\n\u001b[0;32m---> 11\u001b[0m \u001b[38;5;28;01mfrom\u001b[39;00m \u001b[38;5;21;01mcity_gen\u001b[39;00m \u001b[38;5;28;01mimport\u001b[39;00m \u001b[38;5;241m*\u001b[39m\n\u001b[1;32m     12\u001b[0m \u001b[38;5;28;01mfrom\u001b[39;00m \u001b[38;5;21;01mconstants\u001b[39;00m \u001b[38;5;28;01mimport\u001b[39;00m DEFAULT_SPEEDS, FAST_SPEEDS, SLOW_SPEEDS, DEFAULT_STILL_PROBS\n\u001b[1;32m     13\u001b[0m \u001b[38;5;28;01mfrom\u001b[39;00m \u001b[38;5;21;01mconstants\u001b[39;00m \u001b[38;5;28;01mimport\u001b[39;00m FAST_STILL_PROBS, SLOW_STILL_PROBS, ALLOWED_BUILDINGS, DEFAULT_STAY_PROBS\n",
      "\u001b[0;31mModuleNotFoundError\u001b[0m: No module named 'city_gen'"
     ]
    }
   ],
   "source": [
    "# import sys\n",
    "# import os\n",
    "# core_dir = os.path.join(os.getcwd(), '../..', 'nomad')\n",
    "# core_dir = os.path.normpath(core_dir)\n",
    "# sys.path.append(core_dir)\n",
    "\n",
    "import pandas as pd\n",
    "from datetime import datetime, timedelta\n",
    "import numpy as np\n",
    "import matplotlib.pyplot as plt\n",
    "from matplotlib import cm\n",
    "import matplotlib.dates as mdates\n",
    "from matplotlib.animation import FuncAnimation, PillowWriter\n",
    "import numpy.random as npr\n",
    "from shapely.geometry import box\n",
    "from pprint import pprint\n",
    "\n",
    "import nomad.city_gen as cg\n",
    "from nomad.city_gen import City, Building, Street\n",
    "import nomad.traj_gen as tg\n",
    "from nomad.traj_gen import Agent, Population\n",
    "import nomad.stop_detection as sd\n",
    "from nomad.constants import DEFAULT_SPEEDS, FAST_SPEEDS, SLOW_SPEEDS, DEFAULT_STILL_PROBS\n",
    "from nomad.constants import FAST_STILL_PROBS, SLOW_STILL_PROBS, ALLOWED_BUILDINGS\n",
    "\n",
    "import os\n",
    "os.environ['TZ'] = 'UTC'"
   ]
  },
  {
   "cell_type": "markdown",
   "id": "7fedb635",
   "metadata": {},
   "source": [
    "## Generating an example city"
   ]
  },
  {
   "cell_type": "markdown",
   "id": "e43dbc14",
   "metadata": {},
   "source": [
    "To create a city, begin by initializing a `City` of the desired dimension. Then successively add Buildings to the city by defining their type, door location, and geometry (either as a bounding box or a list of block coordinates). The final step is to call `city.get_street_graph()`, which generates the shortest paths between all blocks. As an example, we generate a city in which buildings are arranged in concentric rings, with a park in the center, following a ring of residences (blue), a ring of retail locations (purple), and, finally, an outer ring of workplaces (grey)."
   ]
  },
  {
   "cell_type": "code",
   "execution_count": 33,
   "id": "02e0dcab-05d8-47eb-b22d-c7e0528beac8",
   "metadata": {},
   "outputs": [
    {
     "name": "stdout",
     "output_type": "stream",
     "text": [
      "Attributes for building 'h-x8-y8':\n",
      "{'blocks': [(7, 7), (7, 8)],\n",
      " 'building_type': 'home',\n",
      " 'city': <city_gen.City object at 0x11331f250>,\n",
      " 'door': (8, 8),\n",
      " 'door_centroid': (8.0, 8.5),\n",
      " 'geometry': <POLYGON ((8 7, 8 9, 7 9, 7 7, 8 7))>,\n",
      " 'id': 'h-x8-y8'}\n"
     ]
    }
   ],
   "source": [
    "# Initialize city\n",
    "city = City(dimensions=(22, 22))\n",
    "# add a park\n",
    "city.add_building(building_type='park', door=(13, 11), bbox=box(9, 9, 13, 13))\n",
    "# add a home\n",
    "city.add_building(building_type='home', door=(8, 8), blocks=[(7, 7), (7, 8)])\n",
    "\n",
    "print(\"Attributes for building 'h-x8-y8':\")\n",
    "pprint(city.buildings['h-x8-y8'].__dict__)"
   ]
  },
  {
   "cell_type": "code",
   "execution_count": 34,
   "id": "15653e2e",
   "metadata": {
    "tags": []
   },
   "outputs": [],
   "source": [
    "# add remaining homes\n",
    "city.add_building('home', (9, 8), [(8, 7), (9, 7)])\n",
    "city.add_building('home', (10, 8), [(10, 7)])\n",
    "city.add_building('home', (11, 8), [(11, 7)])\n",
    "city.add_building('home', (13, 6), [(13, 7)])\n",
    "city.add_building('home', (14, 6), [(14, 7)])\n",
    "city.add_building('home', (13, 8), [(14, 8)])\n",
    "city.add_building('home', (13, 9), [(14, 9)])\n",
    "city.add_building('home', (13, 11), [(14, 11)])\n",
    "city.add_building('home', (13, 12), [(14, 12)])\n",
    "city.add_building('home', (15, 13), [(14, 13)])\n",
    "city.add_building('home', (13, 13), [(13, 14), (14, 14)])\n",
    "city.add_building('home', (12, 13), [(12, 14)])\n",
    "city.add_building('home', (11, 13), [(11, 14)])\n",
    "city.add_building('home', (9, 13), [(9, 14)])\n",
    "city.add_building('home', (8, 13), [(8, 14)])\n",
    "city.add_building('home', (7, 15), [(7, 14)])\n",
    "city.add_building('home', (6, 13), [(7, 13)])\n",
    "city.add_building('home', (8, 12), [(7, 12)])\n",
    "city.add_building('home', (8, 10), [(7, 10), (7, 9)])\n",
    "\n",
    "# add workplaces\n",
    "city.add_building('work', (3, 4), [(4, 4), (4, 5)])\n",
    "city.add_building('work', (5, 3), [(5, 4), (5, 5)])\n",
    "city.add_building('work', (6, 6), bbox=box(6, 4, 8, 6))\n",
    "city.add_building('work', (8, 6), bbox=box(8, 4, 10, 6))\n",
    "city.add_building('work', (12, 6), bbox=box(11, 5, 14, 6))\n",
    "city.add_building('work', (12, 3), bbox=box(11, 4, 14, 5))\n",
    "city.add_building('work', (15, 3), bbox=box(14, 4, 17, 6))\n",
    "city.add_building('work', (18, 4), bbox=box(17, 4, 18, 6))\n",
    "city.add_building('work', (18, 6), bbox=box(16, 6, 18, 8))\n",
    "city.add_building('work', (15, 9), bbox=box(16, 8, 17, 10))\n",
    "city.add_building('work', (18, 8), bbox=box(17, 8, 18, 10))\n",
    "city.add_building('work', (18, 10), bbox=box(16, 10, 18, 12))\n",
    "city.add_building('work', (18, 13), bbox=box(16, 13, 18, 15))\n",
    "city.add_building('work', (18, 15), bbox=box(16, 15, 18, 16))\n",
    "city.add_building('work', (15, 15), bbox=box(15, 16, 18, 17))\n",
    "city.add_building('work', (14, 15), [(14, 16)])\n",
    "city.add_building('work', (16, 18), bbox=box(16, 17, 18, 18))\n",
    "city.add_building('work', (15, 18), bbox=box(14, 17, 16, 18))\n",
    "city.add_building('work', (13, 18), bbox=box(12, 16, 14, 18))\n",
    "city.add_building('work', (11, 18), bbox=box(10, 17, 12, 18))\n",
    "city.add_building('work', (11, 15), bbox=box(10, 16, 12, 17))\n",
    "city.add_building('work', (8, 18), bbox=box(7, 16, 9, 18))\n",
    "city.add_building('work', (6, 18), bbox=box(5, 17, 7, 18))\n",
    "city.add_building('work', (6, 15), bbox=box(5, 16, 7, 17))\n",
    "city.add_building('work', (3, 16), [(4, 16), (4, 17)])\n",
    "city.add_building('work', (3, 13), bbox=box(4, 13, 6, 16))\n",
    "city.add_building('work', (6, 12), bbox=box(4, 12, 6, 13))\n",
    "city.add_building('work', (3, 10), [(4, 9), (4, 10)])\n",
    "city.add_building('work', (6, 9), [(5, 9), (5, 10)])\n",
    "city.add_building('work', (6, 8), [(4, 8), (5, 8)])\n",
    "city.add_building('work', (3, 6), bbox=box(4, 6, 6, 8))\n",
    "\n",
    "# add retail places\n",
    "city.add_building('retail', (0, 1), bbox=box(1, 1, 3, 3))\n",
    "city.add_building('retail', (3, 0), bbox=box(3, 1, 5, 3))\n",
    "city.add_building('retail', (5, 0), [(5, 1)])\n",
    "city.add_building('retail', (5, 3), [(5, 2)])\n",
    "city.add_building('retail', (6, 0), bbox=box(6, 1, 8, 2))\n",
    "city.add_building('retail', (6, 3), bbox=box(6, 2, 8, 3))\n",
    "city.add_building('retail', (9, 3), bbox=box(9, 1, 10, 3))\n",
    "city.add_building('retail', (12, 3), bbox=box(10, 1, 13, 3))\n",
    "city.add_building('retail', (14, 3), bbox=box(13, 1, 15, 3))\n",
    "city.add_building('retail', (15, 3), [(15, 2)])\n",
    "city.add_building('retail', (16, 3), [(16, 2)])\n",
    "city.add_building('retail', (15, 0), [(15, 1)])\n",
    "city.add_building('retail', (16, 0), [(16, 1)])\n",
    "city.add_building('retail', (17, 3), bbox=box(17, 2, 19, 3))\n",
    "city.add_building('retail', (18, 0), bbox=box(17, 1, 19, 2))\n",
    "city.add_building('retail', (19, 0), bbox=box(19, 1, 21, 2))\n",
    "city.add_building('retail', (18, 3), bbox=box(19, 2, 21, 4))\n",
    "city.add_building('retail', (18, 5), bbox=box(19, 4, 21, 6))\n",
    "city.add_building('retail', (18, 7), bbox=box(19, 6, 20, 8))\n",
    "city.add_building('retail', (21, 7), bbox=box(20, 6, 21, 8))\n",
    "city.add_building('retail', (18, 10), bbox=box(19, 9, 21, 11))\n",
    "city.add_building('retail', (18, 11), bbox=box(19, 11, 21, 13))\n",
    "city.add_building('retail', (18, 13), bbox=box(19, 13, 20, 15))\n",
    "city.add_building('retail', (21, 13), bbox=box(20, 13, 21, 15))\n",
    "city.add_building('retail', (21, 16), bbox=box(19, 15, 21, 17))\n",
    "city.add_building('retail', (21, 18), bbox=box(19, 17, 21, 19))\n",
    "\n",
    "city.add_building('retail', (21, 19), bbox=box(19, 19, 21, 20))\n",
    "city.add_building('retail', (20, 21), bbox=box(19, 20, 21, 21))\n",
    "city.add_building('retail', (17, 18), bbox=box(17, 19, 18, 21))\n",
    "city.add_building('retail', (16, 18), bbox=box(16, 19, 17, 21))\n",
    "city.add_building('retail', (14, 18), bbox=box(13, 19, 16, 20))\n",
    "city.add_building('retail', (15, 21), bbox=box(14, 20, 16, 21))\n",
    "city.add_building('retail', (13, 21), bbox=box(12, 20, 14, 21))\n",
    "city.add_building('retail', (12, 18), bbox=box(12, 19, 13, 20))\n",
    "city.add_building('retail', (11, 18), bbox=box(10, 19, 12, 21))\n",
    "city.add_building('retail', (9, 18), bbox=box(8, 19, 10, 20))\n",
    "city.add_building('retail', (9, 21), bbox=box(8, 20, 10, 21))\n",
    "city.add_building('retail', (6, 21), bbox=box(5, 19, 7, 21))\n",
    "city.add_building('retail', (4, 21), bbox=box(3, 20, 5, 21))\n",
    "city.add_building('retail', (4, 18), bbox=box(3, 19, 5, 20))\n",
    "city.add_building('retail', (2, 18), bbox=box(2, 19, 3, 21))\n",
    "city.add_building('retail', (1, 18), bbox=box(1, 19, 2, 21))\n",
    "city.add_building('retail', (3, 17), bbox=box(1, 16, 3, 18))\n",
    "city.add_building('retail', (3, 15), bbox=box(1, 15, 3, 16))\n",
    "city.add_building('retail', (3, 14), bbox=box(1, 14, 3, 15))\n",
    "city.add_building('retail', (3, 12), bbox=box(1, 12, 3, 14))\n",
    "city.add_building('retail', (3, 11), bbox=box(1, 11, 3, 12))\n",
    "city.add_building('retail', (3, 10), bbox=box(1, 10, 3, 11))\n",
    "city.add_building('retail', (3, 8), bbox=box(1, 8, 3, 10))\n",
    "city.add_building('retail', (3, 7), bbox=box(1, 7, 3, 8))\n",
    "city.add_building('retail', (0, 5), bbox=box(1, 4, 2, 7))\n",
    "city.add_building('retail', (3, 6), [(2, 6)])\n",
    "city.add_building('retail', (3, 5), [(2, 5)])\n",
    "city.add_building('retail', (3, 4), [(2, 4)])\n",
    "\n",
    "city.get_street_graph()\n",
    "\n",
    "# get_street_graph can be expensive so persisting is recommended\n",
    "city.save('garden-city.pkl')"
   ]
  },
  {
   "cell_type": "markdown",
   "id": "9b055556",
   "metadata": {},
   "source": [
    "In future experiments, we can simply load the city pkl file. "
   ]
  },
  {
   "cell_type": "code",
   "execution_count": 35,
   "id": "453c0376-cada-4b09-8163-207914cbfe1a",
   "metadata": {
    "tags": []
   },
   "outputs": [],
   "source": [
    "city = cg.load('garden-city.pkl')"
   ]
  },
  {
   "cell_type": "markdown",
   "id": "3622b389-0583-4dcd-a62a-6f5d25841db4",
   "metadata": {},
   "source": [
    "### Plotting the city"
   ]
  },
  {
   "cell_type": "markdown",
   "id": "ee0bb351",
   "metadata": {},
   "source": [
    "To visualize the city, we can call the `plot_city` method of the `City` class."
   ]
  },
  {
   "cell_type": "code",
   "execution_count": 36,
   "id": "2823a0b7",
   "metadata": {
    "tags": []
   },
   "outputs": [
    {
     "data": {
      "image/png": "[encoded data removed]",
      "text/plain": [
       "<Figure size 600x600 with 1 Axes>"
      ]
     },
     "metadata": {},
     "output_type": "display_data"
    }
   ],
   "source": [
    "%matplotlib inline\n",
    "\n",
    "fig, ax = plt.subplots(figsize=(6, 6))\n",
    "plt.box(on=False)\n",
    "\n",
    "city.plot_city(ax, doors=True, address=False)\n",
    "\n",
    "ax.set_yticklabels([])\n",
    "ax.set_xticklabels([])\n",
    "ax.set_xticks([])\n",
    "ax.set_yticks([])\n",
    "\n",
    "plt.savefig('gc_empty.png')\n",
    "plt.show()"
   ]
  },
  {
   "cell_type": "markdown",
   "id": "66c39f6a",
   "metadata": {},
   "source": [
    "Each `Building` is assigned a unique identifier by its type and door coordinate. For example, the retail building with door coordinate (12, 3) has the id 'r-x12-y3'. Individual `Buildings` objects and their attributes may be accessed throught the `city.buildings` dictionary."
   ]
  },
  {
   "cell_type": "code",
   "execution_count": 37,
   "id": "4b7c0024-54cc-44ec-926e-9b0e6236aadb",
   "metadata": {
    "tags": []
   },
   "outputs": [
    {
     "name": "stdout",
     "output_type": "stream",
     "text": [
      "[(10, 1), (10, 2), (11, 1), (11, 2), (12, 1), (12, 2)]\n"
     ]
    },
    {
     "data": {
      "text/plain": [
       "(12.5, 3.0)"
      ]
     },
     "execution_count": 37,
     "metadata": {},
     "output_type": "execute_result"
    }
   ],
   "source": [
    "print(city.buildings['r-x12-y3'].blocks)\n",
    "city.buildings['r-x12-y3'].door_centroid"
   ]
  },
  {
   "cell_type": "markdown",
   "id": "ba2fc233",
   "metadata": {},
   "source": [
    "Once a `City` object has been defined, a `Population` object can be initialized. The `Population` object will contain the `Agents` of the city and generate their trajectories."
   ]
  },
  {
   "cell_type": "code",
   "execution_count": 38,
   "id": "8aeba544",
   "metadata": {},
   "outputs": [],
   "source": [
    "# Instantiate population to collect all agents\n",
    "population = Population(city)"
   ]
  },
  {
   "cell_type": "markdown",
   "id": "d581293b",
   "metadata": {
    "tags": []
   },
   "source": [
    "## Agents and trajectories"
   ]
  },
  {
   "cell_type": "markdown",
   "id": "c824809d",
   "metadata": {},
   "source": [
    "`Agent`s are tied to a specific `City` instance, and are represented by the `Agent` class, which contains a work and home location, as well as a 'mobility diary' that is used to generate granular trajectories. When instantiating an `Agent`, their mobility diary can be initialized in two ways:\n",
    "1. With a user-provided destination diary.\n",
    "2. Without a diary and then a diary is generated with the EPR model.\n",
    "\n",
    "These destination diaries are later replaced by a realized mobility diary that takes into account the travel time between buildings and, thus, should be regarded as a mobility plan. "
   ]
  },
  {
   "cell_type": "markdown",
   "id": "eb8d111e-0e6a-4a2d-9ee9-1cec52fc90d9",
   "metadata": {},
   "source": [
    "### User-provided diary initialization"
   ]
  },
  {
   "cell_type": "markdown",
   "id": "0e4e8847-fc64-478d-ac0b-e9e4f5b0c81f",
   "metadata": {},
   "source": [
    "Initializing in this way simply requires passing a `DataFrame` object with appropriate diary columns to the `Agent` constructor. "
   ]
  },
  {
   "cell_type": "code",
   "execution_count": 39,
   "id": "9bcebed4",
   "metadata": {
    "tags": []
   },
   "outputs": [
    {
     "name": "stdout",
     "output_type": "stream",
     "text": [
      "   unix_timestamp     local_timestamp  duration   location\n",
      "0      1704067200 2024-01-01 00:00:00        31   h-x8-y13\n",
      "1      1704069060 2024-01-01 00:31:00         6       None\n",
      "2      1704069420 2024-01-01 00:37:00        54   r-x12-y3\n",
      "3      1704072660 2024-01-01 01:31:00         7       None\n",
      "4      1704073080 2024-01-01 01:38:00       173  w-x15-y15\n"
     ]
    }
   ],
   "source": [
    "# Initialization with custom diary\n",
    "start_time = [datetime(2024, 1, 1, hour=0, minute=0) + timedelta(minutes=15*t) for t in range(22)]\n",
    "unix_timestamp = [int(t.timestamp()) for t in start_time]\n",
    "duration = [15]*22  # in minutes\n",
    "location = ['h-x8-y13'] * 2 + ['r-x12-y3'] * 4 + ['w-x15-y15'] * 12 + ['h-x8-y13'] * 4\n",
    "\n",
    "d_diary = pd.DataFrame({\"unix_timestamp\":unix_timestamp,\n",
    "                        \"local_timestamp\":start_time,\n",
    "                        \"duration\":duration,\n",
    "                        \"location\":location})\n",
    "\n",
    "d_diary = tg.condense_destinations(d_diary)\n",
    "\n",
    "Alice = Agent(identifier=\"Alice\",\n",
    "              home='h-x8-y13',\n",
    "              workplace='w-x15-y15',\n",
    "              city=city,\n",
    "              destination_diary=d_diary)\n",
    "\n",
    "population.add_agent(agent=Alice)\n",
    "population.generate_trajectory(agent=Alice, seed=100)\n",
    "\n",
    "print(Alice.diary.head())"
   ]
  },
  {
   "cell_type": "markdown",
   "id": "47c7e133-c860-4b34-a40b-a2cb7f1e8c9f",
   "metadata": {},
   "source": [
    "The helper function `condense_destinations` simply combines consecutive stops to the same destination. After generating a trajectory with `generate_trajectory` we can see that there are entries with a value of None in the diary, while the destination diary provided was 'complete', this is because the destination diary specifies the building the agent has _planned_ to visit at a given time, but the diary has the information of where the agent's _realized_ location, taking into consideration the travel time between buildings. Hence, a location of None corresponds to `Agent` movement on the streets traveling between buildings."
   ]
  },
  {
   "cell_type": "code",
   "execution_count": 40,
   "id": "84900283-e166-45b2-9923-b3d98fdcf66a",
   "metadata": {},
   "outputs": [
    {
     "data": {
      "text/plain": [
       "{'identifier': 'Alice',\n",
       " 'home': 'h-x8-y13',\n",
       " 'workplace': 'w-x15-y15',\n",
       " 'city': <city_gen.City at 0x1152ae9e0>,\n",
       " 'destination_diary': Empty DataFrame\n",
       " Columns: [unix_timestamp, local_timestamp, duration, location]\n",
       " Index: [],\n",
       " 'diary':    unix_timestamp     local_timestamp  duration   location\n",
       " 0      1704067200 2024-01-01 00:00:00        31   h-x8-y13\n",
       " 1      1704069060 2024-01-01 00:31:00         6       None\n",
       " 2      1704069420 2024-01-01 00:37:00        54   r-x12-y3\n",
       " 3      1704072660 2024-01-01 01:31:00         7       None\n",
       " 4      1704073080 2024-01-01 01:38:00       173  w-x15-y15\n",
       " 5      1704083460 2024-01-01 04:31:00         4       None\n",
       " 6      1704083700 2024-01-01 04:35:00        56   h-x8-y13,\n",
       " 'still_probs': {'park': 0.5, 'home': 0.9, 'work': 0.9, 'retail': 0.5},\n",
       " 'speeds': {'park': 1.0204081632653061,\n",
       "  'home': 0.3826530612244898,\n",
       "  'work': 0.3826530612244898,\n",
       "  'retail': 0.8928571428571429},\n",
       " 'dt': 1,\n",
       " 'trajectory':             x          y     local_timestamp  unix_timestamp identifier\n",
       " 0    8.500000  14.500000 2024-01-01 00:00:00      1704067200      Alice\n",
       " 1    8.500000  14.500000 2024-01-01 00:01:00      1704067260      Alice\n",
       " 2    8.500000  14.500000 2024-01-01 00:02:00      1704067320      Alice\n",
       " 3    8.500000  14.500000 2024-01-01 00:03:00      1704067380      Alice\n",
       " 4    8.500000  14.500000 2024-01-01 00:04:00      1704067440      Alice\n",
       " ..        ...        ...                 ...             ...        ...\n",
       " 326  8.811233  14.256391 2024-01-01 05:26:00      1704086760      Alice\n",
       " 327  8.811233  14.256391 2024-01-01 05:27:00      1704086820      Alice\n",
       " 328  8.811233  14.256391 2024-01-01 05:28:00      1704086880      Alice\n",
       " 329  8.811233  14.256391 2024-01-01 05:29:00      1704086940      Alice\n",
       " 330  8.811233  14.256391 2024-01-01 05:30:00      1704087000      Alice\n",
       " \n",
       " [331 rows x 5 columns]}"
      ]
     },
     "execution_count": 40,
     "metadata": {},
     "output_type": "execute_result"
    }
   ],
   "source": [
    "Alice.__dict__"
   ]
  },
  {
   "cell_type": "markdown",
   "id": "1ba30f0c-9666-4cf6-9217-6e1958f76bf6",
   "metadata": {},
   "source": [
    "### Diary generation with EPR model"
   ]
  },
  {
   "cell_type": "markdown",
   "id": "39f4fa27-5e0e-4b2e-8c98-20172530986a",
   "metadata": {},
   "source": [
    "If no diary is provided, `Agent`s are initialized with an empty diary. When calling `Population.generate_trajectory`, the destination diary is generated and then a granular trajectory is sampled from it. Unlike the case with a user-provided diary, this option requires specifying the duration of the trajectory, with a parameter `T` specifying the ending datetime, while the `start_time` is provided when creating the Agent. "
   ]
  },
  {
   "cell_type": "markdown",
   "id": "e7e4a458",
   "metadata": {},
   "source": [
    "The following agent, Bob, is given home `h-x8-y8` and workplace `w-x18-y4`. We generate a trajectory for Bob that lasts a week from midnight January 1, 2024 to midnight January 8, 2024."
   ]
  },
  {
   "cell_type": "code",
   "execution_count": 41,
   "id": "fa0c4345-d3a8-45ed-a65e-389eeb9b6e13",
   "metadata": {
    "tags": []
   },
   "outputs": [
    {
     "name": "stdout",
     "output_type": "stream",
     "text": [
      "   unix_timestamp     local_timestamp  duration   location\n",
      "0      1704067200 2024-01-01 00:00:00       481    h-x8-y8\n",
      "1      1704096060 2024-01-01 08:01:00         4       None\n",
      "2      1704096300 2024-01-01 08:05:00        56  p-x13-y11\n",
      "3      1704099660 2024-01-01 09:01:00         3       None\n",
      "4      1704099840 2024-01-01 09:04:00       177   w-x15-y9\n"
     ]
    }
   ],
   "source": [
    "# Initialization and diary generation\n",
    "Bob = Agent(identifier=\"Bob\",\n",
    "            home='h-x8-y8',\n",
    "            workplace='w-x18-y4',\n",
    "            city=city,\n",
    "            start_time=datetime(2024, 1, 1, hour=0, minute=0))\n",
    "\n",
    "population.add_agent(agent=Bob)\n",
    "population.generate_trajectory(agent=Bob, \n",
    "                               T=datetime(2024, 1, 8, hour=0, minute=0))\n",
    "\n",
    "print(Bob.diary.head())"
   ]
  },
  {
   "cell_type": "code",
   "execution_count": 42,
   "id": "1a494f37",
   "metadata": {},
   "outputs": [
    {
     "data": {
      "text/html": [
       "<div>\n",
       "<style scoped>\n",
       "    .dataframe tbody tr th:only-of-type {\n",
       "        vertical-align: middle;\n",
       "    }\n",
       "\n",
       "    .dataframe tbody tr th {\n",
       "        vertical-align: top;\n",
       "    }\n",
       "\n",
       "    .dataframe thead th {\n",
       "        text-align: right;\n",
       "    }\n",
       "</style>\n",
       "<table border=\"1\" class=\"dataframe\">\n",
       "  <thead>\n",
       "    <tr style=\"text-align: right;\">\n",
       "      <th></th>\n",
       "      <th>x</th>\n",
       "      <th>y</th>\n",
       "      <th>local_timestamp</th>\n",
       "      <th>unix_timestamp</th>\n",
       "      <th>identifier</th>\n",
       "    </tr>\n",
       "  </thead>\n",
       "  <tbody>\n",
       "    <tr>\n",
       "      <th>0</th>\n",
       "      <td>7.500000</td>\n",
       "      <td>8.000000</td>\n",
       "      <td>2024-01-01 00:00:00</td>\n",
       "      <td>1704067200</td>\n",
       "      <td>Bob</td>\n",
       "    </tr>\n",
       "    <tr>\n",
       "      <th>1</th>\n",
       "      <td>7.500000</td>\n",
       "      <td>8.000000</td>\n",
       "      <td>2024-01-01 00:01:00</td>\n",
       "      <td>1704067260</td>\n",
       "      <td>Bob</td>\n",
       "    </tr>\n",
       "    <tr>\n",
       "      <th>2</th>\n",
       "      <td>7.500000</td>\n",
       "      <td>8.000000</td>\n",
       "      <td>2024-01-01 00:02:00</td>\n",
       "      <td>1704067320</td>\n",
       "      <td>Bob</td>\n",
       "    </tr>\n",
       "    <tr>\n",
       "      <th>3</th>\n",
       "      <td>7.500000</td>\n",
       "      <td>8.000000</td>\n",
       "      <td>2024-01-01 00:03:00</td>\n",
       "      <td>1704067380</td>\n",
       "      <td>Bob</td>\n",
       "    </tr>\n",
       "    <tr>\n",
       "      <th>4</th>\n",
       "      <td>7.500000</td>\n",
       "      <td>8.000000</td>\n",
       "      <td>2024-01-01 00:04:00</td>\n",
       "      <td>1704067440</td>\n",
       "      <td>Bob</td>\n",
       "    </tr>\n",
       "    <tr>\n",
       "      <th>...</th>\n",
       "      <td>...</td>\n",
       "      <td>...</td>\n",
       "      <td>...</td>\n",
       "      <td>...</td>\n",
       "      <td>...</td>\n",
       "    </tr>\n",
       "    <tr>\n",
       "      <th>10076</th>\n",
       "      <td>11.784846</td>\n",
       "      <td>7.146775</td>\n",
       "      <td>2024-01-07 23:56:00</td>\n",
       "      <td>1704671760</td>\n",
       "      <td>Bob</td>\n",
       "    </tr>\n",
       "    <tr>\n",
       "      <th>10077</th>\n",
       "      <td>11.995111</td>\n",
       "      <td>7.260109</td>\n",
       "      <td>2024-01-07 23:57:00</td>\n",
       "      <td>1704671820</td>\n",
       "      <td>Bob</td>\n",
       "    </tr>\n",
       "    <tr>\n",
       "      <th>10078</th>\n",
       "      <td>11.995111</td>\n",
       "      <td>7.260109</td>\n",
       "      <td>2024-01-07 23:58:00</td>\n",
       "      <td>1704671880</td>\n",
       "      <td>Bob</td>\n",
       "    </tr>\n",
       "    <tr>\n",
       "      <th>10079</th>\n",
       "      <td>11.815594</td>\n",
       "      <td>7.083339</td>\n",
       "      <td>2024-01-07 23:59:00</td>\n",
       "      <td>1704671940</td>\n",
       "      <td>Bob</td>\n",
       "    </tr>\n",
       "    <tr>\n",
       "      <th>10080</th>\n",
       "      <td>11.815594</td>\n",
       "      <td>7.083339</td>\n",
       "      <td>2024-01-08 00:00:00</td>\n",
       "      <td>1704672000</td>\n",
       "      <td>Bob</td>\n",
       "    </tr>\n",
       "  </tbody>\n",
       "</table>\n",
       "<p>10081 rows × 5 columns</p>\n",
       "</div>"
      ],
      "text/plain": [
       "               x         y     local_timestamp  unix_timestamp identifier\n",
       "0       7.500000  8.000000 2024-01-01 00:00:00      1704067200        Bob\n",
       "1       7.500000  8.000000 2024-01-01 00:01:00      1704067260        Bob\n",
       "2       7.500000  8.000000 2024-01-01 00:02:00      1704067320        Bob\n",
       "3       7.500000  8.000000 2024-01-01 00:03:00      1704067380        Bob\n",
       "4       7.500000  8.000000 2024-01-01 00:04:00      1704067440        Bob\n",
       "...          ...       ...                 ...             ...        ...\n",
       "10076  11.784846  7.146775 2024-01-07 23:56:00      1704671760        Bob\n",
       "10077  11.995111  7.260109 2024-01-07 23:57:00      1704671820        Bob\n",
       "10078  11.995111  7.260109 2024-01-07 23:58:00      1704671880        Bob\n",
       "10079  11.815594  7.083339 2024-01-07 23:59:00      1704671940        Bob\n",
       "10080  11.815594  7.083339 2024-01-08 00:00:00      1704672000        Bob\n",
       "\n",
       "[10081 rows x 5 columns]"
      ]
     },
     "execution_count": 42,
     "metadata": {},
     "output_type": "execute_result"
    }
   ],
   "source": [
    "Bob.trajectory"
   ]
  },
  {
   "cell_type": "markdown",
   "id": "1778d274",
   "metadata": {},
   "source": [
    "To visualize an `Agent`'s trajectory, we can call the `plot_city` method of the `City` class and overlay the points of the trajectory using the `ax.scatter` method of matplotlib."
   ]
  },
  {
   "cell_type": "code",
   "execution_count": 43,
   "id": "4f98e89d",
   "metadata": {
    "tags": []
   },
   "outputs": [
    {
     "data": {
      "image/png": "[encoded data removed]",
      "text/plain": [
       "<Figure size 500x500 with 1 Axes>"
      ]
     },
     "metadata": {},
     "output_type": "display_data"
    }
   ],
   "source": [
    "fig, ax = plt.subplots(figsize=(5, 5))\n",
    "city.plot_city(ax, doors=True, address=False, zorder=1)\n",
    "\n",
    "ax.set_yticklabels([])\n",
    "ax.set_xticklabels([])\n",
    "ax.set_xticks([])\n",
    "ax.set_yticks([])\n",
    "\n",
    "ax.scatter(x=Bob.trajectory.x, \n",
    "           y=Bob.trajectory.y, \n",
    "           s=0.5, color='red', alpha=0.1)\n",
    "\n",
    "plt.savefig(\"garden-city-one-user.png\")"
   ]
  },
  {
   "cell_type": "markdown",
   "id": "1a623451",
   "metadata": {},
   "source": [
    "The following code produces an animation of Bob's movement. We limit the animation to the 24 hours between midnight January 4 to midnight January 5 for speed and tractability of the output."
   ]
  },
  {
   "cell_type": "code",
   "execution_count": 44,
   "id": "15292c37-0b18-4ecb-a5a7-7e0783389212",
   "metadata": {
    "tags": []
   },
   "outputs": [],
   "source": [
    "produce_animation = False\n",
    "\n",
    "if produce_animation:\n",
    "    fig, ax = plt.subplots(figsize=(6, 6))\n",
    "\n",
    "    city.plot_city(ax=ax, doors=True, address=False, zorder=1)\n",
    "\n",
    "    ax.set_yticklabels([])\n",
    "    ax.set_xticklabels([])\n",
    "    ax.set_xticks([])\n",
    "    ax.set_yticks([])\n",
    "\n",
    "    line, = ax.plot([], [], color='blue', alpha=0.1)\n",
    "    scatter = ax.scatter([], [], s=8, color='black', alpha=0.5)\n",
    "    time_text = ax.text(0.5, 0.975, '', transform=ax.transAxes)\n",
    "\n",
    "    fade_length = 60  # Adjust this to control the length of the fade\n",
    "\n",
    "    df = Bob.trajectory[5760:7200]  # 0:00 Jan 4 – 0:00 Jan 5\n",
    "\n",
    "    def update(i):\n",
    "        if i < fade_length:\n",
    "            current_fade_length = i + 1\n",
    "        else:\n",
    "            current_fade_length = fade_length\n",
    "        alphas = np.array([np.exp(-0.5*x) for x in range(current_fade_length)][::-1])\n",
    "\n",
    "        line.set_data(df['x'].iloc[:i], df['y'].iloc[:i])\n",
    "        scatter.set_offsets(df[['x', 'y']].iloc[:i])\n",
    "        scatter.set_alpha(np.pad(alphas, (i + 1 - current_fade_length, 0), 'constant'))\n",
    "        time_text.set_text(df['local_timestamp'].iloc[i].strftime('%Y-%m-%d %H:%M:%S'))\n",
    "        time_text.set_position((0.38, 0.965))\n",
    "        time_text.set_fontsize(8)\n",
    "        return line, scatter\n",
    "\n",
    "    anim = FuncAnimation(fig, update, frames=len(df), interval=50, blit=True)\n",
    "    anim.save('anim-epr.gif', writer=PillowWriter(fps=20))\n",
    "    plt.close(fig)"
   ]
  },
  {
   "cell_type": "markdown",
   "id": "453340bd",
   "metadata": {},
   "source": [
    "## Sparsifying a complete trajectory"
   ]
  },
  {
   "cell_type": "markdown",
   "id": "c4c54bdc",
   "metadata": {},
   "source": [
    "To simulate realistic GPS trajectory data with the sparsity and clusters of pings (or 'burstiness') observed in commercial datasets, we make use of self-exciting point processes—a type of stochastic process that naturally captures triggering and clustering behavior. From a complete ground-truth trajectory, a sparsifed trajectory can be sampled via the `Agent.sample_traj_hier_nhpp` function.\n",
    "\n",
    "The sampling function `Agent.sample_traj_hier_nhpp` is controlled by three parameters: \n",
    "* `beta_start`: the start times of bursts occur according to a Poisson Process with rate 1/`beta_start`\n",
    "* `beta_dur`: the duration of bursts are sampled from a Exponential distribution with rate 1/`beta_dur`\n",
    "* `beta_ping`: within a burst, pings are sampled according to a Poisson Process with rate 1/`beta_ping`\n",
    "\n",
    "These parameters can be interpreted as follows: A burst is expected every `beta_start` minutes and lasts an expected `beta_dur` minutes. Within the burst, a ping is expected to be sampled every `beta_ping` minutes.\n",
    "\n",
    "Moreover, GPS measurements are often subject to horizontal errors due to various factors like signal obstruction and atmospheric conditions. As such, the sampling function also adds Gaussian noise to the true positions, with the horizontal accuracy indicated in the 'ha' column of the output."
   ]
  },
  {
   "cell_type": "markdown",
   "id": "6762969b",
   "metadata": {},
   "source": [
    "In the example below, we sample from Bob's complete trajectory with the following parameters: `beta_start`=300, `beta_dur`=60, and `beta_ping`=10. "
   ]
  },
  {
   "cell_type": "code",
   "execution_count": 45,
   "id": "1c384342",
   "metadata": {},
   "outputs": [
    {
     "data": {
      "text/html": [
       "<div>\n",
       "<style scoped>\n",
       "    .dataframe tbody tr th:only-of-type {\n",
       "        vertical-align: middle;\n",
       "    }\n",
       "\n",
       "    .dataframe tbody tr th {\n",
       "        vertical-align: top;\n",
       "    }\n",
       "\n",
       "    .dataframe thead th {\n",
       "        text-align: right;\n",
       "    }\n",
       "</style>\n",
       "<table border=\"1\" class=\"dataframe\">\n",
       "  <thead>\n",
       "    <tr style=\"text-align: right;\">\n",
       "      <th></th>\n",
       "      <th>x</th>\n",
       "      <th>y</th>\n",
       "      <th>local_timestamp</th>\n",
       "      <th>unix_timestamp</th>\n",
       "      <th>identifier</th>\n",
       "      <th>ha</th>\n",
       "    </tr>\n",
       "    <tr>\n",
       "      <th>unix_timestamp</th>\n",
       "      <th></th>\n",
       "      <th></th>\n",
       "      <th></th>\n",
       "      <th></th>\n",
       "      <th></th>\n",
       "      <th></th>\n",
       "    </tr>\n",
       "  </thead>\n",
       "  <tbody>\n",
       "    <tr>\n",
       "      <th>1704077760</th>\n",
       "      <td>7.106924</td>\n",
       "      <td>7.786334</td>\n",
       "      <td>2024-01-01 02:56:00</td>\n",
       "      <td>1704077760</td>\n",
       "      <td>Bob</td>\n",
       "      <td>0.75</td>\n",
       "    </tr>\n",
       "    <tr>\n",
       "      <th>1704078000</th>\n",
       "      <td>7.287887</td>\n",
       "      <td>7.693551</td>\n",
       "      <td>2024-01-01 03:00:00</td>\n",
       "      <td>1704078000</td>\n",
       "      <td>Bob</td>\n",
       "      <td>0.75</td>\n",
       "    </tr>\n",
       "    <tr>\n",
       "      <th>1704078240</th>\n",
       "      <td>7.024951</td>\n",
       "      <td>7.319165</td>\n",
       "      <td>2024-01-01 03:04:00</td>\n",
       "      <td>1704078240</td>\n",
       "      <td>Bob</td>\n",
       "      <td>0.75</td>\n",
       "    </tr>\n",
       "    <tr>\n",
       "      <th>1704078360</th>\n",
       "      <td>7.471641</td>\n",
       "      <td>7.815141</td>\n",
       "      <td>2024-01-01 03:06:00</td>\n",
       "      <td>1704078360</td>\n",
       "      <td>Bob</td>\n",
       "      <td>0.75</td>\n",
       "    </tr>\n",
       "    <tr>\n",
       "      <th>1704093120</th>\n",
       "      <td>7.057704</td>\n",
       "      <td>7.187391</td>\n",
       "      <td>2024-01-01 07:12:00</td>\n",
       "      <td>1704093120</td>\n",
       "      <td>Bob</td>\n",
       "      <td>0.75</td>\n",
       "    </tr>\n",
       "    <tr>\n",
       "      <th>...</th>\n",
       "      <td>...</td>\n",
       "      <td>...</td>\n",
       "      <td>...</td>\n",
       "      <td>...</td>\n",
       "      <td>...</td>\n",
       "      <td>...</td>\n",
       "    </tr>\n",
       "    <tr>\n",
       "      <th>1704653460</th>\n",
       "      <td>7.811872</td>\n",
       "      <td>0.700628</td>\n",
       "      <td>2024-01-07 18:51:00</td>\n",
       "      <td>1704653460</td>\n",
       "      <td>Bob</td>\n",
       "      <td>0.75</td>\n",
       "    </tr>\n",
       "    <tr>\n",
       "      <th>1704654300</th>\n",
       "      <td>6.840147</td>\n",
       "      <td>2.396367</td>\n",
       "      <td>2024-01-07 19:05:00</td>\n",
       "      <td>1704654300</td>\n",
       "      <td>Bob</td>\n",
       "      <td>0.75</td>\n",
       "    </tr>\n",
       "    <tr>\n",
       "      <th>1704654720</th>\n",
       "      <td>6.991560</td>\n",
       "      <td>4.019287</td>\n",
       "      <td>2024-01-07 19:12:00</td>\n",
       "      <td>1704654720</td>\n",
       "      <td>Bob</td>\n",
       "      <td>0.75</td>\n",
       "    </tr>\n",
       "    <tr>\n",
       "      <th>1704655260</th>\n",
       "      <td>7.496576</td>\n",
       "      <td>2.569616</td>\n",
       "      <td>2024-01-07 19:21:00</td>\n",
       "      <td>1704655260</td>\n",
       "      <td>Bob</td>\n",
       "      <td>0.75</td>\n",
       "    </tr>\n",
       "    <tr>\n",
       "      <th>1704657720</th>\n",
       "      <td>7.986284</td>\n",
       "      <td>12.211802</td>\n",
       "      <td>2024-01-07 20:02:00</td>\n",
       "      <td>1704657720</td>\n",
       "      <td>Bob</td>\n",
       "      <td>0.75</td>\n",
       "    </tr>\n",
       "  </tbody>\n",
       "</table>\n",
       "<p>240 rows × 6 columns</p>\n",
       "</div>"
      ],
      "text/plain": [
       "                       x          y     local_timestamp  unix_timestamp  \\\n",
       "unix_timestamp                                                            \n",
       "1704077760      7.106924   7.786334 2024-01-01 02:56:00      1704077760   \n",
       "1704078000      7.287887   7.693551 2024-01-01 03:00:00      1704078000   \n",
       "1704078240      7.024951   7.319165 2024-01-01 03:04:00      1704078240   \n",
       "1704078360      7.471641   7.815141 2024-01-01 03:06:00      1704078360   \n",
       "1704093120      7.057704   7.187391 2024-01-01 07:12:00      1704093120   \n",
       "...                  ...        ...                 ...             ...   \n",
       "1704653460      7.811872   0.700628 2024-01-07 18:51:00      1704653460   \n",
       "1704654300      6.840147   2.396367 2024-01-07 19:05:00      1704654300   \n",
       "1704654720      6.991560   4.019287 2024-01-07 19:12:00      1704654720   \n",
       "1704655260      7.496576   2.569616 2024-01-07 19:21:00      1704655260   \n",
       "1704657720      7.986284  12.211802 2024-01-07 20:02:00      1704657720   \n",
       "\n",
       "               identifier    ha  \n",
       "unix_timestamp                   \n",
       "1704077760            Bob  0.75  \n",
       "1704078000            Bob  0.75  \n",
       "1704078240            Bob  0.75  \n",
       "1704078360            Bob  0.75  \n",
       "1704093120            Bob  0.75  \n",
       "...                   ...   ...  \n",
       "1704653460            Bob  0.75  \n",
       "1704654300            Bob  0.75  \n",
       "1704654720            Bob  0.75  \n",
       "1704655260            Bob  0.75  \n",
       "1704657720            Bob  0.75  \n",
       "\n",
       "[240 rows x 6 columns]"
      ]
     },
     "execution_count": 45,
     "metadata": {},
     "output_type": "execute_result"
    }
   ],
   "source": [
    "hier_nhpp_params = (300, 60, 10)\n",
    "seed = 2\n",
    "\n",
    "Bob.sample_traj_hier_nhpp(*hier_nhpp_params, seed=seed)\n",
    "Bob.sparse_traj"
   ]
  },
  {
   "cell_type": "markdown",
   "id": "f317741f",
   "metadata": {},
   "source": [
    "To visualize the distribution of the sparsified pings, set `output_bursts=True` when calling `Agent.sample_traj_hier_nhpp` to obtain information about the start time and duration of bursts. These can then be graphed alongside the sampled pings to visualize the sparsification. The start times are indicated by the red lines and the duration of bursts are shown by grey rectangles. The sampled pings are the black lines."
   ]
  },
  {
   "cell_type": "code",
   "execution_count": 46,
   "id": "827d1aab-c00a-4d90-89e2-52604c7be0ba",
   "metadata": {
    "tags": []
   },
   "outputs": [
    {
     "data": {
      "image/png": "[encoded data removed]",
      "text/plain": [
       "<Figure size 1000x100 with 1 Axes>"
      ]
     },
     "metadata": {},
     "output_type": "display_data"
    }
   ],
   "source": [
    "burst_info = Bob.sample_traj_hier_nhpp(*hier_nhpp_params, seed=seed, output_bursts=True)\n",
    "\n",
    "fig, ax = plt.subplots(figsize=(10, 1))\n",
    "\n",
    "ax.hlines(1, pd.Timestamp('2024-01-01 00:00'), pd.Timestamp('2024-01-02 00:00'), color='gray', linewidth=2)\n",
    "\n",
    "# Plot burst starts as red lines\n",
    "ax.vlines(burst_info['start_time'], 0.95, 1.05, color='red', linewidth=1.2, alpha=1)\n",
    "\n",
    "# Plot burst durations as grey rectangles\n",
    "for i, row in burst_info.iterrows():\n",
    "    ax.fill_betweenx(\n",
    "        [0.95, 1.05],\n",
    "        row['start_time'],\n",
    "        row['end_time'],\n",
    "        color='lightgrey',\n",
    "        alpha=0.8,\n",
    "        zorder=1\n",
    "    )\n",
    "\n",
    "# Plot sampled pings as black lines\n",
    "ax.vlines(Bob.sparse_traj['local_timestamp'], 0.95, 1.05, color='black', linewidth=0.8, alpha=1)\n",
    "\n",
    "ax.set_xlim(pd.Timestamp('2024-01-01 00:00'), pd.Timestamp('2024-01-02 00:00'))\n",
    "ax.xaxis.set_major_formatter(mdates.DateFormatter('%H:%M'))\n",
    "plt.xticks(rotation=0)\n",
    "\n",
    "[spine.set_visible(False) for spine in ax.spines.values()]\n",
    "ax.yaxis.set_visible(False)\n",
    "\n",
    "plt.tight_layout()\n",
    "fig.savefig(\"nhpp-sampling.png\")\n",
    "\n",
    "plt.show()"
   ]
  },
  {
   "cell_type": "markdown",
   "id": "253a3087",
   "metadata": {},
   "source": [
    "# Generating multiple agents"
   ]
  },
  {
   "cell_type": "markdown",
   "id": "844326ff",
   "metadata": {},
   "source": [
    "A `Population` may contain any number of `Agent`s, which can be initialized en masse using the `Population.generate_agents` method. Each `Agent` is assigned a random name as well as a uniformly sampled home and workplace. The `start_time` parameter indicates the time at which all the `Agent`s start their trajectories.\n",
    "\n",
    "`Agent` trajectories can be generated by looping over each `Agent` and running the `Population.generate_trajectory` function as explained above. \n",
    "\n",
    "_Note: if using a seed, make sure that each agent's seed is different to avoid all agents having the same trajectory._"
   ]
  },
  {
   "cell_type": "code",
   "execution_count": 47,
   "id": "b02f8765-e3f1-4443-b0f4-af85ccd60bde",
   "metadata": {
    "tags": []
   },
   "outputs": [
    {
     "data": {
      "text/plain": [
       "{'nifty_saha': <traj_gen.Agent at 0x117356210>,\n",
       " 'nostalgic_wing': <traj_gen.Agent at 0x117356390>,\n",
       " 'optimistic_brahmagupta': <traj_gen.Agent at 0x1152cfa10>,\n",
       " 'peaceful_gates': <traj_gen.Agent at 0x1152cfac0>,\n",
       " 'pedantic_kowalevski': <traj_gen.Agent at 0x1152cfb70>}"
      ]
     },
     "execution_count": 47,
     "metadata": {},
     "output_type": "execute_result"
    }
   ],
   "source": [
    "population2 = Population(city)\n",
    "population2.generate_agents(N=5,\n",
    "                            start_time=datetime(2024, 1, 1, hour=8, minute=0),\n",
    "                            seed=100)\n",
    "\n",
    "for i, agent_id in enumerate(population2.roster):\n",
    "    agent = population2.roster[agent_id]\n",
    "    population.generate_trajectory(agent=agent,\n",
    "                                   T=datetime(2024, 1, 8, hour=0, minute=0),\n",
    "                                   seed=100+i)\n",
    "    agent.sample_traj_hier_nhpp(*hier_nhpp_params, seed=seed+i)\n",
    "\n",
    "population2.roster"
   ]
  },
  {
   "cell_type": "markdown",
   "id": "972e9dbe",
   "metadata": {},
   "source": [
    "Any individual `Agent` can be accessed by calling their identifier through the `Population.roster` dictionary. "
   ]
  },
  {
   "cell_type": "code",
   "execution_count": 48,
   "id": "844b8402",
   "metadata": {},
   "outputs": [
    {
     "name": "stdout",
     "output_type": "stream",
     "text": [
      "Diary:\n",
      "    unix_timestamp     local_timestamp  duration   location\n",
      "0      1704096000 2024-01-01 08:00:00         1  h-x13-y11\n",
      "1      1704096060 2024-01-01 08:01:00         5       None\n",
      "2      1704096360 2024-01-01 08:06:00       235   w-x18-y8\n",
      "3      1704110460 2024-01-01 12:01:00         2       None\n",
      "4      1704110580 2024-01-01 12:03:00        28  r-x18-y10\n",
      "\n",
      "Trajectory:\n",
      "            x          y     local_timestamp  unix_timestamp  identifier\n",
      "0  14.500000  11.500000 2024-01-01 08:00:00      1704096000  nifty_saha\n",
      "1  14.543250  10.602152 2024-01-01 08:01:00      1704096060  nifty_saha\n",
      "2  15.876826  12.564736 2024-01-01 08:02:00      1704096120  nifty_saha\n",
      "3  18.313080  11.881745 2024-01-01 08:03:00      1704096180  nifty_saha\n",
      "4  18.521009   9.244356 2024-01-01 08:04:00      1704096240  nifty_saha\n",
      "\n",
      "Sparse Trajectory:\n",
      "                         x          y     local_timestamp  unix_timestamp  \\\n",
      "unix_timestamp                                                             \n",
      "1704106260      17.748836   9.864765 2024-01-01 10:51:00      1704106260   \n",
      "1704107040      17.049305   8.396206 2024-01-01 11:04:00      1704107040   \n",
      "1704121740      17.049476  10.104946 2024-01-01 15:09:00      1704121740   \n",
      "1704122340      17.579136   9.988829 2024-01-01 15:19:00      1704122340   \n",
      "1704122580      16.957402  10.149218 2024-01-01 15:23:00      1704122580   \n",
      "\n",
      "                identifier    ha  \n",
      "unix_timestamp                    \n",
      "1704106260      nifty_saha  0.75  \n",
      "1704107040      nifty_saha  0.75  \n",
      "1704121740      nifty_saha  0.75  \n",
      "1704122340      nifty_saha  0.75  \n",
      "1704122580      nifty_saha  0.75  \n"
     ]
    }
   ],
   "source": [
    "nifty_saha = population2.roster['nifty_saha']\n",
    "print(\"Diary:\\n\", nifty_saha.diary.head())\n",
    "print(\"\\nTrajectory:\\n\", nifty_saha.trajectory.head())\n",
    "print(\"\\nSparse Trajectory:\\n\", nifty_saha.sparse_traj.head())"
   ]
  },
  {
   "cell_type": "markdown",
   "id": "b762f692-41bc-434b-a447-e6bf82abed82",
   "metadata": {},
   "source": [
    "# Example 1: testing stop detection algorithms"
   ]
  },
  {
   "cell_type": "markdown",
   "id": "ceef75f8",
   "metadata": {},
   "source": [
    "As a demonstration of our generative model, we adapt the robustness experiment proposed in Barreras and Watts (2024), which aimed to show that common stop detection algorithms can be impacted by ping sparsity. Our generation of sparse ping times allows for modeling the clustering of pings into bursts, which can produce a more nuanced notion of `sparsity' than overall ping frequency. This toy example reveals how global sparsity might be an inadequate metric to use for calibrating stop-detection algorithms since, even when keeping it constant, changes in the clustering pattern of pings results in important variations of the output and can cause the same problems---such as omitting, merging, or splitting stops.\n",
    "\n",
    "We first initialize an `Agent` (Charlie) and generate a complete ground-truth trajectory. The destination diary is manually initialized as consecutive 1-hour visits to two homes followed by a 3-hour visit at a larger retail building."
   ]
  },
  {
   "cell_type": "code",
   "execution_count": 49,
   "id": "a7705114-0441-49a4-b8f5-b55a72b1f12c",
   "metadata": {
    "tags": []
   },
   "outputs": [
    {
     "data": {
      "text/html": [
       "<div>\n",
       "<style scoped>\n",
       "    .dataframe tbody tr th:only-of-type {\n",
       "        vertical-align: middle;\n",
       "    }\n",
       "\n",
       "    .dataframe tbody tr th {\n",
       "        vertical-align: top;\n",
       "    }\n",
       "\n",
       "    .dataframe thead th {\n",
       "        text-align: right;\n",
       "    }\n",
       "</style>\n",
       "<table border=\"1\" class=\"dataframe\">\n",
       "  <thead>\n",
       "    <tr style=\"text-align: right;\">\n",
       "      <th></th>\n",
       "      <th>unix_timestamp</th>\n",
       "      <th>local_timestamp</th>\n",
       "      <th>duration</th>\n",
       "      <th>location</th>\n",
       "    </tr>\n",
       "  </thead>\n",
       "  <tbody>\n",
       "    <tr>\n",
       "      <th>0</th>\n",
       "      <td>1717200000</td>\n",
       "      <td>2024-06-01 00:00:00</td>\n",
       "      <td>61</td>\n",
       "      <td>h-x13-y11</td>\n",
       "    </tr>\n",
       "    <tr>\n",
       "      <th>1</th>\n",
       "      <td>1717203660</td>\n",
       "      <td>2024-06-01 01:01:00</td>\n",
       "      <td>2</td>\n",
       "      <td>None</td>\n",
       "    </tr>\n",
       "    <tr>\n",
       "      <th>2</th>\n",
       "      <td>1717203780</td>\n",
       "      <td>2024-06-01 01:03:00</td>\n",
       "      <td>58</td>\n",
       "      <td>h-x13-y8</td>\n",
       "    </tr>\n",
       "    <tr>\n",
       "      <th>3</th>\n",
       "      <td>1717207260</td>\n",
       "      <td>2024-06-01 02:01:00</td>\n",
       "      <td>4</td>\n",
       "      <td>None</td>\n",
       "    </tr>\n",
       "    <tr>\n",
       "      <th>4</th>\n",
       "      <td>1717207500</td>\n",
       "      <td>2024-06-01 02:05:00</td>\n",
       "      <td>176</td>\n",
       "      <td>r-x18-y10</td>\n",
       "    </tr>\n",
       "  </tbody>\n",
       "</table>\n",
       "</div>"
      ],
      "text/plain": [
       "   unix_timestamp     local_timestamp  duration   location\n",
       "0      1717200000 2024-06-01 00:00:00        61  h-x13-y11\n",
       "1      1717203660 2024-06-01 01:01:00         2       None\n",
       "2      1717203780 2024-06-01 01:03:00        58   h-x13-y8\n",
       "3      1717207260 2024-06-01 02:01:00         4       None\n",
       "4      1717207500 2024-06-01 02:05:00       176  r-x18-y10"
      ]
     },
     "execution_count": 49,
     "metadata": {},
     "output_type": "execute_result"
    }
   ],
   "source": [
    "start_time = [datetime(2024, 6, 1, hour=0, minute=0) + timedelta(minutes=60*t) for t in range(5)]\n",
    "unix_timestamp = [int(t.timestamp()) for t in start_time]\n",
    "duration = [60]*5  # in minutes\n",
    "\n",
    "location = ['h-x13-y11'] * 1 + ['h-x13-y8'] * 1 + ['r-x18-y10'] * 3\n",
    "\n",
    "destination = pd.DataFrame(\n",
    "    {\"unix_timestamp\": unix_timestamp, \"local_timestamp\": start_time,\n",
    "     \"duration\": duration, \"location\": location}\n",
    ")\n",
    "destination = tg.condense_destinations(destination)\n",
    "\n",
    "Charlie = Agent(identifier=\"Charlie\",\n",
    "                home='h-x13-y11',\n",
    "                workplace='w-x15-y9',\n",
    "                city=city,\n",
    "                destination_diary=destination,\n",
    "                dt=1)\n",
    "\n",
    "population.add_agent(Charlie)\n",
    "population.generate_trajectory(Charlie, seed=75)\n",
    "\n",
    "Charlie.diary"
   ]
  },
  {
   "cell_type": "markdown",
   "id": "4f78f66d",
   "metadata": {},
   "source": [
    "Charlie's ground-truth trajectory is plotted below."
   ]
  },
  {
   "cell_type": "code",
   "execution_count": 50,
   "id": "93d14d7b-00e9-4477-bcec-a521a875e0cd",
   "metadata": {
    "tags": []
   },
   "outputs": [
    {
     "data": {
      "image/png": "[encoded data removed]",
      "text/plain": [
       "<Figure size 900x500 with 1 Axes>"
      ]
     },
     "metadata": {},
     "output_type": "display_data"
    }
   ],
   "source": [
    "fig, ax = plt.subplots(figsize=(9, 5))\n",
    "ax.scatter(x=Charlie.trajectory.x, \n",
    "           y=Charlie.trajectory.y, \n",
    "           s=6, color='black', alpha=1, zorder=2)\n",
    "city.plot_city(ax, doors=True, address=False, zorder=1)\n",
    "\n",
    "ax.plot(Charlie.trajectory.x,\n",
    "        Charlie.trajectory.y,\n",
    "        linewidth=1, color='blue', alpha=0.2)\n",
    "\n",
    "ax.set_xlim(12, 22)\n",
    "ax.set_ylim(7, 14)\n",
    "ax.set_yticklabels([])\n",
    "ax.set_xticklabels([])\n",
    "ax.set_xticks([])\n",
    "ax.set_yticks([])\n",
    "\n",
    "plt.tight_layout()\n",
    "plt.savefig(\"exp-trajectory.png\")\n",
    "\n",
    "plt.show()"
   ]
  },
  {
   "cell_type": "markdown",
   "id": "dcb38c41",
   "metadata": {},
   "source": [
    "We sample Charlie's ground-truth trajectory at two levels of sparsity. \n",
    "* The higher sparsity sample uses parameters `beta_start`=150, `beta_dur`=20, and `beta_ping`=2. \n",
    "* The lower sparsity sample uses parameters `beta_start`=60, `beta_dur`=40, and `beta_ping`=10. \n",
    "\n",
    "The high sparsity sample expects a burst every 2.5 hours with a mean length of 20 minutes and a ping expected roughly every 2 minutes within the burst, for an expected total burst period of 40 minutes over 5 hours. The low sparsity sample expects a burst every hour with a mean length of 40 minutes and a ping expected roughly every 5 minutes within the burst, for an expected total burst period of 200 minutes over 5 hours.\n",
    "\n",
    "Note that both sparsity levels expect 20 pings over the 5-hour duration. We deliberately choose these parameters to hold overall ping frequency fixed in order to isolate the effect of the burstiness pattern."
   ]
  },
  {
   "cell_type": "code",
   "execution_count": 51,
   "id": "33ddfad4-20bc-4d35-b563-4577d92d5b1f",
   "metadata": {
    "tags": []
   },
   "outputs": [
    {
     "data": {
      "image/png": "[encoded data removed]",
      "text/plain": [
       "<Figure size 1100x400 with 2 Axes>"
      ]
     },
     "metadata": {},
     "output_type": "display_data"
    }
   ],
   "source": [
    "fig, axes = plt.subplots(1, 2, figsize=(11, 4))\n",
    "hier_nhpp_params = [(150, 20, 2), (60, 40, 10)]\n",
    "seed = 819\n",
    "\n",
    "for j in range(2):\n",
    "    ax = axes[j]\n",
    "    Charlie.sample_traj_hier_nhpp(*hier_nhpp_params[j], seed=seed)\n",
    "\n",
    "    ax.scatter(Charlie.sparse_traj.x, Charlie.sparse_traj.y, s=6, color='black', alpha=1, zorder=2)\n",
    "    city.plot_city(ax, doors=True, address=False, zorder=1)\n",
    "\n",
    "    ax.set_xlim(12, 22)\n",
    "    ax.set_ylim(7, 14)\n",
    "    ax.set_yticklabels([])\n",
    "    ax.set_xticklabels([])\n",
    "    ax.set_xticks([])\n",
    "    ax.set_yticks([])\n",
    "\n",
    "axes[0].set_xlabel('Lower Local Sparsity', fontsize='x-large')\n",
    "axes[1].set_xlabel('Higher Local Sparsity ', fontsize='x-large')\n",
    "\n",
    "plt.tight_layout()\n",
    "plt.savefig(\"exp-sparse.png\")\n",
    "plt.show()"
   ]
  },
  {
   "cell_type": "markdown",
   "id": "5940e06b",
   "metadata": {},
   "source": [
    "The distribution of the pings as well as the burst durations for both levels of local sparsity are plotted below."
   ]
  },
  {
   "cell_type": "code",
   "execution_count": 52,
   "id": "3b4b2a3b",
   "metadata": {},
   "outputs": [
    {
     "data": {
      "image/png": "[encoded data removed]",
      "text/plain": [
       "<Figure size 1000x200 with 2 Axes>"
      ]
     },
     "metadata": {},
     "output_type": "display_data"
    }
   ],
   "source": [
    "fig, axes = plt.subplots(2, 1, figsize=(10, 2))\n",
    "\n",
    "for j in range(2):\n",
    "    ax = axes[j]\n",
    "    burst_info = Charlie.sample_traj_hier_nhpp(*hier_nhpp_params[j], seed=seed, output_bursts=True)\n",
    "\n",
    "    ax.hlines(1, pd.Timestamp('2024-06-01 00:00'), pd.Timestamp('2024-06-01 05:00'), color='gray', linewidth=2)\n",
    "\n",
    "    #ax.vlines(burst_info['start_time'], 0.95, 1.05, color='red', linewidth=1.2, alpha=1)\n",
    "\n",
    "    for i, row in burst_info.iterrows():\n",
    "        ax.fill_betweenx(\n",
    "            [0.95, 1.05],\n",
    "            row['start_time'],\n",
    "            row['end_time'],\n",
    "            color='lightgrey',\n",
    "            alpha=0.8,\n",
    "            zorder=1\n",
    "        )\n",
    "\n",
    "    ax.vlines(Charlie.sparse_traj['local_timestamp'], 0.95, 1.05, color='black', linewidth=0.8, alpha=1)\n",
    "\n",
    "    ax.set_xlim(pd.Timestamp('2024-06-01 00:00'), pd.Timestamp('2024-06-01 05:00'))\n",
    "    ax.xaxis.set_major_formatter(mdates.DateFormatter('%H:%M'))\n",
    "    plt.xticks(rotation=0)\n",
    "\n",
    "    [spine.set_visible(False) for spine in ax.spines.values()]\n",
    "    ax.yaxis.set_visible(False)\n",
    "\n",
    "    ax.set_title(f\"{['Lower', 'Higher'][j]} Local Sparsity\", fontsize=10, pad=10)\n",
    "\n",
    "plt.tight_layout()\n",
    "fig.savefig(\"exp-sparsity-levels.png\")\n",
    "\n",
    "plt.show()"
   ]
  },
  {
   "cell_type": "markdown",
   "id": "02372afa",
   "metadata": {},
   "source": [
    "We are interested in how the sparsity of the trajectory and parameterization of stop detection algorithms interact. Here, we use a temporal version of DBSCAN to cluster pings into stops. DBSCAN takes three parameters: `time_thresh`, `dist_thresh`, and `min_pts`. Roughly, a point is considered part of a dense cluster if it has at least `min_pts` neighboring points within a distance `dist_thresh` and time gap `time_thresh`; otherwise, it is labeled as noise. \n",
    "\n",
    "We explore a fine and a coarse parameterization of DBSCAN and apply each to the higher and lower sparsity trajectories."
   ]
  },
  {
   "cell_type": "code",
   "execution_count": 53,
   "id": "effea403-cfb1-40ae-8287-4b4c5dcea565",
   "metadata": {
    "tags": []
   },
   "outputs": [
    {
     "data": {
      "image/png": "[encoded data removed]",
      "text/plain": [
       "<Figure size 900x600 with 4 Axes>"
      ]
     },
     "metadata": {},
     "output_type": "display_data"
    }
   ],
   "source": [
    "fig, axes = plt.subplots(2, 2, figsize=(9, 6))\n",
    "dbscan_params = [(120, 2.25, 2), (45, 1, 3)]\n",
    "\n",
    "for i in range(2):\n",
    "    for j in range(2):\n",
    "        ax = axes[i, j]\n",
    "        Charlie.sample_traj_hier_nhpp(*hier_nhpp_params[j], seed=seed)\n",
    "\n",
    "        dbscan_out = sd.temporal_dbscan(Charlie.sparse_traj, *dbscan_params[i])\n",
    "\n",
    "        num_clusters = sum(dbscan_out.cluster.unique() > -1)\n",
    "        for cid in range(num_clusters):\n",
    "            cpings = dbscan_out[dbscan_out.cluster == cid]\n",
    "            cdata = Charlie.sparse_traj.loc[cpings.index]\n",
    "            col = cm.tab20c(cid/(num_clusters+1))\n",
    "            ax.scatter(cdata.x, cdata.y, s=80, color=col, alpha=1, zorder=2)\n",
    "\n",
    "        ax.scatter(Charlie.sparse_traj.x, Charlie.sparse_traj.y, s=6, color='black', alpha=1, zorder=2)\n",
    "        city.plot_city(ax, doors=True, address=False, zorder=1)\n",
    "\n",
    "        ax.set_xlim(12, 22)\n",
    "        ax.set_ylim(7, 14)\n",
    "        ax.set_yticklabels([])\n",
    "        ax.set_xticklabels([])\n",
    "        ax.set_xticks([])\n",
    "        ax.set_yticks([])\n",
    "\n",
    "axes[0, 0].set_ylabel('Coarse', fontsize='x-large')\n",
    "axes[1, 0].set_ylabel('Fine', fontsize='x-large')\n",
    "axes[1, 0].set_xlabel('Lower Local Sparsity', fontsize='x-large')\n",
    "axes[1, 1].set_xlabel('Higher Local Sparsity', fontsize='x-large')\n",
    "\n",
    "plt.tight_layout()\n",
    "plt.savefig(\"exp-stdbscan.png\")\n",
    "plt.show()"
   ]
  },
  {
   "cell_type": "markdown",
   "id": "982c625e",
   "metadata": {},
   "source": [
    "In the top left panel, we observe ``stop merging', wherein a coarser parametrization struggles to differentiate stops at small neighboring establishments and instead clusters two stops as one. Conversely, a finer parametrization may completely miss a stop at a larger location (as in the bottom left panel) or erroneously cluster a larger stop as two distinct, shorter stops (as in the bottom right panel). Only the top right panel in this example accurately detected the three stops. Thus, it seems like the optimal parameters for a given trajectory could be selected based on the clustering structure and not only on the ping frequency."
   ]
  },
  {
   "cell_type": "markdown",
   "id": "b9e080ba",
   "metadata": {},
   "source": [
    "# Example 2: The effect of noise on stops and dwell time"
   ]
  },
  {
   "cell_type": "code",
   "execution_count": 54,
   "id": "da69d37a",
   "metadata": {},
   "outputs": [],
   "source": [
    "from constants import FAST_SPEEDS, SLOW_SPEEDS\n",
    "from constants import FAST_STILL_PROBS, SLOW_STILL_PROBS"
   ]
  },
  {
   "cell_type": "code",
   "execution_count": 60,
   "id": "9e256387",
   "metadata": {},
   "outputs": [
    {
     "name": "stdout",
     "output_type": "stream",
     "text": [
      "Agent identifier already exists in population. Replacing corresponding agent.\n",
      "Agent identifier already exists in population. Replacing corresponding agent.\n"
     ]
    }
   ],
   "source": [
    "start_time = [datetime(2024, 6, 1, hour=0, minute=0) + timedelta(minutes=60*t) for t in range(2)]\n",
    "unix_timestamp = [int(t.timestamp()) for t in start_time]\n",
    "duration = [60]*2  # in minutes\n",
    "\n",
    "location = ['p-x13-y11'] * 2\n",
    "\n",
    "destination = pd.DataFrame(\n",
    "    {\"unix_timestamp\": unix_timestamp, \"local_timestamp\": start_time,\n",
    "     \"duration\": duration, \"location\": location}\n",
    ")\n",
    "destination = tg.condense_destinations(destination)\n",
    "\n",
    "init_trajectory = pd.DataFrame([{\n",
    "    'x': 11.0,\n",
    "    'y': 11.0,\n",
    "    'local_timestamp': datetime(2024, 6, 1, hour=0, minute=0),\n",
    "    'unix_timestamp': int(datetime(2024, 6, 1, hour=0, minute=0).timestamp()),\n",
    "    'identifier': \"Daniel\"\n",
    "}])\n",
    "\n",
    "init_diary = pd.DataFrame([{\n",
    "    'unix_timestamp': int(datetime(2024, 6, 1, hour=0, minute=0).timestamp()),\n",
    "    'local_timestamp': datetime(2024, 6, 1, hour=0, minute=0),\n",
    "    'duration': 1,\n",
    "    'location': 'p-x13-y11'\n",
    "}])\n",
    "\n",
    "# Daniel is slow\n",
    "Daniel = Agent(identifier=\"Daniel\",\n",
    "            home='p-x13-y11',\n",
    "            workplace='w-x15-y9',\n",
    "            city=city,\n",
    "            destination_diary=destination,\n",
    "            still_probs=SLOW_STILL_PROBS,\n",
    "            speeds=SLOW_SPEEDS,\n",
    "            trajectory=init_trajectory,\n",
    "            diary=init_diary,\n",
    "            dt=1)\n",
    "population.add_agent(Daniel)\n",
    "population.generate_trajectory(Daniel, seed=75)\n",
    "\n",
    "# Elaine is fast\n",
    "Elaine = Agent(identifier=\"Elaine\",\n",
    "            home='p-x13-y11',\n",
    "            workplace='w-x15-y9',\n",
    "            city=city,\n",
    "            destination_diary=destination,\n",
    "            still_probs=FAST_STILL_PROBS,\n",
    "            speeds=FAST_SPEEDS,\n",
    "            trajectory=init_trajectory,\n",
    "            diary=init_diary,\n",
    "            dt=1)\n",
    "population.add_agent(Elaine)\n",
    "population.generate_trajectory(Elaine, seed=75)"
   ]
  },
  {
   "cell_type": "code",
   "execution_count": 72,
   "id": "939803eb",
   "metadata": {},
   "outputs": [
    {
     "data": {
      "image/png": "[encoded data removed]",
      "text/plain": [
       "<Figure size 900x400 with 2 Axes>"
      ]
     },
     "metadata": {},
     "output_type": "display_data"
    }
   ],
   "source": [
    "fig, axes = plt.subplots(1, 2, figsize=(9, 4))\n",
    "\n",
    "for j in range(2):\n",
    "    ax = axes[j]\n",
    "    agent = [Daniel, Elaine][j]\n",
    "\n",
    "    ax.scatter(x=agent.trajectory.x, \n",
    "           y=agent.trajectory.y, \n",
    "           s=6, color='black', alpha=1, zorder=2)\n",
    "    city.plot_city(ax, doors=True, address=False, zorder=1)\n",
    "\n",
    "    ax.plot(agent.trajectory.x,\n",
    "            agent.trajectory.y,\n",
    "            linewidth=1, color='blue', alpha=0.2)\n",
    "\n",
    "    ax.set_xlim(7, 15)\n",
    "    ax.set_ylim(7, 15)\n",
    "    ax.set_yticklabels([])\n",
    "    ax.set_xticklabels([])\n",
    "    ax.set_xticks([])\n",
    "    ax.set_yticks([])\n",
    "\n",
    "axes[0].set_xlabel('Slow Agent', fontsize='x-large')\n",
    "axes[1].set_xlabel('Fast Agent', fontsize='x-large')\n",
    "\n",
    "plt.tight_layout()\n",
    "#plt.savefig(\"exp2-sparse.png\")\n",
    "plt.show()"
   ]
  },
  {
   "cell_type": "code",
   "execution_count": 71,
   "id": "34760af2",
   "metadata": {},
   "outputs": [
    {
     "data": {
      "image/png": "[encoded data removed]",
      "text/plain": [
       "<Figure size 900x400 with 2 Axes>"
      ]
     },
     "metadata": {},
     "output_type": "display_data"
    }
   ],
   "source": [
    "fig, axes = plt.subplots(1, 2, figsize=(9, 4))\n",
    "hier_nhpp_params = (10, 1000, 5)\n",
    "ha = [3/4, 5/4]\n",
    "seed = 5\n",
    "\n",
    "for j in range(2):\n",
    "    ax = axes[j]\n",
    "    agent = [Daniel, Elaine][j]\n",
    "\n",
    "    agent.sample_traj_hier_nhpp(*hier_nhpp_params, seed=seed, ha=ha[j])\n",
    "\n",
    "    ax.scatter(agent.sparse_traj.x, agent.sparse_traj.y, s=6, color='black', alpha=1, zorder=2)\n",
    "    city.plot_city(ax, doors=True, address=False, zorder=1)\n",
    "\n",
    "    ax.set_xlim(7, 15)\n",
    "    ax.set_ylim(7, 15)\n",
    "    ax.set_yticklabels([])\n",
    "    ax.set_xticklabels([])\n",
    "    ax.set_xticks([])\n",
    "    ax.set_yticks([])\n",
    "\n",
    "axes[0].set_xlabel('Daniel', fontsize='x-large')\n",
    "axes[1].set_xlabel('Elaine', fontsize='x-large')\n",
    "\n",
    "plt.tight_layout()\n",
    "#plt.savefig(\"exp2-sparse.png\")\n",
    "plt.show()"
   ]
  },
  {
   "cell_type": "code",
   "execution_count": null,
   "id": "91c8927a",
   "metadata": {},
   "outputs": [],
   "source": []
  }
 ],
 "metadata": {
  "kernelspec": {
   "display_name": "Python 3",
   "language": "python",
   "name": "python3"
  },
  "language_info": {
   "codemirror_mode": {
    "name": "ipython",
    "version": 3
   },
   "file_extension": ".py",
   "mimetype": "text/x-python",
   "name": "python",
   "nbconvert_exporter": "python",
   "pygments_lexer": "ipython3",
   "version": "3.13.0"
  }
 },
 "nbformat": 4,
 "nbformat_minor": 5
}

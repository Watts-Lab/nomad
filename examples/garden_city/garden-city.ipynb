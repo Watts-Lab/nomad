{
 "cells": [
  {
   "cell_type": "code",
   "execution_count": 1,
   "id": "20c2bbc9",
   "metadata": {
    "tags": []
   },
   "outputs": [],
   "source": [
    "import pandas as pd\n",
    "from datetime import datetime, timedelta\n",
    "import numpy as np\n",
    "import matplotlib.pyplot as plt\n",
    "from matplotlib import cm\n",
    "import matplotlib.dates as mdates\n",
    "from matplotlib.animation import FuncAnimation, PillowWriter\n",
    "import numpy.random as npr\n",
    "\n",
    "import sys\n",
    "import os\n",
    "core_dir = os.path.join(os.getcwd(), '../..', 'nomad')\n",
    "core_dir = os.path.normpath(core_dir)\n",
    "sys.path.append(core_dir)\n",
    "\n",
    "import city_gen as cg\n",
    "from city_gen import City, Building, Street\n",
    "import traj_gen as tg\n",
    "from traj_gen import Agent, Population\n",
    "import stop_detection as sd\n",
    "from constants import DEFAULT_SPEEDS, FAST_SPEEDS, SLOW_SPEEDS, DEFAULT_STILL_PROBS\n",
    "from constants import FAST_STILL_PROBS, SLOW_STILL_PROBS, ALLOWED_BUILDINGS\n",
    "\n",
    "import pdb"
   ]
  },
  {
   "cell_type": "markdown",
   "id": "7fedb635",
   "metadata": {},
   "source": [
    "# Initialization of city and population"
   ]
  },
  {
   "cell_type": "markdown",
   "id": "e43dbc14",
   "metadata": {},
   "source": [
    "To create a city, begin by initializing a City of the desired dimension. Then successively add Buildings to the city by defining their type, door location, and geometry (either as a bounding box or a list of block coordinates). The final step is to call city.get_street_graph(), which generates the shortest paths between all blocks."
   ]
  },
  {
   "cell_type": "code",
   "execution_count": 2,
   "id": "15653e2e",
   "metadata": {
    "tags": []
   },
   "outputs": [],
   "source": [
    "from shapely.geometry import box\n",
    "\n",
    "# Initialize city\n",
    "city = City(dimensions=(22, 22))\n",
    "\n",
    "# add park\n",
    "city.add_building('park', (13, 11), bbox=box(9, 9, 13, 13))\n",
    "\n",
    "# add homes\n",
    "city.add_building('home', (8, 8), [(7, 7), (7, 8)])\n",
    "city.add_building('home', (9, 8), [(8, 7), (9, 7)])\n",
    "city.add_building('home', (10, 8), [(10, 7)])\n",
    "city.add_building('home', (11, 8), [(11, 7)])\n",
    "city.add_building('home', (13, 6), [(13, 7)])\n",
    "city.add_building('home', (14, 6), [(14, 7)])\n",
    "city.add_building('home', (13, 8), [(14, 8)])\n",
    "city.add_building('home', (13, 9), [(14, 9)])\n",
    "city.add_building('home', (13, 11), [(14, 11)])\n",
    "city.add_building('home', (13, 12), [(14, 12)])\n",
    "city.add_building('home', (15, 13), [(14, 13)])\n",
    "city.add_building('home', (13, 13), [(13, 14), (14, 14)])\n",
    "city.add_building('home', (12, 13), [(12, 14)])\n",
    "city.add_building('home', (11, 13), [(11, 14)])\n",
    "city.add_building('home', (9, 13), [(9, 14)])\n",
    "city.add_building('home', (8, 13), [(8, 14)])\n",
    "city.add_building('home', (7, 15), [(7, 14)])\n",
    "city.add_building('home', (6, 13), [(7, 13)])\n",
    "city.add_building('home', (8, 12), [(7, 12)])\n",
    "city.add_building('home', (8, 10), [(7, 10), (7, 9)])\n",
    "\n",
    "# add workplaces\n",
    "city.add_building('work', (3, 4), [(4, 4), (4, 5)])\n",
    "city.add_building('work', (5, 3), [(5, 4), (5, 5)])\n",
    "city.add_building('work', (6, 6), bbox=box(6, 4, 8, 6))\n",
    "city.add_building('work', (8, 6), bbox=box(8, 4, 10, 6))\n",
    "city.add_building('work', (12, 6), bbox=box(11, 5, 14, 6))\n",
    "city.add_building('work', (12, 3), bbox=box(11, 4, 14, 5))\n",
    "city.add_building('work', (15, 3), bbox=box(14, 4, 17, 6))\n",
    "city.add_building('work', (18, 4), bbox=box(17, 4, 18, 6))\n",
    "city.add_building('work', (18, 6), bbox=box(16, 6, 18, 8))\n",
    "city.add_building('work', (15, 9), bbox=box(16, 8, 17, 10))\n",
    "city.add_building('work', (18, 8), bbox=box(17, 8, 18, 10))\n",
    "city.add_building('work', (18, 10), bbox=box(16, 10, 18, 12))\n",
    "city.add_building('work', (18, 13), bbox=box(16, 13, 18, 15))\n",
    "city.add_building('work', (18, 15), bbox=box(16, 15, 18, 16))\n",
    "city.add_building('work', (15, 15), bbox=box(15, 16, 18, 17))\n",
    "city.add_building('work', (14, 15), [(14, 16)])\n",
    "city.add_building('work', (16, 18), bbox=box(16, 17, 18, 18))\n",
    "city.add_building('work', (15, 18), bbox=box(14, 17, 16, 18))\n",
    "city.add_building('work', (13, 18), bbox=box(12, 16, 14, 18))\n",
    "city.add_building('work', (11, 18), bbox=box(10, 17, 12, 18))\n",
    "city.add_building('work', (11, 15), bbox=box(10, 16, 12, 17))\n",
    "city.add_building('work', (8, 18), bbox=box(7, 16, 9, 18))\n",
    "city.add_building('work', (6, 18), bbox=box(5, 17, 7, 18))\n",
    "city.add_building('work', (6, 15), bbox=box(5, 16, 7, 17))\n",
    "city.add_building('work', (3, 16), [(4, 16), (4, 17)])\n",
    "city.add_building('work', (3, 13), bbox=box(4, 13, 6, 16))\n",
    "city.add_building('work', (6, 12), bbox=box(4, 12, 6, 13))\n",
    "city.add_building('work', (3, 10), [(4, 9), (4, 10)])\n",
    "city.add_building('work', (6, 9), [(5, 9), (5, 10)])\n",
    "city.add_building('work', (6, 8), [(4, 8), (5, 8)])\n",
    "city.add_building('work', (3, 6), bbox=box(4, 6, 6, 8))\n",
    "\n",
    "# add retail\n",
    "city.add_building('retail', (0, 1), bbox=box(1, 1, 3, 3))\n",
    "city.add_building('retail', (3, 0), bbox=box(3, 1, 5, 3))\n",
    "city.add_building('retail', (5, 0), [(5, 1)])\n",
    "city.add_building('retail', (5, 3), [(5, 2)])\n",
    "city.add_building('retail', (6, 0), bbox=box(6, 1, 8, 2))\n",
    "city.add_building('retail', (6, 3), bbox=box(6, 2, 8, 3))\n",
    "city.add_building('retail', (9, 3), bbox=box(9, 1, 10, 3))\n",
    "city.add_building('retail', (12, 3), bbox=box(10, 1, 13, 3))\n",
    "city.add_building('retail', (14, 3), bbox=box(13, 1, 15, 3))\n",
    "city.add_building('retail', (15, 3), [(15, 2)])\n",
    "city.add_building('retail', (16, 3), [(16, 2)])\n",
    "city.add_building('retail', (15, 0), [(15, 1)])\n",
    "city.add_building('retail', (16, 0), [(16, 1)])\n",
    "city.add_building('retail', (17, 3), bbox=box(17, 2, 19, 3))\n",
    "city.add_building('retail', (18, 0), bbox=box(17, 1, 19, 2))\n",
    "city.add_building('retail', (19, 0), bbox=box(19, 1, 21, 2))\n",
    "city.add_building('retail', (18, 3), bbox=box(19, 2, 21, 4))\n",
    "city.add_building('retail', (18, 5), bbox=box(19, 4, 21, 6))\n",
    "city.add_building('retail', (18, 7), bbox=box(19, 6, 20, 8))\n",
    "city.add_building('retail', (21, 7), bbox=box(20, 6, 21, 8))\n",
    "city.add_building('retail', (18, 10), bbox=box(19, 9, 21, 11))\n",
    "city.add_building('retail', (18, 11), bbox=box(19, 11, 21, 13))\n",
    "city.add_building('retail', (18, 13), bbox=box(19, 13, 20, 15))\n",
    "city.add_building('retail', (21, 13), bbox=box(20, 13, 21, 15))\n",
    "city.add_building('retail', (21, 16), bbox=box(19, 15, 21, 17))\n",
    "city.add_building('retail', (21, 18), bbox=box(19, 17, 21, 19))\n",
    "\n",
    "city.add_building('retail', (21, 19), bbox=box(19, 19, 21, 20))\n",
    "city.add_building('retail', (20, 21), bbox=box(19, 20, 21, 21))\n",
    "city.add_building('retail', (17, 18), bbox=box(17, 19, 18, 21))\n",
    "city.add_building('retail', (16, 18), bbox=box(16, 19, 17, 21))\n",
    "city.add_building('retail', (14, 18), bbox=box(13, 19, 16, 20))\n",
    "city.add_building('retail', (15, 21), bbox=box(14, 20, 16, 21))\n",
    "city.add_building('retail', (13, 21), bbox=box(12, 20, 14, 21))\n",
    "city.add_building('retail', (12, 18), bbox=box(12, 19, 13, 20))\n",
    "city.add_building('retail', (11, 18), bbox=box(10, 19, 12, 21))\n",
    "city.add_building('retail', (9, 18), bbox=box(8, 19, 10, 20))\n",
    "city.add_building('retail', (9, 21), bbox=box(8, 20, 10, 21))\n",
    "city.add_building('retail', (6, 21), bbox=box(5, 19, 7, 21))\n",
    "city.add_building('retail', (4, 21), bbox=box(3, 20, 5, 21))\n",
    "city.add_building('retail', (4, 18), bbox=box(3, 19, 5, 20))\n",
    "city.add_building('retail', (2, 18), bbox=box(2, 19, 3, 21))\n",
    "city.add_building('retail', (1, 18), bbox=box(1, 19, 2, 21))\n",
    "city.add_building('retail', (3, 17), bbox=box(1, 16, 3, 18))\n",
    "city.add_building('retail', (3, 15), bbox=box(1, 15, 3, 16))\n",
    "city.add_building('retail', (3, 14), bbox=box(1, 14, 3, 15))\n",
    "city.add_building('retail', (3, 12), bbox=box(1, 12, 3, 14))\n",
    "city.add_building('retail', (3, 11), bbox=box(1, 11, 3, 12))\n",
    "city.add_building('retail', (3, 10), bbox=box(1, 10, 3, 11))\n",
    "city.add_building('retail', (3, 8), bbox=box(1, 8, 3, 10))\n",
    "city.add_building('retail', (3, 7), bbox=box(1, 7, 3, 8))\n",
    "city.add_building('retail', (0, 5), bbox=box(1, 4, 2, 7))\n",
    "city.add_building('retail', (3, 6), [(2, 6)])\n",
    "city.add_building('retail', (3, 5), [(2, 5)])\n",
    "city.add_building('retail', (3, 4), [(2, 4)])\n",
    "\n",
    "city.get_street_graph()\n",
    "city.save('garden-city.pkl')"
   ]
  },
  {
   "cell_type": "markdown",
   "id": "9b055556",
   "metadata": {},
   "source": [
    "After initialization, you can save the city as a pkl by calling city.save('filename.pkl'). Subsequent uses of the city then only require loading the city via mmod.load('filename.pkl')."
   ]
  },
  {
   "cell_type": "code",
   "execution_count": 3,
   "id": "453c0376-cada-4b09-8163-207914cbfe1a",
   "metadata": {
    "tags": []
   },
   "outputs": [],
   "source": [
    "city = cg.load('garden-city.pkl')"
   ]
  },
  {
   "cell_type": "markdown",
   "id": "ee0bb351",
   "metadata": {},
   "source": [
    "To view the city, call city.plot_city()"
   ]
  },
  {
   "cell_type": "code",
   "execution_count": 4,
   "id": "2823a0b7",
   "metadata": {
    "tags": []
   },
   "outputs": [
    {
     "data": {
      "image/png": "[encoded data removed]",
      "text/plain": [
       "<Figure size 600x600 with 1 Axes>"
      ]
     },
     "metadata": {},
     "output_type": "display_data"
    },
    {
     "data": {
      "text/plain": [
       "<Figure size 640x480 with 0 Axes>"
      ]
     },
     "metadata": {},
     "output_type": "display_data"
    }
   ],
   "source": [
    "%matplotlib inline\n",
    "\n",
    "fig, ax = plt.subplots(figsize=(6, 6))\n",
    "plt.box(on=False)\n",
    "\n",
    "city.plot_city(ax, doors=True, address=False)\n",
    "\n",
    "ax.set_yticklabels([])\n",
    "ax.set_xticklabels([])\n",
    "ax.set_xticks([])\n",
    "ax.set_yticks([])\n",
    "\n",
    "plt.show()\n",
    "plt.savefig('gc_empty.png')"
   ]
  },
  {
   "cell_type": "markdown",
   "id": "66c39f6a",
   "metadata": {},
   "source": [
    "Each Building is assigned a unique identifier by its type and door coordinate. For example, the retail building with door coordinate (12, 3) has the id 'r-x12-y3'. Individual Buildings objects and their attributes may be accessed throught the city.buildings dictionary."
   ]
  },
  {
   "cell_type": "code",
   "execution_count": 5,
   "id": "4b7c0024-54cc-44ec-926e-9b0e6236aadb",
   "metadata": {
    "tags": []
   },
   "outputs": [
    {
     "name": "stdout",
     "output_type": "stream",
     "text": [
      "[(10, 1), (10, 2), (11, 1), (11, 2), (12, 1), (12, 2)]\n"
     ]
    },
    {
     "data": {
      "text/plain": [
       "(12.5, 3.0)"
      ]
     },
     "execution_count": 5,
     "metadata": {},
     "output_type": "execute_result"
    }
   ],
   "source": [
    "print(city.buildings['r-x12-y3'].blocks)\n",
    "city.buildings['r-x12-y3'].door_centroid"
   ]
  },
  {
   "cell_type": "markdown",
   "id": "ba2fc233",
   "metadata": {},
   "source": [
    "Once a City object has been defined, a Population object can be initialized. The Population object will contain the Agents of the city and generate their trajectories."
   ]
  },
  {
   "cell_type": "code",
   "execution_count": 6,
   "id": "ee818983",
   "metadata": {},
   "outputs": [],
   "source": [
    "population = Population(city)"
   ]
  },
  {
   "cell_type": "markdown",
   "id": "d581293b",
   "metadata": {
    "tags": []
   },
   "source": [
    "# Trajectory Simulation"
   ]
  },
  {
   "cell_type": "markdown",
   "id": "c824809d",
   "metadata": {},
   "source": [
    "Agents can be initialized in several ways:\n",
    "1. With a user-specified destination diary.\n",
    "2. With an EPR-generated destination diary."
   ]
  },
  {
   "cell_type": "markdown",
   "id": "0e4e8847-fc64-478d-ac0b-e9e4f5b0c81f",
   "metadata": {},
   "source": [
    "[1] An Agent can be initialized with a pre-specified destination diary by \n",
    "1. Creating a DataFrame with the desired destination diary.\n",
    "2. Condensing the destination diary using `mmod.condense_destinations`.\n",
    "3. Initializing the Agent with the condensed destination diary, specifying their home and work buildings.\n",
    "4. Adding the Agent to the Population.\n",
    "5. Generating the Agent's trajectory by calling `Population.generate_trajectory`.\n",
    "\n",
    "Once the agent has been initialized in this way, they will have a diary and a trajectory. Whereas the destination diary specifies the building the user _wants_ to be at any given time interval, the diary specifies the building or street the user _actually_ is at any given time interval, taking into consideration the travel time between buildings (a location of None indicates the Agent is on a street block). The trajectory is a more granular dataframe that contains the exact coordinate ping of the Agent at every timestamp."
   ]
  },
  {
   "cell_type": "code",
   "execution_count": 7,
   "id": "8aeba544",
   "metadata": {},
   "outputs": [],
   "source": [
    "# We create an instance of population that we can use to collect all agents\n",
    "population = Population(city)"
   ]
  },
  {
   "cell_type": "code",
   "execution_count": 8,
   "id": "9bcebed4",
   "metadata": {
    "tags": []
   },
   "outputs": [
    {
     "name": "stdout",
     "output_type": "stream",
     "text": [
      "   unix_timestamp     local_timestamp  duration   location\n",
      "0       946684800 2000-01-01 00:00:00        31   h-x8-y13\n",
      "1       946686660 2000-01-01 00:31:00         6       None\n",
      "2       946687020 2000-01-01 00:37:00        54   r-x12-y3\n",
      "3       946690260 2000-01-01 01:31:00         7       None\n",
      "4       946690680 2000-01-01 01:38:00       173  w-x15-y15\n"
     ]
    }
   ],
   "source": [
    "# Initialization with custom diary\n",
    "start_time = [datetime(2000, 1, 1, hour=0, minute=0) + timedelta(minutes=15*t) for t in range(22)]\n",
    "unix_timestamp = [int(t.timestamp()) for t in start_time]\n",
    "duration = [15]*22  # in minutes\n",
    "location = ['h-x8-y13'] * 2 + ['r-x12-y3'] * 4 + ['w-x15-y15'] * 12 + ['h-x8-y13'] * 4\n",
    "\n",
    "destination = pd.DataFrame({\"unix_timestamp\":unix_timestamp,\n",
    "                            \"local_timestamp\":start_time,\n",
    "                            \"duration\":duration,\n",
    "                            \"location\":location})\n",
    "\n",
    "destination = tg.condense_destinations(destination)\n",
    "\n",
    "Alice = Agent(\"Alice\",\n",
    "              'h-x8-y13',\n",
    "              'w-x15-y15',\n",
    "              city,\n",
    "              destination_diary=destination)\n",
    "\n",
    "population.add_agent(Alice)\n",
    "population.generate_trajectory(Alice, seed=100)\n",
    "\n",
    "print(Alice.diary.head())"
   ]
  },
  {
   "cell_type": "code",
   "execution_count": 9,
   "id": "84900283-e166-45b2-9923-b3d98fdcf66a",
   "metadata": {},
   "outputs": [
    {
     "data": {
      "text/plain": [
       "{'identifier': 'Alice',\n",
       " 'home': 'h-x8-y13',\n",
       " 'workplace': 'w-x15-y15',\n",
       " 'city': <city_gen.City at 0x111c3ead0>,\n",
       " 'destination_diary': Empty DataFrame\n",
       " Columns: [unix_timestamp, local_timestamp, duration, location]\n",
       " Index: [],\n",
       " 'diary':    unix_timestamp     local_timestamp  duration   location\n",
       " 0       946684800 2000-01-01 00:00:00        31   h-x8-y13\n",
       " 1       946686660 2000-01-01 00:31:00         6       None\n",
       " 2       946687020 2000-01-01 00:37:00        54   r-x12-y3\n",
       " 3       946690260 2000-01-01 01:31:00         7       None\n",
       " 4       946690680 2000-01-01 01:38:00       173  w-x15-y15\n",
       " 5       946701060 2000-01-01 04:31:00         4       None\n",
       " 6       946701300 2000-01-01 04:35:00        56   h-x8-y13,\n",
       " 'still_probs': {'park': 0.5, 'home': 0.9, 'work': 0.9, 'retail': 0.5},\n",
       " 'speeds': {'park': 1.0204081632653061,\n",
       "  'home': 0.3826530612244898,\n",
       "  'work': 0.3826530612244898,\n",
       "  'retail': 0.8928571428571429},\n",
       " 'dt': 1,\n",
       " 'trajectory':             x          y     local_timestamp  unix_timestamp identifier\n",
       " 0    8.500000  14.500000 2000-01-01 00:00:00       946684800      Alice\n",
       " 1    8.500000  14.500000 2000-01-01 00:01:00       946684860      Alice\n",
       " 2    8.500000  14.500000 2000-01-01 00:02:00       946684920      Alice\n",
       " 3    8.500000  14.500000 2000-01-01 00:03:00       946684980      Alice\n",
       " 4    8.500000  14.500000 2000-01-01 00:04:00       946685040      Alice\n",
       " ..        ...        ...                 ...             ...        ...\n",
       " 326  8.811233  14.256391 2000-01-01 05:26:00       946704360      Alice\n",
       " 327  8.811233  14.256391 2000-01-01 05:27:00       946704420      Alice\n",
       " 328  8.811233  14.256391 2000-01-01 05:28:00       946704480      Alice\n",
       " 329  8.811233  14.256391 2000-01-01 05:29:00       946704540      Alice\n",
       " 330  8.811233  14.256391 2000-01-01 05:30:00       946704600      Alice\n",
       " \n",
       " [331 rows x 5 columns]}"
      ]
     },
     "execution_count": 9,
     "metadata": {},
     "output_type": "execute_result"
    }
   ],
   "source": [
    "Alice.__dict__"
   ]
  },
  {
   "cell_type": "markdown",
   "id": "39f4fa27-5e0e-4b2e-8c98-20172530986a",
   "metadata": {},
   "source": [
    "[2] An Agent can be initialized with an EPR-generated destination diary by \n",
    "1. Specifying the Agent's home and work Buildings and a starting datetime.\n",
    "2. Adding the Agent to the Population.\n",
    "3. Generating the destination diary and trajectory by calling `Population.generate_trajectory`. This method requires an ending datetime `T` to specify the duration of the simulation and a timestep `dt` to define the temporal granularity of the trajectory."
   ]
  },
  {
   "cell_type": "markdown",
   "id": "e7e4a458",
   "metadata": {},
   "source": [
    "The following agent, Bob, is endowed with home `h-x8-y8` and workplace `w-x18-y4`. We generate a trajectory for Bob that lasts a week from midnight January 1, 2024 to midnight Janurary 8, 2024."
   ]
  },
  {
   "cell_type": "code",
   "execution_count": 10,
   "id": "fa0c4345-d3a8-45ed-a65e-389eeb9b6e13",
   "metadata": {
    "tags": []
   },
   "outputs": [
    {
     "name": "stdout",
     "output_type": "stream",
     "text": [
      "   unix_timestamp     local_timestamp  duration   location\n",
      "0      1704085200 2024-01-01 00:00:00       481    h-x8-y8\n",
      "1      1704114060 2024-01-01 13:01:00         4       None\n",
      "2      1704114300 2024-01-01 13:05:00        56  p-x13-y11\n",
      "3      1704117660 2024-01-01 14:01:00         3       None\n",
      "4      1704117840 2024-01-01 14:04:00       177   w-x15-y9\n"
     ]
    }
   ],
   "source": [
    "# Initialization and diary generation\n",
    "Bob = Agent(\"Bob\",\n",
    "            'h-x8-y8',\n",
    "            'w-x18-y4',\n",
    "            city,\n",
    "            start_time=datetime(2024, 1, 1, hour=0, minute=0))\n",
    "\n",
    "population.add_agent(Bob)\n",
    "population.generate_trajectory(Bob, \n",
    "                               T=datetime(2024, 1, 8, hour=0, minute=0))\n",
    "\n",
    "print(Bob.diary.head())"
   ]
  },
  {
   "cell_type": "code",
   "execution_count": 11,
   "id": "1a494f37",
   "metadata": {},
   "outputs": [
    {
     "data": {
      "text/html": [
       "<div>\n",
       "<style scoped>\n",
       "    .dataframe tbody tr th:only-of-type {\n",
       "        vertical-align: middle;\n",
       "    }\n",
       "\n",
       "    .dataframe tbody tr th {\n",
       "        vertical-align: top;\n",
       "    }\n",
       "\n",
       "    .dataframe thead th {\n",
       "        text-align: right;\n",
       "    }\n",
       "</style>\n",
       "<table border=\"1\" class=\"dataframe\">\n",
       "  <thead>\n",
       "    <tr style=\"text-align: right;\">\n",
       "      <th></th>\n",
       "      <th>x</th>\n",
       "      <th>y</th>\n",
       "      <th>local_timestamp</th>\n",
       "      <th>unix_timestamp</th>\n",
       "      <th>identifier</th>\n",
       "    </tr>\n",
       "  </thead>\n",
       "  <tbody>\n",
       "    <tr>\n",
       "      <th>0</th>\n",
       "      <td>7.5</td>\n",
       "      <td>8.0</td>\n",
       "      <td>2024-01-01 00:00:00</td>\n",
       "      <td>1704085200</td>\n",
       "      <td>Bob</td>\n",
       "    </tr>\n",
       "    <tr>\n",
       "      <th>1</th>\n",
       "      <td>7.5</td>\n",
       "      <td>8.0</td>\n",
       "      <td>2024-01-01 05:01:00</td>\n",
       "      <td>1704085260</td>\n",
       "      <td>Bob</td>\n",
       "    </tr>\n",
       "    <tr>\n",
       "      <th>2</th>\n",
       "      <td>7.5</td>\n",
       "      <td>8.0</td>\n",
       "      <td>2024-01-01 05:02:00</td>\n",
       "      <td>1704085320</td>\n",
       "      <td>Bob</td>\n",
       "    </tr>\n",
       "    <tr>\n",
       "      <th>3</th>\n",
       "      <td>7.5</td>\n",
       "      <td>8.0</td>\n",
       "      <td>2024-01-01 05:03:00</td>\n",
       "      <td>1704085380</td>\n",
       "      <td>Bob</td>\n",
       "    </tr>\n",
       "    <tr>\n",
       "      <th>4</th>\n",
       "      <td>7.5</td>\n",
       "      <td>8.0</td>\n",
       "      <td>2024-01-01 05:04:00</td>\n",
       "      <td>1704085440</td>\n",
       "      <td>Bob</td>\n",
       "    </tr>\n",
       "  </tbody>\n",
       "</table>\n",
       "</div>"
      ],
      "text/plain": [
       "     x    y     local_timestamp  unix_timestamp identifier\n",
       "0  7.5  8.0 2024-01-01 00:00:00      1704085200        Bob\n",
       "1  7.5  8.0 2024-01-01 05:01:00      1704085260        Bob\n",
       "2  7.5  8.0 2024-01-01 05:02:00      1704085320        Bob\n",
       "3  7.5  8.0 2024-01-01 05:03:00      1704085380        Bob\n",
       "4  7.5  8.0 2024-01-01 05:04:00      1704085440        Bob"
      ]
     },
     "execution_count": 11,
     "metadata": {},
     "output_type": "execute_result"
    }
   ],
   "source": [
    "Bob.trajectory.head()"
   ]
  },
  {
   "cell_type": "code",
   "execution_count": 12,
   "id": "bd235553-1190-44c9-b69f-6656aa6d2c5c",
   "metadata": {},
   "outputs": [],
   "source": [
    "traj = Bob.diary"
   ]
  },
  {
   "cell_type": "code",
   "execution_count": 13,
   "id": "4f98e89d",
   "metadata": {
    "tags": []
   },
   "outputs": [
    {
     "data": {
      "image/png": "[encoded data removed]",
      "text/plain": [
       "<Figure size 500x500 with 1 Axes>"
      ]
     },
     "metadata": {},
     "output_type": "display_data"
    }
   ],
   "source": [
    "fig, ax = plt.subplots(figsize=(5, 5))\n",
    "city.plot_city(ax, doors=True, address=False, zorder=1)\n",
    "\n",
    "ax.set_yticklabels([])\n",
    "ax.set_xticklabels([])\n",
    "ax.set_xticks([])\n",
    "ax.set_yticks([])\n",
    "\n",
    "ax.plot(Bob.trajectory.x, Bob.trajectory.y, linewidth=1, color='blue', alpha=0.6)\n",
    "\n",
    "plt.savefig(\"garden-city-one-user.png\")"
   ]
  },
  {
   "cell_type": "markdown",
   "id": "1a623451",
   "metadata": {},
   "source": [
    "The following code produces an animation of Bob's movement. We limit the animation to the 24 hours between midnight January 4 to midnight January 5 for speed and tractability of the output."
   ]
  },
  {
   "cell_type": "code",
   "execution_count": 14,
   "id": "15292c37-0b18-4ecb-a5a7-7e0783389212",
   "metadata": {
    "tags": []
   },
   "outputs": [],
   "source": [
    "# fig, ax = plt.subplots(figsize=(6, 6))\n",
    "\n",
    "# city.plot_city(ax, doors=True, address=False, zorder=1)\n",
    "\n",
    "# ax.set_yticklabels([])\n",
    "# ax.set_xticklabels([])\n",
    "# ax.set_xticks([])\n",
    "# ax.set_yticks([])\n",
    "\n",
    "# line, = ax.plot([], [], color='blue', alpha=0.1)\n",
    "# scatter = ax.scatter([], [], s=8, color='black', alpha=0.5)\n",
    "# time_text = ax.text(0.5, 0.975, '', transform=ax.transAxes)\n",
    "\n",
    "# fade_length = 60  # Adjust this to control the length of the fade\n",
    "\n",
    "# df = Bob.trajectory[5760:7200]  # 0:00 Jan 4 – 0:00 Jan 5\n",
    "\n",
    "# def update(i):\n",
    "#     if i < fade_length:\n",
    "#         current_fade_length = i + 1\n",
    "#     else:\n",
    "#         current_fade_length = fade_length\n",
    "#     alphas = np.array([np.exp(-0.5*x) for x in range(current_fade_length)][::-1])\n",
    "\n",
    "#     line.set_data(df['x'].iloc[:i], df['y'].iloc[:i])\n",
    "#     scatter.set_offsets(df[['x', 'y']].iloc[:i])\n",
    "#     scatter.set_alpha(np.pad(alphas, (i + 1 - current_fade_length, 0), 'constant'))\n",
    "#     time_text.set_text(df['local_timestamp'].iloc[i].strftime('%Y-%m-%d %H:%M:%S'))\n",
    "#     time_text.set_position((0.38, 0.965))\n",
    "#     time_text.set_fontsize(8)\n",
    "#     return line, scatter\n",
    "\n",
    "\n",
    "# anim = FuncAnimation(fig, update, frames=len(df), interval=50, blit=True)\n",
    "# anim.save('anim-epr.gif', writer=PillowWriter(fps=20))\n",
    "# plt.close(fig)"
   ]
  },
  {
   "cell_type": "markdown",
   "id": "453340bd",
   "metadata": {},
   "source": [
    "# Sparsifying the complete trajectory"
   ]
  },
  {
   "cell_type": "markdown",
   "id": "c4c54bdc",
   "metadata": {},
   "source": [
    "From a complete, ground-truth trajectory (see previous section), a sparsifed trajectory can be sampled via a hierarchical non-homogeneous Poisson process. This sampler seeks to recreate realistic sparsity patterns that are both incomplete and \"bursty\"—replicating the observation that there are often long periods of inactivity interspersed with short periods with frequent pings.\n",
    "\n",
    "The sampling function `Agent.sample_traj_hier_nhpp` is controlled by three parameters: \n",
    "* `beta_start`: the start times of bursts occur according to a Poisson Process with rate 1/`beta_start`\n",
    "* `beta_dur`: the duration of bursts are sampled from a Exponential distribution with rate 1/`beta_dur`\n",
    "* `beta_ping`: within a burst, pings are sampled according to a Poisson Process with rate 1/`beta_ping`\n",
    "\n",
    "These parameters can be interpreted as follows: A burst is expected every `beta_start` minutes and lasts an expected `beta_dur` minutes. Within the burst, a ping is expected to be sampled every `beta_ping` minutes."
   ]
  },
  {
   "cell_type": "markdown",
   "id": "6762969b",
   "metadata": {},
   "source": [
    "In the example below, we sample from Bob's complete trajectory with the following parameters: `beta_start`=300, `beta_dur`=60, and `beta_ping`=15."
   ]
  },
  {
   "cell_type": "code",
   "execution_count": 15,
   "id": "1c384342",
   "metadata": {},
   "outputs": [
    {
     "name": "stdout",
     "output_type": "stream",
     "text": [
      "                        x          y     local_timestamp  unix_timestamp  \\\n",
      "unix_timestamp                                                             \n",
      "1704095580       7.561771   7.958532 2024-01-01 07:53:00      1704095580   \n",
      "1704096180       7.351522   7.802386 2024-01-01 08:03:00      1704096180   \n",
      "1704096660       7.232765   7.938899 2024-01-01 08:11:00      1704096660   \n",
      "1704096900       7.311106   8.056108 2024-01-01 08:15:00      1704096900   \n",
      "1704097080       8.126378   8.484015 2024-01-01 08:18:00      1704097080   \n",
      "...                   ...        ...                 ...             ...   \n",
      "1704646560      17.191713  16.118452 2024-01-07 16:56:00      1704646560   \n",
      "1704646620      17.177320  14.866723 2024-01-07 16:57:00      1704646620   \n",
      "1704656100      17.422704   5.479778 2024-01-07 19:35:00      1704656100   \n",
      "1704657120      17.275615   5.186514 2024-01-07 19:52:00      1704657120   \n",
      "1704682080      11.069932   6.297643 2024-01-08 02:48:00      1704682080   \n",
      "\n",
      "               identifier    ha  \n",
      "unix_timestamp                   \n",
      "1704095580            Bob  0.75  \n",
      "1704096180            Bob  0.75  \n",
      "1704096660            Bob  0.75  \n",
      "1704096900            Bob  0.75  \n",
      "1704097080            Bob  0.75  \n",
      "...                   ...   ...  \n",
      "1704646560            Bob  0.75  \n",
      "1704646620            Bob  0.75  \n",
      "1704656100            Bob  0.75  \n",
      "1704657120            Bob  0.75  \n",
      "1704682080            Bob  0.75  \n",
      "\n",
      "[108 rows x 6 columns]\n"
     ]
    }
   ],
   "source": [
    "hier_nhpp_params = (300, 60, 15)\n",
    "seed = 40\n",
    "burst_info = Bob.sample_traj_hier_nhpp(*hier_nhpp_params, seed=seed, output_bursts=True)\n",
    "print(Bob.sparse_traj)"
   ]
  },
  {
   "cell_type": "markdown",
   "id": "f317741f",
   "metadata": {},
   "source": [
    "The following code produces a chart that visualizes the distribution of the sparsified pings."
   ]
  },
  {
   "cell_type": "code",
   "execution_count": 17,
   "id": "827d1aab-c00a-4d90-89e2-52604c7be0ba",
   "metadata": {
    "tags": []
   },
   "outputs": [
    {
     "data": {
      "image/png": "[encoded data removed]",
      "text/plain": [
       "<Figure size 1000x50 with 1 Axes>"
      ]
     },
     "metadata": {},
     "output_type": "display_data"
    }
   ],
   "source": [
    "fig, ax = plt.subplots(figsize=(10, 0.5))\n",
    "\n",
    "ax.hlines(1, pd.Timestamp('2024-01-01 00:00'), pd.Timestamp('2024-01-08 00:00'), color='gray', linewidth=2)\n",
    "\n",
    "ax.vlines(burst_info['start_time'], 0.95, 1.05, color='red', linewidth=1.2, alpha=1)\n",
    "\n",
    "for i, row in burst_info.iterrows():\n",
    "    ax.fill_betweenx(\n",
    "        [0.95, 1.05],\n",
    "        row['start_time'],\n",
    "        row['end_time'],\n",
    "        color='lightgrey',\n",
    "        alpha=0.8,\n",
    "        zorder=1\n",
    "    )\n",
    "\n",
    "ax.vlines(Bob.sparse_traj['local_timestamp'], 0.95, 1.05, color='black', linewidth=0.8, alpha=1)\n",
    "\n",
    "ax.set_xlim(pd.Timestamp('2024-01-01 00:00'), pd.Timestamp('2024-01-08 00:00'))\n",
    "ax.xaxis.set_major_formatter(mdates.DateFormatter('%a'))\n",
    "plt.xticks(rotation=0)\n",
    "\n",
    "[spine.set_visible(False) for spine in ax.spines.values()]\n",
    "ax.yaxis.set_visible(False)\n",
    "\n",
    "fig.savefig(\"nhpp-sampling.png\")\n",
    "\n",
    "plt.show()"
   ]
  },
  {
   "cell_type": "markdown",
   "id": "253a3087",
   "metadata": {},
   "source": [
    "# Generating multiple agents"
   ]
  },
  {
   "cell_type": "markdown",
   "id": "844326ff",
   "metadata": {},
   "source": [
    "A population may contain any number of agents, which can be initialized en masse using the `Population.generate_agents` method. Each agent is assigned a randomly name as well as a uniformly sampled home and workplace. The `start_time` parameter indicates the time at which the agents start their trajectories.\n",
    "\n",
    "Agent trajectories can be generated by looping over each agent and running the `Population.generate_trajectory` function as explained above. Note: if using a seed, make sure that each agent's seed is different to avoid all agents having the same trajectory."
   ]
  },
  {
   "cell_type": "code",
   "execution_count": null,
   "id": "b02f8765-e3f1-4443-b0f4-af85ccd60bde",
   "metadata": {
    "tags": []
   },
   "outputs": [],
   "source": [
    "population2 = Population(city)\n",
    "population2.generate_agents(N = 5,\n",
    "                            start_time = datetime(2024, 1, 1, hour=8, minute=0),\n",
    "                            seed=100)\n",
    "\n",
    "for i, agent_id in enumerate(population2.roster):\n",
    "    agent = population2.roster[agent_id]\n",
    "    population.generate_trajectory(agent, \n",
    "                                   T=datetime(2024, 1, 8, hour=0, minute=0),\n",
    "                                   seed=100+i)\n",
    "    agent.sample_traj_hier_nhpp(*hier_nhpp_params, seed=seed+i)\n",
    "    \n",
    "population2.roster"
   ]
  },
  {
   "cell_type": "markdown",
   "id": "972e9dbe",
   "metadata": {},
   "source": [
    "Any individual agent can be accessed by calling their id through the `Population.roster` dictionary. "
   ]
  },
  {
   "cell_type": "code",
   "execution_count": null,
   "id": "844b8402",
   "metadata": {},
   "outputs": [],
   "source": [
    "nifty_saha = population2.roster['nifty_saha']\n",
    "print(nifty_saha.diary)\n",
    "print(nifty_saha.trajectory)\n",
    "print(nifty_saha.sparse_traj)"
   ]
  },
  {
   "cell_type": "markdown",
   "id": "b762f692-41bc-434b-a447-e6bf82abed82",
   "metadata": {},
   "source": [
    "# Demonstration: Clustering Algorithms"
   ]
  },
  {
   "cell_type": "markdown",
   "id": "ceef75f8",
   "metadata": {},
   "source": [
    "To demonstrate one use case of our model, we explore how differing degrees of sparsity can affect the performance of stop detection algorithms like DBSCAN. We first initialize an agent (Charlie) and generate a complete trajectory. In what proceeds, we manually initialize Charlie's destination diary as consecutive 1-hour visits to two homes followed by a 3-hour visit at a larger retail building. A more extended simulation can (and should) leverage the exploration and preferential return generation model. For this toy example, however, we present an artificial example for simplicity."
   ]
  },
  {
   "cell_type": "code",
   "execution_count": null,
   "id": "a7705114-0441-49a4-b8f5-b55a72b1f12c",
   "metadata": {
    "tags": []
   },
   "outputs": [],
   "source": [
    "start_time = [datetime(2024, 6, 1, hour=0, minute=0) + timedelta(minutes=60*t) for t in range(5)]\n",
    "unix_timestamp = [int(t.timestamp()) for t in start_time]\n",
    "duration = [60]*5  # in minutes\n",
    "\n",
    "location = ['h-x13-y11'] * 1 + ['h-x13-y9'] * 1 + ['r-x18-y10'] * 3\n",
    "\n",
    "destination = pd.DataFrame(\n",
    "    {\"unix_timestamp\": unix_timestamp, \"local_timestamp\": start_time,\n",
    "     \"duration\": duration, \"location\": location}\n",
    ")\n",
    "destination = tg.condense_destinations(destination)\n",
    "\n",
    "Charlie = Agent(\"Charlie\",\n",
    "                'h-x13-y11',\n",
    "                'w-x15-y9',\n",
    "                city,\n",
    "                destination_diary=destination,\n",
    "                dt=1)\n",
    "\n",
    "population.add_agent(Charlie)\n",
    "population.generate_trajectory(Charlie, seed=75)\n",
    "\n",
    "Charlie.diary"
   ]
  },
  {
   "cell_type": "markdown",
   "id": "4f78f66d",
   "metadata": {},
   "source": [
    "Charlie's ground-truth trajectory is plotted below."
   ]
  },
  {
   "cell_type": "code",
   "execution_count": null,
   "id": "93d14d7b-00e9-4477-bcec-a521a875e0cd",
   "metadata": {
    "tags": []
   },
   "outputs": [],
   "source": [
    "fig, ax = plt.subplots(figsize=(9, 5))\n",
    "ax.scatter(Charlie.trajectory.x, Charlie.trajectory.y, s=6, color='black', alpha=1, zorder=2)\n",
    "city.plot_city(ax, doors=True, address=False, zorder=1)\n",
    "\n",
    "ax.plot(Charlie.trajectory.x, Charlie.trajectory.y, linewidth=1, color='blue', alpha=0.2)\n",
    "\n",
    "ax.set_xlim(12, 22)\n",
    "ax.set_ylim(7, 14)\n",
    "ax.set_yticklabels([])\n",
    "ax.set_xticklabels([])\n",
    "ax.set_xticks([])\n",
    "ax.set_yticks([])\n",
    "\n",
    "plt.tight_layout()\n",
    "plt.show()\n",
    "\n",
    "plt.savefig(\"garden-city-zoomed.png\")"
   ]
  },
  {
   "cell_type": "markdown",
   "id": "29c4225e",
   "metadata": {},
   "source": [
    "We sample Charlie's ground-truth trajectory at two levels of sparsity. \n",
    "* The higher sparsity sample uses parameters `beta_start`=120, `beta_dur`=30, and `beta_ping`=5. \n",
    "* The lower sparsity sample uses parameters `beta_start`=60, `beta_dur`=45, and `beta_ping`=2. "
   ]
  },
  {
   "cell_type": "code",
   "execution_count": null,
   "id": "33ddfad4-20bc-4d35-b563-4577d92d5b1f",
   "metadata": {
    "tags": []
   },
   "outputs": [],
   "source": [
    "fig, axes = plt.subplots(1, 2, figsize=(11, 4))\n",
    "hier_nhpp_params = [(120, 30, 5), (60, 45, 2)]\n",
    "seed = 375\n",
    "\n",
    "for j in range(2):\n",
    "    ax = axes[j]\n",
    "    Charlie.sample_traj_hier_nhpp(*hier_nhpp_params[j], seed=seed)\n",
    "\n",
    "    ax.scatter(Charlie.sparse_traj.x, Charlie.sparse_traj.y, s=6, color='black', alpha=1, zorder=2)\n",
    "    city.plot_city(ax, doors=True, address=False, zorder=1)\n",
    "\n",
    "    ax.set_xlim(12, 22)\n",
    "    ax.set_ylim(7, 14)\n",
    "    ax.set_yticklabels([])\n",
    "    ax.set_xticklabels([])\n",
    "    ax.set_xticks([])\n",
    "    ax.set_yticks([])\n",
    "\n",
    "axes[0].set_xlabel('Higher Sparsity', fontsize='x-large')\n",
    "axes[1].set_xlabel('Lower Sparsity ', fontsize='x-large')\n",
    "\n",
    "plt.tight_layout()\n",
    "plt.savefig(\"garden-city-sparse.png\")\n",
    "plt.show()"
   ]
  },
  {
   "cell_type": "markdown",
   "id": "02372afa",
   "metadata": {},
   "source": [
    "We are interested in how the sparsity of the trajectory and parameterization of stop detection algorithms interact. Here, we use a temporal version of DBSCAN to cluster pings into stops. DBSCAN takes three parameters: `time_thresh`, `dist_thresh`, and `min_pts`. Roughly, a point is considered part of a dense cluster if it has at least `min_pts` neighboring points within a distance `dist_thresh` and time gap `time_thresh`; otherwise, it is labeled as noise. \n",
    "\n",
    "We explore a fine and a coarse parameterization of DBSCAN and apply each to the higher and lower sparsity trajectories."
   ]
  },
  {
   "cell_type": "code",
   "execution_count": null,
   "id": "effea403-cfb1-40ae-8287-4b4c5dcea565",
   "metadata": {
    "tags": []
   },
   "outputs": [],
   "source": [
    "fig, axes = plt.subplots(2, 2, figsize=(9, 6))\n",
    "dbscan_params = [(150, 1.5, 2), (60, 0.75, 4)]\n",
    "\n",
    "for i in range(2):\n",
    "    for j in range(2):\n",
    "        ax = axes[i, j]\n",
    "        Charlie.sample_traj_hier_nhpp(*hier_nhpp_params[j], seed=seed)\n",
    "\n",
    "        dbscan_out = sd.temporal_dbscan(Charlie.sparse_traj, *dbscan_params[i])\n",
    "\n",
    "        num_clusters = sum(dbscan_out.cluster.unique() > -1)\n",
    "        for cid in range(num_clusters):\n",
    "            cpings = dbscan_out[dbscan_out.cluster == cid]\n",
    "            cdata = Charlie.sparse_traj.loc[cpings.index]\n",
    "            col = cm.tab20c(cid/(num_clusters+1))\n",
    "            ax.scatter(cdata.x, cdata.y, s=80, color=col, alpha=1, zorder=2)\n",
    "\n",
    "        ax.scatter(Charlie.sparse_traj.x, Charlie.sparse_traj.y, s=6, color='black', alpha=1, zorder=2)\n",
    "        city.plot_city(ax, doors=True, address=False, zorder=1)\n",
    "\n",
    "        ax.set_xlim(12, 22)\n",
    "        ax.set_ylim(7, 14)\n",
    "        ax.set_yticklabels([])\n",
    "        ax.set_xticklabels([])\n",
    "        ax.set_xticks([])\n",
    "        ax.set_yticks([])\n",
    "\n",
    "axes[0, 0].set_ylabel('Coarse', fontsize='x-large')\n",
    "axes[1, 0].set_ylabel('Fine', fontsize='x-large')\n",
    "axes[1, 0].set_xlabel('Higher Sparsity', fontsize='x-large')\n",
    "axes[1, 1].set_xlabel('Lower Sparsity', fontsize='x-large')\n",
    "\n",
    "plt.tight_layout()\n",
    "plt.savefig(\"garden-city-stdbscan.png\")\n",
    "plt.show()"
   ]
  }
 ],
 "metadata": {
  "kernelspec": {
   "display_name": "Python 3",
   "language": "python",
   "name": "python3"
  },
  "language_info": {
   "codemirror_mode": {
    "name": "ipython",
    "version": 3
   },
   "file_extension": ".py",
   "mimetype": "text/x-python",
   "name": "python",
   "nbconvert_exporter": "python",
   "pygments_lexer": "ipython3",
   "version": "3.13.0"
  }
 },
 "nbformat": 4,
 "nbformat_minor": 5
}

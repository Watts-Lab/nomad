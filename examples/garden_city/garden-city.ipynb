{
 "cells": [
  {
   "cell_type": "code",
   "execution_count": null,
   "id": "20c2bbc9",
   "metadata": {
    "tags": []
   },
   "outputs": [],
   "source": [
    "import sys\n",
    "import os\n",
    "core_dir = os.path.join(os.getcwd(), '../..', 'nomad')\n",
    "core_dir = os.path.normpath(core_dir)\n",
    "sys.path.append(core_dir)\n",
    "\n",
    "import pandas as pd\n",
    "from shapely.geometry import box\n",
    "from datetime import datetime, timedelta\n",
    "import numpy as np\n",
    "import matplotlib.pyplot as plt\n",
    "from matplotlib import cm\n",
    "import matplotlib.dates as mdates\n",
    "from matplotlib.animation import FuncAnimation, PillowWriter\n",
    "import numpy.random as npr\n",
    "from pprint import pprint\n",
    "\n",
    "import city_gen as cg\n",
    "from city_gen import City, Building, Street\n",
    "import traj_gen as tg\n",
    "from traj_gen import Agent, Population\n",
    "import stop_detection as sd\n",
    "from constants import DEFAULT_SPEEDS, FAST_SPEEDS, SLOW_SPEEDS, DEFAULT_STILL_PROBS\n",
    "from constants import FAST_STILL_PROBS, SLOW_STILL_PROBS, ALLOWED_BUILDINGS"
   ]
  },
  {
   "cell_type": "markdown",
   "id": "7fedb635",
   "metadata": {},
   "source": [
    "# Initialization of city and population"
   ]
  },
  {
   "cell_type": "raw",
   "id": "d46f77b6-fbb5-4784-8c39-bc2ff3046a97",
   "metadata": {},
   "source": [
    "To create a city, begin by instantiating a City of the desired dimension. We then add successive Buildings to the city by defining their type, door location, and geometry (either as a bounding box or a list of block coordinates). The final step is to find the shortest paths between all street blocks and persist."
   ]
  },
  {
   "cell_type": "code",
   "execution_count": null,
   "id": "ab4de6f6-c089-4731-a18d-147981f355f9",
   "metadata": {},
   "outputs": [],
   "source": [
    "# Initialize city\n",
    "city = City(dimensions=(22, 22))\n",
    "# add a park\n",
    "city.add_building('park', (13, 11), bbox=box(9, 9, 13, 13))\n",
    "# add a home\n",
    "city.add_building('home', (8, 8), [(7, 7), (7, 8)])\n",
    "\n",
    "print(\"Attributes for building 'h-x8-y8':\")\n",
    "pprint(city.buildings['h-x8-y8'].__dict__)"
   ]
  },
  {
   "cell_type": "code",
   "execution_count": null,
   "id": "15653e2e",
   "metadata": {
    "tags": []
   },
   "outputs": [],
   "source": [
    "# city.add_building('home', (9, 8), [(8, 7), (9, 7)])\n",
    "# city.add_building('home', (10, 8), [(10, 7)])\n",
    "# city.add_building('home', (11, 8), [(11, 7)])\n",
    "# city.add_building('home', (13, 6), [(13, 7)])\n",
    "# city.add_building('home', (14, 6), [(14, 7)])\n",
    "# city.add_building('home', (13, 8), [(14, 8)])\n",
    "# city.add_building('home', (13, 9), [(14, 9)])\n",
    "# city.add_building('home', (13, 11), [(14, 11)])\n",
    "# city.add_building('home', (13, 12), [(14, 12)])\n",
    "# city.add_building('home', (15, 13), [(14, 13)])\n",
    "# city.add_building('home', (13, 13), [(13, 14), (14, 14)])\n",
    "# city.add_building('home', (12, 13), [(12, 14)])\n",
    "# city.add_building('home', (11, 13), [(11, 14)])\n",
    "# city.add_building('home', (9, 13), [(9, 14)])\n",
    "# city.add_building('home', (8, 13), [(8, 14)])\n",
    "# city.add_building('home', (7, 15), [(7, 14)])\n",
    "# city.add_building('home', (6, 13), [(7, 13)])\n",
    "# city.add_building('home', (8, 12), [(7, 12)])\n",
    "# city.add_building('home', (8, 10), [(7, 10), (7, 9)])\n",
    "\n",
    "# # add workplaces\n",
    "# city.add_building('work', (3, 4), [(4, 4), (4, 5)])\n",
    "# city.add_building('work', (5, 3), [(5, 4), (5, 5)])\n",
    "# city.add_building('work', (6, 6), bbox=box(6, 4, 8, 6))\n",
    "# city.add_building('work', (8, 6), bbox=box(8, 4, 10, 6))\n",
    "# city.add_building('work', (12, 6), bbox=box(11, 5, 14, 6))\n",
    "# city.add_building('work', (12, 3), bbox=box(11, 4, 14, 5))\n",
    "# city.add_building('work', (15, 3), bbox=box(14, 4, 17, 6))\n",
    "# city.add_building('work', (18, 4), bbox=box(17, 4, 18, 6))\n",
    "# city.add_building('work', (18, 6), bbox=box(16, 6, 18, 8))\n",
    "# city.add_building('work', (15, 9), bbox=box(16, 8, 17, 10))\n",
    "# city.add_building('work', (18, 8), bbox=box(17, 8, 18, 10))\n",
    "# city.add_building('work', (18, 10), bbox=box(16, 10, 18, 12))\n",
    "# city.add_building('work', (18, 13), bbox=box(16, 13, 18, 15))\n",
    "# city.add_building('work', (18, 15), bbox=box(16, 15, 18, 16))\n",
    "# city.add_building('work', (15, 15), bbox=box(15, 16, 18, 17))\n",
    "# city.add_building('work', (14, 15), [(14, 16)])\n",
    "# city.add_building('work', (16, 18), bbox=box(16, 17, 18, 18))\n",
    "# city.add_building('work', (15, 18), bbox=box(14, 17, 16, 18))\n",
    "# city.add_building('work', (13, 18), bbox=box(12, 16, 14, 18))\n",
    "# city.add_building('work', (11, 18), bbox=box(10, 17, 12, 18))\n",
    "# city.add_building('work', (11, 15), bbox=box(10, 16, 12, 17))\n",
    "# city.add_building('work', (8, 18), bbox=box(7, 16, 9, 18))\n",
    "# city.add_building('work', (6, 18), bbox=box(5, 17, 7, 18))\n",
    "# city.add_building('work', (6, 15), bbox=box(5, 16, 7, 17))\n",
    "# city.add_building('work', (3, 16), [(4, 16), (4, 17)])\n",
    "# city.add_building('work', (3, 13), bbox=box(4, 13, 6, 16))\n",
    "# city.add_building('work', (6, 12), bbox=box(4, 12, 6, 13))\n",
    "# city.add_building('work', (3, 10), [(4, 9), (4, 10)])\n",
    "# city.add_building('work', (6, 9), [(5, 9), (5, 10)])\n",
    "# city.add_building('work', (6, 8), [(4, 8), (5, 8)])\n",
    "# city.add_building('work', (3, 6), bbox=box(4, 6, 6, 8))\n",
    "\n",
    "# # add retail\n",
    "# city.add_building('retail', (0, 1), bbox=box(1, 1, 3, 3))\n",
    "# city.add_building('retail', (3, 0), bbox=box(3, 1, 5, 3))\n",
    "# city.add_building('retail', (5, 0), [(5, 1)])\n",
    "# city.add_building('retail', (5, 3), [(5, 2)])\n",
    "# city.add_building('retail', (6, 0), bbox=box(6, 1, 8, 2))\n",
    "# city.add_building('retail', (6, 3), bbox=box(6, 2, 8, 3))\n",
    "# city.add_building('retail', (9, 3), bbox=box(9, 1, 10, 3))\n",
    "# city.add_building('retail', (12, 3), bbox=box(10, 1, 13, 3))\n",
    "# city.add_building('retail', (14, 3), bbox=box(13, 1, 15, 3))\n",
    "# city.add_building('retail', (15, 3), [(15, 2)])\n",
    "# city.add_building('retail', (16, 3), [(16, 2)])\n",
    "# city.add_building('retail', (15, 0), [(15, 1)])\n",
    "# city.add_building('retail', (16, 0), [(16, 1)])\n",
    "# city.add_building('retail', (17, 3), bbox=box(17, 2, 19, 3))\n",
    "# city.add_building('retail', (18, 0), bbox=box(17, 1, 19, 2))\n",
    "# city.add_building('retail', (19, 0), bbox=box(19, 1, 21, 2))\n",
    "# city.add_building('retail', (18, 3), bbox=box(19, 2, 21, 4))\n",
    "# city.add_building('retail', (18, 5), bbox=box(19, 4, 21, 6))\n",
    "# city.add_building('retail', (18, 7), bbox=box(19, 6, 20, 8))\n",
    "# city.add_building('retail', (21, 7), bbox=box(20, 6, 21, 8))\n",
    "# city.add_building('retail', (18, 10), bbox=box(19, 9, 21, 11))\n",
    "# city.add_building('retail', (18, 11), bbox=box(19, 11, 21, 13))\n",
    "# city.add_building('retail', (18, 13), bbox=box(19, 13, 20, 15))\n",
    "# city.add_building('retail', (21, 13), bbox=box(20, 13, 21, 15))\n",
    "# city.add_building('retail', (21, 16), bbox=box(19, 15, 21, 17))\n",
    "# city.add_building('retail', (21, 18), bbox=box(19, 17, 21, 19))\n",
    "\n",
    "# city.add_building('retail', (21, 19), bbox=box(19, 19, 21, 20))\n",
    "# city.add_building('retail', (20, 21), bbox=box(19, 20, 21, 21))\n",
    "# city.add_building('retail', (17, 18), bbox=box(17, 19, 18, 21))\n",
    "# city.add_building('retail', (16, 18), bbox=box(16, 19, 17, 21))\n",
    "# city.add_building('retail', (14, 18), bbox=box(13, 19, 16, 20))\n",
    "# city.add_building('retail', (15, 21), bbox=box(14, 20, 16, 21))\n",
    "# city.add_building('retail', (13, 21), bbox=box(12, 20, 14, 21))\n",
    "# city.add_building('retail', (12, 18), bbox=box(12, 19, 13, 20))\n",
    "# city.add_building('retail', (11, 18), bbox=box(10, 19, 12, 21))\n",
    "# city.add_building('retail', (9, 18), bbox=box(8, 19, 10, 20))\n",
    "# city.add_building('retail', (9, 21), bbox=box(8, 20, 10, 21))\n",
    "# city.add_building('retail', (6, 21), bbox=box(5, 19, 7, 21))\n",
    "# city.add_building('retail', (4, 21), bbox=box(3, 20, 5, 21))\n",
    "# city.add_building('retail', (4, 18), bbox=box(3, 19, 5, 20))\n",
    "# city.add_building('retail', (2, 18), bbox=box(2, 19, 3, 21))\n",
    "# city.add_building('retail', (1, 18), bbox=box(1, 19, 2, 21))\n",
    "# city.add_building('retail', (3, 17), bbox=box(1, 16, 3, 18))\n",
    "# city.add_building('retail', (3, 15), bbox=box(1, 15, 3, 16))\n",
    "# city.add_building('retail', (3, 14), bbox=box(1, 14, 3, 15))\n",
    "# city.add_building('retail', (3, 12), bbox=box(1, 12, 3, 14))\n",
    "# city.add_building('retail', (3, 11), bbox=box(1, 11, 3, 12))\n",
    "# city.add_building('retail', (3, 10), bbox=box(1, 10, 3, 11))\n",
    "# city.add_building('retail', (3, 8), bbox=box(1, 8, 3, 10))\n",
    "# city.add_building('retail', (3, 7), bbox=box(1, 7, 3, 8))\n",
    "# city.add_building('retail', (0, 5), bbox=box(1, 4, 2, 7))\n",
    "# city.add_building('retail', (3, 6), [(2, 6)])\n",
    "# city.add_building('retail', (3, 5), [(2, 5)])\n",
    "# city.add_building('retail', (3, 4), [(2, 4)])\n",
    "\n",
    "# city.get_street_graph()\n",
    "# city.save('garden-city.pkl')"
   ]
  },
  {
   "cell_type": "markdown",
   "id": "9b055556",
   "metadata": {},
   "source": [
    "After initialization, you can save the city as a pkl by calling city.save('filename.pkl'). Subsequent uses of the city then only require loading the city via mmod.load('filename.pkl')."
   ]
  },
  {
   "cell_type": "code",
   "execution_count": null,
   "id": "453c0376-cada-4b09-8163-207914cbfe1a",
   "metadata": {
    "tags": []
   },
   "outputs": [],
   "source": [
    "city = cg.load('garden-city.pkl')"
   ]
  },
  {
   "cell_type": "markdown",
   "id": "ee0bb351",
   "metadata": {},
   "source": [
    "To view the city, call city.plot_city()"
   ]
  },
  {
   "cell_type": "code",
   "execution_count": null,
   "id": "2823a0b7",
   "metadata": {
    "tags": []
   },
   "outputs": [],
   "source": [
    "%matplotlib inline\n",
    "\n",
    "fig, ax = plt.subplots(figsize=(6, 6))\n",
    "plt.box(on=False)\n",
    "\n",
    "city.plot_city(ax, doors=True, address=False)\n",
    "\n",
    "ax.set_yticklabels([])\n",
    "ax.set_xticklabels([])\n",
    "ax.set_xticks([])\n",
    "ax.set_yticks([])\n",
    "\n",
    "plt.show()\n",
    "plt.savefig('gc_empty.png')"
   ]
  },
  {
   "cell_type": "markdown",
   "id": "66c39f6a",
   "metadata": {},
   "source": [
    "Each Building is assigned a unique identifier by its type and door coordinate. For example, the retail building with door coordinate (12, 3) has the id 'r-x12-y3'. Individual Buildings objects and their attributes may be accessed throught the city.buildings dictionary."
   ]
  },
  {
   "cell_type": "markdown",
   "id": "d581293b",
   "metadata": {
    "tags": []
   },
   "source": [
    "# Trajectory Simulation"
   ]
  },
  {
   "cell_type": "markdown",
   "id": "c824809d",
   "metadata": {},
   "source": [
    "Agents can be initialized in several ways:\n",
    "1. With a user-specified destination diary.\n",
    "2. With an EPR-generated destination diary."
   ]
  },
  {
   "cell_type": "markdown",
   "id": "0e4e8847-fc64-478d-ac0b-e9e4f5b0c81f",
   "metadata": {},
   "source": [
    "[1] An Agent can be initialized with a pre-specified destination diary by \n",
    "1. Creating a DataFrame with the desired destination diary.\n",
    "2. Condensing the destination diary using `mmod.condense_destinations`.\n",
    "3. Initializing the Agent with the condensed destination diary, specifying their home and work buildings.\n",
    "4. Adding the Agent to the Population.\n",
    "5. Generating the Agent's trajectory by calling population.generate_trajectory().\n",
    "\n",
    "Once the agent has been initialized in this way, they will have a diary and a trajectory. Whereas the destination diary specifies the building the user _wants_ to be at any given time interval, the diary specifies the building or street the user _actually_ is at any given time interval, taking into consideration the travel time between buildings (a location of None indicates the Agent is on a street block). The trajectory is a more granular dataframe that contains the exact coordinate ping of the Agent at every timestamp."
   ]
  },
  {
   "cell_type": "code",
   "execution_count": 8,
   "id": "ee818983",
   "metadata": {},
   "outputs": [],
   "source": [
    "# We create an instance of population that we can use to collect all agents\n",
    "population = Population(city)"
   ]
  },
  {
   "cell_type": "code",
   "execution_count": 12,
   "id": "9bcebed4",
   "metadata": {
    "tags": []
   },
   "outputs": [
    {
     "name": "stdout",
     "output_type": "stream",
     "text": [
      "Agent identifier already exists in population. Replacing corresponding agent.\n",
      "   unix_timestamp     local_timestamp  duration   location\n",
      "0       946684800 2000-01-01 00:00:00        31   h-x8-y13\n",
      "1       946686660 2000-01-01 00:31:00         6       None\n",
      "2       946687020 2000-01-01 00:37:00        54   r-x12-y3\n",
      "3       946690260 2000-01-01 01:31:00         7       None\n",
      "4       946690680 2000-01-01 01:38:00       173  w-x15-y15\n"
     ]
    }
   ],
   "source": [
    "# Initialization with custom diary\n",
    "start_time = [datetime(2000, 1, 1, hour=0, minute=0) + timedelta(minutes=15*t) for t in range(22)]\n",
    "unix_timestamp = [int(t.timestamp()) for t in start_time]\n",
    "duration = [15]*22  # in minutes\n",
    "location = ['h-x8-y13'] * 2 + ['r-x12-y3'] * 4 + ['w-x15-y15'] * 12 + ['h-x8-y13'] * 4\n",
    "\n",
    "destination = pd.DataFrame({\"unix_timestamp\":unix_timestamp,\n",
    "                            \"local_timestamp\":start_time,\n",
    "                            \"duration\":duration,\n",
    "                            \"location\":location})\n",
    "\n",
    "destination = tg.condense_destinations(destination)\n",
    "\n",
    "Alice = Agent(\"Alice\",\n",
    "              'h-x8-y13',\n",
    "              'w-x15-y15',\n",
    "              city,\n",
    "              destination_diary=destination)\n",
    "\n",
    "population.add_agent(Alice)\n",
    "population.generate_trajectory(Alice, seed=100)\n",
    "\n",
    "print(Alice.diary.head())"
   ]
  },
  {
   "cell_type": "code",
   "execution_count": 13,
   "id": "84900283-e166-45b2-9923-b3d98fdcf66a",
   "metadata": {},
   "outputs": [
    {
     "data": {
      "text/plain": [
       "{'identifier': 'Alice',\n",
       " 'home': 'h-x8-y13',\n",
       " 'workplace': 'w-x15-y15',\n",
       " 'city': <city_gen.City at 0x235f2e0ea40>,\n",
       " 'destination_diary': Empty DataFrame\n",
       " Columns: [unix_timestamp, local_timestamp, duration, location]\n",
       " Index: [],\n",
       " 'diary':    unix_timestamp     local_timestamp  duration   location\n",
       " 0       946684800 2000-01-01 00:00:00        31   h-x8-y13\n",
       " 1       946686660 2000-01-01 00:31:00         6       None\n",
       " 2       946687020 2000-01-01 00:37:00        54   r-x12-y3\n",
       " 3       946690260 2000-01-01 01:31:00         7       None\n",
       " 4       946690680 2000-01-01 01:38:00       173  w-x15-y15\n",
       " 5       946701060 2000-01-01 04:31:00         4       None\n",
       " 6       946701300 2000-01-01 04:35:00        56   h-x8-y13,\n",
       " 'still_probs': {'park': 0.5, 'home': 0.9, 'work': 0.9, 'retail': 0.5},\n",
       " 'speeds': {'park': 1.0204081632653061,\n",
       "  'home': 0.3826530612244898,\n",
       "  'work': 0.3826530612244898,\n",
       "  'retail': 0.8928571428571429},\n",
       " 'dt': 1,\n",
       " 'trajectory':             x          y     local_timestamp  unix_timestamp identifier\n",
       " 0    8.500000  14.500000 2000-01-01 00:00:00       946684800      Alice\n",
       " 1    8.500000  14.500000 2000-01-01 00:01:00       946684860      Alice\n",
       " 2    8.500000  14.500000 2000-01-01 00:02:00       946684920      Alice\n",
       " 3    8.500000  14.500000 2000-01-01 00:03:00       946684980      Alice\n",
       " 4    8.500000  14.500000 2000-01-01 00:04:00       946685040      Alice\n",
       " ..        ...        ...                 ...             ...        ...\n",
       " 326  8.811233  14.256391 2000-01-01 05:26:00       946704360      Alice\n",
       " 327  8.811233  14.256391 2000-01-01 05:27:00       946704420      Alice\n",
       " 328  8.811233  14.256391 2000-01-01 05:28:00       946704480      Alice\n",
       " 329  8.811233  14.256391 2000-01-01 05:29:00       946704540      Alice\n",
       " 330  8.811233  14.256391 2000-01-01 05:30:00       946704600      Alice\n",
       " \n",
       " [331 rows x 5 columns]}"
      ]
     },
     "execution_count": 13,
     "metadata": {},
     "output_type": "execute_result"
    }
   ],
   "source": [
    "Alice.__dict__"
   ]
  },
  {
   "cell_type": "markdown",
   "id": "39f4fa27-5e0e-4b2e-8c98-20172530986a",
   "metadata": {},
   "source": [
    "[2] An Agent can be initialized with an EPR-generated destination diary by \n",
    "1. Specifying the Agent's home and work Buildings and a starting datetime.\n",
    "2. Adding the Agent to the Population.\n",
    "3. Generating the destination diary and trajectory by calling population.generate_trajectory(). This method requires an ending datetime `T` to specify the duration of the simulation and a timestep `dt` to define the temporal granularity of the trajectory."
   ]
  },
  {
   "cell_type": "code",
   "execution_count": 10,
   "id": "fa0c4345-d3a8-45ed-a65e-389eeb9b6e13",
   "metadata": {
    "tags": []
   },
   "outputs": [
    {
     "name": "stdout",
     "output_type": "stream",
     "text": [
      "   unix_timestamp     local_timestamp  duration  location\n",
      "0      1704110400 2024-01-01 07:00:00        61   h-x8-y8\n",
      "1      1704114060 2024-01-01 13:01:00         7      None\n",
      "2      1704114480 2024-01-01 13:08:00       233  w-x18-y4\n",
      "3      1704128460 2024-01-01 17:01:00         6      None\n",
      "4      1704128820 2024-01-01 17:07:00         9   r-x3-y6\n"
     ]
    }
   ],
   "source": [
    "# Initialization and diary generation\n",
    "Bob = Agent(\"Bob\",\n",
    "            'h-x8-y8',\n",
    "            'w-x18-y4',\n",
    "            city,\n",
    "            start_time=datetime(2024, 1, 1, hour=7, minute=0))\n",
    "\n",
    "population.add_agent(Bob)\n",
    "population.generate_trajectory(Bob, T=datetime(2024, 1, 1, hour=19, minute=0))\n",
    "\n",
    "print(Bob.diary.head())"
   ]
  },
  {
   "cell_type": "code",
   "execution_count": null,
   "id": "ab4b5073-f2a4-493f-a611-01dc83c6449e",
   "metadata": {
    "tags": []
   },
   "outputs": [],
   "source": [
    "# custom version to generate the next plot\n",
    "def sample_hier_nhpp(traj, beta_start, beta_durations, beta_ping, seed=None):\n",
    "    if seed:\n",
    "        npr.seed(seed)\n",
    "    else:\n",
    "        seed = npr.randint(0, 1000, 1)[0]\n",
    "        npr.seed(seed)\n",
    "        print(\"Seed:\", seed)\n",
    "\n",
    "    # Sample starting points of bursts\n",
    "    inter_arrival_times = npr.exponential(scale=beta_start, size=len(traj))\n",
    "    burst_start_points = np.cumsum(inter_arrival_times).astype(int)\n",
    "    burst_start_points = burst_start_points[burst_start_points < len(traj)]\n",
    "\n",
    "    # Sample durations of each burst\n",
    "    burst_durations = np.random.exponential(scale=beta_durations, size=len(burst_start_points)).astype(int)\n",
    "\n",
    "    # Create start_points and end_points\n",
    "    burst_end_points = burst_start_points + burst_durations\n",
    "    burst_end_points = np.minimum(burst_end_points, len(traj) - 1)\n",
    "\n",
    "    # Adjust end_points to handle overlaps\n",
    "    for i in range(len(burst_start_points) - 1):\n",
    "        if burst_end_points[i] > burst_start_points[i + 1]:\n",
    "            burst_end_points[i] = burst_start_points[i + 1]\n",
    "\n",
    "    burst_info = pd.DataFrame(columns=['start_time', 'end_time'])\n",
    "\n",
    "    # Sample pings within each burst\n",
    "    sampled_trajectories = []\n",
    "    burst_info = []\n",
    "    for start, end in zip(burst_start_points, burst_end_points):\n",
    "        start_time = traj.iloc[start]['local_timestamp']\n",
    "        end_time = traj.iloc[end]['local_timestamp']\n",
    "        entry = {'start_time': start_time,\n",
    "                 'end_time': end_time}\n",
    "        burst_info.append(entry)\n",
    "\n",
    "        burst_indices = np.arange(start, end)\n",
    "\n",
    "        if len(burst_indices) == 0:\n",
    "            continue\n",
    "\n",
    "        ping_intervals = np.random.exponential(scale=beta_ping, size=len(burst_indices))\n",
    "        ping_times = np.unique(np.cumsum(ping_intervals).astype(int))\n",
    "        ping_times = ping_times[ping_times < (end - start)] + start\n",
    "\n",
    "        if len(ping_times) == 0:\n",
    "            continue\n",
    "\n",
    "        burst_data = traj.iloc[ping_times].copy()\n",
    "        burst_data['first_ping'] = 0\n",
    "        if not burst_data.empty:\n",
    "            burst_data.iloc[0, burst_data.columns.get_loc('first_ping')] = 1\n",
    "\n",
    "        sampled_trajectories.append(burst_data)\n",
    "\n",
    "    if sampled_trajectories:\n",
    "        sampled_traj = pd.concat(sampled_trajectories).sort_values(by='unix_timestamp')\n",
    "    else:  # empty\n",
    "        sampled_traj = pd.DataFrame(columns=list(traj.columns))\n",
    "\n",
    "    burst_info = pd.DataFrame(burst_info)\n",
    "\n",
    "    sampled_traj = sampled_traj.drop_duplicates('local_timestamp')\n",
    "\n",
    "    return sampled_traj, burst_info"
   ]
  },
  {
   "cell_type": "code",
   "execution_count": null,
   "id": "827d1aab-c00a-4d90-89e2-52604c7be0ba",
   "metadata": {
    "tags": []
   },
   "outputs": [],
   "source": [
    "Bob.sparse_traj, burst_info = sample_hier_nhpp(Bob.trajectory, 720, 60, 20, seed=260)\n",
    "\n",
    "fig, ax = plt.subplots(figsize=(10, 0.5))\n",
    "\n",
    "ax.hlines(1, pd.Timestamp('2024-01-01 00:00'), pd.Timestamp('2024-01-07 00:00'), color='gray', linewidth=2)\n",
    "\n",
    "# ax.vlines(burst_info['start_time'], 0.95, 1.05, color='red', linewidth=1.2, alpha=1)\n",
    "\n",
    "# for i, row in burst_info.iterrows():\n",
    "#     ax.fill_betweenx(\n",
    "#         [0.95, 1.05],\n",
    "#         row['start_time'],\n",
    "#         row['end_time'],\n",
    "#         color='lightgrey',\n",
    "#         alpha=0.8,\n",
    "#         zorder=1\n",
    "#     )\n",
    "\n",
    "ax.vlines(Bob.sparse_traj['local_timestamp'], 0.95, 1.05, color='black', linewidth=0.8, alpha=1)\n",
    "\n",
    "ax.set_xlim(pd.Timestamp('2024-01-01 00:00'), pd.Timestamp('2024-01-07 00:00'))\n",
    "ax.xaxis.set_major_formatter(mdates.DateFormatter('%a'))\n",
    "plt.xticks(rotation=0)\n",
    "\n",
    "[spine.set_visible(False) for spine in ax.spines.values()]\n",
    "ax.yaxis.set_visible(False)\n",
    "\n",
    "#ax.set_title(f\"N={len(Thomas.sparse_traj)}\", fontsize=10, pad=10)\n",
    "fig.savefig(\"nhpp-sampling.png\")\n",
    "\n",
    "plt.show()"
   ]
  },
  {
   "cell_type": "code",
   "execution_count": null,
   "id": "4f98e89d",
   "metadata": {
    "tags": []
   },
   "outputs": [],
   "source": [
    "fig, ax = plt.subplots(figsize=(5, 5))\n",
    "city.plot_city(ax, doors=True, address=False, zorder=1)\n",
    "\n",
    "ax.set_yticklabels([])\n",
    "ax.set_xticklabels([])\n",
    "ax.set_xticks([])\n",
    "ax.set_yticks([])\n",
    "\n",
    "ax.plot(Bob.trajectory.x, Bob.trajectory.y, linewidth=1, color='blue', alpha=0.6)\n",
    "#Thomas.plot_traj(ax)\n",
    "\n",
    "plt.savefig(\"garden-city-one-user.png\")"
   ]
  },
  {
   "cell_type": "code",
   "execution_count": null,
   "id": "15292c37-0b18-4ecb-a5a7-7e0783389212",
   "metadata": {
    "tags": []
   },
   "outputs": [],
   "source": [
    "# Animation code\n",
    "\n",
    "fig, ax = plt.subplots(figsize=(6, 6))\n",
    "\n",
    "city.plot_city(ax, doors=True, address=True, zorder=1)\n",
    "\n",
    "ax.set_yticklabels([])\n",
    "ax.set_xticklabels([])\n",
    "ax.set_xticks([])\n",
    "ax.set_yticks([])\n",
    "\n",
    "line, = ax.plot([], [], color='blue', alpha=0.1)\n",
    "scatter = ax.scatter([], [], s=8, color='black', alpha=0.5)\n",
    "time_text = ax.text(0.5, 0.975, '', transform=ax.transAxes)\n",
    "\n",
    "fade_length = 60  # Adjust this to control the length of the fade\n",
    "\n",
    "df = Bob.trajectory[6060:7500]  #[390:1390]\n",
    "\n",
    "\n",
    "def update(i):\n",
    "    if i < fade_length:\n",
    "        current_fade_length = i + 1\n",
    "    else:\n",
    "        current_fade_length = fade_length\n",
    "    alphas = np.array([np.exp(-0.5*x) for x in range(current_fade_length)][::-1])\n",
    "\n",
    "    line.set_data(df['x'].iloc[:i], df['y'].iloc[:i])\n",
    "    scatter.set_offsets(df[['x', 'y']].iloc[:i])\n",
    "    scatter.set_alpha(np.pad(alphas, (i + 1 - current_fade_length, 0), 'constant'))\n",
    "    time_text.set_text(df['local_timestamp'].iloc[i].strftime('%Y-%m-%d %H:%M:%S'))\n",
    "    time_text.set_position((0.38, 0.965))\n",
    "    time_text.set_fontsize(8)\n",
    "    return line, scatter\n",
    "\n",
    "\n",
    "anim = FuncAnimation(fig, update, frames=len(df), interval=50, blit=True)\n",
    "anim.save('anim-epr.gif', writer=PillowWriter(fps=20))\n",
    "plt.close(fig)"
   ]
  },
  {
   "cell_type": "code",
   "execution_count": null,
   "id": "85a66341-35d1-4c84-8d79-5f0182dc59a8",
   "metadata": {
    "tags": []
   },
   "outputs": [],
   "source": [
    "fig, ax = plt.subplots(figsize=(15, 15))\n",
    "population.plot_population(ax, doors=True, address=False)\n",
    "\n",
    "plt.savefig(\"garden-city-two-users.png\")"
   ]
  },
  {
   "cell_type": "code",
   "execution_count": null,
   "id": "b02f8765-e3f1-4443-b0f4-af85ccd60bde",
   "metadata": {
    "tags": []
   },
   "outputs": [],
   "source": [
    "population2 = Population(city)\n",
    "population2.generate_agents(5, seed=100)\n",
    "\n",
    "for i, agent_id in enumerate(population2.roster):\n",
    "    agent = population2.roster[agent_id]\n",
    "    population.generate_trajectory(agent, T=40, seed=100+i)"
   ]
  },
  {
   "cell_type": "code",
   "execution_count": null,
   "id": "fe937a66-4f07-4121-8388-ee4ddd0c1352",
   "metadata": {
    "tags": []
   },
   "outputs": [],
   "source": [
    "population2.roster"
   ]
  },
  {
   "cell_type": "code",
   "execution_count": null,
   "id": "2008935d-b07d-4c49-8db8-20ece7c5f853",
   "metadata": {
    "tags": []
   },
   "outputs": [],
   "source": [
    "fig, ax = plt.subplots(figsize=(15, 15))\n",
    "population2.plot_population(ax, doors=True, address=False)"
   ]
  },
  {
   "cell_type": "markdown",
   "id": "b762f692-41bc-434b-a447-e6bf82abed82",
   "metadata": {},
   "source": [
    "# Demonstration: Clustering Algorithms"
   ]
  },
  {
   "cell_type": "code",
   "execution_count": null,
   "id": "a7705114-0441-49a4-b8f5-b55a72b1f12c",
   "metadata": {
    "tags": []
   },
   "outputs": [],
   "source": [
    "start_time = [datetime(2024, 6, 1, hour=0, minute=0) + timedelta(minutes=60*t) for t in range(5)]\n",
    "unix_timestamp = [int(t.timestamp()) for t in start_time]\n",
    "duration = [60]*5  # in minutes\n",
    "\n",
    "location = ['h-x13-y11'] * 1 + ['w-x15-y9'] * 3 + ['r-x18-y10'] * 1\n",
    "\n",
    "destination = pd.DataFrame(\n",
    "    {\"unix_timestamp\": unix_timestamp, \"local_timestamp\": start_time,\n",
    "     \"duration\": duration, \"location\": location}\n",
    ")\n",
    "destination = tg.condense_destinations(destination)\n",
    "\n",
    "Charlie = Agent(\"Charlie\",\n",
    "                'h-x13-y11',\n",
    "                'w-x15-y9',\n",
    "                city,\n",
    "                destination_diary=destination,\n",
    "                dt=1)\n",
    "\n",
    "population.add_agent(Charlie)\n",
    "population.generate_trajectory(Charlie, seed=75)\n",
    "\n",
    "Charlie.diary"
   ]
  },
  {
   "cell_type": "code",
   "execution_count": null,
   "id": "93d14d7b-00e9-4477-bcec-a521a875e0cd",
   "metadata": {
    "tags": []
   },
   "outputs": [],
   "source": [
    "fig, ax = plt.subplots(figsize=(9, 5))\n",
    "ax.scatter(Charlie.trajectory.x, Charlie.trajectory.y, s=6, color='black', alpha=1, zorder=2)\n",
    "city.plot_city(ax, doors=True, address=False, zorder=1)\n",
    "\n",
    "ax.set_xlim(12, 22)\n",
    "ax.set_ylim(7, 14)\n",
    "ax.set_yticklabels([])\n",
    "ax.set_xticklabels([])\n",
    "ax.set_xticks([])\n",
    "ax.set_yticks([])\n",
    "\n",
    "plt.tight_layout()\n",
    "plt.show()\n",
    "\n",
    "#plt.savefig(\"garden-city-one-user-full.png\")"
   ]
  },
  {
   "cell_type": "code",
   "execution_count": null,
   "id": "33ddfad4-20bc-4d35-b563-4577d92d5b1f",
   "metadata": {
    "tags": []
   },
   "outputs": [],
   "source": [
    "hier_nhpp_params = (90, 45, 3)\n",
    "seed = 40\n",
    "Charlie.sample_traj_hier_nhpp(*hier_nhpp_params, seed=seed)\n",
    "\n",
    "fig, ax = plt.subplots(figsize=(9, 5))\n",
    "ax.scatter(Charlie.sparse_traj.x, Charlie.sparse_traj.y, s=6, color='black', alpha=1, zorder=2)\n",
    "city.plot_city(ax, doors=True, address=False, zorder=1)\n",
    "\n",
    "ax.set_xlim(12, 22)\n",
    "ax.set_ylim(7, 14)\n",
    "ax.set_yticklabels([])\n",
    "ax.set_xticklabels([])\n",
    "ax.set_xticks([])\n",
    "ax.set_yticks([])\n",
    "\n",
    "plt.tight_layout()\n",
    "plt.show()\n",
    "\n",
    "#plt.savefig(\"garden-city-one-user-sparse.png\")"
   ]
  },
  {
   "cell_type": "code",
   "execution_count": null,
   "id": "449578a1-2f27-47fa-860d-e3b5d05d10b5",
   "metadata": {
    "tags": []
   },
   "outputs": [],
   "source": [
    "dbscan_params = [(120, 0.5, 2), (60, 0.5, 3)]\n",
    "hier_nhpp_params = (90, 45, 3)\n",
    "dbscan_out = sd.temporal_dbscan(Charlie.sparse_traj, *dbscan_params[0])\n",
    "\n",
    "fig, ax = plt.subplots(figsize=(9, 5))\n",
    "\n",
    "num_clusters = sum(dbscan_out.cluster.unique() > -1)\n",
    "for cid in range(num_clusters):\n",
    "    cpings = dbscan_out[dbscan_out.cluster == cid]\n",
    "    cdata = Charlie.sparse_traj.loc[cpings.index]\n",
    "    col = cm.tab20c(cid/(num_clusters+1))\n",
    "    ax.scatter(cdata.x, cdata.y, s=80, color=col, alpha=1, zorder=2)\n",
    "\n",
    "ax.scatter(Charlie.sparse_traj.x, Charlie.sparse_traj.y, s=6, color='black', alpha=1, zorder=2)\n",
    "city.plot_city(ax, doors=True, address=False, zorder=1)\n",
    "\n",
    "ax.set_xlim(12, 22)\n",
    "ax.set_ylim(7, 14)\n",
    "ax.set_yticklabels([])\n",
    "ax.set_xticklabels([])\n",
    "ax.set_xticks([])\n",
    "ax.set_yticks([])\n",
    "\n",
    "plt.show()"
   ]
  },
  {
   "cell_type": "code",
   "execution_count": null,
   "id": "effea403-cfb1-40ae-8287-4b4c5dcea565",
   "metadata": {
    "tags": []
   },
   "outputs": [],
   "source": [
    "fig, axes = plt.subplots(2, 2, figsize=(15, 10))\n",
    "dbscan_params = [(240, 2, 2), (60, 0.5, 3)]\n",
    "hier_nhpp_params = [(90, 30, 4), (60, 60, 2)]\n",
    "seed = 60\n",
    "\n",
    "for i in range(2):\n",
    "    for j in range(2):\n",
    "        ax = axes[i, j]\n",
    "        Angela.sample_traj_hier_nhpp(*hier_nhpp_params[j], seed=seed)\n",
    "\n",
    "        dbscan_out = sd.temporal_dbscan(Angela.sparse_traj, *dbscan_params[i])\n",
    "\n",
    "        num_clusters = sum(dbscan_out.cluster.unique() > -1)\n",
    "        for cid in range(num_clusters):\n",
    "            cpings = dbscan_out[dbscan_out.cluster == cid]\n",
    "            cdata = Angela.sparse_traj.loc[cpings.index]\n",
    "            col = cm.tab20c(cid/(num_clusters+1))\n",
    "            ax.scatter(cdata.x, cdata.y, s=80, color=col, alpha=1, zorder=2)\n",
    "\n",
    "        ax.scatter(Angela.sparse_traj.x, Angela.sparse_traj.y, s=6, color='black', alpha=1, zorder=2)\n",
    "        city.plot_city(ax, doors=True, address=False, zorder=1)\n",
    "\n",
    "        ax.set_xlim(12, 22)\n",
    "        ax.set_ylim(7, 14)\n",
    "        ax.set_yticklabels([])\n",
    "        ax.set_xticklabels([])\n",
    "        ax.set_xticks([])\n",
    "        ax.set_yticks([])\n",
    "\n",
    "axes[0, 0].set_ylabel('Coarse', fontsize='x-large')\n",
    "axes[1, 0].set_ylabel('Fine', fontsize='x-large')\n",
    "axes[1, 0].set_xlabel('3 Pings/Hour', fontsize='x-large')\n",
    "axes[1, 1].set_xlabel('12 Pings/Hour', fontsize='x-large')\n",
    "\n",
    "plt.tight_layout()\n",
    "plt.savefig(\"garden-city-stdbscan.png\")\n",
    "plt.show()"
   ]
  },
  {
   "cell_type": "code",
   "execution_count": null,
   "id": "f49c57df-7ae6-4fdd-bbc3-c1b30f23f213",
   "metadata": {
    "tags": []
   },
   "outputs": [],
   "source": [
    "fig, axes = plt.subplots(2, 2, figsize=(15, 10))\n",
    "params = [(10, 120, 3), (10, 60, 2)]\n",
    "hier_nhpp_params = [(90, 30, 4), (60, 60, 2)]\n",
    "seed = 60\n",
    "\n",
    "for i in range(2):\n",
    "    for j in range(2):\n",
    "        ax = axes[i, j]\n",
    "        Angela.sample_traj_hier_nhpp(*hier_nhpp_params[j], seed=seed)\n",
    "\n",
    "        lachesis_out = sd.lachesis_patches(Angela.sparse_traj, *params[i])\n",
    "\n",
    "        for idx, data in enumerate(lachesis_out):\n",
    "            col = cm.tab20c(idx/len(lachesis_out))\n",
    "            ax.scatter(data.x, data.y, s=80, color=col, alpha=1, zorder=2)\n",
    "\n",
    "        ax.scatter(Angela.sparse_traj.x, Angela.sparse_traj.y, s=6, color='black', alpha=1, zorder=2)\n",
    "        city.plot_city(ax, doors=True, address=True, zorder=1)\n",
    "\n",
    "        ax.set_xlim(12, 22)\n",
    "        ax.set_ylim(7, 14)\n",
    "        ax.set_yticklabels([])\n",
    "        ax.set_xticklabels([])\n",
    "        ax.set_xticks([])\n",
    "        ax.set_yticks([])\n",
    "\n",
    "axes[0, 0].set_ylabel('Coarse', fontsize='x-large')\n",
    "axes[1, 0].set_ylabel('Fine', fontsize='x-large')\n",
    "axes[1, 0].set_xlabel('3 Pings/Hour', fontsize='x-large')\n",
    "axes[1, 1].set_xlabel('12 Pings/Hour', fontsize='x-large')\n",
    "\n",
    "plt.tight_layout()\n",
    "plt.savefig(\"garden-city-lachesis.png\")\n",
    "plt.show()"
   ]
  },
  {
   "cell_type": "markdown",
   "id": "eaafa534-36e4-4c3e-9d67-e6c07bc6d387",
   "metadata": {},
   "source": [
    "Animation of pre-sampled trajectory for one users"
   ]
  },
  {
   "cell_type": "code",
   "execution_count": null,
   "id": "e5a7f823-ec5b-473e-a9e4-e44c64d10a81",
   "metadata": {
    "tags": []
   },
   "outputs": [],
   "source": [
    "fig, ax = plt.subplots(figsize=(9, 5))\n",
    "\n",
    "city.plot_city(ax, doors=True, address=True, zorder=1)\n",
    "\n",
    "ax.set_xlim(12, 22)\n",
    "ax.set_ylim(7, 14)\n",
    "ax.set_yticklabels([])\n",
    "ax.set_xticklabels([])\n",
    "ax.set_xticks([])\n",
    "ax.set_yticks([])\n",
    "\n",
    "line, = ax.plot([], [], color='blue', alpha=0.1)\n",
    "scatter = ax.scatter([], [], s=8, color='black', alpha=0.5)\n",
    "time_text = ax.text(0.5, 0.975, '', transform=ax.transAxes)\n",
    "\n",
    "fade_length = 60  # Adjust this to control the length of the fade\n",
    "\n",
    "def update(i):\n",
    "    if i < fade_length:\n",
    "        current_fade_length = i + 1\n",
    "    else:\n",
    "        current_fade_length = fade_length\n",
    "    alphas = np.array([np.exp(-0.5*x) for x in range(current_fade_length)][::-1])\n",
    "\n",
    "    line.set_data(Angela.trajectory['x'][:i], Angela.trajectory['y'][:i])\n",
    "    scatter.set_offsets(Angela.trajectory[['x', 'y']][:i])\n",
    "    scatter.set_alpha(np.pad(alphas, (i + 1 - current_fade_length, 0), 'constant'))\n",
    "    time_text.set_text(Angela.trajectory['local_timestamp'][i].strftime('%Y-%m-%d %H:%M:%S'))\n",
    "    return line, scatter\n",
    "\n",
    "anim = FuncAnimation(fig, update, frames=len(Angela.trajectory), interval=50, blit=True)\n",
    "anim.save('garden-city-traj-animation.gif', writer=PillowWriter(fps=20))\n",
    "plt.close(fig)"
   ]
  },
  {
   "cell_type": "code",
   "execution_count": null,
   "id": "04fa24b9-92db-44c4-9a15-e4dcf7905ff9",
   "metadata": {},
   "outputs": [],
   "source": []
  }
 ],
 "metadata": {
  "kernelspec": {
   "display_name": "Python 3.10 (daphme)",
   "language": "python",
   "name": "daphme"
  },
  "language_info": {
   "codemirror_mode": {
    "name": "ipython",
    "version": 3
   },
   "file_extension": ".py",
   "mimetype": "text/x-python",
   "name": "python",
   "nbconvert_exporter": "python",
   "pygments_lexer": "ipython3",
   "version": "3.10.0"
  }
 },
 "nbformat": 4,
 "nbformat_minor": 5
}

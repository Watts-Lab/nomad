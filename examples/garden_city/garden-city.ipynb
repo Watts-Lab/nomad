{
 "cells": [
  {
   "cell_type": "markdown",
   "id": "3a9578c2-6554-4320-8415-7b1e90f167ac",
   "metadata": {},
   "source": [
    "# Garden city: A synthetic dataset and sandbox environment for analysis of pre-processing algorithms for GPS human mobility data"
   ]
  },
  {
   "cell_type": "code",
   "execution_count": null,
   "id": "20c2bbc9",
   "metadata": {
    "tags": []
   },
   "outputs": [],
   "source": [
    "import sys\n",
    "import os\n",
    "core_dir = os.path.join(os.getcwd(), '../..', 'nomad')\n",
    "core_dir = os.path.normpath(core_dir)\n",
    "sys.path.append(core_dir)\n",
    "\n",
    "import pandas as pd\n",
    "from datetime import datetime, timedelta\n",
    "import numpy as np\n",
    "import matplotlib.pyplot as plt\n",
    "from matplotlib import cm\n",
    "import matplotlib.dates as mdates\n",
    "from matplotlib.animation import FuncAnimation, PillowWriter\n",
    "import numpy.random as npr\n",
    "from shapely.geometry import box\n",
    "from pprint import pprint\n",
    "\n",
    "import city_gen as cg\n",
    "from city_gen import City, Building, Street\n",
    "import traj_gen as tg\n",
    "from traj_gen import Agent, Population\n",
    "import stop_detection as sd\n",
    "from constants import DEFAULT_SPEEDS, FAST_SPEEDS, SLOW_SPEEDS, DEFAULT_STILL_PROBS\n",
    "from constants import FAST_STILL_PROBS, SLOW_STILL_PROBS, ALLOWED_BUILDINGS"
   ]
  },
  {
   "cell_type": "markdown",
   "id": "7fedb635",
   "metadata": {},
   "source": [
    "## Generating an example city"
   ]
  },
  {
   "cell_type": "markdown",
   "id": "e43dbc14",
   "metadata": {},
   "source": [
    "To create a city, begin by initializing a City of the desired dimension. Then successively add Buildings to the city by defining their type, door location, and geometry (either as a bounding box or a list of block coordinates). The final step is to call city.get_street_graph(), which generates the shortest paths between all blocks. As an example, we generate a city in which buildings are arranged in concentric rings, with a park in the center, following a ring of residences (blue), a ring of retail locations (purple), and, finally, an outer ring of workplaces (grey)."
   ]
  },
  {
   "cell_type": "code",
   "execution_count": null,
   "id": "02e0dcab-05d8-47eb-b22d-c7e0528beac8",
   "metadata": {},
   "outputs": [],
   "source": [
    "# Initialize city\n",
    "city = City(dimensions=(22, 22))\n",
    "# add a park\n",
    "city.add_building(building_type='park', door=(13, 11), bbox=box(9, 9, 13, 13))\n",
    "# add a home\n",
    "city.add_building(building_type='home', door=(8, 8), blocks=[(7, 7), (7, 8)])\n",
    "\n",
    "print(\"Attributes for building 'h-x8-y8':\")\n",
    "pprint(city.buildings['h-x8-y8'].__dict__)"
   ]
  },
  {
   "cell_type": "code",
   "execution_count": null,
   "id": "15653e2e",
   "metadata": {
    "tags": []
   },
   "outputs": [],
   "source": [
    "# add remaining homes\n",
    "city.add_building('home', (9, 8), [(8, 7), (9, 7)])\n",
    "city.add_building('home', (10, 8), [(10, 7)])\n",
    "city.add_building('home', (11, 8), [(11, 7)])\n",
    "city.add_building('home', (13, 6), [(13, 7)])\n",
    "city.add_building('home', (14, 6), [(14, 7)])\n",
    "city.add_building('home', (13, 8), [(14, 8)])\n",
    "city.add_building('home', (13, 9), [(14, 9)])\n",
    "city.add_building('home', (13, 11), [(14, 11)])\n",
    "city.add_building('home', (13, 12), [(14, 12)])\n",
    "city.add_building('home', (15, 13), [(14, 13)])\n",
    "city.add_building('home', (13, 13), [(13, 14), (14, 14)])\n",
    "city.add_building('home', (12, 13), [(12, 14)])\n",
    "city.add_building('home', (11, 13), [(11, 14)])\n",
    "city.add_building('home', (9, 13), [(9, 14)])\n",
    "city.add_building('home', (8, 13), [(8, 14)])\n",
    "city.add_building('home', (7, 15), [(7, 14)])\n",
    "city.add_building('home', (6, 13), [(7, 13)])\n",
    "city.add_building('home', (8, 12), [(7, 12)])\n",
    "city.add_building('home', (8, 10), [(7, 10), (7, 9)])\n",
    "\n",
    "# add workplaces\n",
    "city.add_building('work', (3, 4), [(4, 4), (4, 5)])\n",
    "city.add_building('work', (5, 3), [(5, 4), (5, 5)])\n",
    "city.add_building('work', (6, 6), bbox=box(6, 4, 8, 6))\n",
    "city.add_building('work', (8, 6), bbox=box(8, 4, 10, 6))\n",
    "city.add_building('work', (12, 6), bbox=box(11, 5, 14, 6))\n",
    "city.add_building('work', (12, 3), bbox=box(11, 4, 14, 5))\n",
    "city.add_building('work', (15, 3), bbox=box(14, 4, 17, 6))\n",
    "city.add_building('work', (18, 4), bbox=box(17, 4, 18, 6))\n",
    "city.add_building('work', (18, 6), bbox=box(16, 6, 18, 8))\n",
    "city.add_building('work', (15, 9), bbox=box(16, 8, 17, 10))\n",
    "city.add_building('work', (18, 8), bbox=box(17, 8, 18, 10))\n",
    "city.add_building('work', (18, 10), bbox=box(16, 10, 18, 12))\n",
    "city.add_building('work', (18, 13), bbox=box(16, 13, 18, 15))\n",
    "city.add_building('work', (18, 15), bbox=box(16, 15, 18, 16))\n",
    "city.add_building('work', (15, 15), bbox=box(15, 16, 18, 17))\n",
    "city.add_building('work', (14, 15), [(14, 16)])\n",
    "city.add_building('work', (16, 18), bbox=box(16, 17, 18, 18))\n",
    "city.add_building('work', (15, 18), bbox=box(14, 17, 16, 18))\n",
    "city.add_building('work', (13, 18), bbox=box(12, 16, 14, 18))\n",
    "city.add_building('work', (11, 18), bbox=box(10, 17, 12, 18))\n",
    "city.add_building('work', (11, 15), bbox=box(10, 16, 12, 17))\n",
    "city.add_building('work', (8, 18), bbox=box(7, 16, 9, 18))\n",
    "city.add_building('work', (6, 18), bbox=box(5, 17, 7, 18))\n",
    "city.add_building('work', (6, 15), bbox=box(5, 16, 7, 17))\n",
    "city.add_building('work', (3, 16), [(4, 16), (4, 17)])\n",
    "city.add_building('work', (3, 13), bbox=box(4, 13, 6, 16))\n",
    "city.add_building('work', (6, 12), bbox=box(4, 12, 6, 13))\n",
    "city.add_building('work', (3, 10), [(4, 9), (4, 10)])\n",
    "city.add_building('work', (6, 9), [(5, 9), (5, 10)])\n",
    "city.add_building('work', (6, 8), [(4, 8), (5, 8)])\n",
    "city.add_building('work', (3, 6), bbox=box(4, 6, 6, 8))\n",
    "\n",
    "# add retail places\n",
    "city.add_building('retail', (0, 1), bbox=box(1, 1, 3, 3))\n",
    "city.add_building('retail', (3, 0), bbox=box(3, 1, 5, 3))\n",
    "city.add_building('retail', (5, 0), [(5, 1)])\n",
    "city.add_building('retail', (5, 3), [(5, 2)])\n",
    "city.add_building('retail', (6, 0), bbox=box(6, 1, 8, 2))\n",
    "city.add_building('retail', (6, 3), bbox=box(6, 2, 8, 3))\n",
    "city.add_building('retail', (9, 3), bbox=box(9, 1, 10, 3))\n",
    "city.add_building('retail', (12, 3), bbox=box(10, 1, 13, 3))\n",
    "city.add_building('retail', (14, 3), bbox=box(13, 1, 15, 3))\n",
    "city.add_building('retail', (15, 3), [(15, 2)])\n",
    "city.add_building('retail', (16, 3), [(16, 2)])\n",
    "city.add_building('retail', (15, 0), [(15, 1)])\n",
    "city.add_building('retail', (16, 0), [(16, 1)])\n",
    "city.add_building('retail', (17, 3), bbox=box(17, 2, 19, 3))\n",
    "city.add_building('retail', (18, 0), bbox=box(17, 1, 19, 2))\n",
    "city.add_building('retail', (19, 0), bbox=box(19, 1, 21, 2))\n",
    "city.add_building('retail', (18, 3), bbox=box(19, 2, 21, 4))\n",
    "city.add_building('retail', (18, 5), bbox=box(19, 4, 21, 6))\n",
    "city.add_building('retail', (18, 7), bbox=box(19, 6, 20, 8))\n",
    "city.add_building('retail', (21, 7), bbox=box(20, 6, 21, 8))\n",
    "city.add_building('retail', (18, 10), bbox=box(19, 9, 21, 11))\n",
    "city.add_building('retail', (18, 11), bbox=box(19, 11, 21, 13))\n",
    "city.add_building('retail', (18, 13), bbox=box(19, 13, 20, 15))\n",
    "city.add_building('retail', (21, 13), bbox=box(20, 13, 21, 15))\n",
    "city.add_building('retail', (21, 16), bbox=box(19, 15, 21, 17))\n",
    "city.add_building('retail', (21, 18), bbox=box(19, 17, 21, 19))\n",
    "\n",
    "city.add_building('retail', (21, 19), bbox=box(19, 19, 21, 20))\n",
    "city.add_building('retail', (20, 21), bbox=box(19, 20, 21, 21))\n",
    "city.add_building('retail', (17, 18), bbox=box(17, 19, 18, 21))\n",
    "city.add_building('retail', (16, 18), bbox=box(16, 19, 17, 21))\n",
    "city.add_building('retail', (14, 18), bbox=box(13, 19, 16, 20))\n",
    "city.add_building('retail', (15, 21), bbox=box(14, 20, 16, 21))\n",
    "city.add_building('retail', (13, 21), bbox=box(12, 20, 14, 21))\n",
    "city.add_building('retail', (12, 18), bbox=box(12, 19, 13, 20))\n",
    "city.add_building('retail', (11, 18), bbox=box(10, 19, 12, 21))\n",
    "city.add_building('retail', (9, 18), bbox=box(8, 19, 10, 20))\n",
    "city.add_building('retail', (9, 21), bbox=box(8, 20, 10, 21))\n",
    "city.add_building('retail', (6, 21), bbox=box(5, 19, 7, 21))\n",
    "city.add_building('retail', (4, 21), bbox=box(3, 20, 5, 21))\n",
    "city.add_building('retail', (4, 18), bbox=box(3, 19, 5, 20))\n",
    "city.add_building('retail', (2, 18), bbox=box(2, 19, 3, 21))\n",
    "city.add_building('retail', (1, 18), bbox=box(1, 19, 2, 21))\n",
    "city.add_building('retail', (3, 17), bbox=box(1, 16, 3, 18))\n",
    "city.add_building('retail', (3, 15), bbox=box(1, 15, 3, 16))\n",
    "city.add_building('retail', (3, 14), bbox=box(1, 14, 3, 15))\n",
    "city.add_building('retail', (3, 12), bbox=box(1, 12, 3, 14))\n",
    "city.add_building('retail', (3, 11), bbox=box(1, 11, 3, 12))\n",
    "city.add_building('retail', (3, 10), bbox=box(1, 10, 3, 11))\n",
    "city.add_building('retail', (3, 8), bbox=box(1, 8, 3, 10))\n",
    "city.add_building('retail', (3, 7), bbox=box(1, 7, 3, 8))\n",
    "city.add_building('retail', (0, 5), bbox=box(1, 4, 2, 7))\n",
    "city.add_building('retail', (3, 6), [(2, 6)])\n",
    "city.add_building('retail', (3, 5), [(2, 5)])\n",
    "city.add_building('retail', (3, 4), [(2, 4)])\n",
    "\n",
    "city.get_street_graph() #\n",
    "# get_street_graph can be expensive so persisting is recommended\n",
    "city.save('garden-city.pkl')"
   ]
  },
  {
   "cell_type": "markdown",
   "id": "9b055556",
   "metadata": {},
   "source": [
    "In future experiments, we can simply load the city pkl file. "
   ]
  },
  {
   "cell_type": "code",
   "execution_count": null,
   "id": "453c0376-cada-4b09-8163-207914cbfe1a",
   "metadata": {
    "tags": []
   },
   "outputs": [],
   "source": [
    "city = cg.load('garden-city.pkl')"
   ]
  },
  {
   "cell_type": "markdown",
   "id": "3622b389-0583-4dcd-a62a-6f5d25841db4",
   "metadata": {},
   "source": [
    "### Plotting the city"
   ]
  },
  {
   "cell_type": "markdown",
   "id": "ee0bb351",
   "metadata": {},
   "source": [
    "To visualize the city, we can call the method plot_city() of Class City"
   ]
  },
  {
   "cell_type": "code",
   "execution_count": null,
   "id": "2823a0b7",
   "metadata": {
    "tags": []
   },
   "outputs": [],
   "source": [
    "%matplotlib inline\n",
    "\n",
    "fig, ax = plt.subplots(figsize=(6, 6))\n",
    "plt.box(on=False)\n",
    "\n",
    "city.plot_city(ax, doors=True, address=False)\n",
    "\n",
    "ax.set_yticklabels([])\n",
    "ax.set_xticklabels([])\n",
    "ax.set_xticks([])\n",
    "ax.set_yticks([])\n",
    "\n",
    "plt.show()\n",
    "plt.savefig('gc_empty.png')"
   ]
  },
  {
   "cell_type": "markdown",
   "id": "d581293b",
   "metadata": {
    "tags": []
   },
   "source": [
    "## Agents and trajectories"
   ]
  },
  {
   "cell_type": "markdown",
   "id": "c824809d",
   "metadata": {},
   "source": [
    "Agents are tied to a specific City instance, and are represented by the Agent class, which contains a work and home location, as well as a 'mobility diary' that is used to generate granular trajectories. When instantiating an agent, their mobility diary can be initialized in two ways:\n",
    "1. With a user-provided destination diary.\n",
    "2. Without a diary and then a diary is generated with the EPR model.\n",
    "\n",
    "These destination diaries are later replaced by a realized mobility diary that takes into account the travel time between buildings and, thus, should be regarded as a mobility plan. "
   ]
  },
  {
   "cell_type": "markdown",
   "id": "eb8d111e-0e6a-4a2d-9ee9-1cec52fc90d9",
   "metadata": {},
   "source": [
    "### User-provided diary initialization"
   ]
  },
  {
   "cell_type": "markdown",
   "id": "0e4e8847-fc64-478d-ac0b-e9e4f5b0c81f",
   "metadata": {},
   "source": [
    "Initializing in this way simply requires passing a DataFrame object with appropriate diary columns to the Agent constructor. "
   ]
  },
  {
   "cell_type": "code",
   "execution_count": null,
   "id": "8aeba544",
   "metadata": {},
   "outputs": [],
   "source": [
    "# Instantiate population to collect all agents\n",
    "population = Population(city)"
   ]
  },
  {
   "cell_type": "code",
   "execution_count": null,
   "id": "9bcebed4",
   "metadata": {
    "tags": []
   },
   "outputs": [],
   "source": [
    "# Initialization with custom diary\n",
    "start_time = [datetime(2000, 1, 1, hour=0, minute=0) + timedelta(minutes=15*t) for t in range(22)]\n",
    "unix_timestamp = [int(t.timestamp()) for t in start_time]\n",
    "duration = [15]*22  # in minutes\n",
    "location = ['h-x8-y13'] * 2 + ['r-x12-y3'] * 4 + ['w-x15-y15'] * 12 + ['h-x8-y13'] * 4\n",
    "\n",
    "d_diary = pd.DataFrame({\"unix_timestamp\":unix_timestamp,\n",
    "                            \"local_timestamp\":start_time,\n",
    "                            \"duration\":duration,\n",
    "                            \"location\":location})\n",
    "\n",
    "d_diary = tg.condense_destinations(d_diary)\n",
    "\n",
    "Alice = Agent(identifier=\"Alice\",\n",
    "              home='h-x8-y13',\n",
    "              workplace='w-x15-y15',\n",
    "              city=city,\n",
    "              destination_diary=d_diary)\n",
    "\n",
    "population.add_agent(Alice)\n",
    "population.generate_trajectory(agent=Alice, seed=100)\n",
    "\n",
    "print(Alice.diary.head())"
   ]
  },
  {
   "cell_type": "markdown",
   "id": "47c7e133-c860-4b34-a40b-a2cb7f1e8c9f",
   "metadata": {},
   "source": [
    "The helper function `condense_destinations` simply combines consecutive stops to the same destination. After generating a trajectory with `generate_trajectory` we can see that there are entries with a value of None in the diary, while the destination diary provided was 'complete', this is because the destination diary specifies the building the agent has _planned_ to visit at a given time, but the diary has the information of where the agent's _realized_ location, taking into consideration the travel time between buildings. "
   ]
  },
  {
   "cell_type": "code",
   "execution_count": null,
   "id": "84900283-e166-45b2-9923-b3d98fdcf66a",
   "metadata": {},
   "outputs": [],
   "source": [
    "Alice.__dict__"
   ]
  },
  {
   "cell_type": "markdown",
   "id": "1ba30f0c-9666-4cf6-9217-6e1958f76bf6",
   "metadata": {},
   "source": [
    "### Diary generation with EPR model"
   ]
  },
  {
   "cell_type": "markdown",
   "id": "39f4fa27-5e0e-4b2e-8c98-20172530986a",
   "metadata": {},
   "source": [
    "If no diary is provided, agents are initialized with an empty diary. When calling `Population.generate_trajectory`, the destination diary is generated and then a granular trajectory is sampled from it. Unlike the case with a user-provided diary, this option requires specifying the duration of the trajectory, with a parameter `T` specifying the ending datetime, while the start_time is provided when creating the Agent. "
   ]
  },
  {
   "cell_type": "markdown",
   "id": "e7e4a458",
   "metadata": {},
   "source": [
    "The following agent, Bob, is given home `h-x8-y8` and workplace `w-x18-y4`. We generate a trajectory for Bob that lasts a week from midnight January 1, 2024 to midnight Janurary 8, 2024."
   ]
  },
  {
   "cell_type": "code",
   "execution_count": null,
   "id": "fa0c4345-d3a8-45ed-a65e-389eeb9b6e13",
   "metadata": {
    "tags": []
   },
   "outputs": [],
   "source": [
    "# Initialization and diary generation\n",
    "Bob = Agent(identifier=\"Bob\",\n",
    "            home='h-x8-y8',\n",
    "            workplace='w-x18-y4',\n",
    "            city=city,\n",
    "            start_time=datetime(2024, 1, 1, hour=0, minute=0))\n",
    "\n",
    "population.add_agent(Bob)\n",
    "population.generate_trajectory(Bob, \n",
    "                               T=datetime(2024, 1, 8, hour=0, minute=0))\n",
    "\n",
    "print(Bob.diary.head())"
   ]
  },
  {
   "cell_type": "code",
   "execution_count": null,
   "id": "4f98e89d",
   "metadata": {
    "tags": []
   },
   "outputs": [],
   "source": [
    "fig, ax = plt.subplots(figsize=(5, 5))\n",
    "city.plot_city(ax, doors=True, address=False, zorder=1)\n",
    "\n",
    "ax.set_yticklabels([])\n",
    "ax.set_xticklabels([])\n",
    "ax.set_xticks([])\n",
    "ax.set_yticks([])\n",
    "\n",
    "ax.plot(Bob.trajectory.x, Bob.trajectory.y, linewidth=1, color='blue', alpha=0.6)\n",
    "\n",
    "plt.savefig(\"garden-city-one-user.png\")"
   ]
  },
  {
   "cell_type": "markdown",
   "id": "1a623451",
   "metadata": {},
   "source": [
    "The following code produces an animation of Bob's movement. We limit the animation to the 24 hours between midnight January 4 to midnight January 5 for speed and tractability of the output."
   ]
  },
  {
   "cell_type": "code",
   "execution_count": null,
   "id": "15292c37-0b18-4ecb-a5a7-7e0783389212",
   "metadata": {
    "tags": []
   },
   "outputs": [],
   "source": [
    "fig, ax = plt.subplots(figsize=(6, 6))\n",
    "\n",
    "city.plot_city(ax, doors=True, address=False, zorder=1)\n",
    "\n",
    "ax.set_yticklabels([])\n",
    "ax.set_xticklabels([])\n",
    "ax.set_xticks([])\n",
    "ax.set_yticks([])\n",
    "\n",
    "line, = ax.plot([], [], color='blue', alpha=0.1)\n",
    "scatter = ax.scatter([], [], s=8, color='black', alpha=0.5)\n",
    "time_text = ax.text(0.5, 0.975, '', transform=ax.transAxes)\n",
    "\n",
    "fade_length = 60  # Adjust this to control the length of the fade\n",
    "\n",
    "df = Bob.trajectory[5760:7200]  # 0:00 Jan 4 – 0:00 Jan 5\n",
    "\n",
    "def update(i):\n",
    "    if i < fade_length:\n",
    "        current_fade_length = i + 1\n",
    "    else:\n",
    "        current_fade_length = fade_length\n",
    "    alphas = np.array([np.exp(-0.5*x) for x in range(current_fade_length)][::-1])\n",
    "\n",
    "    line.set_data(df['x'].iloc[:i], df['y'].iloc[:i])\n",
    "    scatter.set_offsets(df[['x', 'y']].iloc[:i])\n",
    "    scatter.set_alpha(np.pad(alphas, (i + 1 - current_fade_length, 0), 'constant'))\n",
    "    time_text.set_text(df['local_timestamp'].iloc[i].strftime('%Y-%m-%d %H:%M:%S'))\n",
    "    time_text.set_position((0.38, 0.965))\n",
    "    time_text.set_fontsize(8)\n",
    "    return line, scatter\n",
    "\n",
    "\n",
    "anim = FuncAnimation(fig, update, frames=len(df), interval=50, blit=True)\n",
    "anim.save('anim-epr.gif', writer=PillowWriter(fps=20))\n",
    "plt.close(fig)"
   ]
  },
  {
   "cell_type": "markdown",
   "id": "453340bd",
   "metadata": {},
   "source": [
    "## Sparsifying a complete trajectory"
   ]
  },
  {
   "cell_type": "markdown",
   "id": "c4c54bdc",
   "metadata": {},
   "source": [
    "From a complete, ground-truth trajectory (see previous section), a sparsifed trajectory can be sampled via a hierarchical non-homogeneous Poisson process. This sampler seeks to recreate realistic sparsity patterns that are both incomplete and \"bursty\"—replicating the observation that there are often long periods of inactivity interspersed with short periods with frequent pings.\n",
    "\n",
    "The sampling function `Agent.sample_traj_hier_nhpp` is controlled by three parameters: \n",
    "* `beta_start`: the start times of bursts occur according to a Poisson Process with rate 1/`beta_start`\n",
    "* `beta_dur`: the duration of bursts are sampled from a Exponential distribution with rate 1/`beta_dur`\n",
    "* `beta_ping`: within a burst, pings are sampled according to a Poisson Process with rate 1/`beta_ping`\n",
    "\n",
    "These parameters can be interpreted as follows: A burst is expected every `beta_start` minutes and lasts an expected `beta_dur` minutes. Within the burst, a ping is expected to be sampled every `beta_ping` minutes."
   ]
  },
  {
   "cell_type": "markdown",
   "id": "6762969b",
   "metadata": {},
   "source": [
    "In the example below, we sample from Bob's complete trajectory with the following parameters: `beta_start`=720, `beta_dur`=60, and `beta_ping`=20."
   ]
  },
  {
   "cell_type": "code",
   "execution_count": null,
   "id": "1c384342",
   "metadata": {},
   "outputs": [],
   "source": [
    "hier_nhpp_params = (300, 60, 15)\n",
    "seed = 40\n",
    "Bob.sample_traj_hier_nhpp(*hier_nhpp_params, seed=seed)\n",
    "print(Bob.sparse_traj)"
   ]
  },
  {
   "cell_type": "markdown",
   "id": "f317741f",
   "metadata": {},
   "source": [
    "The following code produces a chart that visualizes the distribution of the sparsified pings."
   ]
  },
  {
   "cell_type": "code",
   "execution_count": null,
   "id": "827d1aab-c00a-4d90-89e2-52604c7be0ba",
   "metadata": {
    "tags": []
   },
   "outputs": [],
   "source": [
    "fig, ax = plt.subplots(figsize=(10, 0.5))\n",
    "\n",
    "ax.hlines(1, pd.Timestamp('2024-01-01 00:00'), pd.Timestamp('2024-01-08 00:00'), color='gray', linewidth=2)\n",
    "\n",
    "ax.vlines(Bob.sparse_traj['local_timestamp'], 0.95, 1.05, color='black', linewidth=0.8, alpha=1)\n",
    "\n",
    "ax.set_xlim(pd.Timestamp('2024-01-01 00:00'), pd.Timestamp('2024-01-08 00:00'))\n",
    "ax.xaxis.set_major_formatter(mdates.DateFormatter('%a'))\n",
    "plt.xticks(rotation=0)\n",
    "\n",
    "[spine.set_visible(False) for spine in ax.spines.values()]\n",
    "ax.yaxis.set_visible(False)\n",
    "\n",
    "fig.savefig(\"nhpp-sampling.png\")\n",
    "\n",
    "plt.show()"
   ]
  },
  {
   "cell_type": "markdown",
   "id": "253a3087",
   "metadata": {},
   "source": [
    "# Generating multiple agents"
   ]
  },
  {
   "cell_type": "markdown",
   "id": "844326ff",
   "metadata": {},
   "source": [
    "A population may contain any number of agents, which can be initialized en masse using the `Population.generate_agents` method. Each agent is assigned a randomly name as well as a uniformly sampled home and workplace. The `start_time` parameter indicates the time at which the agents start their trajectories.\n",
    "\n",
    "Agent trajectories can be generated by looping over each agent and running the `Population.generate_trajectory` function as explained above. Note: if using a seed, make sure that each agent's seed is different to avoid all agents having the same trajectory."
   ]
  },
  {
   "cell_type": "code",
   "execution_count": null,
   "id": "b02f8765-e3f1-4443-b0f4-af85ccd60bde",
   "metadata": {
    "tags": []
   },
   "outputs": [],
   "source": [
    "population2 = Population(city)\n",
    "population2.generate_agents(N = 5,\n",
    "                            start_time = datetime(2024, 1, 1, hour=8, minute=0),\n",
    "                            seed=100)\n",
    "\n",
    "for i, agent_id in enumerate(population2.roster):\n",
    "    agent = population2.roster[agent_id]\n",
    "    population.generate_trajectory(agent, \n",
    "                                   T=datetime(2024, 1, 8, hour=0, minute=0),\n",
    "                                   seed=100+i)\n",
    "    agent.sample_traj_hier_nhpp(*hier_nhpp_params, seed=seed+i)\n",
    "    \n",
    "population2.roster"
   ]
  },
  {
   "cell_type": "markdown",
   "id": "972e9dbe",
   "metadata": {},
   "source": [
    "Any individual agent can be accessed by calling their id through the `Population.roster` dictionary. "
   ]
  },
  {
   "cell_type": "code",
   "execution_count": null,
   "id": "844b8402",
   "metadata": {},
   "outputs": [],
   "source": [
    "nifty_saha = population2.roster['nifty_saha']\n",
    "print(nifty_saha.diary)\n",
    "print(nifty_saha.trajectory)\n",
    "print(nifty_saha.sparse_traj)"
   ]
  },
  {
   "cell_type": "markdown",
   "id": "b762f692-41bc-434b-a447-e6bf82abed82",
   "metadata": {},
   "source": [
    "# Demonstration: Clustering Algorithms"
   ]
  },
  {
   "cell_type": "markdown",
   "id": "ceef75f8",
   "metadata": {},
   "source": [
    "To demonstrate one use case of our model, we explore how differing degrees of sparsity can affect the performance of stop detection algorithms like DBSCAN. We first initialize an agent (Charlie) and generate a complete trajectory. In what proceeds, we manually initialize Charlie's destination diary as consecutive 1-hour visits to two homes followed by a 3-hour visit at a larger retail building. A more extended simulation can (and should) leverage the exploration and preferential return generation model. For this toy example, however, we present an artificial example for simplicity."
   ]
  },
  {
   "cell_type": "code",
   "execution_count": null,
   "id": "a7705114-0441-49a4-b8f5-b55a72b1f12c",
   "metadata": {
    "tags": []
   },
   "outputs": [],
   "source": [
    "start_time = [datetime(2024, 6, 1, hour=0, minute=0) + timedelta(minutes=60*t) for t in range(5)]\n",
    "unix_timestamp = [int(t.timestamp()) for t in start_time]\n",
    "duration = [60]*5  # in minutes\n",
    "\n",
    "location = ['h-x13-y11'] * 1 + ['h-x13-y9'] * 1 + ['r-x18-y10'] * 3\n",
    "\n",
    "destination = pd.DataFrame(\n",
    "    {\"unix_timestamp\": unix_timestamp, \"local_timestamp\": start_time,\n",
    "     \"duration\": duration, \"location\": location}\n",
    ")\n",
    "destination = tg.condense_destinations(destination)\n",
    "\n",
    "Charlie = Agent(\"Charlie\",\n",
    "                'h-x13-y11',\n",
    "                'w-x15-y9',\n",
    "                city,\n",
    "                destination_diary=destination,\n",
    "                dt=1)\n",
    "\n",
    "population.add_agent(Charlie)\n",
    "population.generate_trajectory(Charlie, seed=75)\n",
    "\n",
    "Charlie.diary"
   ]
  },
  {
   "cell_type": "markdown",
   "id": "4f78f66d",
   "metadata": {},
   "source": [
    "Charlie's ground-truth trajectory is plotted below."
   ]
  },
  {
   "cell_type": "code",
   "execution_count": null,
   "id": "93d14d7b-00e9-4477-bcec-a521a875e0cd",
   "metadata": {
    "tags": []
   },
   "outputs": [],
   "source": [
    "fig, ax = plt.subplots(figsize=(9, 5))\n",
    "ax.scatter(Charlie.trajectory.x, Charlie.trajectory.y, s=6, color='black', alpha=1, zorder=2)\n",
    "city.plot_city(ax, doors=True, address=False, zorder=1)\n",
    "\n",
    "ax.plot(Charlie.trajectory.x, Charlie.trajectory.y, linewidth=1, color='blue', alpha=0.2)\n",
    "\n",
    "ax.set_xlim(12, 22)\n",
    "ax.set_ylim(7, 14)\n",
    "ax.set_yticklabels([])\n",
    "ax.set_xticklabels([])\n",
    "ax.set_xticks([])\n",
    "ax.set_yticks([])\n",
    "\n",
    "plt.tight_layout()\n",
    "plt.show()\n",
    "\n",
    "plt.savefig(\"garden-city-zoomed.png\")"
   ]
  },
  {
   "cell_type": "markdown",
   "id": "29c4225e",
   "metadata": {},
   "source": [
    "We sample Charlie's ground-truth trajectory at two levels of sparsity. \n",
    "* The higher sparsity sample uses parameters `beta_start`=120, `beta_dur`=30, and `beta_ping`=5. \n",
    "* The lower sparsity sample uses parameters `beta_start`=60, `beta_dur`=45, and `beta_ping`=2. "
   ]
  },
  {
   "cell_type": "code",
   "execution_count": null,
   "id": "33ddfad4-20bc-4d35-b563-4577d92d5b1f",
   "metadata": {
    "tags": []
   },
   "outputs": [],
   "source": [
    "fig, axes = plt.subplots(1, 2, figsize=(11, 4))\n",
    "hier_nhpp_params = [(120, 30, 5), (60, 45, 2)]\n",
    "seed = 375\n",
    "\n",
    "for j in range(2):\n",
    "    ax = axes[j]\n",
    "    Charlie.sample_traj_hier_nhpp(*hier_nhpp_params[j], seed=seed)\n",
    "\n",
    "    ax.scatter(Charlie.sparse_traj.x, Charlie.sparse_traj.y, s=6, color='black', alpha=1, zorder=2)\n",
    "    city.plot_city(ax, doors=True, address=False, zorder=1)\n",
    "\n",
    "    ax.set_xlim(12, 22)\n",
    "    ax.set_ylim(7, 14)\n",
    "    ax.set_yticklabels([])\n",
    "    ax.set_xticklabels([])\n",
    "    ax.set_xticks([])\n",
    "    ax.set_yticks([])\n",
    "\n",
    "axes[0].set_xlabel('Higher Sparsity', fontsize='x-large')\n",
    "axes[1].set_xlabel('Lower Sparsity ', fontsize='x-large')\n",
    "\n",
    "plt.tight_layout()\n",
    "plt.savefig(\"garden-city-sparse.png\")\n",
    "plt.show()"
   ]
  },
  {
   "cell_type": "markdown",
   "id": "02372afa",
   "metadata": {},
   "source": [
    "We are interested in how the sparsity of the trajectory and parameterization of stop detection algorithms interact. Here, we use a temporal version of DBSCAN to cluster pings into stops. DBSCAN takes three parameters: `time_thresh`, `dist_thresh`, and `min_pts`. Roughly, a point is considered part of a dense cluster if it has at least `min_pts` neighboring points within a distance `dist_thresh` and time gap `time_thresh`; otherwise, it is labeled as noise. \n",
    "\n",
    "We explore a fine and a coarse parameterization of DBSCAN and apply each to the higher and lower sparsity trajectories."
   ]
  },
  {
   "cell_type": "code",
   "execution_count": null,
   "id": "effea403-cfb1-40ae-8287-4b4c5dcea565",
   "metadata": {
    "tags": []
   },
   "outputs": [],
   "source": [
    "fig, axes = plt.subplots(2, 2, figsize=(9, 6))\n",
    "dbscan_params = [(150, 1.5, 2), (60, 0.75, 4)]\n",
    "\n",
    "for i in range(2):\n",
    "    for j in range(2):\n",
    "        ax = axes[i, j]\n",
    "        Charlie.sample_traj_hier_nhpp(*hier_nhpp_params[j], seed=seed)\n",
    "\n",
    "        dbscan_out = sd.temporal_dbscan(Charlie.sparse_traj, *dbscan_params[i])\n",
    "\n",
    "        num_clusters = sum(dbscan_out.cluster.unique() > -1)\n",
    "        for cid in range(num_clusters):\n",
    "            cpings = dbscan_out[dbscan_out.cluster == cid]\n",
    "            cdata = Charlie.sparse_traj.loc[cpings.index]\n",
    "            col = cm.tab20c(cid/(num_clusters+1))\n",
    "            ax.scatter(cdata.x, cdata.y, s=80, color=col, alpha=1, zorder=2)\n",
    "\n",
    "        ax.scatter(Charlie.sparse_traj.x, Charlie.sparse_traj.y, s=6, color='black', alpha=1, zorder=2)\n",
    "        city.plot_city(ax, doors=True, address=False, zorder=1)\n",
    "\n",
    "        ax.set_xlim(12, 22)\n",
    "        ax.set_ylim(7, 14)\n",
    "        ax.set_yticklabels([])\n",
    "        ax.set_xticklabels([])\n",
    "        ax.set_xticks([])\n",
    "        ax.set_yticks([])\n",
    "\n",
    "axes[0, 0].set_ylabel('Coarse', fontsize='x-large')\n",
    "axes[1, 0].set_ylabel('Fine', fontsize='x-large')\n",
    "axes[1, 0].set_xlabel('Higher Sparsity', fontsize='x-large')\n",
    "axes[1, 1].set_xlabel('Lower Sparsity', fontsize='x-large')\n",
    "\n",
    "plt.tight_layout()\n",
    "plt.savefig(\"garden-city-stdbscan.png\")\n",
    "plt.show()"
   ]
  }
 ],
 "metadata": {
  "kernelspec": {
   "display_name": "Python 3.10 (daphme)",
   "language": "python",
   "name": "daphme"
  },
  "language_info": {
   "codemirror_mode": {
    "name": "ipython",
    "version": 3
   },
   "file_extension": ".py",
   "mimetype": "text/x-python",
   "name": "python",
   "nbconvert_exporter": "python",
   "pygments_lexer": "ipython3",
   "version": "3.10.0"
  }
 },
 "nbformat": 4,
 "nbformat_minor": 5
}

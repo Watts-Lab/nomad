{
 "cells": [
  {
   "cell_type": "code",
   "execution_count": 1,
   "id": "2803ed07",
   "metadata": {},
   "outputs": [],
   "source": [
    "%reload_ext autoreload\n",
    "%autoreload"
   ]
  },
  {
   "cell_type": "code",
   "execution_count": 2,
   "id": "3d2fb0ef-73cc-4592-8ce5-9ad5f3027e45",
   "metadata": {},
   "outputs": [],
   "source": [
    "import pandas as pd\n",
    "import geopandas as gpd\n",
    "import shapely\n",
    "import nomad.io.base as loader\n",
    "import numpy as np\n",
    "from functools import partial\n",
    "from tqdm import tqdm\n",
    "\n",
    "import matplotlib.pyplot as plt\n",
    "import matplotlib.colors as mcolors\n",
    "\n",
    "import nomad.stop_detection.utils as utils\n",
    "import nomad.stop_detection.hdbscan as HDBSCAN\n",
    "import nomad.stop_detection.lachesis as LACHESIS\n",
    "import nomad.stop_detection.ta_dbscan as TADBSCAN\n",
    "import nomad.stop_detection.grid_based as GRID_BASED # for oracle visits\n",
    "import nomad.visit_attribution as visits\n",
    "import nomad.filters as filters\n",
    "import nomad.city_gen as cg\n",
    "\n",
    "from nomad.contact_estimation import overlapping_visits, compute_visitation_errors, compute_precision_recall_f1"
   ]
  },
  {
   "cell_type": "code",
   "execution_count": 3,
   "id": "438ef1de-eb99-4edd-b53b-c5becd0f2c0c",
   "metadata": {},
   "outputs": [],
   "source": [
    "# create building size categories and dwell classifier function\n",
    "city = cg.load('../garden-city.pkl')\n",
    "\n",
    "def classify_dwell(duration): # depends on the diary\n",
    "    if duration <= 45:\n",
    "        return 'low'\n",
    "    elif 45 < duration <= 120:\n",
    "        return 'mid'\n",
    "    else:\n",
    "        return 'high'\n",
    "        \n",
    "def size_classifier(n):\n",
    "    if n == 1:\n",
    "        return 'small'\n",
    "    elif 2 <= n <= 3:\n",
    "        return 'medium'\n",
    "    else:\n",
    "        return 'big'\n",
    "\n",
    "n_blocks = pd.Series({building_id:len(build.blocks) for building_id, build in city.buildings.items()})\n",
    "building_size = n_blocks.apply(size_classifier)\n",
    "building_size.name = 'building_size'"
   ]
  },
  {
   "cell_type": "code",
   "execution_count": 4,
   "id": "139c3d06-7bc1-4669-a2bf-f04d8b3bd6e5",
   "metadata": {},
   "outputs": [],
   "source": [
    "traj_cols = {'user_id':'uid',\n",
    "             'x':'x',\n",
    "             'y':'y',\n",
    "             'timestamp':'timestamp'}\n",
    "poi_table = gpd.read_file('../garden_city.gpkg').join(building_size, on='building_id')\n",
    "poi_table = poi_table.rename({'type':'building_type'}, axis=1) # annoying\n",
    "\n",
    "diaries_df = loader.from_file(\"../../nomad/data/diaries\", format=\"parquet\", traj_cols=traj_cols)\n",
    "diaries_df = diaries_df.rename({'location':'building_id'}, axis=1) # annoying\n",
    "diaries_df = diaries_df.merge(poi_table[['building_id', 'building_size']], on='building_id')\n",
    "diaries_df = diaries_df.merge(poi_table[['building_id', 'building_type']], on='building_id')\n",
    "diaries_df['dwell_length'] = diaries_df['duration'].apply(classify_dwell)\n",
    "\n",
    "sparse_df = loader.from_file(\"../../nomad/data/sparse_traj/\", format=\"parquet\", traj_cols=traj_cols,)"
   ]
  },
  {
   "cell_type": "markdown",
   "id": "eac0bbd9-4ed4-4d61-8b38-9c5bb59d443b",
   "metadata": {},
   "source": [
    "## Analyze completeness"
   ]
  },
  {
   "cell_type": "code",
   "execution_count": 5,
   "id": "22f51807",
   "metadata": {},
   "outputs": [],
   "source": [
    "completeness_df = filters.q_stats(sparse_df, traj_cols=traj_cols)"
   ]
  },
  {
   "cell_type": "code",
   "execution_count": 6,
   "id": "ea573424",
   "metadata": {},
   "outputs": [
    {
     "data": {
      "image/png": "[encoded data removed]",
      "text/plain": [
       "<Figure size 300x300 with 1 Axes>"
      ]
     },
     "metadata": {},
     "output_type": "display_data"
    }
   ],
   "source": [
    "plt.figure(figsize=(3,3))\n",
    "completeness_df.boxplot(column=\"q_stat\")\n",
    "plt.grid(True)\n",
    "plt.tight_layout()\n",
    "\n",
    "plt.show()"
   ]
  },
  {
   "cell_type": "markdown",
   "id": "77ae7252-a50e-430f-aaee-f47425e1a74a",
   "metadata": {},
   "source": [
    "## Execution for all users"
   ]
  },
  {
   "cell_type": "code",
   "execution_count": 7,
   "id": "80ec535c-42c2-45c8-84d4-9eb70a76007e",
   "metadata": {},
   "outputs": [],
   "source": [
    "traj_cols = {'user_id':'uid',\n",
    "             'x':'x',\n",
    "             'y':'y',\n",
    "             'timestamp':'timestamp'}\n",
    "summarize_stops_with_loc = partial(utils.summarize_stop, x='x', y='y', keep_col_names=False, passthrough_cols = ['building_id']) # < function(grouped_data)"
   ]
  },
  {
   "cell_type": "code",
   "execution_count": null,
   "id": "37410cd6-9b14-43ec-838c-a4366059f791",
   "metadata": {},
   "outputs": [
    {
     "name": "stderr",
     "output_type": "stream",
     "text": [
      "Processing users:  80%|████████████████████████████████████████████████████             | 8/10 [00:28<00:05,  2.57s/it]"
     ]
    }
   ],
   "source": [
    "stop_detection_algos = ['oracle', 'lachesis', 'ta-dbscan', 'hdbscan']\n",
    "stop_detection_algos = ['hdbscan', 'oracle']\n",
    "\n",
    "all_metrics_df = pd.DataFrame()\n",
    "metrics_size_df = pd.DataFrame()\n",
    "metrics_btype_df = pd.DataFrame()\n",
    "\n",
    "TIME_THRESH=240\n",
    "DIST_THRESH=25\n",
    "MIN_PTS=2\n",
    "\n",
    "DT_MAX=240\n",
    "DELTA_ROAM=35\n",
    "\n",
    "for user in tqdm(diaries_df.uid.unique()[:10], desc='Processing users'):\n",
    "    for algo in stop_detection_algos:\n",
    "        sparse = sparse_df[sparse_df['uid'] == user].copy()\n",
    "        truth = diaries_df.loc[diaries_df['uid'] == user].copy()\n",
    "        \n",
    "        if algo == 'oracle':\n",
    "            # oracle says correct poi for each ping\n",
    "            location = visits.oracle_map(\n",
    "                sparse,\n",
    "                truth,\n",
    "                timestamp='timestamp',\n",
    "                location_id='building_id')\n",
    "            # find cluster labels with naive grid-based continuity\n",
    "            labels = GRID_BASED.grid_based_labels(\n",
    "                data=sparse.join(location),\n",
    "                time_thresh=TIME_THRESH,\n",
    "                min_pts=0, #we allow stops of duration 0, patched later\n",
    "                location_id='building_id',\n",
    "                traj_cols=traj_cols)\n",
    "        \n",
    "        elif algo == 'lachesis':\n",
    "            labels = LACHESIS._lachesis_labels(\n",
    "                traj=sparse,\n",
    "                dt_max=DT_MAX,\n",
    "                delta_roam=DELTA_ROAM,\n",
    "                traj_cols=traj_cols)\n",
    "            \n",
    "            labels.name = 'cluster'           \n",
    "            sparse_with_cluster = sparse.join(labels)\n",
    "            \n",
    "        elif algo == 'ta-dbscan':\n",
    "            labels = TADBSCAN._temporal_dbscan_labels(\n",
    "                data=sparse,\n",
    "                time_thresh=TIME_THRESH,\n",
    "                dist_thresh=DIST_THRESH,\n",
    "                min_pts=MIN_PTS,\n",
    "                traj_cols=traj_cols)\n",
    "            labels.name = 'cluster'\n",
    "            sparse_with_cluster = sparse.join(labels)\n",
    "            \n",
    "        elif algo == 'hdbscan':\n",
    "            labels = HDBSCAN.hdbscan_labels(\n",
    "                traj=sparse,\n",
    "                time_thresh=TIME_THRESH,\n",
    "                min_pts=2,\n",
    "                min_cluster_size=1,\n",
    "                traj_cols=traj_cols)\n",
    "            labels.name = 'cluster'\n",
    "            sparse_with_cluster = sparse.join(labels)\n",
    "        else:\n",
    "            print(f\"Algorithm {algo} not in the list!\")\n",
    "\n",
    "        # ----------- COMPUTE STOPS FROM LABELS -----------------------\n",
    "        if algo != 'oracle': \n",
    "            pred = visits.point_in_polygon(data=sparse_with_cluster,\n",
    "                                            poi_table=poi_table,\n",
    "                                            method='majority',\n",
    "                                            data_crs='EPSG:3857',\n",
    "                                            max_distance=15,\n",
    "                                            cluster_label='cluster',\n",
    "                                            location_id='building_id',\n",
    "                                            x='x',\n",
    "                                            y='y')\n",
    "        \n",
    "            pred = sparse_with_cluster.join(pred)\n",
    "            stops = pred[pred.cluster!=-1].groupby('cluster', as_index=False).apply(summarize_stops_with_loc, include_groups=False)\n",
    "        # ------------------------------ POST PROCESSING SHOULD BE EMBEDDED IN ALGORITHMS -------------------------------------\n",
    "            try:\n",
    "                utils.invalid_stops(stops)\n",
    "            except:\n",
    "                labels = GRID_BASED.grid_based_labels(\n",
    "                                data=pred.drop('cluster', axis=1),\n",
    "                                time_thresh=TIME_THRESH,\n",
    "                                min_pts=0, #we allow stops of duration 0, patched later\n",
    "                                location_id='building_id',\n",
    "                                traj_cols=traj_cols)\n",
    "                \n",
    "                pred['cluster'] = labels\n",
    "                stops = pred[pred.cluster!=-1].groupby('cluster', as_index=False).apply(summarize_stops_with_loc, include_groups=False)\n",
    "         # -------------------------------------------------------------------            \n",
    "        else: #location exists by oracle, we join everything\n",
    "            pred = sparse.join(location).join(labels)\n",
    "            stops = pred[pred.cluster!=-1].groupby('cluster', as_index=False).apply(summarize_stops_with_loc, include_groups=False)\n",
    "            # we add a 5min duration to oracle stops with just one ping\n",
    "            stops = utils.pad_short_stops(stops, pad=5, dur_min=0, start_timestamp = 'start_timestamp') \n",
    "\n",
    "        \n",
    "        # ------------------------------ COMPUTE METRICS OF INTEREST -------------------------------------\n",
    "        # general metrics\n",
    "        overlaps = overlapping_visits(left=stops,\n",
    "                                      right=truth,\n",
    "                                      location_id='building_id',\n",
    "                                      match_location=False)\n",
    "\n",
    "        errors = compute_visitation_errors(overlaps=overlaps,\n",
    "                                           true_visits=truth,\n",
    "                                           location_id='building_id')\n",
    "\n",
    "        prf1 = compute_precision_recall_f1(overlaps=overlaps,\n",
    "                                           pred_visits=stops,\n",
    "                                           true_visits=truth,\n",
    "                                           location_id='building_id')\n",
    "        \n",
    "        all_metrics = {**errors, **prf1, 'user': user, 'algorithm': algo}\n",
    "        \n",
    "        \n",
    "        all_metrics_df = pd.concat([all_metrics_df, pd.DataFrame([all_metrics])], ignore_index=True)\n",
    "\n",
    "        # WARNING THIS IS WRONG...\n",
    "        # TO DO: The true way to filter stops, is not with attributes based on PREDICTED location\n",
    "        # instead, we need clip the stop table to the intervals given by the truth table. >>> PACO\n",
    "        \n",
    "        # size metrics\n",
    "        stops_with_attr = stops.merge(poi_table[['building_id', 'building_size', 'building_type']], on='building_id')\n",
    "        for build_size in ['small', 'medium', 'big']:    \n",
    "            if (truth.building_size==build_size).sum() == 0:\n",
    "                continue\n",
    "                \n",
    "            overlaps = overlapping_visits(\n",
    "                            left=stops_with_attr.loc[stops_with_attr.building_size==build_size],\n",
    "                            right=truth.loc[truth.building_size==build_size],\n",
    "                            location_id='building_id',\n",
    "                            match_location=False)\n",
    "            \n",
    "            errors = compute_visitation_errors(overlaps=overlaps,\n",
    "                                               true_visits=truth.loc[truth.building_size==build_size],\n",
    "                                               location_id='building_id')\n",
    "            \n",
    "            prf1 = compute_precision_recall_f1(overlaps=overlaps,\n",
    "                                               pred_visits=stops_with_attr.loc[stops_with_attr.building_size==build_size],\n",
    "                                               true_visits=truth.loc[truth.building_size==build_size],\n",
    "                                               location_id='building_id')\n",
    "            \n",
    "            \n",
    "            metrics_size = {**errors, **prf1, 'user': user, 'algorithm': algo, 'building_size':build_size}\n",
    "            metrics_size_df = pd.concat([metrics_size_df, pd.DataFrame([metrics_size])], ignore_index=True)\n",
    "\n",
    "        # btype metrics\n",
    "        for building_type in ['home', 'retail', 'work', 'park']:    \n",
    "            if (truth.building_type==building_type).sum() == 0:\n",
    "                continue\n",
    "                \n",
    "            overlaps = overlapping_visits(\n",
    "                            left=stops_with_attr.loc[stops_with_attr.building_type==building_type],\n",
    "                            right=truth.loc[truth.building_type==building_type],\n",
    "                            location_id='building_id',\n",
    "                            match_location=False)\n",
    "            \n",
    "            errors = compute_visitation_errors(overlaps=overlaps,\n",
    "                                               true_visits=truth.loc[truth.building_type==building_type],\n",
    "                                               location_id='building_id')\n",
    "            \n",
    "            prf1 = compute_precision_recall_f1(overlaps=overlaps,\n",
    "                                               pred_visits=stops_with_attr.loc[stops_with_attr.building_type==building_type],\n",
    "                                               true_visits=truth.loc[truth.building_type==building_type],\n",
    "                                               location_id='building_id')\n",
    "            \n",
    "            \n",
    "            metrics_btype = {**errors, **prf1, 'user': user, 'algorithm': algo, 'building_type':building_type}\n",
    "            metrics_btype_df = pd.concat([metrics_btype_df, pd.DataFrame([metrics_btype])], ignore_index=True)"
   ]
  },
  {
   "cell_type": "code",
   "execution_count": null,
   "id": "c581b3b7-e479-4b87-9de4-6d9da743ac46",
   "metadata": {},
   "outputs": [],
   "source": [
    "all_metrics_df.groupby(['algorithm'])[['missed_fraction','merged_fraction','split_fraction','precision','recall','f1']].mean()"
   ]
  },
  {
   "cell_type": "code",
   "execution_count": null,
   "id": "4a3292bf-252a-47eb-a6b9-0f464c58accb",
   "metadata": {},
   "outputs": [],
   "source": [
    "all_metrics_df.to_csv('metrics_df.csv', index=False)"
   ]
  },
  {
   "cell_type": "code",
   "execution_count": null,
   "id": "c8cac3ab-1b58-4277-9421-cb5ad7fc0274",
   "metadata": {},
   "outputs": [],
   "source": [
    "# # Postprocessing based on location!\n",
    "# labels = GRID_BASED.grid_based_labels(\n",
    "#                 data=pred.drop('cluster', axis=1),\n",
    "#                 time_thresh=TIME_THRESH,\n",
    "#                 min_pts=0, #we allow stops of duration 0, patched later\n",
    "#                 location_id='building_id',\n",
    "#                 traj_cols=traj_cols)\n",
    "\n",
    "# pred['cluster'] = labels\n",
    "# pred = pred.loc[pred.cluster!=-1]\n",
    "\n",
    "# merged_data_hdbscan = pred.loc[(pred.timestamp>= 1704114480)&(pred.timestamp <= 1704116340)]"
   ]
  },
  {
   "cell_type": "code",
   "execution_count": null,
   "id": "64a914c0-5968-4cb8-9cb6-076e876730ea",
   "metadata": {},
   "outputs": [],
   "source": [
    "# %matplotlib inline\n",
    "# # Merging sample data with labels\n",
    "# fig, ax = plt.subplots(figsize=(6, 6))\n",
    "# plt.box(on=True)\n",
    "# # Plotting Garden City Map\n",
    "# poi_table.plot(ax=ax, color='green', alpha=0.3)\n",
    "# # Getting colors for clusters\n",
    "# unique_clusters = sorted(merged_data_hdbscan['cluster'].unique())\n",
    "# cluster_mapping = {cluster: i for i, cluster in enumerate(unique_clusters)}\n",
    "# if -1 in cluster_mapping:\n",
    "#     del cluster_mapping[-1]\n",
    "# mapped_clusters = merged_data_hdbscan['cluster'].map(cluster_mapping).to_numpy()\n",
    "# cmap_base = plt.get_cmap('Dark2', len(unique_clusters) - (1 if -1 in unique_clusters else 0))\n",
    "# # colors = [‘gray’] + list(cmap_base.colors)\n",
    "# colors = list(cmap_base.colors)\n",
    "# extended_cmap = mcolors.ListedColormap(colors)\n",
    "# # Plotting Pings\n",
    "# ax.scatter(merged_data_hdbscan['x'],\n",
    "#            merged_data_hdbscan['y'],\n",
    "#            c=mapped_clusters,\n",
    "#            cmap=extended_cmap,\n",
    "#            s=6,\n",
    "#            alpha=1,\n",
    "#            zorder=2)\n",
    "# ax.set_yticklabels([])\n",
    "# ax.set_xticklabels([])\n",
    "# # ax.set_title(“HDBSCAN Stops for Sample User”)\n",
    "# ax.set_xticks([])\n",
    "# ax.set_yticks([])\n",
    "# # ax.set_xlim(12, 22)\n",
    "# # ax.set_ylim(7, 14)\n",
    "# plt.tight_layout()\n",
    "# # plt.savefig(‘gc_empty.png’)\n",
    "# plt.show()"
   ]
  },
  {
   "cell_type": "code",
   "execution_count": 10,
   "id": "93ec2263-479b-442d-87ee-537fa9ed906e",
   "metadata": {},
   "outputs": [],
   "source": [
    "plot_key = None\n",
    "plot_value = None\n",
    "metrics_df = all_metrics_df\n",
    "#metrics_df = metrics_size_df.loc[metrics_size_df[plot_key]==plot_value]"
   ]
  },
  {
   "cell_type": "code",
   "execution_count": 11,
   "id": "049bfbb0",
   "metadata": {},
   "outputs": [],
   "source": [
    "metrics_df.groupby(['algorithm'])[['missed_fraction','merged_fraction','split_fraction','precision','recall','f1']].mean()\n",
    "\n",
    "bootstrapping=True\n",
    "if bootstrapping:\n",
    "    output = []\n",
    "    agg_keys = ['missed_fraction','merged_fraction','split_fraction','precision','recall','f1']\n",
    "    agg_dict = {key:'median' for key in agg_keys}\n",
    "    for _ in range(100):\n",
    "        output += [metrics_df.sample(len(metrics_df), replace=True).groupby('algorithm', as_index=False).agg(agg_dict)]\n",
    "    metrics_df = pd.concat(output)"
   ]
  },
  {
   "cell_type": "code",
   "execution_count": 12,
   "id": "52af0753-1d9b-4d2d-a659-2e65086665d1",
   "metadata": {},
   "outputs": [
    {
     "data": {
      "image/png": "[encoded data removed]",
      "text/plain": [
       "<Figure size 900x300 with 3 Axes>"
      ]
     },
     "metadata": {},
     "output_type": "display_data"
    }
   ],
   "source": [
    "# first group: the three error‐fractions, share y‐axis [0,1]\n",
    "frac_metrics = [\"missed_fraction\", \"merged_fraction\", \"split_fraction\"]\n",
    "fig, axes = plt.subplots(1, 3, figsize=(9, 3), sharey=True)\n",
    "for ax, metric in zip(axes, frac_metrics):\n",
    "    metrics_df.boxplot(column=metric, by=\"algorithm\", ax=ax)\n",
    "    ax.set_title(metric.replace(\"_\", \" \").title())\n",
    "    ax.set_xlabel(\"\")           # drop the “by …” label\n",
    "    ax.set_ylabel(metric if ax is axes[0] else \"\")  # only leftmost gets ylabel\n",
    "    ax.grid(True)\n",
    "fig.tight_layout()\n",
    "if plot_key:\n",
    "    fig.suptitle(f'Fraction of missclassifications for {plot_key} = {plot_value}')\n",
    "fig.subplots_adjust(top=0.85)\n",
    "plt.show()"
   ]
  },
  {
   "cell_type": "code",
   "execution_count": 13,
   "id": "c5c07c3a-b62b-49b5-b01c-cf0ba3009f09",
   "metadata": {},
   "outputs": [
    {
     "data": {
      "image/png": "[encoded data removed]",
      "text/plain": [
       "<Figure size 900x300 with 3 Axes>"
      ]
     },
     "metadata": {},
     "output_type": "display_data"
    }
   ],
   "source": [
    "prf_metrics = [\"precision\", \"recall\", \"f1\"]\n",
    "fig, axes = plt.subplots(1, 3, figsize=(9, 3))\n",
    "for ax, metric in zip(axes, prf_metrics):\n",
    "    metrics_df.boxplot(column=metric, by=\"algorithm\", ax=ax)\n",
    "    ax.set_title(metric.upper() if metric==\"f1\" else metric.title())\n",
    "    ax.set_xlabel(\"\")\n",
    "    ax.set_ylabel(metric if ax is axes[0] else \"\")\n",
    "    ax.grid(True)\n",
    "fig.tight_layout()\n",
    "if plot_key:\n",
    "    fig.suptitle(f'Error metrics for {plot_key} = {plot_value}')\n",
    "fig.subplots_adjust(top=0.85)\n",
    "plt.show()"
   ]
  },
  {
   "cell_type": "code",
   "execution_count": null,
   "id": "9a2110c4-ea2d-4a98-bbb4-993c8d833610",
   "metadata": {},
   "outputs": [],
   "source": [
    "# TO DO: plot to compare algorithm with oracle, x-axis is users sorted by completeness_df.q_stat. y-axis = f1. or recall. \n",
    "# Alternatively, q_stat vs F1 scatter plot."
   ]
  },
  {
   "cell_type": "code",
   "execution_count": null,
   "id": "27c6e809-4fce-4755-ba47-0083601b71e1",
   "metadata": {},
   "outputs": [],
   "source": [
    "# TO DO: plot by building area, by dwell time"
   ]
  },
  {
   "cell_type": "code",
   "execution_count": null,
   "id": "999cb606-ec67-4770-8580-1150b758bba7",
   "metadata": {},
   "outputs": [],
   "source": [
    "# TO DO: expand algorithm list. lachesis_coarse, lachesis_fine, ta_dbscan_coarse, ta_dbscan_fine, oracle_coarse, oracle_fine"
   ]
  },
  {
   "cell_type": "markdown",
   "id": "0c2460fd-d2fc-48f1-98a1-274ab89b0a91",
   "metadata": {},
   "source": [
    "## Exploration of building size"
   ]
  }
 ],
 "metadata": {
  "kernelspec": {
   "display_name": "Python 3.10 (daphme)",
   "language": "python",
   "name": "daphme"
  },
  "language_info": {
   "codemirror_mode": {
    "name": "ipython",
    "version": 3
   },
   "file_extension": ".py",
   "mimetype": "text/x-python",
   "name": "python",
   "nbconvert_exporter": "python",
   "pygments_lexer": "ipython3",
   "version": "3.10.0"
  }
 },
 "nbformat": 4,
 "nbformat_minor": 5
}

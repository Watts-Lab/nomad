{
 "cells": [
  {
   "cell_type": "code",
   "execution_count": 12,
   "id": "2803ed07",
   "metadata": {},
   "outputs": [],
   "source": [
    "%reload_ext autoreload\n",
    "%autoreload"
   ]
  },
  {
   "cell_type": "code",
   "execution_count": 13,
   "id": "3d2fb0ef-73cc-4592-8ce5-9ad5f3027e45",
   "metadata": {},
   "outputs": [],
   "source": [
    "import pandas as pd\n",
    "import geopandas as gpd\n",
    "import shapely\n",
    "import nomad.io.base as loader\n",
    "import numpy as np\n",
    "import nomad.stop_detection.hdbscan as HDBSCAN\n",
    "import nomad.stop_detection.lachesis as LACHESIS\n",
    "import nomad.stop_detection.ta_dbscan as TADBSCAN\n",
    "\n",
    "import nomad.stop_detection.grid_based as GRID_BASED # for oracle visits\n",
    "from functools import partial\n",
    "\n",
    "import nomad.stop_detection.utils as utils\n",
    "from nomad.stop_detection.utils import summarize_stop\n",
    "\n",
    "import geopandas as gpd\n",
    "import nomad.visit_attribution as visits\n",
    "import nomad.filters as filters\n",
    "from nomad.contact_estimation import overlapping_visits, compute_visitation_errors, compute_precision_recall_f1\n",
    "import matplotlib.pyplot as plt"
   ]
  },
  {
   "cell_type": "code",
   "execution_count": 16,
   "id": "139c3d06-7bc1-4669-a2bf-f04d8b3bd6e5",
   "metadata": {},
   "outputs": [],
   "source": [
    "traj_cols = {'user_id':'uid',\n",
    "             'x':'x',\n",
    "             'y':'y',\n",
    "             'timestamp':'timestamp'}\n",
    "poi_table = gpd.read_file('../garden_city.gpkg')\n",
    "\n",
    "diaries_df = loader.from_file(\"../../nomad/data/diaries\", format=\"parquet\", traj_cols=traj_cols,\n",
    "                       parse_dates=True)\n",
    "diaries_df = diaries_df.rename({'location':'building_id'}, axis=1) # annoying\n",
    "\n",
    "sparse_df = loader.from_file(\"../../nomad/data/sparse_traj/\", format=\"parquet\", traj_cols=traj_cols,\n",
    "                      parse_dates=True)"
   ]
  },
  {
   "cell_type": "markdown",
   "id": "eac0bbd9-4ed4-4d61-8b38-9c5bb59d443b",
   "metadata": {},
   "source": [
    "## Analyze completeness"
   ]
  },
  {
   "cell_type": "code",
   "execution_count": 18,
   "id": "22f51807",
   "metadata": {},
   "outputs": [],
   "source": [
    "completeness_df = filters.q_stats(sparse_df, traj_cols=traj_cols)"
   ]
  },
  {
   "cell_type": "code",
   "execution_count": 19,
   "id": "ea573424",
   "metadata": {},
   "outputs": [
    {
     "data": {
      "image/png": "[encoded data removed]",
      "text/plain": [
       "<Figure size 300x300 with 1 Axes>"
      ]
     },
     "metadata": {},
     "output_type": "display_data"
    }
   ],
   "source": [
    "plt.figure(figsize=(3,3))\n",
    "completeness_df.boxplot(column=\"q_stat\")\n",
    "plt.grid(True)\n",
    "plt.tight_layout()\n",
    "\n",
    "plt.show()"
   ]
  },
  {
   "cell_type": "markdown",
   "id": "c70418ff-777f-40be-b703-b633a3a4e1de",
   "metadata": {},
   "source": [
    "## Example for one user"
   ]
  },
  {
   "cell_type": "code",
   "execution_count": 20,
   "id": "6a58f567-17c2-4773-b8ba-32d7777a32ae",
   "metadata": {},
   "outputs": [],
   "source": [
    "# Select data from 1 user\n",
    "user1 = diaries_df.uid.unique()[0]\n",
    "\n",
    "sparse1 = sparse_df.loc[sparse_df['uid'] == user1]\n",
    "diary1 = diaries_df.loc[diaries_df.uid == user1]"
   ]
  },
  {
   "cell_type": "code",
   "execution_count": 21,
   "id": "f5e76c98",
   "metadata": {},
   "outputs": [
    {
     "name": "stdout",
     "output_type": "stream",
     "text": [
      "CPU times: total: 8.56 s\n",
      "Wall time: 8.55 s\n"
     ]
    },
    {
     "data": {
      "text/html": [
       "<div>\n",
       "<style scoped>\n",
       "    .dataframe tbody tr th:only-of-type {\n",
       "        vertical-align: middle;\n",
       "    }\n",
       "\n",
       "    .dataframe tbody tr th {\n",
       "        vertical-align: top;\n",
       "    }\n",
       "\n",
       "    .dataframe thead th {\n",
       "        text-align: right;\n",
       "    }\n",
       "</style>\n",
       "<table border=\"1\" class=\"dataframe\">\n",
       "  <thead>\n",
       "    <tr style=\"text-align: right;\">\n",
       "      <th></th>\n",
       "      <th>cluster</th>\n",
       "      <th>x</th>\n",
       "      <th>y</th>\n",
       "      <th>start_timestamp</th>\n",
       "      <th>duration</th>\n",
       "      <th>building_id</th>\n",
       "    </tr>\n",
       "  </thead>\n",
       "  <tbody>\n",
       "    <tr>\n",
       "      <th>0</th>\n",
       "      <td>1</td>\n",
       "      <td>-4.265630e+06</td>\n",
       "      <td>4.393164e+06</td>\n",
       "      <td>1704108000</td>\n",
       "      <td>61</td>\n",
       "      <td>w-x6-y12</td>\n",
       "    </tr>\n",
       "    <tr>\n",
       "      <th>1</th>\n",
       "      <td>2</td>\n",
       "      <td>-4.265475e+06</td>\n",
       "      <td>4.393195e+06</td>\n",
       "      <td>1704148680</td>\n",
       "      <td>5</td>\n",
       "      <td>h-x13-y13</td>\n",
       "    </tr>\n",
       "    <tr>\n",
       "      <th>2</th>\n",
       "      <td>3</td>\n",
       "      <td>-4.265491e+06</td>\n",
       "      <td>4.393188e+06</td>\n",
       "      <td>1704160860</td>\n",
       "      <td>346</td>\n",
       "      <td>h-x13-y13</td>\n",
       "    </tr>\n",
       "    <tr>\n",
       "      <th>3</th>\n",
       "      <td>4</td>\n",
       "      <td>-4.265617e+06</td>\n",
       "      <td>4.393166e+06</td>\n",
       "      <td>1704194400</td>\n",
       "      <td>107</td>\n",
       "      <td>w-x6-y12</td>\n",
       "    </tr>\n",
       "    <tr>\n",
       "      <th>4</th>\n",
       "      <td>5</td>\n",
       "      <td>-4.265618e+06</td>\n",
       "      <td>4.393168e+06</td>\n",
       "      <td>1704207180</td>\n",
       "      <td>174</td>\n",
       "      <td>w-x6-y12</td>\n",
       "    </tr>\n",
       "  </tbody>\n",
       "</table>\n",
       "</div>"
      ],
      "text/plain": [
       "   cluster             x             y  start_timestamp  duration building_id\n",
       "0        1 -4.265630e+06  4.393164e+06       1704108000        61    w-x6-y12\n",
       "1        2 -4.265475e+06  4.393195e+06       1704148680         5   h-x13-y13\n",
       "2        3 -4.265491e+06  4.393188e+06       1704160860       346   h-x13-y13\n",
       "3        4 -4.265617e+06  4.393166e+06       1704194400       107    w-x6-y12\n",
       "4        5 -4.265618e+06  4.393168e+06       1704207180       174    w-x6-y12"
      ]
     },
     "execution_count": 21,
     "metadata": {},
     "output_type": "execute_result"
    }
   ],
   "source": [
    "%%time\n",
    "DUR_MIN=5\n",
    "DT_MAX=90\n",
    "DELTA_ROAM=30\n",
    "# to summarize stops after groupby passing through individual locations\n",
    "summarize_stops_with_loc = partial(utils.summarize_stop, x='x', y='y', keep_col_names=False, passthrough_cols = ['building_id']) # < function(grouped_data)\n",
    "\n",
    "# If we want to use 'majority' to attribute visits, then we need stop labels on each ping\n",
    "labels_hdbscan = HDBSCAN.hdbscan_labels(traj=sparse1,\n",
    "                                            time_thresh=100,\n",
    "                                            min_pts=2,\n",
    "                                            min_cluster_size=3,\n",
    "                                            traj_cols=traj_cols)\n",
    "labels_hdbscan.name = 'cluster'\n",
    "# join with the original data\n",
    "sparse_with_cluster = sparse1.join(labels_hdbscan)\n",
    "\n",
    "# has same index as data\n",
    "pred_hdbscan = visits.point_in_polygon(data=sparse_with_cluster,\n",
    "                                        poi_table=poi_table,\n",
    "                                        method='majority',\n",
    "                                        data_crs='EPSG:3857',\n",
    "                                        max_distance=10,\n",
    "                                        cluster_label='cluster',\n",
    "                                        location_id='building_id',\n",
    "                                        x='x',\n",
    "                                        y='y')\n",
    "# join the building id\n",
    "pred = sparse_with_cluster.join(pred_hdbscan)\n",
    "\n",
    "stop_table_hdbscan = pred[pred.cluster!=-1].groupby('cluster', as_index=False).apply(summarize_stops_with_loc, include_groups=False)\n",
    "stop_table_hdbscan.head()"
   ]
  },
  {
   "cell_type": "code",
   "execution_count": 30,
   "id": "37410cd6-9b14-43ec-838c-a4366059f791",
   "metadata": {},
   "outputs": [
    {
     "name": "stdout",
     "output_type": "stream",
     "text": [
      "CPU times: total: 12min 15s\n",
      "Wall time: 12min 15s\n"
     ]
    }
   ],
   "source": [
    "%%time\n",
    "traj_cols = {'user_id':'uid',\n",
    "             'x':'x',\n",
    "             'y':'y',\n",
    "             'timestamp':'timestamp'}\n",
    "stop_detection_algos = ['oracle', 'lachesis', 'ta-dbscan', 'hdbscan']\n",
    "\n",
    "metrics_df = pd.DataFrame()\n",
    "TIME_THRESH=240\n",
    "DIST_THRESH=25\n",
    "MIN_PTS=2\n",
    "\n",
    "DUR_MIN=5\n",
    "DT_MAX=240\n",
    "DELTA_ROAM=35\n",
    "\n",
    "for user in diaries_df.uid.unique()[:10]:\n",
    "    for algo in stop_detection_algos:\n",
    "        sparse = sparse_df[sparse_df['uid'] == user].copy()\n",
    "        truth = diaries_df.loc[diaries_df['uid'] == user].copy()\n",
    "        \n",
    "        if algo == 'oracle':\n",
    "            # oracle says correct poi for each ping\n",
    "            location = visits.oracle_map(\n",
    "                sparse,\n",
    "                truth,\n",
    "                timestamp='timestamp',\n",
    "                location_id='building_id')\n",
    "            # find cluster labels with naive grid-based continuity\n",
    "            labels = GRID_BASED.grid_based_labels(\n",
    "                data=sparse.join(location),\n",
    "                time_thresh=TIME_THRESH,\n",
    "                min_pts=0, #we allow stops of duration 0, patched later\n",
    "                location_id='building_id',\n",
    "                traj_cols=traj_cols)\n",
    "        \n",
    "        elif algo == 'lachesis':\n",
    "            labels = LACHESIS._lachesis_labels(\n",
    "                traj=sparse,\n",
    "                dur_min=DUR_MIN,\n",
    "                dt_max=DT_MAX,\n",
    "                delta_roam=DELTA_ROAM,\n",
    "                traj_cols=traj_cols)\n",
    "            \n",
    "            labels.name = 'cluster'           \n",
    "            sparse_with_cluster = sparse.join(labels)\n",
    "            \n",
    "        elif algo == 'ta-dbscan':\n",
    "            labels = TADBSCAN._temporal_dbscan_labels(\n",
    "                data=sparse,\n",
    "                time_thresh=TIME_THRESH,\n",
    "                dist_thresh=DIST_THRESH,\n",
    "                min_pts=MIN_PTS,\n",
    "                traj_cols=traj_cols)\n",
    "            labels.name = 'cluster'\n",
    "            sparse_with_cluster = sparse.join(labels)\n",
    "            \n",
    "        elif algo == 'hdbscan':\n",
    "            labels = HDBSCAN.hdbscan_labels(\n",
    "                traj=sparse,\n",
    "                time_thresh=TIME_THRESH,\n",
    "                min_pts=2,\n",
    "                min_cluster_size=3,\n",
    "                traj_cols=traj_cols)\n",
    "            labels.name = 'cluster'\n",
    "            sparse_with_cluster = sparse.join(labels)\n",
    "        else:\n",
    "            print(f\"Algorithm {algo} not in the list!\")\n",
    "\n",
    "        # ----------- COMPUTE STOPS FROM LABELS -----------------------\n",
    "        if algo != 'oracle': \n",
    "            pred = visits.point_in_polygon(data=sparse_with_cluster,\n",
    "                                            poi_table=poi_table,\n",
    "                                            method='majority',\n",
    "                                            data_crs='EPSG:3857',\n",
    "                                            max_distance=15,\n",
    "                                            cluster_label='cluster',\n",
    "                                            location_id='building_id',\n",
    "                                            x='x',\n",
    "                                            y='y')\n",
    "        \n",
    "            pred = sparse_with_cluster.join(pred)\n",
    "            stops = pred[pred.cluster!=-1].groupby('cluster', as_index=False).apply(summarize_stops_with_loc, include_groups=False)\n",
    "            \n",
    "        else: #location exists by oracle, we join everything\n",
    "            pred = sparse.join(location).join(labels)\n",
    "            stops = pred[pred.cluster!=-1].groupby('cluster', as_index=False).apply(summarize_stops_with_loc, include_groups=False)\n",
    "            # we add a 5min duration to oracle stops with just one ping\n",
    "            stops = utils.pad_short_stops(stops, pad=5, dur_min=0, start_timestamp = 'start_timestamp') \n",
    "\n",
    "        \n",
    "        # ----------- COMPUTE METRICS OF INTEREST -----------------------\n",
    "        # Step 1: Compute overlaps\n",
    "        overlaps = overlapping_visits(left=stops,\n",
    "                                      right=truth,\n",
    "                                      location_id='building_id',\n",
    "                                      match_location=False)\n",
    "\n",
    "        # Step 2: Compute visitation errors (missed, merged, split)\n",
    "        errors = compute_visitation_errors(overlaps=overlaps,\n",
    "                                           true_visits=truth,\n",
    "                                           location_id='building_id')\n",
    "\n",
    "        # Step 3: Compute precision, recall, and F1\n",
    "        prf1 = compute_precision_recall_f1(overlaps=overlaps,\n",
    "                                           pred_visits=stops,\n",
    "                                           true_visits=truth,\n",
    "                                           location_id='building_id')\n",
    "\n",
    "        all_metrics = {**errors, **prf1, 'user': user, 'algorithm': algo}\n",
    "        metrics_df = pd.concat([metrics_df, pd.DataFrame([all_metrics])], ignore_index=True)"
   ]
  },
  {
   "cell_type": "code",
   "execution_count": 31,
   "id": "049bfbb0",
   "metadata": {},
   "outputs": [
    {
     "data": {
      "text/html": [
       "<div>\n",
       "<style scoped>\n",
       "    .dataframe tbody tr th:only-of-type {\n",
       "        vertical-align: middle;\n",
       "    }\n",
       "\n",
       "    .dataframe tbody tr th {\n",
       "        vertical-align: top;\n",
       "    }\n",
       "\n",
       "    .dataframe thead th {\n",
       "        text-align: right;\n",
       "    }\n",
       "</style>\n",
       "<table border=\"1\" class=\"dataframe\">\n",
       "  <thead>\n",
       "    <tr style=\"text-align: right;\">\n",
       "      <th></th>\n",
       "      <th>missed_fraction</th>\n",
       "      <th>merged_fraction</th>\n",
       "      <th>split_fraction</th>\n",
       "      <th>precision</th>\n",
       "      <th>recall</th>\n",
       "      <th>f1</th>\n",
       "    </tr>\n",
       "    <tr>\n",
       "      <th>algorithm</th>\n",
       "      <th></th>\n",
       "      <th></th>\n",
       "      <th></th>\n",
       "      <th></th>\n",
       "      <th></th>\n",
       "      <th></th>\n",
       "    </tr>\n",
       "  </thead>\n",
       "  <tbody>\n",
       "    <tr>\n",
       "      <th>hdbscan</th>\n",
       "      <td>0.481147</td>\n",
       "      <td>0.462162</td>\n",
       "      <td>0.009722</td>\n",
       "      <td>0.972379</td>\n",
       "      <td>0.423502</td>\n",
       "      <td>0.534743</td>\n",
       "    </tr>\n",
       "    <tr>\n",
       "      <th>lachesis</th>\n",
       "      <td>0.630764</td>\n",
       "      <td>0.021061</td>\n",
       "      <td>0.193790</td>\n",
       "      <td>0.996759</td>\n",
       "      <td>0.220164</td>\n",
       "      <td>0.336902</td>\n",
       "    </tr>\n",
       "    <tr>\n",
       "      <th>oracle</th>\n",
       "      <td>0.530604</td>\n",
       "      <td>0.006644</td>\n",
       "      <td>0.016785</td>\n",
       "      <td>0.998401</td>\n",
       "      <td>0.307447</td>\n",
       "      <td>0.433361</td>\n",
       "    </tr>\n",
       "    <tr>\n",
       "      <th>ta-dbscan</th>\n",
       "      <td>0.640528</td>\n",
       "      <td>0.079519</td>\n",
       "      <td>0.012832</td>\n",
       "      <td>0.994687</td>\n",
       "      <td>0.301862</td>\n",
       "      <td>0.423289</td>\n",
       "    </tr>\n",
       "  </tbody>\n",
       "</table>\n",
       "</div>"
      ],
      "text/plain": [
       "           missed_fraction  merged_fraction  split_fraction  precision  \\\n",
       "algorithm                                                                \n",
       "hdbscan           0.481147         0.462162        0.009722   0.972379   \n",
       "lachesis          0.630764         0.021061        0.193790   0.996759   \n",
       "oracle            0.530604         0.006644        0.016785   0.998401   \n",
       "ta-dbscan         0.640528         0.079519        0.012832   0.994687   \n",
       "\n",
       "             recall        f1  \n",
       "algorithm                      \n",
       "hdbscan    0.423502  0.534743  \n",
       "lachesis   0.220164  0.336902  \n",
       "oracle     0.307447  0.433361  \n",
       "ta-dbscan  0.301862  0.423289  "
      ]
     },
     "execution_count": 31,
     "metadata": {},
     "output_type": "execute_result"
    }
   ],
   "source": [
    "metrics_df.groupby(['algorithm'])[['missed_fraction','merged_fraction','split_fraction','precision','recall','f1']].mean()"
   ]
  },
  {
   "cell_type": "code",
   "execution_count": 32,
   "id": "52af0753-1d9b-4d2d-a659-2e65086665d1",
   "metadata": {},
   "outputs": [
    {
     "data": {
      "image/png": "[encoded data removed]",
      "text/plain": [
       "<Figure size 1200x400 with 3 Axes>"
      ]
     },
     "metadata": {},
     "output_type": "display_data"
    }
   ],
   "source": [
    "# first group: the three error‐fractions, share y‐axis [0,1]\n",
    "frac_metrics = [\"missed_fraction\", \"merged_fraction\", \"split_fraction\"]\n",
    "fig, axes = plt.subplots(1, 3, figsize=(12, 4), sharey=True)\n",
    "for ax, metric in zip(axes, frac_metrics):\n",
    "    metrics_df.boxplot(column=metric, by=\"algorithm\", ax=ax)\n",
    "    ax.set_title(metric.replace(\"_\", \" \").title())\n",
    "    ax.set_xlabel(\"\")           # drop the “by …” label\n",
    "    ax.set_ylabel(metric if ax is axes[0] else \"\")  # only leftmost gets ylabel\n",
    "    ax.grid(True)\n",
    "fig.suptitle(\"Error Fractions by Algorithm\")\n",
    "fig.tight_layout()\n",
    "fig.subplots_adjust(top=0.85)\n",
    "plt.show()"
   ]
  },
  {
   "cell_type": "code",
   "execution_count": 33,
   "id": "c5c07c3a-b62b-49b5-b01c-cf0ba3009f09",
   "metadata": {},
   "outputs": [
    {
     "data": {
      "image/png": "[encoded data removed]",
      "text/plain": [
       "<Figure size 1200x400 with 3 Axes>"
      ]
     },
     "metadata": {},
     "output_type": "display_data"
    }
   ],
   "source": [
    "prf_metrics = [\"precision\", \"recall\", \"f1\"]\n",
    "fig, axes = plt.subplots(1, 3, figsize=(12, 4))\n",
    "for ax, metric in zip(axes, prf_metrics):\n",
    "    metrics_df.boxplot(column=metric, by=\"algorithm\", ax=ax)\n",
    "    ax.set_title(metric.upper() if metric==\"f1\" else metric.title())\n",
    "    ax.set_xlabel(\"\")\n",
    "    ax.set_ylabel(metric if ax is axes[0] else \"\")\n",
    "    ax.grid(True)\n",
    "fig.suptitle(\"Precision / Recall / F1 by Algorithm\")\n",
    "fig.tight_layout()\n",
    "fig.subplots_adjust(top=0.85)\n",
    "plt.show()"
   ]
  },
  {
   "cell_type": "markdown",
   "id": "0c2460fd-d2fc-48f1-98a1-274ab89b0a91",
   "metadata": {},
   "source": [
    "## Exploration of building size"
   ]
  },
  {
   "cell_type": "code",
   "execution_count": 25,
   "id": "fc45c8a2",
   "metadata": {},
   "outputs": [],
   "source": [
    "import nomad.city_gen as cg\n",
    "city = cg.load('../garden-city.pkl')\n",
    "\n",
    "def classify_building(building):\n",
    "    n_blocks = len(building.blocks)\n",
    "    if n_blocks == 1:\n",
    "        return 'small'\n",
    "    elif 2 <= n_blocks <= 3:\n",
    "        return 'medium'\n",
    "    else:\n",
    "        return 'big'\n",
    "\n",
    "building_sizes = {\n",
    "    b_id: classify_building(b_obj)\n",
    "    for b_id, b_obj in city.buildings.items()\n",
    "}\n",
    "\n",
    "building_sizes\n",
    "\n",
    "def clasify_dwell(stop_table):\n",
    "    # (low, mid, high)\n",
    "    return"
   ]
  },
  {
   "cell_type": "code",
   "execution_count": null,
   "id": "e781f0bd",
   "metadata": {},
   "outputs": [],
   "source": [
    "fig, ax = plt.subplots(figsize=(20, 20))\n",
    "plt.box(on=True)\n",
    "\n",
    "# Plotting Garden City Map\n",
    "\n",
    "city.plot_city(ax, doors=True, address=True)\n",
    "\n",
    "ax.set_yticklabels([])\n",
    "ax.set_xticklabels([])\n",
    "ax.set_xticks([])\n",
    "ax.set_yticks([])\n",
    "plt.tight_layout()\n",
    "plt.show()"
   ]
  },
  {
   "cell_type": "code",
   "execution_count": 27,
   "id": "d5f439e9",
   "metadata": {},
   "outputs": [
    {
     "data": {
      "text/plain": [
       "[(5, 1)]"
      ]
     },
     "execution_count": 27,
     "metadata": {},
     "output_type": "execute_result"
    }
   ],
   "source": [
    "city.buildings['r-x5-y0'].blocks"
   ]
  },
  {
   "cell_type": "code",
   "execution_count": null,
   "id": "0c4fa757",
   "metadata": {},
   "outputs": [],
   "source": [
    "city.buildings"
   ]
  },
  {
   "cell_type": "markdown",
   "id": "fa9bb820-429f-4f2f-9a01-07ad9ec376ce",
   "metadata": {},
   "source": [
    "## Usage of oracle_map and location_based stop detection"
   ]
  },
  {
   "cell_type": "code",
   "execution_count": 29,
   "id": "e0b34230-9832-4b70-842d-6caa4bba2208",
   "metadata": {},
   "outputs": [],
   "source": [
    "# Select data from 1 user\n",
    "summarize_stops_with_loc = partial(utils.summarize_stop, x='x', y='y', keep_col_names=False, passthrough_cols = ['building_id'])\n",
    "user = diaries_df.uid.unique()[1]\n",
    "\n",
    "sparse = sparse_df.loc[sparse_df['uid'] == user]\n",
    "truth = diaries_df.loc[diaries_df.uid == user]"
   ]
  },
  {
   "cell_type": "code",
   "execution_count": 30,
   "id": "564fc2da-2a6d-4fcb-8b57-225400be366d",
   "metadata": {},
   "outputs": [
    {
     "data": {
      "text/plain": [
       "'adoring_keldysh'"
      ]
     },
     "execution_count": 30,
     "metadata": {},
     "output_type": "execute_result"
    }
   ],
   "source": [
    "user"
   ]
  },
  {
   "cell_type": "code",
   "execution_count": 31,
   "id": "b8c6439a-6a73-4b5d-9f37-9caad3d1f853",
   "metadata": {},
   "outputs": [],
   "source": [
    "location = visits.oracle_map(sparse, truth, timestamp='timestamp', location_id='building_id')"
   ]
  },
  {
   "cell_type": "code",
   "execution_count": 32,
   "id": "4f622b35-a9b7-4948-a188-d87940761e35",
   "metadata": {},
   "outputs": [],
   "source": [
    "labels = GRID_BASED.grid_based_labels(data=sparse.join(location),\n",
    "                             time_thresh=240,\n",
    "                             min_pts=0,\n",
    "                             datetime='local_timestamp',\n",
    "                             location_id='building_id')\n",
    "pred = sparse.join(location).join(labels)"
   ]
  },
  {
   "cell_type": "code",
   "execution_count": 33,
   "id": "7b9caf79-a834-4472-af5d-77447a7e5684",
   "metadata": {},
   "outputs": [],
   "source": [
    "stops = pred[pred.cluster!=-1].groupby('cluster', as_index=False).apply(summarize_stops_with_loc, include_groups=False)\n",
    "stops = utils.pad_short_stops(stops, pad=5, start_timestamp = 'start_timestamp') # we add a little duration to oracle stops with just one ping"
   ]
  },
  {
   "cell_type": "code",
   "execution_count": 34,
   "id": "554b23aa-9281-4649-8b8b-f7231f1a80f8",
   "metadata": {},
   "outputs": [],
   "source": [
    "# Step 1: Compute overlaps\n",
    "overlaps = overlapping_visits(left=stops,\n",
    "                              right=truth,\n",
    "                              location_id='building_id',\n",
    "                              match_location=False)\n",
    "\n",
    "# Step 2: Compute visitation errors (missed, merged, split)\n",
    "errors = compute_visitation_errors(overlaps=overlaps,\n",
    "                                   true_visits=truth,\n",
    "                                   location_id='building_id')\n",
    "\n",
    "# Step 3: Compute precision, recall, and F1\n",
    "prf1 = compute_precision_recall_f1(overlaps=overlaps,\n",
    "                                   pred_visits=stops,\n",
    "                                   true_visits=truth,\n",
    "                                   location_id='building_id')"
   ]
  },
  {
   "cell_type": "code",
   "execution_count": 35,
   "id": "c003ee1a-5bea-478e-844f-45a481519896",
   "metadata": {},
   "outputs": [
    {
     "name": "stdout",
     "output_type": "stream",
     "text": [
      "{'missed_fraction': 0.8926174496644296, 'merged_fraction': 0.0, 'split_fraction': 0.0044742729306487695}\n",
      "{'precision': 0.9997248968363136, 'recall': 0.1310966810966811, 'f1': 0.23179716153723487}\n"
     ]
    }
   ],
   "source": [
    "print(errors)\n",
    "print(prf1)"
   ]
  }
 ],
 "metadata": {
  "kernelspec": {
   "display_name": "Python 3.10 (daphme)",
   "language": "python",
   "name": "daphme"
  },
  "language_info": {
   "codemirror_mode": {
    "name": "ipython",
    "version": 3
   },
   "file_extension": ".py",
   "mimetype": "text/x-python",
   "name": "python",
   "nbconvert_exporter": "python",
   "pygments_lexer": "ipython3",
   "version": "3.10.0"
  }
 },
 "nbformat": 4,
 "nbformat_minor": 5
}

{
 "cells": [
  {
   "cell_type": "markdown",
   "id": "3a9578c2-6554-4320-8415-7b1e90f167ac",
   "metadata": {},
   "source": [
    "# Garden city: A synthetic dataset and sandbox environment for analysis of pre-processing algorithms for GPS human mobility data"
   ]
  },
  {
   "cell_type": "code",
   "execution_count": 1,
   "id": "20c2bbc9",
   "metadata": {
    "tags": []
   },
   "outputs": [],
   "source": [
    "import pandas as pd\n",
    "from zoneinfo import ZoneInfo\n",
    "import numpy as np\n",
    "import matplotlib.pyplot as plt\n",
    "from matplotlib import cm\n",
    "import matplotlib.dates as mdates\n",
    "from matplotlib.animation import FuncAnimation, PillowWriter\n",
    "import numpy.random as npr\n",
    "from shapely.geometry import box\n",
    "from pprint import pprint\n",
    "\n",
    "import nomad.io.base as loader\n",
    "import nomad.city_gen as cg\n",
    "from nomad.city_gen import City, Building, Street\n",
    "import nomad.traj_gen as tg\n",
    "from nomad.traj_gen import Agent, Population\n",
    "import nomad.stop_detection.ta_dbscan as DBSCAN\n",
    "import nomad.stop_detection.lachesis as Lachesis\n",
    "\n",
    "from nomad.constants import DEFAULT_SPEEDS, FAST_SPEEDS, SLOW_SPEEDS, DEFAULT_STILL_PROBS\n",
    "from nomad.constants import FAST_STILL_PROBS, SLOW_STILL_PROBS, ALLOWED_BUILDINGS"
   ]
  },
  {
   "cell_type": "markdown",
   "id": "7fedb635",
   "metadata": {},
   "source": [
    "## Generating an example city"
   ]
  },
  {
   "cell_type": "markdown",
   "id": "e43dbc14",
   "metadata": {},
   "source": [
    "To create a city, begin by initializing a `City` of the desired dimension. Then successively add `Buildings` to the city by defining their type, door location, and geometry (either as a bounding box or a list of block coordinates). The door coordinate is given by the street block that the building door faces. The final step is to call `city.get_street_graph()`, which generates the shortest paths between all blocks. As an example, we generate a city in which buildings are arranged in concentric rings, with a park in the center, following a ring of residences, a ring of retail locations, and, finally, an outer ring of workplaces."
   ]
  },
  {
   "cell_type": "code",
   "execution_count": null,
   "id": "02e0dcab-05d8-47eb-b22d-c7e0528beac8",
   "metadata": {},
   "outputs": [],
   "source": [
    "# Initialize city\n",
    "city = City(dimensions=(22, 22))\n",
    "# add a park\n",
    "city.add_building(building_type='park', door=(13, 11), bbox=box(9, 9, 13, 13))\n",
    "# add a home\n",
    "city.add_building(building_type='home', door=(8, 8), blocks=[(7, 7), (7, 8)])\n",
    "\n",
    "print(\"Attributes for building 'h-x8-y8':\")\n",
    "pprint(city.buildings['h-x8-y8'].__dict__)"
   ]
  },
  {
   "cell_type": "code",
   "execution_count": null,
   "id": "15653e2e",
   "metadata": {
    "tags": []
   },
   "outputs": [],
   "source": [
    "# add remaining homes\n",
    "city.add_building('home', (9, 8), [(8, 7), (9, 7)])\n",
    "city.add_building('home', (10, 8), [(10, 7)])\n",
    "city.add_building('home', (11, 8), [(11, 7)])\n",
    "city.add_building('home', (13, 6), [(13, 7)])\n",
    "city.add_building('home', (14, 6), [(14, 7)])\n",
    "city.add_building('home', (13, 8), [(14, 8)])\n",
    "city.add_building('home', (13, 9), [(14, 9)])\n",
    "city.add_building('home', (13, 11), [(14, 11)])\n",
    "city.add_building('home', (13, 12), [(14, 12)])\n",
    "city.add_building('home', (15, 13), [(14, 13)])\n",
    "city.add_building('home', (13, 13), [(13, 14), (14, 14)])\n",
    "city.add_building('home', (12, 13), [(12, 14)])\n",
    "city.add_building('home', (11, 13), [(11, 14)])\n",
    "city.add_building('home', (9, 13), [(9, 14)])\n",
    "city.add_building('home', (8, 13), [(8, 14)])\n",
    "city.add_building('home', (7, 15), [(7, 14)])\n",
    "city.add_building('home', (6, 13), [(7, 13)])\n",
    "city.add_building('home', (8, 12), [(7, 12)])\n",
    "city.add_building('home', (8, 10), [(7, 10), (7, 9)])\n",
    "\n",
    "# add workplaces\n",
    "city.add_building('work', (3, 4), [(4, 4), (4, 5)])\n",
    "city.add_building('work', (5, 3), [(5, 4), (5, 5)])\n",
    "city.add_building('work', (6, 6), bbox=box(6, 4, 8, 6))\n",
    "city.add_building('work', (8, 6), bbox=box(8, 4, 10, 6))\n",
    "city.add_building('work', (12, 6), bbox=box(11, 5, 14, 6))\n",
    "city.add_building('work', (12, 3), bbox=box(11, 4, 14, 5))\n",
    "city.add_building('work', (15, 3), bbox=box(14, 4, 17, 6))\n",
    "city.add_building('work', (18, 4), bbox=box(17, 4, 18, 6))\n",
    "city.add_building('work', (18, 6), bbox=box(16, 6, 18, 8))\n",
    "city.add_building('work', (15, 9), bbox=box(16, 8, 17, 10))\n",
    "city.add_building('work', (18, 8), bbox=box(17, 8, 18, 10))\n",
    "city.add_building('work', (18, 10), bbox=box(16, 10, 18, 12))\n",
    "city.add_building('work', (18, 13), bbox=box(16, 13, 18, 15))\n",
    "city.add_building('work', (18, 15), bbox=box(16, 15, 18, 16))\n",
    "city.add_building('work', (15, 15), bbox=box(15, 16, 18, 17))\n",
    "city.add_building('work', (14, 15), [(14, 16)])\n",
    "city.add_building('work', (16, 18), bbox=box(16, 17, 18, 18))\n",
    "city.add_building('work', (15, 18), bbox=box(14, 17, 16, 18))\n",
    "city.add_building('work', (13, 18), bbox=box(12, 16, 14, 18))\n",
    "city.add_building('work', (11, 18), bbox=box(10, 17, 12, 18))\n",
    "city.add_building('work', (11, 15), bbox=box(10, 16, 12, 17))\n",
    "city.add_building('work', (8, 18), bbox=box(7, 16, 9, 18))\n",
    "city.add_building('work', (6, 18), bbox=box(5, 17, 7, 18))\n",
    "city.add_building('work', (6, 15), bbox=box(5, 16, 7, 17))\n",
    "city.add_building('work', (3, 16), [(4, 16), (4, 17)])\n",
    "city.add_building('work', (3, 13), bbox=box(4, 13, 6, 16))\n",
    "city.add_building('work', (6, 12), bbox=box(4, 12, 6, 13))\n",
    "city.add_building('work', (3, 10), [(4, 9), (4, 10)])\n",
    "city.add_building('work', (6, 9), [(5, 9), (5, 10)])\n",
    "city.add_building('work', (6, 8), [(4, 8), (5, 8)])\n",
    "city.add_building('work', (3, 6), bbox=box(4, 6, 6, 8))\n",
    "\n",
    "# add retail places\n",
    "city.add_building('retail', (0, 1), bbox=box(1, 1, 3, 3))\n",
    "city.add_building('retail', (3, 0), bbox=box(3, 1, 5, 3))\n",
    "city.add_building('retail', (5, 0), [(5, 1)])\n",
    "city.add_building('retail', (5, 3), [(5, 2)])\n",
    "city.add_building('retail', (6, 0), bbox=box(6, 1, 8, 2))\n",
    "city.add_building('retail', (6, 3), bbox=box(6, 2, 8, 3))\n",
    "city.add_building('retail', (9, 3), bbox=box(9, 1, 10, 3))\n",
    "city.add_building('retail', (12, 3), bbox=box(10, 1, 13, 3))\n",
    "city.add_building('retail', (14, 3), bbox=box(13, 1, 15, 3))\n",
    "city.add_building('retail', (15, 3), [(15, 2)])\n",
    "city.add_building('retail', (16, 3), [(16, 2)])\n",
    "city.add_building('retail', (15, 0), [(15, 1)])\n",
    "city.add_building('retail', (16, 0), [(16, 1)])\n",
    "city.add_building('retail', (17, 3), bbox=box(17, 2, 19, 3))\n",
    "city.add_building('retail', (18, 0), bbox=box(17, 1, 19, 2))\n",
    "city.add_building('retail', (19, 0), bbox=box(19, 1, 21, 2))\n",
    "city.add_building('retail', (18, 3), bbox=box(19, 2, 21, 4))\n",
    "city.add_building('retail', (18, 5), bbox=box(19, 4, 21, 6))\n",
    "city.add_building('retail', (18, 7), bbox=box(19, 6, 20, 8))\n",
    "city.add_building('retail', (21, 7), bbox=box(20, 6, 21, 8))\n",
    "city.add_building('retail', (18, 10), bbox=box(19, 9, 21, 11))\n",
    "city.add_building('retail', (18, 11), bbox=box(19, 11, 21, 13))\n",
    "city.add_building('retail', (18, 13), bbox=box(19, 13, 20, 15))\n",
    "city.add_building('retail', (21, 13), bbox=box(20, 13, 21, 15))\n",
    "city.add_building('retail', (21, 16), bbox=box(19, 15, 21, 17))\n",
    "city.add_building('retail', (21, 18), bbox=box(19, 17, 21, 19))\n",
    "\n",
    "city.add_building('retail', (21, 19), bbox=box(19, 19, 21, 20))\n",
    "city.add_building('retail', (20, 21), bbox=box(19, 20, 21, 21))\n",
    "city.add_building('retail', (17, 18), bbox=box(17, 19, 18, 21))\n",
    "city.add_building('retail', (16, 18), bbox=box(16, 19, 17, 21))\n",
    "city.add_building('retail', (14, 18), bbox=box(13, 19, 16, 20))\n",
    "city.add_building('retail', (15, 21), bbox=box(14, 20, 16, 21))\n",
    "city.add_building('retail', (13, 21), bbox=box(12, 20, 14, 21))\n",
    "city.add_building('retail', (12, 18), bbox=box(12, 19, 13, 20))\n",
    "city.add_building('retail', (11, 18), bbox=box(10, 19, 12, 21))\n",
    "city.add_building('retail', (9, 18), bbox=box(8, 19, 10, 20))\n",
    "city.add_building('retail', (9, 21), bbox=box(8, 20, 10, 21))\n",
    "city.add_building('retail', (6, 21), bbox=box(5, 19, 7, 21))\n",
    "city.add_building('retail', (4, 21), bbox=box(3, 20, 5, 21))\n",
    "city.add_building('retail', (4, 18), bbox=box(3, 19, 5, 20))\n",
    "city.add_building('retail', (2, 18), bbox=box(2, 19, 3, 21))\n",
    "city.add_building('retail', (1, 18), bbox=box(1, 19, 2, 21))\n",
    "city.add_building('retail', (3, 17), bbox=box(1, 16, 3, 18))\n",
    "city.add_building('retail', (3, 15), bbox=box(1, 15, 3, 16))\n",
    "city.add_building('retail', (3, 14), bbox=box(1, 14, 3, 15))\n",
    "city.add_building('retail', (3, 12), bbox=box(1, 12, 3, 14))\n",
    "city.add_building('retail', (3, 11), bbox=box(1, 11, 3, 12))\n",
    "city.add_building('retail', (3, 10), bbox=box(1, 10, 3, 11))\n",
    "city.add_building('retail', (3, 8), bbox=box(1, 8, 3, 10))\n",
    "city.add_building('retail', (3, 7), bbox=box(1, 7, 3, 8))\n",
    "city.add_building('retail', (0, 5), bbox=box(1, 4, 2, 7))\n",
    "city.add_building('retail', (3, 6), [(2, 6)])\n",
    "city.add_building('retail', (3, 5), [(2, 5)])\n",
    "city.add_building('retail', (3, 4), [(2, 4)])\n",
    "\n",
    "city.get_street_graph()\n",
    "\n",
    "# get_street_graph can be expensive so persisting is recommended\n",
    "city.save('../garden-city.pkl')"
   ]
  },
  {
   "cell_type": "markdown",
   "id": "9b055556",
   "metadata": {},
   "source": [
    "For future uses, we can simply load the city pkl file. "
   ]
  },
  {
   "cell_type": "code",
   "execution_count": 2,
   "id": "453c0376-cada-4b09-8163-207914cbfe1a",
   "metadata": {
    "tags": []
   },
   "outputs": [],
   "source": [
    "city = cg.load('../garden-city.pkl')"
   ]
  },
  {
   "cell_type": "markdown",
   "id": "3622b389-0583-4dcd-a62a-6f5d25841db4",
   "metadata": {},
   "source": [
    "### Plotting the city"
   ]
  },
  {
   "cell_type": "markdown",
   "id": "ee0bb351",
   "metadata": {},
   "source": [
    "To visualize the city, we can call the `plot_city` method of the `City` class. Doors are plotted as gaps in the boundary of their building."
   ]
  },
  {
   "cell_type": "code",
   "execution_count": 15,
   "id": "2823a0b7",
   "metadata": {
    "tags": []
   },
   "outputs": [
    {
     "data": {
      "image/png": "[encoded data removed]",
      "text/plain": [
       "<Figure size 600x600 with 1 Axes>"
      ]
     },
     "metadata": {},
     "output_type": "display_data"
    }
   ],
   "source": [
    "%matplotlib inline\n",
    "\n",
    "fig, ax = plt.subplots(figsize=(6, 6))\n",
    "plt.box(on=False)\n",
    "\n",
    "city.plot_city(ax, doors=True, address=False)\n",
    "\n",
    "# remove axis labels and ticks\n",
    "ax.set_yticklabels([])\n",
    "ax.set_xticklabels([])\n",
    "ax.set_xticks([])\n",
    "ax.set_yticks([])\n",
    "\n",
    "plt.savefig('gc_empty.png')\n",
    "plt.show()"
   ]
  },
  {
   "cell_type": "markdown",
   "id": "66c39f6a",
   "metadata": {},
   "source": [
    "Each `Building` is assigned a unique identifier by its type and door coordinate. For example, the retail building with door coordinate (12, 3) has the id 'r-x12-y3'. Individual `Buildings` objects and their attributes may be accessed throught the `city.buildings` dictionary."
   ]
  },
  {
   "cell_type": "code",
   "execution_count": 4,
   "id": "4b7c0024-54cc-44ec-926e-9b0e6236aadb",
   "metadata": {
    "tags": []
   },
   "outputs": [
    {
     "name": "stdout",
     "output_type": "stream",
     "text": [
      "[(10, 1), (10, 2), (11, 1), (11, 2), (12, 1), (12, 2)]\n"
     ]
    },
    {
     "data": {
      "text/plain": [
       "(12.5, 3.0)"
      ]
     },
     "execution_count": 4,
     "metadata": {},
     "output_type": "execute_result"
    }
   ],
   "source": [
    "print(city.buildings['r-x12-y3'].blocks)\n",
    "city.buildings['r-x12-y3'].door_centroid"
   ]
  },
  {
   "cell_type": "markdown",
   "id": "ba2fc233",
   "metadata": {},
   "source": [
    "Once a `City` object has been defined, a `Population` object can be initialized. The `Population` object will contain the `Agents` of the city and generate their trajectories."
   ]
  },
  {
   "cell_type": "code",
   "execution_count": 5,
   "id": "8aeba544",
   "metadata": {},
   "outputs": [],
   "source": [
    "# Instantiate population to collect all agents\n",
    "population = Population(city)"
   ]
  },
  {
   "cell_type": "markdown",
   "id": "d581293b",
   "metadata": {
    "tags": []
   },
   "source": [
    "## Agents and trajectories"
   ]
  },
  {
   "cell_type": "markdown",
   "id": "c824809d",
   "metadata": {},
   "source": [
    "`Agent`s are tied to a specific `City` instance, and are represented by the `Agent` class. Each `Agent` contains attributes for a work and home location, as well as a 'mobility diary' that is used to generate granular trajectories. When instantiating an `Agent`, their mobility diary can be initialized in two ways:\n",
    "1. With a user-provided destination diary.\n",
    "2. Without a diary and then a diary is generated with the EPR model.\n",
    "\n",
    "These destination diaries are later replaced by a realized mobility diary that takes into account the travel time between buildings and, thus, should be regarded as a mobility plan. "
   ]
  },
  {
   "cell_type": "markdown",
   "id": "eb8d111e-0e6a-4a2d-9ee9-1cec52fc90d9",
   "metadata": {},
   "source": [
    "### User-provided diary initialization"
   ]
  },
  {
   "cell_type": "markdown",
   "id": "0e4e8847-fc64-478d-ac0b-e9e4f5b0c81f",
   "metadata": {},
   "source": [
    "Initializing in this way simply requires passing a `DataFrame` object with appropriate diary columns to the `Agent` constructor. "
   ]
  },
  {
   "cell_type": "code",
   "execution_count": 6,
   "id": "9bcebed4",
   "metadata": {
    "tags": []
   },
   "outputs": [
    {
     "name": "stdout",
     "output_type": "stream",
     "text": [
      "            local_timestamp  unix_timestamp  tz_offset  duration   location  \\\n",
      "0 2024-01-01 00:00:00-05:00      1704085200     -18000        31   h-x8-y13   \n",
      "1 2024-01-01 00:31:00-05:00      1704087060     -18000         6       None   \n",
      "2 2024-01-01 00:37:00-05:00      1704087420     -18000        54   r-x12-y3   \n",
      "3 2024-01-01 01:31:00-05:00      1704090660     -18000         7       None   \n",
      "4 2024-01-01 01:38:00-05:00      1704091080     -18000       173  w-x15-y15   \n",
      "\n",
      "  identifier  \n",
      "0      Alice  \n",
      "1      Alice  \n",
      "2      Alice  \n",
      "3      Alice  \n",
      "4      Alice  \n"
     ]
    }
   ],
   "source": [
    "# Initialization with custom diary\n",
    "tz = ZoneInfo(\"America/New_York\")\n",
    "start_time = pd.date_range(start='2024-01-01 00:00', periods=22, freq='15min', tz=tz)\n",
    "tz_offset = loader._offset_seconds_from_ts(start_time[0])\n",
    "unix_timestamp = [int(t.timestamp()) for t in start_time]\n",
    "duration = [15]*22  # in minutes\n",
    "location = ['h-x8-y13'] * 2 + ['r-x12-y3'] * 4 + ['w-x15-y15'] * 12 + ['h-x8-y13'] * 4\n",
    "\n",
    "d_diary = pd.DataFrame({\"local_timestamp\":start_time,\n",
    "                        \"unix_timestamp\":unix_timestamp,\n",
    "                        \"tz_offset\":tz_offset,\n",
    "                        \"duration\":duration,\n",
    "                        \"location\":location})\n",
    "\n",
    "d_diary = tg.condense_destinations(d_diary)\n",
    "\n",
    "Alice = Agent(identifier=\"Alice\",\n",
    "              home='h-x8-y13',\n",
    "              workplace='w-x15-y15',\n",
    "              city=city,\n",
    "              destination_diary=d_diary)\n",
    "\n",
    "population.add_agent(agent=Alice)\n",
    "population.generate_trajectory(agent=Alice, seed=100)\n",
    "\n",
    "print(Alice.diary.head())"
   ]
  },
  {
   "cell_type": "markdown",
   "id": "47c7e133-c860-4b34-a40b-a2cb7f1e8c9f",
   "metadata": {},
   "source": [
    "The helper function `condense_destinations` simply combines consecutive stops to the same destination. After generating a trajectory with `generate_trajectory` we can see that there are entries with a value of None in the diary, while the destination diary provided was 'complete', this is because the destination diary specifies the building the agent has _planned_ to visit at a given time, but the diary has the information of where the agent's _realized_ location, taking into consideration the travel time between buildings. Hence, a location of None corresponds to `Agent` movement on the streets traveling between buildings."
   ]
  },
  {
   "cell_type": "code",
   "execution_count": 7,
   "id": "84900283-e166-45b2-9923-b3d98fdcf66a",
   "metadata": {},
   "outputs": [
    {
     "data": {
      "text/plain": [
       "{'identifier': 'Alice',\n",
       " 'city': <nomad.city_gen.City at 0x147a95d30>,\n",
       " 'home': 'h-x8-y13',\n",
       " 'workplace': 'w-x15-y15',\n",
       " 'destination_diary': Empty DataFrame\n",
       " Columns: [local_timestamp, unix_timestamp, tz_offset, duration, location]\n",
       " Index: [],\n",
       " 'tz': zoneinfo.ZoneInfo(key='America/New_York'),\n",
       " 'diary':             local_timestamp  unix_timestamp  tz_offset  duration   location  \\\n",
       " 0 2024-01-01 00:00:00-05:00      1704085200     -18000        31   h-x8-y13   \n",
       " 1 2024-01-01 00:31:00-05:00      1704087060     -18000         6       None   \n",
       " 2 2024-01-01 00:37:00-05:00      1704087420     -18000        54   r-x12-y3   \n",
       " 3 2024-01-01 01:31:00-05:00      1704090660     -18000         7       None   \n",
       " 4 2024-01-01 01:38:00-05:00      1704091080     -18000       173  w-x15-y15   \n",
       " 5 2024-01-01 04:31:00-05:00      1704101460     -18000         4       None   \n",
       " 6 2024-01-01 04:35:00-05:00      1704101700     -18000        56   h-x8-y13   \n",
       " \n",
       "   identifier  \n",
       " 0      Alice  \n",
       " 1      Alice  \n",
       " 2      Alice  \n",
       " 3      Alice  \n",
       " 4      Alice  \n",
       " 5      Alice  \n",
       " 6      Alice  ,\n",
       " 'still_probs': {'park': 0.5, 'home': 0.9, 'work': 0.9, 'retail': 0.5},\n",
       " 'speeds': {'park': 1.0204081632653061,\n",
       "  'home': 0.3826530612244898,\n",
       "  'work': 0.3826530612244898,\n",
       "  'retail': 0.8928571428571429},\n",
       " 'dt': 1,\n",
       " 'tz_offset': -18000,\n",
       " 'visit_freqs': None,\n",
       " 'last_ping': {'x': np.float64(8.811232565951842),\n",
       "  'y': np.float64(14.256391059681434),\n",
       "  'local_timestamp': Timestamp('2024-01-01 05:30:00-0500', tz='America/New_York'),\n",
       "  'unix_timestamp': np.int64(1704105000),\n",
       "  'tz_offset': -18000,\n",
       "  'identifier': 'Alice'},\n",
       " 'trajectory':             x          y           local_timestamp  unix_timestamp  tz_offset  \\\n",
       " 0    8.500000  14.500000 2024-01-01 00:00:00-05:00      1704085200     -18000   \n",
       " 1    8.500000  14.500000 2024-01-01 00:01:00-05:00      1704085260     -18000   \n",
       " 2    8.500000  14.500000 2024-01-01 00:02:00-05:00      1704085320     -18000   \n",
       " 3    8.500000  14.500000 2024-01-01 00:03:00-05:00      1704085380     -18000   \n",
       " 4    8.500000  14.500000 2024-01-01 00:04:00-05:00      1704085440     -18000   \n",
       " ..        ...        ...                       ...             ...        ...   \n",
       " 326  8.811233  14.256391 2024-01-01 05:26:00-05:00      1704104760     -18000   \n",
       " 327  8.811233  14.256391 2024-01-01 05:27:00-05:00      1704104820     -18000   \n",
       " 328  8.811233  14.256391 2024-01-01 05:28:00-05:00      1704104880     -18000   \n",
       " 329  8.811233  14.256391 2024-01-01 05:29:00-05:00      1704104940     -18000   \n",
       " 330  8.811233  14.256391 2024-01-01 05:30:00-05:00      1704105000     -18000   \n",
       " \n",
       "     identifier  \n",
       " 0        Alice  \n",
       " 1        Alice  \n",
       " 2        Alice  \n",
       " 3        Alice  \n",
       " 4        Alice  \n",
       " ..         ...  \n",
       " 326      Alice  \n",
       " 327      Alice  \n",
       " 328      Alice  \n",
       " 329      Alice  \n",
       " 330      Alice  \n",
       " \n",
       " [331 rows x 6 columns],\n",
       " 'sparse_traj': None}"
      ]
     },
     "execution_count": 7,
     "metadata": {},
     "output_type": "execute_result"
    }
   ],
   "source": [
    "Alice.__dict__"
   ]
  },
  {
   "cell_type": "markdown",
   "id": "1ba30f0c-9666-4cf6-9217-6e1958f76bf6",
   "metadata": {},
   "source": [
    "### Diary generation with EPR model"
   ]
  },
  {
   "cell_type": "markdown",
   "id": "39f4fa27-5e0e-4b2e-8c98-20172530986a",
   "metadata": {},
   "source": [
    "If no diary is provided, `Agent`s are initialized with an empty diary. When calling `Population.generate_trajectory`, the destination diary is generated and then a granular trajectory is sampled from it. Unlike the case with a user-provided diary, this option requires specifying the duration of the trajectory, with a parameter `T` specifying the ending datetime, while the `start_time` is provided when creating the Agent. "
   ]
  },
  {
   "cell_type": "markdown",
   "id": "e7e4a458",
   "metadata": {},
   "source": [
    "The following agent, Bob, is given home `h-x8-y8` and workplace `w-x18-y4`. We generate a trajectory for Bob that lasts a week from midnight January 1, 2024 to midnight January 8, 2024."
   ]
  },
  {
   "cell_type": "code",
   "execution_count": 8,
   "id": "fa0c4345-d3a8-45ed-a65e-389eeb9b6e13",
   "metadata": {
    "tags": []
   },
   "outputs": [
    {
     "name": "stdout",
     "output_type": "stream",
     "text": [
      "            local_timestamp  unix_timestamp  tz_offset  duration   location  \\\n",
      "0 2024-01-01 00:00:00-05:00      1704085200     -18000       481    h-x8-y8   \n",
      "1 2024-01-01 08:01:00-05:00      1704114060     -18000         4       None   \n",
      "2 2024-01-01 08:05:00-05:00      1704114300     -18000        56  p-x13-y11   \n",
      "3 2024-01-01 09:01:00-05:00      1704117660     -18000         3       None   \n",
      "4 2024-01-01 09:04:00-05:00      1704117840     -18000       177   w-x15-y9   \n",
      "\n",
      "  identifier  \n",
      "0        Bob  \n",
      "1        Bob  \n",
      "2        Bob  \n",
      "3        Bob  \n",
      "4        Bob  \n"
     ]
    }
   ],
   "source": [
    "# Initialization and diary generation\n",
    "Bob = Agent(identifier=\"Bob\",\n",
    "            home='h-x8-y8',\n",
    "            workplace='w-x18-y4',\n",
    "            city=city,\n",
    "            start_time=pd.Timestamp('2024-01-01 00:00', tz='America/New_York'))\n",
    "\n",
    "population.add_agent(agent=Bob)\n",
    "population.generate_trajectory(agent=Bob, \n",
    "                               T=pd.Timestamp('2024-01-08 00:00', tz='America/New_York'))\n",
    "\n",
    "print(Bob.diary.head())"
   ]
  },
  {
   "cell_type": "code",
   "execution_count": 9,
   "id": "1a494f37",
   "metadata": {},
   "outputs": [
    {
     "data": {
      "text/html": [
       "<div>\n",
       "<style scoped>\n",
       "    .dataframe tbody tr th:only-of-type {\n",
       "        vertical-align: middle;\n",
       "    }\n",
       "\n",
       "    .dataframe tbody tr th {\n",
       "        vertical-align: top;\n",
       "    }\n",
       "\n",
       "    .dataframe thead th {\n",
       "        text-align: right;\n",
       "    }\n",
       "</style>\n",
       "<table border=\"1\" class=\"dataframe\">\n",
       "  <thead>\n",
       "    <tr style=\"text-align: right;\">\n",
       "      <th></th>\n",
       "      <th>x</th>\n",
       "      <th>y</th>\n",
       "      <th>local_timestamp</th>\n",
       "      <th>unix_timestamp</th>\n",
       "      <th>tz_offset</th>\n",
       "      <th>identifier</th>\n",
       "    </tr>\n",
       "  </thead>\n",
       "  <tbody>\n",
       "    <tr>\n",
       "      <th>0</th>\n",
       "      <td>7.500000</td>\n",
       "      <td>8.000000</td>\n",
       "      <td>2024-01-01 00:00:00-05:00</td>\n",
       "      <td>1704085200</td>\n",
       "      <td>-18000</td>\n",
       "      <td>Bob</td>\n",
       "    </tr>\n",
       "    <tr>\n",
       "      <th>1</th>\n",
       "      <td>7.500000</td>\n",
       "      <td>8.000000</td>\n",
       "      <td>2024-01-01 00:01:00-05:00</td>\n",
       "      <td>1704085260</td>\n",
       "      <td>-18000</td>\n",
       "      <td>Bob</td>\n",
       "    </tr>\n",
       "    <tr>\n",
       "      <th>2</th>\n",
       "      <td>7.500000</td>\n",
       "      <td>8.000000</td>\n",
       "      <td>2024-01-01 00:02:00-05:00</td>\n",
       "      <td>1704085320</td>\n",
       "      <td>-18000</td>\n",
       "      <td>Bob</td>\n",
       "    </tr>\n",
       "    <tr>\n",
       "      <th>3</th>\n",
       "      <td>7.500000</td>\n",
       "      <td>8.000000</td>\n",
       "      <td>2024-01-01 00:03:00-05:00</td>\n",
       "      <td>1704085380</td>\n",
       "      <td>-18000</td>\n",
       "      <td>Bob</td>\n",
       "    </tr>\n",
       "    <tr>\n",
       "      <th>4</th>\n",
       "      <td>7.500000</td>\n",
       "      <td>8.000000</td>\n",
       "      <td>2024-01-01 00:04:00-05:00</td>\n",
       "      <td>1704085440</td>\n",
       "      <td>-18000</td>\n",
       "      <td>Bob</td>\n",
       "    </tr>\n",
       "    <tr>\n",
       "      <th>...</th>\n",
       "      <td>...</td>\n",
       "      <td>...</td>\n",
       "      <td>...</td>\n",
       "      <td>...</td>\n",
       "      <td>...</td>\n",
       "      <td>...</td>\n",
       "    </tr>\n",
       "    <tr>\n",
       "      <th>10076</th>\n",
       "      <td>11.784846</td>\n",
       "      <td>7.146775</td>\n",
       "      <td>2024-01-07 23:56:00-05:00</td>\n",
       "      <td>1704689760</td>\n",
       "      <td>-18000</td>\n",
       "      <td>Bob</td>\n",
       "    </tr>\n",
       "    <tr>\n",
       "      <th>10077</th>\n",
       "      <td>11.995111</td>\n",
       "      <td>7.260109</td>\n",
       "      <td>2024-01-07 23:57:00-05:00</td>\n",
       "      <td>1704689820</td>\n",
       "      <td>-18000</td>\n",
       "      <td>Bob</td>\n",
       "    </tr>\n",
       "    <tr>\n",
       "      <th>10078</th>\n",
       "      <td>11.995111</td>\n",
       "      <td>7.260109</td>\n",
       "      <td>2024-01-07 23:58:00-05:00</td>\n",
       "      <td>1704689880</td>\n",
       "      <td>-18000</td>\n",
       "      <td>Bob</td>\n",
       "    </tr>\n",
       "    <tr>\n",
       "      <th>10079</th>\n",
       "      <td>11.815594</td>\n",
       "      <td>7.083339</td>\n",
       "      <td>2024-01-07 23:59:00-05:00</td>\n",
       "      <td>1704689940</td>\n",
       "      <td>-18000</td>\n",
       "      <td>Bob</td>\n",
       "    </tr>\n",
       "    <tr>\n",
       "      <th>10080</th>\n",
       "      <td>11.815594</td>\n",
       "      <td>7.083339</td>\n",
       "      <td>2024-01-08 00:00:00-05:00</td>\n",
       "      <td>1704690000</td>\n",
       "      <td>-18000</td>\n",
       "      <td>Bob</td>\n",
       "    </tr>\n",
       "  </tbody>\n",
       "</table>\n",
       "<p>10081 rows × 6 columns</p>\n",
       "</div>"
      ],
      "text/plain": [
       "               x         y           local_timestamp  unix_timestamp  \\\n",
       "0       7.500000  8.000000 2024-01-01 00:00:00-05:00      1704085200   \n",
       "1       7.500000  8.000000 2024-01-01 00:01:00-05:00      1704085260   \n",
       "2       7.500000  8.000000 2024-01-01 00:02:00-05:00      1704085320   \n",
       "3       7.500000  8.000000 2024-01-01 00:03:00-05:00      1704085380   \n",
       "4       7.500000  8.000000 2024-01-01 00:04:00-05:00      1704085440   \n",
       "...          ...       ...                       ...             ...   \n",
       "10076  11.784846  7.146775 2024-01-07 23:56:00-05:00      1704689760   \n",
       "10077  11.995111  7.260109 2024-01-07 23:57:00-05:00      1704689820   \n",
       "10078  11.995111  7.260109 2024-01-07 23:58:00-05:00      1704689880   \n",
       "10079  11.815594  7.083339 2024-01-07 23:59:00-05:00      1704689940   \n",
       "10080  11.815594  7.083339 2024-01-08 00:00:00-05:00      1704690000   \n",
       "\n",
       "       tz_offset identifier  \n",
       "0         -18000        Bob  \n",
       "1         -18000        Bob  \n",
       "2         -18000        Bob  \n",
       "3         -18000        Bob  \n",
       "4         -18000        Bob  \n",
       "...          ...        ...  \n",
       "10076     -18000        Bob  \n",
       "10077     -18000        Bob  \n",
       "10078     -18000        Bob  \n",
       "10079     -18000        Bob  \n",
       "10080     -18000        Bob  \n",
       "\n",
       "[10081 rows x 6 columns]"
      ]
     },
     "execution_count": 9,
     "metadata": {},
     "output_type": "execute_result"
    }
   ],
   "source": [
    "Bob.trajectory"
   ]
  },
  {
   "cell_type": "markdown",
   "id": "1778d274",
   "metadata": {},
   "source": [
    "To visualize an `Agent`'s trajectory, we can call the `plot_city` method of the `City` class and overlay the points of the trajectory using the `ax.scatter` method of matplotlib."
   ]
  },
  {
   "cell_type": "code",
   "execution_count": null,
   "id": "4f98e89d",
   "metadata": {
    "tags": []
   },
   "outputs": [],
   "source": [
    "fig, ax = plt.subplots(figsize=(5, 5))\n",
    "city.plot_city(ax, doors=True, address=False, zorder=1)\n",
    "\n",
    "ax.set_yticklabels([])\n",
    "ax.set_xticklabels([])\n",
    "ax.set_xticks([])\n",
    "ax.set_yticks([])\n",
    "\n",
    "ax.scatter(x=Bob.trajectory.x, \n",
    "           y=Bob.trajectory.y, \n",
    "           s=0.5, color='red', alpha=0.1)\n",
    "\n",
    "plt.savefig(\"garden-city-one-user.png\")"
   ]
  },
  {
   "cell_type": "markdown",
   "id": "1a623451",
   "metadata": {},
   "source": [
    "The following code produces an animation of Bob's movement. We limit the animation to the 24 hours between midnight January 4 to midnight January 5 for speed and tractability of the output."
   ]
  },
  {
   "cell_type": "code",
   "execution_count": null,
   "id": "15292c37-0b18-4ecb-a5a7-7e0783389212",
   "metadata": {
    "tags": []
   },
   "outputs": [],
   "source": [
    "produce_animation = False\n",
    "\n",
    "if produce_animation:\n",
    "    fig, ax = plt.subplots(figsize=(6, 6))\n",
    "\n",
    "    city.plot_city(ax=ax, doors=True, address=False, zorder=1)\n",
    "\n",
    "    ax.set_yticklabels([])\n",
    "    ax.set_xticklabels([])\n",
    "    ax.set_xticks([])\n",
    "    ax.set_yticks([])\n",
    "\n",
    "    line, = ax.plot([], [], color='blue', alpha=0.1)\n",
    "    scatter = ax.scatter([], [], s=8, color='black', alpha=0.5)\n",
    "    time_text = ax.text(0.5, 0.975, '', transform=ax.transAxes)\n",
    "\n",
    "    fade_length = 60  # Adjust this to control the length of the fade\n",
    "\n",
    "    df = Bob.trajectory[5760:7200]  # 0:00 Jan 4 – 0:00 Jan 5\n",
    "\n",
    "    def update(i):\n",
    "        if i < fade_length:\n",
    "            current_fade_length = i + 1\n",
    "        else:\n",
    "            current_fade_length = fade_length\n",
    "        alphas = np.array([np.exp(-0.5*x) for x in range(current_fade_length)][::-1])\n",
    "\n",
    "        line.set_data(df['x'].iloc[:i], df['y'].iloc[:i])\n",
    "        scatter.set_offsets(df[['x', 'y']].iloc[:i])\n",
    "        scatter.set_alpha(np.pad(alphas, (i + 1 - current_fade_length, 0), 'constant'))\n",
    "        time_text.set_text(df['local_timestamp'].iloc[i].strftime('%Y-%m-%d %H:%M:%S'))\n",
    "        time_text.set_position((0.38, 0.965))\n",
    "        time_text.set_fontsize(8)\n",
    "        return line, scatter\n",
    "\n",
    "    anim = FuncAnimation(fig, update, frames=len(df), interval=50, blit=True)\n",
    "    anim.save('anim-epr.gif', writer=PillowWriter(fps=20))\n",
    "    plt.close(fig)"
   ]
  },
  {
   "cell_type": "markdown",
   "id": "453340bd",
   "metadata": {},
   "source": [
    "## Sparsifying a complete trajectory"
   ]
  },
  {
   "cell_type": "markdown",
   "id": "c4c54bdc",
   "metadata": {},
   "source": [
    "To simulate realistic GPS trajectory data with the sparsity and clusters of pings (or 'burstiness') observed in commercial datasets, we make use of self-exciting point processes—a type of stochastic process that naturally captures triggering and clustering behavior. From a complete ground-truth trajectory, a sparsifed trajectory can be sampled via the `Agent.sample_traj_hier_nhpp` function.\n",
    "\n",
    "The sampling function `Agent.sample_traj_hier_nhpp` is controlled by three parameters: \n",
    "* `beta_start`: the start times of bursts occur according to a Poisson Process with rate 1/`beta_start`\n",
    "* `beta_dur`: the duration of bursts are sampled from a Exponential distribution with rate 1/`beta_dur`\n",
    "* `beta_ping`: within a burst, pings are sampled according to a Poisson Process with rate 1/`beta_ping`\n",
    "\n",
    "These parameters can be interpreted as follows: A burst is expected every `beta_start` minutes and lasts an expected `beta_dur` minutes. Within the burst, a ping is expected to be sampled every `beta_ping` minutes.\n",
    "\n",
    "Moreover, GPS measurements are often subject to horizontal errors due to various factors like signal obstruction and atmospheric conditions. As such, the sampling function also adds Gaussian noise to the true positions, with the horizontal accuracy indicated in the 'ha' column of the output."
   ]
  },
  {
   "cell_type": "markdown",
   "id": "6762969b",
   "metadata": {},
   "source": [
    "In the example below, we sample from Bob's complete trajectory with the following parameters: `beta_start`=300, `beta_dur`=60, and `beta_ping`=10. "
   ]
  },
  {
   "cell_type": "code",
   "execution_count": 51,
   "id": "29080d1f",
   "metadata": {},
   "outputs": [
    {
     "data": {
      "text/html": [
       "<div>\n",
       "<style scoped>\n",
       "    .dataframe tbody tr th:only-of-type {\n",
       "        vertical-align: middle;\n",
       "    }\n",
       "\n",
       "    .dataframe tbody tr th {\n",
       "        vertical-align: top;\n",
       "    }\n",
       "\n",
       "    .dataframe thead th {\n",
       "        text-align: right;\n",
       "    }\n",
       "</style>\n",
       "<table border=\"1\" class=\"dataframe\">\n",
       "  <thead>\n",
       "    <tr style=\"text-align: right;\">\n",
       "      <th></th>\n",
       "      <th>x</th>\n",
       "      <th>y</th>\n",
       "      <th>local_timestamp</th>\n",
       "      <th>unix_timestamp</th>\n",
       "      <th>tz_offset</th>\n",
       "      <th>identifier</th>\n",
       "      <th>ha</th>\n",
       "    </tr>\n",
       "    <tr>\n",
       "      <th>unix_timestamp</th>\n",
       "      <th></th>\n",
       "      <th></th>\n",
       "      <th></th>\n",
       "      <th></th>\n",
       "      <th></th>\n",
       "      <th></th>\n",
       "      <th></th>\n",
       "    </tr>\n",
       "  </thead>\n",
       "  <tbody>\n",
       "    <tr>\n",
       "      <th>1704095760</th>\n",
       "      <td>7.106924</td>\n",
       "      <td>7.786334</td>\n",
       "      <td>2024-01-01 02:56:00-05:00</td>\n",
       "      <td>1704095760</td>\n",
       "      <td>-18000</td>\n",
       "      <td>Bob</td>\n",
       "      <td>0.75</td>\n",
       "    </tr>\n",
       "    <tr>\n",
       "      <th>1704096000</th>\n",
       "      <td>7.287887</td>\n",
       "      <td>7.693551</td>\n",
       "      <td>2024-01-01 03:00:00-05:00</td>\n",
       "      <td>1704096000</td>\n",
       "      <td>-18000</td>\n",
       "      <td>Bob</td>\n",
       "      <td>0.75</td>\n",
       "    </tr>\n",
       "    <tr>\n",
       "      <th>1704096240</th>\n",
       "      <td>7.024951</td>\n",
       "      <td>7.319165</td>\n",
       "      <td>2024-01-01 03:04:00-05:00</td>\n",
       "      <td>1704096240</td>\n",
       "      <td>-18000</td>\n",
       "      <td>Bob</td>\n",
       "      <td>0.75</td>\n",
       "    </tr>\n",
       "    <tr>\n",
       "      <th>1704096360</th>\n",
       "      <td>7.471641</td>\n",
       "      <td>7.815141</td>\n",
       "      <td>2024-01-01 03:06:00-05:00</td>\n",
       "      <td>1704096360</td>\n",
       "      <td>-18000</td>\n",
       "      <td>Bob</td>\n",
       "      <td>0.75</td>\n",
       "    </tr>\n",
       "    <tr>\n",
       "      <th>1704111120</th>\n",
       "      <td>7.057704</td>\n",
       "      <td>7.187391</td>\n",
       "      <td>2024-01-01 07:12:00-05:00</td>\n",
       "      <td>1704111120</td>\n",
       "      <td>-18000</td>\n",
       "      <td>Bob</td>\n",
       "      <td>0.75</td>\n",
       "    </tr>\n",
       "  </tbody>\n",
       "</table>\n",
       "</div>"
      ],
      "text/plain": [
       "                       x         y           local_timestamp  unix_timestamp  \\\n",
       "unix_timestamp                                                                 \n",
       "1704095760      7.106924  7.786334 2024-01-01 02:56:00-05:00      1704095760   \n",
       "1704096000      7.287887  7.693551 2024-01-01 03:00:00-05:00      1704096000   \n",
       "1704096240      7.024951  7.319165 2024-01-01 03:04:00-05:00      1704096240   \n",
       "1704096360      7.471641  7.815141 2024-01-01 03:06:00-05:00      1704096360   \n",
       "1704111120      7.057704  7.187391 2024-01-01 07:12:00-05:00      1704111120   \n",
       "\n",
       "                tz_offset identifier    ha  \n",
       "unix_timestamp                              \n",
       "1704095760         -18000        Bob  0.75  \n",
       "1704096000         -18000        Bob  0.75  \n",
       "1704096240         -18000        Bob  0.75  \n",
       "1704096360         -18000        Bob  0.75  \n",
       "1704111120         -18000        Bob  0.75  "
      ]
     },
     "execution_count": 51,
     "metadata": {},
     "output_type": "execute_result"
    }
   ],
   "source": [
    "# Sample sparse trajectory and latent variables for Bob\n",
    "burst_info = Bob.sample_traj_hier_nhpp(\n",
    "    beta_start=300, # a burst every 300 mins on average\n",
    "    beta_durations=60, # average burst duration is 60 mins\n",
    "    beta_ping=10, # a ping every 10 mins within a burst\n",
    "    seed=2,\n",
    "    output_bursts=True)\n",
    "Bob.sparse_traj.head()"
   ]
  },
  {
   "cell_type": "markdown",
   "id": "f317741f",
   "metadata": {},
   "source": [
    "To visualize the distribution of the sparsified pings, set `output_bursts=True` when calling `Agent.sample_traj_hier_nhpp` to obtain information about the start time and duration of bursts. These can then be graphed alongside the sampled pings to visualize the sparsification. The start times are indicated by the red lines and the duration of bursts are shown by grey rectangles. The sampled pings are the black lines."
   ]
  },
  {
   "cell_type": "code",
   "execution_count": 52,
   "id": "827d1aab-c00a-4d90-89e2-52604c7be0ba",
   "metadata": {
    "tags": []
   },
   "outputs": [
    {
     "data": {
      "image/png": "[encoded data removed]",
      "text/plain": [
       "<Figure size 1000x300 with 3 Axes>"
      ]
     },
     "metadata": {},
     "output_type": "display_data"
    }
   ],
   "source": [
    "fig, axes = plt.subplots(nrows=3,figsize=(10, 3))\n",
    "for ax in axes:\n",
    "    ax.set(xlim=(pd.Timestamp('2024-01-01 05:00', tz='America/New_York'), \n",
    "                 pd.Timestamp('2024-01-01 22:00', tz='America/New_York')))\n",
    "    ax.xaxis.set_major_formatter(mdates.DateFormatter('%H:%M'))\n",
    "    [spine.set_visible(False) for name, spine in ax.spines.items() if name != 'bottom']\n",
    "    ax.yaxis.set_visible(False)\n",
    "\n",
    "# Plot burst start times (Ns)\n",
    "axes[0].vlines(burst_info['start_time'], 0, 1, color='red', linewidth=1.2)\n",
    "axes[0].set_title('a) Burst start times', loc='left', fontsize=10)\n",
    "\n",
    "# Plot burst end times (Ne)\n",
    "for _, row in burst_info.iterrows():\n",
    "    axes[1].fill_betweenx([0, 1], row['start_time'], row['end_time'], color='lightgrey', zorder=1)\n",
    "axes[1].vlines(burst_info['end_time'], 0, 1, color='blue', linewidth=1.2)\n",
    "axes[1].set_title('b) Burst end times', loc='left', fontsize=10)\n",
    "\n",
    "# Plot pings (N)\n",
    "axes[2].vlines(Bob.sparse_traj['local_timestamp'], 0, 1, color='black', linewidth=1)\n",
    "axes[2].set_title('c) Ping times', loc='left', fontsize=10)\n",
    "\n",
    "fig.subplots_adjust(hspace=2)\n",
    "fig.savefig(\"nhpp-sampling.png\", bbox_inches='tight')\n",
    "plt.show()"
   ]
  },
  {
   "cell_type": "markdown",
   "id": "253a3087",
   "metadata": {},
   "source": [
    "# Generating multiple agents"
   ]
  },
  {
   "cell_type": "markdown",
   "id": "844326ff",
   "metadata": {},
   "source": [
    "A `Population` may contain any number of `Agent`s, which can be initialized en masse using the `Population.generate_agents` method. Each `Agent` is assigned a random name as well as a uniformly sampled home and workplace. The `start_time` parameter indicates the time at which all the `Agent`s start their trajectories.\n",
    "\n",
    "`Agent` trajectories can be generated by looping over each `Agent` and running the `Population.generate_trajectory` function as explained above. \n",
    "\n",
    "_Note: if using a seed, make sure that each agent's seed is different to avoid all agents having the same trajectory._"
   ]
  },
  {
   "cell_type": "code",
   "execution_count": null,
   "id": "b02f8765-e3f1-4443-b0f4-af85ccd60bde",
   "metadata": {
    "tags": []
   },
   "outputs": [],
   "source": [
    "population2 = Population(city)\n",
    "population2.generate_agents(N=5,\n",
    "                            start_time=pd.Timestamp('2024-01-01 08:00', tz='America/New_York'),\n",
    "                            seed=100)\n",
    "\n",
    "for i, agent_id in enumerate(population2.roster):\n",
    "    agent = population2.roster[agent_id]\n",
    "    population.generate_trajectory(agent=agent,\n",
    "                                   T=pd.Timestamp('2024-01-08 00:00', tz='America/New_York'),\n",
    "                                   seed=100+i)\n",
    "    agent.sample_traj_hier_nhpp(beta_start=300,\n",
    "                                beta_durations=60,\n",
    "                                beta_ping=10,\n",
    "                                seed=100+i)\n",
    "\n",
    "population2.roster"
   ]
  },
  {
   "cell_type": "markdown",
   "id": "972e9dbe",
   "metadata": {},
   "source": [
    "Any individual `Agent` can be accessed by calling their identifier through the `Population.roster` dictionary. "
   ]
  },
  {
   "cell_type": "code",
   "execution_count": null,
   "id": "844b8402",
   "metadata": {},
   "outputs": [],
   "source": [
    "nifty_saha = population2.roster['nifty_saha']\n",
    "print(\"Diary:\\n\", nifty_saha.diary.head())\n",
    "print(\"\\nTrajectory:\\n\", nifty_saha.trajectory.head())\n",
    "print(\"\\nSparse Trajectory:\\n\", nifty_saha.sparse_traj.head())"
   ]
  },
  {
   "cell_type": "markdown",
   "id": "b762f692-41bc-434b-a447-e6bf82abed82",
   "metadata": {},
   "source": [
    "# Example 1: testing stop detection algorithms"
   ]
  },
  {
   "cell_type": "markdown",
   "id": "ceef75f8",
   "metadata": {},
   "source": [
    "As a demonstration of our generative model, we adapt the robustness experiment proposed in Barreras and Watts (2024), which aimed to show that common stop detection algorithms can be impacted by ping sparsity. Our generation of sparse ping times allows for modeling the clustering of pings into bursts, which can produce a more nuanced notion of `sparsity' than overall ping frequency. This toy example reveals how global sparsity might be an inadequate metric to use for calibrating stop-detection algorithms since, even when keeping it constant, changes in the clustering pattern of pings results in important variations of the output and can cause the same problems—such as omitting, merging, or splitting stops.\n",
    "\n",
    "We first initialize an `Agent` (Charlie) and generate a complete ground-truth trajectory. The destination diary is manually initialized as consecutive 1-hour visits to two homes followed by a 3-hour visit at a larger retail building."
   ]
  },
  {
   "cell_type": "code",
   "execution_count": 40,
   "id": "a7705114-0441-49a4-b8f5-b55a72b1f12c",
   "metadata": {
    "tags": []
   },
   "outputs": [
    {
     "name": "stdout",
     "output_type": "stream",
     "text": [
      "Agent identifier already exists in population. Replacing corresponding agent.\n"
     ]
    },
    {
     "data": {
      "text/html": [
       "<div>\n",
       "<style scoped>\n",
       "    .dataframe tbody tr th:only-of-type {\n",
       "        vertical-align: middle;\n",
       "    }\n",
       "\n",
       "    .dataframe tbody tr th {\n",
       "        vertical-align: top;\n",
       "    }\n",
       "\n",
       "    .dataframe thead th {\n",
       "        text-align: right;\n",
       "    }\n",
       "</style>\n",
       "<table border=\"1\" class=\"dataframe\">\n",
       "  <thead>\n",
       "    <tr style=\"text-align: right;\">\n",
       "      <th></th>\n",
       "      <th>local_timestamp</th>\n",
       "      <th>unix_timestamp</th>\n",
       "      <th>tz_offset</th>\n",
       "      <th>duration</th>\n",
       "      <th>location</th>\n",
       "      <th>identifier</th>\n",
       "    </tr>\n",
       "  </thead>\n",
       "  <tbody>\n",
       "    <tr>\n",
       "      <th>0</th>\n",
       "      <td>2024-06-01 00:00:00-04:00</td>\n",
       "      <td>1717214400</td>\n",
       "      <td>-14400</td>\n",
       "      <td>61</td>\n",
       "      <td>h-x13-y11</td>\n",
       "      <td>Charlie</td>\n",
       "    </tr>\n",
       "    <tr>\n",
       "      <th>1</th>\n",
       "      <td>2024-06-01 01:01:00-04:00</td>\n",
       "      <td>1717218060</td>\n",
       "      <td>-14400</td>\n",
       "      <td>2</td>\n",
       "      <td>None</td>\n",
       "      <td>Charlie</td>\n",
       "    </tr>\n",
       "    <tr>\n",
       "      <th>2</th>\n",
       "      <td>2024-06-01 01:03:00-04:00</td>\n",
       "      <td>1717218180</td>\n",
       "      <td>-14400</td>\n",
       "      <td>58</td>\n",
       "      <td>h-x13-y9</td>\n",
       "      <td>Charlie</td>\n",
       "    </tr>\n",
       "    <tr>\n",
       "      <th>3</th>\n",
       "      <td>2024-06-01 02:01:00-04:00</td>\n",
       "      <td>1717221660</td>\n",
       "      <td>-14400</td>\n",
       "      <td>4</td>\n",
       "      <td>None</td>\n",
       "      <td>Charlie</td>\n",
       "    </tr>\n",
       "    <tr>\n",
       "      <th>4</th>\n",
       "      <td>2024-06-01 02:05:00-04:00</td>\n",
       "      <td>1717221900</td>\n",
       "      <td>-14400</td>\n",
       "      <td>56</td>\n",
       "      <td>w-x18-y10</td>\n",
       "      <td>Charlie</td>\n",
       "    </tr>\n",
       "    <tr>\n",
       "      <th>5</th>\n",
       "      <td>2024-06-01 03:01:00-04:00</td>\n",
       "      <td>1717225260</td>\n",
       "      <td>-14400</td>\n",
       "      <td>2</td>\n",
       "      <td>None</td>\n",
       "      <td>Charlie</td>\n",
       "    </tr>\n",
       "    <tr>\n",
       "      <th>6</th>\n",
       "      <td>2024-06-01 03:03:00-04:00</td>\n",
       "      <td>1717225380</td>\n",
       "      <td>-14400</td>\n",
       "      <td>58</td>\n",
       "      <td>w-x18-y8</td>\n",
       "      <td>Charlie</td>\n",
       "    </tr>\n",
       "  </tbody>\n",
       "</table>\n",
       "</div>"
      ],
      "text/plain": [
       "            local_timestamp  unix_timestamp  tz_offset  duration   location  \\\n",
       "0 2024-06-01 00:00:00-04:00      1717214400     -14400        61  h-x13-y11   \n",
       "1 2024-06-01 01:01:00-04:00      1717218060     -14400         2       None   \n",
       "2 2024-06-01 01:03:00-04:00      1717218180     -14400        58   h-x13-y9   \n",
       "3 2024-06-01 02:01:00-04:00      1717221660     -14400         4       None   \n",
       "4 2024-06-01 02:05:00-04:00      1717221900     -14400        56  w-x18-y10   \n",
       "5 2024-06-01 03:01:00-04:00      1717225260     -14400         2       None   \n",
       "6 2024-06-01 03:03:00-04:00      1717225380     -14400        58   w-x18-y8   \n",
       "\n",
       "  identifier  \n",
       "0    Charlie  \n",
       "1    Charlie  \n",
       "2    Charlie  \n",
       "3    Charlie  \n",
       "4    Charlie  \n",
       "5    Charlie  \n",
       "6    Charlie  "
      ]
     },
     "execution_count": 40,
     "metadata": {},
     "output_type": "execute_result"
    }
   ],
   "source": [
    "tz = ZoneInfo(\"America/New_York\")\n",
    "start_time = pd.date_range(start='2024-06-01 00:00', periods=4, freq='60min', tz=tz)\n",
    "tz_offset = loader._offset_seconds_from_ts(start_time[0])\n",
    "unix_timestamp = [int(t.timestamp()) for t in start_time]\n",
    "duration = [60]*4  # in minutes\n",
    "location = ['h-x13-y11'] * 1 + ['h-x13-y9'] * 1 + ['w-x18-y10'] * 1 + ['w-x18-y8'] * 1\n",
    "\n",
    "destination = pd.DataFrame(\n",
    "    {\"local_timestamp\":start_time,\n",
    "     \"unix_timestamp\":unix_timestamp,\n",
    "     \"tz_offset\":tz_offset,\n",
    "     \"duration\":duration,\n",
    "     \"location\":location}\n",
    "     )\n",
    "destination = tg.condense_destinations(destination)\n",
    "\n",
    "Charlie = Agent(identifier=\"Charlie\",\n",
    "                home='h-x13-y11',\n",
    "                workplace='w-x18-y10',\n",
    "                city=city,\n",
    "                destination_diary=destination,\n",
    "                dt=1)\n",
    "\n",
    "population.add_agent(Charlie)\n",
    "population.generate_trajectory(Charlie, seed=75)\n",
    "\n",
    "Charlie.diary"
   ]
  },
  {
   "cell_type": "markdown",
   "id": "4f78f66d",
   "metadata": {},
   "source": [
    "Charlie's ground-truth trajectory is plotted below."
   ]
  },
  {
   "cell_type": "code",
   "execution_count": 41,
   "id": "93d14d7b-00e9-4477-bcec-a521a875e0cd",
   "metadata": {
    "tags": []
   },
   "outputs": [
    {
     "data": {
      "image/png": "[encoded data removed]",
      "text/plain": [
       "<Figure size 900x500 with 1 Axes>"
      ]
     },
     "metadata": {},
     "output_type": "display_data"
    }
   ],
   "source": [
    "fig, ax = plt.subplots(figsize=(9, 5))\n",
    "ax.scatter(x=Charlie.trajectory.x, \n",
    "           y=Charlie.trajectory.y, \n",
    "           s=6, color='black', alpha=1, zorder=2)\n",
    "city.plot_city(ax, doors=True, address=False, zorder=1)\n",
    "\n",
    "ax.plot(Charlie.trajectory.x,\n",
    "        Charlie.trajectory.y,\n",
    "        linewidth=1, color='blue', alpha=0.2)\n",
    "\n",
    "ax.set_xlim(12, 22)\n",
    "ax.set_ylim(7, 14)\n",
    "ax.set_yticklabels([])\n",
    "ax.set_xticklabels([])\n",
    "ax.set_xticks([])\n",
    "ax.set_yticks([])\n",
    "\n",
    "plt.tight_layout()\n",
    "plt.savefig(\"exp1-trajectory.png\")\n",
    "\n",
    "plt.show()"
   ]
  },
  {
   "cell_type": "code",
   "execution_count": 50,
   "id": "cdfebf4a",
   "metadata": {},
   "outputs": [
    {
     "data": {
      "image/png": "[encoded data removed]",
      "text/plain": [
       "<Figure size 900x500 with 1 Axes>"
      ]
     },
     "metadata": {},
     "output_type": "display_data"
    }
   ],
   "source": [
    "fig, ax = plt.subplots(figsize=(9, 5))\n",
    "hier_nhpp_params = (10, 1000, 5)\n",
    "lachesis_params = (5, 120, 1.8)\n",
    "seed = 120\n",
    "traj_cols = {'user_id':'identifier',\n",
    "             'x':'x',\n",
    "             'y':'y',\n",
    "             'timestamp':'unix_timestamp'}\n",
    "\n",
    "agent = Charlie\n",
    "\n",
    "agent.sample_traj_hier_nhpp(*hier_nhpp_params, seed=seed, replace_sparse_traj=True)\n",
    "\n",
    "lachesis_out = Lachesis._lachesis_labels(agent.sparse_traj, *lachesis_params, traj_cols)\n",
    "lachesis_stays = Lachesis.lachesis(agent.sparse_traj, *lachesis_params, traj_cols, complete_output=False)\n",
    "\n",
    "# compute total stop duration\n",
    "total_stop_duration = lachesis_stays[\"duration\"].sum()\n",
    "\n",
    "num_clusters = len(lachesis_stays)\n",
    "for cid in range(num_clusters):\n",
    "    cpings = lachesis_out[lachesis_out == cid].index\n",
    "    cdata = agent.sparse_traj.loc[cpings]\n",
    "    col = cm.tab20c(cid/(num_clusters))\n",
    "    ax.scatter(cdata.x, cdata.y, s=80, color=col, alpha=1, zorder=2)\n",
    "\n",
    "ax.scatter(agent.sparse_traj.x, agent.sparse_traj.y, s=6, color='black', alpha=1, zorder=2)\n",
    "city.plot_city(ax, doors=True, address=False, zorder=1)\n",
    "\n",
    "ax.set_xlim(12, 20)\n",
    "ax.set_ylim(7, 14)\n",
    "ax.set_yticklabels([])\n",
    "ax.set_xticklabels([])\n",
    "ax.set_xticks([])\n",
    "ax.set_yticks([])\n",
    "\n",
    "plt.savefig(\"with_pings.svg\")"
   ]
  },
  {
   "cell_type": "markdown",
   "id": "dcb38c41",
   "metadata": {},
   "source": [
    "We sample Charlie's ground-truth trajectory at two levels of sparsity. \n",
    "* The higher sparsity sample uses parameters `beta_start`=150, `beta_dur`=20, and `beta_ping`=2. \n",
    "* The lower sparsity sample uses parameters `beta_start`=60, `beta_dur`=40, and `beta_ping`=10. \n",
    "\n",
    "The high sparsity sample expects a burst every 2.5 hours with a mean length of 20 minutes and a ping expected roughly every 2 minutes within the burst, for an expected total burst period of 40 minutes over 5 hours. The low sparsity sample expects a burst every hour with a mean length of 40 minutes and a ping expected roughly every 5 minutes within the burst, for an expected total burst period of 200 minutes over 5 hours.\n",
    "\n",
    "Note that both sparsity levels expect 20 pings over the 5-hour duration. We deliberately choose these parameters to hold overall ping frequency fixed in order to isolate the effect of the burstiness pattern."
   ]
  },
  {
   "cell_type": "code",
   "execution_count": null,
   "id": "33ddfad4-20bc-4d35-b563-4577d92d5b1f",
   "metadata": {
    "tags": []
   },
   "outputs": [
    {
     "data": {
      "image/png": "[encoded data removed]",
      "text/plain": [
       "<Figure size 1100x400 with 2 Axes>"
      ]
     },
     "metadata": {},
     "output_type": "display_data"
    }
   ],
   "source": [
    "fig, axes = plt.subplots(1, 2, figsize=(11, 4))\n",
    "hier_nhpp_params = [(150, 20, 2), (60, 40, 10)]\n",
    "seed = 819\n",
    "\n",
    "for j in range(2):\n",
    "    ax = axes[j]\n",
    "    Charlie.sample_traj_hier_nhpp(*hier_nhpp_params[j], seed=seed)\n",
    "\n",
    "    ax.scatter(Charlie.sparse_traj.x, Charlie.sparse_traj.y, s=6, color='black', alpha=1, zorder=2)\n",
    "    city.plot_city(ax, doors=True, address=False, zorder=1)\n",
    "\n",
    "    ax.set_xlim(12, 22)\n",
    "    ax.set_ylim(7, 14)\n",
    "    ax.set_yticklabels([])\n",
    "    ax.set_xticklabels([])\n",
    "    ax.set_xticks([])\n",
    "    ax.set_yticks([])\n",
    "\n",
    "axes[0].set_xlabel('a) Lower Local Sparsity', fontsize='x-large')\n",
    "axes[1].set_xlabel('b) Higher Local Sparsity ', fontsize='x-large')\n",
    "\n",
    "plt.tight_layout()\n",
    "plt.savefig(\"exp1-sparse.png\")\n",
    "plt.show()"
   ]
  },
  {
   "cell_type": "markdown",
   "id": "5940e06b",
   "metadata": {},
   "source": [
    "The distribution of the pings as well as the burst durations for both levels of local sparsity are plotted below."
   ]
  },
  {
   "cell_type": "code",
   "execution_count": null,
   "id": "3b4b2a3b",
   "metadata": {},
   "outputs": [],
   "source": [
    "fig, axes = plt.subplots(2, 1, figsize=(10, 2))\n",
    "\n",
    "for j in range(2):\n",
    "    ax = axes[j]\n",
    "    ax.set(xlim=(pd.Timestamp('2024-06-01 00:00', tz='America/New_York'), \n",
    "                 pd.Timestamp('2024-06-01 05:00', tz='America/New_York')))\n",
    "    ax.xaxis.set_major_formatter(mdates.DateFormatter('%H:%M'))\n",
    "    [spine.set_visible(False) for name, spine in ax.spines.items() if name != 'bottom']\n",
    "    ax.yaxis.set_visible(False)\n",
    "\n",
    "    burst_info = Charlie.sample_traj_hier_nhpp(\n",
    "        *hier_nhpp_params[j], \n",
    "        seed=seed, \n",
    "        output_bursts=True,\n",
    "        replace_sparse_traj=True)\n",
    "\n",
    "    #ax.vlines(burst_info['start_time'], 0.95, 1.05, color='red', linewidth=1.2, alpha=1)\n",
    "\n",
    "    for i, row in burst_info.iterrows():\n",
    "        ax.fill_betweenx(\n",
    "            [0.95, 1.05],\n",
    "            row['start_time'],\n",
    "            row['end_time'],\n",
    "            color='lightgrey',\n",
    "            alpha=0.8,\n",
    "            zorder=1\n",
    "        )\n",
    "\n",
    "    ax.vlines(Charlie.sparse_traj['local_timestamp'], 0.95, 1.05, color='black', linewidth=0.8, alpha=1)\n",
    "\n",
    "axes[0].set_title('a) Lower Local Sparsity', loc='left', fontsize=10)\n",
    "axes[1].set_title('b) Higher Local Sparsity ', loc='left', fontsize=10)\n",
    "\n",
    "fig.subplots_adjust(hspace=2)\n",
    "fig.savefig(\"exp1-sparsity-levels.png\", bbox_inches='tight')\n",
    "\n",
    "plt.show()"
   ]
  },
  {
   "cell_type": "markdown",
   "id": "02372afa",
   "metadata": {},
   "source": [
    "We are interested in how the sparsity of the trajectory and parameterization of stop detection algorithms interact. Here, we use a temporal version of DBSCAN to cluster pings into stops. DBSCAN takes three parameters: `time_thresh`, `dist_thresh`, and `min_pts`. Roughly, a point is considered part of a dense cluster if it has at least `min_pts` neighboring points within a distance `dist_thresh` and time gap `time_thresh`; otherwise, it is labeled as noise. \n",
    "\n",
    "We explore a fine and a coarse parameterization of DBSCAN and apply each to the higher and lower sparsity trajectories."
   ]
  },
  {
   "cell_type": "code",
   "execution_count": 31,
   "id": "effea403-cfb1-40ae-8287-4b4c5dcea565",
   "metadata": {
    "tags": []
   },
   "outputs": [
    {
     "data": {
      "image/png": "[encoded data removed]",
      "text/plain": [
       "<Figure size 900x600 with 4 Axes>"
      ]
     },
     "metadata": {},
     "output_type": "display_data"
    }
   ],
   "source": [
    "fig, axes = plt.subplots(2, 2, figsize=(9, 6))\n",
    "dbscan_params = [(15, 30, 3), (15, 30, 3)]\n",
    "traj_cols = {'user_id':'identifier',\n",
    "             'x':'x',\n",
    "             'y':'y',\n",
    "             'timestamp':'unix_timestamp'}\n",
    "\n",
    "for i in range(2):\n",
    "    for j in range(2):\n",
    "        ax = axes[i, j]\n",
    "        Charlie.sample_traj_hier_nhpp(*hier_nhpp_params[j], seed=seed, replace_sparse_traj=True)\n",
    "\n",
    "        dbscan_out = DBSCAN._temporal_dbscan_labels(Charlie.sparse_traj, *dbscan_params[i], traj_cols)\n",
    "\n",
    "        num_clusters = sum(dbscan_out.cluster.unique() > -1)\n",
    "        for cid in range(num_clusters):\n",
    "            cpings = dbscan_out[dbscan_out.cluster == cid]\n",
    "            cdata = Charlie.sparse_traj.loc[cpings.index]\n",
    "            col = cm.tab20c(cid/(num_clusters+1))\n",
    "            ax.scatter(cdata.x, cdata.y, s=80, color=col, alpha=1, zorder=2)\n",
    "\n",
    "        ax.scatter(Charlie.sparse_traj.x, Charlie.sparse_traj.y, s=6, color='black', alpha=1, zorder=2)\n",
    "        city.plot_city(ax, doors=True, address=False, zorder=1)\n",
    "\n",
    "        ax.set_xlim(12, 22)\n",
    "        ax.set_ylim(7, 14)\n",
    "        ax.set_yticklabels([])\n",
    "        ax.set_xticklabels([])\n",
    "        ax.set_xticks([])\n",
    "        ax.set_yticks([])\n",
    "\n",
    "axes[0, 0].set_ylabel('Coarse', fontsize='x-large')\n",
    "axes[1, 0].set_ylabel('Fine', fontsize='x-large')\n",
    "axes[1, 0].set_xlabel('Lower Local Sparsity', fontsize='x-large')\n",
    "axes[1, 1].set_xlabel('Higher Local Sparsity', fontsize='x-large')\n",
    "\n",
    "plt.tight_layout()\n",
    "plt.savefig(\"exp1-stdbscan.png\")\n",
    "plt.show()"
   ]
  },
  {
   "cell_type": "markdown",
   "id": "982c625e",
   "metadata": {},
   "source": [
    "In the top left panel, we observe \"stop merging\", wherein a coarser parametrization struggles to differentiate stops at small neighboring establishments and instead clusters two stops as one. Conversely, a finer parametrization may completely miss a stop at a larger location (as in the bottom left panel) or erroneously cluster a larger stop as two distinct, shorter stops (as in the bottom right panel). Only the top right panel in this example accurately detected the three stops. Thus, it seems like the optimal parameters for a given trajectory could be selected based on the clustering structure and not only on the ping frequency."
   ]
  },
  {
   "cell_type": "markdown",
   "id": "b9e080ba",
   "metadata": {},
   "source": [
    "# Example 2: The effect of noise on stops and dwell time"
   ]
  },
  {
   "cell_type": "markdown",
   "id": "c23b7618",
   "metadata": {},
   "source": [
    "We simulate two agents with the same destination diary but different variance parameters. Both agents spend two hours at the park but one agent (Daniel) stays still with probability 0.75 and moves around with a slower speed ($\\sigma_{\\text{park}} = 1.5/1.96$) whereas the other agent (Elaine) stays still with probability 0.1 and moves around with a faster speed ($\\sigma_{\\text{park}} = 2.5/1.96$). These agent attributes are governed by the input of SLOW_STILL_PROBS (or FAST_STILL_PROBS) and SLOW_SPEEDS (or FAST_SPEEDS) during agent initialization. "
   ]
  },
  {
   "cell_type": "code",
   "execution_count": 33,
   "id": "9e256387",
   "metadata": {},
   "outputs": [],
   "source": [
    "tz = ZoneInfo(\"America/New_York\")\n",
    "start_time = pd.date_range(start='2024-06-01 00:00', periods=2, freq='60min', tz=tz)\n",
    "tz_offset = loader._offset_seconds_from_ts(start_time[0])\n",
    "unix_timestamp = [int(t.timestamp()) for t in start_time]\n",
    "duration = [60]*2  # in minutes\n",
    "\n",
    "location = ['p-x13-y11'] * 2\n",
    "\n",
    "destination = pd.DataFrame(\n",
    "    {\"local_timestamp\": start_time,\n",
    "     \"unix_timestamp\": unix_timestamp,\n",
    "     \"tz_offset\": tz_offset,\n",
    "     \"duration\": duration,\n",
    "     \"location\": location}\n",
    ")\n",
    "destination = tg.condense_destinations(destination)\n",
    "\n",
    "init_trajectory = pd.DataFrame([{\n",
    "    'x': 11.0,\n",
    "    'y': 11.0,\n",
    "    'local_timestamp': pd.Timestamp('2024-06-01 00:00', tz='America/New_York'),\n",
    "    'unix_timestamp': int(pd.Timestamp('2024-06-01 00:00', tz='America/New_York').timestamp()),\n",
    "    'tz_offset': tz_offset,\n",
    "    'identifier': \"Daniel\"\n",
    "}])\n",
    "\n",
    "init_diary = pd.DataFrame([{\n",
    "    'local_timestamp': pd.Timestamp('2024-06-01 00:00', tz='America/New_York'),\n",
    "    'unix_timestamp': int(pd.Timestamp('2024-06-01 00:00', tz='America/New_York').timestamp()),\n",
    "    'tz_offset': tz_offset,\n",
    "    'duration': 1,\n",
    "    'location': 'p-x13-y11'\n",
    "}])\n",
    "\n",
    "# Daniel is slow\n",
    "Daniel = Agent(identifier=\"Daniel\",\n",
    "            home='p-x13-y11',\n",
    "            workplace='w-x15-y9',\n",
    "            city=city,\n",
    "            destination_diary=destination,\n",
    "            still_probs=SLOW_STILL_PROBS,\n",
    "            speeds=SLOW_SPEEDS,\n",
    "            trajectory=init_trajectory,\n",
    "            diary=init_diary,\n",
    "            dt=1)\n",
    "population.add_agent(Daniel)\n",
    "population.generate_trajectory(Daniel, seed=50)\n",
    "\n",
    "# Elaine is fast\n",
    "Elaine = Agent(identifier=\"Elaine\",\n",
    "            home='p-x13-y11',\n",
    "            workplace='w-x15-y9',\n",
    "            city=city,\n",
    "            destination_diary=destination,\n",
    "            still_probs=FAST_STILL_PROBS,\n",
    "            speeds=FAST_SPEEDS,\n",
    "            trajectory=init_trajectory,\n",
    "            diary=init_diary,\n",
    "            dt=1)\n",
    "population.add_agent(Elaine)\n",
    "population.generate_trajectory(Elaine, seed=50)"
   ]
  },
  {
   "cell_type": "markdown",
   "id": "b9be97bd",
   "metadata": {},
   "source": [
    "Daniel and Elaine's ground-truth trajectories are plotted below."
   ]
  },
  {
   "cell_type": "code",
   "execution_count": 34,
   "id": "939803eb",
   "metadata": {},
   "outputs": [
    {
     "data": {
      "image/png": "[encoded data removed]",
      "text/plain": [
       "<Figure size 900x400 with 2 Axes>"
      ]
     },
     "metadata": {},
     "output_type": "display_data"
    }
   ],
   "source": [
    "fig, axes = plt.subplots(1, 2, figsize=(9, 4))\n",
    "\n",
    "for j in range(2):\n",
    "    ax = axes[j]\n",
    "    agent = [Daniel, Elaine][j]\n",
    "\n",
    "    ax.scatter(x=agent.trajectory.x, \n",
    "           y=agent.trajectory.y, \n",
    "           s=6, color='black', alpha=1, zorder=2)\n",
    "    city.plot_city(ax, doors=True, address=False, zorder=1)\n",
    "\n",
    "    ax.plot(agent.trajectory.x,\n",
    "            agent.trajectory.y,\n",
    "            linewidth=1, color='blue', alpha=0.2)\n",
    "\n",
    "    ax.set_xlim(7, 15)\n",
    "    ax.set_ylim(7, 15)\n",
    "    ax.set_yticklabels([])\n",
    "    ax.set_xticklabels([])\n",
    "    ax.set_xticks([])\n",
    "    ax.set_yticks([])\n",
    "\n",
    "axes[0].set_xlabel('Low Variance', fontsize='x-large')\n",
    "axes[1].set_xlabel('High Variance', fontsize='x-large')\n",
    "\n",
    "plt.tight_layout()\n",
    "plt.savefig(\"exp2-trajectories.png\")\n",
    "plt.show()"
   ]
  },
  {
   "cell_type": "markdown",
   "id": "acaceed0",
   "metadata": {},
   "source": [
    "As an additional source of variance, we sample Daniel's trajectory with a lower horizontal noise of `ha=0.75` and Elaine's trajectory with a higher horizontal noise of `ha=1.5`.\n",
    "\n",
    "We are interested in how the variance of the trajectory affects stop detection results. Here, we use another clustering algorithm known as Project Lachesis, which takes three parameters: `dur_min`, `dt_max`, and `delta_roam`. The Lachesis algorithm greedily incorporates pings into a cluster as long as the cluster has a diameter of at most `delta_roam`, no time gaps larger than `dt_max`, and a duration larger than `dur_min`."
   ]
  },
  {
   "cell_type": "code",
   "execution_count": 35,
   "id": "34760af2",
   "metadata": {},
   "outputs": [
    {
     "data": {
      "image/png": "[encoded data removed]",
      "text/plain": [
       "<Figure size 900x400 with 2 Axes>"
      ]
     },
     "metadata": {},
     "output_type": "display_data"
    }
   ],
   "source": [
    "fig, axes = plt.subplots(1, 2, figsize=(9, 4))\n",
    "hier_nhpp_params = (10, 1000, 5)\n",
    "lachesis_params = (15, 30, 3)\n",
    "ha = [3/4, 5/4]\n",
    "seed = 105\n",
    "\n",
    "for j in range(2):\n",
    "    ax = axes[j]\n",
    "    agent = [Daniel, Elaine][j]\n",
    "\n",
    "    agent.sample_traj_hier_nhpp(*hier_nhpp_params, seed=seed, ha=ha[j], replace_sparse_traj=True)\n",
    "\n",
    "    lachesis_out = Lachesis._lachesis_labels(agent.sparse_traj, *lachesis_params, traj_cols)\n",
    "    lachesis_stays = Lachesis.lachesis(agent.sparse_traj, *lachesis_params, traj_cols, complete_output=False)\n",
    "\n",
    "    # compute total stop duration\n",
    "    total_stop_duration = lachesis_stays[\"duration\"].sum()\n",
    "    \n",
    "    num_clusters = len(lachesis_stays)\n",
    "    for cid in range(num_clusters):\n",
    "        cpings = lachesis_out[lachesis_out == cid].index\n",
    "        cdata = agent.sparse_traj.loc[cpings]\n",
    "        col = cm.tab20c(cid/(num_clusters))\n",
    "        ax.scatter(cdata.x, cdata.y, s=80, color=col, alpha=1, zorder=2)\n",
    "\n",
    "    ax.scatter(agent.sparse_traj.x, agent.sparse_traj.y, s=6, color='black', alpha=1, zorder=2)\n",
    "    city.plot_city(ax, doors=True, address=False, zorder=1)\n",
    "\n",
    "    ax.set_xlim(7, 15)\n",
    "    ax.set_ylim(7, 15)\n",
    "    ax.set_yticklabels([])\n",
    "    ax.set_xticklabels([])\n",
    "    ax.set_xticks([])\n",
    "    ax.set_yticks([])\n",
    "\n",
    "    lohi = ['Low', 'High'][j]\n",
    "    ax.set_xlabel(f'{lohi} Variance\\nTotal stop duration: {total_stop_duration} minutes', fontsize=12)\n",
    "\n",
    "plt.tight_layout()\n",
    "plt.savefig(\"exp2-lachesis.png\")\n",
    "plt.show()"
   ]
  },
  {
   "cell_type": "code",
   "execution_count": null,
   "id": "2a3fe23e",
   "metadata": {},
   "outputs": [],
   "source": []
  }
 ],
 "metadata": {
  "kernelspec": {
   "display_name": "Python 3",
   "language": "python",
   "name": "python3"
  },
  "language_info": {
   "codemirror_mode": {
    "name": "ipython",
    "version": 3
   },
   "file_extension": ".py",
   "mimetype": "text/x-python",
   "name": "python",
   "nbconvert_exporter": "python",
   "pygments_lexer": "ipython3",
   "version": "3.13.0"
  }
 },
 "nbformat": 4,
 "nbformat_minor": 5
}

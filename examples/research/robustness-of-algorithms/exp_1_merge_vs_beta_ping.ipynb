{
 "cells": [
  {
   "cell_type": "code",
   "execution_count": 1,
   "id": "0ced47d9-8584-4523-9771-63b04ad11ed3",
   "metadata": {},
   "outputs": [],
   "source": [
    "import pandas as pd\n",
    "import geopandas as gpd\n",
    "import shapely\n",
    "import numpy as np\n",
    "import json\n",
    "from functools import partial\n",
    "from tqdm import tqdm\n",
    "\n",
    "import matplotlib.pyplot as plt\n",
    "import matplotlib.colors as mcolors\n",
    "import matplotlib.patches as mpatches\n",
    "from matplotlib.ticker import MaxNLocator\n",
    "import seaborn as sns\n",
    "from statsmodels.nonparametric.smoothers_lowess import lowess\n",
    "\n",
    "import nomad.io.base as loader\n",
    "import nomad.stop_detection.utils as utils\n",
    "import nomad.stop_detection.lachesis as LACHESIS\n",
    "import nomad.stop_detection.dbscan as TADBSCAN\n",
    "import nomad.stop_detection.grid_based as GRID_BASED # for oracle visits\n",
    "import nomad.stop_detection.postprocessing as pp\n",
    "\n",
    "import nomad.visit_attribution.visit_attribution as visits\n",
    "import nomad.filters as filters\n",
    "import nomad.city_gen as cg\n",
    "\n",
    "from nomad.contact_estimation import overlapping_visits, compute_visitation_errors, precision_recall_f1_from_minutes"
   ]
  },
  {
   "cell_type": "code",
   "execution_count": 2,
   "id": "0dcfa401-4a62-4d4b-af6f-d371ed91c332",
   "metadata": {},
   "outputs": [],
   "source": [
    "def classify_dwell(duration):\n",
    "    if duration < 60:\n",
    "        return 'low'\n",
    "    elif 60 <= duration <= 180:\n",
    "        return 'mid'\n",
    "    else:\n",
    "        return 'high'\n",
    "\n",
    "def classify_size(size):\n",
    "    if size == 1:\n",
    "        return 'small'\n",
    "    elif 2 <= size <= 4:\n",
    "        return 'medium'\n",
    "    else:\n",
    "        return 'big'"
   ]
  },
  {
   "cell_type": "code",
   "execution_count": 3,
   "id": "8b37a5b0-cb9d-4d03-989a-c8ad92a693b0",
   "metadata": {},
   "outputs": [],
   "source": [
    "## Configure stop detection algorithms"
   ]
  },
  {
   "cell_type": "code",
   "execution_count": 4,
   "id": "66f348ef-dd54-4871-9f25-67e06b4c22f7",
   "metadata": {},
   "outputs": [],
   "source": [
    "with open('config_low_ha.json', 'r', encoding='utf-8') as f:\n",
    "    config1 = json.load(f)\n",
    "\n",
    "with open('config_high_ha.json', 'r', encoding='utf-8') as f:\n",
    "    config2 = json.load(f)\n",
    "\n",
    "config=config1\n",
    "\n",
    "config[\"algos\"] = {\n",
    "    \"ta_dbscan_coarse\":{\n",
    "        \"func\":TADBSCAN.ta_dbscan,\n",
    "        \"params\":{\n",
    "            \"time_thresh\":240,\n",
    "            \"dist_thresh\":18,\n",
    "            \"min_pts\":2\n",
    "        }\n",
    "    },\n",
    "    \"lachesis_coarse\":{\n",
    "        \"func\":LACHESIS.lachesis,\n",
    "        \"params\":{\n",
    "            'dt_max': 240,\n",
    "            'delta_roam': 40\n",
    "        }\n",
    "    }\n",
    "}\n"
   ]
  },
  {
   "cell_type": "markdown",
   "id": "47b8a502-2ae8-41fe-807d-6ddf5555a318",
   "metadata": {},
   "source": [
    "## Load sparse data and diaries"
   ]
  },
  {
   "cell_type": "code",
   "execution_count": 5,
   "id": "6eee88af-aa54-406c-8f82-2b720317d916",
   "metadata": {},
   "outputs": [],
   "source": [
    "poi_table = gpd.read_file('../../garden_city.gpkg').rename(columns={\"building_id\":\"location\"})\n",
    "\n",
    "sparse_path=config[\"output_files\"][\"sparse_path\"]\n",
    "diaries_path=config[\"output_files\"][\"diaries_path\"]\n",
    "homes_path=config[\"output_files\"][\"homes_path\"]\n",
    "\n",
    "sparse_df = loader.from_file(sparse_path, format=\"parquet\")\n",
    "diaries_df = loader.from_file(diaries_path, format=\"parquet\").rename(columns={\"identifier\":\"user_id\"})\n",
    "homes_df = pd.read_parquet(homes_path)\n",
    "\n",
    "mask = ~diaries_df.location.isna()\n",
    "diaries_df.loc[mask,'dwell_length'] = diaries_df.loc[mask,'duration'].apply(classify_dwell)\n",
    "diaries_df.loc[mask,'building_size'] = diaries_df.loc[mask,'size'].apply(classify_size)"
   ]
  },
  {
   "cell_type": "code",
   "execution_count": 6,
   "id": "43c51a21-1d25-4214-a9c3-9152accea0fd",
   "metadata": {
    "jupyter": {
     "source_hidden": true
    }
   },
   "outputs": [
    {
     "data": {
      "image/png": "[encoded data removed]",
      "text/plain": [
       "<Figure size 400x300 with 1 Axes>"
      ]
     },
     "metadata": {},
     "output_type": "display_data"
    }
   ],
   "source": [
    "q = filters.completeness(sparse_df,\n",
    "             periods=30,\n",
    "             freq=\"min\").to_frame(name=\"q_stat\").reset_index()\n",
    "\n",
    "plt.figure(figsize=(4,3))\n",
    "ax = sns.kdeplot(\n",
    "    data=q,\n",
    "    x=\"q_stat\",\n",
    "    fill=True,\n",
    "    linewidth=1.5,\n",
    "    bw_adjust=1.3,\n",
    "    cut=0\n",
    ")\n",
    "\n",
    "# cosmetics\n",
    "ax.set_xlabel(\"q (Trajectory Completeness)\")\n",
    "ax.set_ylabel(\"Density\")\n",
    "ax.grid(True, alpha=0.3)\n",
    "sns.despine(top=True, right=True)\n",
    "\n",
    "# annotation (top-right corner in axes coords)\n",
    "ax.text(\n",
    "    0.99, 0.95,\n",
    "    f\"N = {len(q)}\",\n",
    "    transform=ax.transAxes,\n",
    "    ha=\"right\",\n",
    "    va=\"top\",\n",
    "    fontsize=9\n",
    ")\n",
    "\n",
    "plt.tight_layout()\n",
    "plt.show()"
   ]
  },
  {
   "cell_type": "markdown",
   "id": "43816ff6-fdac-4dff-add9-f0dcc81a90bd",
   "metadata": {},
   "source": [
    "## Stop detection"
   ]
  },
  {
   "cell_type": "code",
   "execution_count": null,
   "id": "79da5836-8b08-4f6e-a3ec-fab9ac16e748",
   "metadata": {},
   "outputs": [
    {
     "name": "stderr",
     "output_type": "stream",
     "text": [
      "Processing users:  45%|███████████████████████████▏                                 | 513/1150 [00:06<00:07, 81.80it/s]"
     ]
    },
    {
     "name": "stdout",
     "output_type": "stream",
     "text": [
      "> \u001b[1;32mc:\\users\\franc\\desktop\\brain\\code development\\nomad\\nomad\\visit_attribution\\visit_attribution.py\u001b[0m(79)\u001b[0;36mpoint_in_polygon\u001b[1;34m()\u001b[0m\n",
      "\u001b[1;32m     77 \u001b[1;33m        \u001b[0mpdb\u001b[0m\u001b[1;33m.\u001b[0m\u001b[0mset_trace\u001b[0m\u001b[1;33m(\u001b[0m\u001b[1;33m)\u001b[0m\u001b[1;33m\u001b[0m\u001b[1;33m\u001b[0m\u001b[0m\n",
      "\u001b[0m\u001b[1;32m     78 \u001b[1;33m        \u001b[1;31m# is labeled pings\u001b[0m\u001b[1;33m\u001b[0m\u001b[1;33m\u001b[0m\u001b[0m\n",
      "\u001b[0m\u001b[1;32m---> 79 \u001b[1;33m        \u001b[1;32mif\u001b[0m \u001b[1;32mnot\u001b[0m \u001b[0mcluster_label\u001b[0m\u001b[1;33m:\u001b[0m \u001b[1;31m#try defaults and raise\u001b[0m\u001b[1;33m\u001b[0m\u001b[1;33m\u001b[0m\u001b[0m\n",
      "\u001b[0m\u001b[1;32m     80 \u001b[1;33m            \u001b[1;32mif\u001b[0m \u001b[1;34m'cluster_label'\u001b[0m \u001b[1;32min\u001b[0m \u001b[0mdata\u001b[0m\u001b[1;33m.\u001b[0m\u001b[0mcolumns\u001b[0m\u001b[1;33m:\u001b[0m\u001b[1;33m\u001b[0m\u001b[1;33m\u001b[0m\u001b[0m\n",
      "\u001b[0m\u001b[1;32m     81 \u001b[1;33m                \u001b[0mcluster_label\u001b[0m \u001b[1;33m=\u001b[0m \u001b[1;34m'cluster_label'\u001b[0m\u001b[1;33m\u001b[0m\u001b[1;33m\u001b[0m\u001b[0m\n",
      "\u001b[0m\n"
     ]
    },
    {
     "name": "stdin",
     "output_type": "stream",
     "text": [
      "ipdb>  p data.columns\n"
     ]
    },
    {
     "name": "stdout",
     "output_type": "stream",
     "text": [
      "Index(['x', 'y', 'datetime', 'timestamp', 'user_id', 'ha', 'tz_offset'], dtype='object')\n"
     ]
    },
    {
     "name": "stderr",
     "output_type": "stream",
     "text": [
      "Processing users:  45%|███████████████████████████▏                                 | 513/1150 [00:20<00:07, 81.80it/s]"
     ]
    }
   ],
   "source": [
    "results_list = []\n",
    "for user in tqdm(diaries_df.user_id.unique()[600:], desc='Processing users'):\n",
    "    sparse = sparse_df.query(\"user_id==@user\").copy()\n",
    "    truth = diaries_df.query(\"user_id==@user\").copy()\n",
    "    \n",
    "    # ta_dbscan\n",
    "    algo = config[\"algos\"][\"ta_dbscan_coarse\"]\n",
    "    stops = algo[\"func\"](sparse, **algo[\"params\"], x=\"x\", y=\"y\")\n",
    "    stops[\"location\"] = visits.point_in_polygon(stops, poi_table=poi_table, data_crs='EPSG:3857',\n",
    "                                       max_distance=10, location_id='location', x='x', y='y')\n",
    "    "
   ]
  },
  {
   "cell_type": "code",
   "execution_count": null,
   "id": "4c940c44-5081-4a5b-b9e7-cbea04d978fb",
   "metadata": {},
   "outputs": [],
   "source": [
    "sparse"
   ]
  },
  {
   "cell_type": "code",
   "execution_count": null,
   "id": "93e001fb-daef-4098-a98a-877eaf625b92",
   "metadata": {},
   "outputs": [],
   "source": []
  }
 ],
 "metadata": {
  "kernelspec": {
   "display_name": "Python 3.10 (daphme)",
   "language": "python",
   "name": "daphme"
  },
  "language_info": {
   "codemirror_mode": {
    "name": "ipython",
    "version": 3
   },
   "file_extension": ".py",
   "mimetype": "text/x-python",
   "name": "python",
   "nbconvert_exporter": "python",
   "pygments_lexer": "ipython3",
   "version": "3.10.0"
  }
 },
 "nbformat": 4,
 "nbformat_minor": 5
}

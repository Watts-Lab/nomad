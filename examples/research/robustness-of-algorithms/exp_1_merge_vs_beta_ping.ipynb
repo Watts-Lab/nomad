{
 "cells": [
  {
   "cell_type": "code",
   "execution_count": 1,
   "id": "0ced47d9-8584-4523-9771-63b04ad11ed3",
   "metadata": {},
   "outputs": [],
   "source": [
    "import pandas as pd\n",
    "import geopandas as gpd\n",
    "import shapely\n",
    "import numpy as np\n",
    "import json\n",
    "from functools import partial\n",
    "from tqdm import tqdm\n",
    "\n",
    "import matplotlib.pyplot as plt\n",
    "import matplotlib.colors as mcolors\n",
    "import matplotlib.patches as mpatches\n",
    "from matplotlib.ticker import MaxNLocator\n",
    "import seaborn as sns\n",
    "from statsmodels.nonparametric.smoothers_lowess import lowess\n",
    "\n",
    "import nomad.io.base as loader\n",
    "import nomad.stop_detection.utils as utils\n",
    "import nomad.stop_detection.lachesis as LACHESIS\n",
    "import nomad.stop_detection.dbscan as TADBSCAN\n",
    "import nomad.stop_detection.grid_based as GRID_BASED # for oracle visits\n",
    "import nomad.stop_detection.postprocessing as pp\n",
    "\n",
    "import nomad.visit_attribution.visit_attribution as visits\n",
    "import nomad.filters as filters\n",
    "import nomad.city_gen as cg\n",
    "\n",
    "from nomad.contact_estimation import overlapping_visits, compute_visitation_errors, precision_recall_f1_from_minutes"
   ]
  },
  {
   "cell_type": "code",
   "execution_count": 2,
   "id": "0dcfa401-4a62-4d4b-af6f-d371ed91c332",
   "metadata": {},
   "outputs": [],
   "source": [
    "def classify_dwell(duration):\n",
    "    if duration < 60:\n",
    "        return 'low'\n",
    "    elif 60 <= duration <= 180:\n",
    "        return 'mid'\n",
    "    else:\n",
    "        return 'high'\n",
    "\n",
    "def classify_size(size):\n",
    "    if size == 1:\n",
    "        return 'small'\n",
    "    elif 2 <= size <= 4:\n",
    "        return 'medium'\n",
    "    else:\n",
    "        return 'big'"
   ]
  },
  {
   "cell_type": "code",
   "execution_count": 3,
   "id": "8b37a5b0-cb9d-4d03-989a-c8ad92a693b0",
   "metadata": {},
   "outputs": [],
   "source": [
    "## Configure stop detection algorithms"
   ]
  },
  {
   "cell_type": "code",
   "execution_count": 4,
   "id": "66f348ef-dd54-4871-9f25-67e06b4c22f7",
   "metadata": {
    "lines_to_next_cell": 2
   },
   "outputs": [],
   "source": [
    "with open('config_low_ha.json', 'r', encoding='utf-8') as f:\n",
    "    config1 = json.load(f)\n",
    "\n",
    "with open('config_high_ha.json', 'r', encoding='utf-8') as f:\n",
    "    config2 = json.load(f)\n",
    "\n",
    "config=config1\n",
    "\n",
    "config[\"algos\"] = {\n",
    "    \"ta_dbscan_coarse\":{\n",
    "        \"func\":TADBSCAN.ta_dbscan,\n",
    "        \"params\":{\n",
    "            \"time_thresh\":240,\n",
    "            \"dist_thresh\":18,\n",
    "            \"min_pts\":2\n",
    "        }\n",
    "    },\n",
    "    \"lachesis_coarse\":{\n",
    "        \"func\":LACHESIS.lachesis,\n",
    "        \"params\":{\n",
    "            'dt_max': 240,\n",
    "            'delta_roam': 40\n",
    "        }\n",
    "    }\n",
    "}"
   ]
  },
  {
   "cell_type": "markdown",
   "id": "47b8a502-2ae8-41fe-807d-6ddf5555a318",
   "metadata": {},
   "source": [
    "## Load sparse data and diaries"
   ]
  },
  {
   "cell_type": "code",
   "execution_count": 5,
   "id": "6eee88af-aa54-406c-8f82-2b720317d916",
   "metadata": {},
   "outputs": [],
   "source": [
    "poi_table = gpd.read_file('../../garden_city.gpkg').rename(columns={\"building_id\":\"location\"})\n",
    "\n",
    "sparse_path=config[\"output_files\"][\"sparse_path\"]\n",
    "diaries_path=config[\"output_files\"][\"diaries_path\"]\n",
    "homes_path=config[\"output_files\"][\"homes_path\"]\n",
    "\n",
    "sparse_df = loader.from_file(sparse_path, format=\"parquet\")\n",
    "diaries_df = loader.from_file(diaries_path, format=\"parquet\").rename(columns={\"identifier\":\"user_id\"})\n",
    "homes_df = pd.read_parquet(homes_path)\n",
    "\n",
    "mask = ~diaries_df.location.isna()\n",
    "diaries_df.loc[mask,'dwell_length'] = diaries_df.loc[mask,'duration'].apply(classify_dwell)\n",
    "diaries_df.loc[mask,'building_size'] = diaries_df.loc[mask,'size'].apply(classify_size)"
   ]
  },
  {
   "cell_type": "code",
   "execution_count": null,
   "id": "43c51a21-1d25-4214-a9c3-9152accea0fd",
   "metadata": {
    "jupyter": {
     "source_hidden": true
    }
   },
   "outputs": [],
   "source": [
    "q = filters.completeness(sparse_df,\n",
    "             periods=30,\n",
    "             freq=\"min\").to_frame(name=\"q_stat\").reset_index()\n",
    "\n",
    "plt.figure(figsize=(4,3))\n",
    "ax = sns.kdeplot(\n",
    "    data=q,\n",
    "    x=\"q_stat\",\n",
    "    fill=True,\n",
    "    linewidth=1.5,\n",
    "    bw_adjust=1.3,\n",
    "    cut=0\n",
    ")\n",
    "\n",
    "# cosmetics\n",
    "ax.set_xlabel(\"q (Trajectory Completeness)\")\n",
    "ax.set_ylabel(\"Density\")\n",
    "ax.grid(True, alpha=0.3)\n",
    "sns.despine(top=True, right=True)\n",
    "\n",
    "# annotation (top-right corner in axes coords)\n",
    "ax.text(\n",
    "    0.99, 0.95,\n",
    "    f\"N = {len(q)}\",\n",
    "    transform=ax.transAxes,\n",
    "    ha=\"right\",\n",
    "    va=\"top\",\n",
    "    fontsize=9\n",
    ")\n",
    "\n",
    "plt.tight_layout()\n",
    "plt.show()"
   ]
  },
  {
   "cell_type": "markdown",
   "id": "43816ff6-fdac-4dff-add9-f0dcc81a90bd",
   "metadata": {},
   "source": [
    "## Stop detection"
   ]
  },
  {
   "cell_type": "code",
   "execution_count": 6,
   "id": "26886b56-7180-44e8-8069-05dba6c4941e",
   "metadata": {},
   "outputs": [
    {
     "name": "stdout",
     "output_type": "stream",
     "text": [
      "Are these stop table columns?\n",
      "Index(['longitude', 'latitude', 'timestamp', 'duration', 'user_id'], dtype='object')\n"
     ]
    }
   ],
   "source": [
    "# This example fails\n",
    "algo = config[\"algos\"][\"ta_dbscan_coarse\"]\n",
    "\n",
    "user = diaries_df.user_id.unique()[1116]\n",
    "sparse = sparse_df.query(\"user_id==@user\").copy()\n",
    "truth = diaries_df.query(\"user_id==@user\").copy()\n",
    "\n",
    "stops = algo[\"func\"](sparse, **algo[\"params\"], x=\"x\", y=\"y\")\n",
    "print(\"Are these stop table columns?\")\n",
    "print(stops.columns)"
   ]
  },
  {
   "cell_type": "code",
   "execution_count": 7,
   "id": "dd05697c-4bd4-4616-9533-fdf9121aedb6",
   "metadata": {},
   "outputs": [
    {
     "name": "stderr",
     "output_type": "stream",
     "text": [
      "C:\\Users\\franc\\Desktop\\Brain\\Code Development\\nomad\\nomad\\io\\base.py:105: UserWarning: Trajectory column 'x' specified for 'x' not found in DataFrame.\n",
      "  warnings.warn(f\"Trajectory column '{value}' specified for '{key}' not found in DataFrame.\")\n",
      "C:\\Users\\franc\\Desktop\\Brain\\Code Development\\nomad\\nomad\\io\\base.py:105: UserWarning: Trajectory column 'y' specified for 'y' not found in DataFrame.\n",
      "  warnings.warn(f\"Trajectory column '{value}' specified for '{key}' not found in DataFrame.\")\n"
     ]
    },
    {
     "ename": "ValueError",
     "evalue": "No spatial columns provided for spatial ops; please provide explicit column names to be used for either ('latitude','longitude') or ('x','y').",
     "output_type": "error",
     "traceback": [
      "\u001b[1;31m---------------------------------------------------------------------------\u001b[0m",
      "\u001b[1;31mValueError\u001b[0m                                Traceback (most recent call last)",
      "Cell \u001b[1;32mIn[7], line 2\u001b[0m\n\u001b[0;32m      1\u001b[0m \u001b[38;5;66;03m# ta_dbscan\u001b[39;00m\n\u001b[1;32m----> 2\u001b[0m stops[\u001b[38;5;124m\"\u001b[39m\u001b[38;5;124mlocation\u001b[39m\u001b[38;5;124m\"\u001b[39m] \u001b[38;5;241m=\u001b[39m \u001b[43mvisits\u001b[49m\u001b[38;5;241;43m.\u001b[39;49m\u001b[43mpoint_in_polygon\u001b[49m\u001b[43m(\u001b[49m\u001b[43mstops\u001b[49m\u001b[43m,\u001b[49m\u001b[43m \u001b[49m\u001b[43mpoi_table\u001b[49m\u001b[38;5;241;43m=\u001b[39;49m\u001b[43mpoi_table\u001b[49m\u001b[43m,\u001b[49m\u001b[43m \u001b[49m\u001b[43mdata_crs\u001b[49m\u001b[38;5;241;43m=\u001b[39;49m\u001b[38;5;124;43m'\u001b[39;49m\u001b[38;5;124;43mEPSG:3857\u001b[39;49m\u001b[38;5;124;43m'\u001b[39;49m\u001b[43m,\u001b[49m\n\u001b[0;32m      3\u001b[0m \u001b[43m                                   \u001b[49m\u001b[43mmax_distance\u001b[49m\u001b[38;5;241;43m=\u001b[39;49m\u001b[38;5;241;43m10\u001b[39;49m\u001b[43m,\u001b[49m\u001b[43m \u001b[49m\u001b[43mlocation_id\u001b[49m\u001b[38;5;241;43m=\u001b[39;49m\u001b[38;5;124;43m'\u001b[39;49m\u001b[38;5;124;43mlocation\u001b[39;49m\u001b[38;5;124;43m'\u001b[39;49m\u001b[43m,\u001b[49m\u001b[43m \u001b[49m\u001b[43mx\u001b[49m\u001b[38;5;241;43m=\u001b[39;49m\u001b[38;5;124;43m'\u001b[39;49m\u001b[38;5;124;43mx\u001b[39;49m\u001b[38;5;124;43m'\u001b[39;49m\u001b[43m,\u001b[49m\u001b[43m \u001b[49m\u001b[43my\u001b[49m\u001b[38;5;241;43m=\u001b[39;49m\u001b[38;5;124;43m'\u001b[39;49m\u001b[38;5;124;43my\u001b[39;49m\u001b[38;5;124;43m'\u001b[39;49m\u001b[43m)\u001b[49m\n",
      "File \u001b[1;32m~\\Desktop\\Brain\\Code Development\\nomad\\nomad\\visit_attribution\\visit_attribution.py:62\u001b[0m, in \u001b[0;36mpoint_in_polygon\u001b[1;34m(data, poi_table, method, data_crs, max_distance, cluster_label, location_id, traj_cols, **kwargs)\u001b[0m\n\u001b[0;32m     60\u001b[0m \u001b[38;5;28;01melif\u001b[39;00m method\u001b[38;5;241m==\u001b[39m\u001b[38;5;124m'\u001b[39m\u001b[38;5;124mcentroid\u001b[39m\u001b[38;5;124m'\u001b[39m:\n\u001b[0;32m     61\u001b[0m     stop_table \u001b[38;5;241m=\u001b[39m data\u001b[38;5;241m.\u001b[39mcopy()\n\u001b[1;32m---> 62\u001b[0m     location \u001b[38;5;241m=\u001b[39m poi_map(\n\u001b[0;32m     63\u001b[0m         data\u001b[38;5;241m=\u001b[39mstop_table,\n\u001b[0;32m     64\u001b[0m         poi_table\u001b[38;5;241m=\u001b[39mpoi_table,\n\u001b[0;32m     65\u001b[0m         max_distance\u001b[38;5;241m=\u001b[39mmax_distance,\n\u001b[0;32m     66\u001b[0m         data_crs\u001b[38;5;241m=\u001b[39mdata_crs,\n\u001b[0;32m     67\u001b[0m         location_id\u001b[38;5;241m=\u001b[39mlocation_id,\n\u001b[0;32m     68\u001b[0m         traj_cols\u001b[38;5;241m=\u001b[39mtraj_cols,\n\u001b[0;32m     69\u001b[0m         \u001b[38;5;241m*\u001b[39m\u001b[38;5;241m*\u001b[39mkwargs)\n\u001b[0;32m     71\u001b[0m     \u001b[38;5;28;01mreturn\u001b[39;00m location\n\u001b[0;32m     73\u001b[0m \u001b[38;5;28;01melse\u001b[39;00m:\n",
      "File \u001b[1;32m~\\Desktop\\Brain\\Code Development\\nomad\\nomad\\visit_attribution\\visit_attribution.py:176\u001b[0m, in \u001b[0;36mpoi_map\u001b[1;34m(data, poi_table, max_distance, data_crs, location_id, traj_cols, **kwargs)\u001b[0m\n\u001b[0;32m    172\u001b[0m         \u001b[38;5;28;01mraise\u001b[39;00m \u001b[38;5;167;01mValueError\u001b[39;00m(\u001b[38;5;124mf\u001b[39m\u001b[38;5;124m\"\u001b[39m\u001b[38;5;124mProvided CRS \u001b[39m\u001b[38;5;132;01m{\u001b[39;00mdata_crs\u001b[38;5;132;01m}\u001b[39;00m\u001b[38;5;124m conflicts with traj CRS \u001b[39m\u001b[38;5;132;01m{\u001b[39;00mdata\u001b[38;5;241m.\u001b[39mcrs\u001b[38;5;132;01m}\u001b[39;00m\u001b[38;5;124m.\u001b[39m\u001b[38;5;124m\"\u001b[39m)\n\u001b[0;32m    174\u001b[0m \u001b[38;5;28;01mif\u001b[39;00m \u001b[38;5;28misinstance\u001b[39m(data, pd\u001b[38;5;241m.\u001b[39mDataFrame):\n\u001b[0;32m    175\u001b[0m     \u001b[38;5;66;03m# check that user specified x,y or lat, lon but not both\u001b[39;00m\n\u001b[1;32m--> 176\u001b[0m     \u001b[43mloader\u001b[49m\u001b[38;5;241;43m.\u001b[39;49m\u001b[43m_has_spatial_cols\u001b[49m\u001b[43m(\u001b[49m\u001b[43mdata\u001b[49m\u001b[38;5;241;43m.\u001b[39;49m\u001b[43mcolumns\u001b[49m\u001b[43m,\u001b[49m\u001b[43m \u001b[49m\u001b[43mtraj_cols\u001b[49m\u001b[43m,\u001b[49m\u001b[43m \u001b[49m\u001b[43mexclusive\u001b[49m\u001b[38;5;241;43m=\u001b[39;49m\u001b[38;5;28;43;01mTrue\u001b[39;49;00m\u001b[43m)\u001b[49m\n\u001b[0;32m    178\u001b[0m     use_lon_lat \u001b[38;5;241m=\u001b[39m (\u001b[38;5;124m'\u001b[39m\u001b[38;5;124mlatitude\u001b[39m\u001b[38;5;124m'\u001b[39m \u001b[38;5;129;01min\u001b[39;00m traj_cols \u001b[38;5;129;01mand\u001b[39;00m \u001b[38;5;124m'\u001b[39m\u001b[38;5;124mlongitude\u001b[39m\u001b[38;5;124m'\u001b[39m \u001b[38;5;129;01min\u001b[39;00m traj_cols)\n\u001b[0;32m    180\u001b[0m     \u001b[38;5;28;01mif\u001b[39;00m use_lon_lat:\n",
      "File \u001b[1;32m~\\Desktop\\Brain\\Code Development\\nomad\\nomad\\io\\base.py:492\u001b[0m, in \u001b[0;36m_has_spatial_cols\u001b[1;34m(col_names, traj_cols, exclusive)\u001b[0m\n\u001b[0;32m    490\u001b[0m         \u001b[38;5;28;01mraise\u001b[39;00m \u001b[38;5;167;01mValueError\u001b[39;00m(\u001b[38;5;124m\"\u001b[39m\u001b[38;5;124mToo many spatial columns; provide only one pair.\u001b[39m\u001b[38;5;124m\"\u001b[39m)\n\u001b[0;32m    491\u001b[0m     \u001b[38;5;28;01mif\u001b[39;00m \u001b[38;5;129;01mnot\u001b[39;00m has_lon_lat \u001b[38;5;129;01mand\u001b[39;00m \u001b[38;5;129;01mnot\u001b[39;00m has_x_y:\n\u001b[1;32m--> 492\u001b[0m         \u001b[38;5;28;01mraise\u001b[39;00m \u001b[38;5;167;01mValueError\u001b[39;00m(\n\u001b[0;32m    493\u001b[0m             \u001b[38;5;124mf\u001b[39m\u001b[38;5;124m\"\u001b[39m\u001b[38;5;124mNo spatial columns provided for spatial ops; please provide \u001b[39m\u001b[38;5;124m\"\u001b[39m\n\u001b[0;32m    494\u001b[0m             \u001b[38;5;124m\"\u001b[39m\u001b[38;5;124mexplicit column names to be used for either (\u001b[39m\u001b[38;5;124m'\u001b[39m\u001b[38;5;124mlatitude\u001b[39m\u001b[38;5;124m'\u001b[39m\u001b[38;5;124m,\u001b[39m\u001b[38;5;124m'\u001b[39m\u001b[38;5;124mlongitude\u001b[39m\u001b[38;5;124m'\u001b[39m\u001b[38;5;124m) or (\u001b[39m\u001b[38;5;124m'\u001b[39m\u001b[38;5;124mx\u001b[39m\u001b[38;5;124m'\u001b[39m\u001b[38;5;124m,\u001b[39m\u001b[38;5;124m'\u001b[39m\u001b[38;5;124my\u001b[39m\u001b[38;5;124m'\u001b[39m\u001b[38;5;124m).\u001b[39m\u001b[38;5;124m\"\u001b[39m\n\u001b[0;32m    495\u001b[0m         )\n\u001b[0;32m    496\u001b[0m     \u001b[38;5;28;01mreturn\u001b[39;00m \u001b[38;5;28;01mTrue\u001b[39;00m\n\u001b[0;32m    498\u001b[0m \u001b[38;5;28;01melse\u001b[39;00m:\n",
      "\u001b[1;31mValueError\u001b[0m: No spatial columns provided for spatial ops; please provide explicit column names to be used for either ('latitude','longitude') or ('x','y')."
     ]
    }
   ],
   "source": [
    "# ta_dbscan\n",
    "stops[\"location\"] = visits.point_in_polygon(stops, poi_table=poi_table, data_crs='EPSG:3857',\n",
    "                                   max_distance=10, location_id='location', x='x', y='y')"
   ]
  },
  {
   "cell_type": "code",
   "execution_count": null,
   "id": "79da5836-8b08-4f6e-a3ec-fab9ac16e748",
   "metadata": {
    "lines_to_next_cell": 2
   },
   "outputs": [],
   "source": [
    "results_list = []\n",
    "for user in tqdm(diaries_df.user_id.unique(), desc='Processing users'):\n",
    "    sparse = sparse_df.query(\"user_id==@user\").copy()\n",
    "    truth = diaries_df.query(\"user_id==@user\").copy()\n",
    "    \n",
    "    # ta_dbscan\n",
    "    algo = config[\"algos\"][\"ta_dbscan_coarse\"]\n",
    "    stops = algo[\"func\"](sparse, **algo[\"params\"], x=\"x\", y=\"y\")\n",
    "    stops[\"location\"] = visits.point_in_polygon(stops, poi_table=poi_table, data_crs='EPSG:3857',\n",
    "                                       max_distance=10, location_id='location', x='x', y='y')"
   ]
  },
  {
   "cell_type": "code",
   "execution_count": null,
   "id": "e37405a8-c3d4-4de0-a942-b9e9a6c6e886",
   "metadata": {},
   "outputs": [],
   "source": []
  }
 ],
 "metadata": {
  "jupytext": {
   "formats": "ipynb,py:percent"
  },
  "kernelspec": {
   "display_name": "Python 3.10 (daphme)",
   "language": "python",
   "name": "daphme"
  },
  "language_info": {
   "codemirror_mode": {
    "name": "ipython",
    "version": 3
   },
   "file_extension": ".py",
   "mimetype": "text/x-python",
   "name": "python",
   "nbconvert_exporter": "python",
   "pygments_lexer": "ipython3",
   "version": "3.10.0"
  }
 },
 "nbformat": 4,
 "nbformat_minor": 5
}

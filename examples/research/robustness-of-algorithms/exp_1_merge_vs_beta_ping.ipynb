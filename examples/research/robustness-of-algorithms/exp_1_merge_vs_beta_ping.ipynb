{
 "cells": [
  {
   "cell_type": "code",
   "execution_count": 1,
   "id": "0ced47d9-8584-4523-9771-63b04ad11ed3",
   "metadata": {},
   "outputs": [],
   "source": [
    "import pandas as pd\n",
    "import geopandas as gpd\n",
    "import shapely\n",
    "import numpy as np\n",
    "import json\n",
    "from functools import partial\n",
    "from tqdm import tqdm\n",
    "\n",
    "import matplotlib.pyplot as plt\n",
    "import matplotlib.colors as mcolors\n",
    "import matplotlib.patches as mpatches\n",
    "from matplotlib.ticker import MaxNLocator\n",
    "import seaborn as sns\n",
    "from statsmodels.nonparametric.smoothers_lowess import lowess\n",
    "\n",
    "import nomad.io.base as loader\n",
    "import nomad.stop_detection.utils as utils\n",
    "import nomad.stop_detection.lachesis as LACHESIS\n",
    "import nomad.stop_detection.dbscan as TADBSCAN\n",
    "import nomad.stop_detection.grid_based as GRID_BASED # for oracle visits\n",
    "import nomad.stop_detection.postprocessing as pp\n",
    "\n",
    "import nomad.visit_attribution.visit_attribution as visits\n",
    "import nomad.filters as filters\n",
    "import nomad.city_gen as cg\n",
    "\n",
    "from nomad.contact_estimation import overlapping_visits, compute_visitation_errors, precision_recall_f1_from_minutes"
   ]
  },
  {
   "cell_type": "code",
   "execution_count": 2,
   "id": "0dcfa401-4a62-4d4b-af6f-d371ed91c332",
   "metadata": {},
   "outputs": [],
   "source": [
    "def classify_dwell(duration):\n",
    "    if duration < 60:\n",
    "        return 'low'\n",
    "    elif 60 <= duration <= 180:\n",
    "        return 'mid'\n",
    "    else:\n",
    "        return 'high'\n",
    "\n",
    "def classify_size(size):\n",
    "    if size == 1:\n",
    "        return 'small'\n",
    "    elif 2 <= size <= 4:\n",
    "        return 'medium'\n",
    "    else:\n",
    "        return 'big'"
   ]
  },
  {
   "cell_type": "code",
   "execution_count": 3,
   "id": "8b37a5b0-cb9d-4d03-989a-c8ad92a693b0",
   "metadata": {},
   "outputs": [],
   "source": [
    "## Configure stop detection algorithms"
   ]
  },
  {
   "cell_type": "code",
   "execution_count": 4,
   "id": "66f348ef-dd54-4871-9f25-67e06b4c22f7",
   "metadata": {},
   "outputs": [],
   "source": [
    "with open('config_low_ha.json', 'r', encoding='utf-8') as f:\n",
    "    config1 = json.load(f)\n",
    "\n",
    "with open('config_high_ha.json', 'r', encoding='utf-8') as f:\n",
    "    config2 = json.load(f)\n",
    "\n",
    "config=config1\n",
    "\n",
    "config[\"algos\"] = {\n",
    "    \"ta_dbscan_coarse\":{\n",
    "        \"func\":TADBSCAN.ta_dbscan,\n",
    "        \"params\":{\n",
    "            \"time_thresh\":240,\n",
    "            \"dist_thresh\":18,\n",
    "            \"min_pts\":2\n",
    "        }\n",
    "    },\n",
    "    \"lachesis_coarse\":{\n",
    "        \"func\":LACHESIS.lachesis,\n",
    "        \"params\":{\n",
    "            'dt_max': 240,\n",
    "            'delta_roam': 40\n",
    "        }\n",
    "    }\n",
    "}\n"
   ]
  },
  {
   "cell_type": "markdown",
   "id": "47b8a502-2ae8-41fe-807d-6ddf5555a318",
   "metadata": {},
   "source": [
    "## Load sparse data and diaries"
   ]
  },
  {
   "cell_type": "code",
   "execution_count": 5,
   "id": "6eee88af-aa54-406c-8f82-2b720317d916",
   "metadata": {},
   "outputs": [],
   "source": [
    "poi_table = gpd.read_file('../../garden_city.gpkg').rename(columns={\"building_id\":\"location\"})\n",
    "\n",
    "sparse_path=config[\"output_files\"][\"sparse_path\"]\n",
    "diaries_path=config[\"output_files\"][\"diaries_path\"]\n",
    "homes_path=config[\"output_files\"][\"homes_path\"]\n",
    "\n",
    "sparse_df = loader.from_file(sparse_path, format=\"parquet\")\n",
    "diaries_df = loader.from_file(diaries_path, format=\"parquet\").rename(columns={\"identifier\":\"user_id\"})\n",
    "homes_df = pd.read_parquet(homes_path)\n",
    "\n",
    "mask = ~diaries_df.location.isna()\n",
    "diaries_df.loc[mask,'dwell_length'] = diaries_df.loc[mask,'duration'].apply(classify_dwell)\n",
    "diaries_df.loc[mask,'building_size'] = diaries_df.loc[mask,'size'].apply(classify_size)"
   ]
  },
  {
   "cell_type": "code",
   "execution_count": null,
   "id": "43c51a21-1d25-4214-a9c3-9152accea0fd",
   "metadata": {
    "jupyter": {
     "source_hidden": true
    }
   },
   "outputs": [],
   "source": [
    "q = filters.completeness(sparse_df,\n",
    "             periods=30,\n",
    "             freq=\"min\").to_frame(name=\"q_stat\").reset_index()\n",
    "\n",
    "plt.figure(figsize=(4,3))\n",
    "ax = sns.kdeplot(\n",
    "    data=q,\n",
    "    x=\"q_stat\",\n",
    "    fill=True,\n",
    "    linewidth=1.5,\n",
    "    bw_adjust=1.3,\n",
    "    cut=0\n",
    ")\n",
    "\n",
    "# cosmetics\n",
    "ax.set_xlabel(\"q (Trajectory Completeness)\")\n",
    "ax.set_ylabel(\"Density\")\n",
    "ax.grid(True, alpha=0.3)\n",
    "sns.despine(top=True, right=True)\n",
    "\n",
    "# annotation (top-right corner in axes coords)\n",
    "ax.text(\n",
    "    0.99, 0.95,\n",
    "    f\"N = {len(q)}\",\n",
    "    transform=ax.transAxes,\n",
    "    ha=\"right\",\n",
    "    va=\"top\",\n",
    "    fontsize=9\n",
    ")\n",
    "\n",
    "plt.tight_layout()\n",
    "plt.show()"
   ]
  },
  {
   "cell_type": "markdown",
   "id": "43816ff6-fdac-4dff-add9-f0dcc81a90bd",
   "metadata": {},
   "source": [
    "## Stop detection"
   ]
  },
  {
   "cell_type": "code",
   "execution_count": null,
   "id": "79da5836-8b08-4f6e-a3ec-fab9ac16e748",
   "metadata": {},
   "outputs": [],
   "source": [
    "results_list = []\n",
    "for user in tqdm(diaries_df.user_id.unique()[600:], desc='Processing users'):\n",
    "    sparse = sparse_df.query(\"user_id==@user\").copy()\n",
    "    truth = diaries_df.query(\"user_id==@user\").copy()\n",
    "    \n",
    "    # ta_dbscan\n",
    "    algo = config[\"algos\"][\"ta_dbscan_coarse\"]\n",
    "    stops = algo[\"func\"](sparse, **algo[\"params\"], x=\"x\", y=\"y\")\n",
    "    stops[\"location\"] = visits.point_in_polygon(stops, poi_table=poi_table, data_crs='EPSG:3857',\n",
    "                                       max_distance=10, location_id='location', x='x', y='y')\n",
    "    "
   ]
  },
  {
   "cell_type": "code",
   "execution_count": 6,
   "id": "4c940c44-5081-4a5b-b9e7-cbea04d978fb",
   "metadata": {},
   "outputs": [],
   "source": [
    "user = diaries_df.user_id.unique()[600:][509]\n",
    "sparse = sparse_df.query(\"user_id==@user\").copy()\n",
    "truth = diaries_df.query(\"user_id==@user\").copy()\n",
    "\n",
    "# ta_dbscan\n",
    "algo = config[\"algos\"][\"ta_dbscan_coarse\"]\n",
    "stops = algo[\"func\"](sparse, **algo[\"params\"], x=\"x\", y=\"y\")\n",
    "stops[\"location\"] = visits.point_in_polygon(stops, poi_table=poi_table, data_crs='EPSG:3857',\n",
    "                                   max_distance=10, location_id='location', x='x', y='y')"
   ]
  },
  {
   "cell_type": "code",
   "execution_count": 7,
   "id": "93e001fb-daef-4098-a98a-877eaf625b92",
   "metadata": {},
   "outputs": [
    {
     "data": {
      "text/html": [
       "<div>\n",
       "<style scoped>\n",
       "    .dataframe tbody tr th:only-of-type {\n",
       "        vertical-align: middle;\n",
       "    }\n",
       "\n",
       "    .dataframe tbody tr th {\n",
       "        vertical-align: top;\n",
       "    }\n",
       "\n",
       "    .dataframe thead th {\n",
       "        text-align: right;\n",
       "    }\n",
       "</style>\n",
       "<table border=\"1\" class=\"dataframe\">\n",
       "  <thead>\n",
       "    <tr style=\"text-align: right;\">\n",
       "      <th></th>\n",
       "      <th>cluster</th>\n",
       "      <th>x</th>\n",
       "      <th>y</th>\n",
       "      <th>start_timestamp</th>\n",
       "      <th>duration</th>\n",
       "    </tr>\n",
       "  </thead>\n",
       "  <tbody>\n",
       "    <tr>\n",
       "      <th>0</th>\n",
       "      <td>0</td>\n",
       "      <td>-4.265476e+06</td>\n",
       "      <td>4.393148e+06</td>\n",
       "      <td>1.717215e+09</td>\n",
       "      <td>0.0</td>\n",
       "    </tr>\n",
       "    <tr>\n",
       "      <th>1</th>\n",
       "      <td>1</td>\n",
       "      <td>-4.265473e+06</td>\n",
       "      <td>4.393114e+06</td>\n",
       "      <td>1.717219e+09</td>\n",
       "      <td>0.0</td>\n",
       "    </tr>\n",
       "    <tr>\n",
       "      <th>2</th>\n",
       "      <td>2</td>\n",
       "      <td>-4.265437e+06</td>\n",
       "      <td>4.393149e+06</td>\n",
       "      <td>1.717223e+09</td>\n",
       "      <td>0.0</td>\n",
       "    </tr>\n",
       "    <tr>\n",
       "      <th>3</th>\n",
       "      <td>3</td>\n",
       "      <td>-4.265435e+06</td>\n",
       "      <td>4.393116e+06</td>\n",
       "      <td>1.717227e+09</td>\n",
       "      <td>0.0</td>\n",
       "    </tr>\n",
       "  </tbody>\n",
       "</table>\n",
       "</div>"
      ],
      "text/plain": [
       "   cluster             x             y  start_timestamp  duration\n",
       "0        0 -4.265476e+06  4.393148e+06     1.717215e+09       0.0\n",
       "1        1 -4.265473e+06  4.393114e+06     1.717219e+09       0.0\n",
       "2        2 -4.265437e+06  4.393149e+06     1.717223e+09       0.0\n",
       "3        3 -4.265435e+06  4.393116e+06     1.717227e+09       0.0"
      ]
     },
     "execution_count": 7,
     "metadata": {},
     "output_type": "execute_result"
    }
   ],
   "source": [
    "stops = algo[\"func\"](sparse, **algo[\"params\"], x=\"x\", y=\"y\")\n",
    "stops"
   ]
  },
  {
   "cell_type": "code",
   "execution_count": 8,
   "id": "56aee721-b37c-4bdc-bf43-f80e108cf242",
   "metadata": {},
   "outputs": [],
   "source": [
    "labels  = TADBSCAN.ta_dbscan_labels(sparse, **algo[\"params\"], x=\"x\", y=\"y\")\n",
    "data_with_clusters = sparse.join(labels)\n"
   ]
  },
  {
   "cell_type": "code",
   "execution_count": 12,
   "id": "95b189c9-d408-454e-9ce3-800c0284f3c4",
   "metadata": {},
   "outputs": [
    {
     "ename": "TypeError",
     "evalue": "Method `majority' requires ping data with cluster labels,                            but a stop table was provided",
     "output_type": "error",
     "traceback": [
      "\u001b[1;31m---------------------------------------------------------------------------\u001b[0m",
      "\u001b[1;31mTypeError\u001b[0m                                 Traceback (most recent call last)",
      "Cell \u001b[1;32mIn[12], line 3\u001b[0m\n\u001b[0;32m      1\u001b[0m data_with_clusters \u001b[38;5;241m=\u001b[39m pp\u001b[38;5;241m.\u001b[39mremove_overlaps(data_with_clusters, \u001b[38;5;241m*\u001b[39m\u001b[38;5;241m*\u001b[39malgo[\u001b[38;5;124m\"\u001b[39m\u001b[38;5;124mparams\u001b[39m\u001b[38;5;124m\"\u001b[39m], method\u001b[38;5;241m=\u001b[39m\u001b[38;5;124m\"\u001b[39m\u001b[38;5;124mcluster\u001b[39m\u001b[38;5;124m\"\u001b[39m, x\u001b[38;5;241m=\u001b[39m\u001b[38;5;124m\"\u001b[39m\u001b[38;5;124mx\u001b[39m\u001b[38;5;124m\"\u001b[39m, y\u001b[38;5;241m=\u001b[39m\u001b[38;5;124m\"\u001b[39m\u001b[38;5;124my\u001b[39m\u001b[38;5;124m\"\u001b[39m)\n\u001b[1;32m----> 3\u001b[0m location \u001b[38;5;241m=\u001b[39m \u001b[43mvisits\u001b[49m\u001b[38;5;241;43m.\u001b[39;49m\u001b[43mpoint_in_polygon\u001b[49m\u001b[43m(\u001b[49m\u001b[43mdata_with_clusters\u001b[49m\u001b[43m,\u001b[49m\u001b[43m \u001b[49m\u001b[43mpoi_table\u001b[49m\u001b[38;5;241;43m=\u001b[39;49m\u001b[43mpoi_table\u001b[49m\u001b[43m,\u001b[49m\u001b[43m \u001b[49m\u001b[43mdata_crs\u001b[49m\u001b[38;5;241;43m=\u001b[39;49m\u001b[38;5;124;43m'\u001b[39;49m\u001b[38;5;124;43mEPSG:3857\u001b[39;49m\u001b[38;5;124;43m'\u001b[39;49m\u001b[43m,\u001b[49m\u001b[43m \u001b[49m\u001b[43mmethod\u001b[49m\u001b[38;5;241;43m=\u001b[39;49m\u001b[38;5;124;43m\"\u001b[39;49m\u001b[38;5;124;43mmajority\u001b[39;49m\u001b[38;5;124;43m\"\u001b[39;49m\u001b[43m,\u001b[49m\n\u001b[0;32m      4\u001b[0m \u001b[43m                                   \u001b[49m\u001b[43mmax_distance\u001b[49m\u001b[38;5;241;43m=\u001b[39;49m\u001b[38;5;241;43m12\u001b[39;49m\u001b[43m,\u001b[49m\u001b[43m \u001b[49m\u001b[43mlocation_id\u001b[49m\u001b[38;5;241;43m=\u001b[39;49m\u001b[38;5;124;43m'\u001b[39;49m\u001b[38;5;124;43mlocation\u001b[39;49m\u001b[38;5;124;43m'\u001b[39;49m\u001b[43m,\u001b[49m\u001b[43m \u001b[49m\u001b[43mx\u001b[49m\u001b[38;5;241;43m=\u001b[39;49m\u001b[38;5;124;43m'\u001b[39;49m\u001b[38;5;124;43mx\u001b[39;49m\u001b[38;5;124;43m'\u001b[39;49m\u001b[43m,\u001b[49m\u001b[43m \u001b[49m\u001b[43my\u001b[49m\u001b[38;5;241;43m=\u001b[39;49m\u001b[38;5;124;43m'\u001b[39;49m\u001b[38;5;124;43my\u001b[39;49m\u001b[38;5;124;43m'\u001b[39;49m\u001b[43m,\u001b[49m\u001b[43m \u001b[49m\u001b[43mcluster_label\u001b[49m\u001b[38;5;241;43m=\u001b[39;49m\u001b[38;5;124;43m'\u001b[39;49m\u001b[38;5;124;43mcluster\u001b[39;49m\u001b[38;5;124;43m'\u001b[39;49m\u001b[43m)\u001b[49m\n\u001b[0;32m      5\u001b[0m data_with_clusters \u001b[38;5;241m=\u001b[39m data_with_clusters\u001b[38;5;241m.\u001b[39mjoin(location)\n",
      "File \u001b[1;32m~\\Desktop\\Brain\\Code Development\\nomad\\nomad\\visit_attribution\\visit_attribution.py:58\u001b[0m, in \u001b[0;36mpoint_in_polygon\u001b[1;34m(data, poi_table, method, data_crs, max_distance, cluster_label, location_id, traj_cols, **kwargs)\u001b[0m\n\u001b[0;32m     55\u001b[0m \u001b[38;5;28;01mif\u001b[39;00m is_stop_table:\n\u001b[0;32m     56\u001b[0m     \u001b[38;5;66;03m# is stop table\u001b[39;00m\n\u001b[0;32m     57\u001b[0m     \u001b[38;5;28;01mif\u001b[39;00m method\u001b[38;5;241m==\u001b[39m\u001b[38;5;124m'\u001b[39m\u001b[38;5;124mmajority\u001b[39m\u001b[38;5;124m'\u001b[39m:\n\u001b[1;32m---> 58\u001b[0m         \u001b[38;5;28;01mraise\u001b[39;00m \u001b[38;5;167;01mTypeError\u001b[39;00m(\u001b[38;5;124m\"\u001b[39m\u001b[38;5;124mMethod `majority\u001b[39m\u001b[38;5;124m'\u001b[39m\u001b[38;5;124m requires ping data with cluster labels,\u001b[39m\u001b[38;5;130;01m\\\u001b[39;00m\n\u001b[0;32m     59\u001b[0m \u001b[38;5;124m                        but a stop table was provided\u001b[39m\u001b[38;5;124m\"\u001b[39m)\n\u001b[0;32m     60\u001b[0m     \u001b[38;5;28;01melif\u001b[39;00m method\u001b[38;5;241m==\u001b[39m\u001b[38;5;124m'\u001b[39m\u001b[38;5;124mcentroid\u001b[39m\u001b[38;5;124m'\u001b[39m:\n\u001b[0;32m     61\u001b[0m         stop_table \u001b[38;5;241m=\u001b[39m data\u001b[38;5;241m.\u001b[39mcopy()\n",
      "\u001b[1;31mTypeError\u001b[0m: Method `majority' requires ping data with cluster labels,                            but a stop table was provided"
     ]
    }
   ],
   "source": [
    "data_with_clusters = pp.remove_overlaps(data_with_clusters, **algo[\"params\"], method=\"cluster\", x=\"x\", y=\"y\")\n",
    "\n",
    "location = visits.point_in_polygon(data_with_clusters, poi_table=poi_table, data_crs='EPSG:3857', method=\"majority\",\n",
    "                                   max_distance=12, location_id='location', x='x', y='y', cluster_label='cluster')\n",
    "data_with_clusters = data_with_clusters.join(location)"
   ]
  },
  {
   "cell_type": "code",
   "execution_count": 13,
   "id": "45b2a665-9b77-44ed-94b9-13afe69755ac",
   "metadata": {},
   "outputs": [
    {
     "data": {
      "text/html": [
       "<div>\n",
       "<style scoped>\n",
       "    .dataframe tbody tr th:only-of-type {\n",
       "        vertical-align: middle;\n",
       "    }\n",
       "\n",
       "    .dataframe tbody tr th {\n",
       "        vertical-align: top;\n",
       "    }\n",
       "\n",
       "    .dataframe thead th {\n",
       "        text-align: right;\n",
       "    }\n",
       "</style>\n",
       "<table border=\"1\" class=\"dataframe\">\n",
       "  <thead>\n",
       "    <tr style=\"text-align: right;\">\n",
       "      <th></th>\n",
       "      <th>cluster</th>\n",
       "      <th>x</th>\n",
       "      <th>y</th>\n",
       "      <th>start_timestamp</th>\n",
       "      <th>duration</th>\n",
       "    </tr>\n",
       "  </thead>\n",
       "  <tbody>\n",
       "    <tr>\n",
       "      <th>0</th>\n",
       "      <td>0</td>\n",
       "      <td>-4.265476e+06</td>\n",
       "      <td>4.393148e+06</td>\n",
       "      <td>1.717215e+09</td>\n",
       "      <td>62.0</td>\n",
       "    </tr>\n",
       "    <tr>\n",
       "      <th>1</th>\n",
       "      <td>1</td>\n",
       "      <td>-4.265473e+06</td>\n",
       "      <td>4.393114e+06</td>\n",
       "      <td>1.717219e+09</td>\n",
       "      <td>39.0</td>\n",
       "    </tr>\n",
       "    <tr>\n",
       "      <th>2</th>\n",
       "      <td>2</td>\n",
       "      <td>-4.265437e+06</td>\n",
       "      <td>4.393149e+06</td>\n",
       "      <td>1.717223e+09</td>\n",
       "      <td>37.0</td>\n",
       "    </tr>\n",
       "    <tr>\n",
       "      <th>3</th>\n",
       "      <td>3</td>\n",
       "      <td>-4.265435e+06</td>\n",
       "      <td>4.393116e+06</td>\n",
       "      <td>1.717227e+09</td>\n",
       "      <td>30.0</td>\n",
       "    </tr>\n",
       "  </tbody>\n",
       "</table>\n",
       "</div>"
      ],
      "text/plain": [
       "   cluster             x             y  start_timestamp  duration\n",
       "0        0 -4.265476e+06  4.393148e+06     1.717215e+09      62.0\n",
       "1        1 -4.265473e+06  4.393114e+06     1.717219e+09      39.0\n",
       "2        2 -4.265437e+06  4.393149e+06     1.717223e+09      37.0\n",
       "3        3 -4.265435e+06  4.393116e+06     1.717227e+09      30.0"
      ]
     },
     "execution_count": 13,
     "metadata": {},
     "output_type": "execute_result"
    }
   ],
   "source": [
    "data_with_clusters"
   ]
  },
  {
   "cell_type": "code",
   "execution_count": null,
   "id": "349cf738-cd6f-422f-a37a-8707290a70c9",
   "metadata": {},
   "outputs": [],
   "source": []
  }
 ],
 "metadata": {
  "kernelspec": {
   "display_name": "Python 3.10 (daphme)",
   "language": "python",
   "name": "daphme"
  },
  "language_info": {
   "codemirror_mode": {
    "name": "ipython",
    "version": 3
   },
   "file_extension": ".py",
   "mimetype": "text/x-python",
   "name": "python",
   "nbconvert_exporter": "python",
   "pygments_lexer": "ipython3",
   "version": "3.10.0"
  }
 },
 "nbformat": 4,
 "nbformat_minor": 5
}

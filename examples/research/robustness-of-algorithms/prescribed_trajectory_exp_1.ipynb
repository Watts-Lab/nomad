{
 "cells": [
  {
   "cell_type": "code",
   "execution_count": 1,
   "id": "75d8db73-f641-4158-a5c6-f2629b2ec061",
   "metadata": {},
   "outputs": [],
   "source": [
    "import numpy as np\n",
    "import pandas as pd\n",
    "import geopandas as gpd\n",
    "import pickle\n",
    "import json"
   ]
  },
  {
   "cell_type": "code",
   "execution_count": 2,
   "id": "389c01ca-8a14-478d-857e-2db2f0a1fc33",
   "metadata": {},
   "outputs": [],
   "source": [
    "import nomad.io.base as loader\n",
    "import nomad.city_gen as cg\n",
    "import nomad.traj_gen as tg\n",
    "from nomad.traj_gen import Agent, Population"
   ]
  },
  {
   "cell_type": "markdown",
   "id": "2eeb571a-e882-4c29-b107-0d2196d915c9",
   "metadata": {},
   "source": [
    "## Load city and configure destination diaries"
   ]
  },
  {
   "cell_type": "code",
   "execution_count": 3,
   "id": "567efc80-b01b-47de-a286-5a6c91e97153",
   "metadata": {},
   "outputs": [],
   "source": [
    "city = cg.load('../../garden-city.pkl')\n",
    "start = '2024-06-01 00:00-04:00'\n",
    "\n",
    "#option 1: old\n",
    "start_time = pd.date_range(start=start, periods=4, freq='60min')\n",
    "unix_timestamp = [int(t.timestamp()) for t in start_time]\n",
    "duration = [60]*4  # in minutes\n",
    "location = ['h-x13-y11'] * 1 + ['h-x13-y9'] * 1 + ['w-x18-y10'] * 1 + ['w-x18-y8'] * 1\n",
    "\n",
    "destinations = pd.DataFrame(\n",
    "    {\n",
    "        \"datetime\":start_time,\n",
    "         \"timestamp\":unix_timestamp,\n",
    "         \"duration\":duration,\n",
    "         \"location\":location\n",
    "    }\n",
    ")\n",
    "destinations.to_csv(\"exp_1_destinations_balanced.csv\")\n",
    "\n",
    "#option 2: we break symmetries to produce more density heterogeneity\n",
    "start_time = pd.date_range(start=start, periods=8, freq='30min')\n",
    "unix_timestamp = [int(t.timestamp()) for t in start_time]\n",
    "duration = [30]*8 \n",
    "location = ['h-x13-y11'] * 2 + ['h-x13-y9'] * 1 + ['w-x18-y10'] * 2 + ['w-x18-y8'] * 3\n",
    "\n",
    "destinations = pd.DataFrame(\n",
    "    {\n",
    "        \"datetime\":start_time,\n",
    "         \"timestamp\":unix_timestamp,\n",
    "         \"duration\":duration,\n",
    "         \"location\":location\n",
    "    }\n",
    ")\n",
    "destinations.to_csv(\"exp_1_destinations_unbalanced.csv\")"
   ]
  },
  {
   "cell_type": "code",
   "execution_count": 4,
   "id": "641c23b6-b036-40a0-9d06-0692b023feb1",
   "metadata": {},
   "outputs": [],
   "source": [
    "# Delete?\n",
    "tz_offset = loader._offset_seconds_from_ts(start_time[0])\n",
    "traj_cols = {'user_id':'user_id', 'x':'x','y':'y','timestamp':'timestamp', 'location_id':'building_id'}"
   ]
  },
  {
   "cell_type": "markdown",
   "id": "1630e640-5b2f-4e08-8dce-42d348afda7e",
   "metadata": {},
   "source": [
    "## Config files for simulations\n",
    "This could be in a json or yaml and should be passable to a Population object."
   ]
  },
  {
   "cell_type": "code",
   "execution_count": null,
   "id": "b52059f6-a497-40c1-a369-f8e4c5a10fdf",
   "metadata": {},
   "outputs": [],
   "source": [
    "# option 1\n",
    "N_reps = 30\n",
    "sparsity_samples = 40\n",
    "config = dict(\n",
    "    dt = 0.5,\n",
    "    N = N_reps*sparsity_samples,\n",
    "    name_count=2,\n",
    "    name_seed=2025,\n",
    "    city_file='../../garden-city.pkl',\n",
    "    destination_diary_file='exp_1_destinations_balanced.csv',\n",
    "    output_files = dict(\n",
    "        sparse_path='sparse_traj_1',\n",
    "        diaries_path='diaries_1',\n",
    "        homes_path='homes_1.csv'\n",
    "    ),\n",
    "    agent_params = dict(\n",
    "        agent_homes='h-x13-y11',\n",
    "        agent_workplaces='w-x18-y8',\n",
    "        seed_trajectory=list(range(N_reps*sparsity_samples)),\n",
    "        seed_sparsity= list(range(N_reps*sparsity_samples)),\n",
    "        beta_ping= np.repeat(np.linspace(1, 20, sparsity_samples), N_reps).tolist(),\n",
    "        beta_durations=None,\n",
    "        beta_start=None,\n",
    "        ha=11.5/15\n",
    "    )\n",
    ")\n",
    "with open('config_low_ha.json', 'w', encoding='utf-8') as f:\n",
    "    json.dump(config, f, ensure_ascii=False, indent=4)\n",
    "\n",
    "# option 2\n",
    "N_reps = 50\n",
    "sparsity_samples = 40\n",
    "config_2 = dict(\n",
    "    dt = 0.5,\n",
    "    N = N_reps*sparsity_samples,\n",
    "    name_count=2,\n",
    "    name_seed=2025,\n",
    "    city_file='../../garden-city.pkl',\n",
    "    destination_diary_file='exp_1_destinations_unbalanced.csv',\n",
    "    output_files = dict(\n",
    "        sparse_path='sparse_traj_2',\n",
    "        diaries_path='diaries_2',\n",
    "        homes_path='homes_2.csv'\n",
    "    ),\n",
    "    agent_params = dict(\n",
    "        agent_homes='h-x13-y11',\n",
    "        agent_workplaces='w-x18-y8',\n",
    "        seed_trajectory=list(range(N_reps*sparsity_samples)),\n",
    "        seed_sparsity= list(range(N_reps*sparsity_samples)),\n",
    "        beta_ping= np.repeat(np.linspace(1, 20, sparsity_samples), N_reps).tolist(),\n",
    "        beta_durations=None,\n",
    "        beta_start=None,\n",
    "        ha=15/15\n",
    "    )\n",
    ")\n",
    "with open('config_high_ha.json', 'w', encoding='utf-8') as f:\n",
    "    json.dump(config, f, ensure_ascii=False, indent=4)"
   ]
  },
  {
   "cell_type": "markdown",
   "id": "adf351fb-c22a-461f-b223-69aa13a276c6",
   "metadata": {},
   "source": [
    "## Generate trajectories"
   ]
  },
  {
   "cell_type": "code",
   "execution_count": null,
   "id": "204b6937-6720-4f1b-afee-936f578d236d",
   "metadata": {},
   "outputs": [],
   "source": [
    "# Generate trajectories with progress bar\n",
    "\n",
    "# Load city and destination diary from config\n",
    "city = cg.load(config[\"city_file\"])\n",
    "destinations = pd.read_csv(config[\"destination_diary_file\"])\n",
    "\n",
    "population = Population(city)\n",
    "population.generate_agents(\n",
    "    N=config[\"N\"], \n",
    "    seed=config[\"name_seed\"], \n",
    "    name_count=config[\"name_count\"],\n",
    "    agent_homes=config[\"agent_params\"][\"agent_homes\"],\n",
    "    agent_workplaces=config[\"agent_params\"][\"agent_workplaces\"]\n",
    ")\n",
    "\n",
    "for i, agent in enumerate(tqdm(population.roster.values(), desc=\"Generating trajectories\")):\n",
    "    agent.generate_trajectory(\n",
    "        destination_diary=destinations,\n",
    "        dt=config[\"dt\"],\n",
    "        seed=config[\"agent_params\"][\"seed_trajectory\"][i],\n",
    "        step_seed=config[\"agent_params\"][\"seed_trajectory\"][i])\n",
    "    \n",
    "    agent.sample_trajectory(\n",
    "        **beta_params,\n",
    "        seed=seed_sparsity,\n",
    "        ha=ha_sample,\n",
    "        replace_sparse_traj=True)\n",
    "\n",
    "    garden_city_to_lat_long(agent, sparse_traj=True, full_traj=False, use_datetime=use_datetime, use_lon_lat=use_lon_lat)"
   ]
  },
  {
   "cell_type": "code",
   "execution_count": null,
   "id": "a302d897-0108-4ca8-953b-e4fb0fcd344d",
   "metadata": {},
   "outputs": [],
   "source": [
    "# Save output files using save_pop method\n",
    "print(\"Saving output files...\")\n",
    "population.save_pop(\n",
    "    sparse_path=config[\"output_files\"][\"sparse_path\"],\n",
    "    diaries_path=config[\"output_files\"][\"diaries_path\"],\n",
    "    homes_path=config[\"output_files\"][\"homes_path\"],\n",
    "    beta_ping=config[\"agent_params\"][\"beta_ping\"],\n",
    "    ha=config[\"agent_params\"][\"ha\"]\n",
    ")\n",
    "print(\"All output files saved successfully!\")"
   ]
  },
  {
   "cell_type": "code",
   "execution_count": null,
   "id": "9a182daf-4443-4710-9636-284a5694d72d",
   "metadata": {},
   "outputs": [],
   "source": []
  }
 ],
 "metadata": {
  "kernelspec": {
   "display_name": "Python 3.10 (daphme)",
   "language": "python",
   "name": "daphme"
  },
  "language_info": {
   "codemirror_mode": {
    "name": "ipython",
    "version": 3
   },
   "file_extension": ".py",
   "mimetype": "text/x-python",
   "name": "python",
   "nbconvert_exporter": "python",
   "pygments_lexer": "ipython3",
   "version": "3.10.0"
  }
 },
 "nbformat": 4,
 "nbformat_minor": 5
}

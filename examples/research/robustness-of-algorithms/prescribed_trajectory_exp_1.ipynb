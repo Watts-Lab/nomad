{
 "cells": [
  {
   "cell_type": "code",
   "execution_count": 1,
   "id": "75d8db73-f641-4158-a5c6-f2629b2ec061",
   "metadata": {},
   "outputs": [],
   "source": [
    "import numpy as np\n",
    "import pandas as pd\n",
    "import geopandas as gpd\n",
    "import pickle"
   ]
  },
  {
   "cell_type": "code",
   "execution_count": 33,
   "id": "389c01ca-8a14-478d-857e-2db2f0a1fc33",
   "metadata": {},
   "outputs": [],
   "source": [
    "import nomad.io.base as loader\n",
    "import nomad.city_gen as cg\n",
    "import nomad.traj_gen as tg\n",
    "from nomad.traj_gen import Agent, Population"
   ]
  },
  {
   "cell_type": "markdown",
   "id": "2eeb571a-e882-4c29-b107-0d2196d915c9",
   "metadata": {},
   "source": [
    "## Load city and configure destination diaries"
   ]
  },
  {
   "cell_type": "code",
   "execution_count": 47,
   "id": "567efc80-b01b-47de-a286-5a6c91e97153",
   "metadata": {},
   "outputs": [],
   "source": [
    "city = cg.load('../../garden-city.pkl')\n",
    "start = '2024-06-01 00:00-04:00'\n",
    "\n",
    "#option 1: old\n",
    "start_time = pd.date_range(start=start, periods=4, freq='60min')\n",
    "unix_timestamp = [int(t.timestamp()) for t in start_time]\n",
    "duration = [60]*4  # in minutes\n",
    "location = ['h-x13-y11'] * 1 + ['h-x13-y9'] * 1 + ['w-x18-y10'] * 1 + ['w-x18-y8'] * 1\n",
    "\n",
    "destinations = pd.DataFrame(\n",
    "    {\n",
    "        \"datetime\":start_time,\n",
    "         \"timestamp\":unix_timestamp,\n",
    "         \"duration\":duration,\n",
    "         \"location\":location\n",
    "    }\n",
    ")\n",
    "destinations.to_csv(\"exp_1_destinations_balanced.csv\")\n",
    "\n",
    "#option 2: we break symmetries to produce more density heterogeneity\n",
    "start_time = pd.date_range(start=start, periods=8, freq='30min')\n",
    "unix_timestamp = [int(t.timestamp()) for t in start_time]\n",
    "duration = [30]*8 \n",
    "location = ['h-x13-y11'] * 2 + ['h-x13-y9'] * 1 + ['w-x18-y10'] * 2 + ['w-x18-y8'] * 3\n",
    "\n",
    "destinations = pd.DataFrame(\n",
    "    {\n",
    "        \"datetime\":start_time,\n",
    "         \"timestamp\":unix_timestamp,\n",
    "         \"duration\":duration,\n",
    "         \"location\":location\n",
    "    }\n",
    ")\n",
    "destinations.to_csv(\"exp_1_destinations_unbalanced.csv\")"
   ]
  },
  {
   "cell_type": "code",
   "execution_count": null,
   "id": "641c23b6-b036-40a0-9d06-0692b023feb1",
   "metadata": {},
   "outputs": [],
   "source": [
    "# Delete?\n",
    "tz_offset = loader._offset_seconds_from_ts(start_time[0])\n",
    "traj_cols = {'user_id':'identifier', 'x':'x','y':'y','timestamp':'timestamp', 'location_id':'building_id'}"
   ]
  },
  {
   "cell_type": "markdown",
   "id": "1630e640-5b2f-4e08-8dce-42d348afda7e",
   "metadata": {},
   "source": [
    "## Config file for simulations\n",
    "This could be in a json or yaml and should be passable to a Population object."
   ]
  },
  {
   "cell_type": "code",
   "execution_count": null,
   "id": "b52059f6-a497-40c1-a369-f8e4c5a10fdf",
   "metadata": {},
   "outputs": [],
   "source": [
    "N_sim = 30\n",
    "dt = 0.25\n",
    "agent_home='h-x13-y11'\n",
    "agent_workplace='w-x18-y8'\n",
    "seeds = range(N_sim)\n",
    "BETA_PING = np.arange(2, 25.5, 0.5).tolist()"
   ]
  },
  {
   "cell_type": "markdown",
   "id": "f31f2860-7363-450f-abd5-607b3f9256b4",
   "metadata": {},
   "source": [
    "For this experiment, Charlie should not need a home and a workplace. They are **irrelevant**. Right? We do, however, want to tune **the noise**"
   ]
  },
  {
   "cell_type": "code",
   "execution_count": null,
   "id": "204b6937-6720-4f1b-afee-936f578d236d",
   "metadata": {},
   "outputs": [],
   "source": [
    "agent = Agent(\n",
    "    identifier=\"Charlie\",\n",
    "    home=agent_home,\n",
    "    workplace=agent_workplace,\n",
    "    city=city\n",
    ")\n",
    "agent.generate_trajectory(\n",
    "    destination_diary=destinations,\n",
    "    dt=dt,\n",
    "    seed=seed)"
   ]
  }
 ],
 "metadata": {
  "kernelspec": {
   "display_name": "Python 3.10 (daphme)",
   "language": "python",
   "name": "daphme"
  },
  "language_info": {
   "codemirror_mode": {
    "name": "ipython",
    "version": 3
   },
   "file_extension": ".py",
   "mimetype": "text/x-python",
   "name": "python",
   "nbconvert_exporter": "python",
   "pygments_lexer": "ipython3",
   "version": "3.10.0"
  }
 },
 "nbformat": 4,
 "nbformat_minor": 5
}

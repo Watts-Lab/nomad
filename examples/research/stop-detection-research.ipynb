{
 "cells": [
  {
   "cell_type": "markdown",
   "id": "1364ba7a-c457-424d-b68d-0eabde1d9ac4",
   "metadata": {},
   "source": [
    "# ST-HDBSCAN: Spatiotemporal Hierarchical DBSCAN for Trajectory Data"
   ]
  },
  {
   "cell_type": "markdown",
   "id": "8cff17d8-0050-4885-89f8-0b3aabd43ec7",
   "metadata": {},
   "source": [
    "## Abstract"
   ]
  },
  {
   "cell_type": "markdown",
   "id": "3a16e0da-f862-43b5-a4fb-2d4f1e8c32f6",
   "metadata": {},
   "source": [
    "The study of human mobility has advanced greatly in recent years due to the availability of\n",
    "commercial large-scale GPS trajectory datasets [3]. However, the validity of findings that use\n",
    "these datasets depends heavily on the robustness of their pre-processing methods.An important\n",
    "step in the processing of mobility data is the detection of stops within GPS trajectories, for\n",
    "which many clustering algorithms have been proposed [4, 8, 6, 1]. Yet, the high sparsity of\n",
    "commercial GPS data can affect the performance of these stop-detection algorithms.\n",
    "In the case of DBSCAN, while it initially identifies dense regions, it can often over-cluster\n",
    "or under-cluster due to noise and weakly connected points given the chosen ε. ST-DBSCAN [4]\n",
    "uses two distance thresholds, Eps1 for spatial and Eps2 for non-spatial values. The algorithm\n",
    "compares the average non-spatial value, such as temperature, of a cluster with a new com-\n",
    "ing value, to prevent merging adjacent clusters. Nevertheless, datasets that include this kind\n",
    "of information are not comparable to realistic GPS-based trajectories. A promising algorithm\n",
    "is T-DBSCAN [6], which searches forward in time for a continuous density-based neighbor-\n",
    "hood of core points. Points spatially close, within Eps, and within a roaming threshold, CEps,\n",
    "are included in a cluster. Additionally, we used a time-augmented DBSCAN algorithm, TA-\n",
    "DBSCAN, which recursively processes the clusters obtained from DBSCAN to address the\n",
    "issue of initial clusters overlapping in time. However, methods [9] that validate stop-detection\n",
    "algorithms based on synthetic data show that these can omit, merge, or split stops based on the\n",
    "selection of epsilon and sparsity of the data.\n",
    "If we define parameters that may be considered fine (low ε), it might completely miss a\n",
    "stop at a larger location. In contrast, coarse parameters (large ε) may struggle to differentiate\n",
    "stops within small neighboring locations [3]. Since different venues vary in stop durations and\n",
    "areas, this could influence the parameter choices [9]. To address this parameter selection lim-\n",
    "itation, we propose a spatiotemporal variation of Hierarchical DBSCAN [5], ST-HDBSCAN.\n",
    "Unlike DBSCAN, which relies on one threshold of density to cluster points, our variation con-\n",
    "structs separate structures for space and time distances that preserve density-based connections\n",
    "in these two dimensions. This approach ensures that when pruning the hierarchical tree struc-\n",
    "ture needed for cluster formation, we account for varying spatiotemporal densities. As a result,\n",
    "clusters emerge naturally without requiring specific time and space thresholds, working effec-\n",
    "tively across different data sparsity levels."
   ]
  },
  {
   "cell_type": "code",
   "execution_count": null,
   "id": "9b8502ca-e6d1-4df1-9f2f-7bfceafd598a",
   "metadata": {},
   "outputs": [],
   "source": []
  }
 ],
 "metadata": {
  "kernelspec": {
   "display_name": "Python (nomad_env)",
   "language": "python",
   "name": "nomad_env"
  },
  "language_info": {
   "codemirror_mode": {
    "name": "ipython",
    "version": 3
   },
   "file_extension": ".py",
   "mimetype": "text/x-python",
   "name": "python",
   "nbconvert_exporter": "python",
   "pygments_lexer": "ipython3",
   "version": "3.10.0"
  }
 },
 "nbformat": 4,
 "nbformat_minor": 5
}

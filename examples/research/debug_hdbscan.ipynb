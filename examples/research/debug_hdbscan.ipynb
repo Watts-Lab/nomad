{
 "cells": [
  {
   "cell_type": "code",
   "execution_count": 1,
   "id": "23c0ea8c",
   "metadata": {},
   "outputs": [],
   "source": [
    "import pandas as pd\n",
    "# pd.set_option('display.max_rows', 500)\n",
    "# pd.set_option('display.max_colwidth', 500)\n",
    "\n",
    "import geopandas as gpd\n",
    "import shapely\n",
    "import numpy as np\n",
    "from functools import partial\n",
    "from tqdm import tqdm\n",
    "import matplotlib.pyplot as plt\n",
    "import matplotlib.colors as mcolors\n",
    "import seaborn as sns\n",
    "\n",
    "import nomad.io.base as loader\n",
    "import nomad.stop_detection.utils as utils\n",
    "import nomad.stop_detection.hdbscan as HDBSCAN\n",
    "import nomad.stop_detection.lachesis as LACHESIS\n",
    "import nomad.stop_detection.ta_dbscan as TADBSCAN\n",
    "import nomad.stop_detection.grid_based as GRID_BASED # for oracle visits\n",
    "import nomad.stop_detection.postprocessing as pp\n",
    "\n",
    "import nomad.visit_attribution as visits\n",
    "import nomad.filters as filters\n",
    "import nomad.city_gen as cg\n",
    "\n",
    "from nomad.contact_estimation import overlapping_visits, compute_visitation_errors, compute_precision_recall_f1"
   ]
  },
  {
   "cell_type": "code",
   "execution_count": 2,
   "id": "84a61690",
   "metadata": {},
   "outputs": [],
   "source": [
    "import nomad.city_gen as cg\n",
    "city = cg.load('../garden-city.pkl')\n",
    "\n",
    "def classify_building_size_from_id(building_id):\n",
    "    building = city.buildings.get(building_id)\n",
    "    n_blocks = len(building.blocks)\n",
    "    if n_blocks == 1:\n",
    "        return 'small'\n",
    "    elif 2 <= n_blocks <= 3:\n",
    "        return 'medium'\n",
    "    else:\n",
    "        return 'big'\n",
    "\n",
    "def classify_building_type_from_id(building_id):\n",
    "    building = city.buildings.get(building_id)\n",
    "    return building.building_type\n",
    "\n",
    "def classify_dwell(duration):\n",
    "    if duration <= 5:\n",
    "        return 'low'\n",
    "    elif 6 <= duration <= 120:\n",
    "        return 'mid'\n",
    "    else:\n",
    "        return 'high'"
   ]
  },
  {
   "cell_type": "code",
   "execution_count": 3,
   "id": "6aa9d8d3",
   "metadata": {},
   "outputs": [],
   "source": [
    "def fill_timestamp_gaps(first_time, last_time, pred):\n",
    "    new_rows = []\n",
    "\n",
    "    # fill initial gap\n",
    "    if first_time < pred.loc[0, 'start_timestamp']:\n",
    "        gap = (pred.loc[0, 'start_timestamp'] - first_time) // 60\n",
    "        new_rows.append({\n",
    "            'cluster': None,\n",
    "            'x': None,\n",
    "            'y': None,\n",
    "            'start_timestamp': first_time,\n",
    "            'duration': gap,\n",
    "            'building_id': \"None\"\n",
    "        })\n",
    "\n",
    "    # fill intermediate gaps\n",
    "    for i in range(len(pred) - 1):\n",
    "        end_time = pred.loc[i, 'start_timestamp'] + pred.loc[i, 'duration'] * 60\n",
    "        next_start = pred.loc[i + 1, 'start_timestamp']\n",
    "        \n",
    "        if end_time < next_start:\n",
    "            gap = (next_start - end_time) // 60\n",
    "            new_rows.append({\n",
    "                'cluster': None,\n",
    "                'x': None,\n",
    "                'y': None,\n",
    "                'start_timestamp': end_time,\n",
    "                'duration': gap,\n",
    "                'building_id': \"None\"\n",
    "            })\n",
    "\n",
    "    # fill final gap\n",
    "    last_end = pred.iloc[-1]['start_timestamp'] + pred.iloc[-1]['duration'] * 60\n",
    "    if last_end < last_time:\n",
    "        gap = (last_time - last_end) // 60\n",
    "        new_rows.append({\n",
    "            'cluster': None,\n",
    "            'x': None,\n",
    "            'y': None,\n",
    "            'start_timestamp': last_end,\n",
    "            'duration': gap,\n",
    "            'building_id': \"None\"\n",
    "        })\n",
    "\n",
    "    df_full = pd.concat([pred, pd.DataFrame(new_rows)], ignore_index=True)\n",
    "    df_full = df_full.sort_values('start_timestamp').reset_index(drop=True)\n",
    "\n",
    "    return df_full\n",
    "    "
   ]
  },
  {
   "cell_type": "code",
   "execution_count": 4,
   "id": "75f720ef",
   "metadata": {},
   "outputs": [],
   "source": [
    "traj_cols = {'user_id':'uid',\n",
    "             'x':'x',\n",
    "             'y':'y',\n",
    "             'timestamp':'timestamp'}\n",
    "poi_table = gpd.read_file('../garden_city.gpkg')\n",
    "# building type\n",
    "poi_table = poi_table.rename({'type':'building_type'}, axis=1)\n",
    "# building size\n",
    "poi_table['building_size'] = poi_table['building_id'].apply(classify_building_size_from_id)\n",
    "\n",
    "diaries_df = loader.from_file(\"../../nomad/data/diaries\", format=\"parquet\", traj_cols=traj_cols)\n",
    "diaries_df = diaries_df.rename({'location':'building_id'}, axis=1)\n",
    "diaries_df = diaries_df.merge(poi_table[['building_id', 'building_size']], on='building_id', how='left')\n",
    "diaries_df = diaries_df.merge(poi_table[['building_id', 'building_type']], on='building_id', how='left')\n",
    "diaries_df['dwell_length'] = pd.NA\n",
    "diaries_df.loc[~diaries_df.building_id.isna(),'dwell_length'] = diaries_df.loc[~diaries_df.building_id.isna(),'duration'].apply(classify_dwell)\n",
    "\n",
    "sparse_df = loader.from_file(\"../../nomad/data/sparse_traj/\", format=\"parquet\", traj_cols=traj_cols,)"
   ]
  },
  {
   "cell_type": "code",
   "execution_count": 5,
   "id": "092caf02",
   "metadata": {},
   "outputs": [],
   "source": [
    "traj_cols = {'user_id':'uid',\n",
    "             'x':'x',\n",
    "             'y':'y',\n",
    "             'timestamp':'timestamp'}"
   ]
  },
  {
   "cell_type": "code",
   "execution_count": 15,
   "id": "f8f5bda6",
   "metadata": {},
   "outputs": [
    {
     "name": "stdout",
     "output_type": "stream",
     "text": [
      "CPU times: user 824 ms, sys: 8.53 ms, total: 832 ms\n",
      "Wall time: 832 ms\n"
     ]
    },
    {
     "name": "stderr",
     "output_type": "stream",
     "text": [
      "/var/folders/nt/0tc5pmb17xd73rr4g1xb0g_00000gn/T/ipykernel_80829/2020221460.py:45: FutureWarning: The behavior of DataFrame concatenation with empty or all-NA entries is deprecated. In a future version, this will no longer exclude empty or all-NA columns when determining the result dtypes. To retain the old behavior, exclude the relevant entries before the concat operation.\n",
      "  df_full = pd.concat([pred, pd.DataFrame(new_rows)], ignore_index=True)\n"
     ]
    }
   ],
   "source": [
    "%%time\n",
    "# user1 = sparse_df.uid.unique()[9]\n",
    "user1 = 'gracious_babbage'\n",
    "sparse1 = sparse_df.loc[sparse_df.uid==user1]\n",
    "# sparse1.loc[:,'x'] = (sparse1['x'] + 4265699)/15\n",
    "# sparse1.loc[:,'y'] = (sparse1['y'] - 4392976)/15\n",
    "diary1 = diaries_df.loc[diaries_df.uid == user1]\n",
    "\n",
    "# to summarize stops after groupby passing through individual locations\n",
    "summarize_stops_with_loc = partial(utils.summarize_stop, x='x', y='y', keep_col_names=False, passthrough_cols = ['building_id'], complete_output=True) # < function(grouped_data)\n",
    "\n",
    "# If we want to use 'majority' to attribute visits, then we need stop labels on each ping\n",
    "labels_hdbscan = HDBSCAN.hdbscan_labels(traj=sparse1,\n",
    "                                            time_thresh=240,\n",
    "                                            min_pts=2,\n",
    "                                            min_cluster_size=3,\n",
    "                                            traj_cols=traj_cols)\n",
    "labels_hdbscan.name = 'cluster'\n",
    "# join with the original data\n",
    "sparse_with_cluster = sparse1.join(labels_hdbscan)\n",
    "\n",
    "# has same index as data\n",
    "pred_hdbscan = visits.point_in_polygon(data=sparse_with_cluster,\n",
    "                                        poi_table=poi_table,\n",
    "                                        method='majority',\n",
    "                                        data_crs='EPSG:3857',\n",
    "                                        max_distance=15,\n",
    "                                        user_id='uid',\n",
    "                                        cluster_label='cluster',\n",
    "                                        location_id='building_id',\n",
    "                                        x='x',\n",
    "                                        y='y')\n",
    "# join the building id\n",
    "pred = sparse_with_cluster.join(pred_hdbscan)\n",
    "\n",
    "# stop_table_hdbscan = pred[pred.cluster!=-1].groupby('cluster', as_index=False).apply(summarize_stops_with_loc, include_groups=False)\n",
    "\n",
    "stop_table_hdbscan = pp.remove_overlaps(pred,\n",
    "                                 time_thresh=240,\n",
    "                                 min_pts=3,\n",
    "                                 dur_min=5,\n",
    "                                 traj_cols = traj_cols,\n",
    "                                 post_processing = 'polygon')\n",
    "\n",
    "first_time = diary1['timestamp'].iloc[0]\n",
    "last_time = diary1['timestamp'].iloc[-1] + diary1['duration'].iloc[-1] * 60\n",
    "filled_stop_hdbscan = fill_timestamp_gaps(first_time, last_time, stop_table_hdbscan)"
   ]
  },
  {
   "cell_type": "code",
   "execution_count": 16,
   "id": "2bbf6343",
   "metadata": {},
   "outputs": [
    {
     "name": "stdout",
     "output_type": "stream",
     "text": [
      "20160\n",
      "20160\n"
     ]
    }
   ],
   "source": [
    "print(sum(filled_stop_hdbscan['duration']))\n",
    "print(sum(diary1['duration']))"
   ]
  },
  {
   "cell_type": "code",
   "execution_count": 17,
   "id": "4f68d8f8",
   "metadata": {},
   "outputs": [],
   "source": [
    "overlaps = overlapping_visits(left=filled_stop_hdbscan,\n",
    "                                      right=diary1,\n",
    "                                      location_id='building_id',\n",
    "                                      match_location=False)\n",
    "\n",
    "errors = compute_visitation_errors(overlaps=overlaps,\n",
    "                                    true_visits=diary1,\n",
    "                                    location_id='building_id')\n",
    "\n",
    "prf1 = compute_precision_recall_f1(overlaps=overlaps,\n",
    "                                    pred_visits=filled_stop_hdbscan,\n",
    "                                    true_visits=diary1,\n",
    "                                    location_id='building_id')"
   ]
  },
  {
   "cell_type": "code",
   "execution_count": 18,
   "id": "d53b4aa8",
   "metadata": {},
   "outputs": [
    {
     "data": {
      "text/plain": [
       "{'missed_fraction': 0.0,\n",
       " 'merged_fraction': 1.0,\n",
       " 'split_fraction': 0.008130081300813009}"
      ]
     },
     "execution_count": 18,
     "metadata": {},
     "output_type": "execute_result"
    }
   ],
   "source": [
    "errors"
   ]
  },
  {
   "cell_type": "code",
   "execution_count": 12,
   "id": "b3a3d8c2",
   "metadata": {},
   "outputs": [
    {
     "data": {
      "image/png": "[encoded data removed]",
      "text/plain": [
       "<Figure size 600x600 with 1 Axes>"
      ]
     },
     "metadata": {},
     "output_type": "display_data"
    }
   ],
   "source": [
    "%matplotlib inline\n",
    "\n",
    "fig, ax = plt.subplots(figsize=(6, 6))\n",
    "plt.box(on=True)\n",
    "\n",
    "# Plotting Garden City Map\n",
    "city = cg.load('../garden-city.pkl')\n",
    "city.plot_city(ax, doors=True, address=False)\n",
    "\n",
    "# Getting colors for clusters\n",
    "unique_clusters = sorted(sparse_with_cluster['cluster'].unique())\n",
    "cluster_mapping = {cluster: i for i, cluster in enumerate(unique_clusters)}\n",
    "del cluster_mapping[-1]\n",
    "mapped_clusters = sparse_with_cluster['cluster'].map(cluster_mapping).to_numpy()\n",
    "cmap_base = plt.get_cmap('Dark2', len(unique_clusters) - (1 if -1 in unique_clusters else 0))\n",
    "# colors = ['gray'] + list(cmap_base.colors)\n",
    "colors = list(cmap_base.colors)\n",
    "extended_cmap = mcolors.ListedColormap(colors)\n",
    "\n",
    "# Plotting Pings\n",
    "ax.scatter(sparse_with_cluster['x'], \n",
    "           sparse_with_cluster['y'], \n",
    "           c=mapped_clusters, \n",
    "           cmap=extended_cmap, \n",
    "           s=6,\n",
    "           alpha=1,\n",
    "           zorder=2)\n",
    "\n",
    "ax.set_yticklabels([])\n",
    "ax.set_xticklabels([])\n",
    "# ax.set_title(\"HDBSCAN Stops for Sample User\")\n",
    "ax.set_xticks([])\n",
    "ax.set_yticks([])\n",
    "# ax.set_xlim(12, 22)\n",
    "# ax.set_ylim(7, 14)\n",
    "plt.tight_layout()\n",
    "\n",
    "# plt.savefig('gc_empty.png')\n",
    "plt.show()"
   ]
  },
  {
   "cell_type": "code",
   "execution_count": 12,
   "id": "f9291c97",
   "metadata": {},
   "outputs": [
    {
     "name": "stderr",
     "output_type": "stream",
     "text": [
      "/var/folders/nt/0tc5pmb17xd73rr4g1xb0g_00000gn/T/ipykernel_80829/2020221460.py:45: FutureWarning: The behavior of DataFrame concatenation with empty or all-NA entries is deprecated. In a future version, this will no longer exclude empty or all-NA columns when determining the result dtypes. To retain the old behavior, exclude the relevant entries before the concat operation.\n",
      "  df_full = pd.concat([pred, pd.DataFrame(new_rows)], ignore_index=True)\n"
     ]
    }
   ],
   "source": [
    "user1 = 'gracious_babbage'\n",
    "sparse1 = sparse_df.loc[sparse_df.uid==user1]\n",
    "# sparse1.loc[:,'x'] = (sparse1['x'] + 4265699)/15\n",
    "# sparse1.loc[:,'y'] = (sparse1['y'] - 4392976)/15\n",
    "diary1 = diaries_df.loc[diaries_df.uid == user1]\n",
    "\n",
    "TIME_THRESH=240\n",
    "DIST_THRESH=25\n",
    "MIN_PTS=2\n",
    "\n",
    "labels_tadbscan = TADBSCAN._temporal_dbscan_labels(\n",
    "                data=sparse1,\n",
    "                time_thresh=TIME_THRESH,\n",
    "                dist_thresh=DIST_THRESH,\n",
    "                min_pts=MIN_PTS,\n",
    "                traj_cols=traj_cols)\n",
    "\n",
    "labels_tadbscan.name = 'cluster'\n",
    "sparse_with_cluster = sparse1.join(labels_tadbscan)\n",
    "\n",
    "# has same index as data\n",
    "pred_tadbscan = visits.point_in_polygon(data=sparse_with_cluster,\n",
    "                                        poi_table=poi_table,\n",
    "                                        method='majority',\n",
    "                                        data_crs='EPSG:3857',\n",
    "                                        max_distance=15,\n",
    "                                        user_id='uid',\n",
    "                                        cluster_label='cluster',\n",
    "                                        location_id='building_id',\n",
    "                                        x='x',\n",
    "                                        y='y')\n",
    "# join the building id\n",
    "pred_tadbscan = sparse_with_cluster.join(pred_tadbscan)\n",
    "\n",
    "stop_table_tadbscan = pp.remove_overlaps(pred_tadbscan,\n",
    "                                 time_thresh=240,\n",
    "                                 min_pts=3,\n",
    "                                 dur_min=5,\n",
    "                                 traj_cols = traj_cols,\n",
    "                                 post_processing = 'polygon')\n",
    "\n",
    "first_time = diary1['timestamp'].iloc[0]\n",
    "last_time = diary1['timestamp'].iloc[-1] + diary1['duration'].iloc[-1] * 60\n",
    "filled_stop_tadbscan = fill_timestamp_gaps(first_time, last_time, stop_table_tadbscan)"
   ]
  },
  {
   "cell_type": "code",
   "execution_count": 14,
   "id": "278794f3",
   "metadata": {},
   "outputs": [
    {
     "data": {
      "image/png": "[encoded data removed]",
      "text/plain": [
       "<Figure size 600x600 with 1 Axes>"
      ]
     },
     "metadata": {},
     "output_type": "display_data"
    }
   ],
   "source": [
    "%matplotlib inline\n",
    "\n",
    "fig, ax = plt.subplots(figsize=(6, 6))\n",
    "plt.box(on=True)\n",
    "\n",
    "# Plotting Garden City Map\n",
    "city = cg.load('../garden-city.pkl')\n",
    "city.plot_city(ax, doors=True, address=False)\n",
    "\n",
    "# Getting colors for clusters\n",
    "unique_clusters = sorted(sparse_with_cluster['cluster'].unique())\n",
    "cluster_mapping = {cluster: i for i, cluster in enumerate(unique_clusters)}\n",
    "del cluster_mapping[-1]\n",
    "mapped_clusters = sparse_with_cluster['cluster'].map(cluster_mapping).to_numpy()\n",
    "cmap_base = plt.get_cmap('Dark2', len(unique_clusters) - (1 if -1 in unique_clusters else 0))\n",
    "# colors = ['gray'] + list(cmap_base.colors)\n",
    "colors = list(cmap_base.colors)\n",
    "extended_cmap = mcolors.ListedColormap(colors)\n",
    "\n",
    "# Plotting Pings\n",
    "ax.scatter(sparse_with_cluster['x'], \n",
    "           sparse_with_cluster['y'], \n",
    "           c=mapped_clusters, \n",
    "           cmap=extended_cmap, \n",
    "           s=6,\n",
    "           alpha=1,\n",
    "           zorder=2)\n",
    "\n",
    "ax.set_yticklabels([])\n",
    "ax.set_xticklabels([])\n",
    "# ax.set_title(\"HDBSCAN Stops for Sample User\")\n",
    "ax.set_xticks([])\n",
    "ax.set_yticks([])\n",
    "# ax.set_xlim(12, 22)\n",
    "# ax.set_ylim(7, 14)\n",
    "plt.tight_layout()\n",
    "\n",
    "# plt.savefig('gc_empty.png')\n",
    "plt.show()"
   ]
  },
  {
   "cell_type": "code",
   "execution_count": 61,
   "id": "bb8d2240",
   "metadata": {},
   "outputs": [
    {
     "name": "stdout",
     "output_type": "stream",
     "text": [
      "49\n"
     ]
    }
   ],
   "source": [
    "print(len(filled_stop_tadbscan))"
   ]
  },
  {
   "cell_type": "code",
   "execution_count": 13,
   "id": "605ea606",
   "metadata": {},
   "outputs": [],
   "source": [
    "overlaps = overlapping_visits(left=stop_table_tadbscan,\n",
    "                                      right=diary1,\n",
    "                                      location_id='building_id',\n",
    "                                      match_location=False)\n",
    "\n",
    "errors = compute_visitation_errors(overlaps=overlaps,\n",
    "                                    true_visits=diary1,\n",
    "                                    location_id='building_id')\n",
    "\n",
    "prf1 = compute_precision_recall_f1(overlaps=overlaps,\n",
    "                                    pred_visits=stop_table_tadbscan,\n",
    "                                    true_visits=diary1,\n",
    "                                    location_id='building_id')"
   ]
  },
  {
   "cell_type": "code",
   "execution_count": 14,
   "id": "7174d710",
   "metadata": {},
   "outputs": [
    {
     "data": {
      "text/plain": [
       "{'missed_fraction': 0.8048780487804879,\n",
       " 'merged_fraction': 0.016260162601626018,\n",
       " 'split_fraction': 0.008130081300813009}"
      ]
     },
     "execution_count": 14,
     "metadata": {},
     "output_type": "execute_result"
    }
   ],
   "source": [
    "errors"
   ]
  },
  {
   "cell_type": "code",
   "execution_count": null,
   "id": "47e00896",
   "metadata": {},
   "outputs": [],
   "source": [
    "testing_df = all_metrics_df[all_metrics_df[\"algorithm\"].isin([\"ta-dbscan\", \"hdbscan\"])]\n",
    "pivoted = testing_df.pivot(index=\"user\", columns=\"algorithm\", values=\"merged_fraction\")\n",
    "pivoted = pivoted.dropna(subset=[\"ta-dbscan\", \"hdbscan\"])\n",
    "users_hdbscan_more_merged = pivoted[pivoted[\"hdbscan\"] > pivoted[\"ta-dbscan\"]].index.tolist()\n",
    "\n",
    "users_hdbscan_more_merged"
   ]
  }
 ],
 "metadata": {
  "kernelspec": {
   "display_name": "nomad_env",
   "language": "python",
   "name": "python3"
  },
  "language_info": {
   "codemirror_mode": {
    "name": "ipython",
    "version": 3
   },
   "file_extension": ".py",
   "mimetype": "text/x-python",
   "name": "python",
   "nbconvert_exporter": "python",
   "pygments_lexer": "ipython3",
   "version": "3.10.0"
  }
 },
 "nbformat": 4,
 "nbformat_minor": 5
}

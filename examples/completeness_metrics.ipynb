{
 "cells": [
  {
   "cell_type": "code",
   "execution_count": 4,
   "id": "087e5a3a-92cb-4207-b885-f8581973c987",
   "metadata": {
    "tags": []
   },
   "outputs": [],
   "source": [
    "import pandas as pd\n",
    "import numpy as np\n",
    "from datetime import datetime, timedelta\n",
    "import matplotlib.pyplot as plt\n",
    "\n",
    "import sys\n",
    "import os\n",
    "core_dir = os.path.join(os.getcwd(), '..')\n",
    "core_dir = os.path.normpath(core_dir)\n",
    "sys.path.append(core_dir)\n",
    "core_dir = os.path.join(os.getcwd(), '..', 'daphme')\n",
    "core_dir = os.path.normpath(core_dir)\n",
    "sys.path.append(core_dir)\n",
    "\n",
    "import pdb"
   ]
  },
  {
   "cell_type": "code",
   "execution_count": 10,
   "id": "fb91b1ac-6f6e-4648-9e26-9570d8c6b1c8",
   "metadata": {
    "tags": []
   },
   "outputs": [],
   "source": [
    "synth_data = pd.read_parquet('s3://synthetic-raw-data/100-agents/sparse_trajectories.parquet')\n",
    "synth_data['local_timestamp'] = pd.to_datetime(synth_data['timestamp'], unit='s')"
   ]
  },
  {
   "cell_type": "code",
   "execution_count": 11,
   "id": "7132f65a-cc88-46f5-b010-2de831a868f9",
   "metadata": {
    "tags": []
   },
   "outputs": [
    {
     "data": {
      "text/html": [
       "<div>\n",
       "<style scoped>\n",
       "    .dataframe tbody tr th:only-of-type {\n",
       "        vertical-align: middle;\n",
       "    }\n",
       "\n",
       "    .dataframe tbody tr th {\n",
       "        vertical-align: top;\n",
       "    }\n",
       "\n",
       "    .dataframe thead th {\n",
       "        text-align: right;\n",
       "    }\n",
       "</style>\n",
       "<table border=\"1\" class=\"dataframe\">\n",
       "  <thead>\n",
       "    <tr style=\"text-align: right;\">\n",
       "      <th></th>\n",
       "      <th>uid</th>\n",
       "      <th>timestamp</th>\n",
       "      <th>latitude</th>\n",
       "      <th>longitude</th>\n",
       "      <th>local_timestamp</th>\n",
       "    </tr>\n",
       "  </thead>\n",
       "  <tbody>\n",
       "    <tr>\n",
       "      <th>0</th>\n",
       "      <td>wizardly_joliot</td>\n",
       "      <td>1704119340</td>\n",
       "      <td>38.321711</td>\n",
       "      <td>-36.667334</td>\n",
       "      <td>2024-01-01 14:29:00</td>\n",
       "    </tr>\n",
       "    <tr>\n",
       "      <th>1</th>\n",
       "      <td>wizardly_joliot</td>\n",
       "      <td>1704119700</td>\n",
       "      <td>38.321676</td>\n",
       "      <td>-36.667365</td>\n",
       "      <td>2024-01-01 14:35:00</td>\n",
       "    </tr>\n",
       "    <tr>\n",
       "      <th>2</th>\n",
       "      <td>wizardly_joliot</td>\n",
       "      <td>1704155880</td>\n",
       "      <td>38.320959</td>\n",
       "      <td>-36.666748</td>\n",
       "      <td>2024-01-02 00:38:00</td>\n",
       "    </tr>\n",
       "    <tr>\n",
       "      <th>3</th>\n",
       "      <td>wizardly_joliot</td>\n",
       "      <td>1704156000</td>\n",
       "      <td>38.320936</td>\n",
       "      <td>-36.666739</td>\n",
       "      <td>2024-01-02 00:40:00</td>\n",
       "    </tr>\n",
       "    <tr>\n",
       "      <th>4</th>\n",
       "      <td>wizardly_joliot</td>\n",
       "      <td>1704156840</td>\n",
       "      <td>38.320924</td>\n",
       "      <td>-36.666747</td>\n",
       "      <td>2024-01-02 00:54:00</td>\n",
       "    </tr>\n",
       "    <tr>\n",
       "      <th>...</th>\n",
       "      <td>...</td>\n",
       "      <td>...</td>\n",
       "      <td>...</td>\n",
       "      <td>...</td>\n",
       "      <td>...</td>\n",
       "    </tr>\n",
       "    <tr>\n",
       "      <th>1691</th>\n",
       "      <td>angry_spence</td>\n",
       "      <td>1705303380</td>\n",
       "      <td>38.320399</td>\n",
       "      <td>-36.667438</td>\n",
       "      <td>2024-01-15 07:23:00</td>\n",
       "    </tr>\n",
       "    <tr>\n",
       "      <th>1692</th>\n",
       "      <td>angry_spence</td>\n",
       "      <td>1705303740</td>\n",
       "      <td>38.320413</td>\n",
       "      <td>-36.667469</td>\n",
       "      <td>2024-01-15 07:29:00</td>\n",
       "    </tr>\n",
       "    <tr>\n",
       "      <th>1693</th>\n",
       "      <td>angry_spence</td>\n",
       "      <td>1705303980</td>\n",
       "      <td>38.320384</td>\n",
       "      <td>-36.667455</td>\n",
       "      <td>2024-01-15 07:33:00</td>\n",
       "    </tr>\n",
       "    <tr>\n",
       "      <th>1694</th>\n",
       "      <td>angry_spence</td>\n",
       "      <td>1705304340</td>\n",
       "      <td>38.320349</td>\n",
       "      <td>-36.667473</td>\n",
       "      <td>2024-01-15 07:39:00</td>\n",
       "    </tr>\n",
       "    <tr>\n",
       "      <th>1695</th>\n",
       "      <td>angry_spence</td>\n",
       "      <td>1705305000</td>\n",
       "      <td>38.320947</td>\n",
       "      <td>-36.667530</td>\n",
       "      <td>2024-01-15 07:50:00</td>\n",
       "    </tr>\n",
       "  </tbody>\n",
       "</table>\n",
       "<p>25835 rows × 5 columns</p>\n",
       "</div>"
      ],
      "text/plain": [
       "                  uid   timestamp   latitude  longitude     local_timestamp\n",
       "0     wizardly_joliot  1704119340  38.321711 -36.667334 2024-01-01 14:29:00\n",
       "1     wizardly_joliot  1704119700  38.321676 -36.667365 2024-01-01 14:35:00\n",
       "2     wizardly_joliot  1704155880  38.320959 -36.666748 2024-01-02 00:38:00\n",
       "3     wizardly_joliot  1704156000  38.320936 -36.666739 2024-01-02 00:40:00\n",
       "4     wizardly_joliot  1704156840  38.320924 -36.666747 2024-01-02 00:54:00\n",
       "...               ...         ...        ...        ...                 ...\n",
       "1691     angry_spence  1705303380  38.320399 -36.667438 2024-01-15 07:23:00\n",
       "1692     angry_spence  1705303740  38.320413 -36.667469 2024-01-15 07:29:00\n",
       "1693     angry_spence  1705303980  38.320384 -36.667455 2024-01-15 07:33:00\n",
       "1694     angry_spence  1705304340  38.320349 -36.667473 2024-01-15 07:39:00\n",
       "1695     angry_spence  1705305000  38.320947 -36.667530 2024-01-15 07:50:00\n",
       "\n",
       "[25835 rows x 5 columns]"
      ]
     },
     "execution_count": 11,
     "metadata": {},
     "output_type": "execute_result"
    }
   ],
   "source": [
    "synth_data"
   ]
  },
  {
   "cell_type": "code",
   "execution_count": 12,
   "id": "c4f8e114-6d9d-40f7-8faf-68421343e733",
   "metadata": {
    "tags": []
   },
   "outputs": [
    {
     "data": {
      "image/png": "[encoded data removed]",
      "text/plain": [
       "<Figure size 640x480 with 1 Axes>"
      ]
     },
     "metadata": {},
     "output_type": "display_data"
    }
   ],
   "source": [
    "def q_stat(group):\n",
    "    sparse_hours = group['local_timestamp'].dt.to_period('h')\n",
    "    num_hours = sparse_hours.nunique()\n",
    "    total_hours = 24 * 14\n",
    "    q_stat_value = num_hours / total_hours\n",
    "    return q_stat_value\n",
    "\n",
    "q_stats = synth_data.groupby('uid').apply(q_stat, include_groups=False)\n",
    "\n",
    "plt.hist(q_stats, bins=20, edgecolor='black')\n",
    "\n",
    "plt.title('Completeness (q)')\n",
    "plt.xlabel('Value')\n",
    "plt.ylabel('Frequency')\n",
    "\n",
    "plt.show()"
   ]
  },
  {
   "cell_type": "code",
   "execution_count": 15,
   "id": "6d573548-b3e3-4b30-b326-aa26d35631d4",
   "metadata": {
    "tags": []
   },
   "outputs": [
    {
     "data": {
      "text/plain": [
       "80.86666666666666"
      ]
     },
     "execution_count": 15,
     "metadata": {},
     "output_type": "execute_result"
    }
   ],
   "source": [
    "daily_active_users = synth_data.groupby(synth_data['local_timestamp'].dt.date)['uid'].nunique()\n",
    "np.mean(daily_active_users)"
   ]
  },
  {
   "cell_type": "code",
   "execution_count": 16,
   "id": "5b3be0ed-f2db-4215-9a56-71b6982ed4d3",
   "metadata": {
    "tags": []
   },
   "outputs": [
    {
     "data": {
      "text/plain": [
       "local_timestamp\n",
       "2024-01-01    73\n",
       "2024-01-02    89\n",
       "2024-01-03    85\n",
       "2024-01-04    79\n",
       "2024-01-05    79\n",
       "2024-01-06    84\n",
       "2024-01-07    83\n",
       "2024-01-08    76\n",
       "2024-01-09    79\n",
       "2024-01-10    83\n",
       "2024-01-11    87\n",
       "2024-01-12    82\n",
       "2024-01-13    89\n",
       "2024-01-14    90\n",
       "2024-01-15    55\n",
       "Name: uid, dtype: int64"
      ]
     },
     "execution_count": 16,
     "metadata": {},
     "output_type": "execute_result"
    }
   ],
   "source": [
    "daily_active_users"
   ]
  },
  {
   "cell_type": "code",
   "execution_count": 23,
   "id": "82886079-1b3d-47eb-a23d-5453763c60e1",
   "metadata": {
    "tags": []
   },
   "outputs": [
    {
     "data": {
      "text/plain": [
       "0.637748624629708"
      ]
     },
     "execution_count": 23,
     "metadata": {},
     "output_type": "execute_result"
    }
   ],
   "source": [
    "# Persistence, measured by conditional probability\n",
    "# Pr[X[n+tau] = 1 | X[n] = 1]\n",
    "\n",
    "def persistence(df, tau):\n",
    "    df['hour'] = df['local_timestamp'].dt.floor('h')\n",
    "    df_hourly = df.groupby(['uid', 'hour']).size().clip(upper=1).reset_index(name='ping')\n",
    "\n",
    "    # Generate a complete range of hours for each user\n",
    "    all_hours_list = []\n",
    "    for uid in df['uid'].unique():\n",
    "        uid_hours = pd.date_range(start=pd.Timestamp('2024-01-01 08:00:00'), \n",
    "                                  end=pd.Timestamp('2024-01-15 07:00:00'), freq='h')\n",
    "        all_hours_df = pd.DataFrame({'hour': uid_hours})\n",
    "        all_hours_df['uid'] = uid\n",
    "        all_hours_list.append(all_hours_df)\n",
    "\n",
    "    all_hours_complete = pd.concat(all_hours_list, ignore_index=True)\n",
    "\n",
    "    df_complete = pd.merge(all_hours_complete, df_hourly, on=['uid', 'hour'], how='left').fillna(0)\n",
    "    df_complete['ping'] = df_complete['ping'].astype(int)\n",
    "\n",
    "    df_complete['lag_ping'] = df_complete.groupby('uid')['ping'].shift(-tau)\n",
    "\n",
    "    numerator = ((df_complete['ping'] == 1) & (df_complete['lag_ping'] == 1)).sum()\n",
    "    denominator = (df_complete['ping'] == 1).sum()\n",
    "\n",
    "    conditional_prob = numerator / denominator if denominator > 0 else 0\n",
    "\n",
    "    return conditional_prob\n",
    "\n",
    "persistence(synth_data, 1)"
   ]
  },
  {
   "cell_type": "code",
   "execution_count": null,
   "id": "5540cdc9-0ac2-4a6c-b180-1cc1232377cc",
   "metadata": {},
   "outputs": [],
   "source": []
  }
 ],
 "metadata": {
  "kernelspec": {
   "display_name": "conda_py_37_env",
   "language": "python",
   "name": "conda_py_37_env"
  },
  "language_info": {
   "codemirror_mode": {
    "name": "ipython",
    "version": 3
   },
   "file_extension": ".py",
   "mimetype": "text/x-python",
   "name": "python",
   "nbconvert_exporter": "python",
   "pygments_lexer": "ipython3",
   "version": "3.7.12"
  }
 },
 "nbformat": 4,
 "nbformat_minor": 5
}

{
 "cells": [
  {
   "cell_type": "code",
   "execution_count": null,
   "id": "f25f7a43",
   "metadata": {},
   "outputs": [],
   "source": [
    "%reload_ext autoreload\n",
    "%autoreload 2"
   ]
  },
  {
   "cell_type": "code",
   "execution_count": null,
   "id": "2ccfc0c4",
   "metadata": {
    "tags": []
   },
   "outputs": [],
   "source": [
    "import pandas as pd\n",
    "import numpy as np\n",
    "from datetime import datetime, timedelta\n",
    "from zoneinfo import ZoneInfo\n",
    "import matplotlib.pyplot as plt\n",
    "plt.style.use('seaborn-v0_8-muted')\n",
    "from matplotlib import cm\n",
    "import geopandas as gpd\n",
    "\n",
    "from pyproj import Transformer\n",
    "from concurrent.futures import ProcessPoolExecutor\n",
    "import concurrent.futures\n",
    "import multiprocessing\n",
    "from multiprocessing import Pool\n",
    "from functools import partial\n",
    "import numpy.random as npr\n",
    "import matplotlib.dates as mdates\n",
    "from itertools import product\n",
    "import copy\n",
    "import pickle\n",
    "from tqdm import tqdm\n",
    "\n",
    "import nomad.io.base as loader\n",
    "import nomad.city_gen as cg\n",
    "from nomad.city_gen import City, Building\n",
    "import nomad.traj_gen as tg\n",
    "from nomad.traj_gen import Agent, Population\n",
    "import nomad.stop_detection.ta_dbscan as DBSCAN\n",
    "import nomad.stop_detection.lachesis as Lachesis\n",
    "from nomad.generation.sparsity import gen_params_target_q"
   ]
  },
  {
   "cell_type": "code",
   "execution_count": null,
   "id": "3fd6c945",
   "metadata": {
    "tags": []
   },
   "outputs": [],
   "source": [
    "# garden city\n",
    "\n",
    "city_geojson = gpd.read_file('garden_city.geojson')\n",
    "\n",
    "city = cg.load('garden-city.pkl')"
   ]
  },
  {
   "cell_type": "code",
   "execution_count": 2,
   "id": "3e5ee980",
   "metadata": {
    "tags": []
   },
   "outputs": [],
   "source": [
    "# synthetic philly\n",
    "\n",
    "city_geojson = gpd.read_file('philly.geojson')\n",
    "\n",
    "s3 = boto3.client('s3', region_name=\"us-east-2\")\n",
    "pickle_buffer = io.BytesIO()\n",
    "s3.download_fileobj(\"synthetic-philly\", \"philadelphia-city.pkl\", pickle_buffer)\n",
    "pickle_buffer.seek(0)\n",
    "city = pickle.load(pickle_buffer)"
   ]
  },
  {
   "cell_type": "markdown",
   "id": "eb7675c1",
   "metadata": {},
   "source": [
    "### Generate N agents"
   ]
  },
  {
   "cell_type": "markdown",
   "id": "b76a575b",
   "metadata": {},
   "source": [
    "The following code maps our Garden City coordinates to a location in the Atlantic Ocean (Atlantis?)."
   ]
  },
  {
   "cell_type": "code",
   "execution_count": null,
   "id": "e21366a2",
   "metadata": {
    "tags": []
   },
   "outputs": [],
   "source": [
    "def garden_city_to_lat_long(agent, sparse_traj=True, full_traj=False, diaries=True):\n",
    "    def project_city_blocks_to_web_mercator(df):\n",
    "        \"\"\"Convert (x, y) from 15m block units to Web Mercator meters via affine shift and projection.\"\"\"\n",
    "        transformer = Transformer.from_crs(\"EPSG:3857\", \"EPSG:4326\", always_xy=True)\n",
    "        df['x'] = 15 * df['x'] - 4265699\n",
    "        df['y'] = 15 * df['y'] + 4392976\n",
    "        if 'ha' in df:\n",
    "            df['ha'] = 15 * df['ha']\n",
    "        df['longitude'], df['latitude'] = transformer.transform(df['x'].values, df['y'].values)\n",
    "        df['date'] = df['datetime'].dt.date\n",
    "        return df\n",
    "\n",
    "    def finalize(df):\n",
    "        front = ['identifier', 'timestamp', 'longitude', 'latitude', 'x', 'y', 'date']\n",
    "        cols = [col for col in front if col in df] + [col for col in df.columns if col not in front]\n",
    "        return df[cols].rename(columns={'identifier': 'uid', 'timestamp': 'timestamp'}).reset_index(drop=True)\n",
    "\n",
    "    if sparse_traj:\n",
    "        agent.sparse_traj = finalize(project_city_blocks_to_web_mercator(agent.sparse_traj))\n",
    "    if full_traj:\n",
    "        agent.trajectory = finalize(project_city_blocks_to_web_mercator(agent.trajectory))\n",
    "        \n",
    "    if diaries:\n",
    "        diary = agent.diary.copy()\n",
    "        xs = []\n",
    "        ys = []\n",
    "        for loc in diary[\"location\"]:\n",
    "            if loc is None:\n",
    "                xs.append(None)\n",
    "                ys.append(None)\n",
    "            else:\n",
    "                pt = agent.city.buildings[loc].geometry.centroid\n",
    "                xs.append(pt.x)\n",
    "                ys.append(pt.y)\n",
    "        diary[\"x\"] = xs\n",
    "        diary[\"y\"] = ys\n",
    "        agent.diary = finalize(project_city_blocks_to_web_mercator(diary))"
   ]
  },
  {
   "cell_type": "code",
   "execution_count": 22,
   "id": "3d0fe233",
   "metadata": {
    "tags": []
   },
   "outputs": [],
   "source": [
    "def philly_to_lat_long(agent, sparse_traj=True, full_traj=False, diaries=True):\n",
    "    def project_point_to_web_mercator(x, y):\n",
    "        \"\"\"\n",
    "        Project a fractional (x, y) block coord to Web Mercator using affine interpolation.\n",
    "        philly_grid_map is the grid_map produced by RealCityGenerator in virtual_philly.ipynb\n",
    "           import it into this notebook through pkl\n",
    "        \"\"\"\n",
    "        i, j = int(math.floor(x)), int(math.floor(y))\n",
    "        poly = philly_grid_map.get((i, j))\n",
    "\n",
    "        if poly is None:\n",
    "            raise ValueError(f\"No polygon found at grid cell ({i}, {j})\")\n",
    "\n",
    "        # Bounds of the 1x1 block polygon in EPSG:3857\n",
    "        minx, miny, maxx, maxy = poly.bounds\n",
    "\n",
    "        dx = x - i\n",
    "        dy = y - j\n",
    "\n",
    "        X = minx + dx * (maxx - minx)\n",
    "        Y = miny + dy * (maxy - miny)\n",
    "\n",
    "        return X, Y\n",
    "\n",
    "    def apply_projection_to_df(df):\n",
    "        \"\"\"Apply Web Mercator projection to a DataFrame with 'x' and 'y' columns.\"\"\"\n",
    "        def safe_project(row):\n",
    "            try:\n",
    "                return project_point_to_web_mercator(row['x'], row['y'])\n",
    "            except Exception:\n",
    "                return (None, None)\n",
    "\n",
    "        projected = df.apply(safe_project, axis=1)\n",
    "        df[['x', 'y']] = pd.DataFrame(projected.tolist(), index=df.index)\n",
    "\n",
    "        transformer = Transformer.from_crs(\"EPSG:3857\", \"EPSG:4326\", always_xy=True)\n",
    "        if 'ha' in df:\n",
    "            df['ha'] = 10 * df['ha']  # 10 because thats the sidelength of a block\n",
    "        df['longitude'], df['latitude'] = transformer.transform(df['x'].values, df['y'].values)\n",
    "        df['date'] = df['datetime'].dt.date\n",
    "        return df\n",
    "\n",
    "    def finalize(df):\n",
    "        front = ['identifier', 'timestamp', 'longitude', 'latitude', 'x', 'y', 'date']\n",
    "        cols = [col for col in front if col in df] + [col for col in df.columns if col not in front]\n",
    "        return df[cols].rename(columns={'identifier': 'uid', 'timestamp': 'timestamp'}).reset_index(drop=True)\n",
    "\n",
    "    if sparse_traj:\n",
    "        agent.sparse_traj = finalize(apply_projection_to_df(agent.sparse_traj))\n",
    "    if full_traj:\n",
    "        agent.trajectory = finalize(apply_projection_to_df(agent.trajectory))\n",
    "\n",
    "    if diaries:\n",
    "        diary = agent.diary.copy()\n",
    "        xs = []\n",
    "        ys = []\n",
    "        for loc in diary[\"location\"]:\n",
    "            if loc is None:\n",
    "                xs.append(None)\n",
    "                ys.append(None)\n",
    "            else:\n",
    "                pt = agent.city.buildings[loc].geometry.centroid\n",
    "                xs.append(pt.x)\n",
    "                ys.append(pt.y)\n",
    "        diary[\"x\"] = xs\n",
    "        diary[\"y\"] = ys\n",
    "        agent.diary = finalize(apply_projection_to_df(diary))"
   ]
  },
  {
   "cell_type": "markdown",
   "id": "eb8c0db6",
   "metadata": {},
   "source": [
    "## Simple trajectory generation\n",
    "\n",
    "For simple trajectory generation tasks that don't require too much computation power and can be done on a personal laptop, the following code generates a trajectory for each agent and saves it to a csv."
   ]
  },
  {
   "cell_type": "code",
   "execution_count": 26,
   "id": "82f2112f",
   "metadata": {
    "tags": []
   },
   "outputs": [
    {
     "name": "stderr",
     "output_type": "stream",
     "text": [
      "Generating trajectories: 100%|██████████| 1/1 [00:28<00:00, 28.22s/it]\n"
     ]
    }
   ],
   "source": [
    "def generate_trajectory_data(agent, seed_trajectory=None, seed_sparsity=None):\n",
    "    beta_params = gen_params_target_q(q_range=(0.3, 0.9), seed=seed_sparsity)\n",
    "    rng = npr.default_rng(seed_sparsity)\n",
    "    ha_sample = rng.uniform(11.5/15, 1)\n",
    "\n",
    "    agent.reset_trajectory()\n",
    "    agent.generate_trajectory(\n",
    "        datetime = \"2024-01-01T07:00 -04:00\",\n",
    "        end_time = pd.Timestamp('2024-01-31T09:00 -04:00'),\n",
    "        seed=seed_trajectory,\n",
    "        dt=1)\n",
    "\n",
    "    agent.sample_trajectory(\n",
    "        **beta_params,\n",
    "        seed=seed_sparsity,\n",
    "        ha=ha_sample,\n",
    "        replace_sparse_traj=True)\n",
    "\n",
    "    philly_to_lat_long(agent, sparse_traj=True, full_traj=False)\n",
    "    agent.reset_trajectory(trajectory = False, sparse = False, diary = False)\n",
    "    return None\n",
    "\n",
    "# Generate trajectories with progress bar\n",
    "N = 1\n",
    "population = Population(city)\n",
    "population.generate_agents(N=N, seed=250, name_count=2)\n",
    "\n",
    "for i, agent in enumerate(tqdm(population.roster.values(), desc=\"Generating trajectories\")):\n",
    "    generate_trajectory_data(agent, seed_trajectory=i, seed_sparsity=i)"
   ]
  },
  {
   "cell_type": "code",
   "execution_count": 27,
   "id": "cda6fba3",
   "metadata": {
    "tags": []
   },
   "outputs": [],
   "source": [
    "agent.sparse_traj.to_csv(\"philly_sparse_traj.csv\", index=False)\n",
    "agent.trajectory.to_csv(\"philly_full_traj.csv\", index=False)"
   ]
  },
  {
   "cell_type": "code",
   "execution_count": null,
   "id": "8f47ea1c",
   "metadata": {},
   "outputs": [],
   "source": [
    "def generate_agent_trajectory(agent_id, agent, seed):\n",
    "\n",
    "    beta_params = gen_params_target_q(q_range=(0.4, 0.85), seed=seed)\n",
    "\n",
    "    agent.generate_trajectory(\n",
    "        datetime = \"2024-01-01T08:00 -04:00\",\n",
    "        end_time = pd.Timestamp('2024-01-21T08:30:00 -04:00'),\n",
    "        seed=1,\n",
    "        dt=0.25)\n",
    "    print('finished generating trajectory')\n",
    "    agent.sample_trajectory(\n",
    "        **beta_params,\n",
    "        seed=seed,\n",
    "        ha=13/15, # <<<<<<\n",
    "        replace_sparse_traj=True)\n",
    "    \n",
    "    garden_city_to_lat_long(agent,\n",
    "                            sparse_traj=True,\n",
    "                            full_traj=False)\n",
    "    agent.reset_trajectory(trajectory = True, sparse = False, diary = False)\n",
    "    \n",
    "    return agent_id, copy.deepcopy(agent)"
   ]
  },
  {
   "cell_type": "code",
   "execution_count": null,
   "id": "d0f8a946",
   "metadata": {},
   "outputs": [],
   "source": [
    "population = Population(city)\n",
    "population.generate_agents(N=2, seed=2, name_count=2)"
   ]
  },
  {
   "cell_type": "code",
   "execution_count": null,
   "id": "4946528f",
   "metadata": {
    "scrolled": true
   },
   "outputs": [],
   "source": [
    "%%time \n",
    "# time for 2 weeks of data at dt = 0.25\n",
    "agent_1 = list(population.roster.values())[1]\n",
    "generate_agent_trajectory(agent_1, 10, 6)\n",
    "agent_1.sparse_traj.head()"
   ]
  },
  {
   "cell_type": "code",
   "execution_count": null,
   "id": "fbb51dfd",
   "metadata": {},
   "outputs": [],
   "source": [
    "def generate_trajectory_data(agent, seed_trajectory=None, seed_sparsity=None, use_datetime=None, use_lon_lat=True):\n",
    "    beta_params = gen_params_ranges(seed=seed_sparsity)\n",
    "    rng = npr.default_rng(seed_sparsity)\n",
    "    ha_sample = rng.uniform(11.5/15, 16.5/15)\n",
    "\n",
    "    agent.reset_trajectory()\n",
    "    agent.generate_trajectory(\n",
    "        datetime = \"2024-01-01T07:00 -04:00\",\n",
    "        end_time = pd.Timestamp('2024-01-15T09:00:00 -04:00'),\n",
    "        seed=seed_trajectory,\n",
    "        dt=1)\n",
    "\n",
    "    agent.sample_trajectory(\n",
    "        **beta_params,\n",
    "        seed=seed_sparsity,\n",
    "        ha=ha_sample,\n",
    "        replace_sparse_traj=True)\n",
    "\n",
    "    garden_city_to_lat_long(agent, sparse_traj=True, full_traj=False, use_datetime=use_datetime, use_lon_lat=use_lon_lat)\n",
    "    agent.reset_trajectory(trajectory = True, sparse = False, diary = False)\n",
    "    return None\n",
    "\n",
    "# Generate trajectories with progress bar\n",
    "N = 100  \n",
    "population = Population(city)\n",
    "population.generate_agents(N=N, seed=314, name_count=2)\n",
    "\n",
    "for i, agent in enumerate(tqdm(population.roster.values(), desc=\"Generating trajectories\")):\n",
    "    generate_trajectory_data(agent, seed_trajectory=i, seed_sparsity=i, use_datetime=None, use_lon_lat=True)\n",
    "    #agent.sparse_traj.rename(columns={'uid': 'identifier', 'timestamp': 'unix_timestamp', 'latitude':'device_lat', 'longitude':'device_lon', 'datetime':'local_datetime'}, inplace=True)\n",
    "    agent.sparse_traj.rename(columns={'uid': 'user_id'}, inplace=True)"
   ]
  },
  {
   "cell_type": "code",
   "execution_count": null,
   "id": "ed6116df",
   "metadata": {},
   "outputs": [],
   "source": [
    "agent_id, agent = [(agent_id, agent) for agent_id, agent in population.roster.items()][0]\n",
    "agent_id"
   ]
  },
  {
   "cell_type": "code",
   "execution_count": null,
   "id": "54ccade5",
   "metadata": {},
   "outputs": [],
   "source": [
    "<<<<<<< REMOTE CELL DELETED >>>>>>>\n",
    "generate_agent_trajectory(agent_id, agent, 150)"
   ]
  },
  {
   "cell_type": "code",
   "execution_count": null,
   "id": "9724ff27",
   "metadata": {},
   "outputs": [],
   "source": [
    "<<<<<<< REMOTE CELL DELETED >>>>>>>\n",
    "def generate_trajectory_data(agent_id, agent, seed):\n",
    "    agent.reset_trajectory()\n",
    "    \n",
    "    agent.generate_trajectory(\n",
    "        local_timestamp=\"2024-01-01T06:00:00 +02:00\",\n",
    "        end_time=pd.Timestamp(\"2024-01-20T12:00:00 +02:00\"),\n",
    "        seed=105,\n",
    "        dt=1)\n",
    "\n",
    "    beta_duration = npr.uniform(25, 170)\n",
    "    beta_start = max(npr.uniform(25, 520), beta_duration)\n",
    "    beta_ping = min(npr.uniform(3, 15), beta_duration//2)\n",
    "\n",
    "    agent.sample_trajectory(\n",
    "        beta_start=beta_start,\n",
    "        beta_durations=beta_duration,\n",
    "        beta_ping=beta_ping,\n",
    "        seed=seed,\n",
    "        replace_sparse_traj=True)\n",
    "\n",
    "    garden_city_to_lat_long(agent, sparse_traj=True, full_traj=False)\n",
    "    return None\n",
    "\n",
    "# Generate trajectories with progress bar\n",
    "for agent_id, agent in tqdm(population.roster.items(), desc=\"Generating trajectories\"):\n",
    "    generate_trajectory_data(agent_id, agent, seed=150)"
   ]
  },
  {
   "cell_type": "code",
   "execution_count": null,
   "id": "957367ef",
   "metadata": {
    "jupyter": {
     "source_hidden": true
    }
   },
   "outputs": [],
   "source": [
    "# dataset no 1\n",
    "traj_cols = {\n",
    "    \"user_id\": \"identifier\",\n",
    "    \"timestamp\": \"unix_timestamp\",\n",
    "    \"latitude\": \"device_lat\",\n",
    "    \"longitude\": \"device_lon\",\n",
    "    \"datetime\": \"local_datetime\"}\n",
    "# Save only sparse trajectories and diaries\n",
    "population.save_pop(\n",
    "    sparse_path=\"output/gc_data.csv\",\n",
    "    diaries_path=None,\n",
    "    partition_cols=None,\n",
    "    traj_cols=traj_cols,\n",
    "    fmt=\"csv\"\n",
    ")"
   ]
  },
  {
   "cell_type": "code",
   "execution_count": null,
   "id": "8b8b2f21",
   "metadata": {
    "tags": []
   },
   "outputs": [],
   "source": [
    "# dataset no 2\n",
    "traj_cols = {\n",
    "    \"user_id\": \"user_id\",\n",
    "    \"timestamp\": \"timestamp\",\n",
    "    \"latitude\": \"latitude\",\n",
    "    \"longitude\": \"longitude\",\n",
    "    \"datetime\": \"datetime\"}\n",
    "# Save only sparse trajectories and diaries\n",
    "population.save_pop(\n",
    "    sparse_path=\"output/gc_data/\",\n",
    "    diaries_path=None,\n",
    "    partition_cols=['date'],\n",
    "    traj_cols=traj_cols,\n",
    "    fmt=\"csv\"\n",
    ")"
   ]
  },
  {
   "cell_type": "code",
   "execution_count": null,
   "id": "3c870944",
   "metadata": {
    "scrolled": true
   },
   "outputs": [],
   "source": [
    "sparse_df = loader.from_file(\"output/gc_data/\", format=\"csv\", traj_cols=traj_cols,\n",
    "                      parse_dates=True)"
   ]
  },
  {
   "cell_type": "markdown",
   "id": "340dab62",
   "metadata": {},
   "source": [
    "## Generate dataset 3 for tutorial"
   ]
  },
  {
   "cell_type": "code",
   "execution_count": null,
   "id": "1b22e370",
   "metadata": {},
   "outputs": [],
   "source": [
    "def generate_trajectory_data(agent, seed_trajectory=None, seed_sparsity=None, use_datetime=None, use_lon_lat=True):\n",
    "    beta_params = gen_params_target_q(q_range=(0.2, 0.8), beta_dur_range=(25, 180), beta_ping_range=(1.5, 6), seed=seed_sparsity)\n",
    "    rng = npr.default_rng(seed_sparsity)\n",
    "    ha_sample = rng.uniform(11.5/15, 16.5/15)\n",
    "\n",
    "    agent.reset_trajectory()\n",
    "    agent.generate_trajectory(\n",
    "        datetime = \"2024-01-01T07:00 -04:00\",\n",
    "        end_time = pd.Timestamp('2024-01-21T09:00:00 -04:00'),\n",
    "        seed=seed_trajectory,\n",
    "        dt=0.15)\n",
    "\n",
    "    agent.sample_trajectory(\n",
    "        **beta_params,\n",
    "        seed=seed_sparsity,\n",
    "        ha=ha_sample,\n",
    "        replace_sparse_traj=True)\n",
    "\n",
    "    garden_city_to_lat_long(agent, sparse_traj=True, full_traj=False, use_datetime=use_datetime, use_lon_lat=use_lon_lat)\n",
    "    agent.reset_trajectory(trajectory = True, sparse = False, diary = False)\n",
    "    return None\n",
    "\n",
    "# Generate trajectories with progress bar\n",
    "N = 350  \n",
    "population = Population(city)\n",
    "population.generate_agents(N=N, seed=5, name_count=2)\n",
    "\n",
    "for i, agent in enumerate(tqdm(population.roster.values(), desc=\"Generating trajectories\")):\n",
    "    if i == 0:\n",
    "        continue\n",
    "    generate_trajectory_data(agent, seed_trajectory=i, seed_sparsity=i, use_datetime=False, use_lon_lat=False)\n",
    "    agent.sparse_traj.rename(columns={'uid': 'gc_identifier', 'timestamp': 'unix_ts', 'x':'dev_x', 'y':'dev_y'}, inplace=True)"
   ]
  },
  {
   "cell_type": "code",
   "execution_count": null,
   "id": "f71d0544",
   "metadata": {},
   "outputs": [],
   "source": [
    "# Make data for agent 0\n",
    "start_time = pd.date_range(start='2024-01-01T07:00 -04:00', periods=4, freq='60min')\n",
    "tz_offset = loader._offset_seconds_from_ts(start_time[0])\n",
    "unix_timestamp = [int(t.timestamp()) for t in start_time]\n",
    "duration = [60]*4  # in minutes\n",
    "location = ['h-x13-y11'] * 1 + ['h-x13-y9'] * 1 + ['w-x18-y10'] * 1 + ['w-x18-y8'] * 1\n",
    "\n",
    "destinations = pd.DataFrame(\n",
    "    {\"datetime\":start_time,\n",
    "     \"timestamp\":unix_timestamp,\n",
    "     \"duration\":duration,\n",
    "     \"location\":location}\n",
    "     )\n",
    "destinations = condense_destinations(destinations)\n",
    "\n",
    "agent_0 = list(population.roster.values())[0]\n",
    "\n",
    "rng = npr.default_rng(0)\n",
    "ha_sample = rng.uniform(11.5/15, 16.5/15)\n",
    "\n",
    "agent_0.reset_trajectory()\n",
    "agent_0.generate_trajectory(destination_diary=destinations, seed=0, dt=0.15)\n",
    "\n",
    "agent_0.sample_trajectory(\n",
    "    beta_ping=2,\n",
    "    beta_start=None,\n",
    "    beta_durations=None,\n",
    "    seed=0,\n",
    "    ha=ha_sample,\n",
    "    replace_sparse_traj=True)\n",
    "\n",
    "garden_city_to_lat_long(agent_0, sparse_traj=True, full_traj=False, use_datetime=False, use_lon_lat=False)\n",
    "agent_0.reset_trajectory(trajectory = True, sparse = False, diary = False)\n",
    "agent_0.sparse_traj.rename(columns={'uid': 'gc_identifier', 'timestamp': 'unix_ts', 'x':'dev_x', 'y':'dev_y'}, inplace=True)"
   ]
  },
  {
   "cell_type": "code",
   "execution_count": null,
   "id": "aff38e9c",
   "metadata": {},
   "outputs": [],
   "source": [
    "# dataset no 3\n",
    "traj_cols = {\n",
    "    \"user_id\": \"gc_identifier\",\n",
    "    \"timestamp\": \"unix_ts\",\n",
    "    \"x\": \"dev_x\",\n",
    "    \"y\": \"dev_y\"}\n",
    "# Save only sparse trajectories and diaries\n",
    "population.save_pop(\n",
    "    sparse_path=\"output/gc_data_long/\",\n",
    "    diaries_path=None,\n",
    "    partition_cols=['date'],\n",
    "    traj_cols=traj_cols,\n",
    "    fmt=\"parquet\"\n",
    ")"
   ]
  },
  {
   "cell_type": "code",
   "execution_count": null,
   "id": "9b6a7563",
   "metadata": {},
   "outputs": [
    {
     "name": "stderr",
     "output_type": "stream",
     "text": [
      "<<<<<<< local <modified: text/html, text/plain>\n"
     ]
    },
    {
     "data": {
      "text/html": [
       "<div>\n",
       "<style scoped>\n",
       "    .dataframe tbody tr th:only-of-type {\n",
       "        vertical-align: middle;\n",
       "    }\n",
       "\n",
       "    .dataframe tbody tr th {\n",
       "        vertical-align: top;\n",
       "    }\n",
       "\n",
       "    .dataframe thead th {\n",
       "        text-align: right;\n",
       "    }\n",
       "</style>\n",
       "<table border=\"1\" class=\"dataframe\">\n",
       "  <thead>\n",
       "    <tr style=\"text-align: right;\">\n",
       "      <th></th>\n",
       "      <th>uid</th>\n",
       "      <th>timestamp</th>\n",
       "      <th>longitude</th>\n",
       "      <th>latitude</th>\n",
       "      <th>x</th>\n",
       "      <th>y</th>\n",
       "      <th>datetime</th>\n",
       "      <th>ha</th>\n",
       "      <th>date</th>\n",
       "      <th>tz_offset</th>\n",
       "    </tr>\n",
       "  </thead>\n",
       "  <tbody>\n",
       "    <tr>\n",
       "      <th>0</th>\n",
       "      <td>unruffled_dijkstra</td>\n",
       "      <td>1704112023</td>\n",
       "      <td>-38.317844</td>\n",
       "      <td>36.670325</td>\n",
       "      <td>-4.265523e+06</td>\n",
       "      <td>4.393253e+06</td>\n",
       "      <td>2024-01-01 08:27:03</td>\n",
       "      <td>16.329762</td>\n",
       "      <td>2024-01-01</td>\n",
       "      <td>-14400</td>\n",
       "    </tr>\n",
       "    <tr>\n",
       "      <th>1</th>\n",
       "      <td>unruffled_dijkstra</td>\n",
       "      <td>1704112203</td>\n",
       "      <td>-38.317545</td>\n",
       "      <td>36.670340</td>\n",
       "      <td>-4.265490e+06</td>\n",
       "      <td>4.393255e+06</td>\n",
       "      <td>2024-01-01 08:30:03</td>\n",
       "      <td>9.474195</td>\n",
       "      <td>2024-01-01</td>\n",
       "      <td>-14400</td>\n",
       "    </tr>\n",
       "    <tr>\n",
       "      <th>2</th>\n",
       "      <td>unruffled_dijkstra</td>\n",
       "      <td>1704112273</td>\n",
       "      <td>-38.317589</td>\n",
       "      <td>36.670253</td>\n",
       "      <td>-4.265494e+06</td>\n",
       "      <td>4.393243e+06</td>\n",
       "      <td>2024-01-01 08:31:13</td>\n",
       "      <td>12.021023</td>\n",
       "      <td>2024-01-01</td>\n",
       "      <td>-14400</td>\n",
       "    </tr>\n",
       "    <tr>\n",
       "      <th>3</th>\n",
       "      <td>unruffled_dijkstra</td>\n",
       "      <td>1704112372</td>\n",
       "      <td>-38.317579</td>\n",
       "      <td>36.670279</td>\n",
       "      <td>-4.265493e+06</td>\n",
       "      <td>4.393247e+06</td>\n",
       "      <td>2024-01-01 08:32:52</td>\n",
       "      <td>8.604520</td>\n",
       "      <td>2024-01-01</td>\n",
       "      <td>-14400</td>\n",
       "    </tr>\n",
       "    <tr>\n",
       "      <th>4</th>\n",
       "      <td>unruffled_dijkstra</td>\n",
       "      <td>1704112663</td>\n",
       "      <td>-38.317738</td>\n",
       "      <td>36.670173</td>\n",
       "      <td>-4.265511e+06</td>\n",
       "      <td>4.393232e+06</td>\n",
       "      <td>2024-01-01 08:37:43</td>\n",
       "      <td>13.937659</td>\n",
       "      <td>2024-01-01</td>\n",
       "      <td>-14400</td>\n",
       "    </tr>\n",
       "  </tbody>\n",
       "</table>\n",
       "</div>"
      ],
      "text/plain": [
       "                  uid   timestamp  longitude   latitude             x  \\\n",
       "0  unruffled_dijkstra  1704112023 -38.317844  36.670325 -4.265523e+06   \n",
       "1  unruffled_dijkstra  1704112203 -38.317545  36.670340 -4.265490e+06   \n",
       "2  unruffled_dijkstra  1704112273 -38.317589  36.670253 -4.265494e+06   \n",
       "3  unruffled_dijkstra  1704112372 -38.317579  36.670279 -4.265493e+06   \n",
       "4  unruffled_dijkstra  1704112663 -38.317738  36.670173 -4.265511e+06   \n",
       "\n",
       "              y            datetime         ha        date  tz_offset  \n",
       "0  4.393253e+06 2024-01-01 08:27:03  16.329762  2024-01-01     -14400  \n",
       "1  4.393255e+06 2024-01-01 08:30:03   9.474195  2024-01-01     -14400  \n",
       "2  4.393243e+06 2024-01-01 08:31:13  12.021023  2024-01-01     -14400  \n",
       "3  4.393247e+06 2024-01-01 08:32:52   8.604520  2024-01-01     -14400  \n",
       "4  4.393232e+06 2024-01-01 08:37:43  13.937659  2024-01-01     -14400  "
      ]
     },
     "execution_count": 13,
     "metadata": {},
     "output_type": "execute_result"
    },
    {
     "name": "stderr",
     "output_type": "stream",
     "text": [
      "=======\n",
      ">>>>>>> remote <removed>\n"
     ]
    }
   ],
   "source": [
    "sparse_df.head()"
   ]
  },
  {
   "cell_type": "markdown",
   "id": "5c2af855",
   "metadata": {},
   "source": [
    "For larger trajectory generation tasks that require a lot of compute power, we can parallelize the trajectory generation using the following code. We generate ground-truth trajectories in agent-month \"chunks\", sparsify each chunk, then reset the ground-truth trajectory field to lessen the memory usage. "
   ]
  },
  {
   "cell_type": "code",
   "execution_count": null,
   "id": "41b6d757",
   "metadata": {
    "tags": []
   },
   "outputs": [],
   "source": [
    "# Using parallel processing (e.g., using a cluster)\n",
    "%%time\n",
    "\n",
    "def generate_agent_trajectory(agent_id, agent, seed):\n",
    "    \n",
    "    beta_duration = npr.uniform(15, 180)\n",
    "    beta_start = max(npr.uniform(60, 1200), beta_duration*3)\n",
    "    beta_ping = npr.uniform(1.5, 30)\n",
    "    \n",
    "    param = (beta_start, beta_duration, beta_ping)\n",
    "    \n",
    "    for month in range(1,13):\n",
    "        days = calendar.monthrange(2024, month)[1]\n",
    "        population_n.generate_trajectory(agent, \n",
    "                                         T=datetime(2024, month, days, hour=23, minute=59), \n",
    "                                         seed=seed)\n",
    "    \n",
    "        agent.sample_traj_hier_nhpp(*param, \n",
    "                                    seed=seed,\n",
    "                                    reset_traj=True)\n",
    "    \n",
    "    garden_city_to_lat_long(agent,\n",
    "                            sparse_traj=True,\n",
    "                            full_traj=False)\n",
    "    \n",
    "    return agent_id, copy.deepcopy(agent)\n",
    "\n",
    "manager = multiprocessing.Manager()\n",
    "shared_roster = manager.dict(population_n.roster)\n",
    "\n",
    "start = 6001  # 12001  # can modify\n",
    "end = 12001   # 18001  # can modify\n",
    "roster = dict(population_n.roster)\n",
    "batch = islice(roster.items(), start, end)\n",
    "\n",
    "with ProcessPoolExecutor() as executor:\n",
    "    with tqdm(total=(end-start), desc=\"Processing agents\") as pbar:\n",
    "        futures = [\n",
    "            executor.submit(generate_agent_trajectory, agent_id, agent, i+15000)\n",
    "            for i, (agent_id, agent) in enumerate(batch, start=start)\n",
    "        ]\n",
    "        results = []\n",
    "        for future in futures:\n",
    "            results.append(future.result())\n",
    "            pbar.update(1)\n",
    "\n",
    "for agent_id, agent in results:\n",
    "    population_n.roster[agent_id] = agent"
   ]
  },
  {
   "cell_type": "markdown",
   "id": "68ea90d9",
   "metadata": {},
   "source": [
    "This code saves the generated trajectories in a parquet file, using the date as the partition column."
   ]
  },
  {
   "cell_type": "code",
   "execution_count": null,
   "id": "a8d9885f",
   "metadata": {
    "tags": []
   },
   "outputs": [],
   "source": [
    "partition_cols = {\n",
    "    'sparse_traj': ['date'],\n",
    "    'diaries': ['identifier']\n",
    "}\n",
    "\n",
    "roster = dict(islice(population_n.roster.items(), start, end))\n",
    "\n",
    "population.save_pop(bucket=\"synthetic-raw-data\",\n",
    "                    prefix=f\"agents-{start+15000}-{end+15000-1}/\",\n",
    "                    save_full_traj=False,\n",
    "                    save_sparse_traj=True,\n",
    "                    save_homes=True,\n",
    "                    save_diaries=True,\n",
    "                    partition_cols=partition_cols,\n",
    "                    roster=roster)"
   ]
  },
  {
   "cell_type": "code",
   "execution_count": null,
   "id": "bee94160",
   "metadata": {
    "tags": []
   },
   "outputs": [],
   "source": [
    "# Load the Parquet files\n",
    "s3_path = \"s3://synthetic-raw-data/agents-1-1001/sparse_trajectories.parquet/\"\n",
    "df1 = pd.read_parquet(s3_path)\n",
    "s3_path = \"s3://synthetic-raw-data/agents-1001-2000/sparse_trajectories.parquet/\"\n",
    "df2 = pd.read_parquet(s3_path)"
   ]
  }
 ],
 "metadata": {
  "kernelspec": {
   "display_name": "conda_python3",
   "language": "python",
   "name": "conda_python3"
  },
  "language_info": {
   "codemirror_mode": {
    "name": "ipython",
    "version": 3
   },
   "file_extension": ".py",
   "mimetype": "text/x-python",
   "name": "python",
   "nbconvert_exporter": "python",
   "pygments_lexer": "ipython3",
   "version": "3.10.18"
  },
  "nbdime-conflicts": {
   "local_diff": [
    {
     "diff": [
      {
       "diff": [
        {
         "key": 0,
         "op": "addrange",
         "valuelist": [
          "Python 3 (ipykernel)"
         ]
        },
        {
         "key": 0,
         "length": 1,
         "op": "removerange"
        }
       ],
       "key": "display_name",
       "op": "patch"
      }
     ],
     "key": "kernelspec",
     "op": "patch"
    },
    {
     "diff": [
      {
       "diff": [
        {
         "key": 0,
         "length": 1,
         "op": "removerange"
        }
       ],
       "key": "version",
       "op": "patch"
      }
     ],
     "key": "language_info",
     "op": "patch"
    }
   ],
   "remote_diff": [
    {
     "diff": [
      {
       "diff": [
        {
         "key": 0,
         "op": "addrange",
         "valuelist": [
          "Python 3.10 (daphme)"
         ]
        },
        {
         "key": 0,
         "length": 1,
         "op": "removerange"
        }
       ],
       "key": "display_name",
       "op": "patch"
      }
     ],
     "key": "kernelspec",
     "op": "patch"
    },
    {
     "diff": [
      {
       "diff": [
        {
         "diff": [
          {
           "key": 3,
           "op": "addrange",
           "valuelist": "0"
          },
          {
           "key": 3,
           "length": 1,
           "op": "removerange"
          }
         ],
         "key": 0,
         "op": "patch"
        }
       ],
       "key": "version",
       "op": "patch"
      }
     ],
     "key": "language_info",
     "op": "patch"
    }
   ]
  },
  "toc-autonumbering": false
 },
 "nbformat": 4,
 "nbformat_minor": 5
}

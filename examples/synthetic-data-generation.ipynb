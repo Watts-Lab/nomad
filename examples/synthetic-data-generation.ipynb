{
 "cells": [
  {
   "cell_type": "code",
   "execution_count": 1,
   "id": "f9fd0c3a",
   "metadata": {
    "tags": []
   },
   "outputs": [],
   "source": [
    "import pandas as pd\n",
    "import numpy as np\n",
    "from datetime import datetime, timedelta\n",
    "from zoneinfo import ZoneInfo\n",
    "import matplotlib.pyplot as plt\n",
    "plt.style.use('seaborn-v0_8-muted')\n",
    "from matplotlib import cm\n",
    "import geopandas as gpd\n",
    "\n",
    "from pyproj import Transformer\n",
    "from concurrent.futures import ProcessPoolExecutor\n",
    "import concurrent.futures\n",
    "import multiprocessing\n",
    "from multiprocessing import Pool\n",
    "from functools import partial\n",
    "import numpy.random as npr\n",
    "import matplotlib.dates as mdates\n",
    "from itertools import product\n",
    "import copy\n",
    "import pickle\n",
    "from tqdm import tqdm\n",
    "\n",
    "import nomad.io.base as loader\n",
    "import nomad.city_gen as cg\n",
    "from nomad.city_gen import City, Building\n",
    "import nomad.traj_gen as tg\n",
    "from nomad.traj_gen import Agent, Population\n",
    "import nomad.stop_detection.ta_dbscan as DBSCAN\n",
    "import nomad.stop_detection.lachesis as Lachesis"
   ]
  },
  {
   "cell_type": "code",
   "execution_count": 2,
   "id": "b79a7061",
   "metadata": {},
   "outputs": [],
   "source": [
    "city_geojson = gpd.read_file('garden_city.geojson')\n",
    "city = cg.load('garden-city.pkl')"
   ]
  },
  {
   "cell_type": "markdown",
   "id": "3b22f6e1",
   "metadata": {},
   "source": [
    "### Generate N agents"
   ]
  },
  {
   "cell_type": "markdown",
   "id": "1af174e5",
   "metadata": {},
   "source": [
    "The following code maps our Garden City coordinates to a location in the Atlantic Ocean (Atlantis?)."
   ]
  },
  {
   "cell_type": "code",
   "execution_count": 3,
   "id": "04b6dc6e",
   "metadata": {
    "tags": []
   },
   "outputs": [],
   "source": [
    "def garden_city_to_lat_long(agent, sparse_traj=True, full_traj=False, diaries=True):\n",
    "    def project_city_blocks_to_web_mercator(df):\n",
    "        \"\"\"Convert (x, y) from 15m block units to Web Mercator meters via affine shift and projection.\"\"\"\n",
    "        transformer = Transformer.from_crs(\"EPSG:3857\", \"EPSG:4326\", always_xy=True)\n",
    "        df['x'] = 15 * df['x'] + 4265699\n",
    "        df['y'] = 15 * df['y'] - 4392976\n",
    "        if 'ha' in df:\n",
    "            df['ha'] = 15 * df['ha']\n",
    "        df['longitude'], df['latitude'] = transformer.transform(df['x'].values, df['y'].values)\n",
    "        df['date'] = df['local_timestamp'].dt.date\n",
    "        return df\n",
    "\n",
    "    def finalize(df):\n",
    "        front = ['identifier', 'unix_timestamp', 'longitude', 'latitude', 'x', 'y', 'date']\n",
    "        cols = [col for col in front if col in df] + [col for col in df.columns if col not in front]\n",
    "        return df[cols].rename(columns={'identifier': 'uid', 'unix_timestamp': 'timestamp'}).reset_index(drop=True)\n",
    "\n",
    "    if sparse_traj:\n",
    "        agent.sparse_traj = finalize(project_city_blocks_to_web_mercator(agent.sparse_traj))\n",
    "    if full_traj:\n",
    "        agent.trajectory = finalize(project_city_blocks_to_web_mercator(agent.trajectory))\n",
    "        \n",
    "    if diaries:\n",
    "        diary = agent.diary.copy()\n",
    "        xs = []\n",
    "        ys = []\n",
    "        for loc in diary[\"location\"]:\n",
    "            if loc is None:\n",
    "                xs.append(None)\n",
    "                ys.append(None)\n",
    "            else:\n",
    "                pt = agent.city.buildings[loc].geometry.centroid\n",
    "                xs.append(pt.x)\n",
    "                ys.append(pt.y)\n",
    "        diary[\"x\"] = xs\n",
    "        diary[\"y\"] = ys\n",
    "        agent.diary = finalize(project_city_blocks_to_web_mercator(diary))"
   ]
  },
  {
   "cell_type": "markdown",
   "id": "3c6a5abe",
   "metadata": {},
   "source": [
    "Initiate $N$ empty agents. "
   ]
  },
  {
   "cell_type": "code",
   "execution_count": 5,
   "id": "60fd6023",
   "metadata": {
    "tags": []
   },
   "outputs": [],
   "source": [
    "N = 150  # can modify\n",
    "\n",
    "population = Population(city)\n",
    "population.generate_agents(N=N, seed=16, name_count=2)"
   ]
  },
  {
   "cell_type": "markdown",
   "id": "ca27199b",
   "metadata": {},
   "source": [
    "## Simple trajectory generation\n",
    "\n",
    "For simple trajectory generation tasks that don't require too much computation power and can be done on a personal laptop, the following code generates a trajectory for each agent and saves it to a csv."
   ]
  },
  {
   "cell_type": "code",
   "execution_count": 6,
   "id": "f4e1beaa",
   "metadata": {},
   "outputs": [],
   "source": [
    "def generate_agent_trajectory(agent_id, agent, seed):\n",
    "    \n",
    "    beta_duration = npr.uniform(12, 150)\n",
    "    beta_start = max(npr.uniform(30, 600), beta_duration)\n",
    "    beta_ping = min(npr.uniform(3, 20), beta_duration//2)\n",
    "    print(beta_ping, beta_start, beta_duration)\n",
    "    agent.generate_trajectory(\n",
    "        local_timestamp = \"2024-01-01T06:00 +02:00\",\n",
    "        end_time = pd.Timestamp('2024-01-08T13:30:00 +02:00'),\n",
    "        seed=100,\n",
    "        dt=0.5)\n",
    "    print('finished generating trajectory')\n",
    "    agent.sample_trajectory(\n",
    "        beta_start=beta_start,\n",
    "        beta_durations=beta_duration,\n",
    "        beta_ping = beta_ping,\n",
    "        seed=seed,\n",
    "        replace_sparse_traj=True)\n",
    "    \n",
    "    garden_city_to_lat_long(agent,\n",
    "                            sparse_traj=True,\n",
    "                            full_traj=False)\n",
    "    \n",
    "    return agent_id, copy.deepcopy(agent)"
   ]
  },
  {
   "cell_type": "code",
   "execution_count": 7,
   "id": "828c0340",
   "metadata": {},
   "outputs": [
    {
     "data": {
      "text/plain": [
       "'adoring_keldysh'"
      ]
     },
     "execution_count": 7,
     "metadata": {},
     "output_type": "execute_result"
    }
   ],
   "source": [
    "agent_id, agent = [(agent_id, agent) for agent_id, agent in population.roster.items()][0]\n",
    "agent_id"
   ]
  },
  {
   "cell_type": "code",
   "execution_count": 8,
   "id": "01e588c0",
   "metadata": {},
   "outputs": [
    {
     "name": "stdout",
     "output_type": "stream",
     "text": [
      "4.165468916947845 160.8500755093817 145.3669557058947\n",
      "finished generating trajectory\n"
     ]
    },
    {
     "data": {
      "text/plain": [
       "('adoring_keldysh', <nomad.traj_gen.Agent at 0x2a92ab37790>)"
      ]
     },
     "execution_count": 8,
     "metadata": {},
     "output_type": "execute_result"
    }
   ],
   "source": [
    "generate_agent_trajectory(agent_id, agent, 150)"
   ]
  },
  {
   "cell_type": "code",
   "execution_count": 9,
   "id": "dd2c0ede",
   "metadata": {},
   "outputs": [
    {
     "name": "stderr",
     "output_type": "stream",
     "text": [
      "Generating trajectories: 100%|███████████████████████████████████████████████████████| 150/150 [07:20<00:00,  2.94s/it]\n"
     ]
    }
   ],
   "source": [
    "def generate_trajectory_data(agent_id, agent, seed):\n",
    "    agent.reset_trajectory()\n",
    "    \n",
    "    agent.generate_trajectory(\n",
    "        local_timestamp=\"2024-01-01T06:00:00 +02:00\",\n",
    "        end_time=pd.Timestamp(\"2024-01-20T12:00:00 +02:00\"),\n",
    "        seed=105,\n",
    "        dt=1)\n",
    "\n",
    "    beta_duration = npr.uniform(25, 170)\n",
    "    beta_start = max(npr.uniform(25, 520), beta_duration)\n",
    "    beta_ping = min(npr.uniform(3, 15), beta_duration//2)\n",
    "\n",
    "    agent.sample_trajectory(\n",
    "        beta_start=beta_start,\n",
    "        beta_durations=beta_duration,\n",
    "        beta_ping=beta_ping,\n",
    "        seed=seed,\n",
    "        replace_sparse_traj=True)\n",
    "\n",
    "    garden_city_to_lat_long(agent, sparse_traj=True, full_traj=False)\n",
    "    return None\n",
    "\n",
    "# Generate trajectories with progress bar\n",
    "for agent_id, agent in tqdm(population.roster.items(), desc=\"Generating trajectories\"):\n",
    "    generate_trajectory_data(agent_id, agent, seed=150)"
   ]
  },
  {
   "cell_type": "code",
   "execution_count": 10,
   "id": "c4286bf1-b6f9-4fd0-a284-b39fcbfb613f",
   "metadata": {},
   "outputs": [
    {
     "name": "stderr",
     "output_type": "stream",
     "text": [
      "C:\\Users\\franc\\Documents\\Nomad\\nomad-repo\\nomad\\io\\base.py:55: UserWarning: Trajectory column 'duration' specified for 'duration' not found in DataFrame.\n",
      "  warnings.warn(f\"Trajectory column '{value}' specified for '{key}' not found in DataFrame.\")\n"
     ]
    }
   ],
   "source": [
    "traj_cols = {\n",
    "    \"user_id\": \"uid\",\n",
    "    \"timestamp\": \"timestamp\",\n",
    "    \"latitude\": \"latitude\",\n",
    "    \"longitude\": \"longitude\",\n",
    "    \"x\": \"x\",\n",
    "    \"y\": \"y\",\n",
    "    \"duration\": \"duration\",\n",
    "    \"datetime\": \"local_timestamp\"}\n",
    "# Save only sparse trajectories and diaries\n",
    "population.save_pop(\n",
    "    sparse_path=\"output/sparse_traj/\",\n",
    "    diaries_path=\"output/diaries/\",\n",
    "    partition_cols={\n",
    "        \"sparse_traj\": [\"date\"],\n",
    "        \"diaries\": [\"uid\"]\n",
    "    },\n",
    "    traj_cols=traj_cols\n",
    ")"
   ]
  },
  {
   "cell_type": "code",
   "execution_count": 11,
   "id": "79e81d81",
   "metadata": {
    "scrolled": true
   },
   "outputs": [],
   "source": [
    "sparse_df = loader.from_file(\"output/sparse_traj/\", format=\"parquet\", traj_cols=traj_cols,\n",
    "                      parse_dates=True)\n",
    "diaries_df = loader.from_file(\"output/diaries/\", format=\"parquet\", traj_cols=traj_cols,\n",
    "                       parse_dates=True)"
   ]
  },
  {
   "cell_type": "code",
   "execution_count": 12,
   "id": "25e29eb5",
   "metadata": {},
   "outputs": [
    {
     "data": {
      "text/html": [
       "<div>\n",
       "<style scoped>\n",
       "    .dataframe tbody tr th:only-of-type {\n",
       "        vertical-align: middle;\n",
       "    }\n",
       "\n",
       "    .dataframe tbody tr th {\n",
       "        vertical-align: top;\n",
       "    }\n",
       "\n",
       "    .dataframe thead th {\n",
       "        text-align: right;\n",
       "    }\n",
       "</style>\n",
       "<table border=\"1\" class=\"dataframe\">\n",
       "  <thead>\n",
       "    <tr style=\"text-align: right;\">\n",
       "      <th></th>\n",
       "      <th>timestamp</th>\n",
       "      <th>longitude</th>\n",
       "      <th>latitude</th>\n",
       "      <th>x</th>\n",
       "      <th>y</th>\n",
       "      <th>date</th>\n",
       "      <th>local_timestamp</th>\n",
       "      <th>duration</th>\n",
       "      <th>location</th>\n",
       "      <th>uid</th>\n",
       "    </tr>\n",
       "  </thead>\n",
       "  <tbody>\n",
       "    <tr>\n",
       "      <th>0</th>\n",
       "      <td>1704081660</td>\n",
       "      <td>38.321380</td>\n",
       "      <td>-36.667407</td>\n",
       "      <td>4265916.5</td>\n",
       "      <td>-4392848.5</td>\n",
       "      <td>2024-01-01</td>\n",
       "      <td>2024-01-01 06:01:00+02:00</td>\n",
       "      <td>120</td>\n",
       "      <td>h-x13-y8</td>\n",
       "      <td>admiring_curie</td>\n",
       "    </tr>\n",
       "    <tr>\n",
       "      <th>1</th>\n",
       "      <td>1704088860</td>\n",
       "      <td>NaN</td>\n",
       "      <td>NaN</td>\n",
       "      <td>NaN</td>\n",
       "      <td>NaN</td>\n",
       "      <td>2024-01-01</td>\n",
       "      <td>2024-01-01 08:01:00+02:00</td>\n",
       "      <td>5</td>\n",
       "      <td>None</td>\n",
       "      <td>admiring_curie</td>\n",
       "    </tr>\n",
       "    <tr>\n",
       "      <th>2</th>\n",
       "      <td>1704089160</td>\n",
       "      <td>38.319696</td>\n",
       "      <td>-36.666921</td>\n",
       "      <td>4265729.0</td>\n",
       "      <td>-4392781.0</td>\n",
       "      <td>2024-01-01</td>\n",
       "      <td>2024-01-01 08:06:00+02:00</td>\n",
       "      <td>10</td>\n",
       "      <td>r-x3-y12</td>\n",
       "      <td>admiring_curie</td>\n",
       "    </tr>\n",
       "    <tr>\n",
       "      <th>3</th>\n",
       "      <td>1704089760</td>\n",
       "      <td>NaN</td>\n",
       "      <td>NaN</td>\n",
       "      <td>NaN</td>\n",
       "      <td>NaN</td>\n",
       "      <td>2024-01-01</td>\n",
       "      <td>2024-01-01 08:16:00+02:00</td>\n",
       "      <td>2</td>\n",
       "      <td>None</td>\n",
       "      <td>admiring_curie</td>\n",
       "    </tr>\n",
       "    <tr>\n",
       "      <th>4</th>\n",
       "      <td>1704089880</td>\n",
       "      <td>38.319696</td>\n",
       "      <td>-36.667083</td>\n",
       "      <td>4265729.0</td>\n",
       "      <td>-4392803.5</td>\n",
       "      <td>2024-01-01</td>\n",
       "      <td>2024-01-01 08:18:00+02:00</td>\n",
       "      <td>28</td>\n",
       "      <td>r-x3-y11</td>\n",
       "      <td>admiring_curie</td>\n",
       "    </tr>\n",
       "  </tbody>\n",
       "</table>\n",
       "</div>"
      ],
      "text/plain": [
       "    timestamp  longitude   latitude          x          y        date  \\\n",
       "0  1704081660  38.321380 -36.667407  4265916.5 -4392848.5  2024-01-01   \n",
       "1  1704088860        NaN        NaN        NaN        NaN  2024-01-01   \n",
       "2  1704089160  38.319696 -36.666921  4265729.0 -4392781.0  2024-01-01   \n",
       "3  1704089760        NaN        NaN        NaN        NaN  2024-01-01   \n",
       "4  1704089880  38.319696 -36.667083  4265729.0 -4392803.5  2024-01-01   \n",
       "\n",
       "            local_timestamp  duration  location             uid  \n",
       "0 2024-01-01 06:01:00+02:00       120  h-x13-y8  admiring_curie  \n",
       "1 2024-01-01 08:01:00+02:00         5      None  admiring_curie  \n",
       "2 2024-01-01 08:06:00+02:00        10  r-x3-y12  admiring_curie  \n",
       "3 2024-01-01 08:16:00+02:00         2      None  admiring_curie  \n",
       "4 2024-01-01 08:18:00+02:00        28  r-x3-y11  admiring_curie  "
      ]
     },
     "execution_count": 12,
     "metadata": {},
     "output_type": "execute_result"
    }
   ],
   "source": [
    "diaries_df.head()"
   ]
  },
  {
   "cell_type": "code",
   "execution_count": 13,
   "id": "3f0be1b2",
   "metadata": {},
   "outputs": [
    {
     "data": {
      "text/html": [
       "<div>\n",
       "<style scoped>\n",
       "    .dataframe tbody tr th:only-of-type {\n",
       "        vertical-align: middle;\n",
       "    }\n",
       "\n",
       "    .dataframe tbody tr th {\n",
       "        vertical-align: top;\n",
       "    }\n",
       "\n",
       "    .dataframe thead th {\n",
       "        text-align: right;\n",
       "    }\n",
       "</style>\n",
       "<table border=\"1\" class=\"dataframe\">\n",
       "  <thead>\n",
       "    <tr style=\"text-align: right;\">\n",
       "      <th></th>\n",
       "      <th>uid</th>\n",
       "      <th>timestamp</th>\n",
       "      <th>longitude</th>\n",
       "      <th>latitude</th>\n",
       "      <th>x</th>\n",
       "      <th>y</th>\n",
       "      <th>local_timestamp</th>\n",
       "      <th>ha</th>\n",
       "      <th>date</th>\n",
       "    </tr>\n",
       "  </thead>\n",
       "  <tbody>\n",
       "    <tr>\n",
       "      <th>0</th>\n",
       "      <td>inspiring_beaver</td>\n",
       "      <td>1704093480</td>\n",
       "      <td>38.320071</td>\n",
       "      <td>-36.666358</td>\n",
       "      <td>4.265771e+06</td>\n",
       "      <td>-4.392703e+06</td>\n",
       "      <td>2024-01-01 09:18:00+02:00</td>\n",
       "      <td>11.25</td>\n",
       "      <td>2024-01-01</td>\n",
       "    </tr>\n",
       "    <tr>\n",
       "      <th>1</th>\n",
       "      <td>inspiring_beaver</td>\n",
       "      <td>1704093720</td>\n",
       "      <td>38.319979</td>\n",
       "      <td>-36.666396</td>\n",
       "      <td>4.265761e+06</td>\n",
       "      <td>-4.392708e+06</td>\n",
       "      <td>2024-01-01 09:22:00+02:00</td>\n",
       "      <td>11.25</td>\n",
       "      <td>2024-01-01</td>\n",
       "    </tr>\n",
       "    <tr>\n",
       "      <th>2</th>\n",
       "      <td>inspiring_beaver</td>\n",
       "      <td>1704095220</td>\n",
       "      <td>38.320034</td>\n",
       "      <td>-36.666405</td>\n",
       "      <td>4.265767e+06</td>\n",
       "      <td>-4.392709e+06</td>\n",
       "      <td>2024-01-01 09:47:00+02:00</td>\n",
       "      <td>11.25</td>\n",
       "      <td>2024-01-01</td>\n",
       "    </tr>\n",
       "    <tr>\n",
       "      <th>3</th>\n",
       "      <td>inspiring_beaver</td>\n",
       "      <td>1704097140</td>\n",
       "      <td>38.320061</td>\n",
       "      <td>-36.666418</td>\n",
       "      <td>4.265770e+06</td>\n",
       "      <td>-4.392711e+06</td>\n",
       "      <td>2024-01-01 10:19:00+02:00</td>\n",
       "      <td>11.25</td>\n",
       "      <td>2024-01-01</td>\n",
       "    </tr>\n",
       "    <tr>\n",
       "      <th>4</th>\n",
       "      <td>inspiring_beaver</td>\n",
       "      <td>1704097440</td>\n",
       "      <td>38.320072</td>\n",
       "      <td>-36.666500</td>\n",
       "      <td>4.265771e+06</td>\n",
       "      <td>-4.392723e+06</td>\n",
       "      <td>2024-01-01 10:24:00+02:00</td>\n",
       "      <td>11.25</td>\n",
       "      <td>2024-01-01</td>\n",
       "    </tr>\n",
       "  </tbody>\n",
       "</table>\n",
       "</div>"
      ],
      "text/plain": [
       "                uid   timestamp  longitude   latitude             x  \\\n",
       "0  inspiring_beaver  1704093480  38.320071 -36.666358  4.265771e+06   \n",
       "1  inspiring_beaver  1704093720  38.319979 -36.666396  4.265761e+06   \n",
       "2  inspiring_beaver  1704095220  38.320034 -36.666405  4.265767e+06   \n",
       "3  inspiring_beaver  1704097140  38.320061 -36.666418  4.265770e+06   \n",
       "4  inspiring_beaver  1704097440  38.320072 -36.666500  4.265771e+06   \n",
       "\n",
       "              y           local_timestamp     ha        date  \n",
       "0 -4.392703e+06 2024-01-01 09:18:00+02:00  11.25  2024-01-01  \n",
       "1 -4.392708e+06 2024-01-01 09:22:00+02:00  11.25  2024-01-01  \n",
       "2 -4.392709e+06 2024-01-01 09:47:00+02:00  11.25  2024-01-01  \n",
       "3 -4.392711e+06 2024-01-01 10:19:00+02:00  11.25  2024-01-01  \n",
       "4 -4.392723e+06 2024-01-01 10:24:00+02:00  11.25  2024-01-01  "
      ]
     },
     "execution_count": 13,
     "metadata": {},
     "output_type": "execute_result"
    }
   ],
   "source": [
    "sparse_df.head()"
   ]
  },
  {
   "cell_type": "markdown",
   "id": "f762faed",
   "metadata": {},
   "source": [
    "## Parallelized Trajectory Generation\n",
    "\n",
    "For larger trajectory generation tasks that require a lot of compute power, we can parallelize the trajectory generation using the following code. We generate ground-truth trajectories in agent-month \"chunks\", sparsify each chunk, then reset the ground-truth trajectory field to lessen the memory usage. "
   ]
  },
  {
   "cell_type": "code",
   "execution_count": null,
   "id": "4e1e81ac",
   "metadata": {
    "tags": []
   },
   "outputs": [],
   "source": [
    "# Using parallel processing (e.g., using a cluster)\n",
    "%%time\n",
    "\n",
    "def generate_trajectory_data(agent_id, agent, seed):\n",
    "    \n",
    "    beta_duration = npr.uniform(15, 180)\n",
    "    beta_start = max(npr.uniform(60, 1200), beta_duration*3)\n",
    "    beta_ping = npr.uniform(1.5, 30)\n",
    "    \n",
    "    param = (beta_start, beta_duration, beta_ping)\n",
    "    \n",
    "    for month in range(1,13):\n",
    "        days = calendar.monthrange(2024, month)[1]\n",
    "        population_n.generate_trajectory(agent, \n",
    "                                         T=datetime(2024, month, days, hour=23, minute=59), \n",
    "                                         seed=seed)\n",
    "    \n",
    "        agent.sample_traj_hier_nhpp(*param, \n",
    "                                    seed=seed,\n",
    "                                    reset_traj=True)\n",
    "    \n",
    "    garden_city_to_lat_long(agent,\n",
    "                            sparse_traj=True,\n",
    "                            full_traj=False)\n",
    "    \n",
    "    return agent_id, copy.deepcopy(agent)\n",
    "\n",
    "manager = multiprocessing.Manager()\n",
    "shared_roster = manager.dict(population_n.roster)\n",
    "\n",
    "start = 6001  # 12001  # can modify\n",
    "end = 12001   # 18001  # can modify\n",
    "roster = dict(population_n.roster)\n",
    "batch = islice(roster.items(), start, end)\n",
    "\n",
    "with ProcessPoolExecutor() as executor:\n",
    "    with tqdm(total=(end-start), desc=\"Processing agents\") as pbar:\n",
    "        futures = [\n",
    "            executor.submit(generate_trajectory_data, agent_id, agent, i+15000)\n",
    "            for i, (agent_id, agent) in enumerate(batch, start=start)\n",
    "        ]\n",
    "        results = []\n",
    "        for future in futures:\n",
    "            results.append(future.result())\n",
    "            pbar.update(1)\n",
    "\n",
    "for agent_id, agent in results:\n",
    "    population_n.roster[agent_id] = agent"
   ]
  },
  {
   "cell_type": "markdown",
   "id": "bee64f31",
   "metadata": {},
   "source": [
    "This code saves the generated trajectories in a parquet file, using the date as the partition column."
   ]
  },
  {
   "cell_type": "code",
   "execution_count": null,
   "id": "dbdffd98",
   "metadata": {
    "tags": []
   },
   "outputs": [],
   "source": [
    "partition_cols = {\n",
    "    'sparse_traj': ['date'],\n",
    "    'diaries': ['identifier']\n",
    "}\n",
    "\n",
    "roster = dict(islice(population_n.roster.items(), start, end))\n",
    "\n",
    "population_n.save_pop(bucket=\"synthetic-raw-data\",\n",
    "                      prefix=f\"agents-{start+15000}-{end+15000-1}/\",\n",
    "                      save_full_traj=False,\n",
    "                      save_sparse_traj=True,\n",
    "                      save_homes=True,\n",
    "                      save_diaries=True,\n",
    "                      partition_cols=partition_cols,\n",
    "                      roster=roster)"
   ]
  },
  {
   "cell_type": "code",
   "execution_count": null,
   "id": "478a261b",
   "metadata": {
    "tags": []
   },
   "outputs": [],
   "source": [
    "# Load the Parquet files\n",
    "\n",
    "s3_path = \"s3://synthetic-raw-data/agents-1-1001/sparse_trajectories.parquet/\"\n",
    "df1 = pd.read_parquet(s3_path)\n",
    "s3_path = \"s3://synthetic-raw-data/agents-1001-2000/sparse_trajectories.parquet/\"\n",
    "df2 = pd.read_parquet(s3_path)"
   ]
  }
 ],
 "metadata": {
  "kernelspec": {
   "display_name": "Python 3.10 (daphme)",
   "language": "python",
   "name": "daphme"
  },
  "language_info": {
   "codemirror_mode": {
    "name": "ipython",
    "version": 3
   },
   "file_extension": ".py",
   "mimetype": "text/x-python",
   "name": "python",
   "nbconvert_exporter": "python",
   "pygments_lexer": "ipython3",
   "version": "3.10.0"
  },
  "nbdime-conflicts": {
   "local_diff": [
    {
     "diff": [
      {
       "diff": [
        {
         "key": 0,
         "op": "addrange",
         "valuelist": [
          "Python 3 (ipykernel)"
         ]
        },
        {
         "key": 0,
         "length": 1,
         "op": "removerange"
        }
       ],
       "key": "display_name",
       "op": "patch"
      }
     ],
     "key": "kernelspec",
     "op": "patch"
    },
    {
     "diff": [
      {
       "diff": [
        {
         "key": 0,
         "length": 1,
         "op": "removerange"
        }
       ],
       "key": "version",
       "op": "patch"
      }
     ],
     "key": "language_info",
     "op": "patch"
    }
   ],
   "remote_diff": [
    {
     "diff": [
      {
       "diff": [
        {
         "key": 0,
         "op": "addrange",
         "valuelist": [
          "Python 3.10 (daphme)"
         ]
        },
        {
         "key": 0,
         "length": 1,
         "op": "removerange"
        }
       ],
       "key": "display_name",
       "op": "patch"
      }
     ],
     "key": "kernelspec",
     "op": "patch"
    },
    {
     "diff": [
      {
       "diff": [
        {
         "diff": [
          {
           "key": 3,
           "op": "addrange",
           "valuelist": "0"
          },
          {
           "key": 3,
           "length": 1,
           "op": "removerange"
          }
         ],
         "key": 0,
         "op": "patch"
        }
       ],
       "key": "version",
       "op": "patch"
      }
     ],
     "key": "language_info",
     "op": "patch"
    }
   ]
  },
  "toc-autonumbering": false
 },
 "nbformat": 4,
 "nbformat_minor": 5
}

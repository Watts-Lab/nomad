{
 "cells": [
  {
   "cell_type": "code",
   "execution_count": 1,
   "id": "6f2ceb40",
   "metadata": {
    "tags": []
   },
   "outputs": [],
   "source": [
    "import pandas as pd\n",
    "import numpy as np\n",
    "from datetime import datetime, timedelta\n",
    "from zoneinfo import ZoneInfo\n",
    "import matplotlib.pyplot as plt\n",
    "plt.style.use('seaborn-v0_8-muted')\n",
    "from matplotlib import cm\n",
    "import geopandas as gpd\n",
    "\n",
    "from pyproj import Transformer\n",
    "from concurrent.futures import ProcessPoolExecutor\n",
    "import concurrent.futures\n",
    "import multiprocessing\n",
    "from multiprocessing import Pool\n",
    "from functools import partial\n",
    "import numpy.random as npr\n",
    "import matplotlib.dates as mdates\n",
    "from itertools import product\n",
    "import copy\n",
    "import pickle\n",
    "from tqdm import tqdm\n",
    "\n",
    "import nomad.io.base as loader\n",
    "import nomad.city_gen as cg\n",
    "from nomad.city_gen import City, Building\n",
    "import nomad.traj_gen as tg\n",
    "from nomad.traj_gen import Agent, Population\n",
    "import nomad.stop_detection.ta_dbscan as DBSCAN\n",
    "import nomad.stop_detection.lachesis as Lachesis\n",
    "from nomad.generation.sparsity import gen_params_target_q"
   ]
  },
  {
   "cell_type": "code",
   "execution_count": 2,
   "id": "fe275d4c",
   "metadata": {},
   "outputs": [],
   "source": [
    "city_geojson = gpd.read_file('garden_city.geojson')\n",
    "city = cg.load('garden-city.pkl')"
   ]
  },
  {
   "cell_type": "markdown",
   "id": "67e896de",
   "metadata": {},
   "source": [
    "### Generate N agents"
   ]
  },
  {
   "cell_type": "markdown",
   "id": "9e022dee",
   "metadata": {},
   "source": [
    "The following code maps our Garden City coordinates to a location in the Atlantic Ocean (Atlantis?)."
   ]
  },
  {
   "cell_type": "code",
   "execution_count": 3,
   "id": "fcf916bb",
   "metadata": {
    "tags": []
   },
   "outputs": [],
   "source": [
    "def garden_city_to_lat_long(agent, sparse_traj=True, full_traj=False, diaries=True):\n",
    "    def project_city_blocks_to_web_mercator(df):\n",
    "        \"\"\"Convert (x, y) from 15m block units to Web Mercator meters via affine shift and projection.\"\"\"\n",
    "        transformer = Transformer.from_crs(\"EPSG:3857\", \"EPSG:4326\", always_xy=True)\n",
    "        df['x'] = 15 * df['x'] - 4265699\n",
    "        df['y'] = 15 * df['y'] + 4392976\n",
    "        if 'ha' in df:\n",
    "            df['ha'] = 15 * df['ha']\n",
    "        df['longitude'], df['latitude'] = transformer.transform(df['x'].values, df['y'].values)\n",
    "        df['date'] = df['datetime'].dt.date\n",
    "        return df\n",
    "\n",
    "    def finalize(df):\n",
    "        front = ['identifier', 'timestamp', 'longitude', 'latitude', 'x', 'y', 'date']\n",
    "        cols = [col for col in front if col in df] + [col for col in df.columns if col not in front]\n",
    "        return df[cols].rename(columns={'identifier': 'uid', 'timestamp': 'timestamp'}).reset_index(drop=True)\n",
    "\n",
    "    if sparse_traj:\n",
    "        agent.sparse_traj = finalize(project_city_blocks_to_web_mercator(agent.sparse_traj))\n",
    "    if full_traj:\n",
    "        agent.trajectory = finalize(project_city_blocks_to_web_mercator(agent.trajectory))\n",
    "        \n",
    "    if diaries:\n",
    "        diary = agent.diary.copy()\n",
    "        xs = []\n",
    "        ys = []\n",
    "        for loc in diary[\"location\"]:\n",
    "            if loc is None:\n",
    "                xs.append(None)\n",
    "                ys.append(None)\n",
    "            else:\n",
    "                pt = agent.city.buildings[loc].geometry.centroid\n",
    "                xs.append(pt.x)\n",
    "                ys.append(pt.y)\n",
    "        diary[\"x\"] = xs\n",
    "        diary[\"y\"] = ys\n",
    "        agent.diary = finalize(project_city_blocks_to_web_mercator(diary))"
   ]
  },
  {
   "cell_type": "markdown",
   "id": "466a3385",
   "metadata": {},
   "source": [
    "Initiate $N$ empty agents. "
   ]
  },
  {
   "cell_type": "markdown",
   "id": "0cf09a62",
   "metadata": {},
   "source": [
    "## Simple trajectory generation\n",
    "\n",
    "For simple trajectory generation tasks that don't require too much computation power and can be done on a personal laptop, the following code generates a trajectory for each agent and saves it to a csv."
   ]
  },
  {
   "cell_type": "code",
   "execution_count": null,
   "id": "32e785a7",
   "metadata": {},
   "outputs": [],
   "source": [
    "def generate_agent_trajectory(agent_id, agent, seed):\n",
    "\n",
    "    beta_params = gen_params_target_q(q_range=(0.4, 0.85), seed=seed)\n",
    "\n",
    "    agent.generate_trajectory(\n",
    "        datetime = \"2024-01-01T08:00 -04:00\",\n",
    "        end_time = pd.Timestamp('2024-01-21T08:30:00 -04:00'),\n",
    "        seed=1,\n",
    "        dt=0.25)\n",
    "    print('finished generating trajectory')\n",
    "    agent.sample_trajectory(\n",
    "        **beta_params,\n",
    "        seed=seed,\n",
    "        ha=13/15, # <<<<<<\n",
    "        replace_sparse_traj=True)\n",
    "    \n",
    "    garden_city_to_lat_long(agent,\n",
    "                            sparse_traj=True,\n",
    "                            full_traj=False)\n",
    "    agent.reset_trajectory(trajectory = True, sparse = False, diary = False)\n",
    "    \n",
    "    return agent_id, copy.deepcopy(agent)"
   ]
  },
  {
   "cell_type": "code",
   "execution_count": 5,
   "id": "d442f89a",
   "metadata": {},
   "outputs": [],
   "source": [
    "population = Population(city)\n",
    "population.generate_agents(N=2, seed=2, name_count=3)"
   ]
  },
  {
   "cell_type": "code",
   "execution_count": 6,
   "id": "d50254c0",
   "metadata": {
    "scrolled": true
   },
   "outputs": [
    {
     "name": "stdout",
     "output_type": "stream",
     "text": [
      "finished generating trajectory\n",
      "CPU times: total: 8.27 s\n",
      "Wall time: 8.31 s\n"
     ]
    },
    {
     "data": {
      "text/html": [
       "<div>\n",
       "<style scoped>\n",
       "    .dataframe tbody tr th:only-of-type {\n",
       "        vertical-align: middle;\n",
       "    }\n",
       "\n",
       "    .dataframe tbody tr th {\n",
       "        vertical-align: top;\n",
       "    }\n",
       "\n",
       "    .dataframe thead th {\n",
       "        text-align: right;\n",
       "    }\n",
       "</style>\n",
       "<table border=\"1\" class=\"dataframe\">\n",
       "  <thead>\n",
       "    <tr style=\"text-align: right;\">\n",
       "      <th></th>\n",
       "      <th>uid</th>\n",
       "      <th>timestamp</th>\n",
       "      <th>longitude</th>\n",
       "      <th>latitude</th>\n",
       "      <th>x</th>\n",
       "      <th>y</th>\n",
       "      <th>date</th>\n",
       "      <th>datetime</th>\n",
       "      <th>ha</th>\n",
       "    </tr>\n",
       "  </thead>\n",
       "  <tbody>\n",
       "    <tr>\n",
       "      <th>0</th>\n",
       "      <td>admiring_adoring_banach</td>\n",
       "      <td>1704116813</td>\n",
       "      <td>-38.317481</td>\n",
       "      <td>36.670075</td>\n",
       "      <td>-4.265483e+06</td>\n",
       "      <td>4.393219e+06</td>\n",
       "      <td>2024-01-01</td>\n",
       "      <td>2024-01-01 09:46:53-04:00</td>\n",
       "      <td>12.137903</td>\n",
       "    </tr>\n",
       "    <tr>\n",
       "      <th>1</th>\n",
       "      <td>admiring_adoring_banach</td>\n",
       "      <td>1704117085</td>\n",
       "      <td>-38.317457</td>\n",
       "      <td>36.670111</td>\n",
       "      <td>-4.265480e+06</td>\n",
       "      <td>4.393224e+06</td>\n",
       "      <td>2024-01-01</td>\n",
       "      <td>2024-01-01 09:51:25-04:00</td>\n",
       "      <td>8.972810</td>\n",
       "    </tr>\n",
       "    <tr>\n",
       "      <th>2</th>\n",
       "      <td>admiring_adoring_banach</td>\n",
       "      <td>1704117157</td>\n",
       "      <td>-38.317496</td>\n",
       "      <td>36.670122</td>\n",
       "      <td>-4.265484e+06</td>\n",
       "      <td>4.393225e+06</td>\n",
       "      <td>2024-01-01</td>\n",
       "      <td>2024-01-01 09:52:37-04:00</td>\n",
       "      <td>8.323459</td>\n",
       "    </tr>\n",
       "    <tr>\n",
       "      <th>3</th>\n",
       "      <td>admiring_adoring_banach</td>\n",
       "      <td>1704117285</td>\n",
       "      <td>-38.317533</td>\n",
       "      <td>36.670070</td>\n",
       "      <td>-4.265488e+06</td>\n",
       "      <td>4.393218e+06</td>\n",
       "      <td>2024-01-01</td>\n",
       "      <td>2024-01-01 09:54:45-04:00</td>\n",
       "      <td>14.388030</td>\n",
       "    </tr>\n",
       "    <tr>\n",
       "      <th>4</th>\n",
       "      <td>admiring_adoring_banach</td>\n",
       "      <td>1704117646</td>\n",
       "      <td>-38.317426</td>\n",
       "      <td>36.670088</td>\n",
       "      <td>-4.265476e+06</td>\n",
       "      <td>4.393221e+06</td>\n",
       "      <td>2024-01-01</td>\n",
       "      <td>2024-01-01 10:00:46-04:00</td>\n",
       "      <td>12.852338</td>\n",
       "    </tr>\n",
       "  </tbody>\n",
       "</table>\n",
       "</div>"
      ],
      "text/plain": [
       "                       uid   timestamp  longitude   latitude             x  \\\n",
       "0  admiring_adoring_banach  1704116813 -38.317481  36.670075 -4.265483e+06   \n",
       "1  admiring_adoring_banach  1704117085 -38.317457  36.670111 -4.265480e+06   \n",
       "2  admiring_adoring_banach  1704117157 -38.317496  36.670122 -4.265484e+06   \n",
       "3  admiring_adoring_banach  1704117285 -38.317533  36.670070 -4.265488e+06   \n",
       "4  admiring_adoring_banach  1704117646 -38.317426  36.670088 -4.265476e+06   \n",
       "\n",
       "              y        date                  datetime         ha  \n",
       "0  4.393219e+06  2024-01-01 2024-01-01 09:46:53-04:00  12.137903  \n",
       "1  4.393224e+06  2024-01-01 2024-01-01 09:51:25-04:00   8.972810  \n",
       "2  4.393225e+06  2024-01-01 2024-01-01 09:52:37-04:00   8.323459  \n",
       "3  4.393218e+06  2024-01-01 2024-01-01 09:54:45-04:00  14.388030  \n",
       "4  4.393221e+06  2024-01-01 2024-01-01 10:00:46-04:00  12.852338  "
      ]
     },
     "execution_count": 6,
     "metadata": {},
     "output_type": "execute_result"
    }
   ],
   "source": [
    "%%time \n",
    "# time for 2 weeks of data at dt = 0.25\n",
    "agent_1 = list(population.roster.values())[1]\n",
    "generate_agent_trajectory(agent_1, 10, 6)\n",
    "agent_1.sparse_traj.head()"
   ]
  },
  {
   "cell_type": "code",
   "execution_count": 14,
   "id": "d6383b7b",
   "metadata": {},
   "outputs": [],
   "source": [
    "population = Population(city)\n",
    "population.generate_agents(N=2, seed=2, name_count=3)"
   ]
  },
  {
   "cell_type": "code",
   "execution_count": 15,
   "id": "5a8a46fc",
   "metadata": {
    "scrolled": true
   },
   "outputs": [
    {
     "name": "stdout",
     "output_type": "stream",
     "text": [
      "finished generating trajectory\n",
      "CPU times: total: 7.09 s\n",
      "Wall time: 7.08 s\n"
     ]
    },
    {
     "data": {
      "text/html": [
       "<div>\n",
       "<style scoped>\n",
       "    .dataframe tbody tr th:only-of-type {\n",
       "        vertical-align: middle;\n",
       "    }\n",
       "\n",
       "    .dataframe tbody tr th {\n",
       "        vertical-align: top;\n",
       "    }\n",
       "\n",
       "    .dataframe thead th {\n",
       "        text-align: right;\n",
       "    }\n",
       "</style>\n",
       "<table border=\"1\" class=\"dataframe\">\n",
       "  <thead>\n",
       "    <tr style=\"text-align: right;\">\n",
       "      <th></th>\n",
       "      <th>uid</th>\n",
       "      <th>timestamp</th>\n",
       "      <th>longitude</th>\n",
       "      <th>latitude</th>\n",
       "      <th>x</th>\n",
       "      <th>y</th>\n",
       "      <th>date</th>\n",
       "      <th>datetime</th>\n",
       "      <th>ha</th>\n",
       "    </tr>\n",
       "  </thead>\n",
       "  <tbody>\n",
       "    <tr>\n",
       "      <th>0</th>\n",
       "      <td>admiring_adoring_banach</td>\n",
       "      <td>1704116813</td>\n",
       "      <td>-38.318866</td>\n",
       "      <td>36.669763</td>\n",
       "      <td>-4.265637e+06</td>\n",
       "      <td>4.393175e+06</td>\n",
       "      <td>2024-01-01</td>\n",
       "      <td>2024-01-01 09:46:53-04:00</td>\n",
       "      <td>12.014135</td>\n",
       "    </tr>\n",
       "    <tr>\n",
       "      <th>1</th>\n",
       "      <td>admiring_adoring_banach</td>\n",
       "      <td>1704117085</td>\n",
       "      <td>-38.318863</td>\n",
       "      <td>36.669797</td>\n",
       "      <td>-4.265636e+06</td>\n",
       "      <td>4.393180e+06</td>\n",
       "      <td>2024-01-01</td>\n",
       "      <td>2024-01-01 09:51:25-04:00</td>\n",
       "      <td>8.947531</td>\n",
       "    </tr>\n",
       "    <tr>\n",
       "      <th>2</th>\n",
       "      <td>admiring_adoring_banach</td>\n",
       "      <td>1704117157</td>\n",
       "      <td>-38.318856</td>\n",
       "      <td>36.669787</td>\n",
       "      <td>-4.265636e+06</td>\n",
       "      <td>4.393179e+06</td>\n",
       "      <td>2024-01-01</td>\n",
       "      <td>2024-01-01 09:52:37-04:00</td>\n",
       "      <td>8.315352</td>\n",
       "    </tr>\n",
       "    <tr>\n",
       "      <th>3</th>\n",
       "      <td>admiring_adoring_banach</td>\n",
       "      <td>1704117285</td>\n",
       "      <td>-38.318824</td>\n",
       "      <td>36.669771</td>\n",
       "      <td>-4.265632e+06</td>\n",
       "      <td>4.393176e+06</td>\n",
       "      <td>2024-01-01</td>\n",
       "      <td>2024-01-01 09:54:45-04:00</td>\n",
       "      <td>14.181900</td>\n",
       "    </tr>\n",
       "    <tr>\n",
       "      <th>4</th>\n",
       "      <td>admiring_adoring_banach</td>\n",
       "      <td>1704117646</td>\n",
       "      <td>-38.318787</td>\n",
       "      <td>36.669754</td>\n",
       "      <td>-4.265628e+06</td>\n",
       "      <td>4.393174e+06</td>\n",
       "      <td>2024-01-01</td>\n",
       "      <td>2024-01-01 10:00:46-04:00</td>\n",
       "      <td>12.703410</td>\n",
       "    </tr>\n",
       "  </tbody>\n",
       "</table>\n",
       "</div>"
      ],
      "text/plain": [
       "                       uid   timestamp  longitude   latitude             x  \\\n",
       "0  admiring_adoring_banach  1704116813 -38.318866  36.669763 -4.265637e+06   \n",
       "1  admiring_adoring_banach  1704117085 -38.318863  36.669797 -4.265636e+06   \n",
       "2  admiring_adoring_banach  1704117157 -38.318856  36.669787 -4.265636e+06   \n",
       "3  admiring_adoring_banach  1704117285 -38.318824  36.669771 -4.265632e+06   \n",
       "4  admiring_adoring_banach  1704117646 -38.318787  36.669754 -4.265628e+06   \n",
       "\n",
       "              y        date                  datetime         ha  \n",
       "0  4.393175e+06  2024-01-01 2024-01-01 09:46:53-04:00  12.014135  \n",
       "1  4.393180e+06  2024-01-01 2024-01-01 09:51:25-04:00   8.947531  \n",
       "2  4.393179e+06  2024-01-01 2024-01-01 09:52:37-04:00   8.315352  \n",
       "3  4.393176e+06  2024-01-01 2024-01-01 09:54:45-04:00  14.181900  \n",
       "4  4.393174e+06  2024-01-01 2024-01-01 10:00:46-04:00  12.703410  "
      ]
     },
     "execution_count": 15,
     "metadata": {},
     "output_type": "execute_result"
    }
   ],
   "source": [
    "%%time \n",
    "# time for 2 weeks of data at dt = 0.25\n",
    "agent_1 = list(population.roster.values())[1]\n",
    "generate_agent_trajectory(agent_1, 10, 6)\n",
    "agent_1.sparse_traj.head()"
   ]
  },
  {
   "cell_type": "code",
   "execution_count": null,
   "id": "8b780275",
   "metadata": {},
   "outputs": [
    {
     "name": "stderr",
     "output_type": "stream",
     "text": [
      "<<<<<<< local\n"
     ]
    },
    {
     "name": "stderr",
     "output_type": "stream",
     "text": [
      "=======\n"
     ]
    },
    {
     "name": "stderr",
     "output_type": "stream",
     "text": [
      "Generating trajectories: 123it [04:05,  2.00s/it]"
     ]
    },
    {
     "name": "stderr",
     "output_type": "stream",
     "text": [
      ">>>>>>> remote\n"
     ]
    },
    {
     "name": "stderr",
     "output_type": "stream",
     "text": [
      "<<<<<<< local <modified: >\n"
     ]
    },
    {
     "name": "stderr",
     "output_type": "stream",
     "text": [
      "Generating trajectories: 100%|█████████████████████████████████████████████████████████████████████████████████████████████████████████████████████████████████████████| 200/200 [06:35<00:00,  1.98s/it]\n"
     ]
    },
    {
     "name": "stderr",
     "output_type": "stream",
     "text": [
      "=======\n"
     ]
    },
    {
     "name": "stderr",
     "output_type": "stream",
     "text": [
      ">>>>>>> remote <removed>\n"
     ]
    }
   ],
   "source": [
    "def generate_trajectory_data(agent_id, agent, seed):\n",
    "    beta_params = gen_params_target_q(q_range=(0.4, 0.85), seed=seed)\n",
    "    ha_sample = npr.uniform(11.5/15, 14.5/15)\n",
    "\n",
    "    agent.reset_trajectory()\n",
    "    agent.generate_trajectory(\n",
    "        datetime = \"2024-01-01T08:00 -04:00\",\n",
    "        end_time = pd.Timestamp('2024-01-21T08:00:00 -04:00'),\n",
    "        seed=1,\n",
    "        dt=1)\n",
    "\n",
    "    agent.sample_trajectory(\n",
    "        **beta_params,\n",
    "        seed=seed,\n",
    "        ha=ha_sample,\n",
    "        replace_sparse_traj=True)\n",
    "\n",
    "    garden_city_to_lat_long(agent, sparse_traj=True, full_traj=False)\n",
    "    agent.reset_trajectory(trajectory = True, sparse = False, diary = False)\n",
    "    return None\n",
    "\n",
    "# Generate trajectories with progress bar\n",
    "N = 200  \n",
    "population = Population(city)\n",
    "population.generate_agents(N=N, seed=1, name_count=3)\n",
    "\n",
    "for agent_id, agent in tqdm(population.roster.items(), desc=\"Generating trajectories\"):\n",
    "    generate_trajectory_data(agent_id, agent, seed=1)"
   ]
  },
  {
   "cell_type": "code",
   "execution_count": null,
   "id": "719f974c",
   "metadata": {},
   "outputs": [],
   "source": [
    "traj_cols = {\n",
    "    \"user_id\": \"uid\",\n",
    "    \"timestamp\": \"timestamp\",\n",
    "    \"latitude\": \"latitude\",\n",
    "    \"longitude\": \"longitude\",\n",
    "    \"x\": \"x\",\n",
    "    \"y\": \"y\",\n",
    "    \"duration\": \"duration\",\n",
    "    \"datetime\": \"datetime\"}\n",
    "# Save only sparse trajectories and diaries\n",
    "population.save_pop(\n",
    "    sparse_path=\"output/sparse_traj/\",\n",
    "    diaries_path=\"output/diaries/\",\n",
    "    partition_cols={\"sparse_traj\": [\"date\"]},\n",
    "    traj_cols=traj_cols\n",
    ")"
   ]
  },
  {
   "cell_type": "code",
   "execution_count": null,
   "id": "cbc8703e",
   "metadata": {
    "scrolled": true
   },
   "outputs": [],
   "source": [
    "sparse_df = loader.from_file(\"output/sparse_traj/\", format=\"parquet\", traj_cols=traj_cols,\n",
    "                      parse_dates=True)\n",
    "diaries_df = loader.from_file(\"output/diaries/\", format=\"parquet\", traj_cols=traj_cols,\n",
    "                       parse_dates=True)"
   ]
  },
  {
   "cell_type": "code",
   "execution_count": null,
   "id": "f10c962c",
   "metadata": {},
   "outputs": [
    {
     "data": {
      "text/html": [
       "<div>\n",
       "<style scoped>\n",
       "    .dataframe tbody tr th:only-of-type {\n",
       "        vertical-align: middle;\n",
       "    }\n",
       "\n",
       "    .dataframe tbody tr th {\n",
       "        vertical-align: top;\n",
       "    }\n",
       "\n",
       "    .dataframe thead th {\n",
       "        text-align: right;\n",
       "    }\n",
       "</style>\n",
       "<table border=\"1\" class=\"dataframe\">\n",
       "  <thead>\n",
       "    <tr style=\"text-align: right;\">\n",
       "      <th></th>\n",
       "      <th>uid</th>\n",
       "      <th>timestamp</th>\n",
       "      <th>longitude</th>\n",
       "      <th>latitude</th>\n",
       "      <th>x</th>\n",
       "      <th>y</th>\n",
       "      <th>date</th>\n",
       "      <th>datetime</th>\n",
       "      <th>duration</th>\n",
       "      <th>location</th>\n",
       "      <th>tz_offset</th>\n",
       "    </tr>\n",
       "  </thead>\n",
       "  <tbody>\n",
       "    <tr>\n",
       "      <th>0</th>\n",
       "      <td>unruffled_dijkstra</td>\n",
       "      <td>1704106860</td>\n",
       "      <td>-38.318415</td>\n",
       "      <td>36.669407</td>\n",
       "      <td>-4265586.5</td>\n",
       "      <td>4393126.0</td>\n",
       "      <td>2024-01-01</td>\n",
       "      <td>2024-01-01 07:01:00</td>\n",
       "      <td>60</td>\n",
       "      <td>h-x8-y10</td>\n",
       "      <td>-14400</td>\n",
       "    </tr>\n",
       "    <tr>\n",
       "      <th>1</th>\n",
       "      <td>unruffled_dijkstra</td>\n",
       "      <td>1704110460</td>\n",
       "      <td>NaN</td>\n",
       "      <td>NaN</td>\n",
       "      <td>NaN</td>\n",
       "      <td>NaN</td>\n",
       "      <td>2024-01-01</td>\n",
       "      <td>2024-01-01 08:01:00</td>\n",
       "      <td>4</td>\n",
       "      <td>None</td>\n",
       "      <td>-14400</td>\n",
       "    </tr>\n",
       "    <tr>\n",
       "      <th>2</th>\n",
       "      <td>unruffled_dijkstra</td>\n",
       "      <td>1704110700</td>\n",
       "      <td>-38.317674</td>\n",
       "      <td>36.670163</td>\n",
       "      <td>-4265504.0</td>\n",
       "      <td>4393231.0</td>\n",
       "      <td>2024-01-01</td>\n",
       "      <td>2024-01-01 08:05:00</td>\n",
       "      <td>236</td>\n",
       "      <td>w-x13-y18</td>\n",
       "      <td>-14400</td>\n",
       "    </tr>\n",
       "    <tr>\n",
       "      <th>3</th>\n",
       "      <td>unruffled_dijkstra</td>\n",
       "      <td>1704124860</td>\n",
       "      <td>NaN</td>\n",
       "      <td>NaN</td>\n",
       "      <td>NaN</td>\n",
       "      <td>NaN</td>\n",
       "      <td>2024-01-01</td>\n",
       "      <td>2024-01-01 12:01:00</td>\n",
       "      <td>4</td>\n",
       "      <td>None</td>\n",
       "      <td>-14400</td>\n",
       "    </tr>\n",
       "    <tr>\n",
       "      <th>4</th>\n",
       "      <td>unruffled_dijkstra</td>\n",
       "      <td>1704125100</td>\n",
       "      <td>-38.316731</td>\n",
       "      <td>36.670542</td>\n",
       "      <td>-4265399.0</td>\n",
       "      <td>4393283.5</td>\n",
       "      <td>2024-01-01</td>\n",
       "      <td>2024-01-01 12:05:00</td>\n",
       "      <td>11</td>\n",
       "      <td>r-x20-y21</td>\n",
       "      <td>-14400</td>\n",
       "    </tr>\n",
       "  </tbody>\n",
       "</table>\n",
       "</div>"
      ],
      "text/plain": [
       "                  uid   timestamp  longitude   latitude          x          y  \\\n",
       "0  unruffled_dijkstra  1704106860 -38.318415  36.669407 -4265586.5  4393126.0   \n",
       "1  unruffled_dijkstra  1704110460        NaN        NaN        NaN        NaN   \n",
       "2  unruffled_dijkstra  1704110700 -38.317674  36.670163 -4265504.0  4393231.0   \n",
       "3  unruffled_dijkstra  1704124860        NaN        NaN        NaN        NaN   \n",
       "4  unruffled_dijkstra  1704125100 -38.316731  36.670542 -4265399.0  4393283.5   \n",
       "\n",
       "         date            datetime  duration   location  tz_offset  \n",
       "0  2024-01-01 2024-01-01 07:01:00        60   h-x8-y10     -14400  \n",
       "1  2024-01-01 2024-01-01 08:01:00         4       None     -14400  \n",
       "2  2024-01-01 2024-01-01 08:05:00       236  w-x13-y18     -14400  \n",
       "3  2024-01-01 2024-01-01 12:01:00         4       None     -14400  \n",
       "4  2024-01-01 2024-01-01 12:05:00        11  r-x20-y21     -14400  "
      ]
     },
     "execution_count": 12,
     "metadata": {},
     "output_type": "execute_result"
    }
   ],
   "source": [
    "diaries_df.head()"
   ]
  },
  {
   "cell_type": "code",
   "execution_count": null,
   "id": "9bc4284e",
   "metadata": {},
   "outputs": [
    {
     "name": "stderr",
     "output_type": "stream",
     "text": [
      "<<<<<<< local <modified: text/html, text/plain>\n"
     ]
    },
    {
     "data": {
      "text/html": [
       "<div>\n",
       "<style scoped>\n",
       "    .dataframe tbody tr th:only-of-type {\n",
       "        vertical-align: middle;\n",
       "    }\n",
       "\n",
       "    .dataframe tbody tr th {\n",
       "        vertical-align: top;\n",
       "    }\n",
       "\n",
       "    .dataframe thead th {\n",
       "        text-align: right;\n",
       "    }\n",
       "</style>\n",
       "<table border=\"1\" class=\"dataframe\">\n",
       "  <thead>\n",
       "    <tr style=\"text-align: right;\">\n",
       "      <th></th>\n",
       "      <th>uid</th>\n",
       "      <th>timestamp</th>\n",
       "      <th>longitude</th>\n",
       "      <th>latitude</th>\n",
       "      <th>x</th>\n",
       "      <th>y</th>\n",
       "      <th>datetime</th>\n",
       "      <th>ha</th>\n",
       "      <th>date</th>\n",
       "      <th>tz_offset</th>\n",
       "    </tr>\n",
       "  </thead>\n",
       "  <tbody>\n",
       "    <tr>\n",
       "      <th>0</th>\n",
       "      <td>unruffled_dijkstra</td>\n",
       "      <td>1704112023</td>\n",
       "      <td>-38.317844</td>\n",
       "      <td>36.670325</td>\n",
       "      <td>-4.265523e+06</td>\n",
       "      <td>4.393253e+06</td>\n",
       "      <td>2024-01-01 08:27:03</td>\n",
       "      <td>16.329762</td>\n",
       "      <td>2024-01-01</td>\n",
       "      <td>-14400</td>\n",
       "    </tr>\n",
       "    <tr>\n",
       "      <th>1</th>\n",
       "      <td>unruffled_dijkstra</td>\n",
       "      <td>1704112203</td>\n",
       "      <td>-38.317545</td>\n",
       "      <td>36.670340</td>\n",
       "      <td>-4.265490e+06</td>\n",
       "      <td>4.393255e+06</td>\n",
       "      <td>2024-01-01 08:30:03</td>\n",
       "      <td>9.474195</td>\n",
       "      <td>2024-01-01</td>\n",
       "      <td>-14400</td>\n",
       "    </tr>\n",
       "    <tr>\n",
       "      <th>2</th>\n",
       "      <td>unruffled_dijkstra</td>\n",
       "      <td>1704112273</td>\n",
       "      <td>-38.317589</td>\n",
       "      <td>36.670253</td>\n",
       "      <td>-4.265494e+06</td>\n",
       "      <td>4.393243e+06</td>\n",
       "      <td>2024-01-01 08:31:13</td>\n",
       "      <td>12.021023</td>\n",
       "      <td>2024-01-01</td>\n",
       "      <td>-14400</td>\n",
       "    </tr>\n",
       "    <tr>\n",
       "      <th>3</th>\n",
       "      <td>unruffled_dijkstra</td>\n",
       "      <td>1704112372</td>\n",
       "      <td>-38.317579</td>\n",
       "      <td>36.670279</td>\n",
       "      <td>-4.265493e+06</td>\n",
       "      <td>4.393247e+06</td>\n",
       "      <td>2024-01-01 08:32:52</td>\n",
       "      <td>8.604520</td>\n",
       "      <td>2024-01-01</td>\n",
       "      <td>-14400</td>\n",
       "    </tr>\n",
       "    <tr>\n",
       "      <th>4</th>\n",
       "      <td>unruffled_dijkstra</td>\n",
       "      <td>1704112663</td>\n",
       "      <td>-38.317738</td>\n",
       "      <td>36.670173</td>\n",
       "      <td>-4.265511e+06</td>\n",
       "      <td>4.393232e+06</td>\n",
       "      <td>2024-01-01 08:37:43</td>\n",
       "      <td>13.937659</td>\n",
       "      <td>2024-01-01</td>\n",
       "      <td>-14400</td>\n",
       "    </tr>\n",
       "  </tbody>\n",
       "</table>\n",
       "</div>"
      ],
      "text/plain": [
       "                  uid   timestamp  longitude   latitude             x  \\\n",
       "0  unruffled_dijkstra  1704112023 -38.317844  36.670325 -4.265523e+06   \n",
       "1  unruffled_dijkstra  1704112203 -38.317545  36.670340 -4.265490e+06   \n",
       "2  unruffled_dijkstra  1704112273 -38.317589  36.670253 -4.265494e+06   \n",
       "3  unruffled_dijkstra  1704112372 -38.317579  36.670279 -4.265493e+06   \n",
       "4  unruffled_dijkstra  1704112663 -38.317738  36.670173 -4.265511e+06   \n",
       "\n",
       "              y            datetime         ha        date  tz_offset  \n",
       "0  4.393253e+06 2024-01-01 08:27:03  16.329762  2024-01-01     -14400  \n",
       "1  4.393255e+06 2024-01-01 08:30:03   9.474195  2024-01-01     -14400  \n",
       "2  4.393243e+06 2024-01-01 08:31:13  12.021023  2024-01-01     -14400  \n",
       "3  4.393247e+06 2024-01-01 08:32:52   8.604520  2024-01-01     -14400  \n",
       "4  4.393232e+06 2024-01-01 08:37:43  13.937659  2024-01-01     -14400  "
      ]
     },
     "execution_count": 13,
     "metadata": {},
     "output_type": "execute_result"
    },
    {
     "name": "stderr",
     "output_type": "stream",
     "text": [
      "=======\n"
     ]
    },
    {
     "name": "stderr",
     "output_type": "stream",
     "text": [
      ">>>>>>> remote <removed>\n"
     ]
    }
   ],
   "source": [
    "sparse_df.head()"
   ]
  },
  {
   "cell_type": "markdown",
   "id": "85d55da6",
   "metadata": {},
   "source": [
    "## Parallelized Trajectory Generation\n",
    "\n",
    "For larger trajectory generation tasks that require a lot of compute power, we can parallelize the trajectory generation using the following code. We generate ground-truth trajectories in agent-month \"chunks\", sparsify each chunk, then reset the ground-truth trajectory field to lessen the memory usage. "
   ]
  },
  {
   "cell_type": "code",
   "execution_count": null,
   "id": "a2392c4c",
   "metadata": {
    "tags": []
   },
   "outputs": [],
   "source": [
    "# Using parallel processing (e.g., using a cluster)\n",
    "%%time\n",
    "\n",
    "def generate_trajectory_data(agent_id, agent, seed):\n",
    "    \n",
    "    beta_duration = npr.uniform(15, 180)\n",
    "    beta_start = max(npr.uniform(60, 1200), beta_duration*3)\n",
    "    beta_ping = npr.uniform(1.5, 30)\n",
    "    \n",
    "    param = (beta_start, beta_duration, beta_ping)\n",
    "    \n",
    "    for month in range(1,13):\n",
    "        days = calendar.monthrange(2024, month)[1]\n",
    "        population_n.generate_trajectory(agent, \n",
    "                                         T=datetime(2024, month, days, hour=23, minute=59), \n",
    "                                         seed=seed)\n",
    "    \n",
    "        agent.sample_traj_hier_nhpp(*param, \n",
    "                                    seed=seed,\n",
    "                                    reset_traj=True)\n",
    "    \n",
    "    garden_city_to_lat_long(agent,\n",
    "                            sparse_traj=True,\n",
    "                            full_traj=False)\n",
    "    \n",
    "    return agent_id, copy.deepcopy(agent)\n",
    "\n",
    "manager = multiprocessing.Manager()\n",
    "shared_roster = manager.dict(population_n.roster)\n",
    "\n",
    "start = 6001  # 12001  # can modify\n",
    "end = 12001   # 18001  # can modify\n",
    "roster = dict(population_n.roster)\n",
    "batch = islice(roster.items(), start, end)\n",
    "\n",
    "with ProcessPoolExecutor() as executor:\n",
    "    with tqdm(total=(end-start), desc=\"Processing agents\") as pbar:\n",
    "        futures = [\n",
    "            executor.submit(generate_trajectory_data, agent_id, agent, i+15000)\n",
    "            for i, (agent_id, agent) in enumerate(batch, start=start)\n",
    "        ]\n",
    "        results = []\n",
    "        for future in futures:\n",
    "            results.append(future.result())\n",
    "            pbar.update(1)\n",
    "\n",
    "for agent_id, agent in results:\n",
    "    population_n.roster[agent_id] = agent"
   ]
  },
  {
   "cell_type": "markdown",
   "id": "e83f50dc",
   "metadata": {},
   "source": [
    "This code saves the generated trajectories in a parquet file, using the date as the partition column."
   ]
  },
  {
   "cell_type": "code",
   "execution_count": null,
   "id": "8607d4b9",
   "metadata": {
    "tags": []
   },
   "outputs": [],
   "source": [
    "partition_cols = {\n",
    "    'sparse_traj': ['date'],\n",
    "    'diaries': ['identifier']\n",
    "}\n",
    "\n",
    "roster = dict(islice(population_n.roster.items(), start, end))\n",
    "\n",
    "population_n.save_pop(bucket=\"synthetic-raw-data\",\n",
    "                      prefix=f\"agents-{start+15000}-{end+15000-1}/\",\n",
    "                      save_full_traj=False,\n",
    "                      save_sparse_traj=True,\n",
    "                      save_homes=True,\n",
    "                      save_diaries=True,\n",
    "                      partition_cols=partition_cols,\n",
    "                      roster=roster)"
   ]
  },
  {
   "cell_type": "code",
   "execution_count": null,
   "id": "80c1a40f",
   "metadata": {
    "tags": []
   },
   "outputs": [],
   "source": [
    "# Load the Parquet files\n",
    "s3_path = \"s3://synthetic-raw-data/agents-1-1001/sparse_trajectories.parquet/\"\n",
    "df1 = pd.read_parquet(s3_path)\n",
    "s3_path = \"s3://synthetic-raw-data/agents-1001-2000/sparse_trajectories.parquet/\"\n",
    "df2 = pd.read_parquet(s3_path)"
   ]
  }
 ],
 "metadata": {
  "kernelspec": {
   "display_name": "Python 3.10 (daphme)",
   "language": "python",
   "name": "daphme"
  },
  "language_info": {
   "codemirror_mode": {
    "name": "ipython",
    "version": 3
   },
   "file_extension": ".py",
   "mimetype": "text/x-python",
   "name": "python",
   "nbconvert_exporter": "python",
   "pygments_lexer": "ipython3",
   "version": "3.10.0"
  },
  "nbdime-conflicts": {
   "local_diff": [
    {
     "diff": [
      {
       "diff": [
        {
         "key": 0,
         "op": "addrange",
         "valuelist": [
          "Python 3 (ipykernel)"
         ]
        },
        {
         "key": 0,
         "length": 1,
         "op": "removerange"
        }
       ],
       "key": "display_name",
       "op": "patch"
      }
     ],
     "key": "kernelspec",
     "op": "patch"
    },
    {
     "diff": [
      {
       "diff": [
        {
         "key": 0,
         "length": 1,
         "op": "removerange"
        }
       ],
       "key": "version",
       "op": "patch"
      }
     ],
     "key": "language_info",
     "op": "patch"
    }
   ],
   "remote_diff": [
    {
     "diff": [
      {
       "diff": [
        {
         "key": 0,
         "op": "addrange",
         "valuelist": [
          "Python 3.10 (daphme)"
         ]
        },
        {
         "key": 0,
         "length": 1,
         "op": "removerange"
        }
       ],
       "key": "display_name",
       "op": "patch"
      }
     ],
     "key": "kernelspec",
     "op": "patch"
    },
    {
     "diff": [
      {
       "diff": [
        {
         "diff": [
          {
           "key": 3,
           "op": "addrange",
           "valuelist": "0"
          },
          {
           "key": 3,
           "length": 1,
           "op": "removerange"
          }
         ],
         "key": 0,
         "op": "patch"
        }
       ],
       "key": "version",
       "op": "patch"
      }
     ],
     "key": "language_info",
     "op": "patch"
    }
   ]
  },
  "toc-autonumbering": false
 },
 "nbformat": 4,
 "nbformat_minor": 5
}

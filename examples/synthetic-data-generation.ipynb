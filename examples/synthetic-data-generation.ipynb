{
 "cells": [
  {
   "cell_type": "code",
   "execution_count": 1,
   "id": "91edb174",
   "metadata": {
    "tags": []
   },
   "outputs": [],
   "source": [
    "import pandas as pd\n",
    "import numpy as np\n",
    "from datetime import datetime, timedelta\n",
    "from zoneinfo import ZoneInfo\n",
    "import matplotlib.pyplot as plt\n",
    "plt.style.use('seaborn-v0_8-muted')\n",
    "from matplotlib import cm\n",
    "import geopandas as gpd\n",
    "\n",
    "from pyproj import Transformer\n",
    "from concurrent.futures import ProcessPoolExecutor\n",
    "import concurrent.futures\n",
    "import multiprocessing\n",
    "from multiprocessing import Pool\n",
    "from functools import partial\n",
    "import numpy.random as npr\n",
    "import matplotlib.dates as mdates\n",
    "from itertools import product\n",
    "import copy\n",
    "import pickle\n",
    "from tqdm import tqdm\n",
    "\n",
    "import nomad.io.base as loader\n",
    "import nomad.city_gen as cg\n",
    "from nomad.city_gen import City, Building\n",
    "import nomad.traj_gen as tg\n",
    "from nomad.traj_gen import Agent, Population\n",
    "import nomad.stop_detection.ta_dbscan as DBSCAN\n",
    "import nomad.stop_detection.lachesis as Lachesis"
   ]
  },
  {
   "cell_type": "code",
   "execution_count": 2,
   "id": "20c0bafe",
   "metadata": {},
   "outputs": [],
   "source": [
    "city_geojson = gpd.read_file('garden_city.geojson')\n",
    "city = cg.load('garden-city.pkl')"
   ]
  },
  {
   "cell_type": "markdown",
   "id": "a57a894e",
   "metadata": {},
   "source": [
    "### Generate N agents"
   ]
  },
  {
   "cell_type": "markdown",
   "id": "cc04c017",
   "metadata": {},
   "source": [
    "The following code maps our Garden City coordinates to a location in the Atlantic Ocean (Atlantis?)."
   ]
  },
  {
   "cell_type": "code",
   "execution_count": 3,
   "id": "d4feb42d",
   "metadata": {
    "tags": []
   },
   "outputs": [],
   "source": [
    "def garden_city_to_lat_long(agent, sparse_traj=True, full_traj=False, diaries=True):\n",
    "    def project_city_blocks_to_web_mercator(df):\n",
    "        \"\"\"Convert (x, y) from 15m block units to Web Mercator meters via affine shift and projection.\"\"\"\n",
    "        transformer = Transformer.from_crs(\"EPSG:3857\", \"EPSG:4326\", always_xy=True)\n",
    "        df['x'] = 15 * df['x'] + 4265699\n",
    "        df['y'] = 15 * df['y'] - 4392976\n",
    "        if 'ha' in df:\n",
    "            df['ha'] = 15 * df['ha']\n",
    "        df['longitude'], df['latitude'] = transformer.transform(df['x'].values, df['y'].values)\n",
    "        df['date'] = df['datetime'].dt.date\n",
    "        return df\n",
    "\n",
    "    def finalize(df):\n",
    "        front = ['identifier', 'timestamp', 'longitude', 'latitude', 'x', 'y', 'date']\n",
    "        cols = [col for col in front if col in df] + [col for col in df.columns if col not in front]\n",
    "        return df[cols].rename(columns={'identifier': 'uid', 'timestamp': 'timestamp'}).reset_index(drop=True)\n",
    "\n",
    "    if sparse_traj:\n",
    "        agent.sparse_traj = finalize(project_city_blocks_to_web_mercator(agent.sparse_traj))\n",
    "    if full_traj:\n",
    "        agent.trajectory = finalize(project_city_blocks_to_web_mercator(agent.trajectory))\n",
    "        \n",
    "    if diaries:\n",
    "        diary = agent.diary.copy()\n",
    "        xs = []\n",
    "        ys = []\n",
    "        for loc in diary[\"location_id\"]:\n",
    "            if loc is None:\n",
    "                xs.append(None)\n",
    "                ys.append(None)\n",
    "            else:\n",
    "                pt = agent.city.buildings[loc].geometry.centroid\n",
    "                xs.append(pt.x)\n",
    "                ys.append(pt.y)\n",
    "        diary[\"x\"] = xs\n",
    "        diary[\"y\"] = ys\n",
    "        agent.diary = finalize(project_city_blocks_to_web_mercator(diary))"
   ]
  },
  {
   "cell_type": "markdown",
   "id": "1f6aee83",
   "metadata": {},
   "source": [
    "Initiate $N$ empty agents. "
   ]
  },
  {
   "cell_type": "code",
   "execution_count": 4,
   "id": "42c234a3",
   "metadata": {
    "tags": []
   },
   "outputs": [],
   "source": [
    "N = 5  # can modify\n",
    "\n",
    "population = Population(city)\n",
    "population.generate_agents(N=N, seed=1, name_count=1)"
   ]
  },
  {
   "cell_type": "markdown",
   "id": "816d570b",
   "metadata": {},
   "source": [
    "## Simple trajectory generation\n",
    "\n",
    "For simple trajectory generation tasks that don't require too much computation power and can be done on a personal laptop, the following code generates a trajectory for each agent and saves it to a csv."
   ]
  },
  {
   "cell_type": "code",
   "execution_count": 5,
   "id": "e515c381",
   "metadata": {},
   "outputs": [],
   "source": [
    "def generate_agent_trajectory(agent_id, agent, seed):\n",
    "    \n",
    "    beta_duration = npr.uniform(15, 130)\n",
    "    beta_start = max(npr.uniform(50, 600), beta_duration)\n",
    "    beta_ping = min(npr.uniform(4, 20), beta_duration//2)\n",
    "    print(beta_ping, beta_start, beta_duration)\n",
    "    agent.generate_trajectory(\n",
    "        datetime = \"2024-01-01T13:00 +02:00\",\n",
    "        end_time = pd.Timestamp('2024-02-18T13:30:00 +02:00'),\n",
    "        seed=1,\n",
    "        dt=2)\n",
    "    print('finished generating trajectory')\n",
    "    agent.sample_trajectory(\n",
    "        beta_start=beta_start,\n",
    "        beta_durations=beta_duration,\n",
    "        beta_ping = beta_ping,\n",
    "        seed=seed,\n",
    "        replace_sparse_traj=True)\n",
    "    \n",
    "    garden_city_to_lat_long(agent,\n",
    "                            sparse_traj=True,\n",
    "                            full_traj=False)\n",
    "    \n",
    "    return agent_id, copy.deepcopy(agent)"
   ]
  },
  {
   "cell_type": "code",
   "execution_count": 6,
   "id": "f28e9490",
   "metadata": {},
   "outputs": [
    {
     "data": {
      "text/plain": [
       "'allen'"
      ]
     },
     "execution_count": 6,
     "metadata": {},
     "output_type": "execute_result"
    }
   ],
   "source": [
    "agent_id, agent = [(agent_id, agent) for agent_id, agent in population.roster.items()][0]\n",
    "agent_id"
   ]
  },
  {
   "cell_type": "code",
   "execution_count": 7,
   "id": "ad5c3f84",
   "metadata": {
    "scrolled": true
   },
   "outputs": [
    {
     "name": "stdout",
     "output_type": "stream",
     "text": [
      "13.011000106056077 388.8686572209984 111.98815535488856\n",
      "finished generating trajectory\n"
     ]
    },
    {
     "data": {
      "text/plain": [
       "('allen', <nomad.traj_gen.Agent at 0x26f752b2320>)"
      ]
     },
     "execution_count": 7,
     "metadata": {},
     "output_type": "execute_result"
    }
   ],
   "source": [
    "generate_agent_trajectory(agent_id, agent, 1)"
   ]
  },
  {
   "cell_type": "code",
   "execution_count": 8,
   "id": "c76b179d",
   "metadata": {},
   "outputs": [
    {
     "name": "stderr",
     "output_type": "stream",
     "text": [
      "Generating trajectories: 100%|███████████████████████████████████████████████████████████| 5/5 [00:21<00:00,  4.26s/it]\n"
     ]
    }
   ],
   "source": [
    "def generate_trajectory_data(agent_id, agent, seed):\n",
    "    agent.reset_trajectory()\n",
    "    \n",
    "    agent.generate_trajectory(\n",
    "        datetime = \"2024-01-01T13:00 +02:00\",\n",
    "        end_time = pd.Timestamp('2024-02-18T13:30:00 +02:00'),\n",
    "        seed=1,\n",
    "        dt=2)\n",
    "\n",
    "    beta_duration = npr.uniform(25, 170)\n",
    "    beta_start = max(npr.uniform(25, 520), beta_duration)\n",
    "    beta_ping = min(npr.uniform(3, 15), beta_duration//2)\n",
    "\n",
    "    agent.sample_trajectory(\n",
    "        beta_start=beta_start,\n",
    "        beta_durations=beta_duration,\n",
    "        beta_ping=beta_ping,\n",
    "        seed=seed,\n",
    "        replace_sparse_traj=True)\n",
    "\n",
    "    garden_city_to_lat_long(agent, sparse_traj=True, full_traj=False)\n",
    "    return None\n",
    "\n",
    "# Generate trajectories with progress bar\n",
    "for agent_id, agent in tqdm(population.roster.items(), desc=\"Generating trajectories\"):\n",
    "    generate_trajectory_data(agent_id, agent, seed=1)"
   ]
  },
  {
   "cell_type": "code",
   "execution_count": 13,
   "id": "b065ed24",
   "metadata": {},
   "outputs": [
    {
     "data": {
      "text/html": [
       "<div>\n",
       "<style scoped>\n",
       "    .dataframe tbody tr th:only-of-type {\n",
       "        vertical-align: middle;\n",
       "    }\n",
       "\n",
       "    .dataframe tbody tr th {\n",
       "        vertical-align: top;\n",
       "    }\n",
       "\n",
       "    .dataframe thead th {\n",
       "        text-align: right;\n",
       "    }\n",
       "</style>\n",
       "<table border=\"1\" class=\"dataframe\">\n",
       "  <thead>\n",
       "    <tr style=\"text-align: right;\">\n",
       "      <th></th>\n",
       "      <th>uid</th>\n",
       "      <th>timestamp</th>\n",
       "      <th>longitude</th>\n",
       "      <th>latitude</th>\n",
       "      <th>x</th>\n",
       "      <th>y</th>\n",
       "      <th>date</th>\n",
       "      <th>local_timestamp</th>\n",
       "      <th>ha</th>\n",
       "    </tr>\n",
       "  </thead>\n",
       "  <tbody>\n",
       "    <tr>\n",
       "      <th>0</th>\n",
       "      <td>brattain</td>\n",
       "      <td>1704120840</td>\n",
       "      <td>38.320814</td>\n",
       "      <td>-36.667557</td>\n",
       "      <td>4.265853e+06</td>\n",
       "      <td>-4.392869e+06</td>\n",
       "      <td>2024-01-01</td>\n",
       "      <td>2024-01-01 16:54:00+02:00</td>\n",
       "      <td>11.25</td>\n",
       "    </tr>\n",
       "    <tr>\n",
       "      <th>1</th>\n",
       "      <td>brattain</td>\n",
       "      <td>1704151800</td>\n",
       "      <td>38.319955</td>\n",
       "      <td>-36.666516</td>\n",
       "      <td>4.265758e+06</td>\n",
       "      <td>-4.392725e+06</td>\n",
       "      <td>2024-01-02</td>\n",
       "      <td>2024-01-02 01:30:00+02:00</td>\n",
       "      <td>11.25</td>\n",
       "    </tr>\n",
       "    <tr>\n",
       "      <th>2</th>\n",
       "      <td>brattain</td>\n",
       "      <td>1704151920</td>\n",
       "      <td>38.320091</td>\n",
       "      <td>-36.666524</td>\n",
       "      <td>4.265773e+06</td>\n",
       "      <td>-4.392726e+06</td>\n",
       "      <td>2024-01-02</td>\n",
       "      <td>2024-01-02 01:32:00+02:00</td>\n",
       "      <td>11.25</td>\n",
       "    </tr>\n",
       "    <tr>\n",
       "      <th>3</th>\n",
       "      <td>brattain</td>\n",
       "      <td>1704152160</td>\n",
       "      <td>38.320003</td>\n",
       "      <td>-36.666561</td>\n",
       "      <td>4.265763e+06</td>\n",
       "      <td>-4.392731e+06</td>\n",
       "      <td>2024-01-02</td>\n",
       "      <td>2024-01-02 01:36:00+02:00</td>\n",
       "      <td>11.25</td>\n",
       "    </tr>\n",
       "    <tr>\n",
       "      <th>4</th>\n",
       "      <td>brattain</td>\n",
       "      <td>1704152520</td>\n",
       "      <td>38.319869</td>\n",
       "      <td>-36.666589</td>\n",
       "      <td>4.265748e+06</td>\n",
       "      <td>-4.392735e+06</td>\n",
       "      <td>2024-01-02</td>\n",
       "      <td>2024-01-02 01:42:00+02:00</td>\n",
       "      <td>11.25</td>\n",
       "    </tr>\n",
       "    <tr>\n",
       "      <th>...</th>\n",
       "      <td>...</td>\n",
       "      <td>...</td>\n",
       "      <td>...</td>\n",
       "      <td>...</td>\n",
       "      <td>...</td>\n",
       "      <td>...</td>\n",
       "      <td>...</td>\n",
       "      <td>...</td>\n",
       "      <td>...</td>\n",
       "    </tr>\n",
       "    <tr>\n",
       "      <th>1191</th>\n",
       "      <td>brattain</td>\n",
       "      <td>1706091360</td>\n",
       "      <td>38.320413</td>\n",
       "      <td>-36.666976</td>\n",
       "      <td>4.265809e+06</td>\n",
       "      <td>-4.392789e+06</td>\n",
       "      <td>2024-01-24</td>\n",
       "      <td>2024-01-24 12:16:00+02:00</td>\n",
       "      <td>11.25</td>\n",
       "    </tr>\n",
       "    <tr>\n",
       "      <th>1192</th>\n",
       "      <td>brattain</td>\n",
       "      <td>1706091720</td>\n",
       "      <td>38.320491</td>\n",
       "      <td>-36.666954</td>\n",
       "      <td>4.265818e+06</td>\n",
       "      <td>-4.392786e+06</td>\n",
       "      <td>2024-01-24</td>\n",
       "      <td>2024-01-24 12:22:00+02:00</td>\n",
       "      <td>11.25</td>\n",
       "    </tr>\n",
       "    <tr>\n",
       "      <th>1193</th>\n",
       "      <td>brattain</td>\n",
       "      <td>1706092320</td>\n",
       "      <td>38.320460</td>\n",
       "      <td>-36.666951</td>\n",
       "      <td>4.265814e+06</td>\n",
       "      <td>-4.392785e+06</td>\n",
       "      <td>2024-01-24</td>\n",
       "      <td>2024-01-24 12:32:00+02:00</td>\n",
       "      <td>11.25</td>\n",
       "    </tr>\n",
       "    <tr>\n",
       "      <th>1194</th>\n",
       "      <td>brattain</td>\n",
       "      <td>1706092560</td>\n",
       "      <td>38.320602</td>\n",
       "      <td>-36.666953</td>\n",
       "      <td>4.265830e+06</td>\n",
       "      <td>-4.392785e+06</td>\n",
       "      <td>2024-01-24</td>\n",
       "      <td>2024-01-24 12:36:00+02:00</td>\n",
       "      <td>11.25</td>\n",
       "    </tr>\n",
       "    <tr>\n",
       "      <th>1195</th>\n",
       "      <td>brattain</td>\n",
       "      <td>1706093640</td>\n",
       "      <td>38.320462</td>\n",
       "      <td>-36.666933</td>\n",
       "      <td>4.265814e+06</td>\n",
       "      <td>-4.392783e+06</td>\n",
       "      <td>2024-01-24</td>\n",
       "      <td>2024-01-24 12:54:00+02:00</td>\n",
       "      <td>11.25</td>\n",
       "    </tr>\n",
       "  </tbody>\n",
       "</table>\n",
       "<p>1196 rows × 9 columns</p>\n",
       "</div>"
      ],
      "text/plain": [
       "           uid   timestamp  longitude   latitude             x             y  \\\n",
       "0     brattain  1704120840  38.320814 -36.667557  4.265853e+06 -4.392869e+06   \n",
       "1     brattain  1704151800  38.319955 -36.666516  4.265758e+06 -4.392725e+06   \n",
       "2     brattain  1704151920  38.320091 -36.666524  4.265773e+06 -4.392726e+06   \n",
       "3     brattain  1704152160  38.320003 -36.666561  4.265763e+06 -4.392731e+06   \n",
       "4     brattain  1704152520  38.319869 -36.666589  4.265748e+06 -4.392735e+06   \n",
       "...        ...         ...        ...        ...           ...           ...   \n",
       "1191  brattain  1706091360  38.320413 -36.666976  4.265809e+06 -4.392789e+06   \n",
       "1192  brattain  1706091720  38.320491 -36.666954  4.265818e+06 -4.392786e+06   \n",
       "1193  brattain  1706092320  38.320460 -36.666951  4.265814e+06 -4.392785e+06   \n",
       "1194  brattain  1706092560  38.320602 -36.666953  4.265830e+06 -4.392785e+06   \n",
       "1195  brattain  1706093640  38.320462 -36.666933  4.265814e+06 -4.392783e+06   \n",
       "\n",
       "            date           local_timestamp     ha  \n",
       "0     2024-01-01 2024-01-01 16:54:00+02:00  11.25  \n",
       "1     2024-01-02 2024-01-02 01:30:00+02:00  11.25  \n",
       "2     2024-01-02 2024-01-02 01:32:00+02:00  11.25  \n",
       "3     2024-01-02 2024-01-02 01:36:00+02:00  11.25  \n",
       "4     2024-01-02 2024-01-02 01:42:00+02:00  11.25  \n",
       "...          ...                       ...    ...  \n",
       "1191  2024-01-24 2024-01-24 12:16:00+02:00  11.25  \n",
       "1192  2024-01-24 2024-01-24 12:22:00+02:00  11.25  \n",
       "1193  2024-01-24 2024-01-24 12:32:00+02:00  11.25  \n",
       "1194  2024-01-24 2024-01-24 12:36:00+02:00  11.25  \n",
       "1195  2024-01-24 2024-01-24 12:54:00+02:00  11.25  \n",
       "\n",
       "[1196 rows x 9 columns]"
      ]
     },
     "execution_count": 13,
     "metadata": {},
     "output_type": "execute_result"
    }
   ],
   "source": [
    "agent.sparse_traj"
   ]
  },
  {
   "cell_type": "code",
   "execution_count": null,
   "id": "d9efdbc3",
   "metadata": {},
   "outputs": [],
   "source": [
    "traj_cols = {\n",
    "    \"user_id\": \"uid\",\n",
    "    \"timestamp\": \"timestamp\",\n",
    "    \"latitude\": \"latitude\",\n",
    "    \"longitude\": \"longitude\",\n",
    "    \"x\": \"x\",\n",
    "    \"y\": \"y\",\n",
    "    \"duration\": \"duration\",\n",
    "    \"datetime\": \"datetime\"}\n",
    "# Save only sparse trajectories and diaries\n",
    "population.save_pop(\n",
    "    sparse_path=\"long_trajs/sparse_traj/\",\n",
    "    partition_cols={\"sparse_traj\": [\"date\"]},\n",
    "    traj_cols=traj_cols\n",
    ")"
   ]
  },
  {
   "cell_type": "code",
   "execution_count": null,
   "id": "e6bb399d",
   "metadata": {
    "scrolled": true
   },
   "outputs": [],
   "source": [
    "sparse_df = loader.from_file(\"output/sparse_traj/\", format=\"parquet\", traj_cols=traj_cols,\n",
    "                      parse_dates=True)\n",
    "diaries_df = loader.from_file(\"output/diaries/\", format=\"parquet\", traj_cols=traj_cols,\n",
    "                       parse_dates=True)"
   ]
  },
  {
   "cell_type": "code",
   "execution_count": null,
   "id": "25ceab97",
   "metadata": {},
   "outputs": [],
   "source": [
    "diaries_df.head()"
   ]
  },
  {
   "cell_type": "code",
   "execution_count": null,
   "id": "bea8c574",
   "metadata": {},
   "outputs": [],
   "source": [
    "sparse_df.head()"
   ]
  },
  {
   "cell_type": "markdown",
   "id": "b12bf4dc",
   "metadata": {},
   "source": [
    "## Parallelized Trajectory Generation\n",
    "\n",
    "For larger trajectory generation tasks that require a lot of compute power, we can parallelize the trajectory generation using the following code. We generate ground-truth trajectories in agent-month \"chunks\", sparsify each chunk, then reset the ground-truth trajectory field to lessen the memory usage. "
   ]
  },
  {
   "cell_type": "code",
   "execution_count": null,
   "id": "d41ca54e",
   "metadata": {
    "tags": []
   },
   "outputs": [],
   "source": [
    "# Using parallel processing (e.g., using a cluster)\n",
    "%%time\n",
    "\n",
    "def generate_agent_trajectory(agent_id, agent, seed):\n",
    "    \n",
    "    beta_duration = npr.uniform(15, 180)\n",
    "    beta_start = max(npr.uniform(60, 1200), beta_duration*3)\n",
    "    beta_ping = npr.uniform(1.5, 30)\n",
    "    \n",
    "    param = (beta_start, beta_duration, beta_ping)\n",
    "    \n",
    "    for month in range(1,13):\n",
    "        days = calendar.monthrange(2024, month)[1]\n",
    "        population_n.generate_trajectory(agent, \n",
    "                                         T=datetime(2024, month, days, hour=23, minute=59), \n",
    "                                         seed=seed)\n",
    "    \n",
    "        agent.sample_traj_hier_nhpp(*param, \n",
    "                                    seed=seed,\n",
    "                                    reset_traj=True)\n",
    "    \n",
    "    garden_city_to_lat_long(agent,\n",
    "                            sparse_traj=True,\n",
    "                            full_traj=False)\n",
    "    \n",
    "    return agent_id, copy.deepcopy(agent)\n",
    "\n",
    "manager = multiprocessing.Manager()\n",
    "shared_roster = manager.dict(population_n.roster)\n",
    "\n",
    "start = 6001  # 12001  # can modify\n",
    "end = 12001   # 18001  # can modify\n",
    "roster = dict(population_n.roster)\n",
    "batch = islice(roster.items(), start, end)\n",
    "\n",
    "with ProcessPoolExecutor() as executor:\n",
    "    with tqdm(total=(end-start), desc=\"Processing agents\") as pbar:\n",
    "        futures = [\n",
    "            executor.submit(generate_agent_trajectory, agent_id, agent, i+15000)\n",
    "            for i, (agent_id, agent) in enumerate(batch, start=start)\n",
    "        ]\n",
    "        results = []\n",
    "        for future in futures:\n",
    "            results.append(future.result())\n",
    "            pbar.update(1)\n",
    "\n",
    "for agent_id, agent in results:\n",
    "    population_n.roster[agent_id] = agent"
   ]
  },
  {
   "cell_type": "markdown",
   "id": "42358139",
   "metadata": {},
   "source": [
    "This code saves the generated trajectories in a parquet file, using the date as the partition column."
   ]
  },
  {
   "cell_type": "code",
   "execution_count": null,
   "id": "494abed2",
   "metadata": {
    "tags": []
   },
   "outputs": [],
   "source": [
    "partition_cols = {\n",
    "    'sparse_traj': ['date'],\n",
    "    'diaries': ['identifier']\n",
    "}\n",
    "\n",
    "roster = dict(islice(population_n.roster.items(), start, end))\n",
    "\n",
    "population_n.save_pop(bucket=\"synthetic-raw-data\",\n",
    "                      prefix=f\"agents-{start+15000}-{end+15000-1}/\",\n",
    "                      save_full_traj=False,\n",
    "                      save_sparse_traj=True,\n",
    "                      save_homes=True,\n",
    "                      save_diaries=True,\n",
    "                      partition_cols=partition_cols,\n",
    "                      roster=roster)"
   ]
  },
  {
   "cell_type": "code",
   "execution_count": null,
   "id": "fa5f5083",
   "metadata": {
    "tags": []
   },
   "outputs": [],
   "source": [
    "# Load the Parquet files\n",
    "s3_path = \"s3://synthetic-raw-data/agents-1-1001/sparse_trajectories.parquet/\"\n",
    "df1 = pd.read_parquet(s3_path)\n",
    "s3_path = \"s3://synthetic-raw-data/agents-1001-2000/sparse_trajectories.parquet/\"\n",
    "df2 = pd.read_parquet(s3_path)"
   ]
  }
 ],
 "metadata": {
  "kernelspec": {
   "display_name": "Python 3.10 (daphme)",
   "language": "python",
   "name": "daphme"
  },
  "language_info": {
   "codemirror_mode": {
    "name": "ipython",
    "version": 3
   },
   "file_extension": ".py",
   "mimetype": "text/x-python",
   "name": "python",
   "nbconvert_exporter": "python",
   "pygments_lexer": "ipython3",
   "version": "3.10.0"
  },
  "nbdime-conflicts": {
   "local_diff": [
    {
     "diff": [
      {
       "diff": [
        {
         "key": 0,
         "op": "addrange",
         "valuelist": [
          "Python 3 (ipykernel)"
         ]
        },
        {
         "key": 0,
         "length": 1,
         "op": "removerange"
        }
       ],
       "key": "display_name",
       "op": "patch"
      }
     ],
     "key": "kernelspec",
     "op": "patch"
    },
    {
     "diff": [
      {
       "diff": [
        {
         "key": 0,
         "length": 1,
         "op": "removerange"
        }
       ],
       "key": "version",
       "op": "patch"
      }
     ],
     "key": "language_info",
     "op": "patch"
    }
   ],
   "remote_diff": [
    {
     "diff": [
      {
       "diff": [
        {
         "key": 0,
         "op": "addrange",
         "valuelist": [
          "Python 3.10 (daphme)"
         ]
        },
        {
         "key": 0,
         "length": 1,
         "op": "removerange"
        }
       ],
       "key": "display_name",
       "op": "patch"
      }
     ],
     "key": "kernelspec",
     "op": "patch"
    },
    {
     "diff": [
      {
       "diff": [
        {
         "diff": [
          {
           "key": 3,
           "op": "addrange",
           "valuelist": "0"
          },
          {
           "key": 3,
           "length": 1,
           "op": "removerange"
          }
         ],
         "key": 0,
         "op": "patch"
        }
       ],
       "key": "version",
       "op": "patch"
      }
     ],
     "key": "language_info",
     "op": "patch"
    }
   ]
  },
  "toc-autonumbering": false
 },
 "nbformat": 4,
 "nbformat_minor": 5
}

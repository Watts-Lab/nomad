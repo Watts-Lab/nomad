{
 "cells": [
  {
   "cell_type": "code",
   "execution_count": 1,
   "id": "3d2fb0ef-73cc-4592-8ce5-9ad5f3027e45",
   "metadata": {},
   "outputs": [],
   "source": [
    "import pandas as pd\n",
    "import geopandas as gpd\n",
    "import shapely\n",
    "import nomad.io.base as loader\n",
    "import numpy as np\n",
    "\n",
    "import geopandas as gpd\n",
    "from shapely.geometry import LineString\n",
    "from intervaltree import IntervalTree"
   ]
  },
  {
   "cell_type": "code",
   "execution_count": 2,
   "id": "139c3d06-7bc1-4669-a2bf-f04d8b3bd6e5",
   "metadata": {},
   "outputs": [],
   "source": [
    "traj_cols = {'uid':'uid',\n",
    "             'x':'x',\n",
    "             'y':'y'}\n",
    "\n",
    "diaries_df = loader.from_file(\"diaries/\", format=\"parquet\", traj_cols=traj_cols,\n",
    "                       parse_dates=True)\n",
    "user1 = diaries_df.uid.unique()[0]\n",
    "user2 = diaries_df.uid.unique()[10]\n",
    "diary1 = diaries_df.loc[diaries_df.uid == user1]\n",
    "diary2 = diaries_df.loc[diaries_df.uid == user2]"
   ]
  },
  {
   "cell_type": "code",
   "execution_count": 35,
   "id": "51c35130-9e0f-4c63-a420-0780b5845d36",
   "metadata": {},
   "outputs": [],
   "source": [
    "def overlapping_visits(df1, df2, match_location=False):\n",
    "    df1 = df1.loc[~df1.location.isna()].copy()\n",
    "    df2 = df2.loc[~df2.location.isna()].copy()\n",
    "    # Raise error if either df has more than one distinct uid\n",
    "    for df in (df1, df2):\n",
    "        if 'uid' in df.columns and df['uid'].nunique() > 1:\n",
    "            raise ValueError(\"Each dataframe must have at most one unique uid\")\n",
    "    keep_uid = ('uid' in df1.columns and 'uid' in df2.columns \n",
    "                and df1['uid'].iloc[0] != df2['uid'].iloc[0])\n",
    "\n",
    "    df1['end_timestamp'] = df1['timestamp'] + df1['duration'] * 60\n",
    "    df2['end_timestamp'] = df2['timestamp'] + df2['duration'] * 60\n",
    "\n",
    "    if match_location:\n",
    "        df1 = df1[df1['location'].notna()]\n",
    "        df2 = df2[df2['location'].notna()]\n",
    "        merged = df1.merge(df2, on='location', suffixes=('_left','_right'))\n",
    "    else:\n",
    "        merged = df1.merge(df2, how='cross', suffixes=('_left','_right'))\n",
    "\n",
    "    cond = (\n",
    "        (merged['timestamp_left'] < merged['end_timestamp_right']) &\n",
    "        (merged['timestamp_right'] < merged['end_timestamp_left'])\n",
    "    )\n",
    "    merged = merged.loc[cond]\n",
    "\n",
    "    start_max = merged[['timestamp_left','timestamp_right']].max(axis=1)\n",
    "    end_min   = merged[['end_timestamp_left','end_timestamp_right']].min(axis=1)\n",
    "    merged['overlap_duration'] = ((end_min - start_max) // 60).astype(int)\n",
    "\n",
    "    if match_location:\n",
    "        cols = ['timestamp_left','timestamp_right','location','overlap_duration']\n",
    "    else:\n",
    "        cols = ['timestamp_left','timestamp_right','location_left','location_right','overlap_duration']\n",
    "    if keep_uid:\n",
    "        cols += ['uid_left','uid_right']\n",
    "\n",
    "    return merged[cols].reset_index(drop=True)\n",
    "\n",
    "def compute_visitation_errors(overlaps, truth_df):\n",
    "    n_truth = truth_df['timestamp'].nunique()\n",
    "    gt_overlapped = set(overlaps['timestamp_right'].unique())\n",
    "    missed = (n_truth - len(gt_overlapped)) / n_truth\n",
    "\n",
    "    merged_ids = set()\n",
    "    for pred_ts, group in overlaps.groupby('timestamp_left'):\n",
    "        if group['location_right'].nunique() > 1:\n",
    "            merged_ids.update(group['timestamp_right'].unique())\n",
    "    merged = len(merged_ids) / n_truth\n",
    "\n",
    "    split_ids = set()\n",
    "    same_loc = overlaps[overlaps['location_left'] == overlaps['location_right']]\n",
    "    for gt_ts, group in same_loc.groupby('timestamp_right'):\n",
    "        if group['timestamp_left'].nunique() > 1:\n",
    "            split_ids.add(gt_ts)\n",
    "    split = len(split_ids) / n_truth\n",
    "\n",
    "    return {'missed_fraction': missed,\n",
    "            'merged_fraction': merged,\n",
    "            'split_fraction': split}\n",
    "def compute_precision_recall_f1(overlaps, pred_df, truth_df):\n",
    "    total_pred = pred_df['duration'].sum()\n",
    "    total_truth = truth_df['duration'].sum()\n",
    "\n",
    "    tp = overlaps.loc[\n",
    "        overlaps['location_left'] == overlaps['location_right'],\n",
    "        'overlap_duration'\n",
    "    ].sum()\n",
    "\n",
    "    precision = tp / total_pred if total_pred > 0 else 0.0\n",
    "    recall = tp / total_truth if total_truth > 0 else 0.0\n",
    "    f1 = (2 * precision * recall / (precision + recall)) if (precision + recall) > 0 else 0.0\n",
    "\n",
    "    return {'precision': precision,\n",
    "            'recall': recall,\n",
    "            'f1': f1}"
   ]
  },
  {
   "cell_type": "code",
   "execution_count": 14,
   "id": "b269b273-751b-40fa-883a-430fbffa3466",
   "metadata": {},
   "outputs": [
    {
     "name": "stdout",
     "output_type": "stream",
     "text": [
      "11.6 ms ± 605 μs per loop (mean ± std. dev. of 7 runs, 20 loops each)\n"
     ]
    }
   ],
   "source": [
    "%%timeit -n40\n",
    "df = overlapping_visits(diary1, diary2, False)"
   ]
  },
  {
   "cell_type": "code",
   "execution_count": 36,
   "id": "e0e83346-8e18-45da-9fb7-a45aa2fe806e",
   "metadata": {},
   "outputs": [
    {
     "name": "stdout",
     "output_type": "stream",
     "text": [
      "Visitation Errors: {'missed_fraction': 0.4966887417218543, 'merged_fraction': 0.0, 'split_fraction': 0.0}\n",
      "Precision / Recall / F1: {'precision': np.float64(0.32796934865900385), 'recall': np.float64(0.32796934865900385), 'f1': np.float64(0.32796934865900385)}\n"
     ]
    }
   ],
   "source": [
    "# Step 1: Compute overlaps\n",
    "overlaps = overlapping_visits(diary1, diary2, match_location=False)\n",
    "\n",
    "# Step 2: Compute visitation errors (missed, merged, split)\n",
    "errors = compute_visitation_errors(overlaps, diary2)\n",
    "print(\"Visitation Errors:\", errors)\n",
    "\n",
    "# Step 3: Compute precision, recall, and F1\n",
    "prf1 = compute_precision_recall_f1(overlaps, diary1, diary2)\n",
    "print(\"Precision / Recall / F1:\", prf1)"
   ]
  },
  {
   "cell_type": "code",
   "execution_count": null,
   "id": "37410cd6-9b14-43ec-838c-a4366059f791",
   "metadata": {},
   "outputs": [],
   "source": []
  }
 ],
 "metadata": {
  "kernelspec": {
   "display_name": "Python 3.10 (daphme)",
   "language": "python",
   "name": "daphme"
  },
  "language_info": {
   "codemirror_mode": {
    "name": "ipython",
    "version": 3
   },
   "file_extension": ".py",
   "mimetype": "text/x-python",
   "name": "python",
   "nbconvert_exporter": "python",
   "pygments_lexer": "ipython3",
   "version": "3.10.0"
  }
 },
 "nbformat": 4,
 "nbformat_minor": 5
}

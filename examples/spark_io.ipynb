{
 "cells": [
  {
   "cell_type": "code",
   "execution_count": 1,
   "id": "bb6fd627-37e2-41c2-adcc-71e410ce83c7",
   "metadata": {},
   "outputs": [],
   "source": [
    "import os\n",
    "# explicitly add dependencies for hadoop-aws BEFORE importing pyspark\n",
    "os.environ[\"PYSPARK_SUBMIT_ARGS\"] = \"--packages org.apache.hadoop:hadoop-aws:3.3.4,com.amazonaws:aws-java-sdk-bundle:1.12.375 pyspark-shell\""
   ]
  },
  {
   "cell_type": "code",
   "execution_count": 2,
   "id": "2d4c33d5-e05d-4f47-af47-5e3e8938bd9f",
   "metadata": {},
   "outputs": [
    {
     "name": "stdout",
     "output_type": "stream",
     "text": [
      "3.5.3\n"
     ]
    }
   ],
   "source": [
    "from pyspark.sql import SparkSession\n",
    "from pyspark import SparkContext, SparkConf\n",
    "import pyspark\n",
    "print(pyspark.__version__)"
   ]
  },
  {
   "cell_type": "code",
   "execution_count": 3,
   "id": "37960ca4-9970-4099-b657-19cdd553bed5",
   "metadata": {},
   "outputs": [],
   "source": [
    "conf = SparkConf() \\\n",
    "    .setAppName(\"S3toSpark\") \\\n",
    "    .setMaster(\"local[12]\") \\\n",
    "    .set(\"spark.driver.memory\", \"8g\") \\\n",
    "    .set(\"spark.executor.memory\", \"8g\")\n",
    "\n",
    "# Creating Spark Context\n",
    "sc = SparkContext(conf=conf)\n",
    "\n",
    "# Creating Spark Session\n",
    "spark = SparkSession(sc)\n",
    "\n",
    "# Configure S3 access\n",
    "hadoopConf = sc._jsc.hadoopConfiguration()\n",
    "hadoopConf.set(\"fs.s3a.aws.credentials.provider\", \"com.amazonaws.auth.DefaultAWSCredentialsProviderChain\")"
   ]
  },
  {
   "cell_type": "code",
   "execution_count": null,
   "id": "6949baad-fa39-4dee-be82-67048b15050d",
   "metadata": {},
   "outputs": [],
   "source": [
    "spark.stop()"
   ]
  },
  {
   "cell_type": "code",
   "execution_count": null,
   "id": "b66f070a-4968-4865-a845-1ef511b100d3",
   "metadata": {},
   "outputs": [],
   "source": [
    "# Ensure that hadoop version matches\n",
    "print(f\"Hadoop version: {spark._jvm.org.apache.hadoop.util.VersionInfo.getVersion()}\")"
   ]
  },
  {
   "cell_type": "code",
   "execution_count": 7,
   "id": "14063c2c-66e2-47b5-82db-ed3b0ee7131d",
   "metadata": {},
   "outputs": [],
   "source": [
    "df = spark.read.parquet(\"s3a://synthetic-raw-data/agents-1-1000/sparse_trajectories.parquet/date=2024-01-01/\")"
   ]
  },
  {
   "cell_type": "code",
   "execution_count": 8,
   "id": "28c46bf0-17e2-4fce-bfa1-ad176ea75a84",
   "metadata": {},
   "outputs": [
    {
     "name": "stdout",
     "output_type": "stream",
     "text": [
      "+-----------------+----------+------------------+-------------------+\n",
      "|              uid| timestamp|          latitude|          longitude|\n",
      "+-----------------+----------+------------------+-------------------+\n",
      "|wonderful_swirles|1704112320| 38.31977888968526| -36.66623716388471|\n",
      "|wonderful_swirles|1704112740| 38.31978092355675| -36.66619177947762|\n",
      "|wonderful_swirles|1704150720| 38.32087537360613|  -36.6675107761088|\n",
      "|wonderful_swirles|1704150900| 38.32092079030161| -36.66743667774099|\n",
      "|wonderful_swirles|1704151440| 38.32087916999659| -36.66751001685735|\n",
      "|wonderful_swirles|1704152520| 38.32077573889484| -36.66752938360467|\n",
      "|wonderful_swirles|1704152700| 38.32078756541204| -36.66752601581804|\n",
      "|wonderful_swirles|1704153000| 38.32069316085223| -36.66747002932541|\n",
      "|wonderful_swirles|1704153360| 38.32081242027412|-36.667519540904614|\n",
      "|wonderful_swirles|1704153540| 38.32080058597968| -36.66744373246204|\n",
      "| youthful_galileo|1704113640| 38.32065371216377|-36.667227201537834|\n",
      "| youthful_galileo|1704114060|  38.3212074686445| -36.66710393105097|\n",
      "| youthful_galileo|1704114840|  38.3221278007489| -36.66683778630103|\n",
      "| youthful_galileo|1704115020| 38.32209989657558|  -36.6667246564991|\n",
      "| youthful_galileo|1704115200| 38.32203310219631|-36.666786088398354|\n",
      "| youthful_galileo|1704116160| 38.32209693537453| -36.66718238392165|\n",
      "| youthful_galileo|1704138660| 38.32050143674272|-36.666808672688354|\n",
      "| youthful_galileo|1704139620|38.320517196403436|-36.666845752627715|\n",
      "| youthful_galileo|1704139680|38.320500272253334| -36.66688519472261|\n",
      "| youthful_galileo|1704139920|38.320402915857215| -36.66682996255925|\n",
      "+-----------------+----------+------------------+-------------------+\n",
      "only showing top 20 rows\n",
      "\n"
     ]
    }
   ],
   "source": [
    "df.show()"
   ]
  },
  {
   "cell_type": "code",
   "execution_count": null,
   "id": "cfb6984a-3be1-43d2-93c9-151194c3ef75",
   "metadata": {},
   "outputs": [],
   "source": []
  }
 ],
 "metadata": {
  "kernelspec": {
   "display_name": "Python (PySpark)",
   "language": "python",
   "name": "pyspark_env"
  },
  "language_info": {
   "codemirror_mode": {
    "name": "ipython",
    "version": 3
   },
   "file_extension": ".py",
   "mimetype": "text/x-python",
   "name": "python",
   "nbconvert_exporter": "python",
   "pygments_lexer": "ipython3",
   "version": "3.10.0"
  }
 },
 "nbformat": 4,
 "nbformat_minor": 5
}
